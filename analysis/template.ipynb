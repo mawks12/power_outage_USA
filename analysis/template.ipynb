{
 "cells": [
  {
   "cell_type": "markdown",
   "metadata": {},
   "source": [
    "# Your Title Here\n",
    "\n",
    "**Name(s)**: (your name(s) here)\n",
    "\n",
    "**Website Link**: (your website link)"
   ]
  },
  {
   "cell_type": "code",
   "execution_count": 2,
   "metadata": {
    "ExecuteTime": {
     "end_time": "2019-10-31T23:36:28.652554Z",
     "start_time": "2019-10-31T23:36:27.180520Z"
    }
   },
   "outputs": [],
   "source": [
    "import pandas as pd\n",
    "import numpy as np\n",
    "from pathlib import Path\n",
    "from scipy import stats\n",
    "import plotly.express as px\n",
    "pd.options.plotting.backend = 'plotly'\n",
    "dataloc = Path('data')\n",
    "data_raw = pd.read_excel(dataloc / 'outage.xlsx.xls')\n",
    "\n",
    "# from dsc80_utils import * # Feel free to uncomment and use this."
   ]
  },
  {
   "cell_type": "markdown",
   "metadata": {},
   "source": [
    "## Step 1: Introduction"
   ]
  },
  {
   "cell_type": "markdown",
   "metadata": {
    "ExecuteTime": {
     "end_time": "2019-10-31T23:36:28.657068Z",
     "start_time": "2019-10-31T23:36:28.654650Z"
    }
   },
   "source": [
    "I'm perticularly interested in the the number of weather related outaged over time, and if the effects of global warming can be seen in this dataset using the weather related outages as a proxy. I'm also interested in if there is a correlation between the population density of an area and things like outage duration and frequency. this is much harder to study since the data is grouped by state and not the locaiton where the outage occured."
   ]
  },
  {
   "cell_type": "markdown",
   "metadata": {},
   "source": [
    "## Step 2: Data Cleaning and Exploratory Data Analysis"
   ]
  },
  {
   "cell_type": "markdown",
   "metadata": {},
   "source": [
    "Format all of the data and modify time columns to encode all data in correct format for analysis."
   ]
  },
  {
   "cell_type": "code",
   "execution_count": 3,
   "metadata": {},
   "outputs": [
    {
     "name": "stderr",
     "output_type": "stream",
     "text": [
      "/Users/martinhawks/miniconda3/envs/dsc80/lib/python3.8/site-packages/pandas/core/indexing.py:1773: SettingWithCopyWarning: \n",
      "A value is trying to be set on a copy of a slice from a DataFrame.\n",
      "Try using .loc[row_indexer,col_indexer] = value instead\n",
      "\n",
      "See the caveats in the documentation: https://pandas.pydata.org/pandas-docs/stable/user_guide/indexing.html#returning-a-view-versus-a-copy\n",
      "  self._setitem_single_column(ilocs[0], value, pi)\n",
      "/Users/martinhawks/miniconda3/envs/dsc80/lib/python3.8/site-packages/pandas/core/indexing.py:1667: SettingWithCopyWarning: \n",
      "A value is trying to be set on a copy of a slice from a DataFrame.\n",
      "Try using .loc[row_indexer,col_indexer] = value instead\n",
      "\n",
      "See the caveats in the documentation: https://pandas.pydata.org/pandas-docs/stable/user_guide/indexing.html#returning-a-view-versus-a-copy\n",
      "  self.obj[key] = value\n"
     ]
    }
   ],
   "source": [
    "formated_data = pd.DataFrame(data_raw.iloc[6:, 1:].to_numpy(), columns=data_raw.iloc[4, 1:])\n",
    "temp_data = formated_data.dropna(subset=['OBS', 'OUTAGE.START.DATE', 'OUTAGE.START.TIME', 'OUTAGE.RESTORATION.DATE', 'OUTAGE.RESTORATION.TIME'])\n",
    "\n",
    "cols_to_str = ['OUTAGE.START.DATE', 'OUTAGE.START.TIME', 'OUTAGE.RESTORATION.DATE', 'OUTAGE.RESTORATION.TIME']\n",
    "for col in cols_to_str:\n",
    "    temp_data.loc[:, col] = temp_data.loc[:, col].astype(str)\n",
    "\n",
    "temp_data.loc[:, 'outageStart'] = pd.to_datetime(temp_data['OUTAGE.START.DATE'] + ' ' + temp_data['OUTAGE.START.TIME'])\n",
    "temp_data.loc[:, 'outageEnd'] = pd.to_datetime(temp_data['OUTAGE.RESTORATION.DATE'] + ' ' + temp_data['OUTAGE.RESTORATION.TIME'])\n",
    "\n",
    "temp_data = temp_data[['OBS', 'outageStart', 'outageEnd']]\n",
    "formated_data = formated_data.merge(temp_data, left_on='OBS', right_on='OBS', how='left')\n",
    "\n",
    "formated_data.loc[:, 'outageDuration'] = formated_data['outageEnd'] - formated_data['outageStart'];"
   ]
  },
  {
   "cell_type": "markdown",
   "metadata": {},
   "source": [
    "Distribution of the proportion of gdp each state is responsible for in the US"
   ]
  },
  {
   "cell_type": "code",
   "execution_count": 4,
   "metadata": {},
   "outputs": [
    {
     "name": "stderr",
     "output_type": "stream",
     "text": [
      "/Users/martinhawks/miniconda3/envs/dsc80/lib/python3.8/site-packages/IPython/core/interactiveshell.py:3508: FutureWarning: Dropping invalid columns in DataFrameGroupBy.mean is deprecated. In a future version, a TypeError will be raised. Before calling .mean, select only columns which should be valid for the function.\n",
      "  exec(code_obj, self.user_global_ns, self.user_ns)\n"
     ]
    },
    {
     "data": {
      "application/vnd.plotly.v1+json": {
       "config": {
        "plotlyServerURL": "https://plot.ly"
       },
       "data": [
        {
         "alignmentgroup": "True",
         "hovertemplate": "POSTAL.CODE=%{x}<br>PC.REALGSP.REL=%{y}<extra></extra>",
         "legendgroup": "",
         "marker": {
          "color": "#636efa",
          "pattern": {
           "shape": ""
          }
         },
         "name": "",
         "offsetgroup": "",
         "orientation": "v",
         "showlegend": false,
         "textposition": "auto",
         "type": "bar",
         "x": [
          "AK",
          "AL",
          "AR",
          "AZ",
          "CA",
          "CO",
          "CT",
          "DC",
          "DE",
          "FL",
          "GA",
          "HI",
          "IA",
          "ID",
          "IL",
          "IN",
          "KS",
          "KY",
          "LA",
          "MA",
          "MD",
          "ME",
          "MI",
          "MN",
          "MO",
          "MS",
          "MT",
          "NC",
          "ND",
          "NE",
          "NH",
          "NJ",
          "NM",
          "NV",
          "NY",
          "OH",
          "OK",
          "OR",
          "PA",
          "SC",
          "SD",
          "TN",
          "TX",
          "UT",
          "VA",
          "VT",
          "WA",
          "WI",
          "WV",
          "WY"
         ],
         "xaxis": "x",
         "y": [
          1.28284724550229,
          0.7552829731934487,
          0.7485547762321996,
          0.8140305638342475,
          1.1077623707441204,
          1.056030924595674,
          1.338222341135976,
          3.4331289826281846,
          1.2917471435684595,
          0.8623690723250413,
          0.9177862444702013,
          1.033123078721078,
          0.9876018872500826,
          0.7263785782916465,
          1.0761873566718236,
          0.9014349737489973,
          0.914776328832377,
          0.7828580980562526,
          0.9747562796870864,
          1.2745049713753405,
          1.105995150554684,
          0.7927488034501825,
          0.8525525762000402,
          1.081171457050894,
          0.875419035212361,
          0.6457859845668272,
          0.7899606912069039,
          0.9087210771324197,
          1.037744223258653,
          0.9965473904890875,
          0.9969816342983657,
          1.1567756357455765,
          0.8273437773841792,
          0.8948599099526618,
          1.264293249801873,
          0.9197438368756685,
          0.8493459692388486,
          1.0043599600981699,
          0.9641332618070845,
          0.770134850392515,
          0.968937446443873,
          0.8532038923003766,
          1.0269427080989018,
          0.8876034558704184,
          1.0801605712179734,
          0.8929540223014791,
          1.1101777835063196,
          0.9476037171478492,
          0.7364258530137036,
          1.3275495683970269
         ],
         "yaxis": "y"
        }
       ],
       "layout": {
        "barmode": "relative",
        "legend": {
         "tracegroupgap": 0
        },
        "margin": {
         "t": 60
        },
        "template": {
         "data": {
          "bar": [
           {
            "error_x": {
             "color": "#2a3f5f"
            },
            "error_y": {
             "color": "#2a3f5f"
            },
            "marker": {
             "line": {
              "color": "#E5ECF6",
              "width": 0.5
             },
             "pattern": {
              "fillmode": "overlay",
              "size": 10,
              "solidity": 0.2
             }
            },
            "type": "bar"
           }
          ],
          "barpolar": [
           {
            "marker": {
             "line": {
              "color": "#E5ECF6",
              "width": 0.5
             },
             "pattern": {
              "fillmode": "overlay",
              "size": 10,
              "solidity": 0.2
             }
            },
            "type": "barpolar"
           }
          ],
          "carpet": [
           {
            "aaxis": {
             "endlinecolor": "#2a3f5f",
             "gridcolor": "white",
             "linecolor": "white",
             "minorgridcolor": "white",
             "startlinecolor": "#2a3f5f"
            },
            "baxis": {
             "endlinecolor": "#2a3f5f",
             "gridcolor": "white",
             "linecolor": "white",
             "minorgridcolor": "white",
             "startlinecolor": "#2a3f5f"
            },
            "type": "carpet"
           }
          ],
          "choropleth": [
           {
            "colorbar": {
             "outlinewidth": 0,
             "ticks": ""
            },
            "type": "choropleth"
           }
          ],
          "contour": [
           {
            "colorbar": {
             "outlinewidth": 0,
             "ticks": ""
            },
            "colorscale": [
             [
              0,
              "#0d0887"
             ],
             [
              0.1111111111111111,
              "#46039f"
             ],
             [
              0.2222222222222222,
              "#7201a8"
             ],
             [
              0.3333333333333333,
              "#9c179e"
             ],
             [
              0.4444444444444444,
              "#bd3786"
             ],
             [
              0.5555555555555556,
              "#d8576b"
             ],
             [
              0.6666666666666666,
              "#ed7953"
             ],
             [
              0.7777777777777778,
              "#fb9f3a"
             ],
             [
              0.8888888888888888,
              "#fdca26"
             ],
             [
              1,
              "#f0f921"
             ]
            ],
            "type": "contour"
           }
          ],
          "contourcarpet": [
           {
            "colorbar": {
             "outlinewidth": 0,
             "ticks": ""
            },
            "type": "contourcarpet"
           }
          ],
          "heatmap": [
           {
            "colorbar": {
             "outlinewidth": 0,
             "ticks": ""
            },
            "colorscale": [
             [
              0,
              "#0d0887"
             ],
             [
              0.1111111111111111,
              "#46039f"
             ],
             [
              0.2222222222222222,
              "#7201a8"
             ],
             [
              0.3333333333333333,
              "#9c179e"
             ],
             [
              0.4444444444444444,
              "#bd3786"
             ],
             [
              0.5555555555555556,
              "#d8576b"
             ],
             [
              0.6666666666666666,
              "#ed7953"
             ],
             [
              0.7777777777777778,
              "#fb9f3a"
             ],
             [
              0.8888888888888888,
              "#fdca26"
             ],
             [
              1,
              "#f0f921"
             ]
            ],
            "type": "heatmap"
           }
          ],
          "heatmapgl": [
           {
            "colorbar": {
             "outlinewidth": 0,
             "ticks": ""
            },
            "colorscale": [
             [
              0,
              "#0d0887"
             ],
             [
              0.1111111111111111,
              "#46039f"
             ],
             [
              0.2222222222222222,
              "#7201a8"
             ],
             [
              0.3333333333333333,
              "#9c179e"
             ],
             [
              0.4444444444444444,
              "#bd3786"
             ],
             [
              0.5555555555555556,
              "#d8576b"
             ],
             [
              0.6666666666666666,
              "#ed7953"
             ],
             [
              0.7777777777777778,
              "#fb9f3a"
             ],
             [
              0.8888888888888888,
              "#fdca26"
             ],
             [
              1,
              "#f0f921"
             ]
            ],
            "type": "heatmapgl"
           }
          ],
          "histogram": [
           {
            "marker": {
             "pattern": {
              "fillmode": "overlay",
              "size": 10,
              "solidity": 0.2
             }
            },
            "type": "histogram"
           }
          ],
          "histogram2d": [
           {
            "colorbar": {
             "outlinewidth": 0,
             "ticks": ""
            },
            "colorscale": [
             [
              0,
              "#0d0887"
             ],
             [
              0.1111111111111111,
              "#46039f"
             ],
             [
              0.2222222222222222,
              "#7201a8"
             ],
             [
              0.3333333333333333,
              "#9c179e"
             ],
             [
              0.4444444444444444,
              "#bd3786"
             ],
             [
              0.5555555555555556,
              "#d8576b"
             ],
             [
              0.6666666666666666,
              "#ed7953"
             ],
             [
              0.7777777777777778,
              "#fb9f3a"
             ],
             [
              0.8888888888888888,
              "#fdca26"
             ],
             [
              1,
              "#f0f921"
             ]
            ],
            "type": "histogram2d"
           }
          ],
          "histogram2dcontour": [
           {
            "colorbar": {
             "outlinewidth": 0,
             "ticks": ""
            },
            "colorscale": [
             [
              0,
              "#0d0887"
             ],
             [
              0.1111111111111111,
              "#46039f"
             ],
             [
              0.2222222222222222,
              "#7201a8"
             ],
             [
              0.3333333333333333,
              "#9c179e"
             ],
             [
              0.4444444444444444,
              "#bd3786"
             ],
             [
              0.5555555555555556,
              "#d8576b"
             ],
             [
              0.6666666666666666,
              "#ed7953"
             ],
             [
              0.7777777777777778,
              "#fb9f3a"
             ],
             [
              0.8888888888888888,
              "#fdca26"
             ],
             [
              1,
              "#f0f921"
             ]
            ],
            "type": "histogram2dcontour"
           }
          ],
          "mesh3d": [
           {
            "colorbar": {
             "outlinewidth": 0,
             "ticks": ""
            },
            "type": "mesh3d"
           }
          ],
          "parcoords": [
           {
            "line": {
             "colorbar": {
              "outlinewidth": 0,
              "ticks": ""
             }
            },
            "type": "parcoords"
           }
          ],
          "pie": [
           {
            "automargin": true,
            "type": "pie"
           }
          ],
          "scatter": [
           {
            "fillpattern": {
             "fillmode": "overlay",
             "size": 10,
             "solidity": 0.2
            },
            "type": "scatter"
           }
          ],
          "scatter3d": [
           {
            "line": {
             "colorbar": {
              "outlinewidth": 0,
              "ticks": ""
             }
            },
            "marker": {
             "colorbar": {
              "outlinewidth": 0,
              "ticks": ""
             }
            },
            "type": "scatter3d"
           }
          ],
          "scattercarpet": [
           {
            "marker": {
             "colorbar": {
              "outlinewidth": 0,
              "ticks": ""
             }
            },
            "type": "scattercarpet"
           }
          ],
          "scattergeo": [
           {
            "marker": {
             "colorbar": {
              "outlinewidth": 0,
              "ticks": ""
             }
            },
            "type": "scattergeo"
           }
          ],
          "scattergl": [
           {
            "marker": {
             "colorbar": {
              "outlinewidth": 0,
              "ticks": ""
             }
            },
            "type": "scattergl"
           }
          ],
          "scattermapbox": [
           {
            "marker": {
             "colorbar": {
              "outlinewidth": 0,
              "ticks": ""
             }
            },
            "type": "scattermapbox"
           }
          ],
          "scatterpolar": [
           {
            "marker": {
             "colorbar": {
              "outlinewidth": 0,
              "ticks": ""
             }
            },
            "type": "scatterpolar"
           }
          ],
          "scatterpolargl": [
           {
            "marker": {
             "colorbar": {
              "outlinewidth": 0,
              "ticks": ""
             }
            },
            "type": "scatterpolargl"
           }
          ],
          "scatterternary": [
           {
            "marker": {
             "colorbar": {
              "outlinewidth": 0,
              "ticks": ""
             }
            },
            "type": "scatterternary"
           }
          ],
          "surface": [
           {
            "colorbar": {
             "outlinewidth": 0,
             "ticks": ""
            },
            "colorscale": [
             [
              0,
              "#0d0887"
             ],
             [
              0.1111111111111111,
              "#46039f"
             ],
             [
              0.2222222222222222,
              "#7201a8"
             ],
             [
              0.3333333333333333,
              "#9c179e"
             ],
             [
              0.4444444444444444,
              "#bd3786"
             ],
             [
              0.5555555555555556,
              "#d8576b"
             ],
             [
              0.6666666666666666,
              "#ed7953"
             ],
             [
              0.7777777777777778,
              "#fb9f3a"
             ],
             [
              0.8888888888888888,
              "#fdca26"
             ],
             [
              1,
              "#f0f921"
             ]
            ],
            "type": "surface"
           }
          ],
          "table": [
           {
            "cells": {
             "fill": {
              "color": "#EBF0F8"
             },
             "line": {
              "color": "white"
             }
            },
            "header": {
             "fill": {
              "color": "#C8D4E3"
             },
             "line": {
              "color": "white"
             }
            },
            "type": "table"
           }
          ]
         },
         "layout": {
          "annotationdefaults": {
           "arrowcolor": "#2a3f5f",
           "arrowhead": 0,
           "arrowwidth": 1
          },
          "autotypenumbers": "strict",
          "coloraxis": {
           "colorbar": {
            "outlinewidth": 0,
            "ticks": ""
           }
          },
          "colorscale": {
           "diverging": [
            [
             0,
             "#8e0152"
            ],
            [
             0.1,
             "#c51b7d"
            ],
            [
             0.2,
             "#de77ae"
            ],
            [
             0.3,
             "#f1b6da"
            ],
            [
             0.4,
             "#fde0ef"
            ],
            [
             0.5,
             "#f7f7f7"
            ],
            [
             0.6,
             "#e6f5d0"
            ],
            [
             0.7,
             "#b8e186"
            ],
            [
             0.8,
             "#7fbc41"
            ],
            [
             0.9,
             "#4d9221"
            ],
            [
             1,
             "#276419"
            ]
           ],
           "sequential": [
            [
             0,
             "#0d0887"
            ],
            [
             0.1111111111111111,
             "#46039f"
            ],
            [
             0.2222222222222222,
             "#7201a8"
            ],
            [
             0.3333333333333333,
             "#9c179e"
            ],
            [
             0.4444444444444444,
             "#bd3786"
            ],
            [
             0.5555555555555556,
             "#d8576b"
            ],
            [
             0.6666666666666666,
             "#ed7953"
            ],
            [
             0.7777777777777778,
             "#fb9f3a"
            ],
            [
             0.8888888888888888,
             "#fdca26"
            ],
            [
             1,
             "#f0f921"
            ]
           ],
           "sequentialminus": [
            [
             0,
             "#0d0887"
            ],
            [
             0.1111111111111111,
             "#46039f"
            ],
            [
             0.2222222222222222,
             "#7201a8"
            ],
            [
             0.3333333333333333,
             "#9c179e"
            ],
            [
             0.4444444444444444,
             "#bd3786"
            ],
            [
             0.5555555555555556,
             "#d8576b"
            ],
            [
             0.6666666666666666,
             "#ed7953"
            ],
            [
             0.7777777777777778,
             "#fb9f3a"
            ],
            [
             0.8888888888888888,
             "#fdca26"
            ],
            [
             1,
             "#f0f921"
            ]
           ]
          },
          "colorway": [
           "#636efa",
           "#EF553B",
           "#00cc96",
           "#ab63fa",
           "#FFA15A",
           "#19d3f3",
           "#FF6692",
           "#B6E880",
           "#FF97FF",
           "#FECB52"
          ],
          "font": {
           "color": "#2a3f5f"
          },
          "geo": {
           "bgcolor": "white",
           "lakecolor": "white",
           "landcolor": "#E5ECF6",
           "showlakes": true,
           "showland": true,
           "subunitcolor": "white"
          },
          "hoverlabel": {
           "align": "left"
          },
          "hovermode": "closest",
          "mapbox": {
           "style": "light"
          },
          "paper_bgcolor": "white",
          "plot_bgcolor": "#E5ECF6",
          "polar": {
           "angularaxis": {
            "gridcolor": "white",
            "linecolor": "white",
            "ticks": ""
           },
           "bgcolor": "#E5ECF6",
           "radialaxis": {
            "gridcolor": "white",
            "linecolor": "white",
            "ticks": ""
           }
          },
          "scene": {
           "xaxis": {
            "backgroundcolor": "#E5ECF6",
            "gridcolor": "white",
            "gridwidth": 2,
            "linecolor": "white",
            "showbackground": true,
            "ticks": "",
            "zerolinecolor": "white"
           },
           "yaxis": {
            "backgroundcolor": "#E5ECF6",
            "gridcolor": "white",
            "gridwidth": 2,
            "linecolor": "white",
            "showbackground": true,
            "ticks": "",
            "zerolinecolor": "white"
           },
           "zaxis": {
            "backgroundcolor": "#E5ECF6",
            "gridcolor": "white",
            "gridwidth": 2,
            "linecolor": "white",
            "showbackground": true,
            "ticks": "",
            "zerolinecolor": "white"
           }
          },
          "shapedefaults": {
           "line": {
            "color": "#2a3f5f"
           }
          },
          "ternary": {
           "aaxis": {
            "gridcolor": "white",
            "linecolor": "white",
            "ticks": ""
           },
           "baxis": {
            "gridcolor": "white",
            "linecolor": "white",
            "ticks": ""
           },
           "bgcolor": "#E5ECF6",
           "caxis": {
            "gridcolor": "white",
            "linecolor": "white",
            "ticks": ""
           }
          },
          "title": {
           "x": 0.05
          },
          "xaxis": {
           "automargin": true,
           "gridcolor": "white",
           "linecolor": "white",
           "ticks": "",
           "title": {
            "standoff": 15
           },
           "zerolinecolor": "white",
           "zerolinewidth": 2
          },
          "yaxis": {
           "automargin": true,
           "gridcolor": "white",
           "linecolor": "white",
           "ticks": "",
           "title": {
            "standoff": 15
           },
           "zerolinecolor": "white",
           "zerolinewidth": 2
          }
         }
        },
        "xaxis": {
         "anchor": "y",
         "domain": [
          0,
          1
         ],
         "title": {
          "text": "POSTAL.CODE"
         }
        },
        "yaxis": {
         "anchor": "x",
         "domain": [
          0,
          1
         ],
         "title": {
          "text": "PC.REALGSP.REL"
         }
        }
       }
      }
     },
     "metadata": {},
     "output_type": "display_data"
    }
   ],
   "source": [
    "px.bar(formated_data.groupby('POSTAL.CODE').mean().reset_index(), x='POSTAL.CODE', y='PC.REALGSP.REL')"
   ]
  },
  {
   "cell_type": "markdown",
   "metadata": {},
   "source": [
    "DC is very high compared to the rest of the states, probably because the statistic is adjusted per capita rather than total. Below is a modificaiton to the data to show the total GDP of each state by multiplying by population."
   ]
  },
  {
   "cell_type": "code",
   "execution_count": 8,
   "metadata": {},
   "outputs": [
    {
     "data": {
      "application/vnd.plotly.v1+json": {
       "config": {
        "plotlyServerURL": "https://plot.ly"
       },
       "data": [
        {
         "alignmentgroup": "True",
         "hovertemplate": "POSTAL.CODE=%{x}<br>REALGSP=%{y}<extra></extra>",
         "legendgroup": "",
         "marker": {
          "color": "#636efa",
          "pattern": {
           "shape": ""
          }
         },
         "name": "",
         "offsetgroup": "",
         "orientation": "v",
         "showlegend": false,
         "textposition": "auto",
         "type": "bar",
         "x": [
          "AK",
          "AL",
          "AR",
          "AZ",
          "CA",
          "CO",
          "CT",
          "DC",
          "DE",
          "FL",
          "GA",
          "HI",
          "IA",
          "ID",
          "IL",
          "IN",
          "KS",
          "KY",
          "LA",
          "MA",
          "MD",
          "ME",
          "MI",
          "MN",
          "MO",
          "MS",
          "MT",
          "NC",
          "ND",
          "NE",
          "NH",
          "NJ",
          "NM",
          "NV",
          "NY",
          "OH",
          "OK",
          "OR",
          "PA",
          "SC",
          "SD",
          "TN",
          "TX",
          "UT",
          "VA",
          "VT",
          "WA",
          "WI",
          "WV",
          "WY"
         ],
         "xaxis": "x",
         "y": [
          805580.6048273544,
          3511461.518503319,
          2189670.1386423977,
          5121985.876738774,
          41160269.565399714,
          5393256.939398613,
          4775733.710332759,
          2133201.073551995,
          1186665.104842548,
          15576250.396185204,
          8600968.29690195,
          1371948.6899292595,
          3027019.5777429948,
          1146739.6265442795,
          13732715.95602672,
          5840593.588504362,
          2609860.6605341095,
          3391703.556082164,
          4428638.507158672,
          8451237.69936908,
          6420731.293853752,
          1050930.561650926,
          8478227.006720424,
          5790282.60166776,
          5248251.016262263,
          1930421.7064652739,
          797447.5769692628,
          8539756.410235267,
          695441.9234092308,
          1781676.0091756256,
          1315354.499130068,
          10228219.824180238,
          1698189.0436487147,
          2500133.5896375882,
          24611021.204532783,
          10596846.565829348,
          3223050.610727286,
          3941958.0149601093,
          12225709.726345308,
          3418299.315043598,
          781997.4380891173,
          5539738.096361914,
          25904858.526182454,
          2567922.000416866,
          8555840.302522397,
          559510.6533954579,
          7618110.253112039,
          5402884.9165014485,
          1363396.6244726467,
          757465.222597728
         ],
         "yaxis": "y"
        }
       ],
       "layout": {
        "barmode": "relative",
        "legend": {
         "tracegroupgap": 0
        },
        "margin": {
         "t": 60
        },
        "template": {
         "data": {
          "bar": [
           {
            "error_x": {
             "color": "#2a3f5f"
            },
            "error_y": {
             "color": "#2a3f5f"
            },
            "marker": {
             "line": {
              "color": "#E5ECF6",
              "width": 0.5
             },
             "pattern": {
              "fillmode": "overlay",
              "size": 10,
              "solidity": 0.2
             }
            },
            "type": "bar"
           }
          ],
          "barpolar": [
           {
            "marker": {
             "line": {
              "color": "#E5ECF6",
              "width": 0.5
             },
             "pattern": {
              "fillmode": "overlay",
              "size": 10,
              "solidity": 0.2
             }
            },
            "type": "barpolar"
           }
          ],
          "carpet": [
           {
            "aaxis": {
             "endlinecolor": "#2a3f5f",
             "gridcolor": "white",
             "linecolor": "white",
             "minorgridcolor": "white",
             "startlinecolor": "#2a3f5f"
            },
            "baxis": {
             "endlinecolor": "#2a3f5f",
             "gridcolor": "white",
             "linecolor": "white",
             "minorgridcolor": "white",
             "startlinecolor": "#2a3f5f"
            },
            "type": "carpet"
           }
          ],
          "choropleth": [
           {
            "colorbar": {
             "outlinewidth": 0,
             "ticks": ""
            },
            "type": "choropleth"
           }
          ],
          "contour": [
           {
            "colorbar": {
             "outlinewidth": 0,
             "ticks": ""
            },
            "colorscale": [
             [
              0,
              "#0d0887"
             ],
             [
              0.1111111111111111,
              "#46039f"
             ],
             [
              0.2222222222222222,
              "#7201a8"
             ],
             [
              0.3333333333333333,
              "#9c179e"
             ],
             [
              0.4444444444444444,
              "#bd3786"
             ],
             [
              0.5555555555555556,
              "#d8576b"
             ],
             [
              0.6666666666666666,
              "#ed7953"
             ],
             [
              0.7777777777777778,
              "#fb9f3a"
             ],
             [
              0.8888888888888888,
              "#fdca26"
             ],
             [
              1,
              "#f0f921"
             ]
            ],
            "type": "contour"
           }
          ],
          "contourcarpet": [
           {
            "colorbar": {
             "outlinewidth": 0,
             "ticks": ""
            },
            "type": "contourcarpet"
           }
          ],
          "heatmap": [
           {
            "colorbar": {
             "outlinewidth": 0,
             "ticks": ""
            },
            "colorscale": [
             [
              0,
              "#0d0887"
             ],
             [
              0.1111111111111111,
              "#46039f"
             ],
             [
              0.2222222222222222,
              "#7201a8"
             ],
             [
              0.3333333333333333,
              "#9c179e"
             ],
             [
              0.4444444444444444,
              "#bd3786"
             ],
             [
              0.5555555555555556,
              "#d8576b"
             ],
             [
              0.6666666666666666,
              "#ed7953"
             ],
             [
              0.7777777777777778,
              "#fb9f3a"
             ],
             [
              0.8888888888888888,
              "#fdca26"
             ],
             [
              1,
              "#f0f921"
             ]
            ],
            "type": "heatmap"
           }
          ],
          "heatmapgl": [
           {
            "colorbar": {
             "outlinewidth": 0,
             "ticks": ""
            },
            "colorscale": [
             [
              0,
              "#0d0887"
             ],
             [
              0.1111111111111111,
              "#46039f"
             ],
             [
              0.2222222222222222,
              "#7201a8"
             ],
             [
              0.3333333333333333,
              "#9c179e"
             ],
             [
              0.4444444444444444,
              "#bd3786"
             ],
             [
              0.5555555555555556,
              "#d8576b"
             ],
             [
              0.6666666666666666,
              "#ed7953"
             ],
             [
              0.7777777777777778,
              "#fb9f3a"
             ],
             [
              0.8888888888888888,
              "#fdca26"
             ],
             [
              1,
              "#f0f921"
             ]
            ],
            "type": "heatmapgl"
           }
          ],
          "histogram": [
           {
            "marker": {
             "pattern": {
              "fillmode": "overlay",
              "size": 10,
              "solidity": 0.2
             }
            },
            "type": "histogram"
           }
          ],
          "histogram2d": [
           {
            "colorbar": {
             "outlinewidth": 0,
             "ticks": ""
            },
            "colorscale": [
             [
              0,
              "#0d0887"
             ],
             [
              0.1111111111111111,
              "#46039f"
             ],
             [
              0.2222222222222222,
              "#7201a8"
             ],
             [
              0.3333333333333333,
              "#9c179e"
             ],
             [
              0.4444444444444444,
              "#bd3786"
             ],
             [
              0.5555555555555556,
              "#d8576b"
             ],
             [
              0.6666666666666666,
              "#ed7953"
             ],
             [
              0.7777777777777778,
              "#fb9f3a"
             ],
             [
              0.8888888888888888,
              "#fdca26"
             ],
             [
              1,
              "#f0f921"
             ]
            ],
            "type": "histogram2d"
           }
          ],
          "histogram2dcontour": [
           {
            "colorbar": {
             "outlinewidth": 0,
             "ticks": ""
            },
            "colorscale": [
             [
              0,
              "#0d0887"
             ],
             [
              0.1111111111111111,
              "#46039f"
             ],
             [
              0.2222222222222222,
              "#7201a8"
             ],
             [
              0.3333333333333333,
              "#9c179e"
             ],
             [
              0.4444444444444444,
              "#bd3786"
             ],
             [
              0.5555555555555556,
              "#d8576b"
             ],
             [
              0.6666666666666666,
              "#ed7953"
             ],
             [
              0.7777777777777778,
              "#fb9f3a"
             ],
             [
              0.8888888888888888,
              "#fdca26"
             ],
             [
              1,
              "#f0f921"
             ]
            ],
            "type": "histogram2dcontour"
           }
          ],
          "mesh3d": [
           {
            "colorbar": {
             "outlinewidth": 0,
             "ticks": ""
            },
            "type": "mesh3d"
           }
          ],
          "parcoords": [
           {
            "line": {
             "colorbar": {
              "outlinewidth": 0,
              "ticks": ""
             }
            },
            "type": "parcoords"
           }
          ],
          "pie": [
           {
            "automargin": true,
            "type": "pie"
           }
          ],
          "scatter": [
           {
            "fillpattern": {
             "fillmode": "overlay",
             "size": 10,
             "solidity": 0.2
            },
            "type": "scatter"
           }
          ],
          "scatter3d": [
           {
            "line": {
             "colorbar": {
              "outlinewidth": 0,
              "ticks": ""
             }
            },
            "marker": {
             "colorbar": {
              "outlinewidth": 0,
              "ticks": ""
             }
            },
            "type": "scatter3d"
           }
          ],
          "scattercarpet": [
           {
            "marker": {
             "colorbar": {
              "outlinewidth": 0,
              "ticks": ""
             }
            },
            "type": "scattercarpet"
           }
          ],
          "scattergeo": [
           {
            "marker": {
             "colorbar": {
              "outlinewidth": 0,
              "ticks": ""
             }
            },
            "type": "scattergeo"
           }
          ],
          "scattergl": [
           {
            "marker": {
             "colorbar": {
              "outlinewidth": 0,
              "ticks": ""
             }
            },
            "type": "scattergl"
           }
          ],
          "scattermapbox": [
           {
            "marker": {
             "colorbar": {
              "outlinewidth": 0,
              "ticks": ""
             }
            },
            "type": "scattermapbox"
           }
          ],
          "scatterpolar": [
           {
            "marker": {
             "colorbar": {
              "outlinewidth": 0,
              "ticks": ""
             }
            },
            "type": "scatterpolar"
           }
          ],
          "scatterpolargl": [
           {
            "marker": {
             "colorbar": {
              "outlinewidth": 0,
              "ticks": ""
             }
            },
            "type": "scatterpolargl"
           }
          ],
          "scatterternary": [
           {
            "marker": {
             "colorbar": {
              "outlinewidth": 0,
              "ticks": ""
             }
            },
            "type": "scatterternary"
           }
          ],
          "surface": [
           {
            "colorbar": {
             "outlinewidth": 0,
             "ticks": ""
            },
            "colorscale": [
             [
              0,
              "#0d0887"
             ],
             [
              0.1111111111111111,
              "#46039f"
             ],
             [
              0.2222222222222222,
              "#7201a8"
             ],
             [
              0.3333333333333333,
              "#9c179e"
             ],
             [
              0.4444444444444444,
              "#bd3786"
             ],
             [
              0.5555555555555556,
              "#d8576b"
             ],
             [
              0.6666666666666666,
              "#ed7953"
             ],
             [
              0.7777777777777778,
              "#fb9f3a"
             ],
             [
              0.8888888888888888,
              "#fdca26"
             ],
             [
              1,
              "#f0f921"
             ]
            ],
            "type": "surface"
           }
          ],
          "table": [
           {
            "cells": {
             "fill": {
              "color": "#EBF0F8"
             },
             "line": {
              "color": "white"
             }
            },
            "header": {
             "fill": {
              "color": "#C8D4E3"
             },
             "line": {
              "color": "white"
             }
            },
            "type": "table"
           }
          ]
         },
         "layout": {
          "annotationdefaults": {
           "arrowcolor": "#2a3f5f",
           "arrowhead": 0,
           "arrowwidth": 1
          },
          "autotypenumbers": "strict",
          "coloraxis": {
           "colorbar": {
            "outlinewidth": 0,
            "ticks": ""
           }
          },
          "colorscale": {
           "diverging": [
            [
             0,
             "#8e0152"
            ],
            [
             0.1,
             "#c51b7d"
            ],
            [
             0.2,
             "#de77ae"
            ],
            [
             0.3,
             "#f1b6da"
            ],
            [
             0.4,
             "#fde0ef"
            ],
            [
             0.5,
             "#f7f7f7"
            ],
            [
             0.6,
             "#e6f5d0"
            ],
            [
             0.7,
             "#b8e186"
            ],
            [
             0.8,
             "#7fbc41"
            ],
            [
             0.9,
             "#4d9221"
            ],
            [
             1,
             "#276419"
            ]
           ],
           "sequential": [
            [
             0,
             "#0d0887"
            ],
            [
             0.1111111111111111,
             "#46039f"
            ],
            [
             0.2222222222222222,
             "#7201a8"
            ],
            [
             0.3333333333333333,
             "#9c179e"
            ],
            [
             0.4444444444444444,
             "#bd3786"
            ],
            [
             0.5555555555555556,
             "#d8576b"
            ],
            [
             0.6666666666666666,
             "#ed7953"
            ],
            [
             0.7777777777777778,
             "#fb9f3a"
            ],
            [
             0.8888888888888888,
             "#fdca26"
            ],
            [
             1,
             "#f0f921"
            ]
           ],
           "sequentialminus": [
            [
             0,
             "#0d0887"
            ],
            [
             0.1111111111111111,
             "#46039f"
            ],
            [
             0.2222222222222222,
             "#7201a8"
            ],
            [
             0.3333333333333333,
             "#9c179e"
            ],
            [
             0.4444444444444444,
             "#bd3786"
            ],
            [
             0.5555555555555556,
             "#d8576b"
            ],
            [
             0.6666666666666666,
             "#ed7953"
            ],
            [
             0.7777777777777778,
             "#fb9f3a"
            ],
            [
             0.8888888888888888,
             "#fdca26"
            ],
            [
             1,
             "#f0f921"
            ]
           ]
          },
          "colorway": [
           "#636efa",
           "#EF553B",
           "#00cc96",
           "#ab63fa",
           "#FFA15A",
           "#19d3f3",
           "#FF6692",
           "#B6E880",
           "#FF97FF",
           "#FECB52"
          ],
          "font": {
           "color": "#2a3f5f"
          },
          "geo": {
           "bgcolor": "white",
           "lakecolor": "white",
           "landcolor": "#E5ECF6",
           "showlakes": true,
           "showland": true,
           "subunitcolor": "white"
          },
          "hoverlabel": {
           "align": "left"
          },
          "hovermode": "closest",
          "mapbox": {
           "style": "light"
          },
          "paper_bgcolor": "white",
          "plot_bgcolor": "#E5ECF6",
          "polar": {
           "angularaxis": {
            "gridcolor": "white",
            "linecolor": "white",
            "ticks": ""
           },
           "bgcolor": "#E5ECF6",
           "radialaxis": {
            "gridcolor": "white",
            "linecolor": "white",
            "ticks": ""
           }
          },
          "scene": {
           "xaxis": {
            "backgroundcolor": "#E5ECF6",
            "gridcolor": "white",
            "gridwidth": 2,
            "linecolor": "white",
            "showbackground": true,
            "ticks": "",
            "zerolinecolor": "white"
           },
           "yaxis": {
            "backgroundcolor": "#E5ECF6",
            "gridcolor": "white",
            "gridwidth": 2,
            "linecolor": "white",
            "showbackground": true,
            "ticks": "",
            "zerolinecolor": "white"
           },
           "zaxis": {
            "backgroundcolor": "#E5ECF6",
            "gridcolor": "white",
            "gridwidth": 2,
            "linecolor": "white",
            "showbackground": true,
            "ticks": "",
            "zerolinecolor": "white"
           }
          },
          "shapedefaults": {
           "line": {
            "color": "#2a3f5f"
           }
          },
          "ternary": {
           "aaxis": {
            "gridcolor": "white",
            "linecolor": "white",
            "ticks": ""
           },
           "baxis": {
            "gridcolor": "white",
            "linecolor": "white",
            "ticks": ""
           },
           "bgcolor": "#E5ECF6",
           "caxis": {
            "gridcolor": "white",
            "linecolor": "white",
            "ticks": ""
           }
          },
          "title": {
           "x": 0.05
          },
          "xaxis": {
           "automargin": true,
           "gridcolor": "white",
           "linecolor": "white",
           "ticks": "",
           "title": {
            "standoff": 15
           },
           "zerolinecolor": "white",
           "zerolinewidth": 2
          },
          "yaxis": {
           "automargin": true,
           "gridcolor": "white",
           "linecolor": "white",
           "ticks": "",
           "title": {
            "standoff": 15
           },
           "zerolinecolor": "white",
           "zerolinewidth": 2
          }
         }
        },
        "xaxis": {
         "anchor": "y",
         "domain": [
          0,
          1
         ],
         "title": {
          "text": "POSTAL.CODE"
         }
        },
        "yaxis": {
         "anchor": "x",
         "domain": [
          0,
          1
         ],
         "title": {
          "text": "REALGSP"
         }
        }
       }
      }
     },
     "metadata": {},
     "output_type": "display_data"
    }
   ],
   "source": [
    "formated_data['REALGSP'] = formated_data['PC.REALGSP.REL'] * formated_data['POPULATION']\n",
    "px.bar(formated_data.groupby('POSTAL.CODE')[['REALGSP']].mean().reset_index(), x='POSTAL.CODE', y='REALGSP')"
   ]
  },
  {
   "cell_type": "markdown",
   "metadata": {},
   "source": [
    "This result makes much more sense and is more in line with the actual wealth of each state. Now, does this correlate with outage times? Likely it would correlate with frequency as it is also directly correlated with population density and population."
   ]
  },
  {
   "cell_type": "code",
   "execution_count": 6,
   "metadata": {},
   "outputs": [
    {
     "data": {
      "application/vnd.plotly.v1+json": {
       "config": {
        "plotlyServerURL": "https://plot.ly"
       },
       "data": [
        {
         "hovertemplate": "REALGSP=%{x}<br>OUTAGE.DURATION=%{y}<extra></extra>",
         "legendgroup": "",
         "marker": {
          "color": "#636efa",
          "symbol": "circle"
         },
         "mode": "markers",
         "name": "",
         "showlegend": false,
         "type": "scattergl",
         "x": [
          5761933.444542501,
          5947133.494428705,
          5665809.284602554,
          5765015.738724132,
          5994785.551199732,
          5665809.284602554,
          5665809.284602554,
          5583225.558536056,
          5994785.551199732,
          5877852.945264064,
          5877852.945264064,
          5583225.558536056,
          5761933.444542501,
          5761933.444542501,
          5947133.494428705,
          5622118.903839983,
          5559054.821019185,
          5622118.903839983,
          5440919.172025383,
          5318063.275779427,
          5622118.903839983,
          5559054.821019185,
          5622118.903839983,
          5589549.662368794,
          5595976.206331101,
          5298244.755355615,
          5440919.172025383,
          5440919.172025383,
          5595976.206331101,
          5559054.821019185,
          5595976.206331101,
          5440919.172025383,
          5622118.903839983,
          5622118.903839983,
          5595976.206331101,
          5440919.172025383,
          5738490.779313068,
          5595976.206331101,
          5622118.903839983,
          5589549.662368794,
          5440919.172025383,
          5298244.755355615,
          5595976.206331101,
          5595976.206331101,
          5440919.172025383,
          5595976.206331101,
          5595976.206331101,
          5738490.779313068,
          5298244.755355615,
          5476100.467132469,
          5476100.467132469,
          5220477.233437306,
          5436864.360339696,
          5476100.467132469,
          5476100.467132469,
          5203797.11847442,
          5476100.467132469,
          5476978.084701935,
          5220477.233437306,
          5330286.894579908,
          5330286.894579908,
          5203797.11847442,
          5476100.467132469,
          5476100.467132469,
          5476100.467132469,
          5436864.360339696,
          5476100.467132469,
          5436864.360339696,
          5476100.467132469,
          1349908.799614798,
          1368439.5324397543,
          1367619.082918017,
          1367619.082918017,
          8292341.451624432,
          9004221.940049903,
          9364559.918356666,
          8292341.451624432,
          8496173.940979078,
          8557871.070797538,
          9364559.918356666,
          9364559.918356666,
          8292341.451624432,
          8143236.628777464,
          8422325.450082496,
          8322626.755191458,
          7849153.242587827,
          8557871.070797538,
          8406040.730599472,
          8557871.070797538,
          7849153.242587827,
          9004221.940049903,
          7849153.242587827,
          9004221.940049903,
          8411420.472807674,
          9004221.940049903,
          9364559.918356666,
          8292341.451624432,
          8292341.451624432,
          8411420.472807674,
          8322626.755191458,
          7849153.242587827,
          9090764.087314246,
          8406040.730599472,
          8496173.940979078,
          8240334.047499019,
          8322626.755191458,
          8240334.047499019,
          8406040.730599472,
          9364559.918356666,
          8411420.472807674,
          8143236.628777464,
          8240334.047499019,
          9090764.087314246,
          7849153.242587827,
          8406040.730599472,
          8292341.451624432,
          8706391.068085626,
          9364559.918356666,
          7849153.242587827,
          8143236.628777464,
          7849153.242587827,
          8240334.047499019,
          8322626.755191458,
          8292341.451624432,
          8322626.755191458,
          8422325.450082496,
          8143236.628777464,
          8411420.472807674,
          9364559.918356666,
          8557871.070797538,
          8240334.047499019,
          8240334.047499019,
          8240334.047499019,
          8322626.755191458,
          9090764.087314246,
          8422325.450082496,
          8411420.472807674,
          8240334.047499019,
          8143236.628777464,
          9090764.087314246,
          8411420.472807674,
          8557871.070797538,
          9364559.918356666,
          8411420.472807674,
          8292341.451624432,
          9004221.940049903,
          8411420.472807674,
          8292341.451624432,
          9090764.087314246,
          8557871.070797538,
          8406040.730599472,
          8143236.628777464,
          7849153.242587827,
          9004221.940049903,
          8706391.068085626,
          9339882.21699891,
          7849153.242587827,
          8143236.628777464,
          8406040.730599472,
          8292341.451624432,
          8292341.451624432,
          8292341.451624432,
          8557871.070797538,
          8143236.628777464,
          8411420.472807674,
          8240334.047499019,
          8292341.451624432,
          8292341.451624432,
          29598019.93415465,
          26198433.952843208,
          26198433.952843208,
          29251081.556415398,
          27281647.101005126,
          28985568.26864395,
          28985568.26864395,
          22088846.888789676,
          29598019.93415465,
          29598019.93415465,
          28985568.26864395,
          22866205.64885808,
          25489402.0724089,
          25489402.0724089,
          23803846.0661157,
          29598019.93415465,
          23803846.0661157,
          26198433.952843208,
          21599036.740132593,
          21111605.629634667,
          29598019.93415465,
          27281647.101005126,
          29598019.93415465,
          23803846.0661157,
          28985568.26864395,
          26198433.952843208,
          26198433.952843208,
          22866205.64885808,
          29251081.556415398,
          22001800.61287171,
          26198433.952843208,
          22088846.888789676,
          21599036.740132593,
          23803846.0661157,
          24269361.84289581,
          28985568.26864395,
          29598019.93415465,
          26198433.952843208,
          29598019.93415465,
          27281647.101005126,
          28985568.26864395,
          29598019.93415465,
          23803846.0661157,
          21599036.740132593,
          24269361.84289581,
          27281647.101005126,
          25095577.920158405,
          29251081.556415398,
          25095577.920158405,
          24269361.84289581,
          29251081.556415398,
          28307139.896478917,
          27281647.101005126,
          22866205.64885808,
          22088846.888789676,
          27281647.101005126,
          29251081.556415398,
          25095577.920158405,
          27281647.101005126,
          22866205.64885808,
          28307139.896478917,
          26198433.952843208,
          21111605.629634667,
          25489402.0724089,
          28985568.26864395,
          22001800.61287171,
          25095577.920158405,
          21111605.629634667,
          26198433.952843208,
          22866205.64885808,
          27281647.101005126,
          21111605.629634667,
          28307139.896478917,
          22088846.888789676,
          22866205.64885808,
          29598019.93415465,
          24269361.84289581,
          29598019.93415465,
          27281647.101005126,
          26198433.952843208,
          24269361.84289581,
          25489402.0724089,
          28985568.26864395,
          25095577.920158405,
          21673844.570853587,
          25095577.920158405,
          24269361.84289581,
          29598019.93415465,
          26198433.952843208,
          25095577.920158405,
          27281647.101005126,
          25095577.920158405,
          28985568.26864395,
          26198433.952843208,
          22088846.888789676,
          27281647.101005126,
          28307139.896478917,
          26198433.952843208,
          29598019.93415465,
          22001800.61287171,
          24269361.84289581,
          22866205.64885808,
          29598019.93415465,
          26198433.952843208,
          21673844.570853587,
          28307139.896478917,
          24269361.84289581,
          28985568.26864395,
          28985568.26864395,
          22088846.888789676,
          29598019.93415465,
          22866205.64885808,
          25095577.920158405,
          25489402.0724089,
          29598019.93415465,
          29251081.556415398,
          23803846.0661157,
          25095577.920158405,
          26198433.952843208,
          22088846.888789676,
          29598019.93415465,
          25095577.920158405,
          25095577.920158405,
          26198433.952843208,
          22001800.61287171,
          21673844.570853587,
          26198433.952843208,
          5986086.600802593,
          5642223.154991434,
          5762851.402576695,
          5943008.821638154,
          5994420.120375569,
          5808754.1695419485,
          5623114.303989271,
          5642223.154991434,
          5808754.1695419485,
          5808754.1695419485,
          5986086.600802593,
          5943008.821638154,
          5943008.821638154,
          5903725.278548314,
          5903725.278548314,
          5943008.821638154,
          5986086.600802593,
          5845840.868178422,
          5845840.868178422,
          5903725.278548314,
          5634826.1165315015,
          5845840.868178422,
          5920002.256434112,
          5650316.761557177,
          5943008.821638154,
          5903725.278548314,
          5808754.1695419485,
          5808754.1695419485,
          5758599.0729145445,
          5845840.868178422,
          5845840.868178422,
          5845840.868178422,
          5903725.278548314,
          5903725.278548314,
          5808754.1695419485,
          5943008.821638154,
          5920002.256434112,
          5808754.1695419485,
          5642223.154991434,
          5808754.1695419485,
          5808754.1695419485,
          5920002.256434112,
          5642223.154991434,
          3660945.16536636,
          3354378.280835847,
          3354378.280835847,
          3354378.280835847,
          3665095.7680563354,
          3679593.335089676,
          1929996.6265303227,
          1946970.2620308506,
          1929996.6265303227,
          1914723.3107695999,
          13831131.545076288,
          13656743.12622915,
          13693277.850843659,
          13700918.780075744,
          13973497.136140874,
          13656743.12622915,
          13973497.136140874,
          13799382.572113352,
          13619609.504692405,
          13656743.12622915,
          13490157.613661855,
          13831131.545076288,
          13739759.504817521,
          13709658.692802059,
          13563240.789208444,
          13831131.545076288,
          13973497.136140874,
          13693277.850843659,
          13973497.136140874,
          13595067.221710356,
          13799382.572113352,
          13831131.545076288,
          13574822.745736873,
          13799382.572113352,
          13831131.545076288,
          13595067.221710356,
          13831131.545076288,
          13563240.789208444,
          13619609.504692405,
          13700918.780075744,
          13700918.780075744,
          13839381.506299708,
          13574822.745736873,
          13693277.850843659,
          13739759.504817521,
          13595067.221710356,
          13973497.136140874,
          13656743.12622915,
          13574822.745736873,
          13831131.545076288,
          13619609.504692405,
          13831131.545076288,
          13831131.545076288,
          13595067.221710356,
          13831131.545076288,
          13709658.692802059,
          7680176.751059088,
          7574005.006472513,
          7680176.751059088,
          7564998.330619435,
          7864716.13721455,
          7970045.67155522,
          7574005.006472513,
          7680176.751059088,
          7680176.751059088,
          7970045.67155522,
          7680176.751059088,
          7574005.006472513,
          7680176.751059088,
          6521618.448455474,
          6868075.271033953,
          7574005.006472513,
          7574005.006472513,
          7680176.751059088,
          7680176.751059088,
          7970045.67155522,
          7970045.67155522,
          7225123.875279861,
          7680176.751059088,
          8306531.019818422,
          7574005.006472513,
          7574005.006472513,
          7574005.006472513,
          7746168.827175797,
          7574005.006472513,
          7970045.67155522,
          7574005.006472513,
          7574005.006472513,
          8306531.019818422,
          8306531.019818422,
          7574005.006472513,
          6868075.271033953,
          8306531.019818422,
          7574005.006472513,
          7970045.67155522,
          7680176.751059088,
          7525992.788474708,
          7680176.751059088,
          8306531.019818422,
          7746168.827175797,
          7680176.751059088,
          7225123.875279861,
          7574005.006472513,
          7746168.827175797,
          7680176.751059088,
          7970045.67155522,
          7421675.687279189,
          7574005.006472513,
          7564998.330619435,
          7680176.751059088,
          7574005.006472513,
          7746168.827175797,
          7680176.751059088,
          7574005.006472513,
          7574005.006472513,
          7574005.006472513,
          7574005.006472513,
          7574005.006472513,
          8306531.019818422,
          7970045.67155522,
          7970045.67155522,
          7680176.751059088,
          6868075.271033953,
          7680176.751059088,
          7864716.13721455,
          7574005.006472513,
          6583174.48547688,
          7680176.751059088,
          7746168.827175797,
          8306531.019818422,
          7574005.006472513,
          7680176.751059088,
          7574005.006472513,
          7970045.67155522,
          7574005.006472513,
          7574005.006472513,
          7680176.751059088,
          6868075.271033953,
          6868075.271033953,
          6868075.271033953,
          7574005.006472513,
          6868075.271033953,
          7574005.006472513,
          7680176.751059088,
          7864716.13721455,
          6868075.271033953,
          7680176.751059088,
          6521618.448455474,
          7574005.006472513,
          7680176.751059088,
          7970045.67155522,
          7680176.751059088,
          7746168.827175797,
          5225717.5544067575,
          5238996.024797367,
          5238996.024797367,
          5247943.922989501,
          5247943.922989501,
          4898141.38715164,
          5247943.922989501,
          5247943.922989501,
          4947250.468269657,
          5207827.271850897,
          5268602.410910349,
          5268602.410910349,
          5268602.410910349,
          4526483.824829589,
          4713002.9865623,
          5268602.410910349,
          5310353.7204895355,
          5268602.410910349,
          5247943.922989501,
          5225717.5544067575,
          5247943.922989501,
          4526483.824829589,
          4947250.468269657,
          5238996.024797367,
          5225717.5544067575,
          5268602.410910349,
          4947250.468269657,
          4898141.38715164,
          6584084.8442561645,
          5978901.811340024,
          6077703.634116406,
          6280464.525836233,
          5978901.811340024,
          6077703.634116406,
          6066260.148367652,
          6542694.554921874,
          6584084.8442561645,
          6639506.8423906285,
          6584084.8442561645,
          6558140.333951211,
          6639506.8423906285,
          6584084.8442561645,
          6639506.8423906285,
          6584084.8442561645,
          6542694.554921874,
          5863262.2329800865,
          6639506.8423906285,
          6584084.8442561645,
          6542694.554921874,
          6558140.333951211,
          6066260.148367652,
          6584084.8442561645,
          6582606.085710632,
          6584084.8442561645,
          5863262.2329800865,
          6639506.8423906285,
          6542694.554921874,
          6077703.634116406,
          6584084.8442561645,
          6639506.8423906285,
          6542694.554921874,
          6542694.554921874,
          6584084.8442561645,
          6542694.554921874,
          6558140.333951211,
          5863262.2329800865,
          6584084.8442561645,
          5863262.2329800865,
          6584084.8442561645,
          6542694.554921874,
          6584084.8442561645,
          6280464.525836233,
          6634362.713620242,
          6496649.394515831,
          6132600.096079497,
          6639506.8423906285,
          6584084.8442561645,
          6584084.8442561645,
          5863262.2329800865,
          6132600.096079497,
          6582606.085710632,
          6639506.8423906285,
          6584084.8442561645,
          6553971.141722191,
          6066260.148367652,
          6542694.554921874,
          11624470.01975096,
          12384428.093935193,
          12293719.462727604,
          12384428.093935193,
          12456789.284734277,
          12293719.462727604,
          12384428.093935193,
          11939469.978202924,
          12372810.475787027,
          11624470.01975096,
          11624470.01975096,
          12293719.462727604,
          12372810.475787027,
          11650280.723435227,
          12384428.093935193,
          11624470.01975096,
          12867351.344847944,
          12293719.462727604,
          11750832.642217828,
          11833614.14091325,
          12384428.093935193,
          11650280.723435227,
          12571336.707166357,
          12562342.398830736,
          12384428.093935193,
          12372810.475787027,
          11939469.978202924,
          12384428.093935193,
          12867351.344847944,
          11939469.978202924,
          12293719.462727604,
          12384428.093935193,
          12562342.398830736,
          12384428.093935193,
          11939469.978202924,
          12162951.502442155,
          12372810.475787027,
          11722010.512925941,
          11624470.01975096,
          12562342.398830736,
          12562342.398830736,
          12293719.462727604,
          12384428.093935193,
          12562342.398830736,
          11939469.978202924,
          12562342.398830736,
          12384428.093935193,
          11799476.256580265,
          12384428.093935193,
          12372810.475787027,
          11799476.256580265,
          12384428.093935193,
          12384428.093935193,
          12372810.475787027,
          12571336.707166357,
          12293719.462727604,
          12293719.462727604,
          3488633.0259740273,
          3492988.462650996,
          3344345.1154241664,
          3488633.0259740273,
          3344345.1154241664,
          3478443.336249097,
          3355430.700274786,
          3355430.700274786,
          3344345.1154241664,
          3344345.1154241664,
          3355430.700274786,
          3355430.700274786,
          3344345.1154241664,
          2516661.3129912154,
          2632518.665476286,
          2588394.342995662,
          2567693.6784031736,
          2567693.6784031736,
          2567693.6784031736,
          2588394.342995662,
          2632518.665476286,
          2701008.6061389656,
          2632518.665476286,
          2701008.6061389656,
          2632518.665476286,
          2516661.3129912154,
          2588394.342995662,
          2567693.6784031736,
          2516661.3129912154,
          2397122.1282416633,
          2516661.3129912154,
          2567693.6784031736,
          2397556.9038656224,
          2516661.3129912154,
          2516661.3129912154,
          2701008.6061389656,
          2516661.3129912154,
          2632518.665476286,
          2701008.6061389656,
          2588394.342995662,
          2516661.3129912154,
          2516661.3129912154,
          2588394.342995662,
          2516661.3129912154,
          2516661.3129912154,
          2464704.1262503434,
          2453412.5940874023,
          2588394.342995662,
          2567693.6784031736,
          2701008.6061389656,
          2567693.6784031736,
          2516661.3129912154,
          2632518.665476286,
          2567693.6784031736,
          10813377.206518272,
          10747684.428651242,
          10813377.206518272,
          10502085.652824633,
          10580774.295380991,
          10919795.677333284,
          10649344.931098932,
          10580774.295380991,
          10384098.584450731,
          10384098.584450731,
          10777745.251079416,
          10649344.931098932,
          10580774.295380991,
          10649344.931098932,
          10237946.141559556,
          10672400.978165938,
          10697069.401438132,
          10777745.251079416,
          10580774.295380991,
          10672400.978165938,
          10580774.295380991,
          10899160.675602451,
          10777745.251079416,
          10649344.931098932,
          10672400.978165938,
          10384098.584450731,
          10649344.931098932,
          10697069.401438132,
          10323405.186076513,
          10580774.295380991,
          10384098.584450731,
          10502085.652824633,
          10580774.295380991,
          10237946.141559556,
          10384098.584450731,
          10580774.295380991,
          10580774.295380991,
          10580774.295380991,
          10580774.295380991,
          10237946.141559556,
          10580774.295380991,
          10649344.931098932,
          10899160.675602451,
          7622129.677371772,
          8168130.061426491,
          8450521.319797989,
          8782177.206531333,
          8717589.306223659,
          8652009.29616247,
          8782177.206531333,
          8652009.29616247,
          8774252.907539055,
          8652009.29616247,
          8876205.748094056,
          8652009.29616247,
          8860337.814172912,
          8717041.758000866,
          7622129.677371772,
          8774252.907539055,
          8782177.206531333,
          8774252.907539055,
          7915586.115792227,
          8782177.206531333,
          8450521.319797989,
          8168130.061426491,
          8717589.306223659,
          8652009.29616247,
          8749173.559308052,
          7915586.115792227,
          7981632.627250885,
          8782177.206531333,
          8774252.907539055,
          8717589.306223659,
          8717589.306223659,
          8860337.814172912,
          8759877.239031704,
          8774252.907539055,
          8782177.206531333,
          7622129.677371772,
          8717041.758000866,
          7915586.115792227,
          8749173.559308052,
          8774252.907539055,
          10000672.286774535,
          10193954.244703453,
          10242454.455519471,
          10178870.042659584,
          10167932.77390966,
          10178870.042659584,
          10438333.87368027,
          10178870.042659584,
          10241437.804281948,
          10193954.244703453,
          10438333.87368027,
          10438333.87368027,
          10178870.042659584,
          10178870.042659584,
          10193954.244703453,
          10000672.286774535,
          10178870.042659584,
          10242454.455519471,
          10438333.87368027,
          10178870.042659584,
          10167932.77390966,
          10241437.804281948,
          10178870.042659584,
          10178870.042659584,
          10327203.569458812,
          10241437.804281948,
          10167932.77390966,
          10241437.804281948,
          10327203.569458812,
          10178870.042659584,
          10178870.042659584,
          10327203.569458812,
          10241437.804281948,
          10178870.042659584,
          10327203.569458812,
          3335827.9291196307,
          3516578.703736393,
          3537639.321260518,
          3537639.321260518,
          3272620.997295787,
          3335827.9291196307,
          3272620.997295787,
          3537639.321260518,
          4175479.327070981,
          4175479.327070981,
          3999715.911925205,
          3904302.0783442995,
          3922105.002272915,
          4093328.6170351245,
          3999715.911925205,
          3762674.523336294,
          4000420.133150591,
          4093328.6170351245,
          3422074.4546402507,
          4175479.327070981,
          3904302.0783442995,
          4093328.6170351245,
          3904302.0783442995,
          3922105.002272915,
          3422074.4546402507,
          4175479.327070981,
          3922105.002272915,
          4175479.327070981,
          3999715.911925205,
          3422074.4546402507,
          3922105.002272915,
          3999715.911925205,
          3904302.0783442995,
          3999715.911925205,
          2154700.0338782305,
          2181900.6233766205,
          2154700.0338782305,
          1922081.7324785208,
          2181900.6233766205,
          2138559.046202165,
          2148301.067731357,
          2138559.046202165,
          2156608.494517816,
          2154700.0338782305,
          5246379.850092286,
          5346462.538474719,
          5346462.538474719,
          5346462.538474719,
          5259821.17524597,
          5273820.822960578,
          5246379.850092286,
          5127301.563001261,
          5249778.49606413,
          5249948.263522884,
          5249948.263522884,
          5249948.263522884,
          5138422.7701539695,
          5138422.7701539695,
          5273820.822960578,
          5273820.822960578,
          5203065.9267800525,
          1199791.103749442,
          1186976.27238558,
          1166423.5559137147,
          1186976.27238558,
          1213511.985626027,
          1213511.985626027,
          1186976.27238558,
          1213511.985626027,
          1186976.27238558,
          1166423.5559137147,
          1213511.985626027,
          1199326.3749363415,
          1186976.27238558,
          1166423.5559137147,
          1195630.3482826687,
          1186976.27238558,
          1186976.27238558,
          1213511.985626027,
          1213511.985626027,
          1166423.5559137147,
          1124999.3261593448,
          1186976.27238558,
          1186976.27238558,
          1166423.5559137147,
          1186976.27238558,
          1166423.5559137147,
          1186976.27238558,
          1195630.3482826687,
          1186976.27238558,
          1166423.5559137147,
          1166423.5559137147,
          1166423.5559137147,
          1186976.27238558,
          1195630.3482826687,
          1195630.3482826687,
          1204393.8978011438,
          1166423.5559137147,
          1166423.5559137147,
          1199326.3749363415,
          1213511.985626027,
          1186976.27238558,
          3128863.395673326,
          2894203.559662908,
          3085131.7431192673,
          3128863.395673326,
          3082897.116537904,
          3128863.395673326,
          2894203.559662908,
          2873130.4559409926,
          809163.4442158436,
          804776.5267790726,
          778402.7599128725,
          22647913.824828766,
          25560001.79078404,
          25560001.79078404,
          25145569.087126374,
          22526950.986255437,
          23214842.748630304,
          25145569.087126374,
          25145569.087126374,
          25145569.087126374,
          25474326.669972654,
          23480592.954545505,
          25264051.427003644,
          25431617.937829766,
          25264051.427003644,
          22770133.34230497,
          25560001.79078404,
          25211855.6152853,
          23150507.06373837,
          25474326.669972654,
          25389718.37811973,
          25474326.669972654,
          25431617.937829766,
          25474326.669972654,
          25211855.6152853,
          23150507.06373837,
          25145569.087126374,
          23150507.06373837,
          25145569.087126374,
          25145569.087126374,
          23150507.06373837,
          25431617.937829766,
          22647913.824828766,
          25145569.087126374,
          25145569.087126374,
          25474326.669972654,
          25145569.087126374,
          25264051.427003644,
          23480592.954545505,
          25145569.087126374,
          25211855.6152853,
          25145569.087126374,
          25211855.6152853,
          25145569.087126374,
          23495153.244167745,
          25211855.6152853,
          25264051.427003644,
          22647913.824828766,
          25211855.6152853,
          22647913.824828766,
          22770133.34230497,
          25145569.087126374,
          23242799.10189221,
          25145569.087126374,
          25389718.37811973,
          25474326.669972654,
          25389718.37811973,
          23150507.06373837,
          25145569.087126374,
          23495153.244167745,
          25145569.087126374,
          25211855.6152853,
          23495153.244167745,
          25560001.79078404,
          25560001.79078404,
          25474326.669972654,
          25145569.087126374,
          25145569.087126374,
          22770133.34230497,
          23495153.244167745,
          23480592.954545505,
          25431617.937829766,
          4256150.091898929,
          4488184.004113111,
          4351322.846227438,
          4642795.230295861,
          4642795.230295861,
          4485552.246288211,
          4351322.846227438,
          4642795.230295861,
          4110793.862613501,
          4642795.230295861,
          4485552.246288211,
          4642795.230295861,
          4379687.029404435,
          4351322.846227438,
          4110793.862613501,
          4485552.246288211,
          4488184.004113111,
          4404907.530639264,
          4488184.004113111,
          4256150.091898929,
          4256150.091898929,
          4642795.230295861,
          4488184.004113111,
          4256150.091898929,
          4256150.091898929,
          4485552.246288211,
          4642795.230295861,
          4379687.029404435,
          4379687.029404435,
          4256150.091898929,
          4642795.230295861,
          4488184.004113111,
          4246169.524919415,
          4267911.273553198,
          4193805.9387098905,
          4642795.230295861,
          4485552.246288211,
          4379687.029404435,
          4404907.530639264,
          4642795.230295861,
          15421796.182122499,
          15150965.523340812,
          16075642.846787283,
          16075642.846787283,
          15912099.781926,
          15912099.781926,
          16150141.672167398,
          14602134.778144881,
          15067699.490543438,
          16075642.846787283,
          15912099.781926,
          15408948.370942026,
          15408948.370942026,
          15408948.370942026,
          15408948.370942026,
          15408948.370942026,
          15273007.072979888,
          16075642.846787283,
          15408948.370942026,
          15912099.781926,
          15465551.271979433,
          15408948.370942026,
          16075642.846787283,
          15912099.781926,
          15421796.182122499,
          15408948.370942026,
          15408948.370942026,
          16075642.846787283,
          15912099.781926,
          15912099.781926,
          15408948.370942026,
          15421796.182122499,
          15408948.370942026,
          15912099.781926,
          15408948.370942026,
          15408948.370942026,
          16075642.846787283,
          15408948.370942026,
          15408948.370942026,
          16075642.846787283,
          15408948.370942026,
          15408948.370942026,
          15067699.490543438,
          15067699.490543438,
          14966917.156003322,
          40590667.00907879,
          41377927.94117873,
          40144833.84685838,
          44266063.44936187,
          43150309.47314173,
          42455088.5266551,
          41377927.94117873,
          40144833.84685838,
          39554525.88388436,
          42455088.5266551,
          39554525.88388436,
          39554525.88388436,
          42455088.5266551,
          41377927.94117873,
          44266063.44936187,
          42455088.5266551,
          41146323.831042595,
          40844289.31645043,
          42455088.5266551,
          44266063.44936187,
          41146323.831042595,
          44266063.44936187,
          40844289.31645043,
          41146323.831042595,
          40590667.00907879,
          41146323.831042595,
          40995450.54573689,
          44266063.44936187,
          41377927.94117873,
          40844289.31645043,
          41377927.94117873,
          40144833.84685838,
          40590667.00907879,
          38892510.07130546,
          41377927.94117873,
          40144833.84685838,
          41377927.94117873,
          41377927.94117873,
          38892510.07130546,
          41377927.94117873,
          40844289.31645043,
          40144833.84685838,
          44266063.44936187,
          43150309.47314173,
          44266063.44936187,
          44266063.44936187,
          44266063.44936187,
          42455088.5266551,
          42455088.5266551,
          42455088.5266551,
          40995450.54573689,
          42455088.5266551,
          36844191.059460305,
          40144833.84685838,
          40590667.00907879,
          39554525.88388436,
          40844289.31645043,
          42455088.5266551,
          41615413.57878578,
          37439076.269618966,
          44266063.44936187,
          42455088.5266551,
          45745566.04074206,
          42455088.5266551,
          45745566.04074206,
          40144833.84685838,
          41146323.831042595,
          40144833.84685838,
          44266063.44936187,
          41146323.831042595,
          42455088.5266551,
          41146323.831042595,
          44266063.44936187,
          40844289.31645043,
          38892510.07130546,
          39554525.88388436,
          40590667.00907879,
          39554525.88388436,
          42455088.5266551,
          40590667.00907879,
          44266063.44936187,
          40590667.00907879,
          37439076.269618966,
          41146323.831042595,
          41377927.94117873,
          36844191.059460305,
          40844289.31645043,
          36844191.059460305,
          40844289.31645043,
          38295087.34757296,
          41377927.94117873,
          40844289.31645043,
          42455088.5266551,
          40844289.31645043,
          40844289.31645043,
          44266063.44936187,
          40844289.31645043,
          37439076.269618966,
          38892510.07130546,
          38892510.07130546,
          40844289.31645043,
          41615413.57878578,
          41377927.94117873,
          41615413.57878578,
          38295087.34757296,
          43150309.47314173,
          38295087.34757296,
          40995450.54573689,
          44266063.44936187,
          40590667.00907879,
          41377927.94117873,
          44266063.44936187,
          38892510.07130546,
          39554525.88388436,
          41615413.57878578,
          40995450.54573689,
          36844191.059460305,
          40995450.54573689,
          40844289.31645043,
          41377927.94117873,
          44266063.44936187,
          40995450.54573689,
          40844289.31645043,
          41146323.831042595,
          40995450.54573689,
          41377927.94117873,
          39554525.88388436,
          40144833.84685838,
          40995450.54573689,
          41615413.57878578,
          37439076.269618966,
          41615413.57878578,
          45745566.04074206,
          44266063.44936187,
          38295087.34757296,
          44266063.44936187,
          41615413.57878578,
          39554525.88388436,
          36942792.745446526,
          44266063.44936187,
          43150309.47314173,
          41146323.831042595,
          40844289.31645043,
          40844289.31645043,
          40844289.31645043,
          41146323.831042595,
          36844191.059460305,
          41146323.831042595,
          40844289.31645043,
          40995450.54573689,
          44266063.44936187,
          41377927.94117873,
          41146323.831042595,
          40590667.00907879,
          41377927.94117873,
          41146323.831042595,
          40844289.31645043,
          44266063.44936187,
          41146323.831042595,
          40844289.31645043,
          41615413.57878578,
          41615413.57878578,
          38892510.07130546,
          40590667.00907879,
          40844289.31645043,
          45745566.04074206,
          41615413.57878578,
          36844191.059460305,
          41146323.831042595,
          36844191.059460305,
          40590667.00907879,
          40590667.00907879,
          38892510.07130546,
          41377927.94117873,
          36844191.059460305,
          40590667.00907879,
          41377927.94117873,
          43150309.47314173,
          40590667.00907879,
          38892510.07130546,
          43150309.47314173,
          36844191.059460305,
          37439076.269618966,
          40995450.54573689,
          43150309.47314173,
          40590667.00907879,
          44266063.44936187,
          44266063.44936187,
          40844289.31645043,
          42455088.5266551,
          40995450.54573689,
          40995450.54573689,
          44266063.44936187,
          40995450.54573689,
          40590667.00907879,
          41377927.94117873,
          40844289.31645043,
          41377927.94117873,
          41615413.57878578,
          39554525.88388436,
          40844289.31645043,
          41615413.57878578,
          38892510.07130546,
          42455088.5266551,
          41377927.94117873,
          40590667.00907879,
          40590667.00907879,
          38295087.34757296,
          41377927.94117873,
          43150309.47314173,
          2144334.0407455005,
          2214864.50733409,
          2144334.0407455005,
          2189829.673290971,
          2235214.5930862054,
          2189829.673290971,
          2235214.5930862054,
          2214864.50733409,
          2235214.5930862054,
          2214864.50733409,
          2249247.8809084357,
          2189829.673290971,
          2184302.1028189575,
          2214864.50733409,
          2214864.50733409,
          2189829.673290971,
          1958897.4603410438,
          2214864.50733409,
          2086276.5446236888,
          2059365.0274485347,
          2235214.5930862054,
          2251340.1116294228,
          2235214.5930862054,
          2189829.673290971,
          2249247.8809084357,
          8426984.354207586,
          8878977.405518424,
          8878977.405518424,
          8772017.886292277,
          8772017.886292277,
          7987487.474753948,
          8658142.99895676,
          7886993.23596757,
          7536342.642798077,
          8878977.405518424,
          8772017.886292277,
          8878977.405518424,
          8837532.857961642,
          8878977.405518424,
          8878977.405518424,
          8292967.288197728,
          8873054.297650531,
          8873054.297650531,
          7760464.911603563,
          8837532.857961642,
          8779486.385154221,
          8837532.857961642,
          8873054.297650531,
          8779486.385154221,
          8426984.354207586,
          8426984.354207586,
          8772017.886292277,
          7732355.157593634,
          8278723.744607298,
          7886993.23596757,
          8292967.288197728,
          8278723.744607298,
          8873054.297650531,
          8878977.405518424,
          8278723.744607298,
          8772017.886292277,
          8837532.857961642,
          1903207.4238162683,
          1787396.295572406,
          1708459.5040074834,
          1727640.8133063442,
          797223.9861182537,
          765554.9570041607,
          765554.9570041607,
          722479.5001859635,
          722479.5001859635,
          771498.4350878658,
          1741482.7434172283,
          1716565.7723778824,
          1544634.9715051958,
          1716565.7723778824,
          1716565.7723778824,
          1716565.7723778824,
          1716565.7723778824,
          1716565.7723778824,
          554238.6655715348,
          559044.2155494643,
          559044.2155494643,
          559044.2155494643,
          554554.2898902037,
          565790.9236750306,
          559044.2155494643,
          565790.9236750306,
          559044.2155494643,
          8470399.799477007,
          8605004.57147016,
          8470399.799477007,
          8470399.799477007,
          8576311.305005675,
          8576311.305005675,
          8605004.57147016,
          8873959.811812855,
          8597392.460242495,
          8667687.86458957,
          8470399.799477007,
          8781384.645006213,
          8627433.880891176,
          8781384.645006213,
          8470399.799477007,
          8576311.305005675,
          8596275.68444223,
          4759489.657210097,
          4671278.975452517,
          4759489.657210097,
          4843080.846272505,
          4671278.975452517,
          4759489.657210097,
          4899244.303216874,
          4671278.975452517,
          4671278.975452517,
          4759489.657210097,
          5008944.545454528,
          4826603.431936882,
          4759489.657210097,
          4826603.431936882,
          4615091.077588309,
          4847304.258929854,
          4714526.399576393,
          4899244.303216874,
          3436114.042693204,
          3311334.7070147037,
          2731489.2210124843,
          3311334.7070147037,
          3207085.858824025,
          3073539.4964366546,
          3207085.858824025,
          3073539.4964366546,
          2906606.2341937046,
          3436114.042693204,
          3438061.0447295704,
          2877314.8898975644,
          3436114.042693204,
          3207085.858824025,
          3381960.85161997,
          3207085.858824025,
          3381960.85161997,
          3381960.85161997,
          3207085.858824025,
          2749692.23243404,
          3436114.042693204,
          3436114.042693204,
          3311334.7070147037,
          3207085.858824025,
          8507551.177026844,
          8600116.39048091,
          8507551.177026844,
          8507551.177026844,
          8600116.39048091,
          7860023.918110857,
          8504812.610959552,
          8600116.39048091,
          8600116.39048091,
          8600116.39048091,
          7851455.490656308,
          8777896.765258556,
          8600116.39048091,
          8504812.610959552,
          7890183.706332621,
          8504812.610959552,
          8504812.610959552,
          8600116.39048091,
          1048698.1818181823,
          1055046.8223006763,
          1055046.8223006763,
          1048698.1818181823,
          1055046.8223006763,
          1012331.1175668079,
          1055046.8223006763,
          1075891.239717224,
          1060784.1898832521,
          1057045.568831223,
          1057045.568831223,
          1074128.194218284,
          1033245.2909598841,
          1028158.3140342173,
          1028158.3140342173,
          1075891.239717224,
          1057045.568831223,
          1041674.2300855559,
          1048698.1818181823,
          1316837.986336075,
          1316837.986336075,
          1316837.986336075,
          1321419.1940486655,
          1321419.1940486655,
          1316837.986336075,
          1321419.1940486655,
          1321419.1940486655,
          1311154.0933134963,
          1269684.604486423,
          1321419.1940486655,
          1321419.1940486655,
          1321419.1940486655,
          1316837.986336075,
          2507420.052830664,
          2450708.877386562,
          2530562.335286094,
          2507420.052830664,
          2471869.5627959133,
          2561084.6835373086,
          2471869.5627959133,
          5533730.13315148,
          5533730.13315148,
          4993751.240091486,
          5386610.434161322,
          5357359.034275912,
          5386610.434161322,
          5793313.0583420275,
          5770587.063067531,
          5449506.330613003,
          5358598.796201891,
          4993269.220961365,
          5449506.330613003,
          5449506.330613003,
          4993269.220961365,
          5449506.330613003,
          2438432.8419850534,
          2661273.988403821,
          2661273.988403821,
          2661273.988403821,
          2561653.395554289,
          2661273.988403821,
          2755991.198020427,
          2661273.988403821,
          2426298.567228113,
          1391776.003491663,
          1422366.4096582981,
          1348533.6788321116,
          1348533.6788321116,
          1348533.6788321116,
          1202349.440505329,
          1147869.6350607323,
          1045427.1416544426,
          1147869.6350607323,
          1022222.8300405601,
          1147869.6350607323,
          1202349.440505329,
          1202349.440505329,
          1202349.440505329,
          821077.7521119656,
          569806.0947064959,
          781997.4380891173,
          781997.4380891173,
          805580.6048273544
         ],
         "xaxis": "x",
         "y": [
          3060,
          1,
          3000,
          2550,
          1740,
          1860,
          2970,
          3960,
          155,
          3621,
          7740,
          8880,
          0,
          1322,
          60,
          19,
          0,
          21,
          196,
          840,
          935,
          1260,
          null,
          619,
          150,
          762,
          0,
          660,
          1,
          2700,
          1,
          4921,
          95,
          251,
          4125,
          2550,
          null,
          1200,
          310,
          2818,
          5054,
          136,
          528,
          150,
          46,
          1,
          1920,
          null,
          32,
          null,
          135,
          3000,
          32,
          108653,
          8468,
          960,
          44,
          1605,
          4410,
          388,
          480,
          1219,
          90,
          18660,
          538,
          104,
          60,
          1272,
          60,
          1,
          1000,
          17339,
          9576,
          3090,
          6510,
          5820,
          1078,
          1513,
          4830,
          3051,
          4200,
          2085,
          5730,
          4290,
          2670,
          3540,
          3637,
          1710,
          4320,
          3915,
          3120,
          4590,
          7530,
          5034,
          8160,
          3300,
          4320,
          1770,
          9857,
          4080,
          5670,
          5700,
          1995,
          300,
          5115,
          2670,
          7650,
          4338,
          761,
          5760,
          2820,
          4110,
          3360,
          3015,
          232,
          11525,
          6420,
          46080,
          5700,
          5610,
          78377,
          270,
          4050,
          5865,
          1,
          2325,
          4170,
          4485,
          2694,
          168,
          5580,
          705,
          11850,
          3494,
          4560,
          2760,
          5760,
          8922,
          6030,
          7800,
          4242,
          3120,
          5700,
          900,
          1046,
          7620,
          3630,
          1260,
          5840,
          5790,
          2820,
          600,
          4259,
          2939,
          7080,
          3600,
          1588,
          4260,
          2700,
          200,
          8430,
          85,
          9150,
          1019,
          420,
          1140,
          7440,
          4458,
          373,
          1203,
          868,
          1455,
          206,
          1195,
          1559,
          900,
          2690,
          5115,
          5,
          189,
          2142,
          360,
          null,
          225,
          2340,
          480,
          9486,
          480,
          3000,
          300,
          3020,
          766,
          null,
          1335,
          197,
          245,
          3255,
          12180,
          1077,
          600,
          186,
          690,
          27698,
          402,
          2420,
          327,
          1,
          1860,
          220,
          455,
          318,
          757,
          847,
          410,
          215,
          5,
          570,
          12124,
          2655,
          20160,
          1440,
          600,
          39,
          181,
          1185,
          1500,
          0,
          271,
          1860,
          1200,
          2159,
          6300,
          null,
          1620,
          224,
          70,
          1697,
          95,
          2220,
          null,
          7809,
          1200,
          121,
          63,
          5595,
          1,
          557,
          240,
          3360,
          685,
          2280,
          210,
          167,
          1920,
          3569,
          3300,
          10,
          1560,
          840,
          240,
          990,
          6000,
          17865,
          1282,
          1080,
          7540,
          1320,
          1110,
          27698,
          130,
          3040,
          394,
          10140,
          20160,
          21540,
          45,
          1,
          1200,
          550,
          900,
          885,
          940,
          null,
          3050,
          1830,
          6000,
          1500,
          150,
          1955,
          2220,
          330,
          74,
          420,
          1440,
          255,
          1060,
          12240,
          5250,
          4320,
          120,
          233,
          null,
          65,
          2120,
          96,
          3,
          4320,
          65,
          2146,
          96,
          4032,
          2580,
          6,
          569,
          0,
          15950,
          200,
          1980,
          4045,
          2730,
          3314,
          7319,
          1,
          47,
          1440,
          276,
          0,
          0,
          3646,
          1130,
          2880,
          513,
          35,
          23773,
          10,
          3872,
          23187,
          12240,
          390,
          null,
          3264,
          1230,
          803,
          77,
          30,
          300,
          1,
          5,
          1450,
          2680,
          null,
          7609,
          150,
          3000,
          420,
          479,
          1680,
          2700,
          149,
          1110,
          2790,
          659,
          1320,
          1830,
          3000,
          null,
          870,
          810,
          1336,
          1695,
          360,
          360,
          120,
          3000,
          1290,
          1530,
          2370,
          1200,
          1200,
          90,
          120,
          1200,
          2761,
          720,
          1120,
          2100,
          960,
          450,
          1440,
          1020,
          0,
          2010,
          120,
          9230,
          1240,
          465,
          0,
          2460,
          1183,
          8880,
          394,
          219,
          487,
          19,
          28,
          0,
          1,
          5340,
          8940,
          467,
          0,
          1920,
          0,
          25,
          420,
          2040,
          0,
          1,
          1423,
          60,
          1620,
          3300,
          385,
          663,
          123,
          1276,
          1919,
          null,
          440,
          6690,
          null,
          0,
          null,
          717,
          1204,
          292,
          313,
          1,
          5,
          6276,
          0,
          74,
          0,
          null,
          248,
          1,
          2700,
          25,
          126,
          1,
          255,
          1207,
          0,
          0,
          245,
          476,
          null,
          null,
          null,
          1,
          2639,
          502,
          548,
          369,
          6480,
          15,
          5,
          null,
          1,
          0,
          432,
          21,
          1697,
          0,
          2615,
          9630,
          3507,
          2820,
          314,
          5855,
          0,
          0,
          1,
          22769,
          70,
          4285,
          355,
          0,
          2520,
          0,
          180,
          554,
          50,
          70,
          180,
          3842,
          35,
          1,
          189,
          49320,
          4200,
          353,
          1,
          87,
          66,
          null,
          1,
          227,
          null,
          1440,
          1,
          2700,
          null,
          49320,
          2,
          215,
          451,
          418,
          100,
          2021,
          1671,
          3938,
          4470,
          2279,
          4440,
          2760,
          0,
          1,
          0,
          1,
          1840,
          428,
          331,
          1980,
          1,
          1,
          1950,
          3037,
          1,
          1,
          1196,
          5628,
          1440,
          7700,
          2,
          12890,
          4232,
          95,
          2610,
          4320,
          17,
          113,
          0,
          2507,
          0,
          1,
          4920,
          1,
          4080,
          0,
          960,
          185,
          1320,
          1673,
          2855,
          3060,
          565,
          1,
          1,
          7298,
          5790,
          3040,
          11700,
          7987,
          304,
          4517,
          0,
          3058,
          13381,
          2865,
          152,
          380,
          9450,
          7803,
          5579,
          8979,
          4800,
          3060,
          4792,
          3894,
          1757,
          2880,
          2985,
          164,
          3232,
          2319,
          4338,
          2880,
          1714,
          90,
          59,
          4139,
          10530,
          6938,
          930,
          278,
          299,
          5320,
          2880,
          1,
          4260,
          6713,
          5160,
          1440,
          78,
          7523,
          2668,
          1,
          376,
          1324,
          6940,
          2684,
          54,
          100,
          720,
          2880,
          3189,
          2790,
          13679,
          2843,
          13488,
          1642,
          7709,
          7080,
          1440,
          1,
          1680,
          1579,
          652,
          108,
          300,
          1020,
          3570,
          6492,
          23700,
          10499,
          15180,
          0,
          120,
          1,
          1,
          1,
          1,
          1,
          1,
          60,
          113,
          204,
          31,
          57,
          13,
          2,
          11,
          283,
          0,
          1,
          871,
          1631,
          56,
          15,
          15,
          20,
          60,
          1,
          95,
          300,
          1,
          3186,
          575,
          2275,
          15,
          1,
          44,
          21,
          1,
          114,
          1,
          60,
          4920,
          null,
          4920,
          420,
          0,
          7,
          21,
          340,
          4200,
          805,
          5040,
          7430,
          5490,
          165,
          3630,
          11640,
          1590,
          3137,
          1440,
          7920,
          360,
          0,
          1440,
          1372,
          6480,
          2190,
          285,
          75,
          1843,
          1,
          11531,
          1420,
          0,
          930,
          11420,
          0,
          352,
          0,
          960,
          1733,
          3690,
          10619,
          634,
          11280,
          1440,
          180,
          1574,
          45,
          563,
          388,
          373,
          4510,
          290,
          1950,
          270,
          1355,
          1318,
          2490,
          1265,
          195,
          3120,
          3388,
          1025,
          990,
          240,
          1485,
          129,
          0,
          1528,
          1890,
          2551,
          985,
          405,
          1698,
          167,
          1460,
          182,
          4113,
          null,
          885,
          15,
          42,
          1050,
          1,
          132,
          4140,
          2880,
          null,
          11430,
          3599,
          0,
          2941,
          null,
          6090,
          1365,
          375,
          2520,
          10080,
          76,
          0,
          3720,
          333,
          0,
          353,
          11337,
          0,
          0,
          7020,
          11058,
          null,
          9360,
          3300,
          3339,
          2880,
          11580,
          9600,
          13201,
          9719,
          488,
          2415,
          180,
          4177,
          7440,
          3480,
          6600,
          300,
          1526,
          60,
          210,
          2,
          1350,
          73,
          1,
          200,
          0,
          null,
          4380,
          0,
          120,
          2680,
          840,
          989,
          4313,
          214,
          4,
          164,
          91,
          1050,
          838,
          60,
          1,
          1,
          9886,
          2425,
          390,
          14500,
          6660,
          159,
          54,
          30,
          8077,
          855,
          65,
          810,
          4150,
          4740,
          25,
          0,
          null,
          2070,
          870,
          12652,
          2880,
          120,
          1199,
          null,
          1470,
          4140,
          15420,
          50,
          0,
          1,
          1,
          0,
          0,
          0,
          457,
          1,
          1,
          0,
          30,
          1,
          1,
          65,
          1,
          0,
          0,
          0,
          1,
          null,
          1,
          0,
          1,
          1,
          110,
          39,
          1,
          1,
          1,
          1,
          1,
          1,
          507,
          213,
          4254,
          1,
          1,
          53,
          0,
          0,
          251,
          347,
          1637,
          21360,
          2161,
          2880,
          1044,
          8670,
          56,
          93,
          13,
          2089,
          20280,
          14639,
          2880,
          681,
          494,
          1,
          5355,
          0,
          3943,
          3300,
          191,
          0,
          73,
          4680,
          17310,
          10080,
          10726,
          1,
          5,
          2515,
          25920,
          2730,
          9480,
          5400,
          30,
          3584,
          3600,
          5850,
          4710,
          1,
          1732,
          0,
          23040,
          1800,
          6074,
          null,
          49,
          2299,
          5760,
          420,
          7320,
          2880,
          448,
          2520,
          18717,
          5513,
          21,
          2100,
          3120,
          8221,
          3240,
          2880,
          255,
          2355,
          161,
          50,
          258,
          13140,
          8640,
          18240,
          15492,
          8268,
          0,
          300,
          14400,
          7962,
          2400,
          11296,
          48,
          60480,
          28170,
          300,
          8054,
          2775,
          2775,
          2160,
          2100,
          2775,
          3180,
          2775,
          1440,
          430,
          2129,
          1755,
          null,
          692,
          732,
          7,
          510,
          420,
          13215,
          557,
          300,
          17812,
          20416,
          6240,
          467,
          3067,
          3060,
          355,
          430,
          300,
          227,
          52,
          null,
          2880,
          18804,
          1867,
          1690,
          295,
          17,
          240,
          17520,
          8189,
          182,
          5820,
          83,
          230,
          2009,
          720,
          155,
          4320,
          4320,
          480,
          1005,
          221,
          372,
          13430,
          4320,
          91,
          1419,
          3600,
          10080,
          5071,
          152,
          6840,
          221,
          24780,
          38,
          61,
          7560,
          90,
          10380,
          396,
          2040,
          12060,
          1080,
          1680,
          13920,
          14101,
          1099,
          2460,
          540,
          52,
          816,
          420,
          155,
          437,
          247,
          540,
          1135,
          437,
          180,
          171,
          656,
          84,
          202,
          255,
          1054,
          1,
          1254,
          1456,
          177,
          106,
          32,
          2464,
          55,
          144,
          70,
          64,
          8873,
          945,
          null,
          523,
          56,
          3,
          8472,
          155,
          33,
          749,
          159,
          null,
          270,
          2790,
          224,
          1470,
          334,
          2050,
          370,
          26,
          797,
          12,
          195,
          1,
          230,
          125,
          15,
          316,
          365,
          1560,
          4740,
          294,
          455,
          2878,
          336,
          295,
          480,
          25,
          null,
          223,
          2645,
          2016,
          7371,
          360,
          3408,
          3698,
          4890,
          1,
          871,
          2759,
          250,
          3301,
          249,
          164,
          435,
          420,
          854,
          5160,
          133,
          15180,
          2055,
          451,
          140,
          199,
          721,
          179,
          1524,
          78,
          268,
          39,
          1,
          14190,
          47,
          161,
          900,
          6070,
          697,
          234,
          14,
          5910,
          null,
          34390,
          40,
          166,
          182,
          829,
          15,
          64,
          13,
          245,
          1080,
          null,
          390,
          47,
          269,
          null,
          400,
          660,
          213,
          null,
          761,
          8100,
          180,
          124,
          4320,
          2820,
          3100,
          49427,
          989,
          125,
          44,
          26,
          245,
          null,
          98,
          1,
          0,
          135,
          50,
          1008,
          53,
          554,
          1260,
          2895,
          89,
          98,
          865,
          128,
          230,
          252,
          130,
          5,
          157,
          6914,
          11,
          13,
          2880,
          270,
          962,
          47,
          null,
          20,
          108,
          9855,
          75,
          17,
          21,
          1950,
          11867,
          141,
          959,
          1035,
          617,
          1230,
          572,
          324,
          1835,
          6780,
          900,
          null,
          37,
          72,
          1,
          251,
          620,
          89,
          909,
          236,
          326,
          300,
          751,
          122,
          214,
          193,
          8,
          5227,
          null,
          1414,
          448,
          4605,
          4080,
          null,
          1914,
          759,
          1,
          10274,
          3,
          2700,
          105,
          240,
          210,
          1,
          1201,
          30,
          2806,
          1226,
          300,
          206,
          270,
          2880,
          513,
          8160,
          3314,
          414,
          126,
          60,
          285,
          110,
          62,
          2363,
          424,
          180,
          0,
          448,
          2,
          624,
          2435,
          131,
          null,
          208,
          103,
          1355,
          1523,
          90,
          1205,
          385,
          144,
          235,
          241,
          6787,
          1337,
          1673,
          3366,
          2640,
          1826,
          570,
          1565,
          2691,
          1072,
          115,
          816,
          168,
          30,
          160,
          485,
          1508,
          1301,
          159,
          60,
          4,
          9600,
          106,
          0,
          0,
          1,
          32,
          61,
          314,
          30,
          0,
          92,
          390,
          161,
          60,
          76,
          1,
          1,
          160,
          20,
          1,
          1,
          70,
          50,
          15,
          810,
          1380,
          1800,
          1560,
          2054,
          1452,
          1865,
          1999,
          120,
          1950,
          360,
          1087,
          1200,
          4122,
          360,
          645,
          108,
          0,
          1,
          1440,
          4560,
          1,
          1,
          110,
          210,
          120,
          0,
          4260,
          76,
          210,
          3305,
          5880,
          145,
          60,
          2640,
          1042,
          110,
          11880,
          2245,
          984,
          7200,
          1381,
          148,
          13972,
          null,
          796,
          300,
          null,
          2612,
          3000,
          431,
          5310,
          1732,
          0,
          6685,
          3300,
          280,
          117,
          2895,
          480,
          31,
          1,
          0,
          0,
          103,
          4745,
          307,
          1656,
          3525,
          374,
          1068,
          1569,
          114,
          115,
          15,
          2891,
          1,
          1676,
          0,
          0,
          3604,
          195,
          1,
          0,
          2108,
          198,
          3667,
          1037,
          673,
          null,
          2652,
          300,
          881,
          618,
          1187,
          950,
          2535,
          27,
          108,
          73,
          200,
          5,
          75,
          0,
          77,
          660,
          0,
          92,
          30,
          33,
          1895,
          274,
          1,
          1534,
          1,
          60,
          108,
          2,
          175,
          null,
          2040,
          2710,
          284,
          105,
          4019,
          1,
          391,
          439,
          5,
          201,
          2140,
          103,
          null,
          187,
          1406,
          348,
          13650,
          90,
          913,
          null,
          14040,
          1367,
          174,
          543,
          237,
          1906,
          224,
          0,
          95,
          360,
          1548,
          870,
          0,
          null,
          220,
          720,
          null,
          59,
          181,
          null
         ],
         "yaxis": "y"
        }
       ],
       "layout": {
        "legend": {
         "tracegroupgap": 0
        },
        "margin": {
         "t": 60
        },
        "template": {
         "data": {
          "bar": [
           {
            "error_x": {
             "color": "#2a3f5f"
            },
            "error_y": {
             "color": "#2a3f5f"
            },
            "marker": {
             "line": {
              "color": "#E5ECF6",
              "width": 0.5
             },
             "pattern": {
              "fillmode": "overlay",
              "size": 10,
              "solidity": 0.2
             }
            },
            "type": "bar"
           }
          ],
          "barpolar": [
           {
            "marker": {
             "line": {
              "color": "#E5ECF6",
              "width": 0.5
             },
             "pattern": {
              "fillmode": "overlay",
              "size": 10,
              "solidity": 0.2
             }
            },
            "type": "barpolar"
           }
          ],
          "carpet": [
           {
            "aaxis": {
             "endlinecolor": "#2a3f5f",
             "gridcolor": "white",
             "linecolor": "white",
             "minorgridcolor": "white",
             "startlinecolor": "#2a3f5f"
            },
            "baxis": {
             "endlinecolor": "#2a3f5f",
             "gridcolor": "white",
             "linecolor": "white",
             "minorgridcolor": "white",
             "startlinecolor": "#2a3f5f"
            },
            "type": "carpet"
           }
          ],
          "choropleth": [
           {
            "colorbar": {
             "outlinewidth": 0,
             "ticks": ""
            },
            "type": "choropleth"
           }
          ],
          "contour": [
           {
            "colorbar": {
             "outlinewidth": 0,
             "ticks": ""
            },
            "colorscale": [
             [
              0,
              "#0d0887"
             ],
             [
              0.1111111111111111,
              "#46039f"
             ],
             [
              0.2222222222222222,
              "#7201a8"
             ],
             [
              0.3333333333333333,
              "#9c179e"
             ],
             [
              0.4444444444444444,
              "#bd3786"
             ],
             [
              0.5555555555555556,
              "#d8576b"
             ],
             [
              0.6666666666666666,
              "#ed7953"
             ],
             [
              0.7777777777777778,
              "#fb9f3a"
             ],
             [
              0.8888888888888888,
              "#fdca26"
             ],
             [
              1,
              "#f0f921"
             ]
            ],
            "type": "contour"
           }
          ],
          "contourcarpet": [
           {
            "colorbar": {
             "outlinewidth": 0,
             "ticks": ""
            },
            "type": "contourcarpet"
           }
          ],
          "heatmap": [
           {
            "colorbar": {
             "outlinewidth": 0,
             "ticks": ""
            },
            "colorscale": [
             [
              0,
              "#0d0887"
             ],
             [
              0.1111111111111111,
              "#46039f"
             ],
             [
              0.2222222222222222,
              "#7201a8"
             ],
             [
              0.3333333333333333,
              "#9c179e"
             ],
             [
              0.4444444444444444,
              "#bd3786"
             ],
             [
              0.5555555555555556,
              "#d8576b"
             ],
             [
              0.6666666666666666,
              "#ed7953"
             ],
             [
              0.7777777777777778,
              "#fb9f3a"
             ],
             [
              0.8888888888888888,
              "#fdca26"
             ],
             [
              1,
              "#f0f921"
             ]
            ],
            "type": "heatmap"
           }
          ],
          "heatmapgl": [
           {
            "colorbar": {
             "outlinewidth": 0,
             "ticks": ""
            },
            "colorscale": [
             [
              0,
              "#0d0887"
             ],
             [
              0.1111111111111111,
              "#46039f"
             ],
             [
              0.2222222222222222,
              "#7201a8"
             ],
             [
              0.3333333333333333,
              "#9c179e"
             ],
             [
              0.4444444444444444,
              "#bd3786"
             ],
             [
              0.5555555555555556,
              "#d8576b"
             ],
             [
              0.6666666666666666,
              "#ed7953"
             ],
             [
              0.7777777777777778,
              "#fb9f3a"
             ],
             [
              0.8888888888888888,
              "#fdca26"
             ],
             [
              1,
              "#f0f921"
             ]
            ],
            "type": "heatmapgl"
           }
          ],
          "histogram": [
           {
            "marker": {
             "pattern": {
              "fillmode": "overlay",
              "size": 10,
              "solidity": 0.2
             }
            },
            "type": "histogram"
           }
          ],
          "histogram2d": [
           {
            "colorbar": {
             "outlinewidth": 0,
             "ticks": ""
            },
            "colorscale": [
             [
              0,
              "#0d0887"
             ],
             [
              0.1111111111111111,
              "#46039f"
             ],
             [
              0.2222222222222222,
              "#7201a8"
             ],
             [
              0.3333333333333333,
              "#9c179e"
             ],
             [
              0.4444444444444444,
              "#bd3786"
             ],
             [
              0.5555555555555556,
              "#d8576b"
             ],
             [
              0.6666666666666666,
              "#ed7953"
             ],
             [
              0.7777777777777778,
              "#fb9f3a"
             ],
             [
              0.8888888888888888,
              "#fdca26"
             ],
             [
              1,
              "#f0f921"
             ]
            ],
            "type": "histogram2d"
           }
          ],
          "histogram2dcontour": [
           {
            "colorbar": {
             "outlinewidth": 0,
             "ticks": ""
            },
            "colorscale": [
             [
              0,
              "#0d0887"
             ],
             [
              0.1111111111111111,
              "#46039f"
             ],
             [
              0.2222222222222222,
              "#7201a8"
             ],
             [
              0.3333333333333333,
              "#9c179e"
             ],
             [
              0.4444444444444444,
              "#bd3786"
             ],
             [
              0.5555555555555556,
              "#d8576b"
             ],
             [
              0.6666666666666666,
              "#ed7953"
             ],
             [
              0.7777777777777778,
              "#fb9f3a"
             ],
             [
              0.8888888888888888,
              "#fdca26"
             ],
             [
              1,
              "#f0f921"
             ]
            ],
            "type": "histogram2dcontour"
           }
          ],
          "mesh3d": [
           {
            "colorbar": {
             "outlinewidth": 0,
             "ticks": ""
            },
            "type": "mesh3d"
           }
          ],
          "parcoords": [
           {
            "line": {
             "colorbar": {
              "outlinewidth": 0,
              "ticks": ""
             }
            },
            "type": "parcoords"
           }
          ],
          "pie": [
           {
            "automargin": true,
            "type": "pie"
           }
          ],
          "scatter": [
           {
            "fillpattern": {
             "fillmode": "overlay",
             "size": 10,
             "solidity": 0.2
            },
            "type": "scatter"
           }
          ],
          "scatter3d": [
           {
            "line": {
             "colorbar": {
              "outlinewidth": 0,
              "ticks": ""
             }
            },
            "marker": {
             "colorbar": {
              "outlinewidth": 0,
              "ticks": ""
             }
            },
            "type": "scatter3d"
           }
          ],
          "scattercarpet": [
           {
            "marker": {
             "colorbar": {
              "outlinewidth": 0,
              "ticks": ""
             }
            },
            "type": "scattercarpet"
           }
          ],
          "scattergeo": [
           {
            "marker": {
             "colorbar": {
              "outlinewidth": 0,
              "ticks": ""
             }
            },
            "type": "scattergeo"
           }
          ],
          "scattergl": [
           {
            "marker": {
             "colorbar": {
              "outlinewidth": 0,
              "ticks": ""
             }
            },
            "type": "scattergl"
           }
          ],
          "scattermapbox": [
           {
            "marker": {
             "colorbar": {
              "outlinewidth": 0,
              "ticks": ""
             }
            },
            "type": "scattermapbox"
           }
          ],
          "scatterpolar": [
           {
            "marker": {
             "colorbar": {
              "outlinewidth": 0,
              "ticks": ""
             }
            },
            "type": "scatterpolar"
           }
          ],
          "scatterpolargl": [
           {
            "marker": {
             "colorbar": {
              "outlinewidth": 0,
              "ticks": ""
             }
            },
            "type": "scatterpolargl"
           }
          ],
          "scatterternary": [
           {
            "marker": {
             "colorbar": {
              "outlinewidth": 0,
              "ticks": ""
             }
            },
            "type": "scatterternary"
           }
          ],
          "surface": [
           {
            "colorbar": {
             "outlinewidth": 0,
             "ticks": ""
            },
            "colorscale": [
             [
              0,
              "#0d0887"
             ],
             [
              0.1111111111111111,
              "#46039f"
             ],
             [
              0.2222222222222222,
              "#7201a8"
             ],
             [
              0.3333333333333333,
              "#9c179e"
             ],
             [
              0.4444444444444444,
              "#bd3786"
             ],
             [
              0.5555555555555556,
              "#d8576b"
             ],
             [
              0.6666666666666666,
              "#ed7953"
             ],
             [
              0.7777777777777778,
              "#fb9f3a"
             ],
             [
              0.8888888888888888,
              "#fdca26"
             ],
             [
              1,
              "#f0f921"
             ]
            ],
            "type": "surface"
           }
          ],
          "table": [
           {
            "cells": {
             "fill": {
              "color": "#EBF0F8"
             },
             "line": {
              "color": "white"
             }
            },
            "header": {
             "fill": {
              "color": "#C8D4E3"
             },
             "line": {
              "color": "white"
             }
            },
            "type": "table"
           }
          ]
         },
         "layout": {
          "annotationdefaults": {
           "arrowcolor": "#2a3f5f",
           "arrowhead": 0,
           "arrowwidth": 1
          },
          "autotypenumbers": "strict",
          "coloraxis": {
           "colorbar": {
            "outlinewidth": 0,
            "ticks": ""
           }
          },
          "colorscale": {
           "diverging": [
            [
             0,
             "#8e0152"
            ],
            [
             0.1,
             "#c51b7d"
            ],
            [
             0.2,
             "#de77ae"
            ],
            [
             0.3,
             "#f1b6da"
            ],
            [
             0.4,
             "#fde0ef"
            ],
            [
             0.5,
             "#f7f7f7"
            ],
            [
             0.6,
             "#e6f5d0"
            ],
            [
             0.7,
             "#b8e186"
            ],
            [
             0.8,
             "#7fbc41"
            ],
            [
             0.9,
             "#4d9221"
            ],
            [
             1,
             "#276419"
            ]
           ],
           "sequential": [
            [
             0,
             "#0d0887"
            ],
            [
             0.1111111111111111,
             "#46039f"
            ],
            [
             0.2222222222222222,
             "#7201a8"
            ],
            [
             0.3333333333333333,
             "#9c179e"
            ],
            [
             0.4444444444444444,
             "#bd3786"
            ],
            [
             0.5555555555555556,
             "#d8576b"
            ],
            [
             0.6666666666666666,
             "#ed7953"
            ],
            [
             0.7777777777777778,
             "#fb9f3a"
            ],
            [
             0.8888888888888888,
             "#fdca26"
            ],
            [
             1,
             "#f0f921"
            ]
           ],
           "sequentialminus": [
            [
             0,
             "#0d0887"
            ],
            [
             0.1111111111111111,
             "#46039f"
            ],
            [
             0.2222222222222222,
             "#7201a8"
            ],
            [
             0.3333333333333333,
             "#9c179e"
            ],
            [
             0.4444444444444444,
             "#bd3786"
            ],
            [
             0.5555555555555556,
             "#d8576b"
            ],
            [
             0.6666666666666666,
             "#ed7953"
            ],
            [
             0.7777777777777778,
             "#fb9f3a"
            ],
            [
             0.8888888888888888,
             "#fdca26"
            ],
            [
             1,
             "#f0f921"
            ]
           ]
          },
          "colorway": [
           "#636efa",
           "#EF553B",
           "#00cc96",
           "#ab63fa",
           "#FFA15A",
           "#19d3f3",
           "#FF6692",
           "#B6E880",
           "#FF97FF",
           "#FECB52"
          ],
          "font": {
           "color": "#2a3f5f"
          },
          "geo": {
           "bgcolor": "white",
           "lakecolor": "white",
           "landcolor": "#E5ECF6",
           "showlakes": true,
           "showland": true,
           "subunitcolor": "white"
          },
          "hoverlabel": {
           "align": "left"
          },
          "hovermode": "closest",
          "mapbox": {
           "style": "light"
          },
          "paper_bgcolor": "white",
          "plot_bgcolor": "#E5ECF6",
          "polar": {
           "angularaxis": {
            "gridcolor": "white",
            "linecolor": "white",
            "ticks": ""
           },
           "bgcolor": "#E5ECF6",
           "radialaxis": {
            "gridcolor": "white",
            "linecolor": "white",
            "ticks": ""
           }
          },
          "scene": {
           "xaxis": {
            "backgroundcolor": "#E5ECF6",
            "gridcolor": "white",
            "gridwidth": 2,
            "linecolor": "white",
            "showbackground": true,
            "ticks": "",
            "zerolinecolor": "white"
           },
           "yaxis": {
            "backgroundcolor": "#E5ECF6",
            "gridcolor": "white",
            "gridwidth": 2,
            "linecolor": "white",
            "showbackground": true,
            "ticks": "",
            "zerolinecolor": "white"
           },
           "zaxis": {
            "backgroundcolor": "#E5ECF6",
            "gridcolor": "white",
            "gridwidth": 2,
            "linecolor": "white",
            "showbackground": true,
            "ticks": "",
            "zerolinecolor": "white"
           }
          },
          "shapedefaults": {
           "line": {
            "color": "#2a3f5f"
           }
          },
          "ternary": {
           "aaxis": {
            "gridcolor": "white",
            "linecolor": "white",
            "ticks": ""
           },
           "baxis": {
            "gridcolor": "white",
            "linecolor": "white",
            "ticks": ""
           },
           "bgcolor": "#E5ECF6",
           "caxis": {
            "gridcolor": "white",
            "linecolor": "white",
            "ticks": ""
           }
          },
          "title": {
           "x": 0.05
          },
          "xaxis": {
           "automargin": true,
           "gridcolor": "white",
           "linecolor": "white",
           "ticks": "",
           "title": {
            "standoff": 15
           },
           "zerolinecolor": "white",
           "zerolinewidth": 2
          },
          "yaxis": {
           "automargin": true,
           "gridcolor": "white",
           "linecolor": "white",
           "ticks": "",
           "title": {
            "standoff": 15
           },
           "zerolinecolor": "white",
           "zerolinewidth": 2
          }
         }
        },
        "xaxis": {
         "anchor": "y",
         "domain": [
          0,
          1
         ],
         "title": {
          "text": "REALGSP"
         }
        },
        "yaxis": {
         "anchor": "x",
         "domain": [
          0,
          1
         ],
         "title": {
          "text": "OUTAGE.DURATION"
         }
        }
       }
      }
     },
     "metadata": {},
     "output_type": "display_data"
    }
   ],
   "source": [
    "px.scatter(formated_data, x='REALGSP', y='OUTAGE.DURATION')"
   ]
  },
  {
   "cell_type": "markdown",
   "metadata": {},
   "source": [
    "Lots of the durations here are very low, is this because the data is not accurate or because the outages are very short? Compare with something like peak demand loss to see if there is a corelation between the two, which would be expected."
   ]
  },
  {
   "cell_type": "code",
   "execution_count": 7,
   "metadata": {},
   "outputs": [
    {
     "data": {
      "application/vnd.plotly.v1+json": {
       "config": {
        "plotlyServerURL": "https://plot.ly"
       },
       "data": [
        {
         "hovertemplate": "OUTAGE.DURATION=%{x}<br>DEMAND.LOSS.MW=%{y}<extra></extra>",
         "legendgroup": "",
         "marker": {
          "color": "#636efa",
          "symbol": "circle"
         },
         "mode": "markers",
         "name": "",
         "showlegend": false,
         "type": "scattergl",
         "x": [
          3060,
          1,
          3000,
          2550,
          1740,
          1860,
          2970,
          3960,
          155,
          3621,
          7740,
          8880,
          0,
          1322,
          60,
          19,
          0,
          21,
          196,
          840,
          935,
          1260,
          null,
          619,
          150,
          762,
          0,
          660,
          1,
          2700,
          1,
          4921,
          95,
          251,
          4125,
          2550,
          null,
          1200,
          310,
          2818,
          5054,
          136,
          528,
          150,
          46,
          1,
          1920,
          null,
          32,
          null,
          135,
          3000,
          32,
          108653,
          8468,
          960,
          44,
          1605,
          4410,
          388,
          480,
          1219,
          90,
          18660,
          538,
          104,
          60,
          1272,
          60,
          1,
          1000,
          17339,
          9576,
          3090,
          6510,
          5820,
          1078,
          1513,
          4830,
          3051,
          4200,
          2085,
          5730,
          4290,
          2670,
          3540,
          3637,
          1710,
          4320,
          3915,
          3120,
          4590,
          7530,
          5034,
          8160,
          3300,
          4320,
          1770,
          9857,
          4080,
          5670,
          5700,
          1995,
          300,
          5115,
          2670,
          7650,
          4338,
          761,
          5760,
          2820,
          4110,
          3360,
          3015,
          232,
          11525,
          6420,
          46080,
          5700,
          5610,
          78377,
          270,
          4050,
          5865,
          1,
          2325,
          4170,
          4485,
          2694,
          168,
          5580,
          705,
          11850,
          3494,
          4560,
          2760,
          5760,
          8922,
          6030,
          7800,
          4242,
          3120,
          5700,
          900,
          1046,
          7620,
          3630,
          1260,
          5840,
          5790,
          2820,
          600,
          4259,
          2939,
          7080,
          3600,
          1588,
          4260,
          2700,
          200,
          8430,
          85,
          9150,
          1019,
          420,
          1140,
          7440,
          4458,
          373,
          1203,
          868,
          1455,
          206,
          1195,
          1559,
          900,
          2690,
          5115,
          5,
          189,
          2142,
          360,
          null,
          225,
          2340,
          480,
          9486,
          480,
          3000,
          300,
          3020,
          766,
          null,
          1335,
          197,
          245,
          3255,
          12180,
          1077,
          600,
          186,
          690,
          27698,
          402,
          2420,
          327,
          1,
          1860,
          220,
          455,
          318,
          757,
          847,
          410,
          215,
          5,
          570,
          12124,
          2655,
          20160,
          1440,
          600,
          39,
          181,
          1185,
          1500,
          0,
          271,
          1860,
          1200,
          2159,
          6300,
          null,
          1620,
          224,
          70,
          1697,
          95,
          2220,
          null,
          7809,
          1200,
          121,
          63,
          5595,
          1,
          557,
          240,
          3360,
          685,
          2280,
          210,
          167,
          1920,
          3569,
          3300,
          10,
          1560,
          840,
          240,
          990,
          6000,
          17865,
          1282,
          1080,
          7540,
          1320,
          1110,
          27698,
          130,
          3040,
          394,
          10140,
          20160,
          21540,
          45,
          1,
          1200,
          550,
          900,
          885,
          940,
          null,
          3050,
          1830,
          6000,
          1500,
          150,
          1955,
          2220,
          330,
          74,
          420,
          1440,
          255,
          1060,
          12240,
          5250,
          4320,
          120,
          233,
          null,
          65,
          2120,
          96,
          3,
          4320,
          65,
          2146,
          96,
          4032,
          2580,
          6,
          569,
          0,
          15950,
          200,
          1980,
          4045,
          2730,
          3314,
          7319,
          1,
          47,
          1440,
          276,
          0,
          0,
          3646,
          1130,
          2880,
          513,
          35,
          23773,
          10,
          3872,
          23187,
          12240,
          390,
          null,
          3264,
          1230,
          803,
          77,
          30,
          300,
          1,
          5,
          1450,
          2680,
          null,
          7609,
          150,
          3000,
          420,
          479,
          1680,
          2700,
          149,
          1110,
          2790,
          659,
          1320,
          1830,
          3000,
          null,
          870,
          810,
          1336,
          1695,
          360,
          360,
          120,
          3000,
          1290,
          1530,
          2370,
          1200,
          1200,
          90,
          120,
          1200,
          2761,
          720,
          1120,
          2100,
          960,
          450,
          1440,
          1020,
          0,
          2010,
          120,
          9230,
          1240,
          465,
          0,
          2460,
          1183,
          8880,
          394,
          219,
          487,
          19,
          28,
          0,
          1,
          5340,
          8940,
          467,
          0,
          1920,
          0,
          25,
          420,
          2040,
          0,
          1,
          1423,
          60,
          1620,
          3300,
          385,
          663,
          123,
          1276,
          1919,
          null,
          440,
          6690,
          null,
          0,
          null,
          717,
          1204,
          292,
          313,
          1,
          5,
          6276,
          0,
          74,
          0,
          null,
          248,
          1,
          2700,
          25,
          126,
          1,
          255,
          1207,
          0,
          0,
          245,
          476,
          null,
          null,
          null,
          1,
          2639,
          502,
          548,
          369,
          6480,
          15,
          5,
          null,
          1,
          0,
          432,
          21,
          1697,
          0,
          2615,
          9630,
          3507,
          2820,
          314,
          5855,
          0,
          0,
          1,
          22769,
          70,
          4285,
          355,
          0,
          2520,
          0,
          180,
          554,
          50,
          70,
          180,
          3842,
          35,
          1,
          189,
          49320,
          4200,
          353,
          1,
          87,
          66,
          null,
          1,
          227,
          null,
          1440,
          1,
          2700,
          null,
          49320,
          2,
          215,
          451,
          418,
          100,
          2021,
          1671,
          3938,
          4470,
          2279,
          4440,
          2760,
          0,
          1,
          0,
          1,
          1840,
          428,
          331,
          1980,
          1,
          1,
          1950,
          3037,
          1,
          1,
          1196,
          5628,
          1440,
          7700,
          2,
          12890,
          4232,
          95,
          2610,
          4320,
          17,
          113,
          0,
          2507,
          0,
          1,
          4920,
          1,
          4080,
          0,
          960,
          185,
          1320,
          1673,
          2855,
          3060,
          565,
          1,
          1,
          7298,
          5790,
          3040,
          11700,
          7987,
          304,
          4517,
          0,
          3058,
          13381,
          2865,
          152,
          380,
          9450,
          7803,
          5579,
          8979,
          4800,
          3060,
          4792,
          3894,
          1757,
          2880,
          2985,
          164,
          3232,
          2319,
          4338,
          2880,
          1714,
          90,
          59,
          4139,
          10530,
          6938,
          930,
          278,
          299,
          5320,
          2880,
          1,
          4260,
          6713,
          5160,
          1440,
          78,
          7523,
          2668,
          1,
          376,
          1324,
          6940,
          2684,
          54,
          100,
          720,
          2880,
          3189,
          2790,
          13679,
          2843,
          13488,
          1642,
          7709,
          7080,
          1440,
          1,
          1680,
          1579,
          652,
          108,
          300,
          1020,
          3570,
          6492,
          23700,
          10499,
          15180,
          0,
          120,
          1,
          1,
          1,
          1,
          1,
          1,
          60,
          113,
          204,
          31,
          57,
          13,
          2,
          11,
          283,
          0,
          1,
          871,
          1631,
          56,
          15,
          15,
          20,
          60,
          1,
          95,
          300,
          1,
          3186,
          575,
          2275,
          15,
          1,
          44,
          21,
          1,
          114,
          1,
          60,
          4920,
          null,
          4920,
          420,
          0,
          7,
          21,
          340,
          4200,
          805,
          5040,
          7430,
          5490,
          165,
          3630,
          11640,
          1590,
          3137,
          1440,
          7920,
          360,
          0,
          1440,
          1372,
          6480,
          2190,
          285,
          75,
          1843,
          1,
          11531,
          1420,
          0,
          930,
          11420,
          0,
          352,
          0,
          960,
          1733,
          3690,
          10619,
          634,
          11280,
          1440,
          180,
          1574,
          45,
          563,
          388,
          373,
          4510,
          290,
          1950,
          270,
          1355,
          1318,
          2490,
          1265,
          195,
          3120,
          3388,
          1025,
          990,
          240,
          1485,
          129,
          0,
          1528,
          1890,
          2551,
          985,
          405,
          1698,
          167,
          1460,
          182,
          4113,
          null,
          885,
          15,
          42,
          1050,
          1,
          132,
          4140,
          2880,
          null,
          11430,
          3599,
          0,
          2941,
          null,
          6090,
          1365,
          375,
          2520,
          10080,
          76,
          0,
          3720,
          333,
          0,
          353,
          11337,
          0,
          0,
          7020,
          11058,
          null,
          9360,
          3300,
          3339,
          2880,
          11580,
          9600,
          13201,
          9719,
          488,
          2415,
          180,
          4177,
          7440,
          3480,
          6600,
          300,
          1526,
          60,
          210,
          2,
          1350,
          73,
          1,
          200,
          0,
          null,
          4380,
          0,
          120,
          2680,
          840,
          989,
          4313,
          214,
          4,
          164,
          91,
          1050,
          838,
          60,
          1,
          1,
          9886,
          2425,
          390,
          14500,
          6660,
          159,
          54,
          30,
          8077,
          855,
          65,
          810,
          4150,
          4740,
          25,
          0,
          null,
          2070,
          870,
          12652,
          2880,
          120,
          1199,
          null,
          1470,
          4140,
          15420,
          50,
          0,
          1,
          1,
          0,
          0,
          0,
          457,
          1,
          1,
          0,
          30,
          1,
          1,
          65,
          1,
          0,
          0,
          0,
          1,
          null,
          1,
          0,
          1,
          1,
          110,
          39,
          1,
          1,
          1,
          1,
          1,
          1,
          507,
          213,
          4254,
          1,
          1,
          53,
          0,
          0,
          251,
          347,
          1637,
          21360,
          2161,
          2880,
          1044,
          8670,
          56,
          93,
          13,
          2089,
          20280,
          14639,
          2880,
          681,
          494,
          1,
          5355,
          0,
          3943,
          3300,
          191,
          0,
          73,
          4680,
          17310,
          10080,
          10726,
          1,
          5,
          2515,
          25920,
          2730,
          9480,
          5400,
          30,
          3584,
          3600,
          5850,
          4710,
          1,
          1732,
          0,
          23040,
          1800,
          6074,
          null,
          49,
          2299,
          5760,
          420,
          7320,
          2880,
          448,
          2520,
          18717,
          5513,
          21,
          2100,
          3120,
          8221,
          3240,
          2880,
          255,
          2355,
          161,
          50,
          258,
          13140,
          8640,
          18240,
          15492,
          8268,
          0,
          300,
          14400,
          7962,
          2400,
          11296,
          48,
          60480,
          28170,
          300,
          8054,
          2775,
          2775,
          2160,
          2100,
          2775,
          3180,
          2775,
          1440,
          430,
          2129,
          1755,
          null,
          692,
          732,
          7,
          510,
          420,
          13215,
          557,
          300,
          17812,
          20416,
          6240,
          467,
          3067,
          3060,
          355,
          430,
          300,
          227,
          52,
          null,
          2880,
          18804,
          1867,
          1690,
          295,
          17,
          240,
          17520,
          8189,
          182,
          5820,
          83,
          230,
          2009,
          720,
          155,
          4320,
          4320,
          480,
          1005,
          221,
          372,
          13430,
          4320,
          91,
          1419,
          3600,
          10080,
          5071,
          152,
          6840,
          221,
          24780,
          38,
          61,
          7560,
          90,
          10380,
          396,
          2040,
          12060,
          1080,
          1680,
          13920,
          14101,
          1099,
          2460,
          540,
          52,
          816,
          420,
          155,
          437,
          247,
          540,
          1135,
          437,
          180,
          171,
          656,
          84,
          202,
          255,
          1054,
          1,
          1254,
          1456,
          177,
          106,
          32,
          2464,
          55,
          144,
          70,
          64,
          8873,
          945,
          null,
          523,
          56,
          3,
          8472,
          155,
          33,
          749,
          159,
          null,
          270,
          2790,
          224,
          1470,
          334,
          2050,
          370,
          26,
          797,
          12,
          195,
          1,
          230,
          125,
          15,
          316,
          365,
          1560,
          4740,
          294,
          455,
          2878,
          336,
          295,
          480,
          25,
          null,
          223,
          2645,
          2016,
          7371,
          360,
          3408,
          3698,
          4890,
          1,
          871,
          2759,
          250,
          3301,
          249,
          164,
          435,
          420,
          854,
          5160,
          133,
          15180,
          2055,
          451,
          140,
          199,
          721,
          179,
          1524,
          78,
          268,
          39,
          1,
          14190,
          47,
          161,
          900,
          6070,
          697,
          234,
          14,
          5910,
          null,
          34390,
          40,
          166,
          182,
          829,
          15,
          64,
          13,
          245,
          1080,
          null,
          390,
          47,
          269,
          null,
          400,
          660,
          213,
          null,
          761,
          8100,
          180,
          124,
          4320,
          2820,
          3100,
          49427,
          989,
          125,
          44,
          26,
          245,
          null,
          98,
          1,
          0,
          135,
          50,
          1008,
          53,
          554,
          1260,
          2895,
          89,
          98,
          865,
          128,
          230,
          252,
          130,
          5,
          157,
          6914,
          11,
          13,
          2880,
          270,
          962,
          47,
          null,
          20,
          108,
          9855,
          75,
          17,
          21,
          1950,
          11867,
          141,
          959,
          1035,
          617,
          1230,
          572,
          324,
          1835,
          6780,
          900,
          null,
          37,
          72,
          1,
          251,
          620,
          89,
          909,
          236,
          326,
          300,
          751,
          122,
          214,
          193,
          8,
          5227,
          null,
          1414,
          448,
          4605,
          4080,
          null,
          1914,
          759,
          1,
          10274,
          3,
          2700,
          105,
          240,
          210,
          1,
          1201,
          30,
          2806,
          1226,
          300,
          206,
          270,
          2880,
          513,
          8160,
          3314,
          414,
          126,
          60,
          285,
          110,
          62,
          2363,
          424,
          180,
          0,
          448,
          2,
          624,
          2435,
          131,
          null,
          208,
          103,
          1355,
          1523,
          90,
          1205,
          385,
          144,
          235,
          241,
          6787,
          1337,
          1673,
          3366,
          2640,
          1826,
          570,
          1565,
          2691,
          1072,
          115,
          816,
          168,
          30,
          160,
          485,
          1508,
          1301,
          159,
          60,
          4,
          9600,
          106,
          0,
          0,
          1,
          32,
          61,
          314,
          30,
          0,
          92,
          390,
          161,
          60,
          76,
          1,
          1,
          160,
          20,
          1,
          1,
          70,
          50,
          15,
          810,
          1380,
          1800,
          1560,
          2054,
          1452,
          1865,
          1999,
          120,
          1950,
          360,
          1087,
          1200,
          4122,
          360,
          645,
          108,
          0,
          1,
          1440,
          4560,
          1,
          1,
          110,
          210,
          120,
          0,
          4260,
          76,
          210,
          3305,
          5880,
          145,
          60,
          2640,
          1042,
          110,
          11880,
          2245,
          984,
          7200,
          1381,
          148,
          13972,
          null,
          796,
          300,
          null,
          2612,
          3000,
          431,
          5310,
          1732,
          0,
          6685,
          3300,
          280,
          117,
          2895,
          480,
          31,
          1,
          0,
          0,
          103,
          4745,
          307,
          1656,
          3525,
          374,
          1068,
          1569,
          114,
          115,
          15,
          2891,
          1,
          1676,
          0,
          0,
          3604,
          195,
          1,
          0,
          2108,
          198,
          3667,
          1037,
          673,
          null,
          2652,
          300,
          881,
          618,
          1187,
          950,
          2535,
          27,
          108,
          73,
          200,
          5,
          75,
          0,
          77,
          660,
          0,
          92,
          30,
          33,
          1895,
          274,
          1,
          1534,
          1,
          60,
          108,
          2,
          175,
          null,
          2040,
          2710,
          284,
          105,
          4019,
          1,
          391,
          439,
          5,
          201,
          2140,
          103,
          null,
          187,
          1406,
          348,
          13650,
          90,
          913,
          null,
          14040,
          1367,
          174,
          543,
          237,
          1906,
          224,
          0,
          95,
          360,
          1548,
          870,
          0,
          null,
          220,
          720,
          null,
          59,
          181,
          null
         ],
         "xaxis": "x",
         "y": [
          null,
          null,
          null,
          null,
          250,
          null,
          null,
          75,
          20,
          null,
          null,
          null,
          0,
          0,
          null,
          926,
          null,
          null,
          100,
          null,
          null,
          null,
          0,
          null,
          null,
          null,
          null,
          300,
          null,
          null,
          null,
          300,
          1,
          null,
          494,
          300,
          null,
          null,
          null,
          null,
          359,
          860,
          null,
          null,
          140,
          null,
          null,
          0,
          850,
          null,
          null,
          10,
          15,
          null,
          null,
          150,
          null,
          0,
          600,
          30,
          null,
          0,
          null,
          null,
          424,
          null,
          null,
          220,
          null,
          24,
          null,
          null,
          700,
          250,
          366,
          82,
          8881,
          null,
          null,
          11000,
          300,
          585,
          null,
          null,
          50,
          75,
          50,
          null,
          null,
          null,
          55,
          null,
          1826,
          null,
          212,
          82,
          262,
          0,
          null,
          null,
          null,
          200,
          null,
          null,
          null,
          null,
          null,
          null,
          310,
          null,
          240,
          null,
          60,
          null,
          null,
          null,
          100,
          240,
          null,
          340,
          378,
          null,
          371,
          null,
          null,
          null,
          210,
          null,
          1007,
          320,
          125,
          null,
          500,
          218,
          630,
          null,
          400,
          100,
          540,
          303,
          350,
          500,
          75,
          null,
          0,
          1000,
          null,
          null,
          700,
          null,
          null,
          null,
          75,
          408,
          150,
          190,
          null,
          400,
          null,
          0,
          null,
          254,
          500,
          null,
          null,
          null,
          null,
          254,
          350,
          null,
          400,
          null,
          12,
          null,
          null,
          150,
          null,
          null,
          null,
          380,
          null,
          null,
          null,
          null,
          null,
          0,
          265,
          null,
          null,
          null,
          null,
          399,
          null,
          485,
          0,
          1000,
          null,
          260,
          null,
          null,
          212,
          179,
          8087,
          null,
          null,
          399,
          0,
          294,
          null,
          null,
          1084,
          476,
          153,
          null,
          491,
          0,
          350,
          703,
          null,
          null,
          1231,
          221,
          300,
          220,
          null,
          544,
          null,
          339,
          null,
          473,
          null,
          null,
          null,
          1950,
          null,
          400,
          4000,
          108,
          920,
          46,
          null,
          100,
          260,
          117,
          null,
          null,
          0,
          0,
          null,
          null,
          null,
          null,
          350,
          176,
          null,
          null,
          0,
          51,
          null,
          null,
          null,
          0,
          300,
          null,
          null,
          0,
          null,
          328,
          null,
          40,
          null,
          0,
          null,
          null,
          650,
          null,
          null,
          1900,
          null,
          219,
          250,
          746,
          null,
          null,
          null,
          null,
          null,
          85,
          null,
          null,
          null,
          null,
          672,
          null,
          null,
          null,
          null,
          600,
          null,
          0,
          47,
          15,
          50,
          null,
          57,
          null,
          null,
          38,
          null,
          null,
          535,
          null,
          49,
          null,
          0,
          545,
          null,
          null,
          1000,
          null,
          1024,
          null,
          425,
          50,
          null,
          null,
          0,
          null,
          200,
          null,
          null,
          null,
          41,
          null,
          650,
          null,
          500,
          506,
          217,
          null,
          null,
          null,
          366,
          null,
          null,
          30,
          null,
          0,
          0,
          null,
          null,
          null,
          null,
          null,
          null,
          null,
          null,
          null,
          350,
          null,
          null,
          null,
          127,
          null,
          null,
          null,
          null,
          null,
          null,
          null,
          null,
          null,
          null,
          null,
          null,
          200,
          200,
          null,
          300,
          null,
          371,
          null,
          null,
          null,
          null,
          null,
          80,
          null,
          null,
          null,
          null,
          null,
          null,
          300,
          null,
          null,
          null,
          184,
          null,
          250,
          null,
          null,
          null,
          275,
          0,
          null,
          0,
          150,
          180,
          null,
          null,
          1600,
          null,
          200,
          115,
          260,
          null,
          0,
          null,
          0,
          null,
          null,
          null,
          null,
          0,
          null,
          0,
          0,
          null,
          null,
          null,
          null,
          null,
          0,
          244,
          0,
          0,
          null,
          0,
          null,
          0,
          null,
          null,
          900,
          100,
          null,
          420,
          null,
          0,
          null,
          null,
          null,
          0,
          null,
          null,
          null,
          0,
          null,
          9,
          null,
          750,
          null,
          null,
          null,
          175,
          null,
          null,
          null,
          null,
          null,
          null,
          0,
          null,
          0,
          null,
          360,
          150,
          280,
          null,
          50,
          0,
          null,
          630,
          null,
          null,
          300,
          null,
          null,
          1200,
          null,
          null,
          5299,
          null,
          null,
          null,
          455,
          1000,
          null,
          null,
          null,
          null,
          null,
          null,
          null,
          138,
          0,
          null,
          2,
          null,
          null,
          960,
          null,
          null,
          null,
          null,
          3963,
          null,
          200,
          440,
          354,
          300,
          300,
          null,
          270,
          500,
          null,
          null,
          0,
          null,
          0,
          null,
          0,
          null,
          null,
          null,
          null,
          400,
          null,
          0,
          null,
          null,
          null,
          0,
          null,
          0,
          2000,
          null,
          null,
          335,
          null,
          0,
          null,
          1,
          null,
          1,
          800,
          375,
          0,
          625,
          0,
          null,
          null,
          null,
          0,
          60,
          160,
          null,
          0,
          0,
          1500,
          400,
          480,
          1114,
          1465,
          null,
          null,
          null,
          null,
          null,
          15,
          630,
          105,
          null,
          null,
          null,
          null,
          null,
          null,
          156,
          null,
          null,
          null,
          null,
          0,
          389,
          null,
          750,
          null,
          null,
          null,
          200,
          null,
          null,
          72,
          null,
          87,
          600,
          null,
          null,
          null,
          null,
          546,
          130,
          null,
          90,
          null,
          null,
          null,
          null,
          150,
          null,
          null,
          null,
          0,
          250,
          110,
          null,
          null,
          null,
          0,
          null,
          null,
          null,
          null,
          null,
          null,
          null,
          null,
          342,
          2,
          null,
          null,
          null,
          600,
          null,
          70,
          21,
          0,
          0,
          null,
          null,
          null,
          null,
          null,
          null,
          0,
          6,
          461,
          0,
          0,
          null,
          null,
          0,
          306,
          0,
          null,
          2818,
          null,
          0,
          0,
          0,
          null,
          0,
          null,
          0,
          0,
          null,
          null,
          0,
          null,
          316,
          null,
          null,
          0,
          null,
          0,
          null,
          null,
          392,
          294,
          177,
          null,
          0,
          0,
          420,
          null,
          1000,
          380,
          11000,
          500,
          null,
          null,
          168,
          250,
          null,
          7000,
          null,
          null,
          null,
          null,
          null,
          null,
          null,
          null,
          0,
          null,
          400,
          null,
          469,
          null,
          0,
          168,
          430,
          7,
          206,
          0,
          null,
          null,
          null,
          null,
          null,
          475,
          215,
          70,
          null,
          40,
          null,
          300,
          48,
          null,
          3,
          400,
          null,
          600,
          300,
          500,
          null,
          2,
          null,
          1000,
          300,
          null,
          180,
          null,
          40,
          null,
          600,
          400,
          200,
          250,
          0,
          1000,
          0,
          null,
          14435,
          null,
          175,
          null,
          1655,
          null,
          1500,
          0,
          198,
          400,
          null,
          null,
          125,
          55,
          0,
          null,
          90,
          null,
          438,
          0,
          320,
          null,
          null,
          0,
          80,
          215,
          0,
          null,
          null,
          0,
          0,
          null,
          null,
          null,
          null,
          null,
          null,
          500,
          null,
          null,
          null,
          100,
          450,
          null,
          4545,
          700,
          450,
          600,
          300,
          4853,
          null,
          12,
          210,
          null,
          null,
          0,
          null,
          32,
          null,
          null,
          null,
          null,
          null,
          0,
          null,
          null,
          null,
          0,
          null,
          0,
          null,
          350,
          null,
          0,
          null,
          null,
          null,
          null,
          null,
          null,
          null,
          140,
          null,
          700,
          3000,
          null,
          400,
          266,
          300,
          200,
          10,
          null,
          0,
          null,
          135,
          200,
          null,
          null,
          0,
          0,
          null,
          null,
          210,
          95,
          0,
          null,
          null,
          0,
          0,
          0,
          0,
          0,
          null,
          0,
          null,
          0,
          null,
          0,
          null,
          0,
          0,
          0,
          null,
          null,
          0,
          0,
          null,
          null,
          null,
          0,
          0,
          0,
          null,
          null,
          null,
          0,
          0,
          0,
          null,
          null,
          null,
          null,
          0,
          0,
          null,
          400,
          null,
          null,
          0,
          null,
          750,
          200,
          null,
          null,
          null,
          225,
          null,
          null,
          null,
          null,
          null,
          null,
          null,
          null,
          null,
          650,
          82,
          null,
          0,
          100,
          675,
          null,
          200,
          null,
          null,
          null,
          300,
          null,
          null,
          null,
          0,
          50,
          108,
          675,
          400,
          null,
          11202,
          0,
          675,
          null,
          null,
          null,
          460,
          null,
          null,
          null,
          null,
          0,
          250,
          null,
          150,
          22934,
          null,
          180,
          100,
          null,
          null,
          null,
          500,
          417,
          0,
          200,
          null,
          353,
          null,
          300,
          600,
          null,
          null,
          null,
          676,
          null,
          30,
          null,
          460,
          675,
          200,
          null,
          350,
          null,
          null,
          null,
          null,
          null,
          null,
          null,
          null,
          null,
          150,
          null,
          null,
          300,
          32,
          33,
          null,
          200,
          null,
          null,
          null,
          400,
          40,
          700,
          null,
          null,
          300,
          225,
          null,
          null,
          103,
          163,
          null,
          null,
          350,
          150,
          120,
          null,
          0,
          null,
          0,
          0,
          3200,
          null,
          0,
          51,
          null,
          280,
          500,
          0,
          0,
          1400,
          250,
          283,
          null,
          0,
          0,
          318,
          55,
          6000,
          0,
          null,
          180,
          350,
          250,
          148,
          120,
          140,
          1800,
          297,
          2100,
          113,
          1250,
          1100,
          10000,
          125,
          1300,
          0,
          65,
          125,
          206,
          150,
          27,
          null,
          483,
          133,
          41788,
          4000,
          0,
          null,
          695,
          197,
          685,
          2578,
          240,
          null,
          119,
          null,
          13850,
          null,
          595,
          null,
          150,
          null,
          360,
          31,
          null,
          180,
          0,
          630,
          176,
          300,
          324,
          30,
          420,
          150,
          300,
          null,
          220,
          null,
          10,
          140,
          3,
          2650,
          308,
          null,
          160,
          5,
          5,
          0,
          80,
          55,
          300,
          90,
          115,
          400,
          300,
          null,
          120,
          300,
          150,
          null,
          120,
          null,
          null,
          360,
          176,
          7,
          null,
          300,
          200,
          0,
          91,
          null,
          91,
          null,
          318,
          240,
          null,
          null,
          864,
          240,
          null,
          null,
          130,
          270,
          15,
          500,
          500,
          1000,
          400,
          500,
          220,
          240,
          464,
          0,
          22,
          324,
          null,
          290,
          300,
          103,
          100,
          null,
          0,
          110,
          3,
          160,
          null,
          null,
          180,
          160,
          140,
          null,
          24,
          480,
          136,
          null,
          400,
          null,
          350,
          522,
          160,
          null,
          1,
          null,
          295,
          null,
          250,
          800,
          414,
          512,
          null,
          56,
          250,
          0,
          88,
          200,
          null,
          5,
          206,
          130,
          15,
          null,
          0,
          20,
          3,
          526,
          10,
          700,
          null,
          null,
          null,
          null,
          300,
          null,
          150,
          208,
          150,
          9,
          30,
          91,
          16,
          390,
          null,
          662,
          280,
          522,
          0,
          null,
          225,
          null,
          300,
          700,
          451,
          170,
          5,
          null,
          240,
          1,
          3900,
          200,
          220,
          611,
          300,
          180,
          300,
          3300,
          199,
          29,
          0,
          22,
          200,
          150,
          136,
          null,
          null,
          null,
          211,
          null,
          0,
          1,
          126,
          75,
          null,
          214,
          null,
          0,
          110,
          null,
          150,
          430,
          null,
          null,
          4,
          600,
          null,
          null,
          null,
          null,
          22,
          null,
          50,
          null,
          45,
          84,
          0,
          null,
          null,
          null,
          null,
          40,
          650,
          null,
          null,
          null,
          null,
          4,
          900,
          150,
          0,
          293,
          null,
          120,
          null,
          300,
          143,
          240,
          188,
          600,
          520,
          250,
          790,
          72,
          null,
          950,
          null,
          5000,
          350,
          475,
          null,
          210,
          850,
          170,
          400,
          63,
          300,
          120,
          100,
          335,
          null,
          null,
          250,
          900,
          600,
          65,
          650,
          428,
          400,
          101,
          0,
          0,
          null,
          6,
          null,
          0,
          null,
          1040,
          null,
          null,
          0,
          null,
          null,
          null,
          0,
          0,
          null,
          null,
          null,
          0,
          0,
          0,
          10,
          83,
          150,
          2200,
          729,
          312,
          75,
          620,
          363,
          100,
          100,
          221,
          290,
          1246,
          854,
          563,
          null,
          0,
          null,
          null,
          null,
          null,
          0,
          130,
          75,
          null,
          0,
          null,
          null,
          null,
          50,
          null,
          0,
          null,
          null,
          null,
          0,
          500,
          null,
          92,
          null,
          null,
          30,
          null,
          null,
          null,
          75,
          null,
          null,
          null,
          300,
          null,
          500,
          0,
          280,
          null,
          8,
          null,
          null,
          null,
          51,
          null,
          0,
          0,
          340,
          null,
          null,
          null,
          null,
          22700,
          200,
          null,
          null,
          630,
          0,
          1,
          0,
          0,
          null,
          0,
          null,
          null,
          0,
          null,
          null,
          75,
          null,
          50,
          null,
          null,
          null,
          0,
          0,
          180,
          null,
          null,
          null,
          0,
          0,
          0,
          null,
          0,
          0,
          0,
          null,
          null,
          0,
          null,
          0,
          0,
          0,
          null,
          0,
          56,
          null,
          null,
          0,
          123,
          0,
          0,
          null,
          150,
          580,
          null,
          0,
          null,
          300,
          428,
          120,
          0,
          null,
          0,
          550,
          null,
          0,
          null,
          500,
          0,
          null,
          null,
          200,
          1060,
          220,
          110,
          120,
          1170,
          290,
          0,
          157,
          0,
          0,
          null,
          0,
          0,
          485,
          155,
          1650,
          84,
          373,
          35
         ],
         "yaxis": "y"
        }
       ],
       "layout": {
        "legend": {
         "tracegroupgap": 0
        },
        "margin": {
         "t": 60
        },
        "template": {
         "data": {
          "bar": [
           {
            "error_x": {
             "color": "#2a3f5f"
            },
            "error_y": {
             "color": "#2a3f5f"
            },
            "marker": {
             "line": {
              "color": "#E5ECF6",
              "width": 0.5
             },
             "pattern": {
              "fillmode": "overlay",
              "size": 10,
              "solidity": 0.2
             }
            },
            "type": "bar"
           }
          ],
          "barpolar": [
           {
            "marker": {
             "line": {
              "color": "#E5ECF6",
              "width": 0.5
             },
             "pattern": {
              "fillmode": "overlay",
              "size": 10,
              "solidity": 0.2
             }
            },
            "type": "barpolar"
           }
          ],
          "carpet": [
           {
            "aaxis": {
             "endlinecolor": "#2a3f5f",
             "gridcolor": "white",
             "linecolor": "white",
             "minorgridcolor": "white",
             "startlinecolor": "#2a3f5f"
            },
            "baxis": {
             "endlinecolor": "#2a3f5f",
             "gridcolor": "white",
             "linecolor": "white",
             "minorgridcolor": "white",
             "startlinecolor": "#2a3f5f"
            },
            "type": "carpet"
           }
          ],
          "choropleth": [
           {
            "colorbar": {
             "outlinewidth": 0,
             "ticks": ""
            },
            "type": "choropleth"
           }
          ],
          "contour": [
           {
            "colorbar": {
             "outlinewidth": 0,
             "ticks": ""
            },
            "colorscale": [
             [
              0,
              "#0d0887"
             ],
             [
              0.1111111111111111,
              "#46039f"
             ],
             [
              0.2222222222222222,
              "#7201a8"
             ],
             [
              0.3333333333333333,
              "#9c179e"
             ],
             [
              0.4444444444444444,
              "#bd3786"
             ],
             [
              0.5555555555555556,
              "#d8576b"
             ],
             [
              0.6666666666666666,
              "#ed7953"
             ],
             [
              0.7777777777777778,
              "#fb9f3a"
             ],
             [
              0.8888888888888888,
              "#fdca26"
             ],
             [
              1,
              "#f0f921"
             ]
            ],
            "type": "contour"
           }
          ],
          "contourcarpet": [
           {
            "colorbar": {
             "outlinewidth": 0,
             "ticks": ""
            },
            "type": "contourcarpet"
           }
          ],
          "heatmap": [
           {
            "colorbar": {
             "outlinewidth": 0,
             "ticks": ""
            },
            "colorscale": [
             [
              0,
              "#0d0887"
             ],
             [
              0.1111111111111111,
              "#46039f"
             ],
             [
              0.2222222222222222,
              "#7201a8"
             ],
             [
              0.3333333333333333,
              "#9c179e"
             ],
             [
              0.4444444444444444,
              "#bd3786"
             ],
             [
              0.5555555555555556,
              "#d8576b"
             ],
             [
              0.6666666666666666,
              "#ed7953"
             ],
             [
              0.7777777777777778,
              "#fb9f3a"
             ],
             [
              0.8888888888888888,
              "#fdca26"
             ],
             [
              1,
              "#f0f921"
             ]
            ],
            "type": "heatmap"
           }
          ],
          "heatmapgl": [
           {
            "colorbar": {
             "outlinewidth": 0,
             "ticks": ""
            },
            "colorscale": [
             [
              0,
              "#0d0887"
             ],
             [
              0.1111111111111111,
              "#46039f"
             ],
             [
              0.2222222222222222,
              "#7201a8"
             ],
             [
              0.3333333333333333,
              "#9c179e"
             ],
             [
              0.4444444444444444,
              "#bd3786"
             ],
             [
              0.5555555555555556,
              "#d8576b"
             ],
             [
              0.6666666666666666,
              "#ed7953"
             ],
             [
              0.7777777777777778,
              "#fb9f3a"
             ],
             [
              0.8888888888888888,
              "#fdca26"
             ],
             [
              1,
              "#f0f921"
             ]
            ],
            "type": "heatmapgl"
           }
          ],
          "histogram": [
           {
            "marker": {
             "pattern": {
              "fillmode": "overlay",
              "size": 10,
              "solidity": 0.2
             }
            },
            "type": "histogram"
           }
          ],
          "histogram2d": [
           {
            "colorbar": {
             "outlinewidth": 0,
             "ticks": ""
            },
            "colorscale": [
             [
              0,
              "#0d0887"
             ],
             [
              0.1111111111111111,
              "#46039f"
             ],
             [
              0.2222222222222222,
              "#7201a8"
             ],
             [
              0.3333333333333333,
              "#9c179e"
             ],
             [
              0.4444444444444444,
              "#bd3786"
             ],
             [
              0.5555555555555556,
              "#d8576b"
             ],
             [
              0.6666666666666666,
              "#ed7953"
             ],
             [
              0.7777777777777778,
              "#fb9f3a"
             ],
             [
              0.8888888888888888,
              "#fdca26"
             ],
             [
              1,
              "#f0f921"
             ]
            ],
            "type": "histogram2d"
           }
          ],
          "histogram2dcontour": [
           {
            "colorbar": {
             "outlinewidth": 0,
             "ticks": ""
            },
            "colorscale": [
             [
              0,
              "#0d0887"
             ],
             [
              0.1111111111111111,
              "#46039f"
             ],
             [
              0.2222222222222222,
              "#7201a8"
             ],
             [
              0.3333333333333333,
              "#9c179e"
             ],
             [
              0.4444444444444444,
              "#bd3786"
             ],
             [
              0.5555555555555556,
              "#d8576b"
             ],
             [
              0.6666666666666666,
              "#ed7953"
             ],
             [
              0.7777777777777778,
              "#fb9f3a"
             ],
             [
              0.8888888888888888,
              "#fdca26"
             ],
             [
              1,
              "#f0f921"
             ]
            ],
            "type": "histogram2dcontour"
           }
          ],
          "mesh3d": [
           {
            "colorbar": {
             "outlinewidth": 0,
             "ticks": ""
            },
            "type": "mesh3d"
           }
          ],
          "parcoords": [
           {
            "line": {
             "colorbar": {
              "outlinewidth": 0,
              "ticks": ""
             }
            },
            "type": "parcoords"
           }
          ],
          "pie": [
           {
            "automargin": true,
            "type": "pie"
           }
          ],
          "scatter": [
           {
            "fillpattern": {
             "fillmode": "overlay",
             "size": 10,
             "solidity": 0.2
            },
            "type": "scatter"
           }
          ],
          "scatter3d": [
           {
            "line": {
             "colorbar": {
              "outlinewidth": 0,
              "ticks": ""
             }
            },
            "marker": {
             "colorbar": {
              "outlinewidth": 0,
              "ticks": ""
             }
            },
            "type": "scatter3d"
           }
          ],
          "scattercarpet": [
           {
            "marker": {
             "colorbar": {
              "outlinewidth": 0,
              "ticks": ""
             }
            },
            "type": "scattercarpet"
           }
          ],
          "scattergeo": [
           {
            "marker": {
             "colorbar": {
              "outlinewidth": 0,
              "ticks": ""
             }
            },
            "type": "scattergeo"
           }
          ],
          "scattergl": [
           {
            "marker": {
             "colorbar": {
              "outlinewidth": 0,
              "ticks": ""
             }
            },
            "type": "scattergl"
           }
          ],
          "scattermapbox": [
           {
            "marker": {
             "colorbar": {
              "outlinewidth": 0,
              "ticks": ""
             }
            },
            "type": "scattermapbox"
           }
          ],
          "scatterpolar": [
           {
            "marker": {
             "colorbar": {
              "outlinewidth": 0,
              "ticks": ""
             }
            },
            "type": "scatterpolar"
           }
          ],
          "scatterpolargl": [
           {
            "marker": {
             "colorbar": {
              "outlinewidth": 0,
              "ticks": ""
             }
            },
            "type": "scatterpolargl"
           }
          ],
          "scatterternary": [
           {
            "marker": {
             "colorbar": {
              "outlinewidth": 0,
              "ticks": ""
             }
            },
            "type": "scatterternary"
           }
          ],
          "surface": [
           {
            "colorbar": {
             "outlinewidth": 0,
             "ticks": ""
            },
            "colorscale": [
             [
              0,
              "#0d0887"
             ],
             [
              0.1111111111111111,
              "#46039f"
             ],
             [
              0.2222222222222222,
              "#7201a8"
             ],
             [
              0.3333333333333333,
              "#9c179e"
             ],
             [
              0.4444444444444444,
              "#bd3786"
             ],
             [
              0.5555555555555556,
              "#d8576b"
             ],
             [
              0.6666666666666666,
              "#ed7953"
             ],
             [
              0.7777777777777778,
              "#fb9f3a"
             ],
             [
              0.8888888888888888,
              "#fdca26"
             ],
             [
              1,
              "#f0f921"
             ]
            ],
            "type": "surface"
           }
          ],
          "table": [
           {
            "cells": {
             "fill": {
              "color": "#EBF0F8"
             },
             "line": {
              "color": "white"
             }
            },
            "header": {
             "fill": {
              "color": "#C8D4E3"
             },
             "line": {
              "color": "white"
             }
            },
            "type": "table"
           }
          ]
         },
         "layout": {
          "annotationdefaults": {
           "arrowcolor": "#2a3f5f",
           "arrowhead": 0,
           "arrowwidth": 1
          },
          "autotypenumbers": "strict",
          "coloraxis": {
           "colorbar": {
            "outlinewidth": 0,
            "ticks": ""
           }
          },
          "colorscale": {
           "diverging": [
            [
             0,
             "#8e0152"
            ],
            [
             0.1,
             "#c51b7d"
            ],
            [
             0.2,
             "#de77ae"
            ],
            [
             0.3,
             "#f1b6da"
            ],
            [
             0.4,
             "#fde0ef"
            ],
            [
             0.5,
             "#f7f7f7"
            ],
            [
             0.6,
             "#e6f5d0"
            ],
            [
             0.7,
             "#b8e186"
            ],
            [
             0.8,
             "#7fbc41"
            ],
            [
             0.9,
             "#4d9221"
            ],
            [
             1,
             "#276419"
            ]
           ],
           "sequential": [
            [
             0,
             "#0d0887"
            ],
            [
             0.1111111111111111,
             "#46039f"
            ],
            [
             0.2222222222222222,
             "#7201a8"
            ],
            [
             0.3333333333333333,
             "#9c179e"
            ],
            [
             0.4444444444444444,
             "#bd3786"
            ],
            [
             0.5555555555555556,
             "#d8576b"
            ],
            [
             0.6666666666666666,
             "#ed7953"
            ],
            [
             0.7777777777777778,
             "#fb9f3a"
            ],
            [
             0.8888888888888888,
             "#fdca26"
            ],
            [
             1,
             "#f0f921"
            ]
           ],
           "sequentialminus": [
            [
             0,
             "#0d0887"
            ],
            [
             0.1111111111111111,
             "#46039f"
            ],
            [
             0.2222222222222222,
             "#7201a8"
            ],
            [
             0.3333333333333333,
             "#9c179e"
            ],
            [
             0.4444444444444444,
             "#bd3786"
            ],
            [
             0.5555555555555556,
             "#d8576b"
            ],
            [
             0.6666666666666666,
             "#ed7953"
            ],
            [
             0.7777777777777778,
             "#fb9f3a"
            ],
            [
             0.8888888888888888,
             "#fdca26"
            ],
            [
             1,
             "#f0f921"
            ]
           ]
          },
          "colorway": [
           "#636efa",
           "#EF553B",
           "#00cc96",
           "#ab63fa",
           "#FFA15A",
           "#19d3f3",
           "#FF6692",
           "#B6E880",
           "#FF97FF",
           "#FECB52"
          ],
          "font": {
           "color": "#2a3f5f"
          },
          "geo": {
           "bgcolor": "white",
           "lakecolor": "white",
           "landcolor": "#E5ECF6",
           "showlakes": true,
           "showland": true,
           "subunitcolor": "white"
          },
          "hoverlabel": {
           "align": "left"
          },
          "hovermode": "closest",
          "mapbox": {
           "style": "light"
          },
          "paper_bgcolor": "white",
          "plot_bgcolor": "#E5ECF6",
          "polar": {
           "angularaxis": {
            "gridcolor": "white",
            "linecolor": "white",
            "ticks": ""
           },
           "bgcolor": "#E5ECF6",
           "radialaxis": {
            "gridcolor": "white",
            "linecolor": "white",
            "ticks": ""
           }
          },
          "scene": {
           "xaxis": {
            "backgroundcolor": "#E5ECF6",
            "gridcolor": "white",
            "gridwidth": 2,
            "linecolor": "white",
            "showbackground": true,
            "ticks": "",
            "zerolinecolor": "white"
           },
           "yaxis": {
            "backgroundcolor": "#E5ECF6",
            "gridcolor": "white",
            "gridwidth": 2,
            "linecolor": "white",
            "showbackground": true,
            "ticks": "",
            "zerolinecolor": "white"
           },
           "zaxis": {
            "backgroundcolor": "#E5ECF6",
            "gridcolor": "white",
            "gridwidth": 2,
            "linecolor": "white",
            "showbackground": true,
            "ticks": "",
            "zerolinecolor": "white"
           }
          },
          "shapedefaults": {
           "line": {
            "color": "#2a3f5f"
           }
          },
          "ternary": {
           "aaxis": {
            "gridcolor": "white",
            "linecolor": "white",
            "ticks": ""
           },
           "baxis": {
            "gridcolor": "white",
            "linecolor": "white",
            "ticks": ""
           },
           "bgcolor": "#E5ECF6",
           "caxis": {
            "gridcolor": "white",
            "linecolor": "white",
            "ticks": ""
           }
          },
          "title": {
           "x": 0.05
          },
          "xaxis": {
           "automargin": true,
           "gridcolor": "white",
           "linecolor": "white",
           "ticks": "",
           "title": {
            "standoff": 15
           },
           "zerolinecolor": "white",
           "zerolinewidth": 2
          },
          "yaxis": {
           "automargin": true,
           "gridcolor": "white",
           "linecolor": "white",
           "ticks": "",
           "title": {
            "standoff": 15
           },
           "zerolinecolor": "white",
           "zerolinewidth": 2
          }
         }
        },
        "xaxis": {
         "anchor": "y",
         "domain": [
          0,
          1
         ],
         "title": {
          "text": "OUTAGE.DURATION"
         }
        },
        "yaxis": {
         "anchor": "x",
         "domain": [
          0,
          1
         ],
         "title": {
          "text": "DEMAND.LOSS.MW"
         }
        }
       }
      }
     },
     "metadata": {},
     "output_type": "display_data"
    }
   ],
   "source": [
    "px.scatter(formated_data, x='OUTAGE.DURATION', y='DEMAND.LOSS.MW')"
   ]
  },
  {
   "cell_type": "markdown",
   "metadata": {},
   "source": [
    "Indeed, an exponental decay relationship is present (For linear model, this may be a useful feature)"
   ]
  },
  {
   "cell_type": "markdown",
   "metadata": {},
   "source": [
    "Exploration of outages by state. The first is an absolute value, while the seccond is normalized against the number of people in the state."
   ]
  },
  {
   "cell_type": "code",
   "execution_count": 5,
   "metadata": {},
   "outputs": [
    {
     "data": {
      "application/vnd.plotly.v1+json": {
       "config": {
        "plotlyServerURL": "https://plot.ly"
       },
       "data": [
        {
         "alignmentgroup": "True",
         "hovertemplate": "POSTAL.CODE=%{x}<br>OBS=%{y}<extra></extra>",
         "legendgroup": "",
         "marker": {
          "color": "#636efa",
          "pattern": {
           "shape": ""
          }
         },
         "name": "",
         "offsetgroup": "",
         "orientation": "v",
         "showlegend": false,
         "textposition": "auto",
         "type": "bar",
         "x": [
          "AK",
          "AL",
          "AR",
          "AZ",
          "CA",
          "CO",
          "CT",
          "DC",
          "DE",
          "FL",
          "GA",
          "HI",
          "IA",
          "ID",
          "IL",
          "IN",
          "KS",
          "KY",
          "LA",
          "MA",
          "MD",
          "ME",
          "MI",
          "MN",
          "MO",
          "MS",
          "MT",
          "NC",
          "ND",
          "NE",
          "NH",
          "NJ",
          "NM",
          "NV",
          "NY",
          "OH",
          "OK",
          "OR",
          "PA",
          "SC",
          "SD",
          "TN",
          "TX",
          "UT",
          "VA",
          "VT",
          "WA",
          "WI",
          "WV",
          "WY"
         ],
         "xaxis": "x",
         "y": [
          1,
          6,
          25,
          28,
          210,
          15,
          18,
          10,
          41,
          45,
          17,
          5,
          8,
          9,
          46,
          43,
          9,
          13,
          40,
          18,
          58,
          19,
          95,
          15,
          17,
          4,
          3,
          40,
          2,
          4,
          14,
          35,
          8,
          7,
          71,
          43,
          24,
          26,
          57,
          8,
          2,
          34,
          127,
          41,
          37,
          9,
          97,
          20,
          4,
          6
         ],
         "yaxis": "y"
        }
       ],
       "layout": {
        "barmode": "relative",
        "legend": {
         "tracegroupgap": 0
        },
        "template": {
         "data": {
          "bar": [
           {
            "error_x": {
             "color": "#2a3f5f"
            },
            "error_y": {
             "color": "#2a3f5f"
            },
            "marker": {
             "line": {
              "color": "#E5ECF6",
              "width": 0.5
             },
             "pattern": {
              "fillmode": "overlay",
              "size": 10,
              "solidity": 0.2
             }
            },
            "type": "bar"
           }
          ],
          "barpolar": [
           {
            "marker": {
             "line": {
              "color": "#E5ECF6",
              "width": 0.5
             },
             "pattern": {
              "fillmode": "overlay",
              "size": 10,
              "solidity": 0.2
             }
            },
            "type": "barpolar"
           }
          ],
          "carpet": [
           {
            "aaxis": {
             "endlinecolor": "#2a3f5f",
             "gridcolor": "white",
             "linecolor": "white",
             "minorgridcolor": "white",
             "startlinecolor": "#2a3f5f"
            },
            "baxis": {
             "endlinecolor": "#2a3f5f",
             "gridcolor": "white",
             "linecolor": "white",
             "minorgridcolor": "white",
             "startlinecolor": "#2a3f5f"
            },
            "type": "carpet"
           }
          ],
          "choropleth": [
           {
            "colorbar": {
             "outlinewidth": 0,
             "ticks": ""
            },
            "type": "choropleth"
           }
          ],
          "contour": [
           {
            "colorbar": {
             "outlinewidth": 0,
             "ticks": ""
            },
            "colorscale": [
             [
              0,
              "#0d0887"
             ],
             [
              0.1111111111111111,
              "#46039f"
             ],
             [
              0.2222222222222222,
              "#7201a8"
             ],
             [
              0.3333333333333333,
              "#9c179e"
             ],
             [
              0.4444444444444444,
              "#bd3786"
             ],
             [
              0.5555555555555556,
              "#d8576b"
             ],
             [
              0.6666666666666666,
              "#ed7953"
             ],
             [
              0.7777777777777778,
              "#fb9f3a"
             ],
             [
              0.8888888888888888,
              "#fdca26"
             ],
             [
              1,
              "#f0f921"
             ]
            ],
            "type": "contour"
           }
          ],
          "contourcarpet": [
           {
            "colorbar": {
             "outlinewidth": 0,
             "ticks": ""
            },
            "type": "contourcarpet"
           }
          ],
          "heatmap": [
           {
            "colorbar": {
             "outlinewidth": 0,
             "ticks": ""
            },
            "colorscale": [
             [
              0,
              "#0d0887"
             ],
             [
              0.1111111111111111,
              "#46039f"
             ],
             [
              0.2222222222222222,
              "#7201a8"
             ],
             [
              0.3333333333333333,
              "#9c179e"
             ],
             [
              0.4444444444444444,
              "#bd3786"
             ],
             [
              0.5555555555555556,
              "#d8576b"
             ],
             [
              0.6666666666666666,
              "#ed7953"
             ],
             [
              0.7777777777777778,
              "#fb9f3a"
             ],
             [
              0.8888888888888888,
              "#fdca26"
             ],
             [
              1,
              "#f0f921"
             ]
            ],
            "type": "heatmap"
           }
          ],
          "heatmapgl": [
           {
            "colorbar": {
             "outlinewidth": 0,
             "ticks": ""
            },
            "colorscale": [
             [
              0,
              "#0d0887"
             ],
             [
              0.1111111111111111,
              "#46039f"
             ],
             [
              0.2222222222222222,
              "#7201a8"
             ],
             [
              0.3333333333333333,
              "#9c179e"
             ],
             [
              0.4444444444444444,
              "#bd3786"
             ],
             [
              0.5555555555555556,
              "#d8576b"
             ],
             [
              0.6666666666666666,
              "#ed7953"
             ],
             [
              0.7777777777777778,
              "#fb9f3a"
             ],
             [
              0.8888888888888888,
              "#fdca26"
             ],
             [
              1,
              "#f0f921"
             ]
            ],
            "type": "heatmapgl"
           }
          ],
          "histogram": [
           {
            "marker": {
             "pattern": {
              "fillmode": "overlay",
              "size": 10,
              "solidity": 0.2
             }
            },
            "type": "histogram"
           }
          ],
          "histogram2d": [
           {
            "colorbar": {
             "outlinewidth": 0,
             "ticks": ""
            },
            "colorscale": [
             [
              0,
              "#0d0887"
             ],
             [
              0.1111111111111111,
              "#46039f"
             ],
             [
              0.2222222222222222,
              "#7201a8"
             ],
             [
              0.3333333333333333,
              "#9c179e"
             ],
             [
              0.4444444444444444,
              "#bd3786"
             ],
             [
              0.5555555555555556,
              "#d8576b"
             ],
             [
              0.6666666666666666,
              "#ed7953"
             ],
             [
              0.7777777777777778,
              "#fb9f3a"
             ],
             [
              0.8888888888888888,
              "#fdca26"
             ],
             [
              1,
              "#f0f921"
             ]
            ],
            "type": "histogram2d"
           }
          ],
          "histogram2dcontour": [
           {
            "colorbar": {
             "outlinewidth": 0,
             "ticks": ""
            },
            "colorscale": [
             [
              0,
              "#0d0887"
             ],
             [
              0.1111111111111111,
              "#46039f"
             ],
             [
              0.2222222222222222,
              "#7201a8"
             ],
             [
              0.3333333333333333,
              "#9c179e"
             ],
             [
              0.4444444444444444,
              "#bd3786"
             ],
             [
              0.5555555555555556,
              "#d8576b"
             ],
             [
              0.6666666666666666,
              "#ed7953"
             ],
             [
              0.7777777777777778,
              "#fb9f3a"
             ],
             [
              0.8888888888888888,
              "#fdca26"
             ],
             [
              1,
              "#f0f921"
             ]
            ],
            "type": "histogram2dcontour"
           }
          ],
          "mesh3d": [
           {
            "colorbar": {
             "outlinewidth": 0,
             "ticks": ""
            },
            "type": "mesh3d"
           }
          ],
          "parcoords": [
           {
            "line": {
             "colorbar": {
              "outlinewidth": 0,
              "ticks": ""
             }
            },
            "type": "parcoords"
           }
          ],
          "pie": [
           {
            "automargin": true,
            "type": "pie"
           }
          ],
          "scatter": [
           {
            "fillpattern": {
             "fillmode": "overlay",
             "size": 10,
             "solidity": 0.2
            },
            "type": "scatter"
           }
          ],
          "scatter3d": [
           {
            "line": {
             "colorbar": {
              "outlinewidth": 0,
              "ticks": ""
             }
            },
            "marker": {
             "colorbar": {
              "outlinewidth": 0,
              "ticks": ""
             }
            },
            "type": "scatter3d"
           }
          ],
          "scattercarpet": [
           {
            "marker": {
             "colorbar": {
              "outlinewidth": 0,
              "ticks": ""
             }
            },
            "type": "scattercarpet"
           }
          ],
          "scattergeo": [
           {
            "marker": {
             "colorbar": {
              "outlinewidth": 0,
              "ticks": ""
             }
            },
            "type": "scattergeo"
           }
          ],
          "scattergl": [
           {
            "marker": {
             "colorbar": {
              "outlinewidth": 0,
              "ticks": ""
             }
            },
            "type": "scattergl"
           }
          ],
          "scattermapbox": [
           {
            "marker": {
             "colorbar": {
              "outlinewidth": 0,
              "ticks": ""
             }
            },
            "type": "scattermapbox"
           }
          ],
          "scatterpolar": [
           {
            "marker": {
             "colorbar": {
              "outlinewidth": 0,
              "ticks": ""
             }
            },
            "type": "scatterpolar"
           }
          ],
          "scatterpolargl": [
           {
            "marker": {
             "colorbar": {
              "outlinewidth": 0,
              "ticks": ""
             }
            },
            "type": "scatterpolargl"
           }
          ],
          "scatterternary": [
           {
            "marker": {
             "colorbar": {
              "outlinewidth": 0,
              "ticks": ""
             }
            },
            "type": "scatterternary"
           }
          ],
          "surface": [
           {
            "colorbar": {
             "outlinewidth": 0,
             "ticks": ""
            },
            "colorscale": [
             [
              0,
              "#0d0887"
             ],
             [
              0.1111111111111111,
              "#46039f"
             ],
             [
              0.2222222222222222,
              "#7201a8"
             ],
             [
              0.3333333333333333,
              "#9c179e"
             ],
             [
              0.4444444444444444,
              "#bd3786"
             ],
             [
              0.5555555555555556,
              "#d8576b"
             ],
             [
              0.6666666666666666,
              "#ed7953"
             ],
             [
              0.7777777777777778,
              "#fb9f3a"
             ],
             [
              0.8888888888888888,
              "#fdca26"
             ],
             [
              1,
              "#f0f921"
             ]
            ],
            "type": "surface"
           }
          ],
          "table": [
           {
            "cells": {
             "fill": {
              "color": "#EBF0F8"
             },
             "line": {
              "color": "white"
             }
            },
            "header": {
             "fill": {
              "color": "#C8D4E3"
             },
             "line": {
              "color": "white"
             }
            },
            "type": "table"
           }
          ]
         },
         "layout": {
          "annotationdefaults": {
           "arrowcolor": "#2a3f5f",
           "arrowhead": 0,
           "arrowwidth": 1
          },
          "autotypenumbers": "strict",
          "coloraxis": {
           "colorbar": {
            "outlinewidth": 0,
            "ticks": ""
           }
          },
          "colorscale": {
           "diverging": [
            [
             0,
             "#8e0152"
            ],
            [
             0.1,
             "#c51b7d"
            ],
            [
             0.2,
             "#de77ae"
            ],
            [
             0.3,
             "#f1b6da"
            ],
            [
             0.4,
             "#fde0ef"
            ],
            [
             0.5,
             "#f7f7f7"
            ],
            [
             0.6,
             "#e6f5d0"
            ],
            [
             0.7,
             "#b8e186"
            ],
            [
             0.8,
             "#7fbc41"
            ],
            [
             0.9,
             "#4d9221"
            ],
            [
             1,
             "#276419"
            ]
           ],
           "sequential": [
            [
             0,
             "#0d0887"
            ],
            [
             0.1111111111111111,
             "#46039f"
            ],
            [
             0.2222222222222222,
             "#7201a8"
            ],
            [
             0.3333333333333333,
             "#9c179e"
            ],
            [
             0.4444444444444444,
             "#bd3786"
            ],
            [
             0.5555555555555556,
             "#d8576b"
            ],
            [
             0.6666666666666666,
             "#ed7953"
            ],
            [
             0.7777777777777778,
             "#fb9f3a"
            ],
            [
             0.8888888888888888,
             "#fdca26"
            ],
            [
             1,
             "#f0f921"
            ]
           ],
           "sequentialminus": [
            [
             0,
             "#0d0887"
            ],
            [
             0.1111111111111111,
             "#46039f"
            ],
            [
             0.2222222222222222,
             "#7201a8"
            ],
            [
             0.3333333333333333,
             "#9c179e"
            ],
            [
             0.4444444444444444,
             "#bd3786"
            ],
            [
             0.5555555555555556,
             "#d8576b"
            ],
            [
             0.6666666666666666,
             "#ed7953"
            ],
            [
             0.7777777777777778,
             "#fb9f3a"
            ],
            [
             0.8888888888888888,
             "#fdca26"
            ],
            [
             1,
             "#f0f921"
            ]
           ]
          },
          "colorway": [
           "#636efa",
           "#EF553B",
           "#00cc96",
           "#ab63fa",
           "#FFA15A",
           "#19d3f3",
           "#FF6692",
           "#B6E880",
           "#FF97FF",
           "#FECB52"
          ],
          "font": {
           "color": "#2a3f5f"
          },
          "geo": {
           "bgcolor": "white",
           "lakecolor": "white",
           "landcolor": "#E5ECF6",
           "showlakes": true,
           "showland": true,
           "subunitcolor": "white"
          },
          "hoverlabel": {
           "align": "left"
          },
          "hovermode": "closest",
          "mapbox": {
           "style": "light"
          },
          "paper_bgcolor": "white",
          "plot_bgcolor": "#E5ECF6",
          "polar": {
           "angularaxis": {
            "gridcolor": "white",
            "linecolor": "white",
            "ticks": ""
           },
           "bgcolor": "#E5ECF6",
           "radialaxis": {
            "gridcolor": "white",
            "linecolor": "white",
            "ticks": ""
           }
          },
          "scene": {
           "xaxis": {
            "backgroundcolor": "#E5ECF6",
            "gridcolor": "white",
            "gridwidth": 2,
            "linecolor": "white",
            "showbackground": true,
            "ticks": "",
            "zerolinecolor": "white"
           },
           "yaxis": {
            "backgroundcolor": "#E5ECF6",
            "gridcolor": "white",
            "gridwidth": 2,
            "linecolor": "white",
            "showbackground": true,
            "ticks": "",
            "zerolinecolor": "white"
           },
           "zaxis": {
            "backgroundcolor": "#E5ECF6",
            "gridcolor": "white",
            "gridwidth": 2,
            "linecolor": "white",
            "showbackground": true,
            "ticks": "",
            "zerolinecolor": "white"
           }
          },
          "shapedefaults": {
           "line": {
            "color": "#2a3f5f"
           }
          },
          "ternary": {
           "aaxis": {
            "gridcolor": "white",
            "linecolor": "white",
            "ticks": ""
           },
           "baxis": {
            "gridcolor": "white",
            "linecolor": "white",
            "ticks": ""
           },
           "bgcolor": "#E5ECF6",
           "caxis": {
            "gridcolor": "white",
            "linecolor": "white",
            "ticks": ""
           }
          },
          "title": {
           "x": 0.05
          },
          "xaxis": {
           "automargin": true,
           "gridcolor": "white",
           "linecolor": "white",
           "ticks": "",
           "title": {
            "standoff": 15
           },
           "zerolinecolor": "white",
           "zerolinewidth": 2
          },
          "yaxis": {
           "automargin": true,
           "gridcolor": "white",
           "linecolor": "white",
           "ticks": "",
           "title": {
            "standoff": 15
           },
           "zerolinecolor": "white",
           "zerolinewidth": 2
          }
         }
        },
        "title": {
         "text": "State Outages"
        },
        "xaxis": {
         "anchor": "y",
         "domain": [
          0,
          1
         ],
         "title": {
          "text": "POSTAL.CODE"
         }
        },
        "yaxis": {
         "anchor": "x",
         "domain": [
          0,
          1
         ],
         "title": {
          "text": "OBS"
         }
        }
       }
      }
     },
     "metadata": {},
     "output_type": "display_data"
    }
   ],
   "source": [
    "state = formated_data.groupby('POSTAL.CODE').count().reset_index()\n",
    "px.bar(state, x='POSTAL.CODE', y='OBS', title='State Outages')"
   ]
  },
  {
   "cell_type": "code",
   "execution_count": 6,
   "metadata": {},
   "outputs": [],
   "source": [
    "capita = formated_data.groupby('POSTAL.CODE')['OBS'].count()\n",
    "pop = formated_data.groupby('POSTAL.CODE')['POPULATION'].mean()\n",
    "capita = capita / pop"
   ]
  },
  {
   "cell_type": "code",
   "execution_count": 7,
   "metadata": {},
   "outputs": [
    {
     "data": {
      "application/vnd.plotly.v1+json": {
       "config": {
        "plotlyServerURL": "https://plot.ly"
       },
       "data": [
        {
         "alignmentgroup": "True",
         "hovertemplate": "variable=0<br>POSTAL.CODE=%{x}<br>value=%{y}<extra></extra>",
         "legendgroup": "0",
         "marker": {
          "color": "#636efa",
          "pattern": {
           "shape": ""
          }
         },
         "name": "0",
         "offsetgroup": "0",
         "orientation": "v",
         "showlegend": true,
         "textposition": "auto",
         "type": "bar",
         "x": [
          "AK",
          "AL",
          "AR",
          "AZ",
          "CA",
          "CO",
          "CT",
          "DC",
          "DE",
          "FL",
          "GA",
          "HI",
          "IA",
          "ID",
          "IL",
          "IN",
          "KS",
          "KY",
          "LA",
          "MA",
          "MD",
          "ME",
          "MI",
          "MN",
          "MO",
          "MS",
          "MT",
          "NC",
          "ND",
          "NE",
          "NH",
          "NJ",
          "NM",
          "NV",
          "NY",
          "OH",
          "OK",
          "OR",
          "PA",
          "SC",
          "SD",
          "TN",
          "TX",
          "UT",
          "VA",
          "VT",
          "WA",
          "WI",
          "WV",
          "WY"
         ],
         "xaxis": "x",
         "y": [
          0.0000015924505106192563,
          0.0000012906722186605248,
          0.000008547988599472382,
          0.000004429502507092769,
          0.000005653516017503122,
          0.000002936263123628031,
          0.000005043045977356786,
          0.000016079543572507968,
          0.00004460245665873684,
          0.0000024867381670243635,
          0.0000018091535897466541,
          0.0000037652683514284596,
          0.000002610916953626158,
          0.000005693124561067125,
          0.0000036046847511963027,
          0.0000066363912988159656,
          0.0000031553432758329803,
          0.000003000797874866906,
          0.000008802204388858328,
          0.000002715130244295017,
          0.00000999390490634303,
          0.000014331645309008337,
          0.00000955517780246798,
          0.0000028009033847050136,
          0.0000028348334326914657,
          0.0000013381038967425365,
          0.000002971967412707538,
          0.000004249456278085354,
          0.0000029968203735836277,
          0.000002238242442504448,
          0.00001061147372092896,
          0.0000039577369521828935,
          0.000003895945148988247,
          0.000002504107374897734,
          0.000003648470814133355,
          0.0000037320580978950484,
          0.000006331559430440614,
          0.000006625946111101865,
          0.00000449573667796401,
          0.0000017962138674390236,
          0.0000024781090045807843,
          0.000005236837730462708,
          0.000005045555964743988,
          0.000014167661795308741,
          0.000004671548014619222,
          0.00001436358671173168,
          0.000014141543841043383,
          0.0000035078690535634245,
          0.0000021605723896403254,
          0.000010507374863732482
         ],
         "yaxis": "y"
        }
       ],
       "layout": {
        "barmode": "relative",
        "legend": {
         "title": {
          "text": "variable"
         },
         "tracegroupgap": 0
        },
        "template": {
         "data": {
          "bar": [
           {
            "error_x": {
             "color": "#2a3f5f"
            },
            "error_y": {
             "color": "#2a3f5f"
            },
            "marker": {
             "line": {
              "color": "#E5ECF6",
              "width": 0.5
             },
             "pattern": {
              "fillmode": "overlay",
              "size": 10,
              "solidity": 0.2
             }
            },
            "type": "bar"
           }
          ],
          "barpolar": [
           {
            "marker": {
             "line": {
              "color": "#E5ECF6",
              "width": 0.5
             },
             "pattern": {
              "fillmode": "overlay",
              "size": 10,
              "solidity": 0.2
             }
            },
            "type": "barpolar"
           }
          ],
          "carpet": [
           {
            "aaxis": {
             "endlinecolor": "#2a3f5f",
             "gridcolor": "white",
             "linecolor": "white",
             "minorgridcolor": "white",
             "startlinecolor": "#2a3f5f"
            },
            "baxis": {
             "endlinecolor": "#2a3f5f",
             "gridcolor": "white",
             "linecolor": "white",
             "minorgridcolor": "white",
             "startlinecolor": "#2a3f5f"
            },
            "type": "carpet"
           }
          ],
          "choropleth": [
           {
            "colorbar": {
             "outlinewidth": 0,
             "ticks": ""
            },
            "type": "choropleth"
           }
          ],
          "contour": [
           {
            "colorbar": {
             "outlinewidth": 0,
             "ticks": ""
            },
            "colorscale": [
             [
              0,
              "#0d0887"
             ],
             [
              0.1111111111111111,
              "#46039f"
             ],
             [
              0.2222222222222222,
              "#7201a8"
             ],
             [
              0.3333333333333333,
              "#9c179e"
             ],
             [
              0.4444444444444444,
              "#bd3786"
             ],
             [
              0.5555555555555556,
              "#d8576b"
             ],
             [
              0.6666666666666666,
              "#ed7953"
             ],
             [
              0.7777777777777778,
              "#fb9f3a"
             ],
             [
              0.8888888888888888,
              "#fdca26"
             ],
             [
              1,
              "#f0f921"
             ]
            ],
            "type": "contour"
           }
          ],
          "contourcarpet": [
           {
            "colorbar": {
             "outlinewidth": 0,
             "ticks": ""
            },
            "type": "contourcarpet"
           }
          ],
          "heatmap": [
           {
            "colorbar": {
             "outlinewidth": 0,
             "ticks": ""
            },
            "colorscale": [
             [
              0,
              "#0d0887"
             ],
             [
              0.1111111111111111,
              "#46039f"
             ],
             [
              0.2222222222222222,
              "#7201a8"
             ],
             [
              0.3333333333333333,
              "#9c179e"
             ],
             [
              0.4444444444444444,
              "#bd3786"
             ],
             [
              0.5555555555555556,
              "#d8576b"
             ],
             [
              0.6666666666666666,
              "#ed7953"
             ],
             [
              0.7777777777777778,
              "#fb9f3a"
             ],
             [
              0.8888888888888888,
              "#fdca26"
             ],
             [
              1,
              "#f0f921"
             ]
            ],
            "type": "heatmap"
           }
          ],
          "heatmapgl": [
           {
            "colorbar": {
             "outlinewidth": 0,
             "ticks": ""
            },
            "colorscale": [
             [
              0,
              "#0d0887"
             ],
             [
              0.1111111111111111,
              "#46039f"
             ],
             [
              0.2222222222222222,
              "#7201a8"
             ],
             [
              0.3333333333333333,
              "#9c179e"
             ],
             [
              0.4444444444444444,
              "#bd3786"
             ],
             [
              0.5555555555555556,
              "#d8576b"
             ],
             [
              0.6666666666666666,
              "#ed7953"
             ],
             [
              0.7777777777777778,
              "#fb9f3a"
             ],
             [
              0.8888888888888888,
              "#fdca26"
             ],
             [
              1,
              "#f0f921"
             ]
            ],
            "type": "heatmapgl"
           }
          ],
          "histogram": [
           {
            "marker": {
             "pattern": {
              "fillmode": "overlay",
              "size": 10,
              "solidity": 0.2
             }
            },
            "type": "histogram"
           }
          ],
          "histogram2d": [
           {
            "colorbar": {
             "outlinewidth": 0,
             "ticks": ""
            },
            "colorscale": [
             [
              0,
              "#0d0887"
             ],
             [
              0.1111111111111111,
              "#46039f"
             ],
             [
              0.2222222222222222,
              "#7201a8"
             ],
             [
              0.3333333333333333,
              "#9c179e"
             ],
             [
              0.4444444444444444,
              "#bd3786"
             ],
             [
              0.5555555555555556,
              "#d8576b"
             ],
             [
              0.6666666666666666,
              "#ed7953"
             ],
             [
              0.7777777777777778,
              "#fb9f3a"
             ],
             [
              0.8888888888888888,
              "#fdca26"
             ],
             [
              1,
              "#f0f921"
             ]
            ],
            "type": "histogram2d"
           }
          ],
          "histogram2dcontour": [
           {
            "colorbar": {
             "outlinewidth": 0,
             "ticks": ""
            },
            "colorscale": [
             [
              0,
              "#0d0887"
             ],
             [
              0.1111111111111111,
              "#46039f"
             ],
             [
              0.2222222222222222,
              "#7201a8"
             ],
             [
              0.3333333333333333,
              "#9c179e"
             ],
             [
              0.4444444444444444,
              "#bd3786"
             ],
             [
              0.5555555555555556,
              "#d8576b"
             ],
             [
              0.6666666666666666,
              "#ed7953"
             ],
             [
              0.7777777777777778,
              "#fb9f3a"
             ],
             [
              0.8888888888888888,
              "#fdca26"
             ],
             [
              1,
              "#f0f921"
             ]
            ],
            "type": "histogram2dcontour"
           }
          ],
          "mesh3d": [
           {
            "colorbar": {
             "outlinewidth": 0,
             "ticks": ""
            },
            "type": "mesh3d"
           }
          ],
          "parcoords": [
           {
            "line": {
             "colorbar": {
              "outlinewidth": 0,
              "ticks": ""
             }
            },
            "type": "parcoords"
           }
          ],
          "pie": [
           {
            "automargin": true,
            "type": "pie"
           }
          ],
          "scatter": [
           {
            "fillpattern": {
             "fillmode": "overlay",
             "size": 10,
             "solidity": 0.2
            },
            "type": "scatter"
           }
          ],
          "scatter3d": [
           {
            "line": {
             "colorbar": {
              "outlinewidth": 0,
              "ticks": ""
             }
            },
            "marker": {
             "colorbar": {
              "outlinewidth": 0,
              "ticks": ""
             }
            },
            "type": "scatter3d"
           }
          ],
          "scattercarpet": [
           {
            "marker": {
             "colorbar": {
              "outlinewidth": 0,
              "ticks": ""
             }
            },
            "type": "scattercarpet"
           }
          ],
          "scattergeo": [
           {
            "marker": {
             "colorbar": {
              "outlinewidth": 0,
              "ticks": ""
             }
            },
            "type": "scattergeo"
           }
          ],
          "scattergl": [
           {
            "marker": {
             "colorbar": {
              "outlinewidth": 0,
              "ticks": ""
             }
            },
            "type": "scattergl"
           }
          ],
          "scattermapbox": [
           {
            "marker": {
             "colorbar": {
              "outlinewidth": 0,
              "ticks": ""
             }
            },
            "type": "scattermapbox"
           }
          ],
          "scatterpolar": [
           {
            "marker": {
             "colorbar": {
              "outlinewidth": 0,
              "ticks": ""
             }
            },
            "type": "scatterpolar"
           }
          ],
          "scatterpolargl": [
           {
            "marker": {
             "colorbar": {
              "outlinewidth": 0,
              "ticks": ""
             }
            },
            "type": "scatterpolargl"
           }
          ],
          "scatterternary": [
           {
            "marker": {
             "colorbar": {
              "outlinewidth": 0,
              "ticks": ""
             }
            },
            "type": "scatterternary"
           }
          ],
          "surface": [
           {
            "colorbar": {
             "outlinewidth": 0,
             "ticks": ""
            },
            "colorscale": [
             [
              0,
              "#0d0887"
             ],
             [
              0.1111111111111111,
              "#46039f"
             ],
             [
              0.2222222222222222,
              "#7201a8"
             ],
             [
              0.3333333333333333,
              "#9c179e"
             ],
             [
              0.4444444444444444,
              "#bd3786"
             ],
             [
              0.5555555555555556,
              "#d8576b"
             ],
             [
              0.6666666666666666,
              "#ed7953"
             ],
             [
              0.7777777777777778,
              "#fb9f3a"
             ],
             [
              0.8888888888888888,
              "#fdca26"
             ],
             [
              1,
              "#f0f921"
             ]
            ],
            "type": "surface"
           }
          ],
          "table": [
           {
            "cells": {
             "fill": {
              "color": "#EBF0F8"
             },
             "line": {
              "color": "white"
             }
            },
            "header": {
             "fill": {
              "color": "#C8D4E3"
             },
             "line": {
              "color": "white"
             }
            },
            "type": "table"
           }
          ]
         },
         "layout": {
          "annotationdefaults": {
           "arrowcolor": "#2a3f5f",
           "arrowhead": 0,
           "arrowwidth": 1
          },
          "autotypenumbers": "strict",
          "coloraxis": {
           "colorbar": {
            "outlinewidth": 0,
            "ticks": ""
           }
          },
          "colorscale": {
           "diverging": [
            [
             0,
             "#8e0152"
            ],
            [
             0.1,
             "#c51b7d"
            ],
            [
             0.2,
             "#de77ae"
            ],
            [
             0.3,
             "#f1b6da"
            ],
            [
             0.4,
             "#fde0ef"
            ],
            [
             0.5,
             "#f7f7f7"
            ],
            [
             0.6,
             "#e6f5d0"
            ],
            [
             0.7,
             "#b8e186"
            ],
            [
             0.8,
             "#7fbc41"
            ],
            [
             0.9,
             "#4d9221"
            ],
            [
             1,
             "#276419"
            ]
           ],
           "sequential": [
            [
             0,
             "#0d0887"
            ],
            [
             0.1111111111111111,
             "#46039f"
            ],
            [
             0.2222222222222222,
             "#7201a8"
            ],
            [
             0.3333333333333333,
             "#9c179e"
            ],
            [
             0.4444444444444444,
             "#bd3786"
            ],
            [
             0.5555555555555556,
             "#d8576b"
            ],
            [
             0.6666666666666666,
             "#ed7953"
            ],
            [
             0.7777777777777778,
             "#fb9f3a"
            ],
            [
             0.8888888888888888,
             "#fdca26"
            ],
            [
             1,
             "#f0f921"
            ]
           ],
           "sequentialminus": [
            [
             0,
             "#0d0887"
            ],
            [
             0.1111111111111111,
             "#46039f"
            ],
            [
             0.2222222222222222,
             "#7201a8"
            ],
            [
             0.3333333333333333,
             "#9c179e"
            ],
            [
             0.4444444444444444,
             "#bd3786"
            ],
            [
             0.5555555555555556,
             "#d8576b"
            ],
            [
             0.6666666666666666,
             "#ed7953"
            ],
            [
             0.7777777777777778,
             "#fb9f3a"
            ],
            [
             0.8888888888888888,
             "#fdca26"
            ],
            [
             1,
             "#f0f921"
            ]
           ]
          },
          "colorway": [
           "#636efa",
           "#EF553B",
           "#00cc96",
           "#ab63fa",
           "#FFA15A",
           "#19d3f3",
           "#FF6692",
           "#B6E880",
           "#FF97FF",
           "#FECB52"
          ],
          "font": {
           "color": "#2a3f5f"
          },
          "geo": {
           "bgcolor": "white",
           "lakecolor": "white",
           "landcolor": "#E5ECF6",
           "showlakes": true,
           "showland": true,
           "subunitcolor": "white"
          },
          "hoverlabel": {
           "align": "left"
          },
          "hovermode": "closest",
          "mapbox": {
           "style": "light"
          },
          "paper_bgcolor": "white",
          "plot_bgcolor": "#E5ECF6",
          "polar": {
           "angularaxis": {
            "gridcolor": "white",
            "linecolor": "white",
            "ticks": ""
           },
           "bgcolor": "#E5ECF6",
           "radialaxis": {
            "gridcolor": "white",
            "linecolor": "white",
            "ticks": ""
           }
          },
          "scene": {
           "xaxis": {
            "backgroundcolor": "#E5ECF6",
            "gridcolor": "white",
            "gridwidth": 2,
            "linecolor": "white",
            "showbackground": true,
            "ticks": "",
            "zerolinecolor": "white"
           },
           "yaxis": {
            "backgroundcolor": "#E5ECF6",
            "gridcolor": "white",
            "gridwidth": 2,
            "linecolor": "white",
            "showbackground": true,
            "ticks": "",
            "zerolinecolor": "white"
           },
           "zaxis": {
            "backgroundcolor": "#E5ECF6",
            "gridcolor": "white",
            "gridwidth": 2,
            "linecolor": "white",
            "showbackground": true,
            "ticks": "",
            "zerolinecolor": "white"
           }
          },
          "shapedefaults": {
           "line": {
            "color": "#2a3f5f"
           }
          },
          "ternary": {
           "aaxis": {
            "gridcolor": "white",
            "linecolor": "white",
            "ticks": ""
           },
           "baxis": {
            "gridcolor": "white",
            "linecolor": "white",
            "ticks": ""
           },
           "bgcolor": "#E5ECF6",
           "caxis": {
            "gridcolor": "white",
            "linecolor": "white",
            "ticks": ""
           }
          },
          "title": {
           "x": 0.05
          },
          "xaxis": {
           "automargin": true,
           "gridcolor": "white",
           "linecolor": "white",
           "ticks": "",
           "title": {
            "standoff": 15
           },
           "zerolinecolor": "white",
           "zerolinewidth": 2
          },
          "yaxis": {
           "automargin": true,
           "gridcolor": "white",
           "linecolor": "white",
           "ticks": "",
           "title": {
            "standoff": 15
           },
           "zerolinecolor": "white",
           "zerolinewidth": 2
          }
         }
        },
        "title": {
         "text": "Outages per Capita"
        },
        "xaxis": {
         "anchor": "y",
         "domain": [
          0,
          1
         ],
         "title": {
          "text": "POSTAL.CODE"
         }
        },
        "yaxis": {
         "anchor": "x",
         "domain": [
          0,
          1
         ],
         "title": {
          "text": "value"
         }
        }
       }
      }
     },
     "metadata": {},
     "output_type": "display_data"
    }
   ],
   "source": [
    "px.bar(capita, x=capita.index, y=[0], title='Outages per Capita')"
   ]
  },
  {
   "cell_type": "code",
   "execution_count": 8,
   "metadata": {},
   "outputs": [
    {
     "data": {
      "text/plain": [
       "3.92684105058557e-06"
      ]
     },
     "execution_count": 8,
     "metadata": {},
     "output_type": "execute_result"
    }
   ],
   "source": [
    "capita.median()"
   ]
  },
  {
   "cell_type": "code",
   "execution_count": 9,
   "metadata": {},
   "outputs": [
    {
     "data": {
      "text/plain": [
       "5.723815787163536"
      ]
     },
     "execution_count": 9,
     "metadata": {},
     "output_type": "execute_result"
    }
   ],
   "source": [
    "zcap = pd.Series(index=capita.index, data=stats.zscore(capita))\n",
    "delz = zcap.loc['DE']\n",
    "delz"
   ]
  },
  {
   "cell_type": "markdown",
   "metadata": {},
   "source": [
    "Deleware is very interesting here, as it has more than 6 times the mean, and more than twice the number per capita as the seccond highest value. Why might this be?"
   ]
  },
  {
   "cell_type": "markdown",
   "metadata": {},
   "source": [
    "Exploration of proportions of outages attibuted to weather events year over year"
   ]
  },
  {
   "cell_type": "code",
   "execution_count": 10,
   "metadata": {},
   "outputs": [
    {
     "data": {
      "application/vnd.plotly.v1+json": {
       "config": {
        "plotlyServerURL": "https://plot.ly"
       },
       "data": [
        {
         "hovertemplate": "YEAR=%{x}<br>OBS=%{y}<extra></extra>",
         "legendgroup": "",
         "marker": {
          "color": "#636efa",
          "symbol": "circle"
         },
         "mode": "markers",
         "name": "",
         "orientation": "v",
         "showlegend": false,
         "type": "scatter",
         "x": [
          2000,
          2001,
          2002,
          2003,
          2004,
          2005,
          2006,
          2007,
          2008,
          2009,
          2010,
          2011,
          2012,
          2013,
          2014,
          2015,
          2016
         ],
         "xaxis": "x",
         "y": [
          0.5,
          0.06666666666666667,
          0.7647058823529411,
          0.6521739130434783,
          0.7887323943661971,
          0.8545454545454545,
          0.8059701492537313,
          0.7142857142857143,
          0.6846846846846847,
          0.5769230769230769,
          0.5849056603773585,
          0.39776951672862454,
          0.3735632183908046,
          0.3202614379084967,
          0.4017857142857143,
          0.40336134453781514,
          0.2033898305084746
         ],
         "yaxis": "y"
        }
       ],
       "layout": {
        "legend": {
         "tracegroupgap": 0
        },
        "template": {
         "data": {
          "bar": [
           {
            "error_x": {
             "color": "#2a3f5f"
            },
            "error_y": {
             "color": "#2a3f5f"
            },
            "marker": {
             "line": {
              "color": "#E5ECF6",
              "width": 0.5
             },
             "pattern": {
              "fillmode": "overlay",
              "size": 10,
              "solidity": 0.2
             }
            },
            "type": "bar"
           }
          ],
          "barpolar": [
           {
            "marker": {
             "line": {
              "color": "#E5ECF6",
              "width": 0.5
             },
             "pattern": {
              "fillmode": "overlay",
              "size": 10,
              "solidity": 0.2
             }
            },
            "type": "barpolar"
           }
          ],
          "carpet": [
           {
            "aaxis": {
             "endlinecolor": "#2a3f5f",
             "gridcolor": "white",
             "linecolor": "white",
             "minorgridcolor": "white",
             "startlinecolor": "#2a3f5f"
            },
            "baxis": {
             "endlinecolor": "#2a3f5f",
             "gridcolor": "white",
             "linecolor": "white",
             "minorgridcolor": "white",
             "startlinecolor": "#2a3f5f"
            },
            "type": "carpet"
           }
          ],
          "choropleth": [
           {
            "colorbar": {
             "outlinewidth": 0,
             "ticks": ""
            },
            "type": "choropleth"
           }
          ],
          "contour": [
           {
            "colorbar": {
             "outlinewidth": 0,
             "ticks": ""
            },
            "colorscale": [
             [
              0,
              "#0d0887"
             ],
             [
              0.1111111111111111,
              "#46039f"
             ],
             [
              0.2222222222222222,
              "#7201a8"
             ],
             [
              0.3333333333333333,
              "#9c179e"
             ],
             [
              0.4444444444444444,
              "#bd3786"
             ],
             [
              0.5555555555555556,
              "#d8576b"
             ],
             [
              0.6666666666666666,
              "#ed7953"
             ],
             [
              0.7777777777777778,
              "#fb9f3a"
             ],
             [
              0.8888888888888888,
              "#fdca26"
             ],
             [
              1,
              "#f0f921"
             ]
            ],
            "type": "contour"
           }
          ],
          "contourcarpet": [
           {
            "colorbar": {
             "outlinewidth": 0,
             "ticks": ""
            },
            "type": "contourcarpet"
           }
          ],
          "heatmap": [
           {
            "colorbar": {
             "outlinewidth": 0,
             "ticks": ""
            },
            "colorscale": [
             [
              0,
              "#0d0887"
             ],
             [
              0.1111111111111111,
              "#46039f"
             ],
             [
              0.2222222222222222,
              "#7201a8"
             ],
             [
              0.3333333333333333,
              "#9c179e"
             ],
             [
              0.4444444444444444,
              "#bd3786"
             ],
             [
              0.5555555555555556,
              "#d8576b"
             ],
             [
              0.6666666666666666,
              "#ed7953"
             ],
             [
              0.7777777777777778,
              "#fb9f3a"
             ],
             [
              0.8888888888888888,
              "#fdca26"
             ],
             [
              1,
              "#f0f921"
             ]
            ],
            "type": "heatmap"
           }
          ],
          "heatmapgl": [
           {
            "colorbar": {
             "outlinewidth": 0,
             "ticks": ""
            },
            "colorscale": [
             [
              0,
              "#0d0887"
             ],
             [
              0.1111111111111111,
              "#46039f"
             ],
             [
              0.2222222222222222,
              "#7201a8"
             ],
             [
              0.3333333333333333,
              "#9c179e"
             ],
             [
              0.4444444444444444,
              "#bd3786"
             ],
             [
              0.5555555555555556,
              "#d8576b"
             ],
             [
              0.6666666666666666,
              "#ed7953"
             ],
             [
              0.7777777777777778,
              "#fb9f3a"
             ],
             [
              0.8888888888888888,
              "#fdca26"
             ],
             [
              1,
              "#f0f921"
             ]
            ],
            "type": "heatmapgl"
           }
          ],
          "histogram": [
           {
            "marker": {
             "pattern": {
              "fillmode": "overlay",
              "size": 10,
              "solidity": 0.2
             }
            },
            "type": "histogram"
           }
          ],
          "histogram2d": [
           {
            "colorbar": {
             "outlinewidth": 0,
             "ticks": ""
            },
            "colorscale": [
             [
              0,
              "#0d0887"
             ],
             [
              0.1111111111111111,
              "#46039f"
             ],
             [
              0.2222222222222222,
              "#7201a8"
             ],
             [
              0.3333333333333333,
              "#9c179e"
             ],
             [
              0.4444444444444444,
              "#bd3786"
             ],
             [
              0.5555555555555556,
              "#d8576b"
             ],
             [
              0.6666666666666666,
              "#ed7953"
             ],
             [
              0.7777777777777778,
              "#fb9f3a"
             ],
             [
              0.8888888888888888,
              "#fdca26"
             ],
             [
              1,
              "#f0f921"
             ]
            ],
            "type": "histogram2d"
           }
          ],
          "histogram2dcontour": [
           {
            "colorbar": {
             "outlinewidth": 0,
             "ticks": ""
            },
            "colorscale": [
             [
              0,
              "#0d0887"
             ],
             [
              0.1111111111111111,
              "#46039f"
             ],
             [
              0.2222222222222222,
              "#7201a8"
             ],
             [
              0.3333333333333333,
              "#9c179e"
             ],
             [
              0.4444444444444444,
              "#bd3786"
             ],
             [
              0.5555555555555556,
              "#d8576b"
             ],
             [
              0.6666666666666666,
              "#ed7953"
             ],
             [
              0.7777777777777778,
              "#fb9f3a"
             ],
             [
              0.8888888888888888,
              "#fdca26"
             ],
             [
              1,
              "#f0f921"
             ]
            ],
            "type": "histogram2dcontour"
           }
          ],
          "mesh3d": [
           {
            "colorbar": {
             "outlinewidth": 0,
             "ticks": ""
            },
            "type": "mesh3d"
           }
          ],
          "parcoords": [
           {
            "line": {
             "colorbar": {
              "outlinewidth": 0,
              "ticks": ""
             }
            },
            "type": "parcoords"
           }
          ],
          "pie": [
           {
            "automargin": true,
            "type": "pie"
           }
          ],
          "scatter": [
           {
            "fillpattern": {
             "fillmode": "overlay",
             "size": 10,
             "solidity": 0.2
            },
            "type": "scatter"
           }
          ],
          "scatter3d": [
           {
            "line": {
             "colorbar": {
              "outlinewidth": 0,
              "ticks": ""
             }
            },
            "marker": {
             "colorbar": {
              "outlinewidth": 0,
              "ticks": ""
             }
            },
            "type": "scatter3d"
           }
          ],
          "scattercarpet": [
           {
            "marker": {
             "colorbar": {
              "outlinewidth": 0,
              "ticks": ""
             }
            },
            "type": "scattercarpet"
           }
          ],
          "scattergeo": [
           {
            "marker": {
             "colorbar": {
              "outlinewidth": 0,
              "ticks": ""
             }
            },
            "type": "scattergeo"
           }
          ],
          "scattergl": [
           {
            "marker": {
             "colorbar": {
              "outlinewidth": 0,
              "ticks": ""
             }
            },
            "type": "scattergl"
           }
          ],
          "scattermapbox": [
           {
            "marker": {
             "colorbar": {
              "outlinewidth": 0,
              "ticks": ""
             }
            },
            "type": "scattermapbox"
           }
          ],
          "scatterpolar": [
           {
            "marker": {
             "colorbar": {
              "outlinewidth": 0,
              "ticks": ""
             }
            },
            "type": "scatterpolar"
           }
          ],
          "scatterpolargl": [
           {
            "marker": {
             "colorbar": {
              "outlinewidth": 0,
              "ticks": ""
             }
            },
            "type": "scatterpolargl"
           }
          ],
          "scatterternary": [
           {
            "marker": {
             "colorbar": {
              "outlinewidth": 0,
              "ticks": ""
             }
            },
            "type": "scatterternary"
           }
          ],
          "surface": [
           {
            "colorbar": {
             "outlinewidth": 0,
             "ticks": ""
            },
            "colorscale": [
             [
              0,
              "#0d0887"
             ],
             [
              0.1111111111111111,
              "#46039f"
             ],
             [
              0.2222222222222222,
              "#7201a8"
             ],
             [
              0.3333333333333333,
              "#9c179e"
             ],
             [
              0.4444444444444444,
              "#bd3786"
             ],
             [
              0.5555555555555556,
              "#d8576b"
             ],
             [
              0.6666666666666666,
              "#ed7953"
             ],
             [
              0.7777777777777778,
              "#fb9f3a"
             ],
             [
              0.8888888888888888,
              "#fdca26"
             ],
             [
              1,
              "#f0f921"
             ]
            ],
            "type": "surface"
           }
          ],
          "table": [
           {
            "cells": {
             "fill": {
              "color": "#EBF0F8"
             },
             "line": {
              "color": "white"
             }
            },
            "header": {
             "fill": {
              "color": "#C8D4E3"
             },
             "line": {
              "color": "white"
             }
            },
            "type": "table"
           }
          ]
         },
         "layout": {
          "annotationdefaults": {
           "arrowcolor": "#2a3f5f",
           "arrowhead": 0,
           "arrowwidth": 1
          },
          "autotypenumbers": "strict",
          "coloraxis": {
           "colorbar": {
            "outlinewidth": 0,
            "ticks": ""
           }
          },
          "colorscale": {
           "diverging": [
            [
             0,
             "#8e0152"
            ],
            [
             0.1,
             "#c51b7d"
            ],
            [
             0.2,
             "#de77ae"
            ],
            [
             0.3,
             "#f1b6da"
            ],
            [
             0.4,
             "#fde0ef"
            ],
            [
             0.5,
             "#f7f7f7"
            ],
            [
             0.6,
             "#e6f5d0"
            ],
            [
             0.7,
             "#b8e186"
            ],
            [
             0.8,
             "#7fbc41"
            ],
            [
             0.9,
             "#4d9221"
            ],
            [
             1,
             "#276419"
            ]
           ],
           "sequential": [
            [
             0,
             "#0d0887"
            ],
            [
             0.1111111111111111,
             "#46039f"
            ],
            [
             0.2222222222222222,
             "#7201a8"
            ],
            [
             0.3333333333333333,
             "#9c179e"
            ],
            [
             0.4444444444444444,
             "#bd3786"
            ],
            [
             0.5555555555555556,
             "#d8576b"
            ],
            [
             0.6666666666666666,
             "#ed7953"
            ],
            [
             0.7777777777777778,
             "#fb9f3a"
            ],
            [
             0.8888888888888888,
             "#fdca26"
            ],
            [
             1,
             "#f0f921"
            ]
           ],
           "sequentialminus": [
            [
             0,
             "#0d0887"
            ],
            [
             0.1111111111111111,
             "#46039f"
            ],
            [
             0.2222222222222222,
             "#7201a8"
            ],
            [
             0.3333333333333333,
             "#9c179e"
            ],
            [
             0.4444444444444444,
             "#bd3786"
            ],
            [
             0.5555555555555556,
             "#d8576b"
            ],
            [
             0.6666666666666666,
             "#ed7953"
            ],
            [
             0.7777777777777778,
             "#fb9f3a"
            ],
            [
             0.8888888888888888,
             "#fdca26"
            ],
            [
             1,
             "#f0f921"
            ]
           ]
          },
          "colorway": [
           "#636efa",
           "#EF553B",
           "#00cc96",
           "#ab63fa",
           "#FFA15A",
           "#19d3f3",
           "#FF6692",
           "#B6E880",
           "#FF97FF",
           "#FECB52"
          ],
          "font": {
           "color": "#2a3f5f"
          },
          "geo": {
           "bgcolor": "white",
           "lakecolor": "white",
           "landcolor": "#E5ECF6",
           "showlakes": true,
           "showland": true,
           "subunitcolor": "white"
          },
          "hoverlabel": {
           "align": "left"
          },
          "hovermode": "closest",
          "mapbox": {
           "style": "light"
          },
          "paper_bgcolor": "white",
          "plot_bgcolor": "#E5ECF6",
          "polar": {
           "angularaxis": {
            "gridcolor": "white",
            "linecolor": "white",
            "ticks": ""
           },
           "bgcolor": "#E5ECF6",
           "radialaxis": {
            "gridcolor": "white",
            "linecolor": "white",
            "ticks": ""
           }
          },
          "scene": {
           "xaxis": {
            "backgroundcolor": "#E5ECF6",
            "gridcolor": "white",
            "gridwidth": 2,
            "linecolor": "white",
            "showbackground": true,
            "ticks": "",
            "zerolinecolor": "white"
           },
           "yaxis": {
            "backgroundcolor": "#E5ECF6",
            "gridcolor": "white",
            "gridwidth": 2,
            "linecolor": "white",
            "showbackground": true,
            "ticks": "",
            "zerolinecolor": "white"
           },
           "zaxis": {
            "backgroundcolor": "#E5ECF6",
            "gridcolor": "white",
            "gridwidth": 2,
            "linecolor": "white",
            "showbackground": true,
            "ticks": "",
            "zerolinecolor": "white"
           }
          },
          "shapedefaults": {
           "line": {
            "color": "#2a3f5f"
           }
          },
          "ternary": {
           "aaxis": {
            "gridcolor": "white",
            "linecolor": "white",
            "ticks": ""
           },
           "baxis": {
            "gridcolor": "white",
            "linecolor": "white",
            "ticks": ""
           },
           "bgcolor": "#E5ECF6",
           "caxis": {
            "gridcolor": "white",
            "linecolor": "white",
            "ticks": ""
           }
          },
          "title": {
           "x": 0.05
          },
          "xaxis": {
           "automargin": true,
           "gridcolor": "white",
           "linecolor": "white",
           "ticks": "",
           "title": {
            "standoff": 15
           },
           "zerolinecolor": "white",
           "zerolinewidth": 2
          },
          "yaxis": {
           "automargin": true,
           "gridcolor": "white",
           "linecolor": "white",
           "ticks": "",
           "title": {
            "standoff": 15
           },
           "zerolinecolor": "white",
           "zerolinewidth": 2
          }
         }
        },
        "title": {
         "text": "Severe Weather Outages by Year"
        },
        "xaxis": {
         "anchor": "y",
         "domain": [
          0,
          1
         ],
         "title": {
          "text": "YEAR"
         }
        },
        "yaxis": {
         "anchor": "x",
         "domain": [
          0,
          1
         ],
         "title": {
          "text": "OBS"
         }
        }
       }
      }
     },
     "metadata": {},
     "output_type": "display_data"
    }
   ],
   "source": [
    "weather_year = formated_data[formated_data['CAUSE.CATEGORY'] == 'severe weather'].groupby('YEAR').count()['OBS'] / formated_data.groupby('YEAR').count()['OBS']\n",
    "px.scatter(weather_year, x=weather_year.index, y='OBS', title='Severe Weather Outages by Year').show()"
   ]
  },
  {
   "cell_type": "code",
   "execution_count": 11,
   "metadata": {},
   "outputs": [
    {
     "data": {
      "text/plain": [
       "PearsonRResult(statistic=-0.7561000778006577, pvalue=0.0007019393734256857)"
      ]
     },
     "execution_count": 11,
     "metadata": {},
     "output_type": "execute_result"
    }
   ],
   "source": [
    "weather_year.drop(2001, inplace=True)\n",
    "stats.pearsonr(weather_year.index, weather_year.values)"
   ]
  },
  {
   "cell_type": "markdown",
   "metadata": {},
   "source": [
    "Dropping the 2001 data point has a massive effect on the r value and the p value of the r correlation. the r value becomes very strongly positive from weakly negative. The p value becomes well below the 0.05 threshold from 0.5. Why?"
   ]
  },
  {
   "cell_type": "markdown",
   "metadata": {},
   "source": [
    "Absolute number of outages occuring year over year"
   ]
  },
  {
   "cell_type": "code",
   "execution_count": 12,
   "metadata": {},
   "outputs": [
    {
     "data": {
      "application/vnd.plotly.v1+json": {
       "config": {
        "plotlyServerURL": "https://plot.ly"
       },
       "data": [
        {
         "hovertemplate": "YEAR=%{x}<br>OBS=%{y}<extra></extra>",
         "legendgroup": "",
         "marker": {
          "color": "#636efa",
          "symbol": "circle"
         },
         "mode": "markers",
         "name": "",
         "orientation": "v",
         "showlegend": false,
         "type": "scatter",
         "x": [
          2000,
          2001,
          2002,
          2003,
          2004,
          2005,
          2006,
          2007,
          2008,
          2009,
          2010,
          2011,
          2012,
          2013,
          2014,
          2015,
          2016
         ],
         "xaxis": "x",
         "y": [
          26,
          15,
          17,
          46,
          71,
          55,
          67,
          56,
          111,
          78,
          106,
          269,
          174,
          153,
          112,
          119,
          59
         ],
         "yaxis": "y"
        }
       ],
       "layout": {
        "legend": {
         "tracegroupgap": 0
        },
        "template": {
         "data": {
          "bar": [
           {
            "error_x": {
             "color": "#2a3f5f"
            },
            "error_y": {
             "color": "#2a3f5f"
            },
            "marker": {
             "line": {
              "color": "#E5ECF6",
              "width": 0.5
             },
             "pattern": {
              "fillmode": "overlay",
              "size": 10,
              "solidity": 0.2
             }
            },
            "type": "bar"
           }
          ],
          "barpolar": [
           {
            "marker": {
             "line": {
              "color": "#E5ECF6",
              "width": 0.5
             },
             "pattern": {
              "fillmode": "overlay",
              "size": 10,
              "solidity": 0.2
             }
            },
            "type": "barpolar"
           }
          ],
          "carpet": [
           {
            "aaxis": {
             "endlinecolor": "#2a3f5f",
             "gridcolor": "white",
             "linecolor": "white",
             "minorgridcolor": "white",
             "startlinecolor": "#2a3f5f"
            },
            "baxis": {
             "endlinecolor": "#2a3f5f",
             "gridcolor": "white",
             "linecolor": "white",
             "minorgridcolor": "white",
             "startlinecolor": "#2a3f5f"
            },
            "type": "carpet"
           }
          ],
          "choropleth": [
           {
            "colorbar": {
             "outlinewidth": 0,
             "ticks": ""
            },
            "type": "choropleth"
           }
          ],
          "contour": [
           {
            "colorbar": {
             "outlinewidth": 0,
             "ticks": ""
            },
            "colorscale": [
             [
              0,
              "#0d0887"
             ],
             [
              0.1111111111111111,
              "#46039f"
             ],
             [
              0.2222222222222222,
              "#7201a8"
             ],
             [
              0.3333333333333333,
              "#9c179e"
             ],
             [
              0.4444444444444444,
              "#bd3786"
             ],
             [
              0.5555555555555556,
              "#d8576b"
             ],
             [
              0.6666666666666666,
              "#ed7953"
             ],
             [
              0.7777777777777778,
              "#fb9f3a"
             ],
             [
              0.8888888888888888,
              "#fdca26"
             ],
             [
              1,
              "#f0f921"
             ]
            ],
            "type": "contour"
           }
          ],
          "contourcarpet": [
           {
            "colorbar": {
             "outlinewidth": 0,
             "ticks": ""
            },
            "type": "contourcarpet"
           }
          ],
          "heatmap": [
           {
            "colorbar": {
             "outlinewidth": 0,
             "ticks": ""
            },
            "colorscale": [
             [
              0,
              "#0d0887"
             ],
             [
              0.1111111111111111,
              "#46039f"
             ],
             [
              0.2222222222222222,
              "#7201a8"
             ],
             [
              0.3333333333333333,
              "#9c179e"
             ],
             [
              0.4444444444444444,
              "#bd3786"
             ],
             [
              0.5555555555555556,
              "#d8576b"
             ],
             [
              0.6666666666666666,
              "#ed7953"
             ],
             [
              0.7777777777777778,
              "#fb9f3a"
             ],
             [
              0.8888888888888888,
              "#fdca26"
             ],
             [
              1,
              "#f0f921"
             ]
            ],
            "type": "heatmap"
           }
          ],
          "heatmapgl": [
           {
            "colorbar": {
             "outlinewidth": 0,
             "ticks": ""
            },
            "colorscale": [
             [
              0,
              "#0d0887"
             ],
             [
              0.1111111111111111,
              "#46039f"
             ],
             [
              0.2222222222222222,
              "#7201a8"
             ],
             [
              0.3333333333333333,
              "#9c179e"
             ],
             [
              0.4444444444444444,
              "#bd3786"
             ],
             [
              0.5555555555555556,
              "#d8576b"
             ],
             [
              0.6666666666666666,
              "#ed7953"
             ],
             [
              0.7777777777777778,
              "#fb9f3a"
             ],
             [
              0.8888888888888888,
              "#fdca26"
             ],
             [
              1,
              "#f0f921"
             ]
            ],
            "type": "heatmapgl"
           }
          ],
          "histogram": [
           {
            "marker": {
             "pattern": {
              "fillmode": "overlay",
              "size": 10,
              "solidity": 0.2
             }
            },
            "type": "histogram"
           }
          ],
          "histogram2d": [
           {
            "colorbar": {
             "outlinewidth": 0,
             "ticks": ""
            },
            "colorscale": [
             [
              0,
              "#0d0887"
             ],
             [
              0.1111111111111111,
              "#46039f"
             ],
             [
              0.2222222222222222,
              "#7201a8"
             ],
             [
              0.3333333333333333,
              "#9c179e"
             ],
             [
              0.4444444444444444,
              "#bd3786"
             ],
             [
              0.5555555555555556,
              "#d8576b"
             ],
             [
              0.6666666666666666,
              "#ed7953"
             ],
             [
              0.7777777777777778,
              "#fb9f3a"
             ],
             [
              0.8888888888888888,
              "#fdca26"
             ],
             [
              1,
              "#f0f921"
             ]
            ],
            "type": "histogram2d"
           }
          ],
          "histogram2dcontour": [
           {
            "colorbar": {
             "outlinewidth": 0,
             "ticks": ""
            },
            "colorscale": [
             [
              0,
              "#0d0887"
             ],
             [
              0.1111111111111111,
              "#46039f"
             ],
             [
              0.2222222222222222,
              "#7201a8"
             ],
             [
              0.3333333333333333,
              "#9c179e"
             ],
             [
              0.4444444444444444,
              "#bd3786"
             ],
             [
              0.5555555555555556,
              "#d8576b"
             ],
             [
              0.6666666666666666,
              "#ed7953"
             ],
             [
              0.7777777777777778,
              "#fb9f3a"
             ],
             [
              0.8888888888888888,
              "#fdca26"
             ],
             [
              1,
              "#f0f921"
             ]
            ],
            "type": "histogram2dcontour"
           }
          ],
          "mesh3d": [
           {
            "colorbar": {
             "outlinewidth": 0,
             "ticks": ""
            },
            "type": "mesh3d"
           }
          ],
          "parcoords": [
           {
            "line": {
             "colorbar": {
              "outlinewidth": 0,
              "ticks": ""
             }
            },
            "type": "parcoords"
           }
          ],
          "pie": [
           {
            "automargin": true,
            "type": "pie"
           }
          ],
          "scatter": [
           {
            "fillpattern": {
             "fillmode": "overlay",
             "size": 10,
             "solidity": 0.2
            },
            "type": "scatter"
           }
          ],
          "scatter3d": [
           {
            "line": {
             "colorbar": {
              "outlinewidth": 0,
              "ticks": ""
             }
            },
            "marker": {
             "colorbar": {
              "outlinewidth": 0,
              "ticks": ""
             }
            },
            "type": "scatter3d"
           }
          ],
          "scattercarpet": [
           {
            "marker": {
             "colorbar": {
              "outlinewidth": 0,
              "ticks": ""
             }
            },
            "type": "scattercarpet"
           }
          ],
          "scattergeo": [
           {
            "marker": {
             "colorbar": {
              "outlinewidth": 0,
              "ticks": ""
             }
            },
            "type": "scattergeo"
           }
          ],
          "scattergl": [
           {
            "marker": {
             "colorbar": {
              "outlinewidth": 0,
              "ticks": ""
             }
            },
            "type": "scattergl"
           }
          ],
          "scattermapbox": [
           {
            "marker": {
             "colorbar": {
              "outlinewidth": 0,
              "ticks": ""
             }
            },
            "type": "scattermapbox"
           }
          ],
          "scatterpolar": [
           {
            "marker": {
             "colorbar": {
              "outlinewidth": 0,
              "ticks": ""
             }
            },
            "type": "scatterpolar"
           }
          ],
          "scatterpolargl": [
           {
            "marker": {
             "colorbar": {
              "outlinewidth": 0,
              "ticks": ""
             }
            },
            "type": "scatterpolargl"
           }
          ],
          "scatterternary": [
           {
            "marker": {
             "colorbar": {
              "outlinewidth": 0,
              "ticks": ""
             }
            },
            "type": "scatterternary"
           }
          ],
          "surface": [
           {
            "colorbar": {
             "outlinewidth": 0,
             "ticks": ""
            },
            "colorscale": [
             [
              0,
              "#0d0887"
             ],
             [
              0.1111111111111111,
              "#46039f"
             ],
             [
              0.2222222222222222,
              "#7201a8"
             ],
             [
              0.3333333333333333,
              "#9c179e"
             ],
             [
              0.4444444444444444,
              "#bd3786"
             ],
             [
              0.5555555555555556,
              "#d8576b"
             ],
             [
              0.6666666666666666,
              "#ed7953"
             ],
             [
              0.7777777777777778,
              "#fb9f3a"
             ],
             [
              0.8888888888888888,
              "#fdca26"
             ],
             [
              1,
              "#f0f921"
             ]
            ],
            "type": "surface"
           }
          ],
          "table": [
           {
            "cells": {
             "fill": {
              "color": "#EBF0F8"
             },
             "line": {
              "color": "white"
             }
            },
            "header": {
             "fill": {
              "color": "#C8D4E3"
             },
             "line": {
              "color": "white"
             }
            },
            "type": "table"
           }
          ]
         },
         "layout": {
          "annotationdefaults": {
           "arrowcolor": "#2a3f5f",
           "arrowhead": 0,
           "arrowwidth": 1
          },
          "autotypenumbers": "strict",
          "coloraxis": {
           "colorbar": {
            "outlinewidth": 0,
            "ticks": ""
           }
          },
          "colorscale": {
           "diverging": [
            [
             0,
             "#8e0152"
            ],
            [
             0.1,
             "#c51b7d"
            ],
            [
             0.2,
             "#de77ae"
            ],
            [
             0.3,
             "#f1b6da"
            ],
            [
             0.4,
             "#fde0ef"
            ],
            [
             0.5,
             "#f7f7f7"
            ],
            [
             0.6,
             "#e6f5d0"
            ],
            [
             0.7,
             "#b8e186"
            ],
            [
             0.8,
             "#7fbc41"
            ],
            [
             0.9,
             "#4d9221"
            ],
            [
             1,
             "#276419"
            ]
           ],
           "sequential": [
            [
             0,
             "#0d0887"
            ],
            [
             0.1111111111111111,
             "#46039f"
            ],
            [
             0.2222222222222222,
             "#7201a8"
            ],
            [
             0.3333333333333333,
             "#9c179e"
            ],
            [
             0.4444444444444444,
             "#bd3786"
            ],
            [
             0.5555555555555556,
             "#d8576b"
            ],
            [
             0.6666666666666666,
             "#ed7953"
            ],
            [
             0.7777777777777778,
             "#fb9f3a"
            ],
            [
             0.8888888888888888,
             "#fdca26"
            ],
            [
             1,
             "#f0f921"
            ]
           ],
           "sequentialminus": [
            [
             0,
             "#0d0887"
            ],
            [
             0.1111111111111111,
             "#46039f"
            ],
            [
             0.2222222222222222,
             "#7201a8"
            ],
            [
             0.3333333333333333,
             "#9c179e"
            ],
            [
             0.4444444444444444,
             "#bd3786"
            ],
            [
             0.5555555555555556,
             "#d8576b"
            ],
            [
             0.6666666666666666,
             "#ed7953"
            ],
            [
             0.7777777777777778,
             "#fb9f3a"
            ],
            [
             0.8888888888888888,
             "#fdca26"
            ],
            [
             1,
             "#f0f921"
            ]
           ]
          },
          "colorway": [
           "#636efa",
           "#EF553B",
           "#00cc96",
           "#ab63fa",
           "#FFA15A",
           "#19d3f3",
           "#FF6692",
           "#B6E880",
           "#FF97FF",
           "#FECB52"
          ],
          "font": {
           "color": "#2a3f5f"
          },
          "geo": {
           "bgcolor": "white",
           "lakecolor": "white",
           "landcolor": "#E5ECF6",
           "showlakes": true,
           "showland": true,
           "subunitcolor": "white"
          },
          "hoverlabel": {
           "align": "left"
          },
          "hovermode": "closest",
          "mapbox": {
           "style": "light"
          },
          "paper_bgcolor": "white",
          "plot_bgcolor": "#E5ECF6",
          "polar": {
           "angularaxis": {
            "gridcolor": "white",
            "linecolor": "white",
            "ticks": ""
           },
           "bgcolor": "#E5ECF6",
           "radialaxis": {
            "gridcolor": "white",
            "linecolor": "white",
            "ticks": ""
           }
          },
          "scene": {
           "xaxis": {
            "backgroundcolor": "#E5ECF6",
            "gridcolor": "white",
            "gridwidth": 2,
            "linecolor": "white",
            "showbackground": true,
            "ticks": "",
            "zerolinecolor": "white"
           },
           "yaxis": {
            "backgroundcolor": "#E5ECF6",
            "gridcolor": "white",
            "gridwidth": 2,
            "linecolor": "white",
            "showbackground": true,
            "ticks": "",
            "zerolinecolor": "white"
           },
           "zaxis": {
            "backgroundcolor": "#E5ECF6",
            "gridcolor": "white",
            "gridwidth": 2,
            "linecolor": "white",
            "showbackground": true,
            "ticks": "",
            "zerolinecolor": "white"
           }
          },
          "shapedefaults": {
           "line": {
            "color": "#2a3f5f"
           }
          },
          "ternary": {
           "aaxis": {
            "gridcolor": "white",
            "linecolor": "white",
            "ticks": ""
           },
           "baxis": {
            "gridcolor": "white",
            "linecolor": "white",
            "ticks": ""
           },
           "bgcolor": "#E5ECF6",
           "caxis": {
            "gridcolor": "white",
            "linecolor": "white",
            "ticks": ""
           }
          },
          "title": {
           "x": 0.05
          },
          "xaxis": {
           "automargin": true,
           "gridcolor": "white",
           "linecolor": "white",
           "ticks": "",
           "title": {
            "standoff": 15
           },
           "zerolinecolor": "white",
           "zerolinewidth": 2
          },
          "yaxis": {
           "automargin": true,
           "gridcolor": "white",
           "linecolor": "white",
           "ticks": "",
           "title": {
            "standoff": 15
           },
           "zerolinecolor": "white",
           "zerolinewidth": 2
          }
         }
        },
        "title": {
         "text": "Yearly Outages"
        },
        "xaxis": {
         "anchor": "y",
         "domain": [
          0,
          1
         ],
         "title": {
          "text": "YEAR"
         }
        },
        "yaxis": {
         "anchor": "x",
         "domain": [
          0,
          1
         ],
         "title": {
          "text": "OBS"
         }
        }
       }
      }
     },
     "metadata": {},
     "output_type": "display_data"
    }
   ],
   "source": [
    "yearly = formated_data.groupby('YEAR').count().reset_index()\n",
    "px.scatter(yearly, x='YEAR', y='OBS', title='Yearly Outages')"
   ]
  },
  {
   "cell_type": "markdown",
   "metadata": {},
   "source": [
    "## Step 3: Assessment of Missingness"
   ]
  },
  {
   "cell_type": "markdown",
   "metadata": {},
   "source": [
    "To get a sense of missingess, make a dataframe with all the datapoints containing a missing value"
   ]
  },
  {
   "cell_type": "code",
   "execution_count": 13,
   "metadata": {
    "ExecuteTime": {
     "end_time": "2019-10-31T23:36:28.662099Z",
     "start_time": "2019-10-31T23:36:28.660016Z"
    }
   },
   "outputs": [],
   "source": [
    "def missing_points(df: pd.DataFrame):\n",
    "    hasna = np.repeat(False, df.shape[0])\n",
    "    for col in df.columns:\n",
    "        hasna = (hasna | df[col].isna())\n",
    "    return df.loc[hasna]\n",
    "missing_all = missing_points(formated_data)"
   ]
  },
  {
   "cell_type": "markdown",
   "metadata": {},
   "source": [
    "Since the hurricane name column only applies to very few data points, and is therefore nan for most (MD), drop that one to see which datapoints might contain some form of unintentional missingess"
   ]
  },
  {
   "cell_type": "code",
   "execution_count": 14,
   "metadata": {},
   "outputs": [
    {
     "data": {
      "text/plain": [
       "1039"
      ]
     },
     "execution_count": 14,
     "metadata": {},
     "output_type": "execute_result"
    }
   ],
   "source": [
    "no_hur_missing = missing_points(formated_data.drop(columns=['HURRICANE.NAMES']))\n",
    "no_hur_missing.shape[0]"
   ]
  },
  {
   "cell_type": "markdown",
   "metadata": {},
   "source": [
    "Find all of the columns that contain any missing data"
   ]
  },
  {
   "cell_type": "code",
   "execution_count": 15,
   "metadata": {},
   "outputs": [
    {
     "data": {
      "text/plain": [
       "Index(['MONTH', 'CLIMATE.REGION', 'ANOMALY.LEVEL', 'CLIMATE.CATEGORY',\n",
       "       'OUTAGE.START.DATE', 'OUTAGE.START.TIME', 'OUTAGE.RESTORATION.DATE',\n",
       "       'OUTAGE.RESTORATION.TIME', 'CAUSE.CATEGORY.DETAIL', 'HURRICANE.NAMES',\n",
       "       'OUTAGE.DURATION', 'DEMAND.LOSS.MW', 'CUSTOMERS.AFFECTED', 'RES.PRICE',\n",
       "       'COM.PRICE', 'IND.PRICE', 'TOTAL.PRICE', 'RES.SALES', 'COM.SALES',\n",
       "       'IND.SALES', 'TOTAL.SALES', 'RES.PERCEN', 'COM.PERCEN', 'IND.PERCEN',\n",
       "       'POPDEN_UC', 'POPDEN_RURAL', 'outageStart', 'outageEnd',\n",
       "       'outageDuration'],\n",
       "      dtype='object', name=4)"
      ]
     },
     "execution_count": 15,
     "metadata": {},
     "output_type": "execute_result"
    }
   ],
   "source": [
    "hasna = np.repeat(False, formated_data.shape[1])\n",
    "index = 0\n",
    "for col in formated_data.columns:\n",
    "    if np.any(formated_data[col].isna()):\n",
    "        hasna[index] = True\n",
    "    index += 1\n",
    "has_missing = formated_data.loc[:, hasna]\n",
    "has_missing.columns"
   ]
  },
  {
   "cell_type": "code",
   "execution_count": 16,
   "metadata": {},
   "outputs": [
    {
     "data": {
      "text/plain": [
       "Index(['OBS', 'YEAR', 'U.S._STATE', 'POSTAL.CODE', 'NERC.REGION',\n",
       "       'CAUSE.CATEGORY', 'RES.CUSTOMERS', 'COM.CUSTOMERS', 'IND.CUSTOMERS',\n",
       "       'TOTAL.CUSTOMERS', 'RES.CUST.PCT', 'COM.CUST.PCT', 'IND.CUST.PCT',\n",
       "       'PC.REALGSP.STATE', 'PC.REALGSP.USA', 'PC.REALGSP.REL',\n",
       "       'PC.REALGSP.CHANGE', 'UTIL.REALGSP', 'TOTAL.REALGSP', 'UTIL.CONTRI',\n",
       "       'PI.UTIL.OFUSA', 'POPULATION', 'POPPCT_URBAN', 'POPPCT_UC',\n",
       "       'POPDEN_URBAN', 'AREAPCT_URBAN', 'AREAPCT_UC', 'PCT_LAND',\n",
       "       'PCT_WATER_TOT', 'PCT_WATER_INLAND'],\n",
       "      dtype='object', name=4)"
      ]
     },
     "execution_count": 16,
     "metadata": {},
     "output_type": "execute_result"
    }
   ],
   "source": [
    "nomissing = formated_data.loc[:, ~hasna]\n",
    "nomissing.columns"
   ]
  },
  {
   "cell_type": "code",
   "execution_count": 17,
   "metadata": {},
   "outputs": [
    {
     "name": "stderr",
     "output_type": "stream",
     "text": [
      "/Users/martinhawks/miniconda3/envs/dsc80/lib/python3.8/site-packages/pandas/core/indexing.py:1667: SettingWithCopyWarning:\n",
      "\n",
      "\n",
      "A value is trying to be set on a copy of a slice from a DataFrame.\n",
      "Try using .loc[row_indexer,col_indexer] = value instead\n",
      "\n",
      "See the caveats in the documentation: https://pandas.pydata.org/pandas-docs/stable/user_guide/indexing.html#returning-a-view-versus-a-copy\n",
      "\n"
     ]
    },
    {
     "data": {
      "text/html": [
       "<div>\n",
       "<style scoped>\n",
       "    .dataframe tbody tr th:only-of-type {\n",
       "        vertical-align: middle;\n",
       "    }\n",
       "\n",
       "    .dataframe tbody tr th {\n",
       "        vertical-align: top;\n",
       "    }\n",
       "\n",
       "    .dataframe thead th {\n",
       "        text-align: right;\n",
       "    }\n",
       "</style>\n",
       "<table border=\"1\" class=\"dataframe\">\n",
       "  <thead>\n",
       "    <tr style=\"text-align: right;\">\n",
       "      <th>4</th>\n",
       "      <th>Missing</th>\n",
       "    </tr>\n",
       "    <tr>\n",
       "      <th>POSTAL.CODE</th>\n",
       "      <th></th>\n",
       "    </tr>\n",
       "  </thead>\n",
       "  <tbody>\n",
       "    <tr>\n",
       "      <th>AK</th>\n",
       "      <td>0</td>\n",
       "    </tr>\n",
       "    <tr>\n",
       "      <th>AL</th>\n",
       "      <td>4</td>\n",
       "    </tr>\n",
       "    <tr>\n",
       "      <th>AR</th>\n",
       "      <td>15</td>\n",
       "    </tr>\n",
       "    <tr>\n",
       "      <th>AZ</th>\n",
       "      <td>18</td>\n",
       "    </tr>\n",
       "    <tr>\n",
       "      <th>CA</th>\n",
       "      <td>52</td>\n",
       "    </tr>\n",
       "    <tr>\n",
       "      <th>CO</th>\n",
       "      <td>4</td>\n",
       "    </tr>\n",
       "    <tr>\n",
       "      <th>CT</th>\n",
       "      <td>11</td>\n",
       "    </tr>\n",
       "    <tr>\n",
       "      <th>DC</th>\n",
       "      <td>7</td>\n",
       "    </tr>\n",
       "    <tr>\n",
       "      <th>DE</th>\n",
       "      <td>18</td>\n",
       "    </tr>\n",
       "    <tr>\n",
       "      <th>FL</th>\n",
       "      <td>5</td>\n",
       "    </tr>\n",
       "    <tr>\n",
       "      <th>GA</th>\n",
       "      <td>1</td>\n",
       "    </tr>\n",
       "    <tr>\n",
       "      <th>HI</th>\n",
       "      <td>0</td>\n",
       "    </tr>\n",
       "    <tr>\n",
       "      <th>IA</th>\n",
       "      <td>4</td>\n",
       "    </tr>\n",
       "    <tr>\n",
       "      <th>ID</th>\n",
       "      <td>1</td>\n",
       "    </tr>\n",
       "    <tr>\n",
       "      <th>IL</th>\n",
       "      <td>37</td>\n",
       "    </tr>\n",
       "    <tr>\n",
       "      <th>IN</th>\n",
       "      <td>22</td>\n",
       "    </tr>\n",
       "    <tr>\n",
       "      <th>KS</th>\n",
       "      <td>4</td>\n",
       "    </tr>\n",
       "    <tr>\n",
       "      <th>KY</th>\n",
       "      <td>8</td>\n",
       "    </tr>\n",
       "    <tr>\n",
       "      <th>LA</th>\n",
       "      <td>23</td>\n",
       "    </tr>\n",
       "    <tr>\n",
       "      <th>MA</th>\n",
       "      <td>8</td>\n",
       "    </tr>\n",
       "    <tr>\n",
       "      <th>MD</th>\n",
       "      <td>26</td>\n",
       "    </tr>\n",
       "    <tr>\n",
       "      <th>ME</th>\n",
       "      <td>11</td>\n",
       "    </tr>\n",
       "    <tr>\n",
       "      <th>MI</th>\n",
       "      <td>44</td>\n",
       "    </tr>\n",
       "    <tr>\n",
       "      <th>MN</th>\n",
       "      <td>10</td>\n",
       "    </tr>\n",
       "    <tr>\n",
       "      <th>MO</th>\n",
       "      <td>6</td>\n",
       "    </tr>\n",
       "    <tr>\n",
       "      <th>MS</th>\n",
       "      <td>2</td>\n",
       "    </tr>\n",
       "    <tr>\n",
       "      <th>MT</th>\n",
       "      <td>3</td>\n",
       "    </tr>\n",
       "    <tr>\n",
       "      <th>NC</th>\n",
       "      <td>13</td>\n",
       "    </tr>\n",
       "    <tr>\n",
       "      <th>ND</th>\n",
       "      <td>0</td>\n",
       "    </tr>\n",
       "    <tr>\n",
       "      <th>NE</th>\n",
       "      <td>0</td>\n",
       "    </tr>\n",
       "    <tr>\n",
       "      <th>NH</th>\n",
       "      <td>5</td>\n",
       "    </tr>\n",
       "    <tr>\n",
       "      <th>NJ</th>\n",
       "      <td>17</td>\n",
       "    </tr>\n",
       "    <tr>\n",
       "      <th>NM</th>\n",
       "      <td>5</td>\n",
       "    </tr>\n",
       "    <tr>\n",
       "      <th>NV</th>\n",
       "      <td>3</td>\n",
       "    </tr>\n",
       "    <tr>\n",
       "      <th>NY</th>\n",
       "      <td>37</td>\n",
       "    </tr>\n",
       "    <tr>\n",
       "      <th>OH</th>\n",
       "      <td>21</td>\n",
       "    </tr>\n",
       "    <tr>\n",
       "      <th>OK</th>\n",
       "      <td>14</td>\n",
       "    </tr>\n",
       "    <tr>\n",
       "      <th>OR</th>\n",
       "      <td>17</td>\n",
       "    </tr>\n",
       "    <tr>\n",
       "      <th>PA</th>\n",
       "      <td>38</td>\n",
       "    </tr>\n",
       "    <tr>\n",
       "      <th>SC</th>\n",
       "      <td>1</td>\n",
       "    </tr>\n",
       "    <tr>\n",
       "      <th>SD</th>\n",
       "      <td>0</td>\n",
       "    </tr>\n",
       "    <tr>\n",
       "      <th>TN</th>\n",
       "      <td>21</td>\n",
       "    </tr>\n",
       "    <tr>\n",
       "      <th>TX</th>\n",
       "      <td>67</td>\n",
       "    </tr>\n",
       "    <tr>\n",
       "      <th>UT</th>\n",
       "      <td>20</td>\n",
       "    </tr>\n",
       "    <tr>\n",
       "      <th>VA</th>\n",
       "      <td>7</td>\n",
       "    </tr>\n",
       "    <tr>\n",
       "      <th>VT</th>\n",
       "      <td>4</td>\n",
       "    </tr>\n",
       "    <tr>\n",
       "      <th>WA</th>\n",
       "      <td>56</td>\n",
       "    </tr>\n",
       "    <tr>\n",
       "      <th>WI</th>\n",
       "      <td>11</td>\n",
       "    </tr>\n",
       "    <tr>\n",
       "      <th>WV</th>\n",
       "      <td>2</td>\n",
       "    </tr>\n",
       "    <tr>\n",
       "      <th>WY</th>\n",
       "      <td>2</td>\n",
       "    </tr>\n",
       "  </tbody>\n",
       "</table>\n",
       "</div>"
      ],
      "text/plain": [
       "4            Missing\n",
       "POSTAL.CODE         \n",
       "AK                 0\n",
       "AL                 4\n",
       "AR                15\n",
       "AZ                18\n",
       "CA                52\n",
       "CO                 4\n",
       "CT                11\n",
       "DC                 7\n",
       "DE                18\n",
       "FL                 5\n",
       "GA                 1\n",
       "HI                 0\n",
       "IA                 4\n",
       "ID                 1\n",
       "IL                37\n",
       "IN                22\n",
       "KS                 4\n",
       "KY                 8\n",
       "LA                23\n",
       "MA                 8\n",
       "MD                26\n",
       "ME                11\n",
       "MI                44\n",
       "MN                10\n",
       "MO                 6\n",
       "MS                 2\n",
       "MT                 3\n",
       "NC                13\n",
       "ND                 0\n",
       "NE                 0\n",
       "NH                 5\n",
       "NJ                17\n",
       "NM                 5\n",
       "NV                 3\n",
       "NY                37\n",
       "OH                21\n",
       "OK                14\n",
       "OR                17\n",
       "PA                38\n",
       "SC                 1\n",
       "SD                 0\n",
       "TN                21\n",
       "TX                67\n",
       "UT                20\n",
       "VA                 7\n",
       "VT                 4\n",
       "WA                56\n",
       "WI                11\n",
       "WV                 2\n",
       "WY                 2"
      ]
     },
     "execution_count": 17,
     "metadata": {},
     "output_type": "execute_result"
    }
   ],
   "source": [
    "formated_data['DEMAND.LOSS.MW'].isna()\n",
    "formated_data['POSTAL.CODE']\n",
    "postal_loss = formated_data[['POSTAL.CODE', 'DEMAND.LOSS.MW']]\n",
    "postal_loss.loc[:, 'Missing'] = postal_loss['DEMAND.LOSS.MW'].isna()\n",
    "postal_loss = postal_loss.groupby('POSTAL.CODE').sum()\n",
    "postal_loss"
   ]
  },
  {
   "cell_type": "markdown",
   "metadata": {},
   "source": [
    "## Step 4: Hypothesis Testing"
   ]
  },
  {
   "cell_type": "markdown",
   "metadata": {},
   "source": [
    "Analysis of outages caused by weather events vs. outages caused by non-weather events"
   ]
  },
  {
   "cell_type": "code",
   "execution_count": 18,
   "metadata": {
    "ExecuteTime": {
     "end_time": "2019-10-31T23:36:28.666489Z",
     "start_time": "2019-10-31T23:36:28.664381Z"
    }
   },
   "outputs": [
    {
     "data": {
      "application/vnd.plotly.v1+json": {
       "config": {
        "plotlyServerURL": "https://plot.ly"
       },
       "data": [
        {
         "hovertemplate": "YEAR=%{x}<br>OBS=%{y}<extra></extra>",
         "legendgroup": "",
         "marker": {
          "color": "#636efa",
          "symbol": "circle"
         },
         "mode": "markers",
         "name": "",
         "orientation": "v",
         "showlegend": false,
         "type": "scatter",
         "x": [
          2000,
          2001,
          2002,
          2003,
          2004,
          2005,
          2006,
          2007,
          2008,
          2009,
          2010,
          2011,
          2012,
          2013,
          2014,
          2015,
          2016
         ],
         "xaxis": "x",
         "y": [
          0.5,
          0.06666666666666667,
          0.7647058823529411,
          0.6521739130434783,
          0.7887323943661971,
          0.8545454545454545,
          0.8059701492537313,
          0.7142857142857143,
          0.6846846846846847,
          0.5769230769230769,
          0.5849056603773585,
          0.39776951672862454,
          0.3735632183908046,
          0.3202614379084967,
          0.4017857142857143,
          0.40336134453781514,
          0.2033898305084746
         ],
         "yaxis": "y"
        }
       ],
       "layout": {
        "legend": {
         "tracegroupgap": 0
        },
        "template": {
         "data": {
          "bar": [
           {
            "error_x": {
             "color": "#2a3f5f"
            },
            "error_y": {
             "color": "#2a3f5f"
            },
            "marker": {
             "line": {
              "color": "#E5ECF6",
              "width": 0.5
             },
             "pattern": {
              "fillmode": "overlay",
              "size": 10,
              "solidity": 0.2
             }
            },
            "type": "bar"
           }
          ],
          "barpolar": [
           {
            "marker": {
             "line": {
              "color": "#E5ECF6",
              "width": 0.5
             },
             "pattern": {
              "fillmode": "overlay",
              "size": 10,
              "solidity": 0.2
             }
            },
            "type": "barpolar"
           }
          ],
          "carpet": [
           {
            "aaxis": {
             "endlinecolor": "#2a3f5f",
             "gridcolor": "white",
             "linecolor": "white",
             "minorgridcolor": "white",
             "startlinecolor": "#2a3f5f"
            },
            "baxis": {
             "endlinecolor": "#2a3f5f",
             "gridcolor": "white",
             "linecolor": "white",
             "minorgridcolor": "white",
             "startlinecolor": "#2a3f5f"
            },
            "type": "carpet"
           }
          ],
          "choropleth": [
           {
            "colorbar": {
             "outlinewidth": 0,
             "ticks": ""
            },
            "type": "choropleth"
           }
          ],
          "contour": [
           {
            "colorbar": {
             "outlinewidth": 0,
             "ticks": ""
            },
            "colorscale": [
             [
              0,
              "#0d0887"
             ],
             [
              0.1111111111111111,
              "#46039f"
             ],
             [
              0.2222222222222222,
              "#7201a8"
             ],
             [
              0.3333333333333333,
              "#9c179e"
             ],
             [
              0.4444444444444444,
              "#bd3786"
             ],
             [
              0.5555555555555556,
              "#d8576b"
             ],
             [
              0.6666666666666666,
              "#ed7953"
             ],
             [
              0.7777777777777778,
              "#fb9f3a"
             ],
             [
              0.8888888888888888,
              "#fdca26"
             ],
             [
              1,
              "#f0f921"
             ]
            ],
            "type": "contour"
           }
          ],
          "contourcarpet": [
           {
            "colorbar": {
             "outlinewidth": 0,
             "ticks": ""
            },
            "type": "contourcarpet"
           }
          ],
          "heatmap": [
           {
            "colorbar": {
             "outlinewidth": 0,
             "ticks": ""
            },
            "colorscale": [
             [
              0,
              "#0d0887"
             ],
             [
              0.1111111111111111,
              "#46039f"
             ],
             [
              0.2222222222222222,
              "#7201a8"
             ],
             [
              0.3333333333333333,
              "#9c179e"
             ],
             [
              0.4444444444444444,
              "#bd3786"
             ],
             [
              0.5555555555555556,
              "#d8576b"
             ],
             [
              0.6666666666666666,
              "#ed7953"
             ],
             [
              0.7777777777777778,
              "#fb9f3a"
             ],
             [
              0.8888888888888888,
              "#fdca26"
             ],
             [
              1,
              "#f0f921"
             ]
            ],
            "type": "heatmap"
           }
          ],
          "heatmapgl": [
           {
            "colorbar": {
             "outlinewidth": 0,
             "ticks": ""
            },
            "colorscale": [
             [
              0,
              "#0d0887"
             ],
             [
              0.1111111111111111,
              "#46039f"
             ],
             [
              0.2222222222222222,
              "#7201a8"
             ],
             [
              0.3333333333333333,
              "#9c179e"
             ],
             [
              0.4444444444444444,
              "#bd3786"
             ],
             [
              0.5555555555555556,
              "#d8576b"
             ],
             [
              0.6666666666666666,
              "#ed7953"
             ],
             [
              0.7777777777777778,
              "#fb9f3a"
             ],
             [
              0.8888888888888888,
              "#fdca26"
             ],
             [
              1,
              "#f0f921"
             ]
            ],
            "type": "heatmapgl"
           }
          ],
          "histogram": [
           {
            "marker": {
             "pattern": {
              "fillmode": "overlay",
              "size": 10,
              "solidity": 0.2
             }
            },
            "type": "histogram"
           }
          ],
          "histogram2d": [
           {
            "colorbar": {
             "outlinewidth": 0,
             "ticks": ""
            },
            "colorscale": [
             [
              0,
              "#0d0887"
             ],
             [
              0.1111111111111111,
              "#46039f"
             ],
             [
              0.2222222222222222,
              "#7201a8"
             ],
             [
              0.3333333333333333,
              "#9c179e"
             ],
             [
              0.4444444444444444,
              "#bd3786"
             ],
             [
              0.5555555555555556,
              "#d8576b"
             ],
             [
              0.6666666666666666,
              "#ed7953"
             ],
             [
              0.7777777777777778,
              "#fb9f3a"
             ],
             [
              0.8888888888888888,
              "#fdca26"
             ],
             [
              1,
              "#f0f921"
             ]
            ],
            "type": "histogram2d"
           }
          ],
          "histogram2dcontour": [
           {
            "colorbar": {
             "outlinewidth": 0,
             "ticks": ""
            },
            "colorscale": [
             [
              0,
              "#0d0887"
             ],
             [
              0.1111111111111111,
              "#46039f"
             ],
             [
              0.2222222222222222,
              "#7201a8"
             ],
             [
              0.3333333333333333,
              "#9c179e"
             ],
             [
              0.4444444444444444,
              "#bd3786"
             ],
             [
              0.5555555555555556,
              "#d8576b"
             ],
             [
              0.6666666666666666,
              "#ed7953"
             ],
             [
              0.7777777777777778,
              "#fb9f3a"
             ],
             [
              0.8888888888888888,
              "#fdca26"
             ],
             [
              1,
              "#f0f921"
             ]
            ],
            "type": "histogram2dcontour"
           }
          ],
          "mesh3d": [
           {
            "colorbar": {
             "outlinewidth": 0,
             "ticks": ""
            },
            "type": "mesh3d"
           }
          ],
          "parcoords": [
           {
            "line": {
             "colorbar": {
              "outlinewidth": 0,
              "ticks": ""
             }
            },
            "type": "parcoords"
           }
          ],
          "pie": [
           {
            "automargin": true,
            "type": "pie"
           }
          ],
          "scatter": [
           {
            "fillpattern": {
             "fillmode": "overlay",
             "size": 10,
             "solidity": 0.2
            },
            "type": "scatter"
           }
          ],
          "scatter3d": [
           {
            "line": {
             "colorbar": {
              "outlinewidth": 0,
              "ticks": ""
             }
            },
            "marker": {
             "colorbar": {
              "outlinewidth": 0,
              "ticks": ""
             }
            },
            "type": "scatter3d"
           }
          ],
          "scattercarpet": [
           {
            "marker": {
             "colorbar": {
              "outlinewidth": 0,
              "ticks": ""
             }
            },
            "type": "scattercarpet"
           }
          ],
          "scattergeo": [
           {
            "marker": {
             "colorbar": {
              "outlinewidth": 0,
              "ticks": ""
             }
            },
            "type": "scattergeo"
           }
          ],
          "scattergl": [
           {
            "marker": {
             "colorbar": {
              "outlinewidth": 0,
              "ticks": ""
             }
            },
            "type": "scattergl"
           }
          ],
          "scattermapbox": [
           {
            "marker": {
             "colorbar": {
              "outlinewidth": 0,
              "ticks": ""
             }
            },
            "type": "scattermapbox"
           }
          ],
          "scatterpolar": [
           {
            "marker": {
             "colorbar": {
              "outlinewidth": 0,
              "ticks": ""
             }
            },
            "type": "scatterpolar"
           }
          ],
          "scatterpolargl": [
           {
            "marker": {
             "colorbar": {
              "outlinewidth": 0,
              "ticks": ""
             }
            },
            "type": "scatterpolargl"
           }
          ],
          "scatterternary": [
           {
            "marker": {
             "colorbar": {
              "outlinewidth": 0,
              "ticks": ""
             }
            },
            "type": "scatterternary"
           }
          ],
          "surface": [
           {
            "colorbar": {
             "outlinewidth": 0,
             "ticks": ""
            },
            "colorscale": [
             [
              0,
              "#0d0887"
             ],
             [
              0.1111111111111111,
              "#46039f"
             ],
             [
              0.2222222222222222,
              "#7201a8"
             ],
             [
              0.3333333333333333,
              "#9c179e"
             ],
             [
              0.4444444444444444,
              "#bd3786"
             ],
             [
              0.5555555555555556,
              "#d8576b"
             ],
             [
              0.6666666666666666,
              "#ed7953"
             ],
             [
              0.7777777777777778,
              "#fb9f3a"
             ],
             [
              0.8888888888888888,
              "#fdca26"
             ],
             [
              1,
              "#f0f921"
             ]
            ],
            "type": "surface"
           }
          ],
          "table": [
           {
            "cells": {
             "fill": {
              "color": "#EBF0F8"
             },
             "line": {
              "color": "white"
             }
            },
            "header": {
             "fill": {
              "color": "#C8D4E3"
             },
             "line": {
              "color": "white"
             }
            },
            "type": "table"
           }
          ]
         },
         "layout": {
          "annotationdefaults": {
           "arrowcolor": "#2a3f5f",
           "arrowhead": 0,
           "arrowwidth": 1
          },
          "autotypenumbers": "strict",
          "coloraxis": {
           "colorbar": {
            "outlinewidth": 0,
            "ticks": ""
           }
          },
          "colorscale": {
           "diverging": [
            [
             0,
             "#8e0152"
            ],
            [
             0.1,
             "#c51b7d"
            ],
            [
             0.2,
             "#de77ae"
            ],
            [
             0.3,
             "#f1b6da"
            ],
            [
             0.4,
             "#fde0ef"
            ],
            [
             0.5,
             "#f7f7f7"
            ],
            [
             0.6,
             "#e6f5d0"
            ],
            [
             0.7,
             "#b8e186"
            ],
            [
             0.8,
             "#7fbc41"
            ],
            [
             0.9,
             "#4d9221"
            ],
            [
             1,
             "#276419"
            ]
           ],
           "sequential": [
            [
             0,
             "#0d0887"
            ],
            [
             0.1111111111111111,
             "#46039f"
            ],
            [
             0.2222222222222222,
             "#7201a8"
            ],
            [
             0.3333333333333333,
             "#9c179e"
            ],
            [
             0.4444444444444444,
             "#bd3786"
            ],
            [
             0.5555555555555556,
             "#d8576b"
            ],
            [
             0.6666666666666666,
             "#ed7953"
            ],
            [
             0.7777777777777778,
             "#fb9f3a"
            ],
            [
             0.8888888888888888,
             "#fdca26"
            ],
            [
             1,
             "#f0f921"
            ]
           ],
           "sequentialminus": [
            [
             0,
             "#0d0887"
            ],
            [
             0.1111111111111111,
             "#46039f"
            ],
            [
             0.2222222222222222,
             "#7201a8"
            ],
            [
             0.3333333333333333,
             "#9c179e"
            ],
            [
             0.4444444444444444,
             "#bd3786"
            ],
            [
             0.5555555555555556,
             "#d8576b"
            ],
            [
             0.6666666666666666,
             "#ed7953"
            ],
            [
             0.7777777777777778,
             "#fb9f3a"
            ],
            [
             0.8888888888888888,
             "#fdca26"
            ],
            [
             1,
             "#f0f921"
            ]
           ]
          },
          "colorway": [
           "#636efa",
           "#EF553B",
           "#00cc96",
           "#ab63fa",
           "#FFA15A",
           "#19d3f3",
           "#FF6692",
           "#B6E880",
           "#FF97FF",
           "#FECB52"
          ],
          "font": {
           "color": "#2a3f5f"
          },
          "geo": {
           "bgcolor": "white",
           "lakecolor": "white",
           "landcolor": "#E5ECF6",
           "showlakes": true,
           "showland": true,
           "subunitcolor": "white"
          },
          "hoverlabel": {
           "align": "left"
          },
          "hovermode": "closest",
          "mapbox": {
           "style": "light"
          },
          "paper_bgcolor": "white",
          "plot_bgcolor": "#E5ECF6",
          "polar": {
           "angularaxis": {
            "gridcolor": "white",
            "linecolor": "white",
            "ticks": ""
           },
           "bgcolor": "#E5ECF6",
           "radialaxis": {
            "gridcolor": "white",
            "linecolor": "white",
            "ticks": ""
           }
          },
          "scene": {
           "xaxis": {
            "backgroundcolor": "#E5ECF6",
            "gridcolor": "white",
            "gridwidth": 2,
            "linecolor": "white",
            "showbackground": true,
            "ticks": "",
            "zerolinecolor": "white"
           },
           "yaxis": {
            "backgroundcolor": "#E5ECF6",
            "gridcolor": "white",
            "gridwidth": 2,
            "linecolor": "white",
            "showbackground": true,
            "ticks": "",
            "zerolinecolor": "white"
           },
           "zaxis": {
            "backgroundcolor": "#E5ECF6",
            "gridcolor": "white",
            "gridwidth": 2,
            "linecolor": "white",
            "showbackground": true,
            "ticks": "",
            "zerolinecolor": "white"
           }
          },
          "shapedefaults": {
           "line": {
            "color": "#2a3f5f"
           }
          },
          "ternary": {
           "aaxis": {
            "gridcolor": "white",
            "linecolor": "white",
            "ticks": ""
           },
           "baxis": {
            "gridcolor": "white",
            "linecolor": "white",
            "ticks": ""
           },
           "bgcolor": "#E5ECF6",
           "caxis": {
            "gridcolor": "white",
            "linecolor": "white",
            "ticks": ""
           }
          },
          "title": {
           "x": 0.05
          },
          "xaxis": {
           "automargin": true,
           "gridcolor": "white",
           "linecolor": "white",
           "ticks": "",
           "title": {
            "standoff": 15
           },
           "zerolinecolor": "white",
           "zerolinewidth": 2
          },
          "yaxis": {
           "automargin": true,
           "gridcolor": "white",
           "linecolor": "white",
           "ticks": "",
           "title": {
            "standoff": 15
           },
           "zerolinecolor": "white",
           "zerolinewidth": 2
          }
         }
        },
        "title": {
         "text": "Severe Weather Outages by Year"
        },
        "xaxis": {
         "anchor": "y",
         "domain": [
          0,
          1
         ],
         "title": {
          "text": "YEAR"
         }
        },
        "yaxis": {
         "anchor": "x",
         "domain": [
          0,
          1
         ],
         "title": {
          "text": "OBS"
         }
        }
       }
      }
     },
     "metadata": {},
     "output_type": "display_data"
    }
   ],
   "source": [
    "weather = (formated_data[formated_data['CAUSE.CATEGORY'] == 'severe weather'].groupby('YEAR').count().sort_values('OBS', ascending=False) / formated_data.groupby('YEAR').count())\n",
    "px.scatter(weather, x=weather.index, y='OBS', title='Severe Weather Outages by Year')"
   ]
  },
  {
   "cell_type": "code",
   "execution_count": 19,
   "metadata": {},
   "outputs": [
    {
     "data": {
      "text/plain": [
       "PearsonRResult(statistic=-0.7561000778006577, pvalue=0.0007019393734256857)"
      ]
     },
     "execution_count": 19,
     "metadata": {},
     "output_type": "execute_result"
    }
   ],
   "source": [
    "weather.drop(2001, inplace=True)\n",
    "stats.pearsonr(weather.index, weather['OBS'])"
   ]
  },
  {
   "cell_type": "markdown",
   "metadata": {},
   "source": [
    "Correlation between peak demand loss and total cost of electricity in the area"
   ]
  },
  {
   "cell_type": "code",
   "execution_count": 20,
   "metadata": {},
   "outputs": [
    {
     "data": {
      "application/vnd.plotly.v1+json": {
       "config": {
        "plotlyServerURL": "https://plot.ly"
       },
       "data": [
        {
         "hovertemplate": "TOTAL.PRICE=%{x}<br>DEMAND.LOSS.MW=%{y}<extra></extra>",
         "legendgroup": "",
         "marker": {
          "color": "#636efa",
          "symbol": "circle"
         },
         "mode": "markers",
         "name": "",
         "orientation": "v",
         "showlegend": false,
         "type": "scatter",
         "x": [
          10.43,
          7.36,
          9.03,
          9.28,
          8.7,
          9.59,
          8.91,
          9.7,
          8.91,
          8.91,
          9.02,
          9.93,
          8.91,
          8.91,
          8.87,
          8.91,
          8.8,
          9.16,
          7.5,
          11.1,
          6.96,
          10.79,
          7.69,
          10.17,
          6.65,
          10.98,
          11.1,
          8.02,
          8,
          10.36,
          7.54,
          6.52,
          11.04,
          7.18,
          6.52,
          10.36,
          10.56,
          8.6,
          8.38,
          7.47,
          7.47,
          7.22,
          7.01,
          10.21,
          9.9,
          6.62,
          6.74,
          9.54,
          6.96,
          7.62,
          6.67,
          10.59,
          8.84,
          10.56,
          9.54,
          7.18,
          8.19,
          9.8,
          9.14,
          10.27,
          6.62,
          11.05,
          9.14,
          10.51,
          6.62,
          11.09,
          8.46,
          6.52,
          10.5,
          7.47,
          6.96,
          9.89,
          7.22,
          8.65,
          6.98,
          10.51,
          10.36,
          11.04,
          8.38,
          11.24,
          8.84,
          8.94,
          8.87,
          7.76,
          10.06,
          9.34,
          8.38,
          10.41,
          9.62,
          9.62,
          10.06,
          10.13,
          7.26,
          10.1,
          11.33,
          8.94,
          8.97,
          8.38,
          10.3,
          7.62,
          11.9,
          9.85,
          7.74,
          10.41,
          12.22,
          8.27,
          9.85,
          7.27,
          8.78,
          9.85,
          10.22,
          9.28,
          10.13,
          5.91,
          8.94,
          10.06,
          8.71,
          7.52,
          10.06,
          8.84,
          8.59,
          9.28,
          7.9,
          9.74,
          8.7,
          10.02,
          9.62,
          7.27,
          9.62,
          8.51,
          10.06,
          9.28,
          11.33,
          8.55,
          10.06,
          10.02,
          9.63,
          7.86,
          8.51,
          5.8,
          8.79,
          6.89,
          5.39,
          7.58,
          7.03,
          8.74,
          8.74,
          8.16,
          7.91,
          5.57,
          6.69,
          7.94,
          7.03,
          6.8,
          8.27,
          7.94,
          7.28,
          7.03,
          7.59,
          7.58,
          9.75,
          9.91,
          8.81,
          9.61,
          9.03,
          7.31,
          7.56,
          7.53,
          6.54,
          8.56,
          6.47,
          7.61,
          9.25,
          6.97,
          7.42,
          7.17,
          7.08,
          6.89,
          5.96,
          6.61,
          7.06,
          7.52,
          7.79,
          6.43,
          6.94,
          6.7,
          7.74,
          7.74,
          7.09,
          6.55,
          6.94,
          7.57,
          7.08,
          6.89,
          7.75,
          6.49,
          6.86,
          6.89,
          6.4,
          7.74,
          7.52,
          6.74,
          5.89,
          7.45,
          6.4,
          6.74,
          6.17,
          6.74,
          6.61,
          6.4,
          7.29,
          5.72,
          7.42,
          10.5,
          11.1,
          7.78,
          7.93,
          6.65,
          9.44,
          9.33,
          8.75,
          7.96,
          7.78,
          11.4,
          6.3,
          8.66,
          7.02,
          8.66,
          11.31,
          11.31,
          11.47,
          5.83,
          10.88,
          11.42,
          11.31,
          7.14,
          10.91,
          12.11,
          11.27,
          11.27,
          12.63,
          5.83,
          11.31,
          7.28,
          11.4,
          12.14,
          13.21,
          10.46,
          11.31,
          11.31,
          7.28,
          10.18,
          13.27,
          12.05,
          11.4,
          10.15,
          10.33,
          9.84,
          10.42,
          10.52,
          10.42,
          8.37,
          10.82,
          9.35,
          9.35,
          9.35,
          9.63,
          9.39,
          10.33,
          10.22,
          7.88,
          10.79,
          10.22,
          6.42,
          7.95,
          6.55,
          6.46,
          6.55,
          7.61,
          8.53,
          8.2,
          8.14,
          8.7,
          8.53,
          7.7,
          6.58,
          7.18,
          6.95,
          5.99,
          6.58,
          9.71,
          6.58,
          8.28,
          7.58,
          7.77,
          6.58,
          7.49,
          8.26,
          6.95,
          6.87,
          6.83,
          6.87,
          9.57,
          9.97,
          8.9,
          8.54,
          7.78,
          7.31,
          9.22,
          8.57,
          6.71,
          7.04,
          8.9,
          9.47,
          8.54,
          9.67,
          8.57,
          8.54,
          8.86,
          9.67,
          9.57,
          6.19,
          7.47,
          7.46,
          8.94,
          8.71,
          9.68,
          8.97,
          9.17,
          7.46,
          6.79,
          8.93,
          6.7,
          8.29,
          6.98,
          8.97,
          7.21,
          7.28,
          8.93,
          9.32,
          9.47,
          9.31,
          9.13,
          7.21,
          9.32,
          14.21,
          14.64,
          12.79,
          13.52,
          13.57,
          13.52,
          14.64,
          13.69,
          14.26,
          15.2,
          14.26,
          10.42,
          16.35,
          13.57,
          13.52,
          14.26,
          15.2,
          13.91,
          6.53,
          9.8,
          9.68,
          5.6,
          6.09,
          5.6,
          9.8,
          8.23,
          8.77,
          8.86,
          7.26,
          7.95,
          7.97,
          6.75,
          8.82,
          11.73,
          11.72,
          12.03,
          8.78,
          7.65,
          6.35,
          6.35,
          8.01,
          8.78,
          6.32,
          8.56,
          9.88,
          9.88,
          5.42,
          12.25,
          10.78,
          11.5,
          11.45,
          11.34,
          11.66,
          10.66,
          11.6,
          10.96,
          11.2,
          10.66,
          11.45,
          11.45,
          10.66,
          10.66,
          10.96,
          11.05,
          11.13,
          10.66,
          11.27,
          11.66,
          10.78,
          6.56,
          7.46,
          6.56,
          7.24,
          12.51,
          15.98,
          13.8,
          13.8,
          11.62,
          16.43,
          14.76,
          17.81,
          15.65,
          15.24,
          15.49,
          15.09,
          17.98,
          13.42,
          15.49,
          17.11,
          15.92,
          15.65,
          14.91,
          13.8,
          13.42,
          11.9,
          11.62,
          15.93,
          16.94,
          15.81,
          17.98,
          15.62,
          15.69,
          15.62,
          15.09,
          11.93,
          15.92,
          17.81,
          11.07,
          7.16,
          6.95,
          8.4,
          7.41,
          7.48,
          10.2,
          10.46,
          10.46,
          8.39,
          6.86,
          9.35,
          7.92,
          8.46,
          8.39,
          6.86,
          7.48,
          10.16,
          8.86,
          8.89,
          10.11,
          9.89,
          7.29,
          8.93,
          10.11,
          8.07,
          8.07,
          8.18,
          8.49,
          8.09,
          8.86,
          8.07,
          10.11,
          11.72,
          8.2,
          8.89,
          10.16,
          8.2,
          8.18,
          8.93,
          10.11,
          10.11,
          8.2,
          10.22,
          8.2,
          10.68,
          8.2,
          8.2,
          8.93,
          8.2,
          8.18,
          8.86,
          8.18,
          8.2,
          10.54,
          10.56,
          7.87,
          12.01,
          12.31,
          15.7,
          13.65,
          12.98,
          15.17,
          13.16,
          15.66,
          12.29,
          12.7,
          13.62,
          12.98,
          14.32,
          17.45,
          17.4,
          14.32,
          13.99,
          12.21,
          11.36,
          16.2,
          11.55,
          12.18,
          13.32,
          12.14,
          12.24,
          10.98,
          12.14,
          11.55,
          11.48,
          13.67,
          12.29,
          12.16,
          13.65,
          16.2,
          16.2,
          12.69,
          12.98,
          14.02,
          12.84,
          13.23,
          14.64,
          9.89,
          12.31,
          10.85,
          12.29,
          14.02,
          13.27,
          12.67,
          13.8,
          14.53,
          12.03,
          15.17,
          17.4,
          12.21,
          12.21,
          12.66,
          11.41,
          12.7,
          15.84,
          11.74,
          12.09,
          11.91,
          11.55,
          8.71,
          11.83,
          9.82,
          13.09,
          11.26,
          13.62,
          12.17,
          15.78,
          12.17,
          12.18,
          12.29,
          11.17,
          11.48,
          10.08,
          12.37,
          11.64,
          13.29,
          11.26,
          13.23,
          17.4,
          12.24,
          14.48,
          12.16,
          11.14,
          12.21,
          13.23,
          14.39,
          13.62,
          14.13,
          11.91,
          12.48,
          11.15,
          15.17,
          12.17,
          11.94,
          12.67,
          14.34,
          15.7,
          13.84,
          15.2,
          13.16,
          9.81,
          14.28,
          13.96,
          12.39,
          13.91,
          14.32,
          13.96,
          9.89,
          13.32,
          12.24,
          13.62,
          11.91,
          12.17,
          17.4,
          11.91,
          13.09,
          12.67,
          10.86,
          12.61,
          14.39,
          14.53,
          9.82,
          9.82,
          12.61,
          12.61,
          11.08,
          11.64,
          12.61,
          11.64,
          14.47,
          11.74,
          11.41,
          13.65,
          8.71,
          11.94,
          14.13,
          14.47,
          12.61,
          14.48,
          14.84,
          12.39,
          15.78,
          12.19,
          15,
          12.48,
          11.55,
          12.46,
          10.91,
          12.39,
          12.39,
          13.62,
          11.98,
          11.26,
          12.48,
          6.77,
          7.64,
          7.11,
          7.11,
          7.95,
          7.82,
          8.17,
          7.46,
          6.85,
          7.95,
          7.69,
          9.3,
          9.46,
          8.85,
          6.76,
          6.1,
          8.96,
          8.66,
          8.44,
          8.71,
          9.03,
          8.58,
          7.43,
          8.99,
          9.41,
          8.94,
          8.97,
          8.94,
          7.69,
          7.08,
          8.77,
          6,
          7.17,
          6.6,
          7.55,
          7.17,
          6.57,
          9.15,
          9.41,
          8.47,
          7.2,
          6.2,
          5.78,
          6.28,
          6.83,
          6.48,
          7.47,
          9.34,
          6.35,
          8.71,
          14.46,
          14.78,
          14.04,
          13.77,
          14.12,
          6.26,
          6.81,
          6.11,
          6.83,
          9.5,
          10.51,
          8.06,
          9.55,
          7.15,
          8.34,
          6.39,
          9.91,
          9.44,
          9.91,
          6.83,
          10.51,
          16.34,
          16.35,
          17.85,
          15.5,
          16.11,
          17.5,
          14.82,
          7.2,
          4.7,
          8.52,
          6.77,
          8.09,
          8.52,
          8.43,
          8.42,
          7.45,
          7.01,
          14.42,
          14.04,
          13.33,
          11.15,
          11.38,
          16.75,
          10.72,
          14.52,
          14.51,
          13.05,
          15.53,
          12.57,
          12.83,
          11.88,
          13.46,
          11.42,
          12.82,
          14.07,
          14.17,
          14.31,
          14.65,
          14.02,
          14.96,
          14.96,
          14.96,
          14.62,
          14.17,
          8.6,
          8.46,
          8.5,
          8.25,
          9.61,
          9.47,
          7.77,
          8.83,
          10.19,
          9.13,
          9.86,
          7.96,
          9.8,
          9.5,
          8.85,
          9.93,
          6.25,
          9.93,
          5.88,
          25.78,
          31.29,
          20.54,
          21.45,
          20.54,
          6.12,
          5.13,
          6.54,
          4.94,
          8.05,
          8.05,
          7.56,
          7.67,
          7.67
         ],
         "xaxis": "x",
         "y": [
          5.521460917862246,
          4.31748811353631,
          2.995732273553991,
          0,
          0,
          6.8308742346461795,
          4.605170185988092,
          0,
          5.703782474656201,
          5.703782474656201,
          0,
          6.202535517187923,
          5.703782474656201,
          5.883322388488279,
          6.756932389247553,
          4.941642422609304,
          0,
          6.745236349484363,
          2.302585092994046,
          2.70805020110221,
          5.0106352940962555,
          0,
          6.396929655216146,
          3.4011973816621555,
          0,
          6.049733455231958,
          5.393627546352362,
          3.1780538303479458,
          6.551080335043404,
          5.521460917862246,
          5.902633333401366,
          4.406719247264253,
          9.091669442258505,
          9.305650551780507,
          5.703782474656201,
          6.371611847231857,
          3.912023005428146,
          4.31748811353631,
          3.912023005428146,
          4.007333185232471,
          7.509883061154913,
          5.356586274672012,
          4.406719247264253,
          5.568344503761097,
          0,
          5.298317366548036,
          5.736572297479192,
          5.480638923341991,
          4.0943445622221,
          4.605170185988092,
          5.480638923341991,
          5.8289456176102075,
          5.934894195619588,
          5.916202062607435,
          5.3471075307174685,
          6.914730892718563,
          5.768320995793772,
          4.8283137373023015,
          6.214608098422191,
          5.384495062789089,
          6.4457198193855785,
          5.991464547107982,
          4.605170185988092,
          6.29156913955832,
          5.713732805509369,
          5.857933154483459,
          6.214608098422191,
          4.31748811353631,
          0,
          6.907755278982137,
          6.551080335043404,
          4.31748811353631,
          6.0112671744041615,
          5.0106352940962555,
          5.247024072160486,
          5.991464547107982,
          0,
          5.537334267018537,
          6.214608098422191,
          5.537334267018537,
          5.857933154483459,
          5.991464547107982,
          2.4849066497880004,
          5.0106352940962555,
          5.940171252720432,
          0,
          5.579729825986222,
          5.988961416889864,
          6.184148890937483,
          0,
          6.907755278982137,
          5.560681631015528,
          5.356586274672012,
          5.187385805840755,
          8.998013113095823,
          5.988961416889864,
          0,
          5.683579767338681,
          6.988413181999592,
          6.16541785423142,
          5.030437921392435,
          6.19644412779452,
          0,
          5.857933154483459,
          6.555356891810665,
          7.115582126184454,
          5.3981627015177525,
          5.703782474656201,
          5.393627546352362,
          6.298949246855942,
          5.82600010738045,
          6.159095388491933,
          7.575584651557793,
          5.991464547107982,
          8.294049640102028,
          4.68213122712422,
          6.824373670043086,
          4.605170185988092,
          5.560681631015528,
          4.762173934797756,
          0,
          0,
          5.857933154483459,
          5.170483995038151,
          0,
          3.9318256327243257,
          0,
          5.703782474656201,
          0,
          5.793013608384144,
          3.6888794541139363,
          0,
          6.476972362889683,
          7.549609165154532,
          5.389071729816501,
          5.521460917862246,
          6.61472560020376,
          4.442651256490317,
          6.51025834052315,
          6.396929655216146,
          0,
          3.8501476017100584,
          2.70805020110221,
          3.912023005428146,
          4.04305126783455,
          3.6375861597263857,
          6.282266746896006,
          3.8918202981106265,
          0,
          6.300785794663244,
          6.907755278982137,
          6.931471805599453,
          6.052089168924417,
          3.912023005428146,
          0,
          5.298317366548036,
          3.713572066704308,
          6.476972362889683,
          6.214608098422191,
          6.226536669287466,
          5.37989735354046,
          5.902633333401366,
          3.4011973816621555,
          0,
          0,
          5.857933154483459,
          4.844187086458591,
          5.298317366548036,
          5.298317366548036,
          5.703782474656201,
          5.916202062607435,
          4.382026634673881,
          5.703782474656201,
          5.214935757608986,
          5.521460917862246,
          5.616771097666572,
          0,
          0,
          5.0106352940962555,
          5.19295685089021,
          7.3777589082278725,
          5.298317366548036,
          4.74493212836325,
          5.560681631015528,
          0,
          0,
          0,
          0,
          0,
          5.497168225293202,
          0,
          0,
          0,
          0,
          6.802394763324311,
          4.605170185988092,
          6.040254711277414,
          0,
          0,
          0,
          2.1972245773362196,
          6.620073206530356,
          5.1647859739235145,
          0,
          0,
          5.886104031450156,
          5.0106352940962555,
          5.634789603169249,
          3.912023005428146,
          0,
          6.4457198193855785,
          5.703782474656201,
          7.090076835776092,
          8.575273402492762,
          6.12029741895095,
          6.907755278982137,
          4.927253685157205,
          0,
          0.6931471805599453,
          6.866933284461882,
          8.284756593190435,
          5.298317366548036,
          6.0867747269123065,
          5.869296913133774,
          5.703782474656201,
          5.703782474656201,
          5.598421958998375,
          6.214608098422191,
          0,
          0,
          0,
          5.991464547107982,
          0,
          0,
          0,
          7.600902459542082,
          5.814130531825066,
          0,
          0,
          0,
          6.684611727667927,
          5.926926025970411,
          0,
          6.437751649736401,
          0,
          0,
          4.0943445622221,
          5.075173815233827,
          0,
          0,
          7.313220387090301,
          5.991464547107982,
          6.173786103901937,
          7.01571242048723,
          7.289610521451167,
          2.70805020110221,
          6.4457198193855785,
          4.653960350157523,
          5.049856007249537,
          0,
          5.963579343618446,
          6.620073206530356,
          5.298317366548036,
          4.276666119016055,
          6.396929655216146,
          6.302618975744905,
          4.867534450455582,
          4.499809670330265,
          5.0106352940962555,
          0,
          5.521460917862246,
          4.700480365792417,
          0,
          5.834810737062605,
          0.6931471805599453,
          6.396929655216146,
          4.248495242049359,
          3.044522437723423,
          0,
          0,
          0,
          1.791759469228055,
          6.133398042996649,
          0,
          0,
          0,
          5.723585101952381,
          0,
          7.943782692458625,
          0,
          0,
          0,
          0,
          0,
          0,
          0,
          5.755742213586912,
          0,
          0,
          5.971261839790462,
          5.683579767338681,
          5.176149732573829,
          0,
          0,
          6.040254711277414,
          6.907755278982137,
          5.940171252720432,
          9.305650551780507,
          6.214608098422191,
          5.123963979403259,
          5.521460917862246,
          8.85366542803745,
          0,
          5.991464547107982,
          6.150602768446279,
          0,
          5.123963979403259,
          6.063785208687608,
          1.9459101490553132,
          5.327876168789581,
          0,
          6.163314804034641,
          5.3706380281276624,
          4.248495242049359,
          3.6888794541139363,
          5.703782474656201,
          3.871201010907891,
          1.0986122886681098,
          5.991464547107982,
          5.703782474656201,
          6.214608098422191,
          0.6931471805599453,
          6.907755278982137,
          5.703782474656201,
          5.19295685089021,
          3.6888794541139363,
          6.396929655216146,
          5.991464547107982,
          5.298317366548036,
          5.521460917862246,
          0,
          6.907755278982137,
          9.577411092097035,
          7.411556287811163,
          7.313220387090301,
          0,
          5.288267030694535,
          5.991464547107982,
          4.8283137373023015,
          4.007333185232471,
          0,
          4.499809670330265,
          6.082218910376446,
          0,
          5.768320995793772,
          0,
          4.382026634673881,
          5.3706380281276624,
          0,
          0,
          0,
          6.214608098422191,
          4.605170185988092,
          6.1092475827643655,
          8.421783006611578,
          6.551080335043404,
          6.1092475827643655,
          6.396929655216146,
          5.703782474656201,
          8.487352349405215,
          2.4849066497880004,
          5.3471075307174685,
          0,
          3.4657359027997265,
          0,
          0,
          5.857933154483459,
          0,
          4.941642422609304,
          6.551080335043404,
          8.006367567650246,
          5.991464547107982,
          5.583496308781699,
          5.703782474656201,
          5.298317366548036,
          2.302585092994046,
          0,
          4.90527477843843,
          5.298317366548036,
          0,
          0,
          5.3471075307174685,
          4.553876891600541,
          0,
          0,
          0,
          0,
          0,
          0,
          0,
          0,
          0,
          0,
          0,
          0,
          0,
          0,
          0,
          0,
          0,
          0,
          0,
          0,
          0,
          5.991464547107982,
          0,
          6.620073206530356,
          5.298317366548036,
          5.41610040220442,
          6.476972362889683,
          4.406719247264253,
          0,
          4.605170185988092,
          6.51471269087253,
          5.298317366548036,
          5.703782474656201,
          0,
          3.912023005428146,
          4.68213122712422,
          6.51471269087253,
          5.991464547107982,
          9.323847612769777,
          0,
          6.51471269087253,
          6.131226489483141,
          0,
          5.521460917862246,
          5.0106352940962555,
          10.04037580459825,
          5.19295685089021,
          4.605170185988092,
          6.214608098422191,
          6.0330862217988015,
          0,
          5.298317366548036,
          5.8664680569332965,
          5.703782474656201,
          6.396929655216146,
          6.516193076042964,
          3.4011973816621555,
          6.131226489483141,
          6.51471269087253,
          5.298317366548036,
          5.857933154483459,
          5.0106352940962555,
          5.703782474656201,
          3.4657359027997265,
          3.4965075614664802,
          5.298317366548036,
          5.991464547107982,
          3.6888794541139363,
          6.551080335043404,
          5.703782474656201,
          5.41610040220442,
          4.634728988229636,
          5.093750200806762,
          5.857933154483459,
          5.0106352940962555,
          4.787491742782046,
          0,
          0,
          0,
          8.070906088787819,
          0,
          3.9318256327243257,
          5.634789603169249,
          6.214608098422191,
          0,
          0,
          7.24422751560335,
          5.521460917862246,
          5.645446897643238,
          0,
          0,
          5.762051382780177,
          4.007333185232471,
          8.699514748210191,
          0,
          5.19295685089021,
          5.857933154483459,
          5.521460917862246,
          4.997212273764115,
          4.787491742782046,
          4.941642422609304,
          7.495541943884256,
          5.6937321388027,
          7.649692623711514,
          4.727387818712341,
          7.1308988302963465,
          7.003065458786462,
          9.210340371976184,
          4.8283137373023015,
          7.170119543449628,
          0,
          4.174387269895637,
          4.8283137373023015,
          5.327876168789581,
          5.0106352940962555,
          3.295836866004329,
          6.180016653652572,
          4.890349128221754,
          10.640364495957398,
          8.294049640102028,
          0,
          6.543911845564792,
          5.2832037287379885,
          6.529418838262226,
          7.8547691834991324,
          5.480638923341991,
          4.77912349311153,
          9.536040511615484,
          6.38856140554563,
          5.0106352940962555,
          5.886104031450156,
          3.4339872044851463,
          5.19295685089021,
          0,
          6.4457198193855785,
          5.170483995038151,
          5.703782474656201,
          5.780743515792329,
          3.4011973816621555,
          6.040254711277414,
          5.0106352940962555,
          5.703782474656201,
          5.393627546352362,
          2.302585092994046,
          4.941642422609304,
          1.0986122886681098,
          7.882314918980268,
          5.730099782973574,
          5.075173815233827,
          1.6094379124341003,
          1.6094379124341003,
          0,
          4.382026634673881,
          4.007333185232471,
          5.703782474656201,
          4.499809670330265,
          4.74493212836325,
          5.991464547107982,
          5.703782474656201,
          4.787491742782046,
          5.703782474656201,
          5.0106352940962555,
          4.787491742782046,
          5.886104031450156,
          5.170483995038151,
          1.9459101490553132,
          5.703782474656201,
          5.298317366548036,
          0,
          4.51085950651685,
          4.51085950651685,
          5.762051382780177,
          5.480638923341991,
          6.761572768804055,
          5.480638923341991,
          4.867534450455582,
          5.598421958998375,
          2.70805020110221,
          6.214608098422191,
          6.214608098422191,
          6.907755278982137,
          5.991464547107982,
          6.214608098422191,
          5.393627546352362,
          5.480638923341991,
          6.139884552226255,
          0,
          3.091042453358316,
          5.780743515792329,
          5.66988092298052,
          5.703782474656201,
          4.634728988229636,
          4.605170185988092,
          0,
          4.700480365792417,
          1.0986122886681098,
          5.075173815233827,
          5.19295685089021,
          5.075173815233827,
          4.941642422609304,
          3.1780538303479458,
          6.173786103901937,
          4.912654885736052,
          5.991464547107982,
          5.857933154483459,
          6.257667587882639,
          5.075173815233827,
          0,
          5.68697535633982,
          5.521460917862246,
          6.684611727667927,
          6.025865973825314,
          6.238324625039508,
          4.02535169073515,
          5.521460917862246,
          0,
          4.477336814478207,
          5.298317366548036,
          1.6094379124341003,
          5.327876168789581,
          4.867534450455582,
          2.70805020110221,
          0,
          2.995732273553991,
          1.0986122886681098,
          6.26530121273771,
          2.302585092994046,
          6.551080335043404,
          5.703782474656201,
          5.0106352940962555,
          5.337538079701318,
          5.0106352940962555,
          2.1972245773362196,
          3.4011973816621555,
          4.51085950651685,
          2.772588722239781,
          5.966146739123692,
          6.495265555937008,
          5.634789603169249,
          6.257667587882639,
          0,
          5.41610040220442,
          5.703782474656201,
          6.551080335043404,
          6.111467339502679,
          5.135798437050262,
          1.6094379124341003,
          5.480638923341991,
          0,
          8.268731832117737,
          5.298317366548036,
          5.393627546352362,
          6.415096959171596,
          5.703782474656201,
          5.19295685089021,
          5.703782474656201,
          8.101677747454572,
          5.293304824724492,
          3.367295829986474,
          0,
          3.091042453358316,
          5.298317366548036,
          5.0106352940962555,
          4.912654885736052,
          5.351858133476067,
          0,
          0,
          4.836281906951478,
          4.31748811353631,
          5.365976015021851,
          0,
          4.700480365792417,
          5.0106352940962555,
          6.063785208687608,
          1.3862943611198906,
          6.396929655216146,
          3.091042453358316,
          3.912023005428146,
          3.8066624897703196,
          4.430816798843313,
          0,
          3.6888794541139363,
          6.476972362889683,
          1.3862943611198906,
          6.802394763324311,
          5.0106352940962555,
          0,
          5.680172609017068,
          4.787491742782046,
          5.703782474656201,
          5.480638923341991,
          5.236441962829949,
          6.396929655216146,
          6.253828811575473,
          5.521460917862246,
          6.672032945461067,
          4.276666119016055,
          6.856461984594587,
          8.517193191416238,
          5.857933154483459,
          6.163314804034641,
          5.3471075307174685,
          6.745236349484363,
          5.135798437050262,
          5.991464547107982,
          4.143134726391533,
          5.703782474656201,
          4.787491742782046,
          4.605170185988092,
          5.814130531825066,
          5.521460917862246,
          6.802394763324311,
          6.396929655216146,
          4.174387269895637,
          6.476972362889683,
          6.059123195581797,
          5.991464547107982,
          4.61512051684126,
          0,
          0,
          1.791759469228055,
          0,
          6.946975992135418,
          0,
          0,
          0,
          0,
          0,
          0,
          2.302585092994046,
          4.418840607796598,
          5.0106352940962555,
          7.696212639346407,
          6.591673732008658,
          5.7430031878094825,
          4.31748811353631,
          6.429719478039138,
          5.8944028342648505,
          4.605170185988092,
          4.605170185988092,
          5.3981627015177525,
          5.66988092298052,
          7.1276936993473985,
          6.74993119378857,
          6.333279628139691,
          0,
          0,
          4.867534450455582,
          4.31748811353631,
          0,
          3.912023005428146,
          0,
          0,
          6.214608098422191,
          4.5217885770490405,
          3.4011973816621555,
          4.31748811353631,
          5.703782474656201,
          6.214608098422191,
          0,
          5.634789603169249,
          2.0794415416798357,
          3.9318256327243257,
          0,
          0,
          5.8289456176102075,
          10.030120203469494,
          5.298317366548036,
          6.4457198193855785,
          0,
          0,
          0,
          0,
          0,
          0,
          4.31748811353631,
          3.912023005428146,
          0,
          0,
          5.19295685089021,
          0,
          0,
          0,
          0,
          0,
          0,
          0,
          0,
          0,
          0,
          0,
          4.02535169073515,
          0,
          4.812184355372417,
          0,
          0,
          5.0106352940962555,
          6.363028103540465,
          0,
          5.703782474656201,
          6.059123195581797,
          4.787491742782046,
          0,
          0,
          0,
          6.214608098422191,
          0,
          5.298317366548036,
          6.966024187106113,
          5.393627546352362,
          4.700480365792417,
          4.787491742782046,
          7.064759027791802,
          0,
          5.056245805348308,
          0,
          0,
          0,
          0,
          5.043425116919247,
          4.430816798843313,
          5.921578419643816
         ],
         "yaxis": "y"
        }
       ],
       "layout": {
        "legend": {
         "tracegroupgap": 0
        },
        "template": {
         "data": {
          "bar": [
           {
            "error_x": {
             "color": "#2a3f5f"
            },
            "error_y": {
             "color": "#2a3f5f"
            },
            "marker": {
             "line": {
              "color": "#E5ECF6",
              "width": 0.5
             },
             "pattern": {
              "fillmode": "overlay",
              "size": 10,
              "solidity": 0.2
             }
            },
            "type": "bar"
           }
          ],
          "barpolar": [
           {
            "marker": {
             "line": {
              "color": "#E5ECF6",
              "width": 0.5
             },
             "pattern": {
              "fillmode": "overlay",
              "size": 10,
              "solidity": 0.2
             }
            },
            "type": "barpolar"
           }
          ],
          "carpet": [
           {
            "aaxis": {
             "endlinecolor": "#2a3f5f",
             "gridcolor": "white",
             "linecolor": "white",
             "minorgridcolor": "white",
             "startlinecolor": "#2a3f5f"
            },
            "baxis": {
             "endlinecolor": "#2a3f5f",
             "gridcolor": "white",
             "linecolor": "white",
             "minorgridcolor": "white",
             "startlinecolor": "#2a3f5f"
            },
            "type": "carpet"
           }
          ],
          "choropleth": [
           {
            "colorbar": {
             "outlinewidth": 0,
             "ticks": ""
            },
            "type": "choropleth"
           }
          ],
          "contour": [
           {
            "colorbar": {
             "outlinewidth": 0,
             "ticks": ""
            },
            "colorscale": [
             [
              0,
              "#0d0887"
             ],
             [
              0.1111111111111111,
              "#46039f"
             ],
             [
              0.2222222222222222,
              "#7201a8"
             ],
             [
              0.3333333333333333,
              "#9c179e"
             ],
             [
              0.4444444444444444,
              "#bd3786"
             ],
             [
              0.5555555555555556,
              "#d8576b"
             ],
             [
              0.6666666666666666,
              "#ed7953"
             ],
             [
              0.7777777777777778,
              "#fb9f3a"
             ],
             [
              0.8888888888888888,
              "#fdca26"
             ],
             [
              1,
              "#f0f921"
             ]
            ],
            "type": "contour"
           }
          ],
          "contourcarpet": [
           {
            "colorbar": {
             "outlinewidth": 0,
             "ticks": ""
            },
            "type": "contourcarpet"
           }
          ],
          "heatmap": [
           {
            "colorbar": {
             "outlinewidth": 0,
             "ticks": ""
            },
            "colorscale": [
             [
              0,
              "#0d0887"
             ],
             [
              0.1111111111111111,
              "#46039f"
             ],
             [
              0.2222222222222222,
              "#7201a8"
             ],
             [
              0.3333333333333333,
              "#9c179e"
             ],
             [
              0.4444444444444444,
              "#bd3786"
             ],
             [
              0.5555555555555556,
              "#d8576b"
             ],
             [
              0.6666666666666666,
              "#ed7953"
             ],
             [
              0.7777777777777778,
              "#fb9f3a"
             ],
             [
              0.8888888888888888,
              "#fdca26"
             ],
             [
              1,
              "#f0f921"
             ]
            ],
            "type": "heatmap"
           }
          ],
          "heatmapgl": [
           {
            "colorbar": {
             "outlinewidth": 0,
             "ticks": ""
            },
            "colorscale": [
             [
              0,
              "#0d0887"
             ],
             [
              0.1111111111111111,
              "#46039f"
             ],
             [
              0.2222222222222222,
              "#7201a8"
             ],
             [
              0.3333333333333333,
              "#9c179e"
             ],
             [
              0.4444444444444444,
              "#bd3786"
             ],
             [
              0.5555555555555556,
              "#d8576b"
             ],
             [
              0.6666666666666666,
              "#ed7953"
             ],
             [
              0.7777777777777778,
              "#fb9f3a"
             ],
             [
              0.8888888888888888,
              "#fdca26"
             ],
             [
              1,
              "#f0f921"
             ]
            ],
            "type": "heatmapgl"
           }
          ],
          "histogram": [
           {
            "marker": {
             "pattern": {
              "fillmode": "overlay",
              "size": 10,
              "solidity": 0.2
             }
            },
            "type": "histogram"
           }
          ],
          "histogram2d": [
           {
            "colorbar": {
             "outlinewidth": 0,
             "ticks": ""
            },
            "colorscale": [
             [
              0,
              "#0d0887"
             ],
             [
              0.1111111111111111,
              "#46039f"
             ],
             [
              0.2222222222222222,
              "#7201a8"
             ],
             [
              0.3333333333333333,
              "#9c179e"
             ],
             [
              0.4444444444444444,
              "#bd3786"
             ],
             [
              0.5555555555555556,
              "#d8576b"
             ],
             [
              0.6666666666666666,
              "#ed7953"
             ],
             [
              0.7777777777777778,
              "#fb9f3a"
             ],
             [
              0.8888888888888888,
              "#fdca26"
             ],
             [
              1,
              "#f0f921"
             ]
            ],
            "type": "histogram2d"
           }
          ],
          "histogram2dcontour": [
           {
            "colorbar": {
             "outlinewidth": 0,
             "ticks": ""
            },
            "colorscale": [
             [
              0,
              "#0d0887"
             ],
             [
              0.1111111111111111,
              "#46039f"
             ],
             [
              0.2222222222222222,
              "#7201a8"
             ],
             [
              0.3333333333333333,
              "#9c179e"
             ],
             [
              0.4444444444444444,
              "#bd3786"
             ],
             [
              0.5555555555555556,
              "#d8576b"
             ],
             [
              0.6666666666666666,
              "#ed7953"
             ],
             [
              0.7777777777777778,
              "#fb9f3a"
             ],
             [
              0.8888888888888888,
              "#fdca26"
             ],
             [
              1,
              "#f0f921"
             ]
            ],
            "type": "histogram2dcontour"
           }
          ],
          "mesh3d": [
           {
            "colorbar": {
             "outlinewidth": 0,
             "ticks": ""
            },
            "type": "mesh3d"
           }
          ],
          "parcoords": [
           {
            "line": {
             "colorbar": {
              "outlinewidth": 0,
              "ticks": ""
             }
            },
            "type": "parcoords"
           }
          ],
          "pie": [
           {
            "automargin": true,
            "type": "pie"
           }
          ],
          "scatter": [
           {
            "fillpattern": {
             "fillmode": "overlay",
             "size": 10,
             "solidity": 0.2
            },
            "type": "scatter"
           }
          ],
          "scatter3d": [
           {
            "line": {
             "colorbar": {
              "outlinewidth": 0,
              "ticks": ""
             }
            },
            "marker": {
             "colorbar": {
              "outlinewidth": 0,
              "ticks": ""
             }
            },
            "type": "scatter3d"
           }
          ],
          "scattercarpet": [
           {
            "marker": {
             "colorbar": {
              "outlinewidth": 0,
              "ticks": ""
             }
            },
            "type": "scattercarpet"
           }
          ],
          "scattergeo": [
           {
            "marker": {
             "colorbar": {
              "outlinewidth": 0,
              "ticks": ""
             }
            },
            "type": "scattergeo"
           }
          ],
          "scattergl": [
           {
            "marker": {
             "colorbar": {
              "outlinewidth": 0,
              "ticks": ""
             }
            },
            "type": "scattergl"
           }
          ],
          "scattermapbox": [
           {
            "marker": {
             "colorbar": {
              "outlinewidth": 0,
              "ticks": ""
             }
            },
            "type": "scattermapbox"
           }
          ],
          "scatterpolar": [
           {
            "marker": {
             "colorbar": {
              "outlinewidth": 0,
              "ticks": ""
             }
            },
            "type": "scatterpolar"
           }
          ],
          "scatterpolargl": [
           {
            "marker": {
             "colorbar": {
              "outlinewidth": 0,
              "ticks": ""
             }
            },
            "type": "scatterpolargl"
           }
          ],
          "scatterternary": [
           {
            "marker": {
             "colorbar": {
              "outlinewidth": 0,
              "ticks": ""
             }
            },
            "type": "scatterternary"
           }
          ],
          "surface": [
           {
            "colorbar": {
             "outlinewidth": 0,
             "ticks": ""
            },
            "colorscale": [
             [
              0,
              "#0d0887"
             ],
             [
              0.1111111111111111,
              "#46039f"
             ],
             [
              0.2222222222222222,
              "#7201a8"
             ],
             [
              0.3333333333333333,
              "#9c179e"
             ],
             [
              0.4444444444444444,
              "#bd3786"
             ],
             [
              0.5555555555555556,
              "#d8576b"
             ],
             [
              0.6666666666666666,
              "#ed7953"
             ],
             [
              0.7777777777777778,
              "#fb9f3a"
             ],
             [
              0.8888888888888888,
              "#fdca26"
             ],
             [
              1,
              "#f0f921"
             ]
            ],
            "type": "surface"
           }
          ],
          "table": [
           {
            "cells": {
             "fill": {
              "color": "#EBF0F8"
             },
             "line": {
              "color": "white"
             }
            },
            "header": {
             "fill": {
              "color": "#C8D4E3"
             },
             "line": {
              "color": "white"
             }
            },
            "type": "table"
           }
          ]
         },
         "layout": {
          "annotationdefaults": {
           "arrowcolor": "#2a3f5f",
           "arrowhead": 0,
           "arrowwidth": 1
          },
          "autotypenumbers": "strict",
          "coloraxis": {
           "colorbar": {
            "outlinewidth": 0,
            "ticks": ""
           }
          },
          "colorscale": {
           "diverging": [
            [
             0,
             "#8e0152"
            ],
            [
             0.1,
             "#c51b7d"
            ],
            [
             0.2,
             "#de77ae"
            ],
            [
             0.3,
             "#f1b6da"
            ],
            [
             0.4,
             "#fde0ef"
            ],
            [
             0.5,
             "#f7f7f7"
            ],
            [
             0.6,
             "#e6f5d0"
            ],
            [
             0.7,
             "#b8e186"
            ],
            [
             0.8,
             "#7fbc41"
            ],
            [
             0.9,
             "#4d9221"
            ],
            [
             1,
             "#276419"
            ]
           ],
           "sequential": [
            [
             0,
             "#0d0887"
            ],
            [
             0.1111111111111111,
             "#46039f"
            ],
            [
             0.2222222222222222,
             "#7201a8"
            ],
            [
             0.3333333333333333,
             "#9c179e"
            ],
            [
             0.4444444444444444,
             "#bd3786"
            ],
            [
             0.5555555555555556,
             "#d8576b"
            ],
            [
             0.6666666666666666,
             "#ed7953"
            ],
            [
             0.7777777777777778,
             "#fb9f3a"
            ],
            [
             0.8888888888888888,
             "#fdca26"
            ],
            [
             1,
             "#f0f921"
            ]
           ],
           "sequentialminus": [
            [
             0,
             "#0d0887"
            ],
            [
             0.1111111111111111,
             "#46039f"
            ],
            [
             0.2222222222222222,
             "#7201a8"
            ],
            [
             0.3333333333333333,
             "#9c179e"
            ],
            [
             0.4444444444444444,
             "#bd3786"
            ],
            [
             0.5555555555555556,
             "#d8576b"
            ],
            [
             0.6666666666666666,
             "#ed7953"
            ],
            [
             0.7777777777777778,
             "#fb9f3a"
            ],
            [
             0.8888888888888888,
             "#fdca26"
            ],
            [
             1,
             "#f0f921"
            ]
           ]
          },
          "colorway": [
           "#636efa",
           "#EF553B",
           "#00cc96",
           "#ab63fa",
           "#FFA15A",
           "#19d3f3",
           "#FF6692",
           "#B6E880",
           "#FF97FF",
           "#FECB52"
          ],
          "font": {
           "color": "#2a3f5f"
          },
          "geo": {
           "bgcolor": "white",
           "lakecolor": "white",
           "landcolor": "#E5ECF6",
           "showlakes": true,
           "showland": true,
           "subunitcolor": "white"
          },
          "hoverlabel": {
           "align": "left"
          },
          "hovermode": "closest",
          "mapbox": {
           "style": "light"
          },
          "paper_bgcolor": "white",
          "plot_bgcolor": "#E5ECF6",
          "polar": {
           "angularaxis": {
            "gridcolor": "white",
            "linecolor": "white",
            "ticks": ""
           },
           "bgcolor": "#E5ECF6",
           "radialaxis": {
            "gridcolor": "white",
            "linecolor": "white",
            "ticks": ""
           }
          },
          "scene": {
           "xaxis": {
            "backgroundcolor": "#E5ECF6",
            "gridcolor": "white",
            "gridwidth": 2,
            "linecolor": "white",
            "showbackground": true,
            "ticks": "",
            "zerolinecolor": "white"
           },
           "yaxis": {
            "backgroundcolor": "#E5ECF6",
            "gridcolor": "white",
            "gridwidth": 2,
            "linecolor": "white",
            "showbackground": true,
            "ticks": "",
            "zerolinecolor": "white"
           },
           "zaxis": {
            "backgroundcolor": "#E5ECF6",
            "gridcolor": "white",
            "gridwidth": 2,
            "linecolor": "white",
            "showbackground": true,
            "ticks": "",
            "zerolinecolor": "white"
           }
          },
          "shapedefaults": {
           "line": {
            "color": "#2a3f5f"
           }
          },
          "ternary": {
           "aaxis": {
            "gridcolor": "white",
            "linecolor": "white",
            "ticks": ""
           },
           "baxis": {
            "gridcolor": "white",
            "linecolor": "white",
            "ticks": ""
           },
           "bgcolor": "#E5ECF6",
           "caxis": {
            "gridcolor": "white",
            "linecolor": "white",
            "ticks": ""
           }
          },
          "title": {
           "x": 0.05
          },
          "xaxis": {
           "automargin": true,
           "gridcolor": "white",
           "linecolor": "white",
           "ticks": "",
           "title": {
            "standoff": 15
           },
           "zerolinecolor": "white",
           "zerolinewidth": 2
          },
          "yaxis": {
           "automargin": true,
           "gridcolor": "white",
           "linecolor": "white",
           "ticks": "",
           "title": {
            "standoff": 15
           },
           "zerolinecolor": "white",
           "zerolinewidth": 2
          }
         }
        },
        "title": {
         "text": "Cost vs Demand Loss"
        },
        "xaxis": {
         "anchor": "y",
         "domain": [
          0,
          1
         ],
         "title": {
          "text": "TOTAL.PRICE"
         }
        },
        "yaxis": {
         "anchor": "x",
         "domain": [
          0,
          1
         ],
         "title": {
          "text": "DEMAND.LOSS.MW"
         }
        }
       }
      }
     },
     "metadata": {},
     "output_type": "display_data"
    }
   ],
   "source": [
    "# Start by getting the relevant columns, and dropping nan vals\n",
    "temp_data = formated_data[['TOTAL.PRICE', 'DEMAND.LOSS.MW', ]].dropna()\n",
    "temp_data.loc[:, 'DEMAND.LOSS.MW'] = temp_data['DEMAND.LOSS.MW'].astype(float)\n",
    "# temporarily replace 0 with nan to avoid log(0) error\n",
    "temp_data.loc[temp_data['DEMAND.LOSS.MW'] == 0, 'DEMAND.LOSS.MW'] = np.nan\n",
    "assert not np.any(temp_data['DEMAND.LOSS.MW'] == 0)\n",
    "temp_data.loc[:, 'DEMAND.LOSS.MW'] = np.log(temp_data['DEMAND.LOSS.MW']).fillna(0)\n",
    "px.scatter(temp_data, x='TOTAL.PRICE', y='DEMAND.LOSS.MW', title='Cost vs Demand Loss')"
   ]
  },
  {
   "cell_type": "code",
   "execution_count": 21,
   "metadata": {},
   "outputs": [
    {
     "data": {
      "text/plain": [
       "PearsonRResult(statistic=-0.06099565737127584, pvalue=0.0818125879279841)"
      ]
     },
     "execution_count": 21,
     "metadata": {},
     "output_type": "execute_result"
    }
   ],
   "source": [
    "stats.pearsonr(temp_data['TOTAL.PRICE'], temp_data['DEMAND.LOSS.MW'])"
   ]
  },
  {
   "cell_type": "markdown",
   "metadata": {},
   "source": [
    "## Step 5: Framing a Prediction Problem"
   ]
  },
  {
   "cell_type": "code",
   "execution_count": 26,
   "metadata": {},
   "outputs": [],
   "source": [
    "def un_capita(df: pd.DataFrame):\n",
    "    out = (df['PC.REALGSP.REL'] * df['POPULATION'])\n",
    "    out.name = 'un_capita'\n",
    "    return out\n",
    "\n",
    "def prev(df: pd.DataFrame):\n",
    "    df = df.sort_values(by='outageStart')\n",
    "    df['prev_out'] = np.arange(0, df.shape[0])\n",
    "    return df.drop(columns=['POSTAL.CODE'])"
   ]
  },
  {
   "cell_type": "code",
   "execution_count": 27,
   "metadata": {},
   "outputs": [],
   "source": [
    "formated_data = formated_data.groupby('POSTAL.CODE').apply(prev).reset_index().drop(columns='level_1')"
   ]
  },
  {
   "cell_type": "code",
   "execution_count": 28,
   "metadata": {
    "ExecuteTime": {
     "end_time": "2019-10-31T23:36:28.657068Z",
     "start_time": "2019-10-31T23:36:28.654650Z"
    }
   },
   "outputs": [
    {
     "data": {
      "application/vnd.plotly.v1+json": {
       "config": {
        "plotlyServerURL": "https://plot.ly"
       },
       "data": [
        {
         "hovertemplate": "prev_out=%{x}<br>OUTAGE.DURATION=%{y}<extra></extra>",
         "legendgroup": "",
         "marker": {
          "color": "#636efa",
          "symbol": "circle"
         },
         "mode": "markers",
         "name": "",
         "showlegend": false,
         "type": "scattergl",
         "x": [
          0,
          0,
          1,
          2,
          3,
          4,
          5,
          0,
          1,
          2,
          3,
          4,
          5,
          6,
          7,
          8,
          9,
          10,
          11,
          12,
          13,
          14,
          15,
          16,
          17,
          18,
          19,
          20,
          21,
          22,
          23,
          24,
          0,
          1,
          2,
          3,
          4,
          5,
          6,
          7,
          8,
          9,
          10,
          11,
          12,
          13,
          14,
          15,
          16,
          17,
          18,
          19,
          20,
          21,
          22,
          23,
          24,
          25,
          26,
          27,
          0,
          1,
          2,
          3,
          4,
          5,
          6,
          7,
          8,
          9,
          10,
          11,
          12,
          13,
          14,
          15,
          16,
          17,
          18,
          19,
          20,
          21,
          22,
          23,
          24,
          25,
          26,
          27,
          28,
          29,
          30,
          31,
          32,
          33,
          34,
          35,
          36,
          37,
          38,
          39,
          40,
          41,
          42,
          43,
          44,
          45,
          46,
          47,
          48,
          49,
          50,
          51,
          52,
          53,
          54,
          55,
          56,
          57,
          58,
          59,
          60,
          61,
          62,
          63,
          64,
          65,
          66,
          67,
          68,
          69,
          70,
          71,
          72,
          73,
          74,
          75,
          76,
          77,
          78,
          79,
          80,
          81,
          82,
          83,
          84,
          85,
          86,
          87,
          88,
          89,
          90,
          91,
          92,
          93,
          94,
          95,
          96,
          97,
          98,
          99,
          100,
          101,
          102,
          103,
          104,
          105,
          106,
          107,
          108,
          109,
          110,
          111,
          112,
          113,
          114,
          115,
          116,
          117,
          118,
          119,
          120,
          121,
          122,
          123,
          124,
          125,
          126,
          127,
          128,
          129,
          130,
          131,
          132,
          133,
          134,
          135,
          136,
          137,
          138,
          139,
          140,
          141,
          142,
          143,
          144,
          145,
          146,
          147,
          148,
          149,
          150,
          151,
          152,
          153,
          154,
          155,
          156,
          157,
          158,
          159,
          160,
          161,
          162,
          163,
          164,
          165,
          166,
          167,
          168,
          169,
          170,
          171,
          172,
          173,
          174,
          175,
          176,
          177,
          178,
          179,
          180,
          181,
          182,
          183,
          184,
          185,
          186,
          187,
          188,
          189,
          190,
          191,
          192,
          193,
          194,
          195,
          196,
          197,
          198,
          199,
          200,
          201,
          202,
          203,
          204,
          205,
          206,
          207,
          208,
          209,
          0,
          1,
          2,
          3,
          4,
          5,
          6,
          7,
          8,
          9,
          10,
          11,
          12,
          13,
          14,
          0,
          1,
          2,
          3,
          4,
          5,
          6,
          7,
          8,
          9,
          10,
          11,
          12,
          13,
          14,
          15,
          16,
          17,
          0,
          1,
          2,
          3,
          4,
          5,
          6,
          7,
          8,
          9,
          0,
          1,
          2,
          3,
          4,
          5,
          6,
          7,
          8,
          9,
          10,
          11,
          12,
          13,
          14,
          15,
          16,
          17,
          18,
          19,
          20,
          21,
          22,
          23,
          24,
          25,
          26,
          27,
          28,
          29,
          30,
          31,
          32,
          33,
          34,
          35,
          36,
          37,
          38,
          39,
          40,
          0,
          1,
          2,
          3,
          4,
          5,
          6,
          7,
          8,
          9,
          10,
          11,
          12,
          13,
          14,
          15,
          16,
          17,
          18,
          19,
          20,
          21,
          22,
          23,
          24,
          25,
          26,
          27,
          28,
          29,
          30,
          31,
          32,
          33,
          34,
          35,
          36,
          37,
          38,
          39,
          40,
          41,
          42,
          43,
          44,
          0,
          1,
          2,
          3,
          4,
          5,
          6,
          7,
          8,
          9,
          10,
          11,
          12,
          13,
          14,
          15,
          16,
          0,
          1,
          2,
          3,
          4,
          0,
          1,
          2,
          3,
          4,
          5,
          6,
          7,
          0,
          1,
          2,
          3,
          4,
          5,
          6,
          7,
          8,
          0,
          1,
          2,
          3,
          4,
          5,
          6,
          7,
          8,
          9,
          10,
          11,
          12,
          13,
          14,
          15,
          16,
          17,
          18,
          19,
          20,
          21,
          22,
          23,
          24,
          25,
          26,
          27,
          28,
          29,
          30,
          31,
          32,
          33,
          34,
          35,
          36,
          37,
          38,
          39,
          40,
          41,
          42,
          43,
          44,
          45,
          0,
          1,
          2,
          3,
          4,
          5,
          6,
          7,
          8,
          9,
          10,
          11,
          12,
          13,
          14,
          15,
          16,
          17,
          18,
          19,
          20,
          21,
          22,
          23,
          24,
          25,
          26,
          27,
          28,
          29,
          30,
          31,
          32,
          33,
          34,
          35,
          36,
          37,
          38,
          39,
          40,
          41,
          42,
          0,
          1,
          2,
          3,
          4,
          5,
          6,
          7,
          8,
          0,
          1,
          2,
          3,
          4,
          5,
          6,
          7,
          8,
          9,
          10,
          11,
          12,
          0,
          1,
          2,
          3,
          4,
          5,
          6,
          7,
          8,
          9,
          10,
          11,
          12,
          13,
          14,
          15,
          16,
          17,
          18,
          19,
          20,
          21,
          22,
          23,
          24,
          25,
          26,
          27,
          28,
          29,
          30,
          31,
          32,
          33,
          34,
          35,
          36,
          37,
          38,
          39,
          0,
          1,
          2,
          3,
          4,
          5,
          6,
          7,
          8,
          9,
          10,
          11,
          12,
          13,
          14,
          15,
          16,
          17,
          0,
          1,
          2,
          3,
          4,
          5,
          6,
          7,
          8,
          9,
          10,
          11,
          12,
          13,
          14,
          15,
          16,
          17,
          18,
          19,
          20,
          21,
          22,
          23,
          24,
          25,
          26,
          27,
          28,
          29,
          30,
          31,
          32,
          33,
          34,
          35,
          36,
          37,
          38,
          39,
          40,
          41,
          42,
          43,
          44,
          45,
          46,
          47,
          48,
          49,
          50,
          51,
          52,
          53,
          54,
          55,
          56,
          57,
          0,
          1,
          2,
          3,
          4,
          5,
          6,
          7,
          8,
          9,
          10,
          11,
          12,
          13,
          14,
          15,
          16,
          17,
          18,
          0,
          1,
          2,
          3,
          4,
          5,
          6,
          7,
          8,
          9,
          10,
          11,
          12,
          13,
          14,
          15,
          16,
          17,
          18,
          19,
          20,
          21,
          22,
          23,
          24,
          25,
          26,
          27,
          28,
          29,
          30,
          31,
          32,
          33,
          34,
          35,
          36,
          37,
          38,
          39,
          40,
          41,
          42,
          43,
          44,
          45,
          46,
          47,
          48,
          49,
          50,
          51,
          52,
          53,
          54,
          55,
          56,
          57,
          58,
          59,
          60,
          61,
          62,
          63,
          64,
          65,
          66,
          67,
          68,
          69,
          70,
          71,
          72,
          73,
          74,
          75,
          76,
          77,
          78,
          79,
          80,
          81,
          82,
          83,
          84,
          85,
          86,
          87,
          88,
          89,
          90,
          91,
          92,
          93,
          94,
          0,
          1,
          2,
          3,
          4,
          5,
          6,
          7,
          8,
          9,
          10,
          11,
          12,
          13,
          14,
          0,
          1,
          2,
          3,
          4,
          5,
          6,
          7,
          8,
          9,
          10,
          11,
          12,
          13,
          14,
          15,
          16,
          0,
          1,
          2,
          3,
          0,
          1,
          2,
          0,
          1,
          2,
          3,
          4,
          5,
          6,
          7,
          8,
          9,
          10,
          11,
          12,
          13,
          14,
          15,
          16,
          17,
          18,
          19,
          20,
          21,
          22,
          23,
          24,
          25,
          26,
          27,
          28,
          29,
          30,
          31,
          32,
          33,
          34,
          35,
          36,
          37,
          38,
          39,
          0,
          1,
          0,
          1,
          2,
          3,
          0,
          1,
          2,
          3,
          4,
          5,
          6,
          7,
          8,
          9,
          10,
          11,
          12,
          13,
          0,
          1,
          2,
          3,
          4,
          5,
          6,
          7,
          8,
          9,
          10,
          11,
          12,
          13,
          14,
          15,
          16,
          17,
          18,
          19,
          20,
          21,
          22,
          23,
          24,
          25,
          26,
          27,
          28,
          29,
          30,
          31,
          32,
          33,
          34,
          0,
          1,
          2,
          3,
          4,
          5,
          6,
          7,
          0,
          1,
          2,
          3,
          4,
          5,
          6,
          0,
          1,
          2,
          3,
          4,
          5,
          6,
          7,
          8,
          9,
          10,
          11,
          12,
          13,
          14,
          15,
          16,
          17,
          18,
          19,
          20,
          21,
          22,
          23,
          24,
          25,
          26,
          27,
          28,
          29,
          30,
          31,
          32,
          33,
          34,
          35,
          36,
          37,
          38,
          39,
          40,
          41,
          42,
          43,
          44,
          45,
          46,
          47,
          48,
          49,
          50,
          51,
          52,
          53,
          54,
          55,
          56,
          57,
          58,
          59,
          60,
          61,
          62,
          63,
          64,
          65,
          66,
          67,
          68,
          69,
          70,
          0,
          1,
          2,
          3,
          4,
          5,
          6,
          7,
          8,
          9,
          10,
          11,
          12,
          13,
          14,
          15,
          16,
          17,
          18,
          19,
          20,
          21,
          22,
          23,
          24,
          25,
          26,
          27,
          28,
          29,
          30,
          31,
          32,
          33,
          34,
          35,
          36,
          37,
          38,
          39,
          40,
          41,
          42,
          0,
          1,
          2,
          3,
          4,
          5,
          6,
          7,
          8,
          9,
          10,
          11,
          12,
          13,
          14,
          15,
          16,
          17,
          18,
          19,
          20,
          21,
          22,
          23,
          0,
          1,
          2,
          3,
          4,
          5,
          6,
          7,
          8,
          9,
          10,
          11,
          12,
          13,
          14,
          15,
          16,
          17,
          18,
          19,
          20,
          21,
          22,
          23,
          24,
          25,
          0,
          1,
          2,
          3,
          4,
          5,
          6,
          7,
          8,
          9,
          10,
          11,
          12,
          13,
          14,
          15,
          16,
          17,
          18,
          19,
          20,
          21,
          22,
          23,
          24,
          25,
          26,
          27,
          28,
          29,
          30,
          31,
          32,
          33,
          34,
          35,
          36,
          37,
          38,
          39,
          40,
          41,
          42,
          43,
          44,
          45,
          46,
          47,
          48,
          49,
          50,
          51,
          52,
          53,
          54,
          55,
          56,
          0,
          1,
          2,
          3,
          4,
          5,
          6,
          7,
          0,
          1,
          0,
          1,
          2,
          3,
          4,
          5,
          6,
          7,
          8,
          9,
          10,
          11,
          12,
          13,
          14,
          15,
          16,
          17,
          18,
          19,
          20,
          21,
          22,
          23,
          24,
          25,
          26,
          27,
          28,
          29,
          30,
          31,
          32,
          33,
          0,
          1,
          2,
          3,
          4,
          5,
          6,
          7,
          8,
          9,
          10,
          11,
          12,
          13,
          14,
          15,
          16,
          17,
          18,
          19,
          20,
          21,
          22,
          23,
          24,
          25,
          26,
          27,
          28,
          29,
          30,
          31,
          32,
          33,
          34,
          35,
          36,
          37,
          38,
          39,
          40,
          41,
          42,
          43,
          44,
          45,
          46,
          47,
          48,
          49,
          50,
          51,
          52,
          53,
          54,
          55,
          56,
          57,
          58,
          59,
          60,
          61,
          62,
          63,
          64,
          65,
          66,
          67,
          68,
          69,
          70,
          71,
          72,
          73,
          74,
          75,
          76,
          77,
          78,
          79,
          80,
          81,
          82,
          83,
          84,
          85,
          86,
          87,
          88,
          89,
          90,
          91,
          92,
          93,
          94,
          95,
          96,
          97,
          98,
          99,
          100,
          101,
          102,
          103,
          104,
          105,
          106,
          107,
          108,
          109,
          110,
          111,
          112,
          113,
          114,
          115,
          116,
          117,
          118,
          119,
          120,
          121,
          122,
          123,
          124,
          125,
          126,
          0,
          1,
          2,
          3,
          4,
          5,
          6,
          7,
          8,
          9,
          10,
          11,
          12,
          13,
          14,
          15,
          16,
          17,
          18,
          19,
          20,
          21,
          22,
          23,
          24,
          25,
          26,
          27,
          28,
          29,
          30,
          31,
          32,
          33,
          34,
          35,
          36,
          37,
          38,
          39,
          40,
          0,
          1,
          2,
          3,
          4,
          5,
          6,
          7,
          8,
          9,
          10,
          11,
          12,
          13,
          14,
          15,
          16,
          17,
          18,
          19,
          20,
          21,
          22,
          23,
          24,
          25,
          26,
          27,
          28,
          29,
          30,
          31,
          32,
          33,
          34,
          35,
          36,
          0,
          1,
          2,
          3,
          4,
          5,
          6,
          7,
          8,
          0,
          1,
          2,
          3,
          4,
          5,
          6,
          7,
          8,
          9,
          10,
          11,
          12,
          13,
          14,
          15,
          16,
          17,
          18,
          19,
          20,
          21,
          22,
          23,
          24,
          25,
          26,
          27,
          28,
          29,
          30,
          31,
          32,
          33,
          34,
          35,
          36,
          37,
          38,
          39,
          40,
          41,
          42,
          43,
          44,
          45,
          46,
          47,
          48,
          49,
          50,
          51,
          52,
          53,
          54,
          55,
          56,
          57,
          58,
          59,
          60,
          61,
          62,
          63,
          64,
          65,
          66,
          67,
          68,
          69,
          70,
          71,
          72,
          73,
          74,
          75,
          76,
          77,
          78,
          79,
          80,
          81,
          82,
          83,
          84,
          85,
          86,
          87,
          88,
          89,
          90,
          91,
          92,
          93,
          94,
          95,
          96,
          0,
          1,
          2,
          3,
          4,
          5,
          6,
          7,
          8,
          9,
          10,
          11,
          12,
          13,
          14,
          15,
          16,
          17,
          18,
          19,
          0,
          1,
          2,
          3,
          0,
          1,
          2,
          3,
          4,
          5
         ],
         "xaxis": "x",
         "y": [
          null,
          1230,
          3264,
          77,
          390,
          803,
          null,
          8160,
          126,
          414,
          10274,
          2700,
          206,
          3,
          1201,
          2806,
          2880,
          3314,
          270,
          513,
          105,
          300,
          62,
          210,
          30,
          1,
          60,
          110,
          240,
          285,
          1226,
          2363,
          66,
          35,
          100,
          418,
          49320,
          49320,
          4200,
          215,
          1,
          554,
          3842,
          189,
          1,
          1440,
          180,
          2700,
          1,
          87,
          451,
          353,
          1,
          2,
          70,
          50,
          227,
          null,
          null,
          null,
          2055,
          1835,
          554,
          316,
          141,
          75,
          140,
          108,
          47,
          336,
          5160,
          6780,
          2820,
          125,
          34390,
          1914,
          721,
          5910,
          1950,
          572,
          2759,
          33,
          270,
          1414,
          64,
          2790,
          161,
          900,
          4740,
          8,
          171,
          245,
          202,
          250,
          249,
          84,
          13,
          8100,
          2645,
          365,
          437,
          7371,
          180,
          180,
          334,
          159,
          8472,
          4080,
          1230,
          854,
          230,
          155,
          182,
          3301,
          64,
          1560,
          435,
          300,
          420,
          21,
          17,
          37,
          962,
          959,
          15180,
          523,
          437,
          829,
          749,
          214,
          270,
          155,
          224,
          269,
          252,
          1054,
          4605,
          179,
          865,
          3,
          761,
          759,
          751,
          11867,
          1035,
          234,
          89,
          124,
          400,
          900,
          909,
          89,
          40,
          125,
          390,
          945,
          1080,
          326,
          14190,
          294,
          1470,
          6070,
          451,
          39,
          56,
          871,
          50,
          122,
          47,
          47,
          660,
          144,
          1008,
          177,
          2895,
          11,
          199,
          135,
          5227,
          251,
          268,
          5,
          1524,
          1260,
          3408,
          8873,
          4890,
          133,
          6914,
          1456,
          130,
          213,
          128,
          53,
          0,
          70,
          2464,
          9855,
          2016,
          193,
          2878,
          697,
          245,
          2880,
          4320,
          26,
          20,
          14,
          3100,
          13,
          1254,
          230,
          3698,
          195,
          1135,
          255,
          164,
          78,
          106,
          620,
          480,
          656,
          448,
          15,
          1,
          455,
          540,
          370,
          324,
          1,
          1,
          617,
          1,
          1,
          98,
          295,
          236,
          12,
          1,
          797,
          26,
          98,
          2050,
          420,
          360,
          55,
          157,
          166,
          44,
          32,
          247,
          989,
          15,
          72,
          1,
          223,
          49427,
          25,
          null,
          null,
          null,
          null,
          null,
          null,
          null,
          null,
          null,
          null,
          null,
          null,
          439,
          2140,
          2710,
          391,
          284,
          2040,
          103,
          5,
          201,
          1,
          175,
          2,
          105,
          4019,
          null,
          5880,
          145,
          4260,
          110,
          2640,
          4560,
          3305,
          76,
          0,
          1,
          1440,
          0,
          210,
          60,
          210,
          120,
          1,
          1,
          14500,
          9886,
          390,
          855,
          6660,
          2425,
          8077,
          159,
          30,
          54,
          50,
          457,
          0,
          0,
          0,
          0,
          0,
          0,
          0,
          0,
          0,
          0,
          1,
          1,
          1,
          0,
          1,
          1,
          39,
          1,
          1,
          1,
          1,
          1,
          1,
          1,
          1,
          1,
          1,
          1,
          110,
          1,
          1,
          53,
          30,
          4254,
          213,
          65,
          1,
          507,
          null,
          230,
          816,
          1005,
          4320,
          4320,
          4320,
          221,
          13920,
          480,
          221,
          1099,
          2460,
          3600,
          12060,
          10380,
          1680,
          2040,
          6840,
          7560,
          13430,
          14101,
          17520,
          10080,
          8189,
          1080,
          720,
          24780,
          182,
          91,
          38,
          61,
          155,
          396,
          5071,
          5820,
          1419,
          372,
          52,
          540,
          2009,
          240,
          17,
          152,
          90,
          83,
          1800,
          810,
          1560,
          360,
          360,
          1380,
          1865,
          120,
          1950,
          1200,
          2054,
          645,
          1452,
          108,
          4122,
          1087,
          1999,
          237,
          543,
          1906,
          1367,
          174,
          347,
          1044,
          8670,
          2161,
          1637,
          2880,
          251,
          21360,
          1548,
          95,
          360,
          870,
          0,
          0,
          224,
          220,
          null,
          1200,
          960,
          360,
          120,
          1530,
          1320,
          149,
          2370,
          1440,
          1680,
          1200,
          7609,
          1200,
          810,
          2010,
          720,
          3000,
          9230,
          659,
          2700,
          2680,
          3000,
          2100,
          1020,
          120,
          1450,
          450,
          1695,
          1110,
          0,
          120,
          1830,
          1290,
          150,
          3000,
          420,
          870,
          1120,
          1336,
          360,
          479,
          2761,
          2790,
          90,
          null,
          null,
          5250,
          15950,
          4045,
          47,
          233,
          7319,
          96,
          10,
          1,
          3872,
          1130,
          2120,
          35,
          12240,
          65,
          12240,
          23773,
          23187,
          1980,
          513,
          3314,
          3646,
          2146,
          0,
          96,
          0,
          276,
          569,
          1440,
          200,
          0,
          6,
          2730,
          2880,
          65,
          4320,
          4032,
          4320,
          2580,
          3,
          1060,
          120,
          null,
          14040,
          13650,
          913,
          187,
          348,
          1406,
          90,
          null,
          null,
          1020,
          23700,
          10499,
          300,
          3570,
          6492,
          15180,
          1680,
          652,
          1440,
          1579,
          1,
          108,
          8054,
          1755,
          2100,
          1440,
          692,
          2160,
          18804,
          6240,
          355,
          28170,
          17812,
          13215,
          20416,
          420,
          732,
          510,
          300,
          300,
          300,
          2880,
          295,
          557,
          430,
          430,
          467,
          2775,
          2775,
          2775,
          2775,
          7,
          1690,
          2129,
          1867,
          3060,
          3067,
          227,
          52,
          3180,
          null,
          null,
          103,
          115,
          374,
          480,
          0,
          1,
          0,
          307,
          1569,
          31,
          1656,
          3525,
          1,
          4745,
          2891,
          114,
          15,
          1068,
          4080,
          7298,
          12890,
          4920,
          1950,
          1671,
          2279,
          5628,
          4517,
          2760,
          4440,
          3938,
          2610,
          5790,
          3060,
          4470,
          1320,
          2855,
          7700,
          3040,
          4232,
          0,
          3037,
          565,
          17,
          11700,
          1980,
          428,
          331,
          0,
          7987,
          4320,
          2021,
          185,
          1440,
          1,
          1,
          1,
          1,
          1,
          1,
          2507,
          2,
          1,
          0,
          0,
          0,
          1,
          0,
          113,
          1,
          960,
          95,
          1196,
          1840,
          1,
          304,
          1673,
          198,
          950,
          3604,
          1676,
          1037,
          618,
          3667,
          2108,
          881,
          673,
          0,
          0,
          195,
          0,
          1187,
          300,
          2652,
          1,
          null,
          3600,
          4200,
          46080,
          3300,
          2694,
          3051,
          761,
          5820,
          5700,
          7800,
          5700,
          4560,
          3360,
          5840,
          3120,
          7530,
          7620,
          6510,
          8160,
          2939,
          6420,
          7080,
          9150,
          3120,
          4320,
          4830,
          5790,
          168,
          3637,
          4110,
          8922,
          11850,
          270,
          5580,
          1140,
          7650,
          5115,
          705,
          78377,
          3540,
          5670,
          4259,
          4590,
          5700,
          1588,
          3915,
          3015,
          600,
          5730,
          6030,
          4260,
          5610,
          1019,
          2820,
          4170,
          1770,
          4320,
          11525,
          200,
          2085,
          3090,
          5865,
          85,
          1260,
          8430,
          1078,
          4458,
          7440,
          1046,
          2670,
          4050,
          1,
          3494,
          2670,
          4080,
          4485,
          3630,
          420,
          900,
          5760,
          5034,
          5760,
          9857,
          4242,
          2325,
          4290,
          2760,
          4338,
          1995,
          2820,
          232,
          1710,
          2700,
          1513,
          300,
          3960,
          8880,
          2970,
          3000,
          1860,
          1322,
          3060,
          0,
          2550,
          7740,
          3621,
          1,
          60,
          155,
          1740,
          15420,
          2070,
          870,
          4740,
          4150,
          810,
          120,
          12652,
          2880,
          4140,
          1470,
          0,
          25,
          65,
          1199,
          null,
          null,
          300,
          1,
          30,
          5,
          13,
          93,
          56,
          11280,
          2490,
          3388,
          15,
          1528,
          1890,
          240,
          1440,
          180,
          990,
          1318,
          885,
          1460,
          0,
          42,
          1574,
          1025,
          388,
          195,
          4113,
          2551,
          563,
          373,
          270,
          290,
          129,
          45,
          1698,
          1485,
          405,
          182,
          1265,
          4510,
          1050,
          985,
          3120,
          1950,
          167,
          1355,
          null,
          720,
          null,
          4,
          9600,
          60,
          159,
          660,
          200,
          92,
          0,
          0,
          75,
          73,
          30,
          108,
          2535,
          5,
          27,
          33,
          77,
          3720,
          4140,
          3599,
          333,
          6090,
          1365,
          11580,
          3300,
          9719,
          7020,
          3339,
          2520,
          2880,
          2880,
          375,
          0,
          0,
          0,
          0,
          13201,
          11430,
          0,
          11058,
          2941,
          9600,
          9360,
          11337,
          353,
          10080,
          132,
          76,
          1,
          null,
          null,
          null,
          0,
          314,
          161,
          60,
          390,
          30,
          92,
          76,
          1895,
          1534,
          108,
          1,
          274,
          1,
          60,
          681,
          494,
          2089,
          5513,
          1732,
          2100,
          3120,
          4680,
          2400,
          3240,
          448,
          11296,
          15492,
          13140,
          49,
          48,
          3300,
          3584,
          4710,
          50,
          5400,
          10726,
          2520,
          7320,
          5760,
          9480,
          21,
          10080,
          18240,
          0,
          3600,
          5850,
          14400,
          2880,
          0,
          30,
          420,
          23040,
          2880,
          2880,
          8640,
          8221,
          2299,
          1,
          258,
          7962,
          5355,
          6074,
          0,
          17310,
          20280,
          14639,
          8268,
          2515,
          1,
          2355,
          1800,
          2730,
          300,
          3943,
          25920,
          60480,
          0,
          1,
          255,
          161,
          5,
          73,
          191,
          18717,
          null,
          1440,
          5040,
          3137,
          4920,
          4920,
          11640,
          7920,
          6480,
          420,
          1420,
          805,
          2190,
          4200,
          11531,
          11420,
          930,
          3630,
          1733,
          1843,
          340,
          3690,
          960,
          360,
          0,
          352,
          0,
          5490,
          0,
          1,
          0,
          1440,
          21,
          285,
          7430,
          165,
          1372,
          10619,
          75,
          1590,
          0,
          634,
          7,
          null,
          11880,
          6685,
          300,
          13972,
          7200,
          148,
          2895,
          0,
          1381,
          431,
          984,
          2612,
          117,
          110,
          2245,
          3000,
          5310,
          1732,
          3300,
          1042,
          280,
          796,
          null,
          null,
          4313,
          4380,
          1050,
          200,
          1526,
          214,
          0,
          164,
          60,
          0,
          838,
          989,
          1350,
          4,
          840,
          120,
          1,
          2,
          91,
          1,
          210,
          1,
          60,
          73,
          2680,
          null,
          2790,
          720,
          4338,
          2319,
          1757,
          1714,
          2985,
          3060,
          7523,
          3058,
          4800,
          78,
          2684,
          5579,
          6938,
          299,
          6713,
          5160,
          9450,
          7080,
          5320,
          2865,
          7709,
          376,
          4792,
          3232,
          4139,
          930,
          152,
          1324,
          4260,
          2880,
          2880,
          2880,
          100,
          2843,
          13381,
          13679,
          7803,
          2880,
          3894,
          1440,
          3189,
          13488,
          10530,
          8979,
          380,
          59,
          54,
          1,
          6940,
          1,
          2668,
          90,
          1642,
          164,
          278,
          7440,
          6600,
          3480,
          488,
          2415,
          300,
          180,
          4177,
          181,
          59,
          840,
          32,
          136,
          762,
          5054,
          660,
          4921,
          196,
          2550,
          46,
          0,
          2700,
          1260,
          0,
          2818,
          619,
          150,
          150,
          1920,
          1200,
          528,
          4125,
          1,
          1,
          1,
          935,
          251,
          310,
          95,
          21,
          19,
          null,
          null,
          null,
          70,
          480,
          2159,
          1440,
          167,
          10140,
          186,
          757,
          9486,
          17865,
          39,
          1200,
          150,
          1200,
          600,
          900,
          420,
          1110,
          1620,
          12180,
          245,
          121,
          189,
          130,
          95,
          900,
          271,
          600,
          690,
          1830,
          766,
          318,
          2340,
          5595,
          3569,
          12124,
          847,
          27698,
          27698,
          21540,
          3360,
          2220,
          570,
          885,
          1920,
          6000,
          224,
          210,
          330,
          1560,
          240,
          215,
          1500,
          6300,
          2142,
          360,
          940,
          685,
          10,
          1697,
          868,
          327,
          1203,
          1077,
          74,
          1200,
          240,
          394,
          480,
          6000,
          197,
          1335,
          7540,
          1500,
          255,
          0,
          410,
          557,
          1282,
          300,
          840,
          2220,
          181,
          206,
          1440,
          1860,
          1860,
          1080,
          7809,
          20160,
          20160,
          1559,
          45,
          402,
          1195,
          990,
          220,
          2280,
          5,
          1,
          1,
          1,
          3020,
          3300,
          2690,
          5115,
          1320,
          3040,
          3000,
          373,
          63,
          550,
          1955,
          225,
          455,
          2420,
          3050,
          1185,
          5,
          3255,
          1455,
          2655,
          null,
          null,
          null,
          null,
          null,
          283,
          871,
          15,
          2275,
          15,
          3186,
          11,
          575,
          56,
          114,
          0,
          57,
          95,
          300,
          0,
          1631,
          44,
          60,
          1,
          1,
          1,
          1,
          2,
          1,
          1,
          13,
          1,
          1,
          1,
          1,
          20,
          1,
          113,
          1,
          120,
          31,
          60,
          21,
          60,
          204,
          15,
          241,
          2691,
          115,
          131,
          624,
          485,
          1072,
          168,
          385,
          816,
          570,
          1826,
          424,
          2640,
          1337,
          235,
          144,
          3366,
          30,
          1355,
          160,
          1205,
          90,
          180,
          0,
          208,
          1301,
          6787,
          1673,
          1523,
          103,
          1565,
          2,
          1508,
          448,
          2435,
          null,
          50,
          1,
          20,
          15,
          70,
          1,
          160,
          1,
          1,
          6480,
          5340,
          4285,
          3507,
          6690,
          5855,
          8940,
          22769,
          2639,
          9630,
          2820,
          2040,
          6276,
          248,
          1204,
          2700,
          2460,
          126,
          0,
          123,
          0,
          0,
          0,
          0,
          0,
          440,
          1,
          0,
          314,
          385,
          394,
          369,
          355,
          467,
          1207,
          1697,
          245,
          1423,
          1276,
          476,
          60,
          1620,
          465,
          432,
          1,
          0,
          0,
          0,
          1920,
          0,
          0,
          0,
          0,
          1240,
          717,
          25,
          0,
          0,
          292,
          502,
          487,
          2615,
          219,
          15,
          70,
          1,
          255,
          1,
          28,
          5,
          74,
          180,
          1,
          5,
          1,
          3300,
          1183,
          1,
          548,
          663,
          19,
          21,
          25,
          8880,
          2520,
          420,
          1919,
          313,
          1,
          null,
          null,
          null,
          null,
          null,
          null,
          null,
          null,
          1219,
          960,
          4410,
          3000,
          388,
          480,
          1272,
          104,
          32,
          135,
          60,
          108653,
          90,
          60,
          44,
          18660,
          8468,
          538,
          1605,
          null,
          9576,
          17339,
          1000,
          1,
          106,
          61,
          0,
          0,
          32,
          1
         ],
         "yaxis": "y"
        }
       ],
       "layout": {
        "legend": {
         "tracegroupgap": 0
        },
        "template": {
         "data": {
          "bar": [
           {
            "error_x": {
             "color": "#2a3f5f"
            },
            "error_y": {
             "color": "#2a3f5f"
            },
            "marker": {
             "line": {
              "color": "#E5ECF6",
              "width": 0.5
             },
             "pattern": {
              "fillmode": "overlay",
              "size": 10,
              "solidity": 0.2
             }
            },
            "type": "bar"
           }
          ],
          "barpolar": [
           {
            "marker": {
             "line": {
              "color": "#E5ECF6",
              "width": 0.5
             },
             "pattern": {
              "fillmode": "overlay",
              "size": 10,
              "solidity": 0.2
             }
            },
            "type": "barpolar"
           }
          ],
          "carpet": [
           {
            "aaxis": {
             "endlinecolor": "#2a3f5f",
             "gridcolor": "white",
             "linecolor": "white",
             "minorgridcolor": "white",
             "startlinecolor": "#2a3f5f"
            },
            "baxis": {
             "endlinecolor": "#2a3f5f",
             "gridcolor": "white",
             "linecolor": "white",
             "minorgridcolor": "white",
             "startlinecolor": "#2a3f5f"
            },
            "type": "carpet"
           }
          ],
          "choropleth": [
           {
            "colorbar": {
             "outlinewidth": 0,
             "ticks": ""
            },
            "type": "choropleth"
           }
          ],
          "contour": [
           {
            "colorbar": {
             "outlinewidth": 0,
             "ticks": ""
            },
            "colorscale": [
             [
              0,
              "#0d0887"
             ],
             [
              0.1111111111111111,
              "#46039f"
             ],
             [
              0.2222222222222222,
              "#7201a8"
             ],
             [
              0.3333333333333333,
              "#9c179e"
             ],
             [
              0.4444444444444444,
              "#bd3786"
             ],
             [
              0.5555555555555556,
              "#d8576b"
             ],
             [
              0.6666666666666666,
              "#ed7953"
             ],
             [
              0.7777777777777778,
              "#fb9f3a"
             ],
             [
              0.8888888888888888,
              "#fdca26"
             ],
             [
              1,
              "#f0f921"
             ]
            ],
            "type": "contour"
           }
          ],
          "contourcarpet": [
           {
            "colorbar": {
             "outlinewidth": 0,
             "ticks": ""
            },
            "type": "contourcarpet"
           }
          ],
          "heatmap": [
           {
            "colorbar": {
             "outlinewidth": 0,
             "ticks": ""
            },
            "colorscale": [
             [
              0,
              "#0d0887"
             ],
             [
              0.1111111111111111,
              "#46039f"
             ],
             [
              0.2222222222222222,
              "#7201a8"
             ],
             [
              0.3333333333333333,
              "#9c179e"
             ],
             [
              0.4444444444444444,
              "#bd3786"
             ],
             [
              0.5555555555555556,
              "#d8576b"
             ],
             [
              0.6666666666666666,
              "#ed7953"
             ],
             [
              0.7777777777777778,
              "#fb9f3a"
             ],
             [
              0.8888888888888888,
              "#fdca26"
             ],
             [
              1,
              "#f0f921"
             ]
            ],
            "type": "heatmap"
           }
          ],
          "heatmapgl": [
           {
            "colorbar": {
             "outlinewidth": 0,
             "ticks": ""
            },
            "colorscale": [
             [
              0,
              "#0d0887"
             ],
             [
              0.1111111111111111,
              "#46039f"
             ],
             [
              0.2222222222222222,
              "#7201a8"
             ],
             [
              0.3333333333333333,
              "#9c179e"
             ],
             [
              0.4444444444444444,
              "#bd3786"
             ],
             [
              0.5555555555555556,
              "#d8576b"
             ],
             [
              0.6666666666666666,
              "#ed7953"
             ],
             [
              0.7777777777777778,
              "#fb9f3a"
             ],
             [
              0.8888888888888888,
              "#fdca26"
             ],
             [
              1,
              "#f0f921"
             ]
            ],
            "type": "heatmapgl"
           }
          ],
          "histogram": [
           {
            "marker": {
             "pattern": {
              "fillmode": "overlay",
              "size": 10,
              "solidity": 0.2
             }
            },
            "type": "histogram"
           }
          ],
          "histogram2d": [
           {
            "colorbar": {
             "outlinewidth": 0,
             "ticks": ""
            },
            "colorscale": [
             [
              0,
              "#0d0887"
             ],
             [
              0.1111111111111111,
              "#46039f"
             ],
             [
              0.2222222222222222,
              "#7201a8"
             ],
             [
              0.3333333333333333,
              "#9c179e"
             ],
             [
              0.4444444444444444,
              "#bd3786"
             ],
             [
              0.5555555555555556,
              "#d8576b"
             ],
             [
              0.6666666666666666,
              "#ed7953"
             ],
             [
              0.7777777777777778,
              "#fb9f3a"
             ],
             [
              0.8888888888888888,
              "#fdca26"
             ],
             [
              1,
              "#f0f921"
             ]
            ],
            "type": "histogram2d"
           }
          ],
          "histogram2dcontour": [
           {
            "colorbar": {
             "outlinewidth": 0,
             "ticks": ""
            },
            "colorscale": [
             [
              0,
              "#0d0887"
             ],
             [
              0.1111111111111111,
              "#46039f"
             ],
             [
              0.2222222222222222,
              "#7201a8"
             ],
             [
              0.3333333333333333,
              "#9c179e"
             ],
             [
              0.4444444444444444,
              "#bd3786"
             ],
             [
              0.5555555555555556,
              "#d8576b"
             ],
             [
              0.6666666666666666,
              "#ed7953"
             ],
             [
              0.7777777777777778,
              "#fb9f3a"
             ],
             [
              0.8888888888888888,
              "#fdca26"
             ],
             [
              1,
              "#f0f921"
             ]
            ],
            "type": "histogram2dcontour"
           }
          ],
          "mesh3d": [
           {
            "colorbar": {
             "outlinewidth": 0,
             "ticks": ""
            },
            "type": "mesh3d"
           }
          ],
          "parcoords": [
           {
            "line": {
             "colorbar": {
              "outlinewidth": 0,
              "ticks": ""
             }
            },
            "type": "parcoords"
           }
          ],
          "pie": [
           {
            "automargin": true,
            "type": "pie"
           }
          ],
          "scatter": [
           {
            "fillpattern": {
             "fillmode": "overlay",
             "size": 10,
             "solidity": 0.2
            },
            "type": "scatter"
           }
          ],
          "scatter3d": [
           {
            "line": {
             "colorbar": {
              "outlinewidth": 0,
              "ticks": ""
             }
            },
            "marker": {
             "colorbar": {
              "outlinewidth": 0,
              "ticks": ""
             }
            },
            "type": "scatter3d"
           }
          ],
          "scattercarpet": [
           {
            "marker": {
             "colorbar": {
              "outlinewidth": 0,
              "ticks": ""
             }
            },
            "type": "scattercarpet"
           }
          ],
          "scattergeo": [
           {
            "marker": {
             "colorbar": {
              "outlinewidth": 0,
              "ticks": ""
             }
            },
            "type": "scattergeo"
           }
          ],
          "scattergl": [
           {
            "marker": {
             "colorbar": {
              "outlinewidth": 0,
              "ticks": ""
             }
            },
            "type": "scattergl"
           }
          ],
          "scattermapbox": [
           {
            "marker": {
             "colorbar": {
              "outlinewidth": 0,
              "ticks": ""
             }
            },
            "type": "scattermapbox"
           }
          ],
          "scatterpolar": [
           {
            "marker": {
             "colorbar": {
              "outlinewidth": 0,
              "ticks": ""
             }
            },
            "type": "scatterpolar"
           }
          ],
          "scatterpolargl": [
           {
            "marker": {
             "colorbar": {
              "outlinewidth": 0,
              "ticks": ""
             }
            },
            "type": "scatterpolargl"
           }
          ],
          "scatterternary": [
           {
            "marker": {
             "colorbar": {
              "outlinewidth": 0,
              "ticks": ""
             }
            },
            "type": "scatterternary"
           }
          ],
          "surface": [
           {
            "colorbar": {
             "outlinewidth": 0,
             "ticks": ""
            },
            "colorscale": [
             [
              0,
              "#0d0887"
             ],
             [
              0.1111111111111111,
              "#46039f"
             ],
             [
              0.2222222222222222,
              "#7201a8"
             ],
             [
              0.3333333333333333,
              "#9c179e"
             ],
             [
              0.4444444444444444,
              "#bd3786"
             ],
             [
              0.5555555555555556,
              "#d8576b"
             ],
             [
              0.6666666666666666,
              "#ed7953"
             ],
             [
              0.7777777777777778,
              "#fb9f3a"
             ],
             [
              0.8888888888888888,
              "#fdca26"
             ],
             [
              1,
              "#f0f921"
             ]
            ],
            "type": "surface"
           }
          ],
          "table": [
           {
            "cells": {
             "fill": {
              "color": "#EBF0F8"
             },
             "line": {
              "color": "white"
             }
            },
            "header": {
             "fill": {
              "color": "#C8D4E3"
             },
             "line": {
              "color": "white"
             }
            },
            "type": "table"
           }
          ]
         },
         "layout": {
          "annotationdefaults": {
           "arrowcolor": "#2a3f5f",
           "arrowhead": 0,
           "arrowwidth": 1
          },
          "autotypenumbers": "strict",
          "coloraxis": {
           "colorbar": {
            "outlinewidth": 0,
            "ticks": ""
           }
          },
          "colorscale": {
           "diverging": [
            [
             0,
             "#8e0152"
            ],
            [
             0.1,
             "#c51b7d"
            ],
            [
             0.2,
             "#de77ae"
            ],
            [
             0.3,
             "#f1b6da"
            ],
            [
             0.4,
             "#fde0ef"
            ],
            [
             0.5,
             "#f7f7f7"
            ],
            [
             0.6,
             "#e6f5d0"
            ],
            [
             0.7,
             "#b8e186"
            ],
            [
             0.8,
             "#7fbc41"
            ],
            [
             0.9,
             "#4d9221"
            ],
            [
             1,
             "#276419"
            ]
           ],
           "sequential": [
            [
             0,
             "#0d0887"
            ],
            [
             0.1111111111111111,
             "#46039f"
            ],
            [
             0.2222222222222222,
             "#7201a8"
            ],
            [
             0.3333333333333333,
             "#9c179e"
            ],
            [
             0.4444444444444444,
             "#bd3786"
            ],
            [
             0.5555555555555556,
             "#d8576b"
            ],
            [
             0.6666666666666666,
             "#ed7953"
            ],
            [
             0.7777777777777778,
             "#fb9f3a"
            ],
            [
             0.8888888888888888,
             "#fdca26"
            ],
            [
             1,
             "#f0f921"
            ]
           ],
           "sequentialminus": [
            [
             0,
             "#0d0887"
            ],
            [
             0.1111111111111111,
             "#46039f"
            ],
            [
             0.2222222222222222,
             "#7201a8"
            ],
            [
             0.3333333333333333,
             "#9c179e"
            ],
            [
             0.4444444444444444,
             "#bd3786"
            ],
            [
             0.5555555555555556,
             "#d8576b"
            ],
            [
             0.6666666666666666,
             "#ed7953"
            ],
            [
             0.7777777777777778,
             "#fb9f3a"
            ],
            [
             0.8888888888888888,
             "#fdca26"
            ],
            [
             1,
             "#f0f921"
            ]
           ]
          },
          "colorway": [
           "#636efa",
           "#EF553B",
           "#00cc96",
           "#ab63fa",
           "#FFA15A",
           "#19d3f3",
           "#FF6692",
           "#B6E880",
           "#FF97FF",
           "#FECB52"
          ],
          "font": {
           "color": "#2a3f5f"
          },
          "geo": {
           "bgcolor": "white",
           "lakecolor": "white",
           "landcolor": "#E5ECF6",
           "showlakes": true,
           "showland": true,
           "subunitcolor": "white"
          },
          "hoverlabel": {
           "align": "left"
          },
          "hovermode": "closest",
          "mapbox": {
           "style": "light"
          },
          "paper_bgcolor": "white",
          "plot_bgcolor": "#E5ECF6",
          "polar": {
           "angularaxis": {
            "gridcolor": "white",
            "linecolor": "white",
            "ticks": ""
           },
           "bgcolor": "#E5ECF6",
           "radialaxis": {
            "gridcolor": "white",
            "linecolor": "white",
            "ticks": ""
           }
          },
          "scene": {
           "xaxis": {
            "backgroundcolor": "#E5ECF6",
            "gridcolor": "white",
            "gridwidth": 2,
            "linecolor": "white",
            "showbackground": true,
            "ticks": "",
            "zerolinecolor": "white"
           },
           "yaxis": {
            "backgroundcolor": "#E5ECF6",
            "gridcolor": "white",
            "gridwidth": 2,
            "linecolor": "white",
            "showbackground": true,
            "ticks": "",
            "zerolinecolor": "white"
           },
           "zaxis": {
            "backgroundcolor": "#E5ECF6",
            "gridcolor": "white",
            "gridwidth": 2,
            "linecolor": "white",
            "showbackground": true,
            "ticks": "",
            "zerolinecolor": "white"
           }
          },
          "shapedefaults": {
           "line": {
            "color": "#2a3f5f"
           }
          },
          "ternary": {
           "aaxis": {
            "gridcolor": "white",
            "linecolor": "white",
            "ticks": ""
           },
           "baxis": {
            "gridcolor": "white",
            "linecolor": "white",
            "ticks": ""
           },
           "bgcolor": "#E5ECF6",
           "caxis": {
            "gridcolor": "white",
            "linecolor": "white",
            "ticks": ""
           }
          },
          "title": {
           "x": 0.05
          },
          "xaxis": {
           "automargin": true,
           "gridcolor": "white",
           "linecolor": "white",
           "ticks": "",
           "title": {
            "standoff": 15
           },
           "zerolinecolor": "white",
           "zerolinewidth": 2
          },
          "yaxis": {
           "automargin": true,
           "gridcolor": "white",
           "linecolor": "white",
           "ticks": "",
           "title": {
            "standoff": 15
           },
           "zerolinecolor": "white",
           "zerolinewidth": 2
          }
         }
        },
        "title": {
         "text": "Real GDP vs Outage Duration"
        },
        "xaxis": {
         "anchor": "y",
         "domain": [
          0,
          1
         ],
         "title": {
          "text": "prev_out"
         }
        },
        "yaxis": {
         "anchor": "x",
         "domain": [
          0,
          1
         ],
         "title": {
          "text": "OUTAGE.DURATION"
         }
        }
       }
      }
     },
     "metadata": {},
     "output_type": "display_data"
    }
   ],
   "source": [
    "formated_data['nopcGSPRel'] = formated_data.groupby('POSTAL.CODE').apply(un_capita).reset_index(drop=True)\n",
    "px.scatter(formated_data, x='prev_out', y='OUTAGE.DURATION', title='Real GDP vs Outage Duration')"
   ]
  },
  {
   "cell_type": "code",
   "execution_count": 42,
   "metadata": {},
   "outputs": [
    {
     "data": {
      "text/plain": [
       "array([ -5091.59130586,  -3994.08715432, -12801.34559555,  -7083.57174236,\n",
       "        -4581.50349748])"
      ]
     },
     "execution_count": 42,
     "metadata": {},
     "output_type": "execute_result"
    }
   ],
   "source": [
    "from sklearn.linear_model import LinearRegression\n",
    "from sklearn.pipeline import make_pipeline\n",
    "from sklearn.model_selection import train_test_split, KFold, cross_val_score\n",
    "\n",
    "Xtest, Xtrain, ytest, ytrain = train_test_split(formated_data['prev_out'].to_numpy(), formated_data['OUTAGE.DURATION'].to_numpy(), test_size=0.2)\n",
    "\n",
    "df = pd.DataFrame({'x': Xtrain, 'y': ytrain}).dropna()\n",
    "\n",
    "val = cross_val_score(LinearRegression(), X=df[['x']], y=df[['y']], cv=5, scoring='neg_root_mean_squared_error')\n",
    "val"
   ]
  },
  {
   "cell_type": "code",
   "execution_count": 50,
   "metadata": {},
   "outputs": [
    {
     "data": {
      "text/plain": [
       "(array([3037.73664923]), array([[0.94732638]]))"
      ]
     },
     "execution_count": 50,
     "metadata": {},
     "output_type": "execute_result"
    }
   ],
   "source": [
    "lr = LinearRegression()\n",
    "lr.fit(df[['x']], df[['y']])\n",
    "lr.intercept_, lr.coef_"
   ]
  },
  {
   "cell_type": "code",
   "execution_count": 61,
   "metadata": {},
   "outputs": [
    {
     "name": "stdout",
     "output_type": "stream",
     "text": [
      "[[3036.78932285]\n",
      " [3274.56824501]]\n"
     ]
    },
    {
     "data": {
      "application/vnd.plotly.v1+json": {
       "config": {
        "plotlyServerURL": "https://plot.ly"
       },
       "data": [
        {
         "hovertemplate": "x=%{x}<br>y=%{y}<extra></extra>",
         "legendgroup": "",
         "marker": {
          "color": "#636efa",
          "symbol": "circle"
         },
         "mode": "markers",
         "name": "",
         "orientation": "h",
         "showlegend": false,
         "type": "scatter",
         "x": [
          47,
          9,
          1,
          54,
          6,
          23,
          56,
          20,
          1,
          17,
          9,
          42,
          153,
          30,
          25,
          0,
          11,
          12,
          11,
          4,
          7,
          6,
          43,
          35,
          3,
          20,
          17,
          14,
          81,
          26,
          36,
          17,
          14,
          50,
          28,
          8,
          34,
          10,
          4,
          25,
          28,
          24,
          3,
          27,
          118,
          30,
          24,
          2,
          20,
          25,
          10,
          11,
          10,
          66,
          9,
          2,
          11,
          37,
          33,
          17,
          34,
          152,
          33,
          31,
          38,
          4,
          11,
          31,
          39,
          12,
          24,
          38,
          156,
          21,
          155,
          23,
          41,
          4,
          70,
          18,
          46,
          27,
          88,
          21,
          1,
          31,
          10,
          121,
          51,
          1,
          4,
          29,
          36,
          10,
          5,
          103,
          10,
          4,
          3,
          23,
          10,
          34,
          2,
          10,
          0,
          19,
          4,
          23,
          1,
          0,
          13,
          33,
          77,
          27,
          77,
          37,
          181,
          6,
          23,
          29,
          163,
          69,
          32,
          1,
          109,
          17,
          17,
          9,
          15,
          21,
          55,
          7,
          24,
          5,
          61,
          10,
          185,
          68,
          113,
          71,
          17,
          22,
          17,
          135,
          16,
          51,
          45,
          4,
          50,
          36,
          29,
          17,
          10,
          9,
          134,
          38,
          51,
          24,
          192,
          8,
          9,
          4,
          8,
          34,
          40,
          30,
          15,
          3,
          60,
          93,
          0,
          44,
          25,
          13,
          10,
          0,
          19,
          8,
          15,
          62,
          39,
          23,
          95,
          27,
          79,
          57,
          13,
          76,
          40,
          7,
          141,
          20,
          73,
          124,
          22,
          5,
          10,
          2,
          23,
          46,
          176,
          16,
          5,
          43,
          35,
          4,
          25,
          158,
          11,
          1,
          51,
          0,
          86,
          24,
          3,
          44,
          32,
          3,
          1,
          0,
          26,
          91,
          17,
          35,
          30,
          193,
          131,
          4,
          42,
          48,
          3,
          40,
          101,
          7,
          103,
          22,
          19,
          12,
          78,
          196,
          7,
          23,
          11,
          27,
          17,
          18,
          6,
          2,
          15,
          16,
          20,
          6,
          30,
          11,
          89,
          0,
          0,
          10,
          13,
          38,
          14,
          29,
          21,
          168,
          0,
          35,
          43,
          186,
          2,
          23,
          84,
          12,
          119,
          50,
          4,
          88,
          183,
          3,
          0,
          2,
          7,
          188,
          15,
          52,
          22,
          0,
          11,
          5,
          12,
          87,
          93,
          8,
          84,
          21,
          11,
          55,
          28,
          21,
          3,
          18,
          5
         ],
         "xaxis": "x",
         "y": [
          0,
          1420,
          950,
          717,
          103,
          0,
          304,
          0,
          1534,
          388,
          7740,
          180,
          195,
          4260,
          4830,
          230,
          1,
          95,
          0,
          803,
          120,
          0,
          885,
          4320,
          187,
          5400,
          23187,
          10380,
          759,
          5790,
          213,
          1068,
          210,
          4260,
          10080,
          1381,
          249,
          1579,
          2700,
          208,
          91,
          352,
          391,
          10080,
          5227,
          76,
          64,
          300,
          3690,
          9360,
          1470,
          1200,
          3621,
          255,
          7800,
          115,
          1,
          27698,
          1,
          30,
          1207,
          3698,
          1050,
          1265,
          1336,
          1637,
          11296,
          1830,
          507,
          1452,
          467,
          60,
          164,
          1,
          255,
          180,
          17,
          1526,
          197,
          1605,
          8472,
          2775,
          1995,
          17520,
          2070,
          11850,
          2820,
          5,
          1,
          61,
          5054,
          1523,
          13381,
          5,
          1890,
          39,
          0,
          0,
          4920,
          1,
          3842,
          985,
          161,
          175,
          241,
          1,
          15,
          270,
          1755,
          300,
          5790,
          5580,
          420,
          6787,
          557,
          13679,
          98,
          90,
          2941,
          1,
          15,
          18717,
          1290,
          4140,
          47,
          150,
          3366,
          28170,
          120,
          3646,
          25,
          757,
          1,
          660,
          37,
          1200,
          55,
          1046,
          225,
          1335,
          1110,
          270,
          1,
          70,
          300,
          155,
          8979,
          49320,
          0,
          420,
          0,
          6840,
          1130,
          1200,
          0,
          78377,
          5610,
          1,
          15,
          385,
          2880,
          6690,
          2550,
          5820,
          437,
          20,
          12240,
          316,
          25920,
          125,
          6480,
          1588,
          2775,
          0,
          1440,
          1895,
          572,
          1,
          619,
          85,
          0,
          130,
          945,
          1698,
          663,
          11525,
          420,
          3630,
          3360,
          168,
          697,
          245,
          1500,
          3408,
          2,
          2160,
          838,
          2100,
          1414,
          5355,
          236,
          1,
          2880,
          90,
          1372,
          141,
          1,
          106,
          2190,
          93,
          14639,
          14500,
          2760,
          5760,
          1440,
          10530,
          2340,
          15,
          4380,
          2790,
          21,
          89,
          5910,
          227,
          182,
          72,
          213,
          4320,
          4590,
          1230,
          3300,
          1,
          1,
          0,
          3300,
          60,
          4113,
          1350,
          1282,
          49427,
          220,
          565,
          0,
          182,
          0,
          1620,
          1865,
          554,
          18660,
          1,
          1,
          224,
          1690,
          2700,
          2820,
          1800,
          11280,
          17812,
          0,
          540,
          1,
          200,
          2,
          324,
          66,
          84,
          1,
          157,
          1050,
          430,
          2520,
          195,
          251,
          20280,
          1757,
          400,
          420,
          5,
          103,
          4045,
          2108,
          44,
          510,
          182,
          373,
          4313,
          0,
          485,
          2684,
          1080,
          402,
          355,
          1440,
          10726,
          3525,
          2355,
          95,
          1,
          4740,
          451,
          1
         ],
         "yaxis": "y"
        },
        {
         "mode": "lines",
         "name": "Linear Regression Line",
         "type": "scatter",
         "x": [
          47,
          9,
          1,
          54,
          6,
          23,
          56,
          20,
          1,
          17,
          9,
          42,
          153,
          30,
          25,
          0,
          11,
          12,
          11,
          4,
          7,
          6,
          43,
          35,
          3,
          20,
          17,
          14,
          81,
          26,
          36,
          17,
          14,
          50,
          28,
          8,
          34,
          10,
          4,
          25,
          28,
          24,
          3,
          27,
          118,
          30,
          24,
          2,
          20,
          25,
          10,
          11,
          10,
          66,
          9,
          2,
          11,
          37,
          33,
          17,
          34,
          152,
          33,
          31,
          38,
          4,
          11,
          31,
          39,
          12,
          24,
          38,
          156,
          21,
          155,
          23,
          41,
          4,
          70,
          18,
          46,
          27,
          88,
          21,
          1,
          31,
          10,
          121,
          51,
          1,
          4,
          29,
          36,
          10,
          5,
          103,
          10,
          4,
          3,
          23,
          10,
          34,
          2,
          10,
          0,
          19,
          4,
          23,
          1,
          0,
          13,
          33,
          77,
          27,
          77,
          37,
          181,
          6,
          23,
          29,
          163,
          69,
          32,
          1,
          109,
          17,
          17,
          9,
          15,
          21,
          55,
          7,
          24,
          5,
          61,
          10,
          185,
          68,
          113,
          71,
          17,
          22,
          17,
          135,
          16,
          51,
          45,
          4,
          50,
          36,
          29,
          17,
          10,
          9,
          134,
          38,
          51,
          24,
          192,
          8,
          9,
          4,
          8,
          34,
          40,
          30,
          15,
          3,
          60,
          93,
          0,
          44,
          25,
          13,
          10,
          0,
          19,
          8,
          15,
          62,
          39,
          23,
          95,
          27,
          79,
          57,
          13,
          76,
          40,
          7,
          141,
          20,
          73,
          124,
          22,
          5,
          10,
          2,
          23,
          46,
          176,
          16,
          5,
          43,
          35,
          4,
          25,
          158,
          11,
          1,
          51,
          0,
          86,
          24,
          3,
          44,
          32,
          3,
          1,
          0,
          26,
          91,
          17,
          35,
          30,
          193,
          131,
          4,
          42,
          48,
          3,
          40,
          101,
          7,
          103,
          22,
          19,
          12,
          78,
          196,
          7,
          23,
          11,
          27,
          17,
          18,
          6,
          2,
          15,
          16,
          20,
          6,
          30,
          11,
          89,
          0,
          0,
          10,
          13,
          38,
          14,
          29,
          21,
          168,
          0,
          35,
          43,
          186,
          2,
          23,
          84,
          12,
          119,
          50,
          4,
          88,
          183,
          3,
          0,
          2,
          7,
          188,
          15,
          52,
          22,
          0,
          11,
          5,
          12,
          87,
          93,
          8,
          84,
          21,
          11,
          55,
          28,
          21,
          3,
          18,
          5
         ],
         "y": [
          [
           3036.7893228469047
          ],
          [
           3274.5682450141694
          ]
         ]
        }
       ],
       "layout": {
        "legend": {
         "tracegroupgap": 0
        },
        "margin": {
         "t": 60
        },
        "template": {
         "data": {
          "bar": [
           {
            "error_x": {
             "color": "#2a3f5f"
            },
            "error_y": {
             "color": "#2a3f5f"
            },
            "marker": {
             "line": {
              "color": "#E5ECF6",
              "width": 0.5
             },
             "pattern": {
              "fillmode": "overlay",
              "size": 10,
              "solidity": 0.2
             }
            },
            "type": "bar"
           }
          ],
          "barpolar": [
           {
            "marker": {
             "line": {
              "color": "#E5ECF6",
              "width": 0.5
             },
             "pattern": {
              "fillmode": "overlay",
              "size": 10,
              "solidity": 0.2
             }
            },
            "type": "barpolar"
           }
          ],
          "carpet": [
           {
            "aaxis": {
             "endlinecolor": "#2a3f5f",
             "gridcolor": "white",
             "linecolor": "white",
             "minorgridcolor": "white",
             "startlinecolor": "#2a3f5f"
            },
            "baxis": {
             "endlinecolor": "#2a3f5f",
             "gridcolor": "white",
             "linecolor": "white",
             "minorgridcolor": "white",
             "startlinecolor": "#2a3f5f"
            },
            "type": "carpet"
           }
          ],
          "choropleth": [
           {
            "colorbar": {
             "outlinewidth": 0,
             "ticks": ""
            },
            "type": "choropleth"
           }
          ],
          "contour": [
           {
            "colorbar": {
             "outlinewidth": 0,
             "ticks": ""
            },
            "colorscale": [
             [
              0,
              "#0d0887"
             ],
             [
              0.1111111111111111,
              "#46039f"
             ],
             [
              0.2222222222222222,
              "#7201a8"
             ],
             [
              0.3333333333333333,
              "#9c179e"
             ],
             [
              0.4444444444444444,
              "#bd3786"
             ],
             [
              0.5555555555555556,
              "#d8576b"
             ],
             [
              0.6666666666666666,
              "#ed7953"
             ],
             [
              0.7777777777777778,
              "#fb9f3a"
             ],
             [
              0.8888888888888888,
              "#fdca26"
             ],
             [
              1,
              "#f0f921"
             ]
            ],
            "type": "contour"
           }
          ],
          "contourcarpet": [
           {
            "colorbar": {
             "outlinewidth": 0,
             "ticks": ""
            },
            "type": "contourcarpet"
           }
          ],
          "heatmap": [
           {
            "colorbar": {
             "outlinewidth": 0,
             "ticks": ""
            },
            "colorscale": [
             [
              0,
              "#0d0887"
             ],
             [
              0.1111111111111111,
              "#46039f"
             ],
             [
              0.2222222222222222,
              "#7201a8"
             ],
             [
              0.3333333333333333,
              "#9c179e"
             ],
             [
              0.4444444444444444,
              "#bd3786"
             ],
             [
              0.5555555555555556,
              "#d8576b"
             ],
             [
              0.6666666666666666,
              "#ed7953"
             ],
             [
              0.7777777777777778,
              "#fb9f3a"
             ],
             [
              0.8888888888888888,
              "#fdca26"
             ],
             [
              1,
              "#f0f921"
             ]
            ],
            "type": "heatmap"
           }
          ],
          "heatmapgl": [
           {
            "colorbar": {
             "outlinewidth": 0,
             "ticks": ""
            },
            "colorscale": [
             [
              0,
              "#0d0887"
             ],
             [
              0.1111111111111111,
              "#46039f"
             ],
             [
              0.2222222222222222,
              "#7201a8"
             ],
             [
              0.3333333333333333,
              "#9c179e"
             ],
             [
              0.4444444444444444,
              "#bd3786"
             ],
             [
              0.5555555555555556,
              "#d8576b"
             ],
             [
              0.6666666666666666,
              "#ed7953"
             ],
             [
              0.7777777777777778,
              "#fb9f3a"
             ],
             [
              0.8888888888888888,
              "#fdca26"
             ],
             [
              1,
              "#f0f921"
             ]
            ],
            "type": "heatmapgl"
           }
          ],
          "histogram": [
           {
            "marker": {
             "pattern": {
              "fillmode": "overlay",
              "size": 10,
              "solidity": 0.2
             }
            },
            "type": "histogram"
           }
          ],
          "histogram2d": [
           {
            "colorbar": {
             "outlinewidth": 0,
             "ticks": ""
            },
            "colorscale": [
             [
              0,
              "#0d0887"
             ],
             [
              0.1111111111111111,
              "#46039f"
             ],
             [
              0.2222222222222222,
              "#7201a8"
             ],
             [
              0.3333333333333333,
              "#9c179e"
             ],
             [
              0.4444444444444444,
              "#bd3786"
             ],
             [
              0.5555555555555556,
              "#d8576b"
             ],
             [
              0.6666666666666666,
              "#ed7953"
             ],
             [
              0.7777777777777778,
              "#fb9f3a"
             ],
             [
              0.8888888888888888,
              "#fdca26"
             ],
             [
              1,
              "#f0f921"
             ]
            ],
            "type": "histogram2d"
           }
          ],
          "histogram2dcontour": [
           {
            "colorbar": {
             "outlinewidth": 0,
             "ticks": ""
            },
            "colorscale": [
             [
              0,
              "#0d0887"
             ],
             [
              0.1111111111111111,
              "#46039f"
             ],
             [
              0.2222222222222222,
              "#7201a8"
             ],
             [
              0.3333333333333333,
              "#9c179e"
             ],
             [
              0.4444444444444444,
              "#bd3786"
             ],
             [
              0.5555555555555556,
              "#d8576b"
             ],
             [
              0.6666666666666666,
              "#ed7953"
             ],
             [
              0.7777777777777778,
              "#fb9f3a"
             ],
             [
              0.8888888888888888,
              "#fdca26"
             ],
             [
              1,
              "#f0f921"
             ]
            ],
            "type": "histogram2dcontour"
           }
          ],
          "mesh3d": [
           {
            "colorbar": {
             "outlinewidth": 0,
             "ticks": ""
            },
            "type": "mesh3d"
           }
          ],
          "parcoords": [
           {
            "line": {
             "colorbar": {
              "outlinewidth": 0,
              "ticks": ""
             }
            },
            "type": "parcoords"
           }
          ],
          "pie": [
           {
            "automargin": true,
            "type": "pie"
           }
          ],
          "scatter": [
           {
            "fillpattern": {
             "fillmode": "overlay",
             "size": 10,
             "solidity": 0.2
            },
            "type": "scatter"
           }
          ],
          "scatter3d": [
           {
            "line": {
             "colorbar": {
              "outlinewidth": 0,
              "ticks": ""
             }
            },
            "marker": {
             "colorbar": {
              "outlinewidth": 0,
              "ticks": ""
             }
            },
            "type": "scatter3d"
           }
          ],
          "scattercarpet": [
           {
            "marker": {
             "colorbar": {
              "outlinewidth": 0,
              "ticks": ""
             }
            },
            "type": "scattercarpet"
           }
          ],
          "scattergeo": [
           {
            "marker": {
             "colorbar": {
              "outlinewidth": 0,
              "ticks": ""
             }
            },
            "type": "scattergeo"
           }
          ],
          "scattergl": [
           {
            "marker": {
             "colorbar": {
              "outlinewidth": 0,
              "ticks": ""
             }
            },
            "type": "scattergl"
           }
          ],
          "scattermapbox": [
           {
            "marker": {
             "colorbar": {
              "outlinewidth": 0,
              "ticks": ""
             }
            },
            "type": "scattermapbox"
           }
          ],
          "scatterpolar": [
           {
            "marker": {
             "colorbar": {
              "outlinewidth": 0,
              "ticks": ""
             }
            },
            "type": "scatterpolar"
           }
          ],
          "scatterpolargl": [
           {
            "marker": {
             "colorbar": {
              "outlinewidth": 0,
              "ticks": ""
             }
            },
            "type": "scatterpolargl"
           }
          ],
          "scatterternary": [
           {
            "marker": {
             "colorbar": {
              "outlinewidth": 0,
              "ticks": ""
             }
            },
            "type": "scatterternary"
           }
          ],
          "surface": [
           {
            "colorbar": {
             "outlinewidth": 0,
             "ticks": ""
            },
            "colorscale": [
             [
              0,
              "#0d0887"
             ],
             [
              0.1111111111111111,
              "#46039f"
             ],
             [
              0.2222222222222222,
              "#7201a8"
             ],
             [
              0.3333333333333333,
              "#9c179e"
             ],
             [
              0.4444444444444444,
              "#bd3786"
             ],
             [
              0.5555555555555556,
              "#d8576b"
             ],
             [
              0.6666666666666666,
              "#ed7953"
             ],
             [
              0.7777777777777778,
              "#fb9f3a"
             ],
             [
              0.8888888888888888,
              "#fdca26"
             ],
             [
              1,
              "#f0f921"
             ]
            ],
            "type": "surface"
           }
          ],
          "table": [
           {
            "cells": {
             "fill": {
              "color": "#EBF0F8"
             },
             "line": {
              "color": "white"
             }
            },
            "header": {
             "fill": {
              "color": "#C8D4E3"
             },
             "line": {
              "color": "white"
             }
            },
            "type": "table"
           }
          ]
         },
         "layout": {
          "annotationdefaults": {
           "arrowcolor": "#2a3f5f",
           "arrowhead": 0,
           "arrowwidth": 1
          },
          "autotypenumbers": "strict",
          "coloraxis": {
           "colorbar": {
            "outlinewidth": 0,
            "ticks": ""
           }
          },
          "colorscale": {
           "diverging": [
            [
             0,
             "#8e0152"
            ],
            [
             0.1,
             "#c51b7d"
            ],
            [
             0.2,
             "#de77ae"
            ],
            [
             0.3,
             "#f1b6da"
            ],
            [
             0.4,
             "#fde0ef"
            ],
            [
             0.5,
             "#f7f7f7"
            ],
            [
             0.6,
             "#e6f5d0"
            ],
            [
             0.7,
             "#b8e186"
            ],
            [
             0.8,
             "#7fbc41"
            ],
            [
             0.9,
             "#4d9221"
            ],
            [
             1,
             "#276419"
            ]
           ],
           "sequential": [
            [
             0,
             "#0d0887"
            ],
            [
             0.1111111111111111,
             "#46039f"
            ],
            [
             0.2222222222222222,
             "#7201a8"
            ],
            [
             0.3333333333333333,
             "#9c179e"
            ],
            [
             0.4444444444444444,
             "#bd3786"
            ],
            [
             0.5555555555555556,
             "#d8576b"
            ],
            [
             0.6666666666666666,
             "#ed7953"
            ],
            [
             0.7777777777777778,
             "#fb9f3a"
            ],
            [
             0.8888888888888888,
             "#fdca26"
            ],
            [
             1,
             "#f0f921"
            ]
           ],
           "sequentialminus": [
            [
             0,
             "#0d0887"
            ],
            [
             0.1111111111111111,
             "#46039f"
            ],
            [
             0.2222222222222222,
             "#7201a8"
            ],
            [
             0.3333333333333333,
             "#9c179e"
            ],
            [
             0.4444444444444444,
             "#bd3786"
            ],
            [
             0.5555555555555556,
             "#d8576b"
            ],
            [
             0.6666666666666666,
             "#ed7953"
            ],
            [
             0.7777777777777778,
             "#fb9f3a"
            ],
            [
             0.8888888888888888,
             "#fdca26"
            ],
            [
             1,
             "#f0f921"
            ]
           ]
          },
          "colorway": [
           "#636efa",
           "#EF553B",
           "#00cc96",
           "#ab63fa",
           "#FFA15A",
           "#19d3f3",
           "#FF6692",
           "#B6E880",
           "#FF97FF",
           "#FECB52"
          ],
          "font": {
           "color": "#2a3f5f"
          },
          "geo": {
           "bgcolor": "white",
           "lakecolor": "white",
           "landcolor": "#E5ECF6",
           "showlakes": true,
           "showland": true,
           "subunitcolor": "white"
          },
          "hoverlabel": {
           "align": "left"
          },
          "hovermode": "closest",
          "mapbox": {
           "style": "light"
          },
          "paper_bgcolor": "white",
          "plot_bgcolor": "#E5ECF6",
          "polar": {
           "angularaxis": {
            "gridcolor": "white",
            "linecolor": "white",
            "ticks": ""
           },
           "bgcolor": "#E5ECF6",
           "radialaxis": {
            "gridcolor": "white",
            "linecolor": "white",
            "ticks": ""
           }
          },
          "scene": {
           "xaxis": {
            "backgroundcolor": "#E5ECF6",
            "gridcolor": "white",
            "gridwidth": 2,
            "linecolor": "white",
            "showbackground": true,
            "ticks": "",
            "zerolinecolor": "white"
           },
           "yaxis": {
            "backgroundcolor": "#E5ECF6",
            "gridcolor": "white",
            "gridwidth": 2,
            "linecolor": "white",
            "showbackground": true,
            "ticks": "",
            "zerolinecolor": "white"
           },
           "zaxis": {
            "backgroundcolor": "#E5ECF6",
            "gridcolor": "white",
            "gridwidth": 2,
            "linecolor": "white",
            "showbackground": true,
            "ticks": "",
            "zerolinecolor": "white"
           }
          },
          "shapedefaults": {
           "line": {
            "color": "#2a3f5f"
           }
          },
          "ternary": {
           "aaxis": {
            "gridcolor": "white",
            "linecolor": "white",
            "ticks": ""
           },
           "baxis": {
            "gridcolor": "white",
            "linecolor": "white",
            "ticks": ""
           },
           "bgcolor": "#E5ECF6",
           "caxis": {
            "gridcolor": "white",
            "linecolor": "white",
            "ticks": ""
           }
          },
          "title": {
           "x": 0.05
          },
          "xaxis": {
           "automargin": true,
           "gridcolor": "white",
           "linecolor": "white",
           "ticks": "",
           "title": {
            "standoff": 15
           },
           "zerolinecolor": "white",
           "zerolinewidth": 2
          },
          "yaxis": {
           "automargin": true,
           "gridcolor": "white",
           "linecolor": "white",
           "ticks": "",
           "title": {
            "standoff": 15
           },
           "zerolinecolor": "white",
           "zerolinewidth": 2
          }
         }
        },
        "xaxis": {
         "anchor": "y",
         "domain": [
          0,
          1
         ],
         "title": {
          "text": "x"
         }
        },
        "yaxis": {
         "anchor": "x",
         "domain": [
          0,
          1
         ],
         "title": {
          "text": "y"
         }
        }
       }
      }
     },
     "metadata": {},
     "output_type": "display_data"
    }
   ],
   "source": [
    "import plotly.graph_objs as go\n",
    "\n",
    "line_pts = pd.DataFrame({'x':[-1, 250]})\n",
    "\n",
    "fig = px.scatter(df, x='x', y='y')\n",
    "\n",
    "# Assuming lr is your linear regressor and Xtrain is your training data\n",
    "\n",
    "# Make predictions using the linear regressor\n",
    "y_pred = lr.predict(line_pts[['x']])\n",
    "print(y_pred)\n",
    "# Create a trace for the line\n",
    "line_trace = go.Scatter(\n",
    "    x=df['x'],\n",
    "    y=y_pred,\n",
    "    mode='lines',\n",
    "    name='Linear Regression Line'\n",
    ")\n",
    "\n",
    "# Add the trace to the figure\n",
    "fig.add_trace(line_trace)\n",
    "\n",
    "fig.show()"
   ]
  },
  {
   "cell_type": "markdown",
   "metadata": {},
   "source": [
    "## Step 6: Baseline Model"
   ]
  },
  {
   "cell_type": "code",
   "execution_count": null,
   "metadata": {
    "ExecuteTime": {
     "end_time": "2019-10-31T23:36:28.662099Z",
     "start_time": "2019-10-31T23:36:28.660016Z"
    }
   },
   "outputs": [],
   "source": [
    "# TODO"
   ]
  },
  {
   "cell_type": "markdown",
   "metadata": {},
   "source": [
    "## Step 7: Final Model"
   ]
  },
  {
   "cell_type": "code",
   "execution_count": null,
   "metadata": {
    "ExecuteTime": {
     "end_time": "2019-10-31T23:36:28.662099Z",
     "start_time": "2019-10-31T23:36:28.660016Z"
    }
   },
   "outputs": [],
   "source": [
    "# TODO"
   ]
  },
  {
   "cell_type": "markdown",
   "metadata": {},
   "source": [
    "## Step 8: Fairness Analysis"
   ]
  },
  {
   "cell_type": "code",
   "execution_count": null,
   "metadata": {
    "ExecuteTime": {
     "end_time": "2019-10-31T23:36:28.666489Z",
     "start_time": "2019-10-31T23:36:28.664381Z"
    }
   },
   "outputs": [],
   "source": [
    "# TODO"
   ]
  }
 ],
 "metadata": {
  "kernelspec": {
   "display_name": "Python 3 (ipykernel)",
   "language": "python",
   "name": "python3"
  },
  "language_info": {
   "codemirror_mode": {
    "name": "ipython",
    "version": 3
   },
   "file_extension": ".py",
   "mimetype": "text/x-python",
   "name": "python",
   "nbconvert_exporter": "python",
   "pygments_lexer": "ipython3",
   "version": "3.8.16"
  }
 },
 "nbformat": 4,
 "nbformat_minor": 2
}
