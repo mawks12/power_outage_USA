{
 "cells": [
  {
   "cell_type": "markdown",
   "metadata": {},
   "source": [
    "# Correlations and predictors in US Power outages\n",
    "\n",
    "**Name(s)**: Martin Hawks\n",
    "\n",
    "**Website Link**: https://mawks12.github.io/power_outage_USA/"
   ]
  },
  {
   "cell_type": "code",
   "execution_count": 1,
   "metadata": {
    "ExecuteTime": {
     "end_time": "2019-10-31T23:36:28.652554Z",
     "start_time": "2019-10-31T23:36:27.180520Z"
    }
   },
   "outputs": [],
   "source": [
    "import pandas as pd\n",
    "import numpy as np\n",
    "from pathlib import Path\n",
    "from scipy import stats\n",
    "import plotly.express as px\n",
    "pd.options.plotting.backend = 'plotly'\n",
    "dataloc = Path('data')\n",
    "data_raw = pd.read_excel(dataloc / 'outage.xlsx.xls')\n",
    "\n",
    "# from dsc80_utils import * # Feel free to uncomment and use this."
   ]
  },
  {
   "cell_type": "markdown",
   "metadata": {},
   "source": [
    "## Step 1: Introduction"
   ]
  },
  {
   "cell_type": "markdown",
   "metadata": {
    "ExecuteTime": {
     "end_time": "2019-10-31T23:36:28.657068Z",
     "start_time": "2019-10-31T23:36:28.654650Z"
    }
   },
   "source": [
    "I'm perticularly interested in the the number of weather related outaged over time, and if the effects of global warming can be seen in this dataset using the weather related outages as a proxy. I'm also interested in if there is a correlation between the population density of an area and things like outage duration and frequency. this is much harder to study since the data is grouped by state and not the locaiton where the outage occured."
   ]
  },
  {
   "cell_type": "markdown",
   "metadata": {},
   "source": [
    "## Step 2: Data Cleaning and Exploratory Data Analysis"
   ]
  },
  {
   "cell_type": "markdown",
   "metadata": {},
   "source": [
    "Format all of the data and modify time columns to encode all data in correct format for analysis."
   ]
  },
  {
   "cell_type": "code",
   "execution_count": 2,
   "metadata": {},
   "outputs": [
    {
     "name": "stderr",
     "output_type": "stream",
     "text": [
      "/Users/martinhawks/miniconda3/envs/dsc80/lib/python3.8/site-packages/pandas/core/indexing.py:1773: SettingWithCopyWarning: \n",
      "A value is trying to be set on a copy of a slice from a DataFrame.\n",
      "Try using .loc[row_indexer,col_indexer] = value instead\n",
      "\n",
      "See the caveats in the documentation: https://pandas.pydata.org/pandas-docs/stable/user_guide/indexing.html#returning-a-view-versus-a-copy\n",
      "  self._setitem_single_column(ilocs[0], value, pi)\n",
      "/Users/martinhawks/miniconda3/envs/dsc80/lib/python3.8/site-packages/pandas/core/indexing.py:1667: SettingWithCopyWarning: \n",
      "A value is trying to be set on a copy of a slice from a DataFrame.\n",
      "Try using .loc[row_indexer,col_indexer] = value instead\n",
      "\n",
      "See the caveats in the documentation: https://pandas.pydata.org/pandas-docs/stable/user_guide/indexing.html#returning-a-view-versus-a-copy\n",
      "  self.obj[key] = value\n"
     ]
    }
   ],
   "source": [
    "# create a new dataframe with the selected data\n",
    "formated_data = pd.DataFrame(data_raw.iloc[6:, 1:].to_numpy(), columns=data_raw.iloc[4, 1:])\n",
    "\n",
    "# drop rows with missing values in specific columns\n",
    "temp_data = formated_data.dropna(subset=['OBS', 'OUTAGE.START.DATE', 'OUTAGE.START.TIME', 'OUTAGE.RESTORATION.DATE', 'OUTAGE.RESTORATION.TIME'])\n",
    "\n",
    "# convert selected columns to string type\n",
    "cols_to_str = ['OUTAGE.START.DATE', 'OUTAGE.START.TIME', 'OUTAGE.RESTORATION.DATE', 'OUTAGE.RESTORATION.TIME']\n",
    "for col in cols_to_str:\n",
    "    temp_data.loc[:, col] = temp_data.loc[:, col].astype(str)\n",
    "\n",
    "# create new columns for outage start and end timestamps\n",
    "temp_data.loc[:, 'outageStart'] = pd.to_datetime(temp_data['OUTAGE.START.DATE'] + ' ' + temp_data['OUTAGE.START.TIME'])\n",
    "temp_data.loc[:, 'outageEnd'] = pd.to_datetime(temp_data['OUTAGE.RESTORATION.DATE'] + ' ' + temp_data['OUTAGE.RESTORATION.TIME'])\n",
    "\n",
    "# select specific columns from temp_data and merge with formated_data\n",
    "temp_data = temp_data[['OBS', 'outageStart', 'outageEnd']]\n",
    "formated_data = formated_data.merge(temp_data, left_on='OBS', right_on='OBS', how='left')\n",
    "\n",
    "# infer the data types of the columns in formated_data\n",
    "formated_data = formated_data.infer_objects()\n",
    "\n",
    "# calculate the percentage of utility real GSP relative to total real GSP\n",
    "formated_data['UTIL_REL_PERCEN'] = formated_data['UTIL.REALGSP'] / formated_data['TOTAL.REALGSP'] * 100"
   ]
  },
  {
   "cell_type": "markdown",
   "metadata": {},
   "source": [
    "Exploration of outages by state. The first is an absolute value, while the seccond is normalized against the number of people in the state."
   ]
  },
  {
   "cell_type": "code",
   "execution_count": 3,
   "metadata": {},
   "outputs": [
    {
     "data": {
      "application/vnd.plotly.v1+json": {
       "config": {
        "plotlyServerURL": "https://plot.ly"
       },
       "data": [
        {
         "alignmentgroup": "True",
         "hovertemplate": "POSTAL.CODE=%{x}<br>OBS=%{y}<extra></extra>",
         "legendgroup": "",
         "marker": {
          "color": "#636efa",
          "pattern": {
           "shape": ""
          }
         },
         "name": "",
         "offsetgroup": "",
         "orientation": "v",
         "showlegend": false,
         "textposition": "auto",
         "type": "bar",
         "x": [
          "AK",
          "AL",
          "AR",
          "AZ",
          "CA",
          "CO",
          "CT",
          "DC",
          "DE",
          "FL",
          "GA",
          "HI",
          "IA",
          "ID",
          "IL",
          "IN",
          "KS",
          "KY",
          "LA",
          "MA",
          "MD",
          "ME",
          "MI",
          "MN",
          "MO",
          "MS",
          "MT",
          "NC",
          "ND",
          "NE",
          "NH",
          "NJ",
          "NM",
          "NV",
          "NY",
          "OH",
          "OK",
          "OR",
          "PA",
          "SC",
          "SD",
          "TN",
          "TX",
          "UT",
          "VA",
          "VT",
          "WA",
          "WI",
          "WV",
          "WY"
         ],
         "xaxis": "x",
         "y": [
          1,
          6,
          25,
          28,
          210,
          15,
          18,
          10,
          41,
          45,
          17,
          5,
          8,
          9,
          46,
          43,
          9,
          13,
          40,
          18,
          58,
          19,
          95,
          15,
          17,
          4,
          3,
          40,
          2,
          4,
          14,
          35,
          8,
          7,
          71,
          43,
          24,
          26,
          57,
          8,
          2,
          34,
          127,
          41,
          37,
          9,
          97,
          20,
          4,
          6
         ],
         "yaxis": "y"
        }
       ],
       "layout": {
        "barmode": "relative",
        "legend": {
         "tracegroupgap": 0
        },
        "template": {
         "data": {
          "bar": [
           {
            "error_x": {
             "color": "#2a3f5f"
            },
            "error_y": {
             "color": "#2a3f5f"
            },
            "marker": {
             "line": {
              "color": "#E5ECF6",
              "width": 0.5
             },
             "pattern": {
              "fillmode": "overlay",
              "size": 10,
              "solidity": 0.2
             }
            },
            "type": "bar"
           }
          ],
          "barpolar": [
           {
            "marker": {
             "line": {
              "color": "#E5ECF6",
              "width": 0.5
             },
             "pattern": {
              "fillmode": "overlay",
              "size": 10,
              "solidity": 0.2
             }
            },
            "type": "barpolar"
           }
          ],
          "carpet": [
           {
            "aaxis": {
             "endlinecolor": "#2a3f5f",
             "gridcolor": "white",
             "linecolor": "white",
             "minorgridcolor": "white",
             "startlinecolor": "#2a3f5f"
            },
            "baxis": {
             "endlinecolor": "#2a3f5f",
             "gridcolor": "white",
             "linecolor": "white",
             "minorgridcolor": "white",
             "startlinecolor": "#2a3f5f"
            },
            "type": "carpet"
           }
          ],
          "choropleth": [
           {
            "colorbar": {
             "outlinewidth": 0,
             "ticks": ""
            },
            "type": "choropleth"
           }
          ],
          "contour": [
           {
            "colorbar": {
             "outlinewidth": 0,
             "ticks": ""
            },
            "colorscale": [
             [
              0,
              "#0d0887"
             ],
             [
              0.1111111111111111,
              "#46039f"
             ],
             [
              0.2222222222222222,
              "#7201a8"
             ],
             [
              0.3333333333333333,
              "#9c179e"
             ],
             [
              0.4444444444444444,
              "#bd3786"
             ],
             [
              0.5555555555555556,
              "#d8576b"
             ],
             [
              0.6666666666666666,
              "#ed7953"
             ],
             [
              0.7777777777777778,
              "#fb9f3a"
             ],
             [
              0.8888888888888888,
              "#fdca26"
             ],
             [
              1,
              "#f0f921"
             ]
            ],
            "type": "contour"
           }
          ],
          "contourcarpet": [
           {
            "colorbar": {
             "outlinewidth": 0,
             "ticks": ""
            },
            "type": "contourcarpet"
           }
          ],
          "heatmap": [
           {
            "colorbar": {
             "outlinewidth": 0,
             "ticks": ""
            },
            "colorscale": [
             [
              0,
              "#0d0887"
             ],
             [
              0.1111111111111111,
              "#46039f"
             ],
             [
              0.2222222222222222,
              "#7201a8"
             ],
             [
              0.3333333333333333,
              "#9c179e"
             ],
             [
              0.4444444444444444,
              "#bd3786"
             ],
             [
              0.5555555555555556,
              "#d8576b"
             ],
             [
              0.6666666666666666,
              "#ed7953"
             ],
             [
              0.7777777777777778,
              "#fb9f3a"
             ],
             [
              0.8888888888888888,
              "#fdca26"
             ],
             [
              1,
              "#f0f921"
             ]
            ],
            "type": "heatmap"
           }
          ],
          "heatmapgl": [
           {
            "colorbar": {
             "outlinewidth": 0,
             "ticks": ""
            },
            "colorscale": [
             [
              0,
              "#0d0887"
             ],
             [
              0.1111111111111111,
              "#46039f"
             ],
             [
              0.2222222222222222,
              "#7201a8"
             ],
             [
              0.3333333333333333,
              "#9c179e"
             ],
             [
              0.4444444444444444,
              "#bd3786"
             ],
             [
              0.5555555555555556,
              "#d8576b"
             ],
             [
              0.6666666666666666,
              "#ed7953"
             ],
             [
              0.7777777777777778,
              "#fb9f3a"
             ],
             [
              0.8888888888888888,
              "#fdca26"
             ],
             [
              1,
              "#f0f921"
             ]
            ],
            "type": "heatmapgl"
           }
          ],
          "histogram": [
           {
            "marker": {
             "pattern": {
              "fillmode": "overlay",
              "size": 10,
              "solidity": 0.2
             }
            },
            "type": "histogram"
           }
          ],
          "histogram2d": [
           {
            "colorbar": {
             "outlinewidth": 0,
             "ticks": ""
            },
            "colorscale": [
             [
              0,
              "#0d0887"
             ],
             [
              0.1111111111111111,
              "#46039f"
             ],
             [
              0.2222222222222222,
              "#7201a8"
             ],
             [
              0.3333333333333333,
              "#9c179e"
             ],
             [
              0.4444444444444444,
              "#bd3786"
             ],
             [
              0.5555555555555556,
              "#d8576b"
             ],
             [
              0.6666666666666666,
              "#ed7953"
             ],
             [
              0.7777777777777778,
              "#fb9f3a"
             ],
             [
              0.8888888888888888,
              "#fdca26"
             ],
             [
              1,
              "#f0f921"
             ]
            ],
            "type": "histogram2d"
           }
          ],
          "histogram2dcontour": [
           {
            "colorbar": {
             "outlinewidth": 0,
             "ticks": ""
            },
            "colorscale": [
             [
              0,
              "#0d0887"
             ],
             [
              0.1111111111111111,
              "#46039f"
             ],
             [
              0.2222222222222222,
              "#7201a8"
             ],
             [
              0.3333333333333333,
              "#9c179e"
             ],
             [
              0.4444444444444444,
              "#bd3786"
             ],
             [
              0.5555555555555556,
              "#d8576b"
             ],
             [
              0.6666666666666666,
              "#ed7953"
             ],
             [
              0.7777777777777778,
              "#fb9f3a"
             ],
             [
              0.8888888888888888,
              "#fdca26"
             ],
             [
              1,
              "#f0f921"
             ]
            ],
            "type": "histogram2dcontour"
           }
          ],
          "mesh3d": [
           {
            "colorbar": {
             "outlinewidth": 0,
             "ticks": ""
            },
            "type": "mesh3d"
           }
          ],
          "parcoords": [
           {
            "line": {
             "colorbar": {
              "outlinewidth": 0,
              "ticks": ""
             }
            },
            "type": "parcoords"
           }
          ],
          "pie": [
           {
            "automargin": true,
            "type": "pie"
           }
          ],
          "scatter": [
           {
            "fillpattern": {
             "fillmode": "overlay",
             "size": 10,
             "solidity": 0.2
            },
            "type": "scatter"
           }
          ],
          "scatter3d": [
           {
            "line": {
             "colorbar": {
              "outlinewidth": 0,
              "ticks": ""
             }
            },
            "marker": {
             "colorbar": {
              "outlinewidth": 0,
              "ticks": ""
             }
            },
            "type": "scatter3d"
           }
          ],
          "scattercarpet": [
           {
            "marker": {
             "colorbar": {
              "outlinewidth": 0,
              "ticks": ""
             }
            },
            "type": "scattercarpet"
           }
          ],
          "scattergeo": [
           {
            "marker": {
             "colorbar": {
              "outlinewidth": 0,
              "ticks": ""
             }
            },
            "type": "scattergeo"
           }
          ],
          "scattergl": [
           {
            "marker": {
             "colorbar": {
              "outlinewidth": 0,
              "ticks": ""
             }
            },
            "type": "scattergl"
           }
          ],
          "scattermapbox": [
           {
            "marker": {
             "colorbar": {
              "outlinewidth": 0,
              "ticks": ""
             }
            },
            "type": "scattermapbox"
           }
          ],
          "scatterpolar": [
           {
            "marker": {
             "colorbar": {
              "outlinewidth": 0,
              "ticks": ""
             }
            },
            "type": "scatterpolar"
           }
          ],
          "scatterpolargl": [
           {
            "marker": {
             "colorbar": {
              "outlinewidth": 0,
              "ticks": ""
             }
            },
            "type": "scatterpolargl"
           }
          ],
          "scatterternary": [
           {
            "marker": {
             "colorbar": {
              "outlinewidth": 0,
              "ticks": ""
             }
            },
            "type": "scatterternary"
           }
          ],
          "surface": [
           {
            "colorbar": {
             "outlinewidth": 0,
             "ticks": ""
            },
            "colorscale": [
             [
              0,
              "#0d0887"
             ],
             [
              0.1111111111111111,
              "#46039f"
             ],
             [
              0.2222222222222222,
              "#7201a8"
             ],
             [
              0.3333333333333333,
              "#9c179e"
             ],
             [
              0.4444444444444444,
              "#bd3786"
             ],
             [
              0.5555555555555556,
              "#d8576b"
             ],
             [
              0.6666666666666666,
              "#ed7953"
             ],
             [
              0.7777777777777778,
              "#fb9f3a"
             ],
             [
              0.8888888888888888,
              "#fdca26"
             ],
             [
              1,
              "#f0f921"
             ]
            ],
            "type": "surface"
           }
          ],
          "table": [
           {
            "cells": {
             "fill": {
              "color": "#EBF0F8"
             },
             "line": {
              "color": "white"
             }
            },
            "header": {
             "fill": {
              "color": "#C8D4E3"
             },
             "line": {
              "color": "white"
             }
            },
            "type": "table"
           }
          ]
         },
         "layout": {
          "annotationdefaults": {
           "arrowcolor": "#2a3f5f",
           "arrowhead": 0,
           "arrowwidth": 1
          },
          "autotypenumbers": "strict",
          "coloraxis": {
           "colorbar": {
            "outlinewidth": 0,
            "ticks": ""
           }
          },
          "colorscale": {
           "diverging": [
            [
             0,
             "#8e0152"
            ],
            [
             0.1,
             "#c51b7d"
            ],
            [
             0.2,
             "#de77ae"
            ],
            [
             0.3,
             "#f1b6da"
            ],
            [
             0.4,
             "#fde0ef"
            ],
            [
             0.5,
             "#f7f7f7"
            ],
            [
             0.6,
             "#e6f5d0"
            ],
            [
             0.7,
             "#b8e186"
            ],
            [
             0.8,
             "#7fbc41"
            ],
            [
             0.9,
             "#4d9221"
            ],
            [
             1,
             "#276419"
            ]
           ],
           "sequential": [
            [
             0,
             "#0d0887"
            ],
            [
             0.1111111111111111,
             "#46039f"
            ],
            [
             0.2222222222222222,
             "#7201a8"
            ],
            [
             0.3333333333333333,
             "#9c179e"
            ],
            [
             0.4444444444444444,
             "#bd3786"
            ],
            [
             0.5555555555555556,
             "#d8576b"
            ],
            [
             0.6666666666666666,
             "#ed7953"
            ],
            [
             0.7777777777777778,
             "#fb9f3a"
            ],
            [
             0.8888888888888888,
             "#fdca26"
            ],
            [
             1,
             "#f0f921"
            ]
           ],
           "sequentialminus": [
            [
             0,
             "#0d0887"
            ],
            [
             0.1111111111111111,
             "#46039f"
            ],
            [
             0.2222222222222222,
             "#7201a8"
            ],
            [
             0.3333333333333333,
             "#9c179e"
            ],
            [
             0.4444444444444444,
             "#bd3786"
            ],
            [
             0.5555555555555556,
             "#d8576b"
            ],
            [
             0.6666666666666666,
             "#ed7953"
            ],
            [
             0.7777777777777778,
             "#fb9f3a"
            ],
            [
             0.8888888888888888,
             "#fdca26"
            ],
            [
             1,
             "#f0f921"
            ]
           ]
          },
          "colorway": [
           "#636efa",
           "#EF553B",
           "#00cc96",
           "#ab63fa",
           "#FFA15A",
           "#19d3f3",
           "#FF6692",
           "#B6E880",
           "#FF97FF",
           "#FECB52"
          ],
          "font": {
           "color": "#2a3f5f"
          },
          "geo": {
           "bgcolor": "white",
           "lakecolor": "white",
           "landcolor": "#E5ECF6",
           "showlakes": true,
           "showland": true,
           "subunitcolor": "white"
          },
          "hoverlabel": {
           "align": "left"
          },
          "hovermode": "closest",
          "mapbox": {
           "style": "light"
          },
          "paper_bgcolor": "white",
          "plot_bgcolor": "#E5ECF6",
          "polar": {
           "angularaxis": {
            "gridcolor": "white",
            "linecolor": "white",
            "ticks": ""
           },
           "bgcolor": "#E5ECF6",
           "radialaxis": {
            "gridcolor": "white",
            "linecolor": "white",
            "ticks": ""
           }
          },
          "scene": {
           "xaxis": {
            "backgroundcolor": "#E5ECF6",
            "gridcolor": "white",
            "gridwidth": 2,
            "linecolor": "white",
            "showbackground": true,
            "ticks": "",
            "zerolinecolor": "white"
           },
           "yaxis": {
            "backgroundcolor": "#E5ECF6",
            "gridcolor": "white",
            "gridwidth": 2,
            "linecolor": "white",
            "showbackground": true,
            "ticks": "",
            "zerolinecolor": "white"
           },
           "zaxis": {
            "backgroundcolor": "#E5ECF6",
            "gridcolor": "white",
            "gridwidth": 2,
            "linecolor": "white",
            "showbackground": true,
            "ticks": "",
            "zerolinecolor": "white"
           }
          },
          "shapedefaults": {
           "line": {
            "color": "#2a3f5f"
           }
          },
          "ternary": {
           "aaxis": {
            "gridcolor": "white",
            "linecolor": "white",
            "ticks": ""
           },
           "baxis": {
            "gridcolor": "white",
            "linecolor": "white",
            "ticks": ""
           },
           "bgcolor": "#E5ECF6",
           "caxis": {
            "gridcolor": "white",
            "linecolor": "white",
            "ticks": ""
           }
          },
          "title": {
           "x": 0.05
          },
          "xaxis": {
           "automargin": true,
           "gridcolor": "white",
           "linecolor": "white",
           "ticks": "",
           "title": {
            "standoff": 15
           },
           "zerolinecolor": "white",
           "zerolinewidth": 2
          },
          "yaxis": {
           "automargin": true,
           "gridcolor": "white",
           "linecolor": "white",
           "ticks": "",
           "title": {
            "standoff": 15
           },
           "zerolinecolor": "white",
           "zerolinewidth": 2
          }
         }
        },
        "title": {
         "text": "State Outages"
        },
        "xaxis": {
         "anchor": "y",
         "domain": [
          0,
          1
         ],
         "title": {
          "text": "POSTAL.CODE"
         }
        },
        "yaxis": {
         "anchor": "x",
         "domain": [
          0,
          1
         ],
         "title": {
          "text": "OBS"
         }
        }
       }
      }
     },
     "metadata": {},
     "output_type": "display_data"
    }
   ],
   "source": [
    "state = formated_data.groupby('POSTAL.CODE').count().reset_index()\n",
    "px.bar(state, x='POSTAL.CODE', y='OBS', title='State Outages')"
   ]
  },
  {
   "cell_type": "code",
   "execution_count": 4,
   "metadata": {},
   "outputs": [],
   "source": [
    "capita = formated_data.groupby('POSTAL.CODE')['OBS'].count()\n",
    "pop = formated_data.groupby('POSTAL.CODE')['POPULATION'].mean()\n",
    "capita = capita / pop  # calculate the number of outages per capita"
   ]
  },
  {
   "cell_type": "code",
   "execution_count": 5,
   "metadata": {},
   "outputs": [
    {
     "data": {
      "application/vnd.plotly.v1+json": {
       "config": {
        "plotlyServerURL": "https://plot.ly"
       },
       "data": [
        {
         "alignmentgroup": "True",
         "hovertemplate": "variable=0<br>POSTAL.CODE=%{x}<br>value=%{y}<extra></extra>",
         "legendgroup": "0",
         "marker": {
          "color": "#636efa",
          "pattern": {
           "shape": ""
          }
         },
         "name": "0",
         "offsetgroup": "0",
         "orientation": "v",
         "showlegend": true,
         "textposition": "auto",
         "type": "bar",
         "x": [
          "AK",
          "AL",
          "AR",
          "AZ",
          "CA",
          "CO",
          "CT",
          "DC",
          "DE",
          "FL",
          "GA",
          "HI",
          "IA",
          "ID",
          "IL",
          "IN",
          "KS",
          "KY",
          "LA",
          "MA",
          "MD",
          "ME",
          "MI",
          "MN",
          "MO",
          "MS",
          "MT",
          "NC",
          "ND",
          "NE",
          "NH",
          "NJ",
          "NM",
          "NV",
          "NY",
          "OH",
          "OK",
          "OR",
          "PA",
          "SC",
          "SD",
          "TN",
          "TX",
          "UT",
          "VA",
          "VT",
          "WA",
          "WI",
          "WV",
          "WY"
         ],
         "xaxis": "x",
         "y": [
          0.0000015924505106192563,
          0.0000012906722186605248,
          0.000008547988599472382,
          0.000004429502507092769,
          0.000005653516017503122,
          0.000002936263123628031,
          0.000005043045977356786,
          0.000016079543572507968,
          0.00004460245665873684,
          0.0000024867381670243635,
          0.0000018091535897466541,
          0.0000037652683514284596,
          0.000002610916953626158,
          0.000005693124561067125,
          0.0000036046847511963027,
          0.0000066363912988159656,
          0.0000031553432758329803,
          0.000003000797874866906,
          0.000008802204388858328,
          0.000002715130244295017,
          0.00000999390490634303,
          0.000014331645309008337,
          0.00000955517780246798,
          0.0000028009033847050136,
          0.0000028348334326914657,
          0.0000013381038967425365,
          0.000002971967412707538,
          0.000004249456278085354,
          0.0000029968203735836277,
          0.000002238242442504448,
          0.00001061147372092896,
          0.0000039577369521828935,
          0.000003895945148988247,
          0.000002504107374897734,
          0.000003648470814133355,
          0.0000037320580978950484,
          0.000006331559430440614,
          0.000006625946111101865,
          0.00000449573667796401,
          0.0000017962138674390236,
          0.0000024781090045807843,
          0.000005236837730462708,
          0.000005045555964743988,
          0.000014167661795308741,
          0.000004671548014619222,
          0.00001436358671173168,
          0.000014141543841043383,
          0.0000035078690535634245,
          0.0000021605723896403254,
          0.000010507374863732482
         ],
         "yaxis": "y"
        }
       ],
       "layout": {
        "barmode": "relative",
        "legend": {
         "title": {
          "text": "variable"
         },
         "tracegroupgap": 0
        },
        "template": {
         "data": {
          "bar": [
           {
            "error_x": {
             "color": "#2a3f5f"
            },
            "error_y": {
             "color": "#2a3f5f"
            },
            "marker": {
             "line": {
              "color": "#E5ECF6",
              "width": 0.5
             },
             "pattern": {
              "fillmode": "overlay",
              "size": 10,
              "solidity": 0.2
             }
            },
            "type": "bar"
           }
          ],
          "barpolar": [
           {
            "marker": {
             "line": {
              "color": "#E5ECF6",
              "width": 0.5
             },
             "pattern": {
              "fillmode": "overlay",
              "size": 10,
              "solidity": 0.2
             }
            },
            "type": "barpolar"
           }
          ],
          "carpet": [
           {
            "aaxis": {
             "endlinecolor": "#2a3f5f",
             "gridcolor": "white",
             "linecolor": "white",
             "minorgridcolor": "white",
             "startlinecolor": "#2a3f5f"
            },
            "baxis": {
             "endlinecolor": "#2a3f5f",
             "gridcolor": "white",
             "linecolor": "white",
             "minorgridcolor": "white",
             "startlinecolor": "#2a3f5f"
            },
            "type": "carpet"
           }
          ],
          "choropleth": [
           {
            "colorbar": {
             "outlinewidth": 0,
             "ticks": ""
            },
            "type": "choropleth"
           }
          ],
          "contour": [
           {
            "colorbar": {
             "outlinewidth": 0,
             "ticks": ""
            },
            "colorscale": [
             [
              0,
              "#0d0887"
             ],
             [
              0.1111111111111111,
              "#46039f"
             ],
             [
              0.2222222222222222,
              "#7201a8"
             ],
             [
              0.3333333333333333,
              "#9c179e"
             ],
             [
              0.4444444444444444,
              "#bd3786"
             ],
             [
              0.5555555555555556,
              "#d8576b"
             ],
             [
              0.6666666666666666,
              "#ed7953"
             ],
             [
              0.7777777777777778,
              "#fb9f3a"
             ],
             [
              0.8888888888888888,
              "#fdca26"
             ],
             [
              1,
              "#f0f921"
             ]
            ],
            "type": "contour"
           }
          ],
          "contourcarpet": [
           {
            "colorbar": {
             "outlinewidth": 0,
             "ticks": ""
            },
            "type": "contourcarpet"
           }
          ],
          "heatmap": [
           {
            "colorbar": {
             "outlinewidth": 0,
             "ticks": ""
            },
            "colorscale": [
             [
              0,
              "#0d0887"
             ],
             [
              0.1111111111111111,
              "#46039f"
             ],
             [
              0.2222222222222222,
              "#7201a8"
             ],
             [
              0.3333333333333333,
              "#9c179e"
             ],
             [
              0.4444444444444444,
              "#bd3786"
             ],
             [
              0.5555555555555556,
              "#d8576b"
             ],
             [
              0.6666666666666666,
              "#ed7953"
             ],
             [
              0.7777777777777778,
              "#fb9f3a"
             ],
             [
              0.8888888888888888,
              "#fdca26"
             ],
             [
              1,
              "#f0f921"
             ]
            ],
            "type": "heatmap"
           }
          ],
          "heatmapgl": [
           {
            "colorbar": {
             "outlinewidth": 0,
             "ticks": ""
            },
            "colorscale": [
             [
              0,
              "#0d0887"
             ],
             [
              0.1111111111111111,
              "#46039f"
             ],
             [
              0.2222222222222222,
              "#7201a8"
             ],
             [
              0.3333333333333333,
              "#9c179e"
             ],
             [
              0.4444444444444444,
              "#bd3786"
             ],
             [
              0.5555555555555556,
              "#d8576b"
             ],
             [
              0.6666666666666666,
              "#ed7953"
             ],
             [
              0.7777777777777778,
              "#fb9f3a"
             ],
             [
              0.8888888888888888,
              "#fdca26"
             ],
             [
              1,
              "#f0f921"
             ]
            ],
            "type": "heatmapgl"
           }
          ],
          "histogram": [
           {
            "marker": {
             "pattern": {
              "fillmode": "overlay",
              "size": 10,
              "solidity": 0.2
             }
            },
            "type": "histogram"
           }
          ],
          "histogram2d": [
           {
            "colorbar": {
             "outlinewidth": 0,
             "ticks": ""
            },
            "colorscale": [
             [
              0,
              "#0d0887"
             ],
             [
              0.1111111111111111,
              "#46039f"
             ],
             [
              0.2222222222222222,
              "#7201a8"
             ],
             [
              0.3333333333333333,
              "#9c179e"
             ],
             [
              0.4444444444444444,
              "#bd3786"
             ],
             [
              0.5555555555555556,
              "#d8576b"
             ],
             [
              0.6666666666666666,
              "#ed7953"
             ],
             [
              0.7777777777777778,
              "#fb9f3a"
             ],
             [
              0.8888888888888888,
              "#fdca26"
             ],
             [
              1,
              "#f0f921"
             ]
            ],
            "type": "histogram2d"
           }
          ],
          "histogram2dcontour": [
           {
            "colorbar": {
             "outlinewidth": 0,
             "ticks": ""
            },
            "colorscale": [
             [
              0,
              "#0d0887"
             ],
             [
              0.1111111111111111,
              "#46039f"
             ],
             [
              0.2222222222222222,
              "#7201a8"
             ],
             [
              0.3333333333333333,
              "#9c179e"
             ],
             [
              0.4444444444444444,
              "#bd3786"
             ],
             [
              0.5555555555555556,
              "#d8576b"
             ],
             [
              0.6666666666666666,
              "#ed7953"
             ],
             [
              0.7777777777777778,
              "#fb9f3a"
             ],
             [
              0.8888888888888888,
              "#fdca26"
             ],
             [
              1,
              "#f0f921"
             ]
            ],
            "type": "histogram2dcontour"
           }
          ],
          "mesh3d": [
           {
            "colorbar": {
             "outlinewidth": 0,
             "ticks": ""
            },
            "type": "mesh3d"
           }
          ],
          "parcoords": [
           {
            "line": {
             "colorbar": {
              "outlinewidth": 0,
              "ticks": ""
             }
            },
            "type": "parcoords"
           }
          ],
          "pie": [
           {
            "automargin": true,
            "type": "pie"
           }
          ],
          "scatter": [
           {
            "fillpattern": {
             "fillmode": "overlay",
             "size": 10,
             "solidity": 0.2
            },
            "type": "scatter"
           }
          ],
          "scatter3d": [
           {
            "line": {
             "colorbar": {
              "outlinewidth": 0,
              "ticks": ""
             }
            },
            "marker": {
             "colorbar": {
              "outlinewidth": 0,
              "ticks": ""
             }
            },
            "type": "scatter3d"
           }
          ],
          "scattercarpet": [
           {
            "marker": {
             "colorbar": {
              "outlinewidth": 0,
              "ticks": ""
             }
            },
            "type": "scattercarpet"
           }
          ],
          "scattergeo": [
           {
            "marker": {
             "colorbar": {
              "outlinewidth": 0,
              "ticks": ""
             }
            },
            "type": "scattergeo"
           }
          ],
          "scattergl": [
           {
            "marker": {
             "colorbar": {
              "outlinewidth": 0,
              "ticks": ""
             }
            },
            "type": "scattergl"
           }
          ],
          "scattermapbox": [
           {
            "marker": {
             "colorbar": {
              "outlinewidth": 0,
              "ticks": ""
             }
            },
            "type": "scattermapbox"
           }
          ],
          "scatterpolar": [
           {
            "marker": {
             "colorbar": {
              "outlinewidth": 0,
              "ticks": ""
             }
            },
            "type": "scatterpolar"
           }
          ],
          "scatterpolargl": [
           {
            "marker": {
             "colorbar": {
              "outlinewidth": 0,
              "ticks": ""
             }
            },
            "type": "scatterpolargl"
           }
          ],
          "scatterternary": [
           {
            "marker": {
             "colorbar": {
              "outlinewidth": 0,
              "ticks": ""
             }
            },
            "type": "scatterternary"
           }
          ],
          "surface": [
           {
            "colorbar": {
             "outlinewidth": 0,
             "ticks": ""
            },
            "colorscale": [
             [
              0,
              "#0d0887"
             ],
             [
              0.1111111111111111,
              "#46039f"
             ],
             [
              0.2222222222222222,
              "#7201a8"
             ],
             [
              0.3333333333333333,
              "#9c179e"
             ],
             [
              0.4444444444444444,
              "#bd3786"
             ],
             [
              0.5555555555555556,
              "#d8576b"
             ],
             [
              0.6666666666666666,
              "#ed7953"
             ],
             [
              0.7777777777777778,
              "#fb9f3a"
             ],
             [
              0.8888888888888888,
              "#fdca26"
             ],
             [
              1,
              "#f0f921"
             ]
            ],
            "type": "surface"
           }
          ],
          "table": [
           {
            "cells": {
             "fill": {
              "color": "#EBF0F8"
             },
             "line": {
              "color": "white"
             }
            },
            "header": {
             "fill": {
              "color": "#C8D4E3"
             },
             "line": {
              "color": "white"
             }
            },
            "type": "table"
           }
          ]
         },
         "layout": {
          "annotationdefaults": {
           "arrowcolor": "#2a3f5f",
           "arrowhead": 0,
           "arrowwidth": 1
          },
          "autotypenumbers": "strict",
          "coloraxis": {
           "colorbar": {
            "outlinewidth": 0,
            "ticks": ""
           }
          },
          "colorscale": {
           "diverging": [
            [
             0,
             "#8e0152"
            ],
            [
             0.1,
             "#c51b7d"
            ],
            [
             0.2,
             "#de77ae"
            ],
            [
             0.3,
             "#f1b6da"
            ],
            [
             0.4,
             "#fde0ef"
            ],
            [
             0.5,
             "#f7f7f7"
            ],
            [
             0.6,
             "#e6f5d0"
            ],
            [
             0.7,
             "#b8e186"
            ],
            [
             0.8,
             "#7fbc41"
            ],
            [
             0.9,
             "#4d9221"
            ],
            [
             1,
             "#276419"
            ]
           ],
           "sequential": [
            [
             0,
             "#0d0887"
            ],
            [
             0.1111111111111111,
             "#46039f"
            ],
            [
             0.2222222222222222,
             "#7201a8"
            ],
            [
             0.3333333333333333,
             "#9c179e"
            ],
            [
             0.4444444444444444,
             "#bd3786"
            ],
            [
             0.5555555555555556,
             "#d8576b"
            ],
            [
             0.6666666666666666,
             "#ed7953"
            ],
            [
             0.7777777777777778,
             "#fb9f3a"
            ],
            [
             0.8888888888888888,
             "#fdca26"
            ],
            [
             1,
             "#f0f921"
            ]
           ],
           "sequentialminus": [
            [
             0,
             "#0d0887"
            ],
            [
             0.1111111111111111,
             "#46039f"
            ],
            [
             0.2222222222222222,
             "#7201a8"
            ],
            [
             0.3333333333333333,
             "#9c179e"
            ],
            [
             0.4444444444444444,
             "#bd3786"
            ],
            [
             0.5555555555555556,
             "#d8576b"
            ],
            [
             0.6666666666666666,
             "#ed7953"
            ],
            [
             0.7777777777777778,
             "#fb9f3a"
            ],
            [
             0.8888888888888888,
             "#fdca26"
            ],
            [
             1,
             "#f0f921"
            ]
           ]
          },
          "colorway": [
           "#636efa",
           "#EF553B",
           "#00cc96",
           "#ab63fa",
           "#FFA15A",
           "#19d3f3",
           "#FF6692",
           "#B6E880",
           "#FF97FF",
           "#FECB52"
          ],
          "font": {
           "color": "#2a3f5f"
          },
          "geo": {
           "bgcolor": "white",
           "lakecolor": "white",
           "landcolor": "#E5ECF6",
           "showlakes": true,
           "showland": true,
           "subunitcolor": "white"
          },
          "hoverlabel": {
           "align": "left"
          },
          "hovermode": "closest",
          "mapbox": {
           "style": "light"
          },
          "paper_bgcolor": "white",
          "plot_bgcolor": "#E5ECF6",
          "polar": {
           "angularaxis": {
            "gridcolor": "white",
            "linecolor": "white",
            "ticks": ""
           },
           "bgcolor": "#E5ECF6",
           "radialaxis": {
            "gridcolor": "white",
            "linecolor": "white",
            "ticks": ""
           }
          },
          "scene": {
           "xaxis": {
            "backgroundcolor": "#E5ECF6",
            "gridcolor": "white",
            "gridwidth": 2,
            "linecolor": "white",
            "showbackground": true,
            "ticks": "",
            "zerolinecolor": "white"
           },
           "yaxis": {
            "backgroundcolor": "#E5ECF6",
            "gridcolor": "white",
            "gridwidth": 2,
            "linecolor": "white",
            "showbackground": true,
            "ticks": "",
            "zerolinecolor": "white"
           },
           "zaxis": {
            "backgroundcolor": "#E5ECF6",
            "gridcolor": "white",
            "gridwidth": 2,
            "linecolor": "white",
            "showbackground": true,
            "ticks": "",
            "zerolinecolor": "white"
           }
          },
          "shapedefaults": {
           "line": {
            "color": "#2a3f5f"
           }
          },
          "ternary": {
           "aaxis": {
            "gridcolor": "white",
            "linecolor": "white",
            "ticks": ""
           },
           "baxis": {
            "gridcolor": "white",
            "linecolor": "white",
            "ticks": ""
           },
           "bgcolor": "#E5ECF6",
           "caxis": {
            "gridcolor": "white",
            "linecolor": "white",
            "ticks": ""
           }
          },
          "title": {
           "x": 0.05
          },
          "xaxis": {
           "automargin": true,
           "gridcolor": "white",
           "linecolor": "white",
           "ticks": "",
           "title": {
            "standoff": 15
           },
           "zerolinecolor": "white",
           "zerolinewidth": 2
          },
          "yaxis": {
           "automargin": true,
           "gridcolor": "white",
           "linecolor": "white",
           "ticks": "",
           "title": {
            "standoff": 15
           },
           "zerolinecolor": "white",
           "zerolinewidth": 2
          }
         }
        },
        "title": {
         "text": "Outages per Capita"
        },
        "xaxis": {
         "anchor": "y",
         "domain": [
          0,
          1
         ],
         "title": {
          "text": "POSTAL.CODE"
         }
        },
        "yaxis": {
         "anchor": "x",
         "domain": [
          0,
          1
         ],
         "title": {
          "text": "value"
         }
        }
       }
      }
     },
     "metadata": {},
     "output_type": "display_data"
    }
   ],
   "source": [
    "px.bar(capita, x=capita.index, y=[0], title='Outages per Capita')"
   ]
  },
  {
   "cell_type": "code",
   "execution_count": 6,
   "metadata": {},
   "outputs": [
    {
     "data": {
      "text/plain": [
       "3.92684105058557e-06"
      ]
     },
     "execution_count": 6,
     "metadata": {},
     "output_type": "execute_result"
    }
   ],
   "source": [
    "capita.median()"
   ]
  },
  {
   "cell_type": "code",
   "execution_count": 7,
   "metadata": {},
   "outputs": [
    {
     "data": {
      "text/plain": [
       "5.723815787163536"
      ]
     },
     "execution_count": 7,
     "metadata": {},
     "output_type": "execute_result"
    }
   ],
   "source": [
    "zcap = pd.Series(index=capita.index, data=stats.zscore(capita))\n",
    "delz = zcap.loc['DE']\n",
    "delz  # compare the number of outages per capita in Delaware to the national average"
   ]
  },
  {
   "cell_type": "markdown",
   "metadata": {},
   "source": [
    "Deleware is very interesting here, as it has more than 6 times the mean, and more than twice the number per capita as the seccond highest value. Why might this be?"
   ]
  },
  {
   "cell_type": "code",
   "execution_count": 8,
   "metadata": {},
   "outputs": [
    {
     "data": {
      "text/plain": [
       "(41, 919231.8780487805)"
      ]
     },
     "execution_count": 8,
     "metadata": {},
     "output_type": "execute_result"
    }
   ],
   "source": [
    "# Look at the number of outages in Delaware vs the national average\n",
    "formated_data[formated_data['POSTAL.CODE'] == 'DE'].shape[0], formated_data[formated_data['POSTAL.CODE'] == 'DE']['POPULATION'].mean()"
   ]
  },
  {
   "cell_type": "markdown",
   "metadata": {},
   "source": [
    "The number of outages seems fairly standard comparted to the average values of the total numbers above - perhaps deleware has a significantly lower population than other states"
   ]
  },
  {
   "cell_type": "code",
   "execution_count": 9,
   "metadata": {},
   "outputs": [
    {
     "data": {
      "application/vnd.plotly.v1+json": {
       "config": {
        "plotlyServerURL": "https://plot.ly"
       },
       "data": [
        {
         "alignmentgroup": "True",
         "hovertemplate": "POSTAL.CODE=%{x}<br>POPULATION=%{y}<extra></extra>",
         "legendgroup": "",
         "marker": {
          "color": "#636efa",
          "pattern": {
           "shape": ""
          }
         },
         "name": "",
         "offsetgroup": "",
         "orientation": "v",
         "showlegend": false,
         "textposition": "auto",
         "type": "bar",
         "x": [
          "AK",
          "AL",
          "AR",
          "AZ",
          "CA",
          "CO",
          "CT",
          "DC",
          "DE",
          "FL",
          "GA",
          "HI",
          "IA",
          "ID",
          "IL",
          "IN",
          "KS",
          "KY",
          "LA",
          "MA",
          "MD",
          "ME",
          "MI",
          "MN",
          "MO",
          "MS",
          "MT",
          "NC",
          "ND",
          "NE",
          "NH",
          "NJ",
          "NM",
          "NV",
          "NY",
          "OH",
          "OK",
          "OR",
          "PA",
          "SC",
          "SD",
          "TN",
          "TX",
          "UT",
          "VA",
          "VT",
          "WA",
          "WI",
          "WV",
          "WY"
         ],
         "xaxis": "x",
         "y": [
          627963,
          4648740.333333333,
          2924664.64,
          6321251.642857143,
          37145026.0952381,
          5108534,
          3569271.4444444445,
          621908.2,
          919231.8780487805,
          18095994.422222223,
          9396659.352941176,
          1327926.6,
          3064057.625,
          1580854.2222222222,
          12761171.413043479,
          6479425.046511628,
          2852304.5555555555,
          4332181.153846154,
          4544316.2,
          6629516.222222222,
          5803537.310344827,
          1325737.5263157894,
          9942253.505263157,
          5355415,
          5996825,
          2989304.5,
          1009432.3333333334,
          9412968.95,
          667374,
          1787116.5,
          1319326.642857143,
          8843437.657142857,
          2053417,
          2795407.285714286,
          19460207.746478874,
          11521792.767441861,
          3790535.375,
          3923967.923076923,
          12678678.50877193,
          4453812.625,
          807067,
          6492467.735294118,
          25170665.212598424,
          2893914.3658536584,
          7920286.783783784,
          626584.4444444445,
          6859222.804123712,
          5701467.1,
          1851361.25,
          571027.5
         ],
         "yaxis": "y"
        }
       ],
       "layout": {
        "barmode": "relative",
        "legend": {
         "tracegroupgap": 0
        },
        "margin": {
         "t": 60
        },
        "template": {
         "data": {
          "bar": [
           {
            "error_x": {
             "color": "#2a3f5f"
            },
            "error_y": {
             "color": "#2a3f5f"
            },
            "marker": {
             "line": {
              "color": "#E5ECF6",
              "width": 0.5
             },
             "pattern": {
              "fillmode": "overlay",
              "size": 10,
              "solidity": 0.2
             }
            },
            "type": "bar"
           }
          ],
          "barpolar": [
           {
            "marker": {
             "line": {
              "color": "#E5ECF6",
              "width": 0.5
             },
             "pattern": {
              "fillmode": "overlay",
              "size": 10,
              "solidity": 0.2
             }
            },
            "type": "barpolar"
           }
          ],
          "carpet": [
           {
            "aaxis": {
             "endlinecolor": "#2a3f5f",
             "gridcolor": "white",
             "linecolor": "white",
             "minorgridcolor": "white",
             "startlinecolor": "#2a3f5f"
            },
            "baxis": {
             "endlinecolor": "#2a3f5f",
             "gridcolor": "white",
             "linecolor": "white",
             "minorgridcolor": "white",
             "startlinecolor": "#2a3f5f"
            },
            "type": "carpet"
           }
          ],
          "choropleth": [
           {
            "colorbar": {
             "outlinewidth": 0,
             "ticks": ""
            },
            "type": "choropleth"
           }
          ],
          "contour": [
           {
            "colorbar": {
             "outlinewidth": 0,
             "ticks": ""
            },
            "colorscale": [
             [
              0,
              "#0d0887"
             ],
             [
              0.1111111111111111,
              "#46039f"
             ],
             [
              0.2222222222222222,
              "#7201a8"
             ],
             [
              0.3333333333333333,
              "#9c179e"
             ],
             [
              0.4444444444444444,
              "#bd3786"
             ],
             [
              0.5555555555555556,
              "#d8576b"
             ],
             [
              0.6666666666666666,
              "#ed7953"
             ],
             [
              0.7777777777777778,
              "#fb9f3a"
             ],
             [
              0.8888888888888888,
              "#fdca26"
             ],
             [
              1,
              "#f0f921"
             ]
            ],
            "type": "contour"
           }
          ],
          "contourcarpet": [
           {
            "colorbar": {
             "outlinewidth": 0,
             "ticks": ""
            },
            "type": "contourcarpet"
           }
          ],
          "heatmap": [
           {
            "colorbar": {
             "outlinewidth": 0,
             "ticks": ""
            },
            "colorscale": [
             [
              0,
              "#0d0887"
             ],
             [
              0.1111111111111111,
              "#46039f"
             ],
             [
              0.2222222222222222,
              "#7201a8"
             ],
             [
              0.3333333333333333,
              "#9c179e"
             ],
             [
              0.4444444444444444,
              "#bd3786"
             ],
             [
              0.5555555555555556,
              "#d8576b"
             ],
             [
              0.6666666666666666,
              "#ed7953"
             ],
             [
              0.7777777777777778,
              "#fb9f3a"
             ],
             [
              0.8888888888888888,
              "#fdca26"
             ],
             [
              1,
              "#f0f921"
             ]
            ],
            "type": "heatmap"
           }
          ],
          "heatmapgl": [
           {
            "colorbar": {
             "outlinewidth": 0,
             "ticks": ""
            },
            "colorscale": [
             [
              0,
              "#0d0887"
             ],
             [
              0.1111111111111111,
              "#46039f"
             ],
             [
              0.2222222222222222,
              "#7201a8"
             ],
             [
              0.3333333333333333,
              "#9c179e"
             ],
             [
              0.4444444444444444,
              "#bd3786"
             ],
             [
              0.5555555555555556,
              "#d8576b"
             ],
             [
              0.6666666666666666,
              "#ed7953"
             ],
             [
              0.7777777777777778,
              "#fb9f3a"
             ],
             [
              0.8888888888888888,
              "#fdca26"
             ],
             [
              1,
              "#f0f921"
             ]
            ],
            "type": "heatmapgl"
           }
          ],
          "histogram": [
           {
            "marker": {
             "pattern": {
              "fillmode": "overlay",
              "size": 10,
              "solidity": 0.2
             }
            },
            "type": "histogram"
           }
          ],
          "histogram2d": [
           {
            "colorbar": {
             "outlinewidth": 0,
             "ticks": ""
            },
            "colorscale": [
             [
              0,
              "#0d0887"
             ],
             [
              0.1111111111111111,
              "#46039f"
             ],
             [
              0.2222222222222222,
              "#7201a8"
             ],
             [
              0.3333333333333333,
              "#9c179e"
             ],
             [
              0.4444444444444444,
              "#bd3786"
             ],
             [
              0.5555555555555556,
              "#d8576b"
             ],
             [
              0.6666666666666666,
              "#ed7953"
             ],
             [
              0.7777777777777778,
              "#fb9f3a"
             ],
             [
              0.8888888888888888,
              "#fdca26"
             ],
             [
              1,
              "#f0f921"
             ]
            ],
            "type": "histogram2d"
           }
          ],
          "histogram2dcontour": [
           {
            "colorbar": {
             "outlinewidth": 0,
             "ticks": ""
            },
            "colorscale": [
             [
              0,
              "#0d0887"
             ],
             [
              0.1111111111111111,
              "#46039f"
             ],
             [
              0.2222222222222222,
              "#7201a8"
             ],
             [
              0.3333333333333333,
              "#9c179e"
             ],
             [
              0.4444444444444444,
              "#bd3786"
             ],
             [
              0.5555555555555556,
              "#d8576b"
             ],
             [
              0.6666666666666666,
              "#ed7953"
             ],
             [
              0.7777777777777778,
              "#fb9f3a"
             ],
             [
              0.8888888888888888,
              "#fdca26"
             ],
             [
              1,
              "#f0f921"
             ]
            ],
            "type": "histogram2dcontour"
           }
          ],
          "mesh3d": [
           {
            "colorbar": {
             "outlinewidth": 0,
             "ticks": ""
            },
            "type": "mesh3d"
           }
          ],
          "parcoords": [
           {
            "line": {
             "colorbar": {
              "outlinewidth": 0,
              "ticks": ""
             }
            },
            "type": "parcoords"
           }
          ],
          "pie": [
           {
            "automargin": true,
            "type": "pie"
           }
          ],
          "scatter": [
           {
            "fillpattern": {
             "fillmode": "overlay",
             "size": 10,
             "solidity": 0.2
            },
            "type": "scatter"
           }
          ],
          "scatter3d": [
           {
            "line": {
             "colorbar": {
              "outlinewidth": 0,
              "ticks": ""
             }
            },
            "marker": {
             "colorbar": {
              "outlinewidth": 0,
              "ticks": ""
             }
            },
            "type": "scatter3d"
           }
          ],
          "scattercarpet": [
           {
            "marker": {
             "colorbar": {
              "outlinewidth": 0,
              "ticks": ""
             }
            },
            "type": "scattercarpet"
           }
          ],
          "scattergeo": [
           {
            "marker": {
             "colorbar": {
              "outlinewidth": 0,
              "ticks": ""
             }
            },
            "type": "scattergeo"
           }
          ],
          "scattergl": [
           {
            "marker": {
             "colorbar": {
              "outlinewidth": 0,
              "ticks": ""
             }
            },
            "type": "scattergl"
           }
          ],
          "scattermapbox": [
           {
            "marker": {
             "colorbar": {
              "outlinewidth": 0,
              "ticks": ""
             }
            },
            "type": "scattermapbox"
           }
          ],
          "scatterpolar": [
           {
            "marker": {
             "colorbar": {
              "outlinewidth": 0,
              "ticks": ""
             }
            },
            "type": "scatterpolar"
           }
          ],
          "scatterpolargl": [
           {
            "marker": {
             "colorbar": {
              "outlinewidth": 0,
              "ticks": ""
             }
            },
            "type": "scatterpolargl"
           }
          ],
          "scatterternary": [
           {
            "marker": {
             "colorbar": {
              "outlinewidth": 0,
              "ticks": ""
             }
            },
            "type": "scatterternary"
           }
          ],
          "surface": [
           {
            "colorbar": {
             "outlinewidth": 0,
             "ticks": ""
            },
            "colorscale": [
             [
              0,
              "#0d0887"
             ],
             [
              0.1111111111111111,
              "#46039f"
             ],
             [
              0.2222222222222222,
              "#7201a8"
             ],
             [
              0.3333333333333333,
              "#9c179e"
             ],
             [
              0.4444444444444444,
              "#bd3786"
             ],
             [
              0.5555555555555556,
              "#d8576b"
             ],
             [
              0.6666666666666666,
              "#ed7953"
             ],
             [
              0.7777777777777778,
              "#fb9f3a"
             ],
             [
              0.8888888888888888,
              "#fdca26"
             ],
             [
              1,
              "#f0f921"
             ]
            ],
            "type": "surface"
           }
          ],
          "table": [
           {
            "cells": {
             "fill": {
              "color": "#EBF0F8"
             },
             "line": {
              "color": "white"
             }
            },
            "header": {
             "fill": {
              "color": "#C8D4E3"
             },
             "line": {
              "color": "white"
             }
            },
            "type": "table"
           }
          ]
         },
         "layout": {
          "annotationdefaults": {
           "arrowcolor": "#2a3f5f",
           "arrowhead": 0,
           "arrowwidth": 1
          },
          "autotypenumbers": "strict",
          "coloraxis": {
           "colorbar": {
            "outlinewidth": 0,
            "ticks": ""
           }
          },
          "colorscale": {
           "diverging": [
            [
             0,
             "#8e0152"
            ],
            [
             0.1,
             "#c51b7d"
            ],
            [
             0.2,
             "#de77ae"
            ],
            [
             0.3,
             "#f1b6da"
            ],
            [
             0.4,
             "#fde0ef"
            ],
            [
             0.5,
             "#f7f7f7"
            ],
            [
             0.6,
             "#e6f5d0"
            ],
            [
             0.7,
             "#b8e186"
            ],
            [
             0.8,
             "#7fbc41"
            ],
            [
             0.9,
             "#4d9221"
            ],
            [
             1,
             "#276419"
            ]
           ],
           "sequential": [
            [
             0,
             "#0d0887"
            ],
            [
             0.1111111111111111,
             "#46039f"
            ],
            [
             0.2222222222222222,
             "#7201a8"
            ],
            [
             0.3333333333333333,
             "#9c179e"
            ],
            [
             0.4444444444444444,
             "#bd3786"
            ],
            [
             0.5555555555555556,
             "#d8576b"
            ],
            [
             0.6666666666666666,
             "#ed7953"
            ],
            [
             0.7777777777777778,
             "#fb9f3a"
            ],
            [
             0.8888888888888888,
             "#fdca26"
            ],
            [
             1,
             "#f0f921"
            ]
           ],
           "sequentialminus": [
            [
             0,
             "#0d0887"
            ],
            [
             0.1111111111111111,
             "#46039f"
            ],
            [
             0.2222222222222222,
             "#7201a8"
            ],
            [
             0.3333333333333333,
             "#9c179e"
            ],
            [
             0.4444444444444444,
             "#bd3786"
            ],
            [
             0.5555555555555556,
             "#d8576b"
            ],
            [
             0.6666666666666666,
             "#ed7953"
            ],
            [
             0.7777777777777778,
             "#fb9f3a"
            ],
            [
             0.8888888888888888,
             "#fdca26"
            ],
            [
             1,
             "#f0f921"
            ]
           ]
          },
          "colorway": [
           "#636efa",
           "#EF553B",
           "#00cc96",
           "#ab63fa",
           "#FFA15A",
           "#19d3f3",
           "#FF6692",
           "#B6E880",
           "#FF97FF",
           "#FECB52"
          ],
          "font": {
           "color": "#2a3f5f"
          },
          "geo": {
           "bgcolor": "white",
           "lakecolor": "white",
           "landcolor": "#E5ECF6",
           "showlakes": true,
           "showland": true,
           "subunitcolor": "white"
          },
          "hoverlabel": {
           "align": "left"
          },
          "hovermode": "closest",
          "mapbox": {
           "style": "light"
          },
          "paper_bgcolor": "white",
          "plot_bgcolor": "#E5ECF6",
          "polar": {
           "angularaxis": {
            "gridcolor": "white",
            "linecolor": "white",
            "ticks": ""
           },
           "bgcolor": "#E5ECF6",
           "radialaxis": {
            "gridcolor": "white",
            "linecolor": "white",
            "ticks": ""
           }
          },
          "scene": {
           "xaxis": {
            "backgroundcolor": "#E5ECF6",
            "gridcolor": "white",
            "gridwidth": 2,
            "linecolor": "white",
            "showbackground": true,
            "ticks": "",
            "zerolinecolor": "white"
           },
           "yaxis": {
            "backgroundcolor": "#E5ECF6",
            "gridcolor": "white",
            "gridwidth": 2,
            "linecolor": "white",
            "showbackground": true,
            "ticks": "",
            "zerolinecolor": "white"
           },
           "zaxis": {
            "backgroundcolor": "#E5ECF6",
            "gridcolor": "white",
            "gridwidth": 2,
            "linecolor": "white",
            "showbackground": true,
            "ticks": "",
            "zerolinecolor": "white"
           }
          },
          "shapedefaults": {
           "line": {
            "color": "#2a3f5f"
           }
          },
          "ternary": {
           "aaxis": {
            "gridcolor": "white",
            "linecolor": "white",
            "ticks": ""
           },
           "baxis": {
            "gridcolor": "white",
            "linecolor": "white",
            "ticks": ""
           },
           "bgcolor": "#E5ECF6",
           "caxis": {
            "gridcolor": "white",
            "linecolor": "white",
            "ticks": ""
           }
          },
          "title": {
           "x": 0.05
          },
          "xaxis": {
           "automargin": true,
           "gridcolor": "white",
           "linecolor": "white",
           "ticks": "",
           "title": {
            "standoff": 15
           },
           "zerolinecolor": "white",
           "zerolinewidth": 2
          },
          "yaxis": {
           "automargin": true,
           "gridcolor": "white",
           "linecolor": "white",
           "ticks": "",
           "title": {
            "standoff": 15
           },
           "zerolinecolor": "white",
           "zerolinewidth": 2
          }
         }
        },
        "xaxis": {
         "anchor": "y",
         "domain": [
          0,
          1
         ],
         "title": {
          "text": "POSTAL.CODE"
         }
        },
        "yaxis": {
         "anchor": "x",
         "domain": [
          0,
          1
         ],
         "title": {
          "text": "POPULATION"
         }
        }
       }
      }
     },
     "metadata": {},
     "output_type": "display_data"
    }
   ],
   "source": [
    "px.bar(formated_data.groupby('POSTAL.CODE').mean().reset_index(), x='POSTAL.CODE', y='POPULATION')"
   ]
  },
  {
   "cell_type": "code",
   "execution_count": 10,
   "metadata": {},
   "outputs": [
    {
     "data": {
      "text/plain": [
       "6139512.208006512"
      ]
     },
     "execution_count": 10,
     "metadata": {},
     "output_type": "execute_result"
    }
   ],
   "source": [
    "# Overall average population\n",
    "formated_data.groupby('POSTAL.CODE')['POPULATION'].mean().mean()"
   ]
  },
  {
   "cell_type": "markdown",
   "metadata": {},
   "source": [
    "Deleware does indeed seem to have a very low population, rather than a very high number of outages. Still, the very high outages per capita is odd to see - perhaps it is to do with the GSP?"
   ]
  },
  {
   "cell_type": "markdown",
   "metadata": {},
   "source": [
    "Distribution of the proportion of gdp each state is responsible for in the US. This value might have some correlation with number of outages or outage response time, so we want to understand how it works before we start our analysis."
   ]
  },
  {
   "cell_type": "code",
   "execution_count": 11,
   "metadata": {},
   "outputs": [
    {
     "data": {
      "application/vnd.plotly.v1+json": {
       "config": {
        "plotlyServerURL": "https://plot.ly"
       },
       "data": [
        {
         "alignmentgroup": "True",
         "hovertemplate": "POSTAL.CODE=%{x}<br>REALGSP=%{y}<extra></extra>",
         "legendgroup": "",
         "marker": {
          "color": "#636efa",
          "pattern": {
           "shape": ""
          }
         },
         "name": "",
         "offsetgroup": "",
         "orientation": "v",
         "showlegend": false,
         "textposition": "auto",
         "type": "bar",
         "x": [
          "AK",
          "AL",
          "AR",
          "AZ",
          "CA",
          "CO",
          "CT",
          "DC",
          "DE",
          "FL",
          "GA",
          "HI",
          "IA",
          "ID",
          "IL",
          "IN",
          "KS",
          "KY",
          "LA",
          "MA",
          "MD",
          "ME",
          "MI",
          "MN",
          "MO",
          "MS",
          "MT",
          "NC",
          "ND",
          "NE",
          "NH",
          "NJ",
          "NM",
          "NV",
          "NY",
          "OH",
          "OK",
          "OR",
          "PA",
          "SC",
          "SD",
          "TN",
          "TX",
          "UT",
          "VA",
          "VT",
          "WA",
          "WI",
          "WV",
          "WY"
         ],
         "xaxis": "x",
         "y": [
          805580.6048273544,
          3511461.518503319,
          2189670.1386423977,
          5121985.876738773,
          41160269.56539971,
          5393256.939398613,
          4775733.710332759,
          2133201.0735519957,
          1186665.1048425478,
          15576250.396185204,
          8600968.296901949,
          1371948.6899292592,
          3027019.5777429948,
          1146739.6265442795,
          13732715.956026718,
          5840593.58850436,
          2609860.6605341095,
          3391703.5560821635,
          4428638.507158672,
          8451237.69936908,
          6420731.293853754,
          1050930.5616509258,
          8478227.006720427,
          5790282.601667761,
          5248251.016262263,
          1930421.706465274,
          797447.5769692628,
          8539756.410235265,
          695441.9234092308,
          1781676.0091756254,
          1315354.499130068,
          10228219.82418024,
          1698189.043648715,
          2500133.5896375882,
          24611021.204532776,
          10596846.565829346,
          3223050.610727286,
          3941958.014960108,
          12225709.726345308,
          3418299.315043598,
          781997.4380891173,
          5539738.096361913,
          25904858.526182465,
          2567922.000416866,
          8555840.302522399,
          559510.6533954579,
          7618110.253112039,
          5402884.916501449,
          1363396.6244726465,
          757465.222597728
         ],
         "yaxis": "y"
        }
       ],
       "layout": {
        "barmode": "relative",
        "legend": {
         "tracegroupgap": 0
        },
        "margin": {
         "t": 60
        },
        "template": {
         "data": {
          "bar": [
           {
            "error_x": {
             "color": "#2a3f5f"
            },
            "error_y": {
             "color": "#2a3f5f"
            },
            "marker": {
             "line": {
              "color": "#E5ECF6",
              "width": 0.5
             },
             "pattern": {
              "fillmode": "overlay",
              "size": 10,
              "solidity": 0.2
             }
            },
            "type": "bar"
           }
          ],
          "barpolar": [
           {
            "marker": {
             "line": {
              "color": "#E5ECF6",
              "width": 0.5
             },
             "pattern": {
              "fillmode": "overlay",
              "size": 10,
              "solidity": 0.2
             }
            },
            "type": "barpolar"
           }
          ],
          "carpet": [
           {
            "aaxis": {
             "endlinecolor": "#2a3f5f",
             "gridcolor": "white",
             "linecolor": "white",
             "minorgridcolor": "white",
             "startlinecolor": "#2a3f5f"
            },
            "baxis": {
             "endlinecolor": "#2a3f5f",
             "gridcolor": "white",
             "linecolor": "white",
             "minorgridcolor": "white",
             "startlinecolor": "#2a3f5f"
            },
            "type": "carpet"
           }
          ],
          "choropleth": [
           {
            "colorbar": {
             "outlinewidth": 0,
             "ticks": ""
            },
            "type": "choropleth"
           }
          ],
          "contour": [
           {
            "colorbar": {
             "outlinewidth": 0,
             "ticks": ""
            },
            "colorscale": [
             [
              0,
              "#0d0887"
             ],
             [
              0.1111111111111111,
              "#46039f"
             ],
             [
              0.2222222222222222,
              "#7201a8"
             ],
             [
              0.3333333333333333,
              "#9c179e"
             ],
             [
              0.4444444444444444,
              "#bd3786"
             ],
             [
              0.5555555555555556,
              "#d8576b"
             ],
             [
              0.6666666666666666,
              "#ed7953"
             ],
             [
              0.7777777777777778,
              "#fb9f3a"
             ],
             [
              0.8888888888888888,
              "#fdca26"
             ],
             [
              1,
              "#f0f921"
             ]
            ],
            "type": "contour"
           }
          ],
          "contourcarpet": [
           {
            "colorbar": {
             "outlinewidth": 0,
             "ticks": ""
            },
            "type": "contourcarpet"
           }
          ],
          "heatmap": [
           {
            "colorbar": {
             "outlinewidth": 0,
             "ticks": ""
            },
            "colorscale": [
             [
              0,
              "#0d0887"
             ],
             [
              0.1111111111111111,
              "#46039f"
             ],
             [
              0.2222222222222222,
              "#7201a8"
             ],
             [
              0.3333333333333333,
              "#9c179e"
             ],
             [
              0.4444444444444444,
              "#bd3786"
             ],
             [
              0.5555555555555556,
              "#d8576b"
             ],
             [
              0.6666666666666666,
              "#ed7953"
             ],
             [
              0.7777777777777778,
              "#fb9f3a"
             ],
             [
              0.8888888888888888,
              "#fdca26"
             ],
             [
              1,
              "#f0f921"
             ]
            ],
            "type": "heatmap"
           }
          ],
          "heatmapgl": [
           {
            "colorbar": {
             "outlinewidth": 0,
             "ticks": ""
            },
            "colorscale": [
             [
              0,
              "#0d0887"
             ],
             [
              0.1111111111111111,
              "#46039f"
             ],
             [
              0.2222222222222222,
              "#7201a8"
             ],
             [
              0.3333333333333333,
              "#9c179e"
             ],
             [
              0.4444444444444444,
              "#bd3786"
             ],
             [
              0.5555555555555556,
              "#d8576b"
             ],
             [
              0.6666666666666666,
              "#ed7953"
             ],
             [
              0.7777777777777778,
              "#fb9f3a"
             ],
             [
              0.8888888888888888,
              "#fdca26"
             ],
             [
              1,
              "#f0f921"
             ]
            ],
            "type": "heatmapgl"
           }
          ],
          "histogram": [
           {
            "marker": {
             "pattern": {
              "fillmode": "overlay",
              "size": 10,
              "solidity": 0.2
             }
            },
            "type": "histogram"
           }
          ],
          "histogram2d": [
           {
            "colorbar": {
             "outlinewidth": 0,
             "ticks": ""
            },
            "colorscale": [
             [
              0,
              "#0d0887"
             ],
             [
              0.1111111111111111,
              "#46039f"
             ],
             [
              0.2222222222222222,
              "#7201a8"
             ],
             [
              0.3333333333333333,
              "#9c179e"
             ],
             [
              0.4444444444444444,
              "#bd3786"
             ],
             [
              0.5555555555555556,
              "#d8576b"
             ],
             [
              0.6666666666666666,
              "#ed7953"
             ],
             [
              0.7777777777777778,
              "#fb9f3a"
             ],
             [
              0.8888888888888888,
              "#fdca26"
             ],
             [
              1,
              "#f0f921"
             ]
            ],
            "type": "histogram2d"
           }
          ],
          "histogram2dcontour": [
           {
            "colorbar": {
             "outlinewidth": 0,
             "ticks": ""
            },
            "colorscale": [
             [
              0,
              "#0d0887"
             ],
             [
              0.1111111111111111,
              "#46039f"
             ],
             [
              0.2222222222222222,
              "#7201a8"
             ],
             [
              0.3333333333333333,
              "#9c179e"
             ],
             [
              0.4444444444444444,
              "#bd3786"
             ],
             [
              0.5555555555555556,
              "#d8576b"
             ],
             [
              0.6666666666666666,
              "#ed7953"
             ],
             [
              0.7777777777777778,
              "#fb9f3a"
             ],
             [
              0.8888888888888888,
              "#fdca26"
             ],
             [
              1,
              "#f0f921"
             ]
            ],
            "type": "histogram2dcontour"
           }
          ],
          "mesh3d": [
           {
            "colorbar": {
             "outlinewidth": 0,
             "ticks": ""
            },
            "type": "mesh3d"
           }
          ],
          "parcoords": [
           {
            "line": {
             "colorbar": {
              "outlinewidth": 0,
              "ticks": ""
             }
            },
            "type": "parcoords"
           }
          ],
          "pie": [
           {
            "automargin": true,
            "type": "pie"
           }
          ],
          "scatter": [
           {
            "fillpattern": {
             "fillmode": "overlay",
             "size": 10,
             "solidity": 0.2
            },
            "type": "scatter"
           }
          ],
          "scatter3d": [
           {
            "line": {
             "colorbar": {
              "outlinewidth": 0,
              "ticks": ""
             }
            },
            "marker": {
             "colorbar": {
              "outlinewidth": 0,
              "ticks": ""
             }
            },
            "type": "scatter3d"
           }
          ],
          "scattercarpet": [
           {
            "marker": {
             "colorbar": {
              "outlinewidth": 0,
              "ticks": ""
             }
            },
            "type": "scattercarpet"
           }
          ],
          "scattergeo": [
           {
            "marker": {
             "colorbar": {
              "outlinewidth": 0,
              "ticks": ""
             }
            },
            "type": "scattergeo"
           }
          ],
          "scattergl": [
           {
            "marker": {
             "colorbar": {
              "outlinewidth": 0,
              "ticks": ""
             }
            },
            "type": "scattergl"
           }
          ],
          "scattermapbox": [
           {
            "marker": {
             "colorbar": {
              "outlinewidth": 0,
              "ticks": ""
             }
            },
            "type": "scattermapbox"
           }
          ],
          "scatterpolar": [
           {
            "marker": {
             "colorbar": {
              "outlinewidth": 0,
              "ticks": ""
             }
            },
            "type": "scatterpolar"
           }
          ],
          "scatterpolargl": [
           {
            "marker": {
             "colorbar": {
              "outlinewidth": 0,
              "ticks": ""
             }
            },
            "type": "scatterpolargl"
           }
          ],
          "scatterternary": [
           {
            "marker": {
             "colorbar": {
              "outlinewidth": 0,
              "ticks": ""
             }
            },
            "type": "scatterternary"
           }
          ],
          "surface": [
           {
            "colorbar": {
             "outlinewidth": 0,
             "ticks": ""
            },
            "colorscale": [
             [
              0,
              "#0d0887"
             ],
             [
              0.1111111111111111,
              "#46039f"
             ],
             [
              0.2222222222222222,
              "#7201a8"
             ],
             [
              0.3333333333333333,
              "#9c179e"
             ],
             [
              0.4444444444444444,
              "#bd3786"
             ],
             [
              0.5555555555555556,
              "#d8576b"
             ],
             [
              0.6666666666666666,
              "#ed7953"
             ],
             [
              0.7777777777777778,
              "#fb9f3a"
             ],
             [
              0.8888888888888888,
              "#fdca26"
             ],
             [
              1,
              "#f0f921"
             ]
            ],
            "type": "surface"
           }
          ],
          "table": [
           {
            "cells": {
             "fill": {
              "color": "#EBF0F8"
             },
             "line": {
              "color": "white"
             }
            },
            "header": {
             "fill": {
              "color": "#C8D4E3"
             },
             "line": {
              "color": "white"
             }
            },
            "type": "table"
           }
          ]
         },
         "layout": {
          "annotationdefaults": {
           "arrowcolor": "#2a3f5f",
           "arrowhead": 0,
           "arrowwidth": 1
          },
          "autotypenumbers": "strict",
          "coloraxis": {
           "colorbar": {
            "outlinewidth": 0,
            "ticks": ""
           }
          },
          "colorscale": {
           "diverging": [
            [
             0,
             "#8e0152"
            ],
            [
             0.1,
             "#c51b7d"
            ],
            [
             0.2,
             "#de77ae"
            ],
            [
             0.3,
             "#f1b6da"
            ],
            [
             0.4,
             "#fde0ef"
            ],
            [
             0.5,
             "#f7f7f7"
            ],
            [
             0.6,
             "#e6f5d0"
            ],
            [
             0.7,
             "#b8e186"
            ],
            [
             0.8,
             "#7fbc41"
            ],
            [
             0.9,
             "#4d9221"
            ],
            [
             1,
             "#276419"
            ]
           ],
           "sequential": [
            [
             0,
             "#0d0887"
            ],
            [
             0.1111111111111111,
             "#46039f"
            ],
            [
             0.2222222222222222,
             "#7201a8"
            ],
            [
             0.3333333333333333,
             "#9c179e"
            ],
            [
             0.4444444444444444,
             "#bd3786"
            ],
            [
             0.5555555555555556,
             "#d8576b"
            ],
            [
             0.6666666666666666,
             "#ed7953"
            ],
            [
             0.7777777777777778,
             "#fb9f3a"
            ],
            [
             0.8888888888888888,
             "#fdca26"
            ],
            [
             1,
             "#f0f921"
            ]
           ],
           "sequentialminus": [
            [
             0,
             "#0d0887"
            ],
            [
             0.1111111111111111,
             "#46039f"
            ],
            [
             0.2222222222222222,
             "#7201a8"
            ],
            [
             0.3333333333333333,
             "#9c179e"
            ],
            [
             0.4444444444444444,
             "#bd3786"
            ],
            [
             0.5555555555555556,
             "#d8576b"
            ],
            [
             0.6666666666666666,
             "#ed7953"
            ],
            [
             0.7777777777777778,
             "#fb9f3a"
            ],
            [
             0.8888888888888888,
             "#fdca26"
            ],
            [
             1,
             "#f0f921"
            ]
           ]
          },
          "colorway": [
           "#636efa",
           "#EF553B",
           "#00cc96",
           "#ab63fa",
           "#FFA15A",
           "#19d3f3",
           "#FF6692",
           "#B6E880",
           "#FF97FF",
           "#FECB52"
          ],
          "font": {
           "color": "#2a3f5f"
          },
          "geo": {
           "bgcolor": "white",
           "lakecolor": "white",
           "landcolor": "#E5ECF6",
           "showlakes": true,
           "showland": true,
           "subunitcolor": "white"
          },
          "hoverlabel": {
           "align": "left"
          },
          "hovermode": "closest",
          "mapbox": {
           "style": "light"
          },
          "paper_bgcolor": "white",
          "plot_bgcolor": "#E5ECF6",
          "polar": {
           "angularaxis": {
            "gridcolor": "white",
            "linecolor": "white",
            "ticks": ""
           },
           "bgcolor": "#E5ECF6",
           "radialaxis": {
            "gridcolor": "white",
            "linecolor": "white",
            "ticks": ""
           }
          },
          "scene": {
           "xaxis": {
            "backgroundcolor": "#E5ECF6",
            "gridcolor": "white",
            "gridwidth": 2,
            "linecolor": "white",
            "showbackground": true,
            "ticks": "",
            "zerolinecolor": "white"
           },
           "yaxis": {
            "backgroundcolor": "#E5ECF6",
            "gridcolor": "white",
            "gridwidth": 2,
            "linecolor": "white",
            "showbackground": true,
            "ticks": "",
            "zerolinecolor": "white"
           },
           "zaxis": {
            "backgroundcolor": "#E5ECF6",
            "gridcolor": "white",
            "gridwidth": 2,
            "linecolor": "white",
            "showbackground": true,
            "ticks": "",
            "zerolinecolor": "white"
           }
          },
          "shapedefaults": {
           "line": {
            "color": "#2a3f5f"
           }
          },
          "ternary": {
           "aaxis": {
            "gridcolor": "white",
            "linecolor": "white",
            "ticks": ""
           },
           "baxis": {
            "gridcolor": "white",
            "linecolor": "white",
            "ticks": ""
           },
           "bgcolor": "#E5ECF6",
           "caxis": {
            "gridcolor": "white",
            "linecolor": "white",
            "ticks": ""
           }
          },
          "title": {
           "x": 0.05
          },
          "xaxis": {
           "automargin": true,
           "gridcolor": "white",
           "linecolor": "white",
           "ticks": "",
           "title": {
            "standoff": 15
           },
           "zerolinecolor": "white",
           "zerolinewidth": 2
          },
          "yaxis": {
           "automargin": true,
           "gridcolor": "white",
           "linecolor": "white",
           "ticks": "",
           "title": {
            "standoff": 15
           },
           "zerolinecolor": "white",
           "zerolinewidth": 2
          }
         }
        },
        "xaxis": {
         "anchor": "y",
         "domain": [
          0,
          1
         ],
         "title": {
          "text": "POSTAL.CODE"
         }
        },
        "yaxis": {
         "anchor": "x",
         "domain": [
          0,
          1
         ],
         "title": {
          "text": "REALGSP"
         }
        }
       }
      }
     },
     "metadata": {},
     "output_type": "display_data"
    }
   ],
   "source": [
    "# Calculate the real GSP for each state and plot the average real GSP by state\n",
    "formated_data['REALGSP'] = formated_data['PC.REALGSP.REL'] * formated_data['POPULATION']\n",
    "px.bar(formated_data.groupby('POSTAL.CODE')[['REALGSP']].mean().reset_index(), x='POSTAL.CODE', y='REALGSP')"
   ]
  },
  {
   "cell_type": "markdown",
   "metadata": {},
   "source": [
    "There seem to be a large number of peaks in states with higher population, Likely it would correlate with frequency as it is also directly correlated with population density and population."
   ]
  },
  {
   "cell_type": "code",
   "execution_count": 12,
   "metadata": {},
   "outputs": [
    {
     "data": {
      "application/vnd.plotly.v1+json": {
       "config": {
        "plotlyServerURL": "https://plot.ly"
       },
       "data": [
        {
         "hovertemplate": "REALGSP=%{x}<br>OUTAGE.DURATION=%{y}<extra></extra>",
         "legendgroup": "",
         "marker": {
          "color": "#636efa",
          "symbol": "circle"
         },
         "mode": "markers",
         "name": "",
         "showlegend": false,
         "type": "scattergl",
         "x": [
          5761933.444542501,
          5947133.494428705,
          5665809.284602554,
          5765015.738724132,
          5994785.551199732,
          5665809.284602554,
          5665809.284602554,
          5583225.558536056,
          5994785.551199732,
          5877852.945264064,
          5877852.945264064,
          5583225.558536056,
          5761933.444542501,
          5761933.444542501,
          5947133.494428705,
          5622118.903839983,
          5559054.821019185,
          5622118.903839983,
          5440919.172025383,
          5318063.275779427,
          5622118.903839983,
          5559054.821019185,
          5622118.903839983,
          5589549.662368794,
          5595976.206331101,
          5298244.755355615,
          5440919.172025383,
          5440919.172025383,
          5595976.206331101,
          5559054.821019185,
          5595976.206331101,
          5440919.172025383,
          5622118.903839983,
          5622118.903839983,
          5595976.206331101,
          5440919.172025383,
          5738490.779313068,
          5595976.206331101,
          5622118.903839983,
          5589549.662368794,
          5440919.172025383,
          5298244.755355615,
          5595976.206331101,
          5595976.206331101,
          5440919.172025383,
          5595976.206331101,
          5595976.206331101,
          5738490.779313068,
          5298244.755355615,
          5476100.467132469,
          5476100.467132469,
          5220477.233437306,
          5436864.360339696,
          5476100.467132469,
          5476100.467132469,
          5203797.11847442,
          5476100.467132469,
          5476978.084701935,
          5220477.233437306,
          5330286.894579908,
          5330286.894579908,
          5203797.11847442,
          5476100.467132469,
          5476100.467132469,
          5476100.467132469,
          5436864.360339696,
          5476100.467132469,
          5436864.360339696,
          5476100.467132469,
          1349908.799614798,
          1368439.5324397543,
          1367619.082918017,
          1367619.082918017,
          8292341.451624432,
          9004221.940049903,
          9364559.918356666,
          8292341.451624432,
          8496173.940979078,
          8557871.070797538,
          9364559.918356666,
          9364559.918356666,
          8292341.451624432,
          8143236.628777464,
          8422325.450082496,
          8322626.755191458,
          7849153.242587827,
          8557871.070797538,
          8406040.730599472,
          8557871.070797538,
          7849153.242587827,
          9004221.940049903,
          7849153.242587827,
          9004221.940049903,
          8411420.472807674,
          9004221.940049903,
          9364559.918356666,
          8292341.451624432,
          8292341.451624432,
          8411420.472807674,
          8322626.755191458,
          7849153.242587827,
          9090764.087314246,
          8406040.730599472,
          8496173.940979078,
          8240334.047499019,
          8322626.755191458,
          8240334.047499019,
          8406040.730599472,
          9364559.918356666,
          8411420.472807674,
          8143236.628777464,
          8240334.047499019,
          9090764.087314246,
          7849153.242587827,
          8406040.730599472,
          8292341.451624432,
          8706391.068085626,
          9364559.918356666,
          7849153.242587827,
          8143236.628777464,
          7849153.242587827,
          8240334.047499019,
          8322626.755191458,
          8292341.451624432,
          8322626.755191458,
          8422325.450082496,
          8143236.628777464,
          8411420.472807674,
          9364559.918356666,
          8557871.070797538,
          8240334.047499019,
          8240334.047499019,
          8240334.047499019,
          8322626.755191458,
          9090764.087314246,
          8422325.450082496,
          8411420.472807674,
          8240334.047499019,
          8143236.628777464,
          9090764.087314246,
          8411420.472807674,
          8557871.070797538,
          9364559.918356666,
          8411420.472807674,
          8292341.451624432,
          9004221.940049903,
          8411420.472807674,
          8292341.451624432,
          9090764.087314246,
          8557871.070797538,
          8406040.730599472,
          8143236.628777464,
          7849153.242587827,
          9004221.940049903,
          8706391.068085626,
          9339882.21699891,
          7849153.242587827,
          8143236.628777464,
          8406040.730599472,
          8292341.451624432,
          8292341.451624432,
          8292341.451624432,
          8557871.070797538,
          8143236.628777464,
          8411420.472807674,
          8240334.047499019,
          8292341.451624432,
          8292341.451624432,
          29598019.93415465,
          26198433.952843208,
          26198433.952843208,
          29251081.556415398,
          27281647.101005126,
          28985568.26864395,
          28985568.26864395,
          22088846.888789676,
          29598019.93415465,
          29598019.93415465,
          28985568.26864395,
          22866205.64885808,
          25489402.0724089,
          25489402.0724089,
          23803846.0661157,
          29598019.93415465,
          23803846.0661157,
          26198433.952843208,
          21599036.740132593,
          21111605.629634667,
          29598019.93415465,
          27281647.101005126,
          29598019.93415465,
          23803846.0661157,
          28985568.26864395,
          26198433.952843208,
          26198433.952843208,
          22866205.64885808,
          29251081.556415398,
          22001800.61287171,
          26198433.952843208,
          22088846.888789676,
          21599036.740132593,
          23803846.0661157,
          24269361.84289581,
          28985568.26864395,
          29598019.93415465,
          26198433.952843208,
          29598019.93415465,
          27281647.101005126,
          28985568.26864395,
          29598019.93415465,
          23803846.0661157,
          21599036.740132593,
          24269361.84289581,
          27281647.101005126,
          25095577.920158405,
          29251081.556415398,
          25095577.920158405,
          24269361.84289581,
          29251081.556415398,
          28307139.896478917,
          27281647.101005126,
          22866205.64885808,
          22088846.888789676,
          27281647.101005126,
          29251081.556415398,
          25095577.920158405,
          27281647.101005126,
          22866205.64885808,
          28307139.896478917,
          26198433.952843208,
          21111605.629634667,
          25489402.0724089,
          28985568.26864395,
          22001800.61287171,
          25095577.920158405,
          21111605.629634667,
          26198433.952843208,
          22866205.64885808,
          27281647.101005126,
          21111605.629634667,
          28307139.896478917,
          22088846.888789676,
          22866205.64885808,
          29598019.93415465,
          24269361.84289581,
          29598019.93415465,
          27281647.101005126,
          26198433.952843208,
          24269361.84289581,
          25489402.0724089,
          28985568.26864395,
          25095577.920158405,
          21673844.570853587,
          25095577.920158405,
          24269361.84289581,
          29598019.93415465,
          26198433.952843208,
          25095577.920158405,
          27281647.101005126,
          25095577.920158405,
          28985568.26864395,
          26198433.952843208,
          22088846.888789676,
          27281647.101005126,
          28307139.896478917,
          26198433.952843208,
          29598019.93415465,
          22001800.61287171,
          24269361.84289581,
          22866205.64885808,
          29598019.93415465,
          26198433.952843208,
          21673844.570853587,
          28307139.896478917,
          24269361.84289581,
          28985568.26864395,
          28985568.26864395,
          22088846.888789676,
          29598019.93415465,
          22866205.64885808,
          25095577.920158405,
          25489402.0724089,
          29598019.93415465,
          29251081.556415398,
          23803846.0661157,
          25095577.920158405,
          26198433.952843208,
          22088846.888789676,
          29598019.93415465,
          25095577.920158405,
          25095577.920158405,
          26198433.952843208,
          22001800.61287171,
          21673844.570853587,
          26198433.952843208,
          5986086.600802593,
          5642223.154991434,
          5762851.402576695,
          5943008.821638154,
          5994420.120375569,
          5808754.1695419485,
          5623114.303989271,
          5642223.154991434,
          5808754.1695419485,
          5808754.1695419485,
          5986086.600802593,
          5943008.821638154,
          5943008.821638154,
          5903725.278548314,
          5903725.278548314,
          5943008.821638154,
          5986086.600802593,
          5845840.868178422,
          5845840.868178422,
          5903725.278548314,
          5634826.1165315015,
          5845840.868178422,
          5920002.256434112,
          5650316.761557177,
          5943008.821638154,
          5903725.278548314,
          5808754.1695419485,
          5808754.1695419485,
          5758599.0729145445,
          5845840.868178422,
          5845840.868178422,
          5845840.868178422,
          5903725.278548314,
          5903725.278548314,
          5808754.1695419485,
          5943008.821638154,
          5920002.256434112,
          5808754.1695419485,
          5642223.154991434,
          5808754.1695419485,
          5808754.1695419485,
          5920002.256434112,
          5642223.154991434,
          3660945.16536636,
          3354378.280835847,
          3354378.280835847,
          3354378.280835847,
          3665095.7680563354,
          3679593.335089676,
          1929996.6265303227,
          1946970.2620308506,
          1929996.6265303227,
          1914723.3107695999,
          13831131.545076288,
          13656743.12622915,
          13693277.850843659,
          13700918.780075744,
          13973497.136140874,
          13656743.12622915,
          13973497.136140874,
          13799382.572113352,
          13619609.504692405,
          13656743.12622915,
          13490157.613661855,
          13831131.545076288,
          13739759.504817521,
          13709658.692802059,
          13563240.789208444,
          13831131.545076288,
          13973497.136140874,
          13693277.850843659,
          13973497.136140874,
          13595067.221710356,
          13799382.572113352,
          13831131.545076288,
          13574822.745736873,
          13799382.572113352,
          13831131.545076288,
          13595067.221710356,
          13831131.545076288,
          13563240.789208444,
          13619609.504692405,
          13700918.780075744,
          13700918.780075744,
          13839381.506299708,
          13574822.745736873,
          13693277.850843659,
          13739759.504817521,
          13595067.221710356,
          13973497.136140874,
          13656743.12622915,
          13574822.745736873,
          13831131.545076288,
          13619609.504692405,
          13831131.545076288,
          13831131.545076288,
          13595067.221710356,
          13831131.545076288,
          13709658.692802059,
          7680176.751059088,
          7574005.006472513,
          7680176.751059088,
          7564998.330619435,
          7864716.13721455,
          7970045.67155522,
          7574005.006472513,
          7680176.751059088,
          7680176.751059088,
          7970045.67155522,
          7680176.751059088,
          7574005.006472513,
          7680176.751059088,
          6521618.448455474,
          6868075.271033953,
          7574005.006472513,
          7574005.006472513,
          7680176.751059088,
          7680176.751059088,
          7970045.67155522,
          7970045.67155522,
          7225123.875279861,
          7680176.751059088,
          8306531.019818422,
          7574005.006472513,
          7574005.006472513,
          7574005.006472513,
          7746168.827175797,
          7574005.006472513,
          7970045.67155522,
          7574005.006472513,
          7574005.006472513,
          8306531.019818422,
          8306531.019818422,
          7574005.006472513,
          6868075.271033953,
          8306531.019818422,
          7574005.006472513,
          7970045.67155522,
          7680176.751059088,
          7525992.788474708,
          7680176.751059088,
          8306531.019818422,
          7746168.827175797,
          7680176.751059088,
          7225123.875279861,
          7574005.006472513,
          7746168.827175797,
          7680176.751059088,
          7970045.67155522,
          7421675.687279189,
          7574005.006472513,
          7564998.330619435,
          7680176.751059088,
          7574005.006472513,
          7746168.827175797,
          7680176.751059088,
          7574005.006472513,
          7574005.006472513,
          7574005.006472513,
          7574005.006472513,
          7574005.006472513,
          8306531.019818422,
          7970045.67155522,
          7970045.67155522,
          7680176.751059088,
          6868075.271033953,
          7680176.751059088,
          7864716.13721455,
          7574005.006472513,
          6583174.48547688,
          7680176.751059088,
          7746168.827175797,
          8306531.019818422,
          7574005.006472513,
          7680176.751059088,
          7574005.006472513,
          7970045.67155522,
          7574005.006472513,
          7574005.006472513,
          7680176.751059088,
          6868075.271033953,
          6868075.271033953,
          6868075.271033953,
          7574005.006472513,
          6868075.271033953,
          7574005.006472513,
          7680176.751059088,
          7864716.13721455,
          6868075.271033953,
          7680176.751059088,
          6521618.448455474,
          7574005.006472513,
          7680176.751059088,
          7970045.67155522,
          7680176.751059088,
          7746168.827175797,
          5225717.5544067575,
          5238996.024797367,
          5238996.024797367,
          5247943.922989501,
          5247943.922989501,
          4898141.38715164,
          5247943.922989501,
          5247943.922989501,
          4947250.468269657,
          5207827.271850897,
          5268602.410910349,
          5268602.410910349,
          5268602.410910349,
          4526483.824829589,
          4713002.9865623,
          5268602.410910349,
          5310353.7204895355,
          5268602.410910349,
          5247943.922989501,
          5225717.5544067575,
          5247943.922989501,
          4526483.824829589,
          4947250.468269657,
          5238996.024797367,
          5225717.5544067575,
          5268602.410910349,
          4947250.468269657,
          4898141.38715164,
          6584084.8442561645,
          5978901.811340024,
          6077703.634116406,
          6280464.525836233,
          5978901.811340024,
          6077703.634116406,
          6066260.148367652,
          6542694.554921874,
          6584084.8442561645,
          6639506.8423906285,
          6584084.8442561645,
          6558140.333951211,
          6639506.8423906285,
          6584084.8442561645,
          6639506.8423906285,
          6584084.8442561645,
          6542694.554921874,
          5863262.2329800865,
          6639506.8423906285,
          6584084.8442561645,
          6542694.554921874,
          6558140.333951211,
          6066260.148367652,
          6584084.8442561645,
          6582606.085710632,
          6584084.8442561645,
          5863262.2329800865,
          6639506.8423906285,
          6542694.554921874,
          6077703.634116406,
          6584084.8442561645,
          6639506.8423906285,
          6542694.554921874,
          6542694.554921874,
          6584084.8442561645,
          6542694.554921874,
          6558140.333951211,
          5863262.2329800865,
          6584084.8442561645,
          5863262.2329800865,
          6584084.8442561645,
          6542694.554921874,
          6584084.8442561645,
          6280464.525836233,
          6634362.713620242,
          6496649.394515831,
          6132600.096079497,
          6639506.8423906285,
          6584084.8442561645,
          6584084.8442561645,
          5863262.2329800865,
          6132600.096079497,
          6582606.085710632,
          6639506.8423906285,
          6584084.8442561645,
          6553971.141722191,
          6066260.148367652,
          6542694.554921874,
          11624470.01975096,
          12384428.093935193,
          12293719.462727604,
          12384428.093935193,
          12456789.284734277,
          12293719.462727604,
          12384428.093935193,
          11939469.978202924,
          12372810.475787027,
          11624470.01975096,
          11624470.01975096,
          12293719.462727604,
          12372810.475787027,
          11650280.723435227,
          12384428.093935193,
          11624470.01975096,
          12867351.344847944,
          12293719.462727604,
          11750832.642217828,
          11833614.14091325,
          12384428.093935193,
          11650280.723435227,
          12571336.707166357,
          12562342.398830736,
          12384428.093935193,
          12372810.475787027,
          11939469.978202924,
          12384428.093935193,
          12867351.344847944,
          11939469.978202924,
          12293719.462727604,
          12384428.093935193,
          12562342.398830736,
          12384428.093935193,
          11939469.978202924,
          12162951.502442155,
          12372810.475787027,
          11722010.512925941,
          11624470.01975096,
          12562342.398830736,
          12562342.398830736,
          12293719.462727604,
          12384428.093935193,
          12562342.398830736,
          11939469.978202924,
          12562342.398830736,
          12384428.093935193,
          11799476.256580265,
          12384428.093935193,
          12372810.475787027,
          11799476.256580265,
          12384428.093935193,
          12384428.093935193,
          12372810.475787027,
          12571336.707166357,
          12293719.462727604,
          12293719.462727604,
          3488633.0259740273,
          3492988.462650996,
          3344345.1154241664,
          3488633.0259740273,
          3344345.1154241664,
          3478443.336249097,
          3355430.700274786,
          3355430.700274786,
          3344345.1154241664,
          3344345.1154241664,
          3355430.700274786,
          3355430.700274786,
          3344345.1154241664,
          2516661.3129912154,
          2632518.665476286,
          2588394.342995662,
          2567693.6784031736,
          2567693.6784031736,
          2567693.6784031736,
          2588394.342995662,
          2632518.665476286,
          2701008.6061389656,
          2632518.665476286,
          2701008.6061389656,
          2632518.665476286,
          2516661.3129912154,
          2588394.342995662,
          2567693.6784031736,
          2516661.3129912154,
          2397122.1282416633,
          2516661.3129912154,
          2567693.6784031736,
          2397556.9038656224,
          2516661.3129912154,
          2516661.3129912154,
          2701008.6061389656,
          2516661.3129912154,
          2632518.665476286,
          2701008.6061389656,
          2588394.342995662,
          2516661.3129912154,
          2516661.3129912154,
          2588394.342995662,
          2516661.3129912154,
          2516661.3129912154,
          2464704.1262503434,
          2453412.5940874023,
          2588394.342995662,
          2567693.6784031736,
          2701008.6061389656,
          2567693.6784031736,
          2516661.3129912154,
          2632518.665476286,
          2567693.6784031736,
          10813377.206518272,
          10747684.428651242,
          10813377.206518272,
          10502085.652824633,
          10580774.295380991,
          10919795.677333284,
          10649344.931098932,
          10580774.295380991,
          10384098.584450731,
          10384098.584450731,
          10777745.251079416,
          10649344.931098932,
          10580774.295380991,
          10649344.931098932,
          10237946.141559556,
          10672400.978165938,
          10697069.401438132,
          10777745.251079416,
          10580774.295380991,
          10672400.978165938,
          10580774.295380991,
          10899160.675602451,
          10777745.251079416,
          10649344.931098932,
          10672400.978165938,
          10384098.584450731,
          10649344.931098932,
          10697069.401438132,
          10323405.186076513,
          10580774.295380991,
          10384098.584450731,
          10502085.652824633,
          10580774.295380991,
          10237946.141559556,
          10384098.584450731,
          10580774.295380991,
          10580774.295380991,
          10580774.295380991,
          10580774.295380991,
          10237946.141559556,
          10580774.295380991,
          10649344.931098932,
          10899160.675602451,
          7622129.677371772,
          8168130.061426491,
          8450521.319797989,
          8782177.206531333,
          8717589.306223659,
          8652009.29616247,
          8782177.206531333,
          8652009.29616247,
          8774252.907539055,
          8652009.29616247,
          8876205.748094056,
          8652009.29616247,
          8860337.814172912,
          8717041.758000866,
          7622129.677371772,
          8774252.907539055,
          8782177.206531333,
          8774252.907539055,
          7915586.115792227,
          8782177.206531333,
          8450521.319797989,
          8168130.061426491,
          8717589.306223659,
          8652009.29616247,
          8749173.559308052,
          7915586.115792227,
          7981632.627250885,
          8782177.206531333,
          8774252.907539055,
          8717589.306223659,
          8717589.306223659,
          8860337.814172912,
          8759877.239031704,
          8774252.907539055,
          8782177.206531333,
          7622129.677371772,
          8717041.758000866,
          7915586.115792227,
          8749173.559308052,
          8774252.907539055,
          10000672.286774535,
          10193954.244703453,
          10242454.455519471,
          10178870.042659584,
          10167932.77390966,
          10178870.042659584,
          10438333.87368027,
          10178870.042659584,
          10241437.804281948,
          10193954.244703453,
          10438333.87368027,
          10438333.87368027,
          10178870.042659584,
          10178870.042659584,
          10193954.244703453,
          10000672.286774535,
          10178870.042659584,
          10242454.455519471,
          10438333.87368027,
          10178870.042659584,
          10167932.77390966,
          10241437.804281948,
          10178870.042659584,
          10178870.042659584,
          10327203.569458812,
          10241437.804281948,
          10167932.77390966,
          10241437.804281948,
          10327203.569458812,
          10178870.042659584,
          10178870.042659584,
          10327203.569458812,
          10241437.804281948,
          10178870.042659584,
          10327203.569458812,
          3335827.9291196307,
          3516578.703736393,
          3537639.321260518,
          3537639.321260518,
          3272620.997295787,
          3335827.9291196307,
          3272620.997295787,
          3537639.321260518,
          4175479.327070981,
          4175479.327070981,
          3999715.911925205,
          3904302.0783442995,
          3922105.002272915,
          4093328.6170351245,
          3999715.911925205,
          3762674.523336294,
          4000420.133150591,
          4093328.6170351245,
          3422074.4546402507,
          4175479.327070981,
          3904302.0783442995,
          4093328.6170351245,
          3904302.0783442995,
          3922105.002272915,
          3422074.4546402507,
          4175479.327070981,
          3922105.002272915,
          4175479.327070981,
          3999715.911925205,
          3422074.4546402507,
          3922105.002272915,
          3999715.911925205,
          3904302.0783442995,
          3999715.911925205,
          2154700.0338782305,
          2181900.6233766205,
          2154700.0338782305,
          1922081.7324785208,
          2181900.6233766205,
          2138559.046202165,
          2148301.067731357,
          2138559.046202165,
          2156608.494517816,
          2154700.0338782305,
          5246379.850092286,
          5346462.538474719,
          5346462.538474719,
          5346462.538474719,
          5259821.17524597,
          5273820.822960578,
          5246379.850092286,
          5127301.563001261,
          5249778.49606413,
          5249948.263522884,
          5249948.263522884,
          5249948.263522884,
          5138422.7701539695,
          5138422.7701539695,
          5273820.822960578,
          5273820.822960578,
          5203065.9267800525,
          1199791.103749442,
          1186976.27238558,
          1166423.5559137147,
          1186976.27238558,
          1213511.985626027,
          1213511.985626027,
          1186976.27238558,
          1213511.985626027,
          1186976.27238558,
          1166423.5559137147,
          1213511.985626027,
          1199326.3749363415,
          1186976.27238558,
          1166423.5559137147,
          1195630.3482826687,
          1186976.27238558,
          1186976.27238558,
          1213511.985626027,
          1213511.985626027,
          1166423.5559137147,
          1124999.3261593448,
          1186976.27238558,
          1186976.27238558,
          1166423.5559137147,
          1186976.27238558,
          1166423.5559137147,
          1186976.27238558,
          1195630.3482826687,
          1186976.27238558,
          1166423.5559137147,
          1166423.5559137147,
          1166423.5559137147,
          1186976.27238558,
          1195630.3482826687,
          1195630.3482826687,
          1204393.8978011438,
          1166423.5559137147,
          1166423.5559137147,
          1199326.3749363415,
          1213511.985626027,
          1186976.27238558,
          3128863.395673326,
          2894203.559662908,
          3085131.7431192673,
          3128863.395673326,
          3082897.116537904,
          3128863.395673326,
          2894203.559662908,
          2873130.4559409926,
          809163.4442158436,
          804776.5267790726,
          778402.7599128725,
          22647913.824828766,
          25560001.79078404,
          25560001.79078404,
          25145569.087126374,
          22526950.986255437,
          23214842.748630304,
          25145569.087126374,
          25145569.087126374,
          25145569.087126374,
          25474326.669972654,
          23480592.954545505,
          25264051.427003644,
          25431617.937829766,
          25264051.427003644,
          22770133.34230497,
          25560001.79078404,
          25211855.6152853,
          23150507.06373837,
          25474326.669972654,
          25389718.37811973,
          25474326.669972654,
          25431617.937829766,
          25474326.669972654,
          25211855.6152853,
          23150507.06373837,
          25145569.087126374,
          23150507.06373837,
          25145569.087126374,
          25145569.087126374,
          23150507.06373837,
          25431617.937829766,
          22647913.824828766,
          25145569.087126374,
          25145569.087126374,
          25474326.669972654,
          25145569.087126374,
          25264051.427003644,
          23480592.954545505,
          25145569.087126374,
          25211855.6152853,
          25145569.087126374,
          25211855.6152853,
          25145569.087126374,
          23495153.244167745,
          25211855.6152853,
          25264051.427003644,
          22647913.824828766,
          25211855.6152853,
          22647913.824828766,
          22770133.34230497,
          25145569.087126374,
          23242799.10189221,
          25145569.087126374,
          25389718.37811973,
          25474326.669972654,
          25389718.37811973,
          23150507.06373837,
          25145569.087126374,
          23495153.244167745,
          25145569.087126374,
          25211855.6152853,
          23495153.244167745,
          25560001.79078404,
          25560001.79078404,
          25474326.669972654,
          25145569.087126374,
          25145569.087126374,
          22770133.34230497,
          23495153.244167745,
          23480592.954545505,
          25431617.937829766,
          4256150.091898929,
          4488184.004113111,
          4351322.846227438,
          4642795.230295861,
          4642795.230295861,
          4485552.246288211,
          4351322.846227438,
          4642795.230295861,
          4110793.862613501,
          4642795.230295861,
          4485552.246288211,
          4642795.230295861,
          4379687.029404435,
          4351322.846227438,
          4110793.862613501,
          4485552.246288211,
          4488184.004113111,
          4404907.530639264,
          4488184.004113111,
          4256150.091898929,
          4256150.091898929,
          4642795.230295861,
          4488184.004113111,
          4256150.091898929,
          4256150.091898929,
          4485552.246288211,
          4642795.230295861,
          4379687.029404435,
          4379687.029404435,
          4256150.091898929,
          4642795.230295861,
          4488184.004113111,
          4246169.524919415,
          4267911.273553198,
          4193805.9387098905,
          4642795.230295861,
          4485552.246288211,
          4379687.029404435,
          4404907.530639264,
          4642795.230295861,
          15421796.182122499,
          15150965.523340812,
          16075642.846787283,
          16075642.846787283,
          15912099.781926,
          15912099.781926,
          16150141.672167398,
          14602134.778144881,
          15067699.490543438,
          16075642.846787283,
          15912099.781926,
          15408948.370942026,
          15408948.370942026,
          15408948.370942026,
          15408948.370942026,
          15408948.370942026,
          15273007.072979888,
          16075642.846787283,
          15408948.370942026,
          15912099.781926,
          15465551.271979433,
          15408948.370942026,
          16075642.846787283,
          15912099.781926,
          15421796.182122499,
          15408948.370942026,
          15408948.370942026,
          16075642.846787283,
          15912099.781926,
          15912099.781926,
          15408948.370942026,
          15421796.182122499,
          15408948.370942026,
          15912099.781926,
          15408948.370942026,
          15408948.370942026,
          16075642.846787283,
          15408948.370942026,
          15408948.370942026,
          16075642.846787283,
          15408948.370942026,
          15408948.370942026,
          15067699.490543438,
          15067699.490543438,
          14966917.156003322,
          40590667.00907879,
          41377927.94117873,
          40144833.84685838,
          44266063.44936187,
          43150309.47314173,
          42455088.5266551,
          41377927.94117873,
          40144833.84685838,
          39554525.88388436,
          42455088.5266551,
          39554525.88388436,
          39554525.88388436,
          42455088.5266551,
          41377927.94117873,
          44266063.44936187,
          42455088.5266551,
          41146323.831042595,
          40844289.31645043,
          42455088.5266551,
          44266063.44936187,
          41146323.831042595,
          44266063.44936187,
          40844289.31645043,
          41146323.831042595,
          40590667.00907879,
          41146323.831042595,
          40995450.54573689,
          44266063.44936187,
          41377927.94117873,
          40844289.31645043,
          41377927.94117873,
          40144833.84685838,
          40590667.00907879,
          38892510.07130546,
          41377927.94117873,
          40144833.84685838,
          41377927.94117873,
          41377927.94117873,
          38892510.07130546,
          41377927.94117873,
          40844289.31645043,
          40144833.84685838,
          44266063.44936187,
          43150309.47314173,
          44266063.44936187,
          44266063.44936187,
          44266063.44936187,
          42455088.5266551,
          42455088.5266551,
          42455088.5266551,
          40995450.54573689,
          42455088.5266551,
          36844191.059460305,
          40144833.84685838,
          40590667.00907879,
          39554525.88388436,
          40844289.31645043,
          42455088.5266551,
          41615413.57878578,
          37439076.269618966,
          44266063.44936187,
          42455088.5266551,
          45745566.04074206,
          42455088.5266551,
          45745566.04074206,
          40144833.84685838,
          41146323.831042595,
          40144833.84685838,
          44266063.44936187,
          41146323.831042595,
          42455088.5266551,
          41146323.831042595,
          44266063.44936187,
          40844289.31645043,
          38892510.07130546,
          39554525.88388436,
          40590667.00907879,
          39554525.88388436,
          42455088.5266551,
          40590667.00907879,
          44266063.44936187,
          40590667.00907879,
          37439076.269618966,
          41146323.831042595,
          41377927.94117873,
          36844191.059460305,
          40844289.31645043,
          36844191.059460305,
          40844289.31645043,
          38295087.34757296,
          41377927.94117873,
          40844289.31645043,
          42455088.5266551,
          40844289.31645043,
          40844289.31645043,
          44266063.44936187,
          40844289.31645043,
          37439076.269618966,
          38892510.07130546,
          38892510.07130546,
          40844289.31645043,
          41615413.57878578,
          41377927.94117873,
          41615413.57878578,
          38295087.34757296,
          43150309.47314173,
          38295087.34757296,
          40995450.54573689,
          44266063.44936187,
          40590667.00907879,
          41377927.94117873,
          44266063.44936187,
          38892510.07130546,
          39554525.88388436,
          41615413.57878578,
          40995450.54573689,
          36844191.059460305,
          40995450.54573689,
          40844289.31645043,
          41377927.94117873,
          44266063.44936187,
          40995450.54573689,
          40844289.31645043,
          41146323.831042595,
          40995450.54573689,
          41377927.94117873,
          39554525.88388436,
          40144833.84685838,
          40995450.54573689,
          41615413.57878578,
          37439076.269618966,
          41615413.57878578,
          45745566.04074206,
          44266063.44936187,
          38295087.34757296,
          44266063.44936187,
          41615413.57878578,
          39554525.88388436,
          36942792.745446526,
          44266063.44936187,
          43150309.47314173,
          41146323.831042595,
          40844289.31645043,
          40844289.31645043,
          40844289.31645043,
          41146323.831042595,
          36844191.059460305,
          41146323.831042595,
          40844289.31645043,
          40995450.54573689,
          44266063.44936187,
          41377927.94117873,
          41146323.831042595,
          40590667.00907879,
          41377927.94117873,
          41146323.831042595,
          40844289.31645043,
          44266063.44936187,
          41146323.831042595,
          40844289.31645043,
          41615413.57878578,
          41615413.57878578,
          38892510.07130546,
          40590667.00907879,
          40844289.31645043,
          45745566.04074206,
          41615413.57878578,
          36844191.059460305,
          41146323.831042595,
          36844191.059460305,
          40590667.00907879,
          40590667.00907879,
          38892510.07130546,
          41377927.94117873,
          36844191.059460305,
          40590667.00907879,
          41377927.94117873,
          43150309.47314173,
          40590667.00907879,
          38892510.07130546,
          43150309.47314173,
          36844191.059460305,
          37439076.269618966,
          40995450.54573689,
          43150309.47314173,
          40590667.00907879,
          44266063.44936187,
          44266063.44936187,
          40844289.31645043,
          42455088.5266551,
          40995450.54573689,
          40995450.54573689,
          44266063.44936187,
          40995450.54573689,
          40590667.00907879,
          41377927.94117873,
          40844289.31645043,
          41377927.94117873,
          41615413.57878578,
          39554525.88388436,
          40844289.31645043,
          41615413.57878578,
          38892510.07130546,
          42455088.5266551,
          41377927.94117873,
          40590667.00907879,
          40590667.00907879,
          38295087.34757296,
          41377927.94117873,
          43150309.47314173,
          2144334.0407455005,
          2214864.50733409,
          2144334.0407455005,
          2189829.673290971,
          2235214.5930862054,
          2189829.673290971,
          2235214.5930862054,
          2214864.50733409,
          2235214.5930862054,
          2214864.50733409,
          2249247.8809084357,
          2189829.673290971,
          2184302.1028189575,
          2214864.50733409,
          2214864.50733409,
          2189829.673290971,
          1958897.4603410438,
          2214864.50733409,
          2086276.5446236888,
          2059365.0274485347,
          2235214.5930862054,
          2251340.1116294228,
          2235214.5930862054,
          2189829.673290971,
          2249247.8809084357,
          8426984.354207586,
          8878977.405518424,
          8878977.405518424,
          8772017.886292277,
          8772017.886292277,
          7987487.474753948,
          8658142.99895676,
          7886993.23596757,
          7536342.642798077,
          8878977.405518424,
          8772017.886292277,
          8878977.405518424,
          8837532.857961642,
          8878977.405518424,
          8878977.405518424,
          8292967.288197728,
          8873054.297650531,
          8873054.297650531,
          7760464.911603563,
          8837532.857961642,
          8779486.385154221,
          8837532.857961642,
          8873054.297650531,
          8779486.385154221,
          8426984.354207586,
          8426984.354207586,
          8772017.886292277,
          7732355.157593634,
          8278723.744607298,
          7886993.23596757,
          8292967.288197728,
          8278723.744607298,
          8873054.297650531,
          8878977.405518424,
          8278723.744607298,
          8772017.886292277,
          8837532.857961642,
          1903207.4238162683,
          1787396.295572406,
          1708459.5040074834,
          1727640.8133063442,
          797223.9861182537,
          765554.9570041607,
          765554.9570041607,
          722479.5001859635,
          722479.5001859635,
          771498.4350878658,
          1741482.7434172283,
          1716565.7723778824,
          1544634.9715051958,
          1716565.7723778824,
          1716565.7723778824,
          1716565.7723778824,
          1716565.7723778824,
          1716565.7723778824,
          554238.6655715348,
          559044.2155494643,
          559044.2155494643,
          559044.2155494643,
          554554.2898902037,
          565790.9236750306,
          559044.2155494643,
          565790.9236750306,
          559044.2155494643,
          8470399.799477007,
          8605004.57147016,
          8470399.799477007,
          8470399.799477007,
          8576311.305005675,
          8576311.305005675,
          8605004.57147016,
          8873959.811812855,
          8597392.460242495,
          8667687.86458957,
          8470399.799477007,
          8781384.645006213,
          8627433.880891176,
          8781384.645006213,
          8470399.799477007,
          8576311.305005675,
          8596275.68444223,
          4759489.657210097,
          4671278.975452517,
          4759489.657210097,
          4843080.846272505,
          4671278.975452517,
          4759489.657210097,
          4899244.303216874,
          4671278.975452517,
          4671278.975452517,
          4759489.657210097,
          5008944.545454528,
          4826603.431936882,
          4759489.657210097,
          4826603.431936882,
          4615091.077588309,
          4847304.258929854,
          4714526.399576393,
          4899244.303216874,
          3436114.042693204,
          3311334.7070147037,
          2731489.2210124843,
          3311334.7070147037,
          3207085.858824025,
          3073539.4964366546,
          3207085.858824025,
          3073539.4964366546,
          2906606.2341937046,
          3436114.042693204,
          3438061.0447295704,
          2877314.8898975644,
          3436114.042693204,
          3207085.858824025,
          3381960.85161997,
          3207085.858824025,
          3381960.85161997,
          3381960.85161997,
          3207085.858824025,
          2749692.23243404,
          3436114.042693204,
          3436114.042693204,
          3311334.7070147037,
          3207085.858824025,
          8507551.177026844,
          8600116.39048091,
          8507551.177026844,
          8507551.177026844,
          8600116.39048091,
          7860023.918110857,
          8504812.610959552,
          8600116.39048091,
          8600116.39048091,
          8600116.39048091,
          7851455.490656308,
          8777896.765258556,
          8600116.39048091,
          8504812.610959552,
          7890183.706332621,
          8504812.610959552,
          8504812.610959552,
          8600116.39048091,
          1048698.1818181823,
          1055046.8223006763,
          1055046.8223006763,
          1048698.1818181823,
          1055046.8223006763,
          1012331.1175668079,
          1055046.8223006763,
          1075891.239717224,
          1060784.1898832521,
          1057045.568831223,
          1057045.568831223,
          1074128.194218284,
          1033245.2909598841,
          1028158.3140342173,
          1028158.3140342173,
          1075891.239717224,
          1057045.568831223,
          1041674.2300855559,
          1048698.1818181823,
          1316837.986336075,
          1316837.986336075,
          1316837.986336075,
          1321419.1940486655,
          1321419.1940486655,
          1316837.986336075,
          1321419.1940486655,
          1321419.1940486655,
          1311154.0933134963,
          1269684.604486423,
          1321419.1940486655,
          1321419.1940486655,
          1321419.1940486655,
          1316837.986336075,
          2507420.052830664,
          2450708.877386562,
          2530562.335286094,
          2507420.052830664,
          2471869.5627959133,
          2561084.6835373086,
          2471869.5627959133,
          5533730.13315148,
          5533730.13315148,
          4993751.240091486,
          5386610.434161322,
          5357359.034275912,
          5386610.434161322,
          5793313.0583420275,
          5770587.063067531,
          5449506.330613003,
          5358598.796201891,
          4993269.220961365,
          5449506.330613003,
          5449506.330613003,
          4993269.220961365,
          5449506.330613003,
          2438432.8419850534,
          2661273.988403821,
          2661273.988403821,
          2661273.988403821,
          2561653.395554289,
          2661273.988403821,
          2755991.198020427,
          2661273.988403821,
          2426298.567228113,
          1391776.003491663,
          1422366.4096582981,
          1348533.6788321116,
          1348533.6788321116,
          1348533.6788321116,
          1202349.440505329,
          1147869.6350607323,
          1045427.1416544426,
          1147869.6350607323,
          1022222.8300405601,
          1147869.6350607323,
          1202349.440505329,
          1202349.440505329,
          1202349.440505329,
          821077.7521119656,
          569806.0947064959,
          781997.4380891173,
          781997.4380891173,
          805580.6048273544
         ],
         "xaxis": "x",
         "y": [
          3060,
          1,
          3000,
          2550,
          1740,
          1860,
          2970,
          3960,
          155,
          3621,
          7740,
          8880,
          0,
          1322,
          60,
          19,
          0,
          21,
          196,
          840,
          935,
          1260,
          null,
          619,
          150,
          762,
          0,
          660,
          1,
          2700,
          1,
          4921,
          95,
          251,
          4125,
          2550,
          null,
          1200,
          310,
          2818,
          5054,
          136,
          528,
          150,
          46,
          1,
          1920,
          null,
          32,
          null,
          135,
          3000,
          32,
          108653,
          8468,
          960,
          44,
          1605,
          4410,
          388,
          480,
          1219,
          90,
          18660,
          538,
          104,
          60,
          1272,
          60,
          1,
          1000,
          17339,
          9576,
          3090,
          6510,
          5820,
          1078,
          1513,
          4830,
          3051,
          4200,
          2085,
          5730,
          4290,
          2670,
          3540,
          3637,
          1710,
          4320,
          3915,
          3120,
          4590,
          7530,
          5034,
          8160,
          3300,
          4320,
          1770,
          9857,
          4080,
          5670,
          5700,
          1995,
          300,
          5115,
          2670,
          7650,
          4338,
          761,
          5760,
          2820,
          4110,
          3360,
          3015,
          232,
          11525,
          6420,
          46080,
          5700,
          5610,
          78377,
          270,
          4050,
          5865,
          1,
          2325,
          4170,
          4485,
          2694,
          168,
          5580,
          705,
          11850,
          3494,
          4560,
          2760,
          5760,
          8922,
          6030,
          7800,
          4242,
          3120,
          5700,
          900,
          1046,
          7620,
          3630,
          1260,
          5840,
          5790,
          2820,
          600,
          4259,
          2939,
          7080,
          3600,
          1588,
          4260,
          2700,
          200,
          8430,
          85,
          9150,
          1019,
          420,
          1140,
          7440,
          4458,
          373,
          1203,
          868,
          1455,
          206,
          1195,
          1559,
          900,
          2690,
          5115,
          5,
          189,
          2142,
          360,
          null,
          225,
          2340,
          480,
          9486,
          480,
          3000,
          300,
          3020,
          766,
          null,
          1335,
          197,
          245,
          3255,
          12180,
          1077,
          600,
          186,
          690,
          27698,
          402,
          2420,
          327,
          1,
          1860,
          220,
          455,
          318,
          757,
          847,
          410,
          215,
          5,
          570,
          12124,
          2655,
          20160,
          1440,
          600,
          39,
          181,
          1185,
          1500,
          0,
          271,
          1860,
          1200,
          2159,
          6300,
          null,
          1620,
          224,
          70,
          1697,
          95,
          2220,
          null,
          7809,
          1200,
          121,
          63,
          5595,
          1,
          557,
          240,
          3360,
          685,
          2280,
          210,
          167,
          1920,
          3569,
          3300,
          10,
          1560,
          840,
          240,
          990,
          6000,
          17865,
          1282,
          1080,
          7540,
          1320,
          1110,
          27698,
          130,
          3040,
          394,
          10140,
          20160,
          21540,
          45,
          1,
          1200,
          550,
          900,
          885,
          940,
          null,
          3050,
          1830,
          6000,
          1500,
          150,
          1955,
          2220,
          330,
          74,
          420,
          1440,
          255,
          1060,
          12240,
          5250,
          4320,
          120,
          233,
          null,
          65,
          2120,
          96,
          3,
          4320,
          65,
          2146,
          96,
          4032,
          2580,
          6,
          569,
          0,
          15950,
          200,
          1980,
          4045,
          2730,
          3314,
          7319,
          1,
          47,
          1440,
          276,
          0,
          0,
          3646,
          1130,
          2880,
          513,
          35,
          23773,
          10,
          3872,
          23187,
          12240,
          390,
          null,
          3264,
          1230,
          803,
          77,
          30,
          300,
          1,
          5,
          1450,
          2680,
          null,
          7609,
          150,
          3000,
          420,
          479,
          1680,
          2700,
          149,
          1110,
          2790,
          659,
          1320,
          1830,
          3000,
          null,
          870,
          810,
          1336,
          1695,
          360,
          360,
          120,
          3000,
          1290,
          1530,
          2370,
          1200,
          1200,
          90,
          120,
          1200,
          2761,
          720,
          1120,
          2100,
          960,
          450,
          1440,
          1020,
          0,
          2010,
          120,
          9230,
          1240,
          465,
          0,
          2460,
          1183,
          8880,
          394,
          219,
          487,
          19,
          28,
          0,
          1,
          5340,
          8940,
          467,
          0,
          1920,
          0,
          25,
          420,
          2040,
          0,
          1,
          1423,
          60,
          1620,
          3300,
          385,
          663,
          123,
          1276,
          1919,
          null,
          440,
          6690,
          null,
          0,
          null,
          717,
          1204,
          292,
          313,
          1,
          5,
          6276,
          0,
          74,
          0,
          null,
          248,
          1,
          2700,
          25,
          126,
          1,
          255,
          1207,
          0,
          0,
          245,
          476,
          null,
          null,
          null,
          1,
          2639,
          502,
          548,
          369,
          6480,
          15,
          5,
          null,
          1,
          0,
          432,
          21,
          1697,
          0,
          2615,
          9630,
          3507,
          2820,
          314,
          5855,
          0,
          0,
          1,
          22769,
          70,
          4285,
          355,
          0,
          2520,
          0,
          180,
          554,
          50,
          70,
          180,
          3842,
          35,
          1,
          189,
          49320,
          4200,
          353,
          1,
          87,
          66,
          null,
          1,
          227,
          null,
          1440,
          1,
          2700,
          null,
          49320,
          2,
          215,
          451,
          418,
          100,
          2021,
          1671,
          3938,
          4470,
          2279,
          4440,
          2760,
          0,
          1,
          0,
          1,
          1840,
          428,
          331,
          1980,
          1,
          1,
          1950,
          3037,
          1,
          1,
          1196,
          5628,
          1440,
          7700,
          2,
          12890,
          4232,
          95,
          2610,
          4320,
          17,
          113,
          0,
          2507,
          0,
          1,
          4920,
          1,
          4080,
          0,
          960,
          185,
          1320,
          1673,
          2855,
          3060,
          565,
          1,
          1,
          7298,
          5790,
          3040,
          11700,
          7987,
          304,
          4517,
          0,
          3058,
          13381,
          2865,
          152,
          380,
          9450,
          7803,
          5579,
          8979,
          4800,
          3060,
          4792,
          3894,
          1757,
          2880,
          2985,
          164,
          3232,
          2319,
          4338,
          2880,
          1714,
          90,
          59,
          4139,
          10530,
          6938,
          930,
          278,
          299,
          5320,
          2880,
          1,
          4260,
          6713,
          5160,
          1440,
          78,
          7523,
          2668,
          1,
          376,
          1324,
          6940,
          2684,
          54,
          100,
          720,
          2880,
          3189,
          2790,
          13679,
          2843,
          13488,
          1642,
          7709,
          7080,
          1440,
          1,
          1680,
          1579,
          652,
          108,
          300,
          1020,
          3570,
          6492,
          23700,
          10499,
          15180,
          0,
          120,
          1,
          1,
          1,
          1,
          1,
          1,
          60,
          113,
          204,
          31,
          57,
          13,
          2,
          11,
          283,
          0,
          1,
          871,
          1631,
          56,
          15,
          15,
          20,
          60,
          1,
          95,
          300,
          1,
          3186,
          575,
          2275,
          15,
          1,
          44,
          21,
          1,
          114,
          1,
          60,
          4920,
          null,
          4920,
          420,
          0,
          7,
          21,
          340,
          4200,
          805,
          5040,
          7430,
          5490,
          165,
          3630,
          11640,
          1590,
          3137,
          1440,
          7920,
          360,
          0,
          1440,
          1372,
          6480,
          2190,
          285,
          75,
          1843,
          1,
          11531,
          1420,
          0,
          930,
          11420,
          0,
          352,
          0,
          960,
          1733,
          3690,
          10619,
          634,
          11280,
          1440,
          180,
          1574,
          45,
          563,
          388,
          373,
          4510,
          290,
          1950,
          270,
          1355,
          1318,
          2490,
          1265,
          195,
          3120,
          3388,
          1025,
          990,
          240,
          1485,
          129,
          0,
          1528,
          1890,
          2551,
          985,
          405,
          1698,
          167,
          1460,
          182,
          4113,
          null,
          885,
          15,
          42,
          1050,
          1,
          132,
          4140,
          2880,
          null,
          11430,
          3599,
          0,
          2941,
          null,
          6090,
          1365,
          375,
          2520,
          10080,
          76,
          0,
          3720,
          333,
          0,
          353,
          11337,
          0,
          0,
          7020,
          11058,
          null,
          9360,
          3300,
          3339,
          2880,
          11580,
          9600,
          13201,
          9719,
          488,
          2415,
          180,
          4177,
          7440,
          3480,
          6600,
          300,
          1526,
          60,
          210,
          2,
          1350,
          73,
          1,
          200,
          0,
          null,
          4380,
          0,
          120,
          2680,
          840,
          989,
          4313,
          214,
          4,
          164,
          91,
          1050,
          838,
          60,
          1,
          1,
          9886,
          2425,
          390,
          14500,
          6660,
          159,
          54,
          30,
          8077,
          855,
          65,
          810,
          4150,
          4740,
          25,
          0,
          null,
          2070,
          870,
          12652,
          2880,
          120,
          1199,
          null,
          1470,
          4140,
          15420,
          50,
          0,
          1,
          1,
          0,
          0,
          0,
          457,
          1,
          1,
          0,
          30,
          1,
          1,
          65,
          1,
          0,
          0,
          0,
          1,
          null,
          1,
          0,
          1,
          1,
          110,
          39,
          1,
          1,
          1,
          1,
          1,
          1,
          507,
          213,
          4254,
          1,
          1,
          53,
          0,
          0,
          251,
          347,
          1637,
          21360,
          2161,
          2880,
          1044,
          8670,
          56,
          93,
          13,
          2089,
          20280,
          14639,
          2880,
          681,
          494,
          1,
          5355,
          0,
          3943,
          3300,
          191,
          0,
          73,
          4680,
          17310,
          10080,
          10726,
          1,
          5,
          2515,
          25920,
          2730,
          9480,
          5400,
          30,
          3584,
          3600,
          5850,
          4710,
          1,
          1732,
          0,
          23040,
          1800,
          6074,
          null,
          49,
          2299,
          5760,
          420,
          7320,
          2880,
          448,
          2520,
          18717,
          5513,
          21,
          2100,
          3120,
          8221,
          3240,
          2880,
          255,
          2355,
          161,
          50,
          258,
          13140,
          8640,
          18240,
          15492,
          8268,
          0,
          300,
          14400,
          7962,
          2400,
          11296,
          48,
          60480,
          28170,
          300,
          8054,
          2775,
          2775,
          2160,
          2100,
          2775,
          3180,
          2775,
          1440,
          430,
          2129,
          1755,
          null,
          692,
          732,
          7,
          510,
          420,
          13215,
          557,
          300,
          17812,
          20416,
          6240,
          467,
          3067,
          3060,
          355,
          430,
          300,
          227,
          52,
          null,
          2880,
          18804,
          1867,
          1690,
          295,
          17,
          240,
          17520,
          8189,
          182,
          5820,
          83,
          230,
          2009,
          720,
          155,
          4320,
          4320,
          480,
          1005,
          221,
          372,
          13430,
          4320,
          91,
          1419,
          3600,
          10080,
          5071,
          152,
          6840,
          221,
          24780,
          38,
          61,
          7560,
          90,
          10380,
          396,
          2040,
          12060,
          1080,
          1680,
          13920,
          14101,
          1099,
          2460,
          540,
          52,
          816,
          420,
          155,
          437,
          247,
          540,
          1135,
          437,
          180,
          171,
          656,
          84,
          202,
          255,
          1054,
          1,
          1254,
          1456,
          177,
          106,
          32,
          2464,
          55,
          144,
          70,
          64,
          8873,
          945,
          null,
          523,
          56,
          3,
          8472,
          155,
          33,
          749,
          159,
          null,
          270,
          2790,
          224,
          1470,
          334,
          2050,
          370,
          26,
          797,
          12,
          195,
          1,
          230,
          125,
          15,
          316,
          365,
          1560,
          4740,
          294,
          455,
          2878,
          336,
          295,
          480,
          25,
          null,
          223,
          2645,
          2016,
          7371,
          360,
          3408,
          3698,
          4890,
          1,
          871,
          2759,
          250,
          3301,
          249,
          164,
          435,
          420,
          854,
          5160,
          133,
          15180,
          2055,
          451,
          140,
          199,
          721,
          179,
          1524,
          78,
          268,
          39,
          1,
          14190,
          47,
          161,
          900,
          6070,
          697,
          234,
          14,
          5910,
          null,
          34390,
          40,
          166,
          182,
          829,
          15,
          64,
          13,
          245,
          1080,
          null,
          390,
          47,
          269,
          null,
          400,
          660,
          213,
          null,
          761,
          8100,
          180,
          124,
          4320,
          2820,
          3100,
          49427,
          989,
          125,
          44,
          26,
          245,
          null,
          98,
          1,
          0,
          135,
          50,
          1008,
          53,
          554,
          1260,
          2895,
          89,
          98,
          865,
          128,
          230,
          252,
          130,
          5,
          157,
          6914,
          11,
          13,
          2880,
          270,
          962,
          47,
          null,
          20,
          108,
          9855,
          75,
          17,
          21,
          1950,
          11867,
          141,
          959,
          1035,
          617,
          1230,
          572,
          324,
          1835,
          6780,
          900,
          null,
          37,
          72,
          1,
          251,
          620,
          89,
          909,
          236,
          326,
          300,
          751,
          122,
          214,
          193,
          8,
          5227,
          null,
          1414,
          448,
          4605,
          4080,
          null,
          1914,
          759,
          1,
          10274,
          3,
          2700,
          105,
          240,
          210,
          1,
          1201,
          30,
          2806,
          1226,
          300,
          206,
          270,
          2880,
          513,
          8160,
          3314,
          414,
          126,
          60,
          285,
          110,
          62,
          2363,
          424,
          180,
          0,
          448,
          2,
          624,
          2435,
          131,
          null,
          208,
          103,
          1355,
          1523,
          90,
          1205,
          385,
          144,
          235,
          241,
          6787,
          1337,
          1673,
          3366,
          2640,
          1826,
          570,
          1565,
          2691,
          1072,
          115,
          816,
          168,
          30,
          160,
          485,
          1508,
          1301,
          159,
          60,
          4,
          9600,
          106,
          0,
          0,
          1,
          32,
          61,
          314,
          30,
          0,
          92,
          390,
          161,
          60,
          76,
          1,
          1,
          160,
          20,
          1,
          1,
          70,
          50,
          15,
          810,
          1380,
          1800,
          1560,
          2054,
          1452,
          1865,
          1999,
          120,
          1950,
          360,
          1087,
          1200,
          4122,
          360,
          645,
          108,
          0,
          1,
          1440,
          4560,
          1,
          1,
          110,
          210,
          120,
          0,
          4260,
          76,
          210,
          3305,
          5880,
          145,
          60,
          2640,
          1042,
          110,
          11880,
          2245,
          984,
          7200,
          1381,
          148,
          13972,
          null,
          796,
          300,
          null,
          2612,
          3000,
          431,
          5310,
          1732,
          0,
          6685,
          3300,
          280,
          117,
          2895,
          480,
          31,
          1,
          0,
          0,
          103,
          4745,
          307,
          1656,
          3525,
          374,
          1068,
          1569,
          114,
          115,
          15,
          2891,
          1,
          1676,
          0,
          0,
          3604,
          195,
          1,
          0,
          2108,
          198,
          3667,
          1037,
          673,
          null,
          2652,
          300,
          881,
          618,
          1187,
          950,
          2535,
          27,
          108,
          73,
          200,
          5,
          75,
          0,
          77,
          660,
          0,
          92,
          30,
          33,
          1895,
          274,
          1,
          1534,
          1,
          60,
          108,
          2,
          175,
          null,
          2040,
          2710,
          284,
          105,
          4019,
          1,
          391,
          439,
          5,
          201,
          2140,
          103,
          null,
          187,
          1406,
          348,
          13650,
          90,
          913,
          null,
          14040,
          1367,
          174,
          543,
          237,
          1906,
          224,
          0,
          95,
          360,
          1548,
          870,
          0,
          null,
          220,
          720,
          null,
          59,
          181,
          null
         ],
         "yaxis": "y"
        }
       ],
       "layout": {
        "legend": {
         "tracegroupgap": 0
        },
        "margin": {
         "t": 60
        },
        "template": {
         "data": {
          "bar": [
           {
            "error_x": {
             "color": "#2a3f5f"
            },
            "error_y": {
             "color": "#2a3f5f"
            },
            "marker": {
             "line": {
              "color": "#E5ECF6",
              "width": 0.5
             },
             "pattern": {
              "fillmode": "overlay",
              "size": 10,
              "solidity": 0.2
             }
            },
            "type": "bar"
           }
          ],
          "barpolar": [
           {
            "marker": {
             "line": {
              "color": "#E5ECF6",
              "width": 0.5
             },
             "pattern": {
              "fillmode": "overlay",
              "size": 10,
              "solidity": 0.2
             }
            },
            "type": "barpolar"
           }
          ],
          "carpet": [
           {
            "aaxis": {
             "endlinecolor": "#2a3f5f",
             "gridcolor": "white",
             "linecolor": "white",
             "minorgridcolor": "white",
             "startlinecolor": "#2a3f5f"
            },
            "baxis": {
             "endlinecolor": "#2a3f5f",
             "gridcolor": "white",
             "linecolor": "white",
             "minorgridcolor": "white",
             "startlinecolor": "#2a3f5f"
            },
            "type": "carpet"
           }
          ],
          "choropleth": [
           {
            "colorbar": {
             "outlinewidth": 0,
             "ticks": ""
            },
            "type": "choropleth"
           }
          ],
          "contour": [
           {
            "colorbar": {
             "outlinewidth": 0,
             "ticks": ""
            },
            "colorscale": [
             [
              0,
              "#0d0887"
             ],
             [
              0.1111111111111111,
              "#46039f"
             ],
             [
              0.2222222222222222,
              "#7201a8"
             ],
             [
              0.3333333333333333,
              "#9c179e"
             ],
             [
              0.4444444444444444,
              "#bd3786"
             ],
             [
              0.5555555555555556,
              "#d8576b"
             ],
             [
              0.6666666666666666,
              "#ed7953"
             ],
             [
              0.7777777777777778,
              "#fb9f3a"
             ],
             [
              0.8888888888888888,
              "#fdca26"
             ],
             [
              1,
              "#f0f921"
             ]
            ],
            "type": "contour"
           }
          ],
          "contourcarpet": [
           {
            "colorbar": {
             "outlinewidth": 0,
             "ticks": ""
            },
            "type": "contourcarpet"
           }
          ],
          "heatmap": [
           {
            "colorbar": {
             "outlinewidth": 0,
             "ticks": ""
            },
            "colorscale": [
             [
              0,
              "#0d0887"
             ],
             [
              0.1111111111111111,
              "#46039f"
             ],
             [
              0.2222222222222222,
              "#7201a8"
             ],
             [
              0.3333333333333333,
              "#9c179e"
             ],
             [
              0.4444444444444444,
              "#bd3786"
             ],
             [
              0.5555555555555556,
              "#d8576b"
             ],
             [
              0.6666666666666666,
              "#ed7953"
             ],
             [
              0.7777777777777778,
              "#fb9f3a"
             ],
             [
              0.8888888888888888,
              "#fdca26"
             ],
             [
              1,
              "#f0f921"
             ]
            ],
            "type": "heatmap"
           }
          ],
          "heatmapgl": [
           {
            "colorbar": {
             "outlinewidth": 0,
             "ticks": ""
            },
            "colorscale": [
             [
              0,
              "#0d0887"
             ],
             [
              0.1111111111111111,
              "#46039f"
             ],
             [
              0.2222222222222222,
              "#7201a8"
             ],
             [
              0.3333333333333333,
              "#9c179e"
             ],
             [
              0.4444444444444444,
              "#bd3786"
             ],
             [
              0.5555555555555556,
              "#d8576b"
             ],
             [
              0.6666666666666666,
              "#ed7953"
             ],
             [
              0.7777777777777778,
              "#fb9f3a"
             ],
             [
              0.8888888888888888,
              "#fdca26"
             ],
             [
              1,
              "#f0f921"
             ]
            ],
            "type": "heatmapgl"
           }
          ],
          "histogram": [
           {
            "marker": {
             "pattern": {
              "fillmode": "overlay",
              "size": 10,
              "solidity": 0.2
             }
            },
            "type": "histogram"
           }
          ],
          "histogram2d": [
           {
            "colorbar": {
             "outlinewidth": 0,
             "ticks": ""
            },
            "colorscale": [
             [
              0,
              "#0d0887"
             ],
             [
              0.1111111111111111,
              "#46039f"
             ],
             [
              0.2222222222222222,
              "#7201a8"
             ],
             [
              0.3333333333333333,
              "#9c179e"
             ],
             [
              0.4444444444444444,
              "#bd3786"
             ],
             [
              0.5555555555555556,
              "#d8576b"
             ],
             [
              0.6666666666666666,
              "#ed7953"
             ],
             [
              0.7777777777777778,
              "#fb9f3a"
             ],
             [
              0.8888888888888888,
              "#fdca26"
             ],
             [
              1,
              "#f0f921"
             ]
            ],
            "type": "histogram2d"
           }
          ],
          "histogram2dcontour": [
           {
            "colorbar": {
             "outlinewidth": 0,
             "ticks": ""
            },
            "colorscale": [
             [
              0,
              "#0d0887"
             ],
             [
              0.1111111111111111,
              "#46039f"
             ],
             [
              0.2222222222222222,
              "#7201a8"
             ],
             [
              0.3333333333333333,
              "#9c179e"
             ],
             [
              0.4444444444444444,
              "#bd3786"
             ],
             [
              0.5555555555555556,
              "#d8576b"
             ],
             [
              0.6666666666666666,
              "#ed7953"
             ],
             [
              0.7777777777777778,
              "#fb9f3a"
             ],
             [
              0.8888888888888888,
              "#fdca26"
             ],
             [
              1,
              "#f0f921"
             ]
            ],
            "type": "histogram2dcontour"
           }
          ],
          "mesh3d": [
           {
            "colorbar": {
             "outlinewidth": 0,
             "ticks": ""
            },
            "type": "mesh3d"
           }
          ],
          "parcoords": [
           {
            "line": {
             "colorbar": {
              "outlinewidth": 0,
              "ticks": ""
             }
            },
            "type": "parcoords"
           }
          ],
          "pie": [
           {
            "automargin": true,
            "type": "pie"
           }
          ],
          "scatter": [
           {
            "fillpattern": {
             "fillmode": "overlay",
             "size": 10,
             "solidity": 0.2
            },
            "type": "scatter"
           }
          ],
          "scatter3d": [
           {
            "line": {
             "colorbar": {
              "outlinewidth": 0,
              "ticks": ""
             }
            },
            "marker": {
             "colorbar": {
              "outlinewidth": 0,
              "ticks": ""
             }
            },
            "type": "scatter3d"
           }
          ],
          "scattercarpet": [
           {
            "marker": {
             "colorbar": {
              "outlinewidth": 0,
              "ticks": ""
             }
            },
            "type": "scattercarpet"
           }
          ],
          "scattergeo": [
           {
            "marker": {
             "colorbar": {
              "outlinewidth": 0,
              "ticks": ""
             }
            },
            "type": "scattergeo"
           }
          ],
          "scattergl": [
           {
            "marker": {
             "colorbar": {
              "outlinewidth": 0,
              "ticks": ""
             }
            },
            "type": "scattergl"
           }
          ],
          "scattermapbox": [
           {
            "marker": {
             "colorbar": {
              "outlinewidth": 0,
              "ticks": ""
             }
            },
            "type": "scattermapbox"
           }
          ],
          "scatterpolar": [
           {
            "marker": {
             "colorbar": {
              "outlinewidth": 0,
              "ticks": ""
             }
            },
            "type": "scatterpolar"
           }
          ],
          "scatterpolargl": [
           {
            "marker": {
             "colorbar": {
              "outlinewidth": 0,
              "ticks": ""
             }
            },
            "type": "scatterpolargl"
           }
          ],
          "scatterternary": [
           {
            "marker": {
             "colorbar": {
              "outlinewidth": 0,
              "ticks": ""
             }
            },
            "type": "scatterternary"
           }
          ],
          "surface": [
           {
            "colorbar": {
             "outlinewidth": 0,
             "ticks": ""
            },
            "colorscale": [
             [
              0,
              "#0d0887"
             ],
             [
              0.1111111111111111,
              "#46039f"
             ],
             [
              0.2222222222222222,
              "#7201a8"
             ],
             [
              0.3333333333333333,
              "#9c179e"
             ],
             [
              0.4444444444444444,
              "#bd3786"
             ],
             [
              0.5555555555555556,
              "#d8576b"
             ],
             [
              0.6666666666666666,
              "#ed7953"
             ],
             [
              0.7777777777777778,
              "#fb9f3a"
             ],
             [
              0.8888888888888888,
              "#fdca26"
             ],
             [
              1,
              "#f0f921"
             ]
            ],
            "type": "surface"
           }
          ],
          "table": [
           {
            "cells": {
             "fill": {
              "color": "#EBF0F8"
             },
             "line": {
              "color": "white"
             }
            },
            "header": {
             "fill": {
              "color": "#C8D4E3"
             },
             "line": {
              "color": "white"
             }
            },
            "type": "table"
           }
          ]
         },
         "layout": {
          "annotationdefaults": {
           "arrowcolor": "#2a3f5f",
           "arrowhead": 0,
           "arrowwidth": 1
          },
          "autotypenumbers": "strict",
          "coloraxis": {
           "colorbar": {
            "outlinewidth": 0,
            "ticks": ""
           }
          },
          "colorscale": {
           "diverging": [
            [
             0,
             "#8e0152"
            ],
            [
             0.1,
             "#c51b7d"
            ],
            [
             0.2,
             "#de77ae"
            ],
            [
             0.3,
             "#f1b6da"
            ],
            [
             0.4,
             "#fde0ef"
            ],
            [
             0.5,
             "#f7f7f7"
            ],
            [
             0.6,
             "#e6f5d0"
            ],
            [
             0.7,
             "#b8e186"
            ],
            [
             0.8,
             "#7fbc41"
            ],
            [
             0.9,
             "#4d9221"
            ],
            [
             1,
             "#276419"
            ]
           ],
           "sequential": [
            [
             0,
             "#0d0887"
            ],
            [
             0.1111111111111111,
             "#46039f"
            ],
            [
             0.2222222222222222,
             "#7201a8"
            ],
            [
             0.3333333333333333,
             "#9c179e"
            ],
            [
             0.4444444444444444,
             "#bd3786"
            ],
            [
             0.5555555555555556,
             "#d8576b"
            ],
            [
             0.6666666666666666,
             "#ed7953"
            ],
            [
             0.7777777777777778,
             "#fb9f3a"
            ],
            [
             0.8888888888888888,
             "#fdca26"
            ],
            [
             1,
             "#f0f921"
            ]
           ],
           "sequentialminus": [
            [
             0,
             "#0d0887"
            ],
            [
             0.1111111111111111,
             "#46039f"
            ],
            [
             0.2222222222222222,
             "#7201a8"
            ],
            [
             0.3333333333333333,
             "#9c179e"
            ],
            [
             0.4444444444444444,
             "#bd3786"
            ],
            [
             0.5555555555555556,
             "#d8576b"
            ],
            [
             0.6666666666666666,
             "#ed7953"
            ],
            [
             0.7777777777777778,
             "#fb9f3a"
            ],
            [
             0.8888888888888888,
             "#fdca26"
            ],
            [
             1,
             "#f0f921"
            ]
           ]
          },
          "colorway": [
           "#636efa",
           "#EF553B",
           "#00cc96",
           "#ab63fa",
           "#FFA15A",
           "#19d3f3",
           "#FF6692",
           "#B6E880",
           "#FF97FF",
           "#FECB52"
          ],
          "font": {
           "color": "#2a3f5f"
          },
          "geo": {
           "bgcolor": "white",
           "lakecolor": "white",
           "landcolor": "#E5ECF6",
           "showlakes": true,
           "showland": true,
           "subunitcolor": "white"
          },
          "hoverlabel": {
           "align": "left"
          },
          "hovermode": "closest",
          "mapbox": {
           "style": "light"
          },
          "paper_bgcolor": "white",
          "plot_bgcolor": "#E5ECF6",
          "polar": {
           "angularaxis": {
            "gridcolor": "white",
            "linecolor": "white",
            "ticks": ""
           },
           "bgcolor": "#E5ECF6",
           "radialaxis": {
            "gridcolor": "white",
            "linecolor": "white",
            "ticks": ""
           }
          },
          "scene": {
           "xaxis": {
            "backgroundcolor": "#E5ECF6",
            "gridcolor": "white",
            "gridwidth": 2,
            "linecolor": "white",
            "showbackground": true,
            "ticks": "",
            "zerolinecolor": "white"
           },
           "yaxis": {
            "backgroundcolor": "#E5ECF6",
            "gridcolor": "white",
            "gridwidth": 2,
            "linecolor": "white",
            "showbackground": true,
            "ticks": "",
            "zerolinecolor": "white"
           },
           "zaxis": {
            "backgroundcolor": "#E5ECF6",
            "gridcolor": "white",
            "gridwidth": 2,
            "linecolor": "white",
            "showbackground": true,
            "ticks": "",
            "zerolinecolor": "white"
           }
          },
          "shapedefaults": {
           "line": {
            "color": "#2a3f5f"
           }
          },
          "ternary": {
           "aaxis": {
            "gridcolor": "white",
            "linecolor": "white",
            "ticks": ""
           },
           "baxis": {
            "gridcolor": "white",
            "linecolor": "white",
            "ticks": ""
           },
           "bgcolor": "#E5ECF6",
           "caxis": {
            "gridcolor": "white",
            "linecolor": "white",
            "ticks": ""
           }
          },
          "title": {
           "x": 0.05
          },
          "xaxis": {
           "automargin": true,
           "gridcolor": "white",
           "linecolor": "white",
           "ticks": "",
           "title": {
            "standoff": 15
           },
           "zerolinecolor": "white",
           "zerolinewidth": 2
          },
          "yaxis": {
           "automargin": true,
           "gridcolor": "white",
           "linecolor": "white",
           "ticks": "",
           "title": {
            "standoff": 15
           },
           "zerolinecolor": "white",
           "zerolinewidth": 2
          }
         }
        },
        "xaxis": {
         "anchor": "y",
         "domain": [
          0,
          1
         ],
         "title": {
          "text": "REALGSP"
         }
        },
        "yaxis": {
         "anchor": "x",
         "domain": [
          0,
          1
         ],
         "title": {
          "text": "OUTAGE.DURATION"
         }
        }
       }
      }
     },
     "metadata": {},
     "output_type": "display_data"
    }
   ],
   "source": [
    "px.scatter(formated_data, x='REALGSP', y='OUTAGE.DURATION')"
   ]
  },
  {
   "cell_type": "markdown",
   "metadata": {},
   "source": [
    "Lots of the durations here are very low, is this because the data is not accurate or because the outages are very short? Compare with something like peak demand loss to see if there is a corelation between the two, which would be expected."
   ]
  },
  {
   "cell_type": "code",
   "execution_count": 13,
   "metadata": {},
   "outputs": [
    {
     "data": {
      "application/vnd.plotly.v1+json": {
       "config": {
        "plotlyServerURL": "https://plot.ly"
       },
       "data": [
        {
         "hovertemplate": "OUTAGE.DURATION=%{x}<br>DEMAND.LOSS.MW=%{y}<extra></extra>",
         "legendgroup": "",
         "marker": {
          "color": "#636efa",
          "symbol": "circle"
         },
         "mode": "markers",
         "name": "",
         "showlegend": false,
         "type": "scattergl",
         "x": [
          3060,
          1,
          3000,
          2550,
          1740,
          1860,
          2970,
          3960,
          155,
          3621,
          7740,
          8880,
          0,
          1322,
          60,
          19,
          0,
          21,
          196,
          840,
          935,
          1260,
          null,
          619,
          150,
          762,
          0,
          660,
          1,
          2700,
          1,
          4921,
          95,
          251,
          4125,
          2550,
          null,
          1200,
          310,
          2818,
          5054,
          136,
          528,
          150,
          46,
          1,
          1920,
          null,
          32,
          null,
          135,
          3000,
          32,
          108653,
          8468,
          960,
          44,
          1605,
          4410,
          388,
          480,
          1219,
          90,
          18660,
          538,
          104,
          60,
          1272,
          60,
          1,
          1000,
          17339,
          9576,
          3090,
          6510,
          5820,
          1078,
          1513,
          4830,
          3051,
          4200,
          2085,
          5730,
          4290,
          2670,
          3540,
          3637,
          1710,
          4320,
          3915,
          3120,
          4590,
          7530,
          5034,
          8160,
          3300,
          4320,
          1770,
          9857,
          4080,
          5670,
          5700,
          1995,
          300,
          5115,
          2670,
          7650,
          4338,
          761,
          5760,
          2820,
          4110,
          3360,
          3015,
          232,
          11525,
          6420,
          46080,
          5700,
          5610,
          78377,
          270,
          4050,
          5865,
          1,
          2325,
          4170,
          4485,
          2694,
          168,
          5580,
          705,
          11850,
          3494,
          4560,
          2760,
          5760,
          8922,
          6030,
          7800,
          4242,
          3120,
          5700,
          900,
          1046,
          7620,
          3630,
          1260,
          5840,
          5790,
          2820,
          600,
          4259,
          2939,
          7080,
          3600,
          1588,
          4260,
          2700,
          200,
          8430,
          85,
          9150,
          1019,
          420,
          1140,
          7440,
          4458,
          373,
          1203,
          868,
          1455,
          206,
          1195,
          1559,
          900,
          2690,
          5115,
          5,
          189,
          2142,
          360,
          null,
          225,
          2340,
          480,
          9486,
          480,
          3000,
          300,
          3020,
          766,
          null,
          1335,
          197,
          245,
          3255,
          12180,
          1077,
          600,
          186,
          690,
          27698,
          402,
          2420,
          327,
          1,
          1860,
          220,
          455,
          318,
          757,
          847,
          410,
          215,
          5,
          570,
          12124,
          2655,
          20160,
          1440,
          600,
          39,
          181,
          1185,
          1500,
          0,
          271,
          1860,
          1200,
          2159,
          6300,
          null,
          1620,
          224,
          70,
          1697,
          95,
          2220,
          null,
          7809,
          1200,
          121,
          63,
          5595,
          1,
          557,
          240,
          3360,
          685,
          2280,
          210,
          167,
          1920,
          3569,
          3300,
          10,
          1560,
          840,
          240,
          990,
          6000,
          17865,
          1282,
          1080,
          7540,
          1320,
          1110,
          27698,
          130,
          3040,
          394,
          10140,
          20160,
          21540,
          45,
          1,
          1200,
          550,
          900,
          885,
          940,
          null,
          3050,
          1830,
          6000,
          1500,
          150,
          1955,
          2220,
          330,
          74,
          420,
          1440,
          255,
          1060,
          12240,
          5250,
          4320,
          120,
          233,
          null,
          65,
          2120,
          96,
          3,
          4320,
          65,
          2146,
          96,
          4032,
          2580,
          6,
          569,
          0,
          15950,
          200,
          1980,
          4045,
          2730,
          3314,
          7319,
          1,
          47,
          1440,
          276,
          0,
          0,
          3646,
          1130,
          2880,
          513,
          35,
          23773,
          10,
          3872,
          23187,
          12240,
          390,
          null,
          3264,
          1230,
          803,
          77,
          30,
          300,
          1,
          5,
          1450,
          2680,
          null,
          7609,
          150,
          3000,
          420,
          479,
          1680,
          2700,
          149,
          1110,
          2790,
          659,
          1320,
          1830,
          3000,
          null,
          870,
          810,
          1336,
          1695,
          360,
          360,
          120,
          3000,
          1290,
          1530,
          2370,
          1200,
          1200,
          90,
          120,
          1200,
          2761,
          720,
          1120,
          2100,
          960,
          450,
          1440,
          1020,
          0,
          2010,
          120,
          9230,
          1240,
          465,
          0,
          2460,
          1183,
          8880,
          394,
          219,
          487,
          19,
          28,
          0,
          1,
          5340,
          8940,
          467,
          0,
          1920,
          0,
          25,
          420,
          2040,
          0,
          1,
          1423,
          60,
          1620,
          3300,
          385,
          663,
          123,
          1276,
          1919,
          null,
          440,
          6690,
          null,
          0,
          null,
          717,
          1204,
          292,
          313,
          1,
          5,
          6276,
          0,
          74,
          0,
          null,
          248,
          1,
          2700,
          25,
          126,
          1,
          255,
          1207,
          0,
          0,
          245,
          476,
          null,
          null,
          null,
          1,
          2639,
          502,
          548,
          369,
          6480,
          15,
          5,
          null,
          1,
          0,
          432,
          21,
          1697,
          0,
          2615,
          9630,
          3507,
          2820,
          314,
          5855,
          0,
          0,
          1,
          22769,
          70,
          4285,
          355,
          0,
          2520,
          0,
          180,
          554,
          50,
          70,
          180,
          3842,
          35,
          1,
          189,
          49320,
          4200,
          353,
          1,
          87,
          66,
          null,
          1,
          227,
          null,
          1440,
          1,
          2700,
          null,
          49320,
          2,
          215,
          451,
          418,
          100,
          2021,
          1671,
          3938,
          4470,
          2279,
          4440,
          2760,
          0,
          1,
          0,
          1,
          1840,
          428,
          331,
          1980,
          1,
          1,
          1950,
          3037,
          1,
          1,
          1196,
          5628,
          1440,
          7700,
          2,
          12890,
          4232,
          95,
          2610,
          4320,
          17,
          113,
          0,
          2507,
          0,
          1,
          4920,
          1,
          4080,
          0,
          960,
          185,
          1320,
          1673,
          2855,
          3060,
          565,
          1,
          1,
          7298,
          5790,
          3040,
          11700,
          7987,
          304,
          4517,
          0,
          3058,
          13381,
          2865,
          152,
          380,
          9450,
          7803,
          5579,
          8979,
          4800,
          3060,
          4792,
          3894,
          1757,
          2880,
          2985,
          164,
          3232,
          2319,
          4338,
          2880,
          1714,
          90,
          59,
          4139,
          10530,
          6938,
          930,
          278,
          299,
          5320,
          2880,
          1,
          4260,
          6713,
          5160,
          1440,
          78,
          7523,
          2668,
          1,
          376,
          1324,
          6940,
          2684,
          54,
          100,
          720,
          2880,
          3189,
          2790,
          13679,
          2843,
          13488,
          1642,
          7709,
          7080,
          1440,
          1,
          1680,
          1579,
          652,
          108,
          300,
          1020,
          3570,
          6492,
          23700,
          10499,
          15180,
          0,
          120,
          1,
          1,
          1,
          1,
          1,
          1,
          60,
          113,
          204,
          31,
          57,
          13,
          2,
          11,
          283,
          0,
          1,
          871,
          1631,
          56,
          15,
          15,
          20,
          60,
          1,
          95,
          300,
          1,
          3186,
          575,
          2275,
          15,
          1,
          44,
          21,
          1,
          114,
          1,
          60,
          4920,
          null,
          4920,
          420,
          0,
          7,
          21,
          340,
          4200,
          805,
          5040,
          7430,
          5490,
          165,
          3630,
          11640,
          1590,
          3137,
          1440,
          7920,
          360,
          0,
          1440,
          1372,
          6480,
          2190,
          285,
          75,
          1843,
          1,
          11531,
          1420,
          0,
          930,
          11420,
          0,
          352,
          0,
          960,
          1733,
          3690,
          10619,
          634,
          11280,
          1440,
          180,
          1574,
          45,
          563,
          388,
          373,
          4510,
          290,
          1950,
          270,
          1355,
          1318,
          2490,
          1265,
          195,
          3120,
          3388,
          1025,
          990,
          240,
          1485,
          129,
          0,
          1528,
          1890,
          2551,
          985,
          405,
          1698,
          167,
          1460,
          182,
          4113,
          null,
          885,
          15,
          42,
          1050,
          1,
          132,
          4140,
          2880,
          null,
          11430,
          3599,
          0,
          2941,
          null,
          6090,
          1365,
          375,
          2520,
          10080,
          76,
          0,
          3720,
          333,
          0,
          353,
          11337,
          0,
          0,
          7020,
          11058,
          null,
          9360,
          3300,
          3339,
          2880,
          11580,
          9600,
          13201,
          9719,
          488,
          2415,
          180,
          4177,
          7440,
          3480,
          6600,
          300,
          1526,
          60,
          210,
          2,
          1350,
          73,
          1,
          200,
          0,
          null,
          4380,
          0,
          120,
          2680,
          840,
          989,
          4313,
          214,
          4,
          164,
          91,
          1050,
          838,
          60,
          1,
          1,
          9886,
          2425,
          390,
          14500,
          6660,
          159,
          54,
          30,
          8077,
          855,
          65,
          810,
          4150,
          4740,
          25,
          0,
          null,
          2070,
          870,
          12652,
          2880,
          120,
          1199,
          null,
          1470,
          4140,
          15420,
          50,
          0,
          1,
          1,
          0,
          0,
          0,
          457,
          1,
          1,
          0,
          30,
          1,
          1,
          65,
          1,
          0,
          0,
          0,
          1,
          null,
          1,
          0,
          1,
          1,
          110,
          39,
          1,
          1,
          1,
          1,
          1,
          1,
          507,
          213,
          4254,
          1,
          1,
          53,
          0,
          0,
          251,
          347,
          1637,
          21360,
          2161,
          2880,
          1044,
          8670,
          56,
          93,
          13,
          2089,
          20280,
          14639,
          2880,
          681,
          494,
          1,
          5355,
          0,
          3943,
          3300,
          191,
          0,
          73,
          4680,
          17310,
          10080,
          10726,
          1,
          5,
          2515,
          25920,
          2730,
          9480,
          5400,
          30,
          3584,
          3600,
          5850,
          4710,
          1,
          1732,
          0,
          23040,
          1800,
          6074,
          null,
          49,
          2299,
          5760,
          420,
          7320,
          2880,
          448,
          2520,
          18717,
          5513,
          21,
          2100,
          3120,
          8221,
          3240,
          2880,
          255,
          2355,
          161,
          50,
          258,
          13140,
          8640,
          18240,
          15492,
          8268,
          0,
          300,
          14400,
          7962,
          2400,
          11296,
          48,
          60480,
          28170,
          300,
          8054,
          2775,
          2775,
          2160,
          2100,
          2775,
          3180,
          2775,
          1440,
          430,
          2129,
          1755,
          null,
          692,
          732,
          7,
          510,
          420,
          13215,
          557,
          300,
          17812,
          20416,
          6240,
          467,
          3067,
          3060,
          355,
          430,
          300,
          227,
          52,
          null,
          2880,
          18804,
          1867,
          1690,
          295,
          17,
          240,
          17520,
          8189,
          182,
          5820,
          83,
          230,
          2009,
          720,
          155,
          4320,
          4320,
          480,
          1005,
          221,
          372,
          13430,
          4320,
          91,
          1419,
          3600,
          10080,
          5071,
          152,
          6840,
          221,
          24780,
          38,
          61,
          7560,
          90,
          10380,
          396,
          2040,
          12060,
          1080,
          1680,
          13920,
          14101,
          1099,
          2460,
          540,
          52,
          816,
          420,
          155,
          437,
          247,
          540,
          1135,
          437,
          180,
          171,
          656,
          84,
          202,
          255,
          1054,
          1,
          1254,
          1456,
          177,
          106,
          32,
          2464,
          55,
          144,
          70,
          64,
          8873,
          945,
          null,
          523,
          56,
          3,
          8472,
          155,
          33,
          749,
          159,
          null,
          270,
          2790,
          224,
          1470,
          334,
          2050,
          370,
          26,
          797,
          12,
          195,
          1,
          230,
          125,
          15,
          316,
          365,
          1560,
          4740,
          294,
          455,
          2878,
          336,
          295,
          480,
          25,
          null,
          223,
          2645,
          2016,
          7371,
          360,
          3408,
          3698,
          4890,
          1,
          871,
          2759,
          250,
          3301,
          249,
          164,
          435,
          420,
          854,
          5160,
          133,
          15180,
          2055,
          451,
          140,
          199,
          721,
          179,
          1524,
          78,
          268,
          39,
          1,
          14190,
          47,
          161,
          900,
          6070,
          697,
          234,
          14,
          5910,
          null,
          34390,
          40,
          166,
          182,
          829,
          15,
          64,
          13,
          245,
          1080,
          null,
          390,
          47,
          269,
          null,
          400,
          660,
          213,
          null,
          761,
          8100,
          180,
          124,
          4320,
          2820,
          3100,
          49427,
          989,
          125,
          44,
          26,
          245,
          null,
          98,
          1,
          0,
          135,
          50,
          1008,
          53,
          554,
          1260,
          2895,
          89,
          98,
          865,
          128,
          230,
          252,
          130,
          5,
          157,
          6914,
          11,
          13,
          2880,
          270,
          962,
          47,
          null,
          20,
          108,
          9855,
          75,
          17,
          21,
          1950,
          11867,
          141,
          959,
          1035,
          617,
          1230,
          572,
          324,
          1835,
          6780,
          900,
          null,
          37,
          72,
          1,
          251,
          620,
          89,
          909,
          236,
          326,
          300,
          751,
          122,
          214,
          193,
          8,
          5227,
          null,
          1414,
          448,
          4605,
          4080,
          null,
          1914,
          759,
          1,
          10274,
          3,
          2700,
          105,
          240,
          210,
          1,
          1201,
          30,
          2806,
          1226,
          300,
          206,
          270,
          2880,
          513,
          8160,
          3314,
          414,
          126,
          60,
          285,
          110,
          62,
          2363,
          424,
          180,
          0,
          448,
          2,
          624,
          2435,
          131,
          null,
          208,
          103,
          1355,
          1523,
          90,
          1205,
          385,
          144,
          235,
          241,
          6787,
          1337,
          1673,
          3366,
          2640,
          1826,
          570,
          1565,
          2691,
          1072,
          115,
          816,
          168,
          30,
          160,
          485,
          1508,
          1301,
          159,
          60,
          4,
          9600,
          106,
          0,
          0,
          1,
          32,
          61,
          314,
          30,
          0,
          92,
          390,
          161,
          60,
          76,
          1,
          1,
          160,
          20,
          1,
          1,
          70,
          50,
          15,
          810,
          1380,
          1800,
          1560,
          2054,
          1452,
          1865,
          1999,
          120,
          1950,
          360,
          1087,
          1200,
          4122,
          360,
          645,
          108,
          0,
          1,
          1440,
          4560,
          1,
          1,
          110,
          210,
          120,
          0,
          4260,
          76,
          210,
          3305,
          5880,
          145,
          60,
          2640,
          1042,
          110,
          11880,
          2245,
          984,
          7200,
          1381,
          148,
          13972,
          null,
          796,
          300,
          null,
          2612,
          3000,
          431,
          5310,
          1732,
          0,
          6685,
          3300,
          280,
          117,
          2895,
          480,
          31,
          1,
          0,
          0,
          103,
          4745,
          307,
          1656,
          3525,
          374,
          1068,
          1569,
          114,
          115,
          15,
          2891,
          1,
          1676,
          0,
          0,
          3604,
          195,
          1,
          0,
          2108,
          198,
          3667,
          1037,
          673,
          null,
          2652,
          300,
          881,
          618,
          1187,
          950,
          2535,
          27,
          108,
          73,
          200,
          5,
          75,
          0,
          77,
          660,
          0,
          92,
          30,
          33,
          1895,
          274,
          1,
          1534,
          1,
          60,
          108,
          2,
          175,
          null,
          2040,
          2710,
          284,
          105,
          4019,
          1,
          391,
          439,
          5,
          201,
          2140,
          103,
          null,
          187,
          1406,
          348,
          13650,
          90,
          913,
          null,
          14040,
          1367,
          174,
          543,
          237,
          1906,
          224,
          0,
          95,
          360,
          1548,
          870,
          0,
          null,
          220,
          720,
          null,
          59,
          181,
          null
         ],
         "xaxis": "x",
         "y": [
          null,
          null,
          null,
          null,
          250,
          null,
          null,
          75,
          20,
          null,
          null,
          null,
          0,
          0,
          null,
          926,
          null,
          null,
          100,
          null,
          null,
          null,
          0,
          null,
          null,
          null,
          null,
          300,
          null,
          null,
          null,
          300,
          1,
          null,
          494,
          300,
          null,
          null,
          null,
          null,
          359,
          860,
          null,
          null,
          140,
          null,
          null,
          0,
          850,
          null,
          null,
          10,
          15,
          null,
          null,
          150,
          null,
          0,
          600,
          30,
          null,
          0,
          null,
          null,
          424,
          null,
          null,
          220,
          null,
          24,
          null,
          null,
          700,
          250,
          366,
          82,
          8881,
          null,
          null,
          11000,
          300,
          585,
          null,
          null,
          50,
          75,
          50,
          null,
          null,
          null,
          55,
          null,
          1826,
          null,
          212,
          82,
          262,
          0,
          null,
          null,
          null,
          200,
          null,
          null,
          null,
          null,
          null,
          null,
          310,
          null,
          240,
          null,
          60,
          null,
          null,
          null,
          100,
          240,
          null,
          340,
          378,
          null,
          371,
          null,
          null,
          null,
          210,
          null,
          1007,
          320,
          125,
          null,
          500,
          218,
          630,
          null,
          400,
          100,
          540,
          303,
          350,
          500,
          75,
          null,
          0,
          1000,
          null,
          null,
          700,
          null,
          null,
          null,
          75,
          408,
          150,
          190,
          null,
          400,
          null,
          0,
          null,
          254,
          500,
          null,
          null,
          null,
          null,
          254,
          350,
          null,
          400,
          null,
          12,
          null,
          null,
          150,
          null,
          null,
          null,
          380,
          null,
          null,
          null,
          null,
          null,
          0,
          265,
          null,
          null,
          null,
          null,
          399,
          null,
          485,
          0,
          1000,
          null,
          260,
          null,
          null,
          212,
          179,
          8087,
          null,
          null,
          399,
          0,
          294,
          null,
          null,
          1084,
          476,
          153,
          null,
          491,
          0,
          350,
          703,
          null,
          null,
          1231,
          221,
          300,
          220,
          null,
          544,
          null,
          339,
          null,
          473,
          null,
          null,
          null,
          1950,
          null,
          400,
          4000,
          108,
          920,
          46,
          null,
          100,
          260,
          117,
          null,
          null,
          0,
          0,
          null,
          null,
          null,
          null,
          350,
          176,
          null,
          null,
          0,
          51,
          null,
          null,
          null,
          0,
          300,
          null,
          null,
          0,
          null,
          328,
          null,
          40,
          null,
          0,
          null,
          null,
          650,
          null,
          null,
          1900,
          null,
          219,
          250,
          746,
          null,
          null,
          null,
          null,
          null,
          85,
          null,
          null,
          null,
          null,
          672,
          null,
          null,
          null,
          null,
          600,
          null,
          0,
          47,
          15,
          50,
          null,
          57,
          null,
          null,
          38,
          null,
          null,
          535,
          null,
          49,
          null,
          0,
          545,
          null,
          null,
          1000,
          null,
          1024,
          null,
          425,
          50,
          null,
          null,
          0,
          null,
          200,
          null,
          null,
          null,
          41,
          null,
          650,
          null,
          500,
          506,
          217,
          null,
          null,
          null,
          366,
          null,
          null,
          30,
          null,
          0,
          0,
          null,
          null,
          null,
          null,
          null,
          null,
          null,
          null,
          null,
          350,
          null,
          null,
          null,
          127,
          null,
          null,
          null,
          null,
          null,
          null,
          null,
          null,
          null,
          null,
          null,
          null,
          200,
          200,
          null,
          300,
          null,
          371,
          null,
          null,
          null,
          null,
          null,
          80,
          null,
          null,
          null,
          null,
          null,
          null,
          300,
          null,
          null,
          null,
          184,
          null,
          250,
          null,
          null,
          null,
          275,
          0,
          null,
          0,
          150,
          180,
          null,
          null,
          1600,
          null,
          200,
          115,
          260,
          null,
          0,
          null,
          0,
          null,
          null,
          null,
          null,
          0,
          null,
          0,
          0,
          null,
          null,
          null,
          null,
          null,
          0,
          244,
          0,
          0,
          null,
          0,
          null,
          0,
          null,
          null,
          900,
          100,
          null,
          420,
          null,
          0,
          null,
          null,
          null,
          0,
          null,
          null,
          null,
          0,
          null,
          9,
          null,
          750,
          null,
          null,
          null,
          175,
          null,
          null,
          null,
          null,
          null,
          null,
          0,
          null,
          0,
          null,
          360,
          150,
          280,
          null,
          50,
          0,
          null,
          630,
          null,
          null,
          300,
          null,
          null,
          1200,
          null,
          null,
          5299,
          null,
          null,
          null,
          455,
          1000,
          null,
          null,
          null,
          null,
          null,
          null,
          null,
          138,
          0,
          null,
          2,
          null,
          null,
          960,
          null,
          null,
          null,
          null,
          3963,
          null,
          200,
          440,
          354,
          300,
          300,
          null,
          270,
          500,
          null,
          null,
          0,
          null,
          0,
          null,
          0,
          null,
          null,
          null,
          null,
          400,
          null,
          0,
          null,
          null,
          null,
          0,
          null,
          0,
          2000,
          null,
          null,
          335,
          null,
          0,
          null,
          1,
          null,
          1,
          800,
          375,
          0,
          625,
          0,
          null,
          null,
          null,
          0,
          60,
          160,
          null,
          0,
          0,
          1500,
          400,
          480,
          1114,
          1465,
          null,
          null,
          null,
          null,
          null,
          15,
          630,
          105,
          null,
          null,
          null,
          null,
          null,
          null,
          156,
          null,
          null,
          null,
          null,
          0,
          389,
          null,
          750,
          null,
          null,
          null,
          200,
          null,
          null,
          72,
          null,
          87,
          600,
          null,
          null,
          null,
          null,
          546,
          130,
          null,
          90,
          null,
          null,
          null,
          null,
          150,
          null,
          null,
          null,
          0,
          250,
          110,
          null,
          null,
          null,
          0,
          null,
          null,
          null,
          null,
          null,
          null,
          null,
          null,
          342,
          2,
          null,
          null,
          null,
          600,
          null,
          70,
          21,
          0,
          0,
          null,
          null,
          null,
          null,
          null,
          null,
          0,
          6,
          461,
          0,
          0,
          null,
          null,
          0,
          306,
          0,
          null,
          2818,
          null,
          0,
          0,
          0,
          null,
          0,
          null,
          0,
          0,
          null,
          null,
          0,
          null,
          316,
          null,
          null,
          0,
          null,
          0,
          null,
          null,
          392,
          294,
          177,
          null,
          0,
          0,
          420,
          null,
          1000,
          380,
          11000,
          500,
          null,
          null,
          168,
          250,
          null,
          7000,
          null,
          null,
          null,
          null,
          null,
          null,
          null,
          null,
          0,
          null,
          400,
          null,
          469,
          null,
          0,
          168,
          430,
          7,
          206,
          0,
          null,
          null,
          null,
          null,
          null,
          475,
          215,
          70,
          null,
          40,
          null,
          300,
          48,
          null,
          3,
          400,
          null,
          600,
          300,
          500,
          null,
          2,
          null,
          1000,
          300,
          null,
          180,
          null,
          40,
          null,
          600,
          400,
          200,
          250,
          0,
          1000,
          0,
          null,
          14435,
          null,
          175,
          null,
          1655,
          null,
          1500,
          0,
          198,
          400,
          null,
          null,
          125,
          55,
          0,
          null,
          90,
          null,
          438,
          0,
          320,
          null,
          null,
          0,
          80,
          215,
          0,
          null,
          null,
          0,
          0,
          null,
          null,
          null,
          null,
          null,
          null,
          500,
          null,
          null,
          null,
          100,
          450,
          null,
          4545,
          700,
          450,
          600,
          300,
          4853,
          null,
          12,
          210,
          null,
          null,
          0,
          null,
          32,
          null,
          null,
          null,
          null,
          null,
          0,
          null,
          null,
          null,
          0,
          null,
          0,
          null,
          350,
          null,
          0,
          null,
          null,
          null,
          null,
          null,
          null,
          null,
          140,
          null,
          700,
          3000,
          null,
          400,
          266,
          300,
          200,
          10,
          null,
          0,
          null,
          135,
          200,
          null,
          null,
          0,
          0,
          null,
          null,
          210,
          95,
          0,
          null,
          null,
          0,
          0,
          0,
          0,
          0,
          null,
          0,
          null,
          0,
          null,
          0,
          null,
          0,
          0,
          0,
          null,
          null,
          0,
          0,
          null,
          null,
          null,
          0,
          0,
          0,
          null,
          null,
          null,
          0,
          0,
          0,
          null,
          null,
          null,
          null,
          0,
          0,
          null,
          400,
          null,
          null,
          0,
          null,
          750,
          200,
          null,
          null,
          null,
          225,
          null,
          null,
          null,
          null,
          null,
          null,
          null,
          null,
          null,
          650,
          82,
          null,
          0,
          100,
          675,
          null,
          200,
          null,
          null,
          null,
          300,
          null,
          null,
          null,
          0,
          50,
          108,
          675,
          400,
          null,
          11202,
          0,
          675,
          null,
          null,
          null,
          460,
          null,
          null,
          null,
          null,
          0,
          250,
          null,
          150,
          22934,
          null,
          180,
          100,
          null,
          null,
          null,
          500,
          417,
          0,
          200,
          null,
          353,
          null,
          300,
          600,
          null,
          null,
          null,
          676,
          null,
          30,
          null,
          460,
          675,
          200,
          null,
          350,
          null,
          null,
          null,
          null,
          null,
          null,
          null,
          null,
          null,
          150,
          null,
          null,
          300,
          32,
          33,
          null,
          200,
          null,
          null,
          null,
          400,
          40,
          700,
          null,
          null,
          300,
          225,
          null,
          null,
          103,
          163,
          null,
          null,
          350,
          150,
          120,
          null,
          0,
          null,
          0,
          0,
          3200,
          null,
          0,
          51,
          null,
          280,
          500,
          0,
          0,
          1400,
          250,
          283,
          null,
          0,
          0,
          318,
          55,
          6000,
          0,
          null,
          180,
          350,
          250,
          148,
          120,
          140,
          1800,
          297,
          2100,
          113,
          1250,
          1100,
          10000,
          125,
          1300,
          0,
          65,
          125,
          206,
          150,
          27,
          null,
          483,
          133,
          41788,
          4000,
          0,
          null,
          695,
          197,
          685,
          2578,
          240,
          null,
          119,
          null,
          13850,
          null,
          595,
          null,
          150,
          null,
          360,
          31,
          null,
          180,
          0,
          630,
          176,
          300,
          324,
          30,
          420,
          150,
          300,
          null,
          220,
          null,
          10,
          140,
          3,
          2650,
          308,
          null,
          160,
          5,
          5,
          0,
          80,
          55,
          300,
          90,
          115,
          400,
          300,
          null,
          120,
          300,
          150,
          null,
          120,
          null,
          null,
          360,
          176,
          7,
          null,
          300,
          200,
          0,
          91,
          null,
          91,
          null,
          318,
          240,
          null,
          null,
          864,
          240,
          null,
          null,
          130,
          270,
          15,
          500,
          500,
          1000,
          400,
          500,
          220,
          240,
          464,
          0,
          22,
          324,
          null,
          290,
          300,
          103,
          100,
          null,
          0,
          110,
          3,
          160,
          null,
          null,
          180,
          160,
          140,
          null,
          24,
          480,
          136,
          null,
          400,
          null,
          350,
          522,
          160,
          null,
          1,
          null,
          295,
          null,
          250,
          800,
          414,
          512,
          null,
          56,
          250,
          0,
          88,
          200,
          null,
          5,
          206,
          130,
          15,
          null,
          0,
          20,
          3,
          526,
          10,
          700,
          null,
          null,
          null,
          null,
          300,
          null,
          150,
          208,
          150,
          9,
          30,
          91,
          16,
          390,
          null,
          662,
          280,
          522,
          0,
          null,
          225,
          null,
          300,
          700,
          451,
          170,
          5,
          null,
          240,
          1,
          3900,
          200,
          220,
          611,
          300,
          180,
          300,
          3300,
          199,
          29,
          0,
          22,
          200,
          150,
          136,
          null,
          null,
          null,
          211,
          null,
          0,
          1,
          126,
          75,
          null,
          214,
          null,
          0,
          110,
          null,
          150,
          430,
          null,
          null,
          4,
          600,
          null,
          null,
          null,
          null,
          22,
          null,
          50,
          null,
          45,
          84,
          0,
          null,
          null,
          null,
          null,
          40,
          650,
          null,
          null,
          null,
          null,
          4,
          900,
          150,
          0,
          293,
          null,
          120,
          null,
          300,
          143,
          240,
          188,
          600,
          520,
          250,
          790,
          72,
          null,
          950,
          null,
          5000,
          350,
          475,
          null,
          210,
          850,
          170,
          400,
          63,
          300,
          120,
          100,
          335,
          null,
          null,
          250,
          900,
          600,
          65,
          650,
          428,
          400,
          101,
          0,
          0,
          null,
          6,
          null,
          0,
          null,
          1040,
          null,
          null,
          0,
          null,
          null,
          null,
          0,
          0,
          null,
          null,
          null,
          0,
          0,
          0,
          10,
          83,
          150,
          2200,
          729,
          312,
          75,
          620,
          363,
          100,
          100,
          221,
          290,
          1246,
          854,
          563,
          null,
          0,
          null,
          null,
          null,
          null,
          0,
          130,
          75,
          null,
          0,
          null,
          null,
          null,
          50,
          null,
          0,
          null,
          null,
          null,
          0,
          500,
          null,
          92,
          null,
          null,
          30,
          null,
          null,
          null,
          75,
          null,
          null,
          null,
          300,
          null,
          500,
          0,
          280,
          null,
          8,
          null,
          null,
          null,
          51,
          null,
          0,
          0,
          340,
          null,
          null,
          null,
          null,
          22700,
          200,
          null,
          null,
          630,
          0,
          1,
          0,
          0,
          null,
          0,
          null,
          null,
          0,
          null,
          null,
          75,
          null,
          50,
          null,
          null,
          null,
          0,
          0,
          180,
          null,
          null,
          null,
          0,
          0,
          0,
          null,
          0,
          0,
          0,
          null,
          null,
          0,
          null,
          0,
          0,
          0,
          null,
          0,
          56,
          null,
          null,
          0,
          123,
          0,
          0,
          null,
          150,
          580,
          null,
          0,
          null,
          300,
          428,
          120,
          0,
          null,
          0,
          550,
          null,
          0,
          null,
          500,
          0,
          null,
          null,
          200,
          1060,
          220,
          110,
          120,
          1170,
          290,
          0,
          157,
          0,
          0,
          null,
          0,
          0,
          485,
          155,
          1650,
          84,
          373,
          35
         ],
         "yaxis": "y"
        }
       ],
       "layout": {
        "legend": {
         "tracegroupgap": 0
        },
        "margin": {
         "t": 60
        },
        "template": {
         "data": {
          "bar": [
           {
            "error_x": {
             "color": "#2a3f5f"
            },
            "error_y": {
             "color": "#2a3f5f"
            },
            "marker": {
             "line": {
              "color": "#E5ECF6",
              "width": 0.5
             },
             "pattern": {
              "fillmode": "overlay",
              "size": 10,
              "solidity": 0.2
             }
            },
            "type": "bar"
           }
          ],
          "barpolar": [
           {
            "marker": {
             "line": {
              "color": "#E5ECF6",
              "width": 0.5
             },
             "pattern": {
              "fillmode": "overlay",
              "size": 10,
              "solidity": 0.2
             }
            },
            "type": "barpolar"
           }
          ],
          "carpet": [
           {
            "aaxis": {
             "endlinecolor": "#2a3f5f",
             "gridcolor": "white",
             "linecolor": "white",
             "minorgridcolor": "white",
             "startlinecolor": "#2a3f5f"
            },
            "baxis": {
             "endlinecolor": "#2a3f5f",
             "gridcolor": "white",
             "linecolor": "white",
             "minorgridcolor": "white",
             "startlinecolor": "#2a3f5f"
            },
            "type": "carpet"
           }
          ],
          "choropleth": [
           {
            "colorbar": {
             "outlinewidth": 0,
             "ticks": ""
            },
            "type": "choropleth"
           }
          ],
          "contour": [
           {
            "colorbar": {
             "outlinewidth": 0,
             "ticks": ""
            },
            "colorscale": [
             [
              0,
              "#0d0887"
             ],
             [
              0.1111111111111111,
              "#46039f"
             ],
             [
              0.2222222222222222,
              "#7201a8"
             ],
             [
              0.3333333333333333,
              "#9c179e"
             ],
             [
              0.4444444444444444,
              "#bd3786"
             ],
             [
              0.5555555555555556,
              "#d8576b"
             ],
             [
              0.6666666666666666,
              "#ed7953"
             ],
             [
              0.7777777777777778,
              "#fb9f3a"
             ],
             [
              0.8888888888888888,
              "#fdca26"
             ],
             [
              1,
              "#f0f921"
             ]
            ],
            "type": "contour"
           }
          ],
          "contourcarpet": [
           {
            "colorbar": {
             "outlinewidth": 0,
             "ticks": ""
            },
            "type": "contourcarpet"
           }
          ],
          "heatmap": [
           {
            "colorbar": {
             "outlinewidth": 0,
             "ticks": ""
            },
            "colorscale": [
             [
              0,
              "#0d0887"
             ],
             [
              0.1111111111111111,
              "#46039f"
             ],
             [
              0.2222222222222222,
              "#7201a8"
             ],
             [
              0.3333333333333333,
              "#9c179e"
             ],
             [
              0.4444444444444444,
              "#bd3786"
             ],
             [
              0.5555555555555556,
              "#d8576b"
             ],
             [
              0.6666666666666666,
              "#ed7953"
             ],
             [
              0.7777777777777778,
              "#fb9f3a"
             ],
             [
              0.8888888888888888,
              "#fdca26"
             ],
             [
              1,
              "#f0f921"
             ]
            ],
            "type": "heatmap"
           }
          ],
          "heatmapgl": [
           {
            "colorbar": {
             "outlinewidth": 0,
             "ticks": ""
            },
            "colorscale": [
             [
              0,
              "#0d0887"
             ],
             [
              0.1111111111111111,
              "#46039f"
             ],
             [
              0.2222222222222222,
              "#7201a8"
             ],
             [
              0.3333333333333333,
              "#9c179e"
             ],
             [
              0.4444444444444444,
              "#bd3786"
             ],
             [
              0.5555555555555556,
              "#d8576b"
             ],
             [
              0.6666666666666666,
              "#ed7953"
             ],
             [
              0.7777777777777778,
              "#fb9f3a"
             ],
             [
              0.8888888888888888,
              "#fdca26"
             ],
             [
              1,
              "#f0f921"
             ]
            ],
            "type": "heatmapgl"
           }
          ],
          "histogram": [
           {
            "marker": {
             "pattern": {
              "fillmode": "overlay",
              "size": 10,
              "solidity": 0.2
             }
            },
            "type": "histogram"
           }
          ],
          "histogram2d": [
           {
            "colorbar": {
             "outlinewidth": 0,
             "ticks": ""
            },
            "colorscale": [
             [
              0,
              "#0d0887"
             ],
             [
              0.1111111111111111,
              "#46039f"
             ],
             [
              0.2222222222222222,
              "#7201a8"
             ],
             [
              0.3333333333333333,
              "#9c179e"
             ],
             [
              0.4444444444444444,
              "#bd3786"
             ],
             [
              0.5555555555555556,
              "#d8576b"
             ],
             [
              0.6666666666666666,
              "#ed7953"
             ],
             [
              0.7777777777777778,
              "#fb9f3a"
             ],
             [
              0.8888888888888888,
              "#fdca26"
             ],
             [
              1,
              "#f0f921"
             ]
            ],
            "type": "histogram2d"
           }
          ],
          "histogram2dcontour": [
           {
            "colorbar": {
             "outlinewidth": 0,
             "ticks": ""
            },
            "colorscale": [
             [
              0,
              "#0d0887"
             ],
             [
              0.1111111111111111,
              "#46039f"
             ],
             [
              0.2222222222222222,
              "#7201a8"
             ],
             [
              0.3333333333333333,
              "#9c179e"
             ],
             [
              0.4444444444444444,
              "#bd3786"
             ],
             [
              0.5555555555555556,
              "#d8576b"
             ],
             [
              0.6666666666666666,
              "#ed7953"
             ],
             [
              0.7777777777777778,
              "#fb9f3a"
             ],
             [
              0.8888888888888888,
              "#fdca26"
             ],
             [
              1,
              "#f0f921"
             ]
            ],
            "type": "histogram2dcontour"
           }
          ],
          "mesh3d": [
           {
            "colorbar": {
             "outlinewidth": 0,
             "ticks": ""
            },
            "type": "mesh3d"
           }
          ],
          "parcoords": [
           {
            "line": {
             "colorbar": {
              "outlinewidth": 0,
              "ticks": ""
             }
            },
            "type": "parcoords"
           }
          ],
          "pie": [
           {
            "automargin": true,
            "type": "pie"
           }
          ],
          "scatter": [
           {
            "fillpattern": {
             "fillmode": "overlay",
             "size": 10,
             "solidity": 0.2
            },
            "type": "scatter"
           }
          ],
          "scatter3d": [
           {
            "line": {
             "colorbar": {
              "outlinewidth": 0,
              "ticks": ""
             }
            },
            "marker": {
             "colorbar": {
              "outlinewidth": 0,
              "ticks": ""
             }
            },
            "type": "scatter3d"
           }
          ],
          "scattercarpet": [
           {
            "marker": {
             "colorbar": {
              "outlinewidth": 0,
              "ticks": ""
             }
            },
            "type": "scattercarpet"
           }
          ],
          "scattergeo": [
           {
            "marker": {
             "colorbar": {
              "outlinewidth": 0,
              "ticks": ""
             }
            },
            "type": "scattergeo"
           }
          ],
          "scattergl": [
           {
            "marker": {
             "colorbar": {
              "outlinewidth": 0,
              "ticks": ""
             }
            },
            "type": "scattergl"
           }
          ],
          "scattermapbox": [
           {
            "marker": {
             "colorbar": {
              "outlinewidth": 0,
              "ticks": ""
             }
            },
            "type": "scattermapbox"
           }
          ],
          "scatterpolar": [
           {
            "marker": {
             "colorbar": {
              "outlinewidth": 0,
              "ticks": ""
             }
            },
            "type": "scatterpolar"
           }
          ],
          "scatterpolargl": [
           {
            "marker": {
             "colorbar": {
              "outlinewidth": 0,
              "ticks": ""
             }
            },
            "type": "scatterpolargl"
           }
          ],
          "scatterternary": [
           {
            "marker": {
             "colorbar": {
              "outlinewidth": 0,
              "ticks": ""
             }
            },
            "type": "scatterternary"
           }
          ],
          "surface": [
           {
            "colorbar": {
             "outlinewidth": 0,
             "ticks": ""
            },
            "colorscale": [
             [
              0,
              "#0d0887"
             ],
             [
              0.1111111111111111,
              "#46039f"
             ],
             [
              0.2222222222222222,
              "#7201a8"
             ],
             [
              0.3333333333333333,
              "#9c179e"
             ],
             [
              0.4444444444444444,
              "#bd3786"
             ],
             [
              0.5555555555555556,
              "#d8576b"
             ],
             [
              0.6666666666666666,
              "#ed7953"
             ],
             [
              0.7777777777777778,
              "#fb9f3a"
             ],
             [
              0.8888888888888888,
              "#fdca26"
             ],
             [
              1,
              "#f0f921"
             ]
            ],
            "type": "surface"
           }
          ],
          "table": [
           {
            "cells": {
             "fill": {
              "color": "#EBF0F8"
             },
             "line": {
              "color": "white"
             }
            },
            "header": {
             "fill": {
              "color": "#C8D4E3"
             },
             "line": {
              "color": "white"
             }
            },
            "type": "table"
           }
          ]
         },
         "layout": {
          "annotationdefaults": {
           "arrowcolor": "#2a3f5f",
           "arrowhead": 0,
           "arrowwidth": 1
          },
          "autotypenumbers": "strict",
          "coloraxis": {
           "colorbar": {
            "outlinewidth": 0,
            "ticks": ""
           }
          },
          "colorscale": {
           "diverging": [
            [
             0,
             "#8e0152"
            ],
            [
             0.1,
             "#c51b7d"
            ],
            [
             0.2,
             "#de77ae"
            ],
            [
             0.3,
             "#f1b6da"
            ],
            [
             0.4,
             "#fde0ef"
            ],
            [
             0.5,
             "#f7f7f7"
            ],
            [
             0.6,
             "#e6f5d0"
            ],
            [
             0.7,
             "#b8e186"
            ],
            [
             0.8,
             "#7fbc41"
            ],
            [
             0.9,
             "#4d9221"
            ],
            [
             1,
             "#276419"
            ]
           ],
           "sequential": [
            [
             0,
             "#0d0887"
            ],
            [
             0.1111111111111111,
             "#46039f"
            ],
            [
             0.2222222222222222,
             "#7201a8"
            ],
            [
             0.3333333333333333,
             "#9c179e"
            ],
            [
             0.4444444444444444,
             "#bd3786"
            ],
            [
             0.5555555555555556,
             "#d8576b"
            ],
            [
             0.6666666666666666,
             "#ed7953"
            ],
            [
             0.7777777777777778,
             "#fb9f3a"
            ],
            [
             0.8888888888888888,
             "#fdca26"
            ],
            [
             1,
             "#f0f921"
            ]
           ],
           "sequentialminus": [
            [
             0,
             "#0d0887"
            ],
            [
             0.1111111111111111,
             "#46039f"
            ],
            [
             0.2222222222222222,
             "#7201a8"
            ],
            [
             0.3333333333333333,
             "#9c179e"
            ],
            [
             0.4444444444444444,
             "#bd3786"
            ],
            [
             0.5555555555555556,
             "#d8576b"
            ],
            [
             0.6666666666666666,
             "#ed7953"
            ],
            [
             0.7777777777777778,
             "#fb9f3a"
            ],
            [
             0.8888888888888888,
             "#fdca26"
            ],
            [
             1,
             "#f0f921"
            ]
           ]
          },
          "colorway": [
           "#636efa",
           "#EF553B",
           "#00cc96",
           "#ab63fa",
           "#FFA15A",
           "#19d3f3",
           "#FF6692",
           "#B6E880",
           "#FF97FF",
           "#FECB52"
          ],
          "font": {
           "color": "#2a3f5f"
          },
          "geo": {
           "bgcolor": "white",
           "lakecolor": "white",
           "landcolor": "#E5ECF6",
           "showlakes": true,
           "showland": true,
           "subunitcolor": "white"
          },
          "hoverlabel": {
           "align": "left"
          },
          "hovermode": "closest",
          "mapbox": {
           "style": "light"
          },
          "paper_bgcolor": "white",
          "plot_bgcolor": "#E5ECF6",
          "polar": {
           "angularaxis": {
            "gridcolor": "white",
            "linecolor": "white",
            "ticks": ""
           },
           "bgcolor": "#E5ECF6",
           "radialaxis": {
            "gridcolor": "white",
            "linecolor": "white",
            "ticks": ""
           }
          },
          "scene": {
           "xaxis": {
            "backgroundcolor": "#E5ECF6",
            "gridcolor": "white",
            "gridwidth": 2,
            "linecolor": "white",
            "showbackground": true,
            "ticks": "",
            "zerolinecolor": "white"
           },
           "yaxis": {
            "backgroundcolor": "#E5ECF6",
            "gridcolor": "white",
            "gridwidth": 2,
            "linecolor": "white",
            "showbackground": true,
            "ticks": "",
            "zerolinecolor": "white"
           },
           "zaxis": {
            "backgroundcolor": "#E5ECF6",
            "gridcolor": "white",
            "gridwidth": 2,
            "linecolor": "white",
            "showbackground": true,
            "ticks": "",
            "zerolinecolor": "white"
           }
          },
          "shapedefaults": {
           "line": {
            "color": "#2a3f5f"
           }
          },
          "ternary": {
           "aaxis": {
            "gridcolor": "white",
            "linecolor": "white",
            "ticks": ""
           },
           "baxis": {
            "gridcolor": "white",
            "linecolor": "white",
            "ticks": ""
           },
           "bgcolor": "#E5ECF6",
           "caxis": {
            "gridcolor": "white",
            "linecolor": "white",
            "ticks": ""
           }
          },
          "title": {
           "x": 0.05
          },
          "xaxis": {
           "automargin": true,
           "gridcolor": "white",
           "linecolor": "white",
           "ticks": "",
           "title": {
            "standoff": 15
           },
           "zerolinecolor": "white",
           "zerolinewidth": 2
          },
          "yaxis": {
           "automargin": true,
           "gridcolor": "white",
           "linecolor": "white",
           "ticks": "",
           "title": {
            "standoff": 15
           },
           "zerolinecolor": "white",
           "zerolinewidth": 2
          }
         }
        },
        "xaxis": {
         "anchor": "y",
         "domain": [
          0,
          1
         ],
         "title": {
          "text": "OUTAGE.DURATION"
         }
        },
        "yaxis": {
         "anchor": "x",
         "domain": [
          0,
          1
         ],
         "title": {
          "text": "DEMAND.LOSS.MW"
         }
        }
       }
      }
     },
     "metadata": {},
     "output_type": "display_data"
    }
   ],
   "source": [
    "px.scatter(formated_data, x='OUTAGE.DURATION', y='DEMAND.LOSS.MW')"
   ]
  },
  {
   "cell_type": "markdown",
   "metadata": {},
   "source": [
    "Indeed, an exponental decay relationship is present (For linear model, this may be a useful feature). Lets drop the columns with no peak demand loss and plot the above graph again."
   ]
  },
  {
   "cell_type": "code",
   "execution_count": 14,
   "metadata": {},
   "outputs": [
    {
     "data": {
      "application/vnd.plotly.v1+json": {
       "config": {
        "plotlyServerURL": "https://plot.ly"
       },
       "data": [
        {
         "hovertemplate": "OUTAGE.DURATION=%{x}<br>DEMAND.LOSS.MW=%{y}<extra></extra>",
         "legendgroup": "",
         "marker": {
          "color": "#636efa",
          "symbol": "circle"
         },
         "mode": "markers",
         "name": "",
         "orientation": "v",
         "showlegend": false,
         "type": "scatter",
         "x": [
          1740,
          3960,
          155,
          19,
          196,
          660,
          4921,
          95,
          4125,
          2550,
          5054,
          136,
          46,
          32,
          3000,
          32,
          960,
          4410,
          388,
          538,
          1272,
          1,
          9576,
          3090,
          6510,
          5820,
          1078,
          3051,
          4200,
          2085,
          2670,
          3540,
          3637,
          3120,
          7530,
          8160,
          3300,
          4320,
          5700,
          761,
          2820,
          3360,
          6420,
          46080,
          5610,
          78377,
          4050,
          4170,
          2694,
          168,
          5580,
          11850,
          3494,
          4560,
          5760,
          8922,
          6030,
          7800,
          4242,
          3120,
          5700,
          7620,
          5840,
          4259,
          2939,
          7080,
          3600,
          4260,
          85,
          9150,
          4458,
          373,
          868,
          206,
          900,
          189,
          9486,
          766,
          1335,
          245,
          12180,
          186,
          690,
          27698,
          327,
          1860,
          318,
          757,
          847,
          215,
          570,
          12124,
          1440,
          600,
          39,
          181,
          1500,
          271,
          1200,
          1620,
          70,
          1697,
          95,
          2220,
          null,
          1200,
          121,
          63,
          167,
          1920,
          1560,
          17865,
          1110,
          130,
          21540,
          1200,
          900,
          885,
          940,
          150,
          420,
          5250,
          233,
          null,
          65,
          96,
          65,
          4032,
          6,
          15950,
          4045,
          3314,
          1,
          47,
          3646,
          35,
          10,
          23187,
          12240,
          390,
          803,
          300,
          149,
          1320,
          1530,
          2370,
          1200,
          120,
          960,
          9230,
          2460,
          8880,
          19,
          5340,
          8940,
          1920,
          25,
          420,
          2040,
          1204,
          null,
          248,
          2700,
          null,
          2639,
          6480,
          9630,
          3507,
          2820,
          5855,
          1,
          4285,
          2520,
          554,
          3842,
          35,
          66,
          227,
          1,
          215,
          418,
          100,
          2021,
          1671,
          3938,
          2279,
          4440,
          1950,
          12890,
          2610,
          0,
          0,
          1,
          4920,
          4080,
          2855,
          3060,
          7298,
          5790,
          3040,
          11700,
          7987,
          2865,
          152,
          380,
          4792,
          3232,
          4338,
          59,
          6938,
          278,
          299,
          6713,
          5160,
          78,
          1324,
          720,
          2880,
          652,
          108,
          6492,
          10499,
          15180,
          113,
          204,
          283,
          871,
          15,
          4920,
          null,
          4920,
          21,
          4200,
          805,
          5040,
          7430,
          3630,
          11640,
          3137,
          1843,
          11531,
          930,
          11420,
          0,
          352,
          11280,
          1440,
          180,
          45,
          388,
          373,
          290,
          1950,
          1355,
          1318,
          2490,
          195,
          3388,
          1025,
          240,
          129,
          1528,
          1890,
          2551,
          985,
          1698,
          182,
          null,
          15,
          1050,
          132,
          4140,
          11430,
          3599,
          null,
          1365,
          2520,
          3720,
          333,
          2880,
          9719,
          488,
          180,
          4177,
          7440,
          3480,
          6600,
          300,
          60,
          210,
          200,
          1050,
          159,
          30,
          8077,
          65,
          810,
          4150,
          4740,
          25,
          870,
          12652,
          15420,
          50,
          347,
          1044,
          8670,
          2089,
          3300,
          191,
          4680,
          17310,
          10726,
          25920,
          3584,
          3600,
          5850,
          4710,
          1732,
          23040,
          49,
          448,
          18717,
          5513,
          2100,
          3120,
          255,
          2355,
          50,
          13140,
          18240,
          15492,
          14400,
          2400,
          48,
          60480,
          28170,
          8054,
          2129,
          692,
          732,
          7,
          420,
          17812,
          20416,
          6240,
          3060,
          355,
          227,
          52,
          18804,
          1867,
          1690,
          182,
          230,
          720,
          155,
          480,
          1005,
          221,
          91,
          1419,
          3600,
          152,
          6840,
          221,
          24780,
          38,
          61,
          7560,
          90,
          10380,
          396,
          2040,
          12060,
          1080,
          1680,
          13920,
          1099,
          2460,
          540,
          52,
          816,
          155,
          437,
          247,
          540,
          180,
          171,
          656,
          84,
          202,
          1054,
          1254,
          177,
          32,
          55,
          144,
          64,
          945,
          null,
          523,
          56,
          3,
          8472,
          155,
          33,
          159,
          270,
          2790,
          224,
          1470,
          334,
          370,
          26,
          797,
          195,
          1,
          230,
          125,
          15,
          316,
          365,
          4740,
          294,
          455,
          336,
          25,
          null,
          223,
          2016,
          7371,
          3408,
          4890,
          871,
          2759,
          249,
          164,
          854,
          5160,
          133,
          15180,
          2055,
          451,
          140,
          199,
          721,
          179,
          1524,
          268,
          39,
          14190,
          47,
          161,
          900,
          234,
          14,
          5910,
          40,
          166,
          182,
          15,
          64,
          13,
          1080,
          390,
          47,
          269,
          400,
          213,
          761,
          8100,
          180,
          124,
          2820,
          3100,
          989,
          125,
          26,
          245,
          null,
          98,
          135,
          50,
          1008,
          53,
          554,
          865,
          230,
          252,
          130,
          5,
          157,
          6914,
          11,
          13,
          270,
          962,
          47,
          108,
          75,
          17,
          21,
          1950,
          11867,
          959,
          1035,
          617,
          1230,
          572,
          324,
          1835,
          6780,
          900,
          null,
          37,
          72,
          251,
          620,
          89,
          909,
          751,
          193,
          8,
          5227,
          1414,
          4080,
          1914,
          759,
          3,
          2700,
          1201,
          2806,
          300,
          206,
          414,
          126,
          2363,
          424,
          180,
          448,
          624,
          131,
          null,
          208,
          103,
          1355,
          1523,
          90,
          1205,
          385,
          235,
          6787,
          1337,
          1673,
          2640,
          1826,
          570,
          1565,
          2691,
          1072,
          115,
          816,
          168,
          485,
          1508,
          1301,
          159,
          60,
          4,
          9600,
          106,
          32,
          0,
          810,
          1380,
          1800,
          1560,
          2054,
          1452,
          1865,
          1999,
          120,
          1950,
          360,
          1087,
          1200,
          4122,
          360,
          645,
          110,
          210,
          3305,
          11880,
          984,
          148,
          300,
          431,
          1732,
          6685,
          280,
          31,
          103,
          374,
          1068,
          115,
          2891,
          198,
          1037,
          618,
          1534,
          2,
          2710,
          284,
          391,
          439,
          5,
          null,
          13650,
          14040,
          1367,
          174,
          543,
          237,
          1906,
          224,
          95,
          220,
          720,
          null,
          59,
          181,
          null
         ],
         "xaxis": "x",
         "y": [
          250,
          75,
          20,
          926,
          100,
          300,
          300,
          1,
          494,
          300,
          359,
          860,
          140,
          850,
          10,
          15,
          150,
          600,
          30,
          424,
          220,
          24,
          700,
          250,
          366,
          82,
          8881,
          11000,
          300,
          585,
          50,
          75,
          50,
          55,
          1826,
          212,
          82,
          262,
          200,
          310,
          240,
          60,
          100,
          240,
          340,
          378,
          371,
          210,
          1007,
          320,
          125,
          500,
          218,
          630,
          400,
          100,
          540,
          303,
          350,
          500,
          75,
          1000,
          700,
          75,
          408,
          150,
          190,
          400,
          254,
          500,
          254,
          350,
          400,
          12,
          150,
          380,
          265,
          399,
          485,
          1000,
          260,
          212,
          179,
          8087,
          399,
          294,
          1084,
          476,
          153,
          491,
          350,
          703,
          1231,
          221,
          300,
          220,
          544,
          339,
          473,
          1950,
          400,
          4000,
          108,
          920,
          46,
          100,
          260,
          117,
          350,
          176,
          51,
          300,
          328,
          40,
          650,
          1900,
          219,
          250,
          746,
          85,
          672,
          600,
          47,
          15,
          50,
          57,
          38,
          535,
          49,
          545,
          1000,
          1024,
          425,
          50,
          200,
          41,
          650,
          500,
          506,
          217,
          366,
          30,
          350,
          127,
          200,
          200,
          300,
          371,
          80,
          300,
          184,
          250,
          275,
          150,
          180,
          1600,
          200,
          115,
          260,
          244,
          900,
          100,
          420,
          9,
          750,
          175,
          360,
          150,
          280,
          50,
          630,
          300,
          1200,
          5299,
          455,
          1000,
          138,
          2,
          960,
          3963,
          200,
          440,
          354,
          300,
          300,
          270,
          500,
          400,
          2000,
          335,
          1,
          1,
          800,
          375,
          625,
          60,
          160,
          1500,
          400,
          480,
          1114,
          1465,
          15,
          630,
          105,
          156,
          389,
          750,
          200,
          72,
          87,
          600,
          546,
          130,
          90,
          150,
          250,
          110,
          342,
          2,
          600,
          70,
          21,
          6,
          461,
          306,
          2818,
          316,
          392,
          294,
          177,
          420,
          1000,
          380,
          11000,
          500,
          168,
          250,
          7000,
          400,
          469,
          168,
          430,
          7,
          206,
          475,
          215,
          70,
          40,
          300,
          48,
          3,
          400,
          600,
          300,
          500,
          2,
          1000,
          300,
          180,
          40,
          600,
          400,
          200,
          250,
          1000,
          14435,
          175,
          1655,
          1500,
          198,
          400,
          125,
          55,
          90,
          438,
          320,
          80,
          215,
          500,
          100,
          450,
          4545,
          700,
          450,
          600,
          300,
          4853,
          12,
          210,
          32,
          350,
          140,
          700,
          3000,
          400,
          266,
          300,
          200,
          10,
          135,
          200,
          210,
          95,
          400,
          750,
          200,
          225,
          650,
          82,
          100,
          675,
          200,
          300,
          50,
          108,
          675,
          400,
          11202,
          675,
          460,
          250,
          150,
          22934,
          180,
          100,
          500,
          417,
          200,
          353,
          300,
          600,
          676,
          30,
          460,
          675,
          200,
          350,
          150,
          300,
          32,
          33,
          200,
          400,
          40,
          700,
          300,
          225,
          103,
          163,
          350,
          150,
          120,
          3200,
          51,
          280,
          500,
          1400,
          250,
          283,
          318,
          55,
          6000,
          180,
          350,
          250,
          148,
          120,
          140,
          1800,
          297,
          2100,
          113,
          1250,
          1100,
          10000,
          125,
          1300,
          65,
          125,
          206,
          150,
          27,
          483,
          133,
          41788,
          4000,
          695,
          197,
          685,
          2578,
          240,
          119,
          13850,
          595,
          150,
          360,
          31,
          180,
          630,
          176,
          300,
          324,
          30,
          420,
          150,
          300,
          220,
          10,
          140,
          3,
          2650,
          308,
          160,
          5,
          5,
          80,
          55,
          300,
          90,
          115,
          400,
          300,
          120,
          300,
          150,
          120,
          360,
          176,
          7,
          300,
          200,
          91,
          91,
          318,
          240,
          864,
          240,
          130,
          270,
          15,
          500,
          500,
          1000,
          400,
          500,
          220,
          240,
          464,
          22,
          324,
          290,
          300,
          103,
          100,
          110,
          3,
          160,
          180,
          160,
          140,
          24,
          480,
          136,
          400,
          350,
          522,
          160,
          1,
          295,
          250,
          800,
          414,
          512,
          56,
          250,
          88,
          200,
          5,
          206,
          130,
          15,
          20,
          3,
          526,
          10,
          700,
          300,
          150,
          208,
          150,
          9,
          30,
          91,
          16,
          390,
          662,
          280,
          522,
          225,
          300,
          700,
          451,
          170,
          5,
          240,
          1,
          3900,
          200,
          220,
          611,
          300,
          180,
          300,
          3300,
          199,
          29,
          22,
          200,
          150,
          136,
          211,
          1,
          126,
          75,
          214,
          110,
          150,
          430,
          4,
          600,
          22,
          50,
          45,
          84,
          40,
          650,
          4,
          900,
          150,
          293,
          120,
          300,
          143,
          240,
          188,
          600,
          520,
          250,
          790,
          72,
          950,
          5000,
          350,
          475,
          210,
          850,
          170,
          400,
          63,
          300,
          120,
          100,
          335,
          250,
          900,
          600,
          65,
          650,
          428,
          400,
          101,
          6,
          1040,
          10,
          83,
          150,
          2200,
          729,
          312,
          75,
          620,
          363,
          100,
          100,
          221,
          290,
          1246,
          854,
          563,
          130,
          75,
          50,
          500,
          92,
          30,
          75,
          300,
          500,
          280,
          8,
          51,
          340,
          22700,
          200,
          630,
          1,
          75,
          50,
          180,
          56,
          123,
          150,
          580,
          300,
          428,
          120,
          550,
          500,
          200,
          1060,
          220,
          110,
          120,
          1170,
          290,
          157,
          485,
          155,
          1650,
          84,
          373,
          35
         ],
         "yaxis": "y"
        }
       ],
       "layout": {
        "legend": {
         "tracegroupgap": 0
        },
        "margin": {
         "t": 60
        },
        "template": {
         "data": {
          "bar": [
           {
            "error_x": {
             "color": "#2a3f5f"
            },
            "error_y": {
             "color": "#2a3f5f"
            },
            "marker": {
             "line": {
              "color": "#E5ECF6",
              "width": 0.5
             },
             "pattern": {
              "fillmode": "overlay",
              "size": 10,
              "solidity": 0.2
             }
            },
            "type": "bar"
           }
          ],
          "barpolar": [
           {
            "marker": {
             "line": {
              "color": "#E5ECF6",
              "width": 0.5
             },
             "pattern": {
              "fillmode": "overlay",
              "size": 10,
              "solidity": 0.2
             }
            },
            "type": "barpolar"
           }
          ],
          "carpet": [
           {
            "aaxis": {
             "endlinecolor": "#2a3f5f",
             "gridcolor": "white",
             "linecolor": "white",
             "minorgridcolor": "white",
             "startlinecolor": "#2a3f5f"
            },
            "baxis": {
             "endlinecolor": "#2a3f5f",
             "gridcolor": "white",
             "linecolor": "white",
             "minorgridcolor": "white",
             "startlinecolor": "#2a3f5f"
            },
            "type": "carpet"
           }
          ],
          "choropleth": [
           {
            "colorbar": {
             "outlinewidth": 0,
             "ticks": ""
            },
            "type": "choropleth"
           }
          ],
          "contour": [
           {
            "colorbar": {
             "outlinewidth": 0,
             "ticks": ""
            },
            "colorscale": [
             [
              0,
              "#0d0887"
             ],
             [
              0.1111111111111111,
              "#46039f"
             ],
             [
              0.2222222222222222,
              "#7201a8"
             ],
             [
              0.3333333333333333,
              "#9c179e"
             ],
             [
              0.4444444444444444,
              "#bd3786"
             ],
             [
              0.5555555555555556,
              "#d8576b"
             ],
             [
              0.6666666666666666,
              "#ed7953"
             ],
             [
              0.7777777777777778,
              "#fb9f3a"
             ],
             [
              0.8888888888888888,
              "#fdca26"
             ],
             [
              1,
              "#f0f921"
             ]
            ],
            "type": "contour"
           }
          ],
          "contourcarpet": [
           {
            "colorbar": {
             "outlinewidth": 0,
             "ticks": ""
            },
            "type": "contourcarpet"
           }
          ],
          "heatmap": [
           {
            "colorbar": {
             "outlinewidth": 0,
             "ticks": ""
            },
            "colorscale": [
             [
              0,
              "#0d0887"
             ],
             [
              0.1111111111111111,
              "#46039f"
             ],
             [
              0.2222222222222222,
              "#7201a8"
             ],
             [
              0.3333333333333333,
              "#9c179e"
             ],
             [
              0.4444444444444444,
              "#bd3786"
             ],
             [
              0.5555555555555556,
              "#d8576b"
             ],
             [
              0.6666666666666666,
              "#ed7953"
             ],
             [
              0.7777777777777778,
              "#fb9f3a"
             ],
             [
              0.8888888888888888,
              "#fdca26"
             ],
             [
              1,
              "#f0f921"
             ]
            ],
            "type": "heatmap"
           }
          ],
          "heatmapgl": [
           {
            "colorbar": {
             "outlinewidth": 0,
             "ticks": ""
            },
            "colorscale": [
             [
              0,
              "#0d0887"
             ],
             [
              0.1111111111111111,
              "#46039f"
             ],
             [
              0.2222222222222222,
              "#7201a8"
             ],
             [
              0.3333333333333333,
              "#9c179e"
             ],
             [
              0.4444444444444444,
              "#bd3786"
             ],
             [
              0.5555555555555556,
              "#d8576b"
             ],
             [
              0.6666666666666666,
              "#ed7953"
             ],
             [
              0.7777777777777778,
              "#fb9f3a"
             ],
             [
              0.8888888888888888,
              "#fdca26"
             ],
             [
              1,
              "#f0f921"
             ]
            ],
            "type": "heatmapgl"
           }
          ],
          "histogram": [
           {
            "marker": {
             "pattern": {
              "fillmode": "overlay",
              "size": 10,
              "solidity": 0.2
             }
            },
            "type": "histogram"
           }
          ],
          "histogram2d": [
           {
            "colorbar": {
             "outlinewidth": 0,
             "ticks": ""
            },
            "colorscale": [
             [
              0,
              "#0d0887"
             ],
             [
              0.1111111111111111,
              "#46039f"
             ],
             [
              0.2222222222222222,
              "#7201a8"
             ],
             [
              0.3333333333333333,
              "#9c179e"
             ],
             [
              0.4444444444444444,
              "#bd3786"
             ],
             [
              0.5555555555555556,
              "#d8576b"
             ],
             [
              0.6666666666666666,
              "#ed7953"
             ],
             [
              0.7777777777777778,
              "#fb9f3a"
             ],
             [
              0.8888888888888888,
              "#fdca26"
             ],
             [
              1,
              "#f0f921"
             ]
            ],
            "type": "histogram2d"
           }
          ],
          "histogram2dcontour": [
           {
            "colorbar": {
             "outlinewidth": 0,
             "ticks": ""
            },
            "colorscale": [
             [
              0,
              "#0d0887"
             ],
             [
              0.1111111111111111,
              "#46039f"
             ],
             [
              0.2222222222222222,
              "#7201a8"
             ],
             [
              0.3333333333333333,
              "#9c179e"
             ],
             [
              0.4444444444444444,
              "#bd3786"
             ],
             [
              0.5555555555555556,
              "#d8576b"
             ],
             [
              0.6666666666666666,
              "#ed7953"
             ],
             [
              0.7777777777777778,
              "#fb9f3a"
             ],
             [
              0.8888888888888888,
              "#fdca26"
             ],
             [
              1,
              "#f0f921"
             ]
            ],
            "type": "histogram2dcontour"
           }
          ],
          "mesh3d": [
           {
            "colorbar": {
             "outlinewidth": 0,
             "ticks": ""
            },
            "type": "mesh3d"
           }
          ],
          "parcoords": [
           {
            "line": {
             "colorbar": {
              "outlinewidth": 0,
              "ticks": ""
             }
            },
            "type": "parcoords"
           }
          ],
          "pie": [
           {
            "automargin": true,
            "type": "pie"
           }
          ],
          "scatter": [
           {
            "fillpattern": {
             "fillmode": "overlay",
             "size": 10,
             "solidity": 0.2
            },
            "type": "scatter"
           }
          ],
          "scatter3d": [
           {
            "line": {
             "colorbar": {
              "outlinewidth": 0,
              "ticks": ""
             }
            },
            "marker": {
             "colorbar": {
              "outlinewidth": 0,
              "ticks": ""
             }
            },
            "type": "scatter3d"
           }
          ],
          "scattercarpet": [
           {
            "marker": {
             "colorbar": {
              "outlinewidth": 0,
              "ticks": ""
             }
            },
            "type": "scattercarpet"
           }
          ],
          "scattergeo": [
           {
            "marker": {
             "colorbar": {
              "outlinewidth": 0,
              "ticks": ""
             }
            },
            "type": "scattergeo"
           }
          ],
          "scattergl": [
           {
            "marker": {
             "colorbar": {
              "outlinewidth": 0,
              "ticks": ""
             }
            },
            "type": "scattergl"
           }
          ],
          "scattermapbox": [
           {
            "marker": {
             "colorbar": {
              "outlinewidth": 0,
              "ticks": ""
             }
            },
            "type": "scattermapbox"
           }
          ],
          "scatterpolar": [
           {
            "marker": {
             "colorbar": {
              "outlinewidth": 0,
              "ticks": ""
             }
            },
            "type": "scatterpolar"
           }
          ],
          "scatterpolargl": [
           {
            "marker": {
             "colorbar": {
              "outlinewidth": 0,
              "ticks": ""
             }
            },
            "type": "scatterpolargl"
           }
          ],
          "scatterternary": [
           {
            "marker": {
             "colorbar": {
              "outlinewidth": 0,
              "ticks": ""
             }
            },
            "type": "scatterternary"
           }
          ],
          "surface": [
           {
            "colorbar": {
             "outlinewidth": 0,
             "ticks": ""
            },
            "colorscale": [
             [
              0,
              "#0d0887"
             ],
             [
              0.1111111111111111,
              "#46039f"
             ],
             [
              0.2222222222222222,
              "#7201a8"
             ],
             [
              0.3333333333333333,
              "#9c179e"
             ],
             [
              0.4444444444444444,
              "#bd3786"
             ],
             [
              0.5555555555555556,
              "#d8576b"
             ],
             [
              0.6666666666666666,
              "#ed7953"
             ],
             [
              0.7777777777777778,
              "#fb9f3a"
             ],
             [
              0.8888888888888888,
              "#fdca26"
             ],
             [
              1,
              "#f0f921"
             ]
            ],
            "type": "surface"
           }
          ],
          "table": [
           {
            "cells": {
             "fill": {
              "color": "#EBF0F8"
             },
             "line": {
              "color": "white"
             }
            },
            "header": {
             "fill": {
              "color": "#C8D4E3"
             },
             "line": {
              "color": "white"
             }
            },
            "type": "table"
           }
          ]
         },
         "layout": {
          "annotationdefaults": {
           "arrowcolor": "#2a3f5f",
           "arrowhead": 0,
           "arrowwidth": 1
          },
          "autotypenumbers": "strict",
          "coloraxis": {
           "colorbar": {
            "outlinewidth": 0,
            "ticks": ""
           }
          },
          "colorscale": {
           "diverging": [
            [
             0,
             "#8e0152"
            ],
            [
             0.1,
             "#c51b7d"
            ],
            [
             0.2,
             "#de77ae"
            ],
            [
             0.3,
             "#f1b6da"
            ],
            [
             0.4,
             "#fde0ef"
            ],
            [
             0.5,
             "#f7f7f7"
            ],
            [
             0.6,
             "#e6f5d0"
            ],
            [
             0.7,
             "#b8e186"
            ],
            [
             0.8,
             "#7fbc41"
            ],
            [
             0.9,
             "#4d9221"
            ],
            [
             1,
             "#276419"
            ]
           ],
           "sequential": [
            [
             0,
             "#0d0887"
            ],
            [
             0.1111111111111111,
             "#46039f"
            ],
            [
             0.2222222222222222,
             "#7201a8"
            ],
            [
             0.3333333333333333,
             "#9c179e"
            ],
            [
             0.4444444444444444,
             "#bd3786"
            ],
            [
             0.5555555555555556,
             "#d8576b"
            ],
            [
             0.6666666666666666,
             "#ed7953"
            ],
            [
             0.7777777777777778,
             "#fb9f3a"
            ],
            [
             0.8888888888888888,
             "#fdca26"
            ],
            [
             1,
             "#f0f921"
            ]
           ],
           "sequentialminus": [
            [
             0,
             "#0d0887"
            ],
            [
             0.1111111111111111,
             "#46039f"
            ],
            [
             0.2222222222222222,
             "#7201a8"
            ],
            [
             0.3333333333333333,
             "#9c179e"
            ],
            [
             0.4444444444444444,
             "#bd3786"
            ],
            [
             0.5555555555555556,
             "#d8576b"
            ],
            [
             0.6666666666666666,
             "#ed7953"
            ],
            [
             0.7777777777777778,
             "#fb9f3a"
            ],
            [
             0.8888888888888888,
             "#fdca26"
            ],
            [
             1,
             "#f0f921"
            ]
           ]
          },
          "colorway": [
           "#636efa",
           "#EF553B",
           "#00cc96",
           "#ab63fa",
           "#FFA15A",
           "#19d3f3",
           "#FF6692",
           "#B6E880",
           "#FF97FF",
           "#FECB52"
          ],
          "font": {
           "color": "#2a3f5f"
          },
          "geo": {
           "bgcolor": "white",
           "lakecolor": "white",
           "landcolor": "#E5ECF6",
           "showlakes": true,
           "showland": true,
           "subunitcolor": "white"
          },
          "hoverlabel": {
           "align": "left"
          },
          "hovermode": "closest",
          "mapbox": {
           "style": "light"
          },
          "paper_bgcolor": "white",
          "plot_bgcolor": "#E5ECF6",
          "polar": {
           "angularaxis": {
            "gridcolor": "white",
            "linecolor": "white",
            "ticks": ""
           },
           "bgcolor": "#E5ECF6",
           "radialaxis": {
            "gridcolor": "white",
            "linecolor": "white",
            "ticks": ""
           }
          },
          "scene": {
           "xaxis": {
            "backgroundcolor": "#E5ECF6",
            "gridcolor": "white",
            "gridwidth": 2,
            "linecolor": "white",
            "showbackground": true,
            "ticks": "",
            "zerolinecolor": "white"
           },
           "yaxis": {
            "backgroundcolor": "#E5ECF6",
            "gridcolor": "white",
            "gridwidth": 2,
            "linecolor": "white",
            "showbackground": true,
            "ticks": "",
            "zerolinecolor": "white"
           },
           "zaxis": {
            "backgroundcolor": "#E5ECF6",
            "gridcolor": "white",
            "gridwidth": 2,
            "linecolor": "white",
            "showbackground": true,
            "ticks": "",
            "zerolinecolor": "white"
           }
          },
          "shapedefaults": {
           "line": {
            "color": "#2a3f5f"
           }
          },
          "ternary": {
           "aaxis": {
            "gridcolor": "white",
            "linecolor": "white",
            "ticks": ""
           },
           "baxis": {
            "gridcolor": "white",
            "linecolor": "white",
            "ticks": ""
           },
           "bgcolor": "#E5ECF6",
           "caxis": {
            "gridcolor": "white",
            "linecolor": "white",
            "ticks": ""
           }
          },
          "title": {
           "x": 0.05
          },
          "xaxis": {
           "automargin": true,
           "gridcolor": "white",
           "linecolor": "white",
           "ticks": "",
           "title": {
            "standoff": 15
           },
           "zerolinecolor": "white",
           "zerolinewidth": 2
          },
          "yaxis": {
           "automargin": true,
           "gridcolor": "white",
           "linecolor": "white",
           "ticks": "",
           "title": {
            "standoff": 15
           },
           "zerolinecolor": "white",
           "zerolinewidth": 2
          }
         }
        },
        "xaxis": {
         "anchor": "y",
         "domain": [
          0,
          1
         ],
         "title": {
          "text": "OUTAGE.DURATION"
         }
        },
        "yaxis": {
         "anchor": "x",
         "domain": [
          0,
          1
         ],
         "title": {
          "text": "DEMAND.LOSS.MW"
         }
        }
       }
      }
     },
     "metadata": {},
     "output_type": "display_data"
    }
   ],
   "source": [
    "px.scatter(formated_data[formated_data['DEMAND.LOSS.MW'] > 0], x='OUTAGE.DURATION', y='DEMAND.LOSS.MW')"
   ]
  },
  {
   "cell_type": "markdown",
   "metadata": {},
   "source": [
    "Still looks fairly similar. There are also a number of very high values, which are likely the points where total demand loss was reported instead of peak demand loss. This could be an issue for training a model, as it would unfairly weight these points. Unfortunately, there is no way to tell which points are which."
   ]
  },
  {
   "cell_type": "markdown",
   "metadata": {},
   "source": [
    "Number of occurences of each of the given outage causes"
   ]
  },
  {
   "cell_type": "code",
   "execution_count": 15,
   "metadata": {},
   "outputs": [
    {
     "data": {
      "application/vnd.plotly.v1+json": {
       "config": {
        "plotlyServerURL": "https://plot.ly"
       },
       "data": [
        {
         "alignmentgroup": "True",
         "hovertemplate": "CAUSE.CATEGORY=%{x}<br>OBS=%{y}<extra></extra>",
         "legendgroup": "",
         "marker": {
          "color": "#636efa",
          "pattern": {
           "shape": ""
          }
         },
         "name": "",
         "offsetgroup": "",
         "orientation": "v",
         "showlegend": false,
         "textposition": "auto",
         "type": "bar",
         "x": [
          "equipment failure",
          "fuel supply emergency",
          "intentional attack",
          "islanding",
          "public appeal",
          "severe weather",
          "system operability disruption"
         ],
         "xaxis": "x",
         "y": [
          60,
          51,
          418,
          46,
          69,
          763,
          127
         ],
         "yaxis": "y"
        }
       ],
       "layout": {
        "barmode": "relative",
        "legend": {
         "tracegroupgap": 0
        },
        "template": {
         "data": {
          "bar": [
           {
            "error_x": {
             "color": "#2a3f5f"
            },
            "error_y": {
             "color": "#2a3f5f"
            },
            "marker": {
             "line": {
              "color": "#E5ECF6",
              "width": 0.5
             },
             "pattern": {
              "fillmode": "overlay",
              "size": 10,
              "solidity": 0.2
             }
            },
            "type": "bar"
           }
          ],
          "barpolar": [
           {
            "marker": {
             "line": {
              "color": "#E5ECF6",
              "width": 0.5
             },
             "pattern": {
              "fillmode": "overlay",
              "size": 10,
              "solidity": 0.2
             }
            },
            "type": "barpolar"
           }
          ],
          "carpet": [
           {
            "aaxis": {
             "endlinecolor": "#2a3f5f",
             "gridcolor": "white",
             "linecolor": "white",
             "minorgridcolor": "white",
             "startlinecolor": "#2a3f5f"
            },
            "baxis": {
             "endlinecolor": "#2a3f5f",
             "gridcolor": "white",
             "linecolor": "white",
             "minorgridcolor": "white",
             "startlinecolor": "#2a3f5f"
            },
            "type": "carpet"
           }
          ],
          "choropleth": [
           {
            "colorbar": {
             "outlinewidth": 0,
             "ticks": ""
            },
            "type": "choropleth"
           }
          ],
          "contour": [
           {
            "colorbar": {
             "outlinewidth": 0,
             "ticks": ""
            },
            "colorscale": [
             [
              0,
              "#0d0887"
             ],
             [
              0.1111111111111111,
              "#46039f"
             ],
             [
              0.2222222222222222,
              "#7201a8"
             ],
             [
              0.3333333333333333,
              "#9c179e"
             ],
             [
              0.4444444444444444,
              "#bd3786"
             ],
             [
              0.5555555555555556,
              "#d8576b"
             ],
             [
              0.6666666666666666,
              "#ed7953"
             ],
             [
              0.7777777777777778,
              "#fb9f3a"
             ],
             [
              0.8888888888888888,
              "#fdca26"
             ],
             [
              1,
              "#f0f921"
             ]
            ],
            "type": "contour"
           }
          ],
          "contourcarpet": [
           {
            "colorbar": {
             "outlinewidth": 0,
             "ticks": ""
            },
            "type": "contourcarpet"
           }
          ],
          "heatmap": [
           {
            "colorbar": {
             "outlinewidth": 0,
             "ticks": ""
            },
            "colorscale": [
             [
              0,
              "#0d0887"
             ],
             [
              0.1111111111111111,
              "#46039f"
             ],
             [
              0.2222222222222222,
              "#7201a8"
             ],
             [
              0.3333333333333333,
              "#9c179e"
             ],
             [
              0.4444444444444444,
              "#bd3786"
             ],
             [
              0.5555555555555556,
              "#d8576b"
             ],
             [
              0.6666666666666666,
              "#ed7953"
             ],
             [
              0.7777777777777778,
              "#fb9f3a"
             ],
             [
              0.8888888888888888,
              "#fdca26"
             ],
             [
              1,
              "#f0f921"
             ]
            ],
            "type": "heatmap"
           }
          ],
          "heatmapgl": [
           {
            "colorbar": {
             "outlinewidth": 0,
             "ticks": ""
            },
            "colorscale": [
             [
              0,
              "#0d0887"
             ],
             [
              0.1111111111111111,
              "#46039f"
             ],
             [
              0.2222222222222222,
              "#7201a8"
             ],
             [
              0.3333333333333333,
              "#9c179e"
             ],
             [
              0.4444444444444444,
              "#bd3786"
             ],
             [
              0.5555555555555556,
              "#d8576b"
             ],
             [
              0.6666666666666666,
              "#ed7953"
             ],
             [
              0.7777777777777778,
              "#fb9f3a"
             ],
             [
              0.8888888888888888,
              "#fdca26"
             ],
             [
              1,
              "#f0f921"
             ]
            ],
            "type": "heatmapgl"
           }
          ],
          "histogram": [
           {
            "marker": {
             "pattern": {
              "fillmode": "overlay",
              "size": 10,
              "solidity": 0.2
             }
            },
            "type": "histogram"
           }
          ],
          "histogram2d": [
           {
            "colorbar": {
             "outlinewidth": 0,
             "ticks": ""
            },
            "colorscale": [
             [
              0,
              "#0d0887"
             ],
             [
              0.1111111111111111,
              "#46039f"
             ],
             [
              0.2222222222222222,
              "#7201a8"
             ],
             [
              0.3333333333333333,
              "#9c179e"
             ],
             [
              0.4444444444444444,
              "#bd3786"
             ],
             [
              0.5555555555555556,
              "#d8576b"
             ],
             [
              0.6666666666666666,
              "#ed7953"
             ],
             [
              0.7777777777777778,
              "#fb9f3a"
             ],
             [
              0.8888888888888888,
              "#fdca26"
             ],
             [
              1,
              "#f0f921"
             ]
            ],
            "type": "histogram2d"
           }
          ],
          "histogram2dcontour": [
           {
            "colorbar": {
             "outlinewidth": 0,
             "ticks": ""
            },
            "colorscale": [
             [
              0,
              "#0d0887"
             ],
             [
              0.1111111111111111,
              "#46039f"
             ],
             [
              0.2222222222222222,
              "#7201a8"
             ],
             [
              0.3333333333333333,
              "#9c179e"
             ],
             [
              0.4444444444444444,
              "#bd3786"
             ],
             [
              0.5555555555555556,
              "#d8576b"
             ],
             [
              0.6666666666666666,
              "#ed7953"
             ],
             [
              0.7777777777777778,
              "#fb9f3a"
             ],
             [
              0.8888888888888888,
              "#fdca26"
             ],
             [
              1,
              "#f0f921"
             ]
            ],
            "type": "histogram2dcontour"
           }
          ],
          "mesh3d": [
           {
            "colorbar": {
             "outlinewidth": 0,
             "ticks": ""
            },
            "type": "mesh3d"
           }
          ],
          "parcoords": [
           {
            "line": {
             "colorbar": {
              "outlinewidth": 0,
              "ticks": ""
             }
            },
            "type": "parcoords"
           }
          ],
          "pie": [
           {
            "automargin": true,
            "type": "pie"
           }
          ],
          "scatter": [
           {
            "fillpattern": {
             "fillmode": "overlay",
             "size": 10,
             "solidity": 0.2
            },
            "type": "scatter"
           }
          ],
          "scatter3d": [
           {
            "line": {
             "colorbar": {
              "outlinewidth": 0,
              "ticks": ""
             }
            },
            "marker": {
             "colorbar": {
              "outlinewidth": 0,
              "ticks": ""
             }
            },
            "type": "scatter3d"
           }
          ],
          "scattercarpet": [
           {
            "marker": {
             "colorbar": {
              "outlinewidth": 0,
              "ticks": ""
             }
            },
            "type": "scattercarpet"
           }
          ],
          "scattergeo": [
           {
            "marker": {
             "colorbar": {
              "outlinewidth": 0,
              "ticks": ""
             }
            },
            "type": "scattergeo"
           }
          ],
          "scattergl": [
           {
            "marker": {
             "colorbar": {
              "outlinewidth": 0,
              "ticks": ""
             }
            },
            "type": "scattergl"
           }
          ],
          "scattermapbox": [
           {
            "marker": {
             "colorbar": {
              "outlinewidth": 0,
              "ticks": ""
             }
            },
            "type": "scattermapbox"
           }
          ],
          "scatterpolar": [
           {
            "marker": {
             "colorbar": {
              "outlinewidth": 0,
              "ticks": ""
             }
            },
            "type": "scatterpolar"
           }
          ],
          "scatterpolargl": [
           {
            "marker": {
             "colorbar": {
              "outlinewidth": 0,
              "ticks": ""
             }
            },
            "type": "scatterpolargl"
           }
          ],
          "scatterternary": [
           {
            "marker": {
             "colorbar": {
              "outlinewidth": 0,
              "ticks": ""
             }
            },
            "type": "scatterternary"
           }
          ],
          "surface": [
           {
            "colorbar": {
             "outlinewidth": 0,
             "ticks": ""
            },
            "colorscale": [
             [
              0,
              "#0d0887"
             ],
             [
              0.1111111111111111,
              "#46039f"
             ],
             [
              0.2222222222222222,
              "#7201a8"
             ],
             [
              0.3333333333333333,
              "#9c179e"
             ],
             [
              0.4444444444444444,
              "#bd3786"
             ],
             [
              0.5555555555555556,
              "#d8576b"
             ],
             [
              0.6666666666666666,
              "#ed7953"
             ],
             [
              0.7777777777777778,
              "#fb9f3a"
             ],
             [
              0.8888888888888888,
              "#fdca26"
             ],
             [
              1,
              "#f0f921"
             ]
            ],
            "type": "surface"
           }
          ],
          "table": [
           {
            "cells": {
             "fill": {
              "color": "#EBF0F8"
             },
             "line": {
              "color": "white"
             }
            },
            "header": {
             "fill": {
              "color": "#C8D4E3"
             },
             "line": {
              "color": "white"
             }
            },
            "type": "table"
           }
          ]
         },
         "layout": {
          "annotationdefaults": {
           "arrowcolor": "#2a3f5f",
           "arrowhead": 0,
           "arrowwidth": 1
          },
          "autotypenumbers": "strict",
          "coloraxis": {
           "colorbar": {
            "outlinewidth": 0,
            "ticks": ""
           }
          },
          "colorscale": {
           "diverging": [
            [
             0,
             "#8e0152"
            ],
            [
             0.1,
             "#c51b7d"
            ],
            [
             0.2,
             "#de77ae"
            ],
            [
             0.3,
             "#f1b6da"
            ],
            [
             0.4,
             "#fde0ef"
            ],
            [
             0.5,
             "#f7f7f7"
            ],
            [
             0.6,
             "#e6f5d0"
            ],
            [
             0.7,
             "#b8e186"
            ],
            [
             0.8,
             "#7fbc41"
            ],
            [
             0.9,
             "#4d9221"
            ],
            [
             1,
             "#276419"
            ]
           ],
           "sequential": [
            [
             0,
             "#0d0887"
            ],
            [
             0.1111111111111111,
             "#46039f"
            ],
            [
             0.2222222222222222,
             "#7201a8"
            ],
            [
             0.3333333333333333,
             "#9c179e"
            ],
            [
             0.4444444444444444,
             "#bd3786"
            ],
            [
             0.5555555555555556,
             "#d8576b"
            ],
            [
             0.6666666666666666,
             "#ed7953"
            ],
            [
             0.7777777777777778,
             "#fb9f3a"
            ],
            [
             0.8888888888888888,
             "#fdca26"
            ],
            [
             1,
             "#f0f921"
            ]
           ],
           "sequentialminus": [
            [
             0,
             "#0d0887"
            ],
            [
             0.1111111111111111,
             "#46039f"
            ],
            [
             0.2222222222222222,
             "#7201a8"
            ],
            [
             0.3333333333333333,
             "#9c179e"
            ],
            [
             0.4444444444444444,
             "#bd3786"
            ],
            [
             0.5555555555555556,
             "#d8576b"
            ],
            [
             0.6666666666666666,
             "#ed7953"
            ],
            [
             0.7777777777777778,
             "#fb9f3a"
            ],
            [
             0.8888888888888888,
             "#fdca26"
            ],
            [
             1,
             "#f0f921"
            ]
           ]
          },
          "colorway": [
           "#636efa",
           "#EF553B",
           "#00cc96",
           "#ab63fa",
           "#FFA15A",
           "#19d3f3",
           "#FF6692",
           "#B6E880",
           "#FF97FF",
           "#FECB52"
          ],
          "font": {
           "color": "#2a3f5f"
          },
          "geo": {
           "bgcolor": "white",
           "lakecolor": "white",
           "landcolor": "#E5ECF6",
           "showlakes": true,
           "showland": true,
           "subunitcolor": "white"
          },
          "hoverlabel": {
           "align": "left"
          },
          "hovermode": "closest",
          "mapbox": {
           "style": "light"
          },
          "paper_bgcolor": "white",
          "plot_bgcolor": "#E5ECF6",
          "polar": {
           "angularaxis": {
            "gridcolor": "white",
            "linecolor": "white",
            "ticks": ""
           },
           "bgcolor": "#E5ECF6",
           "radialaxis": {
            "gridcolor": "white",
            "linecolor": "white",
            "ticks": ""
           }
          },
          "scene": {
           "xaxis": {
            "backgroundcolor": "#E5ECF6",
            "gridcolor": "white",
            "gridwidth": 2,
            "linecolor": "white",
            "showbackground": true,
            "ticks": "",
            "zerolinecolor": "white"
           },
           "yaxis": {
            "backgroundcolor": "#E5ECF6",
            "gridcolor": "white",
            "gridwidth": 2,
            "linecolor": "white",
            "showbackground": true,
            "ticks": "",
            "zerolinecolor": "white"
           },
           "zaxis": {
            "backgroundcolor": "#E5ECF6",
            "gridcolor": "white",
            "gridwidth": 2,
            "linecolor": "white",
            "showbackground": true,
            "ticks": "",
            "zerolinecolor": "white"
           }
          },
          "shapedefaults": {
           "line": {
            "color": "#2a3f5f"
           }
          },
          "ternary": {
           "aaxis": {
            "gridcolor": "white",
            "linecolor": "white",
            "ticks": ""
           },
           "baxis": {
            "gridcolor": "white",
            "linecolor": "white",
            "ticks": ""
           },
           "bgcolor": "#E5ECF6",
           "caxis": {
            "gridcolor": "white",
            "linecolor": "white",
            "ticks": ""
           }
          },
          "title": {
           "x": 0.05
          },
          "xaxis": {
           "automargin": true,
           "gridcolor": "white",
           "linecolor": "white",
           "ticks": "",
           "title": {
            "standoff": 15
           },
           "zerolinecolor": "white",
           "zerolinewidth": 2
          },
          "yaxis": {
           "automargin": true,
           "gridcolor": "white",
           "linecolor": "white",
           "ticks": "",
           "title": {
            "standoff": 15
           },
           "zerolinecolor": "white",
           "zerolinewidth": 2
          }
         }
        },
        "title": {
         "text": "Number of Outages by Cause Category"
        },
        "xaxis": {
         "anchor": "y",
         "domain": [
          0,
          1
         ],
         "title": {
          "text": "CAUSE.CATEGORY"
         }
        },
        "yaxis": {
         "anchor": "x",
         "domain": [
          0,
          1
         ],
         "title": {
          "text": "OBS"
         }
        }
       }
      }
     },
     "metadata": {},
     "output_type": "display_data"
    }
   ],
   "source": [
    "# Groupy all of the data by cause category to see what the new distribution looks like\n",
    "px.bar(formated_data.groupby('CAUSE.CATEGORY').count().reset_index(), x='CAUSE.CATEGORY', y='OBS', title='Number of Outages by Cause Category')"
   ]
  },
  {
   "cell_type": "markdown",
   "metadata": {},
   "source": [
    "Weather seems to be the largest cause, followed interestingly by intentional attack. Why might Intentional attacks be such a common cause of outages? (Likely the answer is not in our dataset, so we will continue and instead look at weather patterns)"
   ]
  },
  {
   "cell_type": "markdown",
   "metadata": {},
   "source": [
    "Exploration of proportions of outages attibuted to weather events year over year"
   ]
  },
  {
   "cell_type": "code",
   "execution_count": 16,
   "metadata": {},
   "outputs": [
    {
     "data": {
      "application/vnd.plotly.v1+json": {
       "config": {
        "plotlyServerURL": "https://plot.ly"
       },
       "data": [
        {
         "hovertemplate": "YEAR=%{x}<br>OBS=%{y}<extra></extra>",
         "legendgroup": "",
         "marker": {
          "color": "#636efa",
          "symbol": "circle"
         },
         "mode": "markers",
         "name": "",
         "orientation": "v",
         "showlegend": false,
         "type": "scatter",
         "x": [
          2000,
          2001,
          2002,
          2003,
          2004,
          2005,
          2006,
          2007,
          2008,
          2009,
          2010,
          2011,
          2012,
          2013,
          2014,
          2015,
          2016
         ],
         "xaxis": "x",
         "y": [
          0.5,
          0.06666666666666667,
          0.7647058823529411,
          0.6521739130434783,
          0.7887323943661971,
          0.8545454545454545,
          0.8059701492537313,
          0.7142857142857143,
          0.6846846846846847,
          0.5769230769230769,
          0.5849056603773585,
          0.39776951672862454,
          0.3735632183908046,
          0.3202614379084967,
          0.4017857142857143,
          0.40336134453781514,
          0.2033898305084746
         ],
         "yaxis": "y"
        }
       ],
       "layout": {
        "legend": {
         "tracegroupgap": 0
        },
        "template": {
         "data": {
          "bar": [
           {
            "error_x": {
             "color": "#2a3f5f"
            },
            "error_y": {
             "color": "#2a3f5f"
            },
            "marker": {
             "line": {
              "color": "#E5ECF6",
              "width": 0.5
             },
             "pattern": {
              "fillmode": "overlay",
              "size": 10,
              "solidity": 0.2
             }
            },
            "type": "bar"
           }
          ],
          "barpolar": [
           {
            "marker": {
             "line": {
              "color": "#E5ECF6",
              "width": 0.5
             },
             "pattern": {
              "fillmode": "overlay",
              "size": 10,
              "solidity": 0.2
             }
            },
            "type": "barpolar"
           }
          ],
          "carpet": [
           {
            "aaxis": {
             "endlinecolor": "#2a3f5f",
             "gridcolor": "white",
             "linecolor": "white",
             "minorgridcolor": "white",
             "startlinecolor": "#2a3f5f"
            },
            "baxis": {
             "endlinecolor": "#2a3f5f",
             "gridcolor": "white",
             "linecolor": "white",
             "minorgridcolor": "white",
             "startlinecolor": "#2a3f5f"
            },
            "type": "carpet"
           }
          ],
          "choropleth": [
           {
            "colorbar": {
             "outlinewidth": 0,
             "ticks": ""
            },
            "type": "choropleth"
           }
          ],
          "contour": [
           {
            "colorbar": {
             "outlinewidth": 0,
             "ticks": ""
            },
            "colorscale": [
             [
              0,
              "#0d0887"
             ],
             [
              0.1111111111111111,
              "#46039f"
             ],
             [
              0.2222222222222222,
              "#7201a8"
             ],
             [
              0.3333333333333333,
              "#9c179e"
             ],
             [
              0.4444444444444444,
              "#bd3786"
             ],
             [
              0.5555555555555556,
              "#d8576b"
             ],
             [
              0.6666666666666666,
              "#ed7953"
             ],
             [
              0.7777777777777778,
              "#fb9f3a"
             ],
             [
              0.8888888888888888,
              "#fdca26"
             ],
             [
              1,
              "#f0f921"
             ]
            ],
            "type": "contour"
           }
          ],
          "contourcarpet": [
           {
            "colorbar": {
             "outlinewidth": 0,
             "ticks": ""
            },
            "type": "contourcarpet"
           }
          ],
          "heatmap": [
           {
            "colorbar": {
             "outlinewidth": 0,
             "ticks": ""
            },
            "colorscale": [
             [
              0,
              "#0d0887"
             ],
             [
              0.1111111111111111,
              "#46039f"
             ],
             [
              0.2222222222222222,
              "#7201a8"
             ],
             [
              0.3333333333333333,
              "#9c179e"
             ],
             [
              0.4444444444444444,
              "#bd3786"
             ],
             [
              0.5555555555555556,
              "#d8576b"
             ],
             [
              0.6666666666666666,
              "#ed7953"
             ],
             [
              0.7777777777777778,
              "#fb9f3a"
             ],
             [
              0.8888888888888888,
              "#fdca26"
             ],
             [
              1,
              "#f0f921"
             ]
            ],
            "type": "heatmap"
           }
          ],
          "heatmapgl": [
           {
            "colorbar": {
             "outlinewidth": 0,
             "ticks": ""
            },
            "colorscale": [
             [
              0,
              "#0d0887"
             ],
             [
              0.1111111111111111,
              "#46039f"
             ],
             [
              0.2222222222222222,
              "#7201a8"
             ],
             [
              0.3333333333333333,
              "#9c179e"
             ],
             [
              0.4444444444444444,
              "#bd3786"
             ],
             [
              0.5555555555555556,
              "#d8576b"
             ],
             [
              0.6666666666666666,
              "#ed7953"
             ],
             [
              0.7777777777777778,
              "#fb9f3a"
             ],
             [
              0.8888888888888888,
              "#fdca26"
             ],
             [
              1,
              "#f0f921"
             ]
            ],
            "type": "heatmapgl"
           }
          ],
          "histogram": [
           {
            "marker": {
             "pattern": {
              "fillmode": "overlay",
              "size": 10,
              "solidity": 0.2
             }
            },
            "type": "histogram"
           }
          ],
          "histogram2d": [
           {
            "colorbar": {
             "outlinewidth": 0,
             "ticks": ""
            },
            "colorscale": [
             [
              0,
              "#0d0887"
             ],
             [
              0.1111111111111111,
              "#46039f"
             ],
             [
              0.2222222222222222,
              "#7201a8"
             ],
             [
              0.3333333333333333,
              "#9c179e"
             ],
             [
              0.4444444444444444,
              "#bd3786"
             ],
             [
              0.5555555555555556,
              "#d8576b"
             ],
             [
              0.6666666666666666,
              "#ed7953"
             ],
             [
              0.7777777777777778,
              "#fb9f3a"
             ],
             [
              0.8888888888888888,
              "#fdca26"
             ],
             [
              1,
              "#f0f921"
             ]
            ],
            "type": "histogram2d"
           }
          ],
          "histogram2dcontour": [
           {
            "colorbar": {
             "outlinewidth": 0,
             "ticks": ""
            },
            "colorscale": [
             [
              0,
              "#0d0887"
             ],
             [
              0.1111111111111111,
              "#46039f"
             ],
             [
              0.2222222222222222,
              "#7201a8"
             ],
             [
              0.3333333333333333,
              "#9c179e"
             ],
             [
              0.4444444444444444,
              "#bd3786"
             ],
             [
              0.5555555555555556,
              "#d8576b"
             ],
             [
              0.6666666666666666,
              "#ed7953"
             ],
             [
              0.7777777777777778,
              "#fb9f3a"
             ],
             [
              0.8888888888888888,
              "#fdca26"
             ],
             [
              1,
              "#f0f921"
             ]
            ],
            "type": "histogram2dcontour"
           }
          ],
          "mesh3d": [
           {
            "colorbar": {
             "outlinewidth": 0,
             "ticks": ""
            },
            "type": "mesh3d"
           }
          ],
          "parcoords": [
           {
            "line": {
             "colorbar": {
              "outlinewidth": 0,
              "ticks": ""
             }
            },
            "type": "parcoords"
           }
          ],
          "pie": [
           {
            "automargin": true,
            "type": "pie"
           }
          ],
          "scatter": [
           {
            "fillpattern": {
             "fillmode": "overlay",
             "size": 10,
             "solidity": 0.2
            },
            "type": "scatter"
           }
          ],
          "scatter3d": [
           {
            "line": {
             "colorbar": {
              "outlinewidth": 0,
              "ticks": ""
             }
            },
            "marker": {
             "colorbar": {
              "outlinewidth": 0,
              "ticks": ""
             }
            },
            "type": "scatter3d"
           }
          ],
          "scattercarpet": [
           {
            "marker": {
             "colorbar": {
              "outlinewidth": 0,
              "ticks": ""
             }
            },
            "type": "scattercarpet"
           }
          ],
          "scattergeo": [
           {
            "marker": {
             "colorbar": {
              "outlinewidth": 0,
              "ticks": ""
             }
            },
            "type": "scattergeo"
           }
          ],
          "scattergl": [
           {
            "marker": {
             "colorbar": {
              "outlinewidth": 0,
              "ticks": ""
             }
            },
            "type": "scattergl"
           }
          ],
          "scattermapbox": [
           {
            "marker": {
             "colorbar": {
              "outlinewidth": 0,
              "ticks": ""
             }
            },
            "type": "scattermapbox"
           }
          ],
          "scatterpolar": [
           {
            "marker": {
             "colorbar": {
              "outlinewidth": 0,
              "ticks": ""
             }
            },
            "type": "scatterpolar"
           }
          ],
          "scatterpolargl": [
           {
            "marker": {
             "colorbar": {
              "outlinewidth": 0,
              "ticks": ""
             }
            },
            "type": "scatterpolargl"
           }
          ],
          "scatterternary": [
           {
            "marker": {
             "colorbar": {
              "outlinewidth": 0,
              "ticks": ""
             }
            },
            "type": "scatterternary"
           }
          ],
          "surface": [
           {
            "colorbar": {
             "outlinewidth": 0,
             "ticks": ""
            },
            "colorscale": [
             [
              0,
              "#0d0887"
             ],
             [
              0.1111111111111111,
              "#46039f"
             ],
             [
              0.2222222222222222,
              "#7201a8"
             ],
             [
              0.3333333333333333,
              "#9c179e"
             ],
             [
              0.4444444444444444,
              "#bd3786"
             ],
             [
              0.5555555555555556,
              "#d8576b"
             ],
             [
              0.6666666666666666,
              "#ed7953"
             ],
             [
              0.7777777777777778,
              "#fb9f3a"
             ],
             [
              0.8888888888888888,
              "#fdca26"
             ],
             [
              1,
              "#f0f921"
             ]
            ],
            "type": "surface"
           }
          ],
          "table": [
           {
            "cells": {
             "fill": {
              "color": "#EBF0F8"
             },
             "line": {
              "color": "white"
             }
            },
            "header": {
             "fill": {
              "color": "#C8D4E3"
             },
             "line": {
              "color": "white"
             }
            },
            "type": "table"
           }
          ]
         },
         "layout": {
          "annotationdefaults": {
           "arrowcolor": "#2a3f5f",
           "arrowhead": 0,
           "arrowwidth": 1
          },
          "autotypenumbers": "strict",
          "coloraxis": {
           "colorbar": {
            "outlinewidth": 0,
            "ticks": ""
           }
          },
          "colorscale": {
           "diverging": [
            [
             0,
             "#8e0152"
            ],
            [
             0.1,
             "#c51b7d"
            ],
            [
             0.2,
             "#de77ae"
            ],
            [
             0.3,
             "#f1b6da"
            ],
            [
             0.4,
             "#fde0ef"
            ],
            [
             0.5,
             "#f7f7f7"
            ],
            [
             0.6,
             "#e6f5d0"
            ],
            [
             0.7,
             "#b8e186"
            ],
            [
             0.8,
             "#7fbc41"
            ],
            [
             0.9,
             "#4d9221"
            ],
            [
             1,
             "#276419"
            ]
           ],
           "sequential": [
            [
             0,
             "#0d0887"
            ],
            [
             0.1111111111111111,
             "#46039f"
            ],
            [
             0.2222222222222222,
             "#7201a8"
            ],
            [
             0.3333333333333333,
             "#9c179e"
            ],
            [
             0.4444444444444444,
             "#bd3786"
            ],
            [
             0.5555555555555556,
             "#d8576b"
            ],
            [
             0.6666666666666666,
             "#ed7953"
            ],
            [
             0.7777777777777778,
             "#fb9f3a"
            ],
            [
             0.8888888888888888,
             "#fdca26"
            ],
            [
             1,
             "#f0f921"
            ]
           ],
           "sequentialminus": [
            [
             0,
             "#0d0887"
            ],
            [
             0.1111111111111111,
             "#46039f"
            ],
            [
             0.2222222222222222,
             "#7201a8"
            ],
            [
             0.3333333333333333,
             "#9c179e"
            ],
            [
             0.4444444444444444,
             "#bd3786"
            ],
            [
             0.5555555555555556,
             "#d8576b"
            ],
            [
             0.6666666666666666,
             "#ed7953"
            ],
            [
             0.7777777777777778,
             "#fb9f3a"
            ],
            [
             0.8888888888888888,
             "#fdca26"
            ],
            [
             1,
             "#f0f921"
            ]
           ]
          },
          "colorway": [
           "#636efa",
           "#EF553B",
           "#00cc96",
           "#ab63fa",
           "#FFA15A",
           "#19d3f3",
           "#FF6692",
           "#B6E880",
           "#FF97FF",
           "#FECB52"
          ],
          "font": {
           "color": "#2a3f5f"
          },
          "geo": {
           "bgcolor": "white",
           "lakecolor": "white",
           "landcolor": "#E5ECF6",
           "showlakes": true,
           "showland": true,
           "subunitcolor": "white"
          },
          "hoverlabel": {
           "align": "left"
          },
          "hovermode": "closest",
          "mapbox": {
           "style": "light"
          },
          "paper_bgcolor": "white",
          "plot_bgcolor": "#E5ECF6",
          "polar": {
           "angularaxis": {
            "gridcolor": "white",
            "linecolor": "white",
            "ticks": ""
           },
           "bgcolor": "#E5ECF6",
           "radialaxis": {
            "gridcolor": "white",
            "linecolor": "white",
            "ticks": ""
           }
          },
          "scene": {
           "xaxis": {
            "backgroundcolor": "#E5ECF6",
            "gridcolor": "white",
            "gridwidth": 2,
            "linecolor": "white",
            "showbackground": true,
            "ticks": "",
            "zerolinecolor": "white"
           },
           "yaxis": {
            "backgroundcolor": "#E5ECF6",
            "gridcolor": "white",
            "gridwidth": 2,
            "linecolor": "white",
            "showbackground": true,
            "ticks": "",
            "zerolinecolor": "white"
           },
           "zaxis": {
            "backgroundcolor": "#E5ECF6",
            "gridcolor": "white",
            "gridwidth": 2,
            "linecolor": "white",
            "showbackground": true,
            "ticks": "",
            "zerolinecolor": "white"
           }
          },
          "shapedefaults": {
           "line": {
            "color": "#2a3f5f"
           }
          },
          "ternary": {
           "aaxis": {
            "gridcolor": "white",
            "linecolor": "white",
            "ticks": ""
           },
           "baxis": {
            "gridcolor": "white",
            "linecolor": "white",
            "ticks": ""
           },
           "bgcolor": "#E5ECF6",
           "caxis": {
            "gridcolor": "white",
            "linecolor": "white",
            "ticks": ""
           }
          },
          "title": {
           "x": 0.05
          },
          "xaxis": {
           "automargin": true,
           "gridcolor": "white",
           "linecolor": "white",
           "ticks": "",
           "title": {
            "standoff": 15
           },
           "zerolinecolor": "white",
           "zerolinewidth": 2
          },
          "yaxis": {
           "automargin": true,
           "gridcolor": "white",
           "linecolor": "white",
           "ticks": "",
           "title": {
            "standoff": 15
           },
           "zerolinecolor": "white",
           "zerolinewidth": 2
          }
         }
        },
        "title": {
         "text": "Severe Weather Outages by Year"
        },
        "xaxis": {
         "anchor": "y",
         "domain": [
          0,
          1
         ],
         "title": {
          "text": "YEAR"
         }
        },
        "yaxis": {
         "anchor": "x",
         "domain": [
          0,
          1
         ],
         "title": {
          "text": "OBS"
         }
        }
       }
      }
     },
     "metadata": {},
     "output_type": "display_data"
    }
   ],
   "source": [
    "# Get the preportion of all of the outages that are caused by severe weather\n",
    "weather_year = formated_data[formated_data['CAUSE.CATEGORY'] == 'severe weather'].groupby('YEAR').count()['OBS'] / formated_data.groupby('YEAR').count()['OBS']\n",
    "px.scatter(weather_year, x=weather_year.index, y='OBS', title='Severe Weather Outages by Year').show()"
   ]
  },
  {
   "cell_type": "markdown",
   "metadata": {},
   "source": [
    "the 2001 data point seems to be a bit of an outlier. Why might it have had such a low proportion of weather related outage?"
   ]
  },
  {
   "cell_type": "code",
   "execution_count": 17,
   "metadata": {},
   "outputs": [
    {
     "data": {
      "application/vnd.plotly.v1+json": {
       "config": {
        "plotlyServerURL": "https://plot.ly"
       },
       "data": [
        {
         "alignmentgroup": "True",
         "hovertemplate": "CAUSE.CATEGORY=%{x}<br>OBS=%{y}<extra></extra>",
         "legendgroup": "",
         "marker": {
          "color": "#636efa",
          "pattern": {
           "shape": ""
          }
         },
         "name": "",
         "offsetgroup": "",
         "orientation": "v",
         "showlegend": false,
         "textposition": "auto",
         "type": "bar",
         "x": [
          "equipment failure",
          "public appeal",
          "severe weather",
          "system operability disruption"
         ],
         "xaxis": "x",
         "y": [
          1,
          3,
          1,
          10
         ],
         "yaxis": "y"
        }
       ],
       "layout": {
        "barmode": "relative",
        "legend": {
         "tracegroupgap": 0
        },
        "template": {
         "data": {
          "bar": [
           {
            "error_x": {
             "color": "#2a3f5f"
            },
            "error_y": {
             "color": "#2a3f5f"
            },
            "marker": {
             "line": {
              "color": "#E5ECF6",
              "width": 0.5
             },
             "pattern": {
              "fillmode": "overlay",
              "size": 10,
              "solidity": 0.2
             }
            },
            "type": "bar"
           }
          ],
          "barpolar": [
           {
            "marker": {
             "line": {
              "color": "#E5ECF6",
              "width": 0.5
             },
             "pattern": {
              "fillmode": "overlay",
              "size": 10,
              "solidity": 0.2
             }
            },
            "type": "barpolar"
           }
          ],
          "carpet": [
           {
            "aaxis": {
             "endlinecolor": "#2a3f5f",
             "gridcolor": "white",
             "linecolor": "white",
             "minorgridcolor": "white",
             "startlinecolor": "#2a3f5f"
            },
            "baxis": {
             "endlinecolor": "#2a3f5f",
             "gridcolor": "white",
             "linecolor": "white",
             "minorgridcolor": "white",
             "startlinecolor": "#2a3f5f"
            },
            "type": "carpet"
           }
          ],
          "choropleth": [
           {
            "colorbar": {
             "outlinewidth": 0,
             "ticks": ""
            },
            "type": "choropleth"
           }
          ],
          "contour": [
           {
            "colorbar": {
             "outlinewidth": 0,
             "ticks": ""
            },
            "colorscale": [
             [
              0,
              "#0d0887"
             ],
             [
              0.1111111111111111,
              "#46039f"
             ],
             [
              0.2222222222222222,
              "#7201a8"
             ],
             [
              0.3333333333333333,
              "#9c179e"
             ],
             [
              0.4444444444444444,
              "#bd3786"
             ],
             [
              0.5555555555555556,
              "#d8576b"
             ],
             [
              0.6666666666666666,
              "#ed7953"
             ],
             [
              0.7777777777777778,
              "#fb9f3a"
             ],
             [
              0.8888888888888888,
              "#fdca26"
             ],
             [
              1,
              "#f0f921"
             ]
            ],
            "type": "contour"
           }
          ],
          "contourcarpet": [
           {
            "colorbar": {
             "outlinewidth": 0,
             "ticks": ""
            },
            "type": "contourcarpet"
           }
          ],
          "heatmap": [
           {
            "colorbar": {
             "outlinewidth": 0,
             "ticks": ""
            },
            "colorscale": [
             [
              0,
              "#0d0887"
             ],
             [
              0.1111111111111111,
              "#46039f"
             ],
             [
              0.2222222222222222,
              "#7201a8"
             ],
             [
              0.3333333333333333,
              "#9c179e"
             ],
             [
              0.4444444444444444,
              "#bd3786"
             ],
             [
              0.5555555555555556,
              "#d8576b"
             ],
             [
              0.6666666666666666,
              "#ed7953"
             ],
             [
              0.7777777777777778,
              "#fb9f3a"
             ],
             [
              0.8888888888888888,
              "#fdca26"
             ],
             [
              1,
              "#f0f921"
             ]
            ],
            "type": "heatmap"
           }
          ],
          "heatmapgl": [
           {
            "colorbar": {
             "outlinewidth": 0,
             "ticks": ""
            },
            "colorscale": [
             [
              0,
              "#0d0887"
             ],
             [
              0.1111111111111111,
              "#46039f"
             ],
             [
              0.2222222222222222,
              "#7201a8"
             ],
             [
              0.3333333333333333,
              "#9c179e"
             ],
             [
              0.4444444444444444,
              "#bd3786"
             ],
             [
              0.5555555555555556,
              "#d8576b"
             ],
             [
              0.6666666666666666,
              "#ed7953"
             ],
             [
              0.7777777777777778,
              "#fb9f3a"
             ],
             [
              0.8888888888888888,
              "#fdca26"
             ],
             [
              1,
              "#f0f921"
             ]
            ],
            "type": "heatmapgl"
           }
          ],
          "histogram": [
           {
            "marker": {
             "pattern": {
              "fillmode": "overlay",
              "size": 10,
              "solidity": 0.2
             }
            },
            "type": "histogram"
           }
          ],
          "histogram2d": [
           {
            "colorbar": {
             "outlinewidth": 0,
             "ticks": ""
            },
            "colorscale": [
             [
              0,
              "#0d0887"
             ],
             [
              0.1111111111111111,
              "#46039f"
             ],
             [
              0.2222222222222222,
              "#7201a8"
             ],
             [
              0.3333333333333333,
              "#9c179e"
             ],
             [
              0.4444444444444444,
              "#bd3786"
             ],
             [
              0.5555555555555556,
              "#d8576b"
             ],
             [
              0.6666666666666666,
              "#ed7953"
             ],
             [
              0.7777777777777778,
              "#fb9f3a"
             ],
             [
              0.8888888888888888,
              "#fdca26"
             ],
             [
              1,
              "#f0f921"
             ]
            ],
            "type": "histogram2d"
           }
          ],
          "histogram2dcontour": [
           {
            "colorbar": {
             "outlinewidth": 0,
             "ticks": ""
            },
            "colorscale": [
             [
              0,
              "#0d0887"
             ],
             [
              0.1111111111111111,
              "#46039f"
             ],
             [
              0.2222222222222222,
              "#7201a8"
             ],
             [
              0.3333333333333333,
              "#9c179e"
             ],
             [
              0.4444444444444444,
              "#bd3786"
             ],
             [
              0.5555555555555556,
              "#d8576b"
             ],
             [
              0.6666666666666666,
              "#ed7953"
             ],
             [
              0.7777777777777778,
              "#fb9f3a"
             ],
             [
              0.8888888888888888,
              "#fdca26"
             ],
             [
              1,
              "#f0f921"
             ]
            ],
            "type": "histogram2dcontour"
           }
          ],
          "mesh3d": [
           {
            "colorbar": {
             "outlinewidth": 0,
             "ticks": ""
            },
            "type": "mesh3d"
           }
          ],
          "parcoords": [
           {
            "line": {
             "colorbar": {
              "outlinewidth": 0,
              "ticks": ""
             }
            },
            "type": "parcoords"
           }
          ],
          "pie": [
           {
            "automargin": true,
            "type": "pie"
           }
          ],
          "scatter": [
           {
            "fillpattern": {
             "fillmode": "overlay",
             "size": 10,
             "solidity": 0.2
            },
            "type": "scatter"
           }
          ],
          "scatter3d": [
           {
            "line": {
             "colorbar": {
              "outlinewidth": 0,
              "ticks": ""
             }
            },
            "marker": {
             "colorbar": {
              "outlinewidth": 0,
              "ticks": ""
             }
            },
            "type": "scatter3d"
           }
          ],
          "scattercarpet": [
           {
            "marker": {
             "colorbar": {
              "outlinewidth": 0,
              "ticks": ""
             }
            },
            "type": "scattercarpet"
           }
          ],
          "scattergeo": [
           {
            "marker": {
             "colorbar": {
              "outlinewidth": 0,
              "ticks": ""
             }
            },
            "type": "scattergeo"
           }
          ],
          "scattergl": [
           {
            "marker": {
             "colorbar": {
              "outlinewidth": 0,
              "ticks": ""
             }
            },
            "type": "scattergl"
           }
          ],
          "scattermapbox": [
           {
            "marker": {
             "colorbar": {
              "outlinewidth": 0,
              "ticks": ""
             }
            },
            "type": "scattermapbox"
           }
          ],
          "scatterpolar": [
           {
            "marker": {
             "colorbar": {
              "outlinewidth": 0,
              "ticks": ""
             }
            },
            "type": "scatterpolar"
           }
          ],
          "scatterpolargl": [
           {
            "marker": {
             "colorbar": {
              "outlinewidth": 0,
              "ticks": ""
             }
            },
            "type": "scatterpolargl"
           }
          ],
          "scatterternary": [
           {
            "marker": {
             "colorbar": {
              "outlinewidth": 0,
              "ticks": ""
             }
            },
            "type": "scatterternary"
           }
          ],
          "surface": [
           {
            "colorbar": {
             "outlinewidth": 0,
             "ticks": ""
            },
            "colorscale": [
             [
              0,
              "#0d0887"
             ],
             [
              0.1111111111111111,
              "#46039f"
             ],
             [
              0.2222222222222222,
              "#7201a8"
             ],
             [
              0.3333333333333333,
              "#9c179e"
             ],
             [
              0.4444444444444444,
              "#bd3786"
             ],
             [
              0.5555555555555556,
              "#d8576b"
             ],
             [
              0.6666666666666666,
              "#ed7953"
             ],
             [
              0.7777777777777778,
              "#fb9f3a"
             ],
             [
              0.8888888888888888,
              "#fdca26"
             ],
             [
              1,
              "#f0f921"
             ]
            ],
            "type": "surface"
           }
          ],
          "table": [
           {
            "cells": {
             "fill": {
              "color": "#EBF0F8"
             },
             "line": {
              "color": "white"
             }
            },
            "header": {
             "fill": {
              "color": "#C8D4E3"
             },
             "line": {
              "color": "white"
             }
            },
            "type": "table"
           }
          ]
         },
         "layout": {
          "annotationdefaults": {
           "arrowcolor": "#2a3f5f",
           "arrowhead": 0,
           "arrowwidth": 1
          },
          "autotypenumbers": "strict",
          "coloraxis": {
           "colorbar": {
            "outlinewidth": 0,
            "ticks": ""
           }
          },
          "colorscale": {
           "diverging": [
            [
             0,
             "#8e0152"
            ],
            [
             0.1,
             "#c51b7d"
            ],
            [
             0.2,
             "#de77ae"
            ],
            [
             0.3,
             "#f1b6da"
            ],
            [
             0.4,
             "#fde0ef"
            ],
            [
             0.5,
             "#f7f7f7"
            ],
            [
             0.6,
             "#e6f5d0"
            ],
            [
             0.7,
             "#b8e186"
            ],
            [
             0.8,
             "#7fbc41"
            ],
            [
             0.9,
             "#4d9221"
            ],
            [
             1,
             "#276419"
            ]
           ],
           "sequential": [
            [
             0,
             "#0d0887"
            ],
            [
             0.1111111111111111,
             "#46039f"
            ],
            [
             0.2222222222222222,
             "#7201a8"
            ],
            [
             0.3333333333333333,
             "#9c179e"
            ],
            [
             0.4444444444444444,
             "#bd3786"
            ],
            [
             0.5555555555555556,
             "#d8576b"
            ],
            [
             0.6666666666666666,
             "#ed7953"
            ],
            [
             0.7777777777777778,
             "#fb9f3a"
            ],
            [
             0.8888888888888888,
             "#fdca26"
            ],
            [
             1,
             "#f0f921"
            ]
           ],
           "sequentialminus": [
            [
             0,
             "#0d0887"
            ],
            [
             0.1111111111111111,
             "#46039f"
            ],
            [
             0.2222222222222222,
             "#7201a8"
            ],
            [
             0.3333333333333333,
             "#9c179e"
            ],
            [
             0.4444444444444444,
             "#bd3786"
            ],
            [
             0.5555555555555556,
             "#d8576b"
            ],
            [
             0.6666666666666666,
             "#ed7953"
            ],
            [
             0.7777777777777778,
             "#fb9f3a"
            ],
            [
             0.8888888888888888,
             "#fdca26"
            ],
            [
             1,
             "#f0f921"
            ]
           ]
          },
          "colorway": [
           "#636efa",
           "#EF553B",
           "#00cc96",
           "#ab63fa",
           "#FFA15A",
           "#19d3f3",
           "#FF6692",
           "#B6E880",
           "#FF97FF",
           "#FECB52"
          ],
          "font": {
           "color": "#2a3f5f"
          },
          "geo": {
           "bgcolor": "white",
           "lakecolor": "white",
           "landcolor": "#E5ECF6",
           "showlakes": true,
           "showland": true,
           "subunitcolor": "white"
          },
          "hoverlabel": {
           "align": "left"
          },
          "hovermode": "closest",
          "mapbox": {
           "style": "light"
          },
          "paper_bgcolor": "white",
          "plot_bgcolor": "#E5ECF6",
          "polar": {
           "angularaxis": {
            "gridcolor": "white",
            "linecolor": "white",
            "ticks": ""
           },
           "bgcolor": "#E5ECF6",
           "radialaxis": {
            "gridcolor": "white",
            "linecolor": "white",
            "ticks": ""
           }
          },
          "scene": {
           "xaxis": {
            "backgroundcolor": "#E5ECF6",
            "gridcolor": "white",
            "gridwidth": 2,
            "linecolor": "white",
            "showbackground": true,
            "ticks": "",
            "zerolinecolor": "white"
           },
           "yaxis": {
            "backgroundcolor": "#E5ECF6",
            "gridcolor": "white",
            "gridwidth": 2,
            "linecolor": "white",
            "showbackground": true,
            "ticks": "",
            "zerolinecolor": "white"
           },
           "zaxis": {
            "backgroundcolor": "#E5ECF6",
            "gridcolor": "white",
            "gridwidth": 2,
            "linecolor": "white",
            "showbackground": true,
            "ticks": "",
            "zerolinecolor": "white"
           }
          },
          "shapedefaults": {
           "line": {
            "color": "#2a3f5f"
           }
          },
          "ternary": {
           "aaxis": {
            "gridcolor": "white",
            "linecolor": "white",
            "ticks": ""
           },
           "baxis": {
            "gridcolor": "white",
            "linecolor": "white",
            "ticks": ""
           },
           "bgcolor": "#E5ECF6",
           "caxis": {
            "gridcolor": "white",
            "linecolor": "white",
            "ticks": ""
           }
          },
          "title": {
           "x": 0.05
          },
          "xaxis": {
           "automargin": true,
           "gridcolor": "white",
           "linecolor": "white",
           "ticks": "",
           "title": {
            "standoff": 15
           },
           "zerolinecolor": "white",
           "zerolinewidth": 2
          },
          "yaxis": {
           "automargin": true,
           "gridcolor": "white",
           "linecolor": "white",
           "ticks": "",
           "title": {
            "standoff": 15
           },
           "zerolinecolor": "white",
           "zerolinewidth": 2
          }
         }
        },
        "title": {
         "text": "2001 Outages by Cause Category"
        },
        "xaxis": {
         "anchor": "y",
         "domain": [
          0,
          1
         ],
         "title": {
          "text": "CAUSE.CATEGORY"
         }
        },
        "yaxis": {
         "anchor": "x",
         "domain": [
          0,
          1
         ],
         "title": {
          "text": "OBS"
         }
        }
       }
      }
     },
     "metadata": {},
     "output_type": "display_data"
    }
   ],
   "source": [
    "two001 = formated_data[formated_data['YEAR'] == 2001]\n",
    "px.bar(two001.groupby('CAUSE.CATEGORY').count().reset_index(), x='CAUSE.CATEGORY', y='OBS', title='2001 Outages by Cause Category')"
   ]
  },
  {
   "cell_type": "markdown",
   "metadata": {},
   "source": [
    "Lots of system Operability disruptions - Likely this is wht the weather preportion is so low. We will check if there is more detailed informaiton for this category"
   ]
  },
  {
   "cell_type": "code",
   "execution_count": 18,
   "metadata": {},
   "outputs": [
    {
     "data": {
      "text/plain": [
       "0"
      ]
     },
     "execution_count": 18,
     "metadata": {},
     "output_type": "execute_result"
    }
   ],
   "source": [
    "# Check how many values for detailed categories exist\n",
    "two001_details = two001[two001['CAUSE.CATEGORY'] == 'system operability disruption']\n",
    "(~two001_details['CAUSE.CATEGORY.DETAIL'].isna()).sum()"
   ]
  },
  {
   "cell_type": "markdown",
   "metadata": {},
   "source": [
    "Unfortunately, none of the causes in this area seem to have detailed information, so there is no ability to identify why this might have been an issue"
   ]
  },
  {
   "cell_type": "markdown",
   "metadata": {},
   "source": [
    "Absolute number of outages occuring year over year"
   ]
  },
  {
   "cell_type": "code",
   "execution_count": 19,
   "metadata": {},
   "outputs": [
    {
     "data": {
      "application/vnd.plotly.v1+json": {
       "config": {
        "plotlyServerURL": "https://plot.ly"
       },
       "data": [
        {
         "hovertemplate": "YEAR=%{x}<br>OBS=%{y}<extra></extra>",
         "legendgroup": "",
         "marker": {
          "color": "#636efa",
          "symbol": "circle"
         },
         "mode": "markers",
         "name": "",
         "orientation": "v",
         "showlegend": false,
         "type": "scatter",
         "x": [
          2000,
          2001,
          2002,
          2003,
          2004,
          2005,
          2006,
          2007,
          2008,
          2009,
          2010,
          2011,
          2012,
          2013,
          2014,
          2015,
          2016
         ],
         "xaxis": "x",
         "y": [
          26,
          15,
          17,
          46,
          71,
          55,
          67,
          56,
          111,
          78,
          106,
          269,
          174,
          153,
          112,
          119,
          59
         ],
         "yaxis": "y"
        }
       ],
       "layout": {
        "legend": {
         "tracegroupgap": 0
        },
        "template": {
         "data": {
          "bar": [
           {
            "error_x": {
             "color": "#2a3f5f"
            },
            "error_y": {
             "color": "#2a3f5f"
            },
            "marker": {
             "line": {
              "color": "#E5ECF6",
              "width": 0.5
             },
             "pattern": {
              "fillmode": "overlay",
              "size": 10,
              "solidity": 0.2
             }
            },
            "type": "bar"
           }
          ],
          "barpolar": [
           {
            "marker": {
             "line": {
              "color": "#E5ECF6",
              "width": 0.5
             },
             "pattern": {
              "fillmode": "overlay",
              "size": 10,
              "solidity": 0.2
             }
            },
            "type": "barpolar"
           }
          ],
          "carpet": [
           {
            "aaxis": {
             "endlinecolor": "#2a3f5f",
             "gridcolor": "white",
             "linecolor": "white",
             "minorgridcolor": "white",
             "startlinecolor": "#2a3f5f"
            },
            "baxis": {
             "endlinecolor": "#2a3f5f",
             "gridcolor": "white",
             "linecolor": "white",
             "minorgridcolor": "white",
             "startlinecolor": "#2a3f5f"
            },
            "type": "carpet"
           }
          ],
          "choropleth": [
           {
            "colorbar": {
             "outlinewidth": 0,
             "ticks": ""
            },
            "type": "choropleth"
           }
          ],
          "contour": [
           {
            "colorbar": {
             "outlinewidth": 0,
             "ticks": ""
            },
            "colorscale": [
             [
              0,
              "#0d0887"
             ],
             [
              0.1111111111111111,
              "#46039f"
             ],
             [
              0.2222222222222222,
              "#7201a8"
             ],
             [
              0.3333333333333333,
              "#9c179e"
             ],
             [
              0.4444444444444444,
              "#bd3786"
             ],
             [
              0.5555555555555556,
              "#d8576b"
             ],
             [
              0.6666666666666666,
              "#ed7953"
             ],
             [
              0.7777777777777778,
              "#fb9f3a"
             ],
             [
              0.8888888888888888,
              "#fdca26"
             ],
             [
              1,
              "#f0f921"
             ]
            ],
            "type": "contour"
           }
          ],
          "contourcarpet": [
           {
            "colorbar": {
             "outlinewidth": 0,
             "ticks": ""
            },
            "type": "contourcarpet"
           }
          ],
          "heatmap": [
           {
            "colorbar": {
             "outlinewidth": 0,
             "ticks": ""
            },
            "colorscale": [
             [
              0,
              "#0d0887"
             ],
             [
              0.1111111111111111,
              "#46039f"
             ],
             [
              0.2222222222222222,
              "#7201a8"
             ],
             [
              0.3333333333333333,
              "#9c179e"
             ],
             [
              0.4444444444444444,
              "#bd3786"
             ],
             [
              0.5555555555555556,
              "#d8576b"
             ],
             [
              0.6666666666666666,
              "#ed7953"
             ],
             [
              0.7777777777777778,
              "#fb9f3a"
             ],
             [
              0.8888888888888888,
              "#fdca26"
             ],
             [
              1,
              "#f0f921"
             ]
            ],
            "type": "heatmap"
           }
          ],
          "heatmapgl": [
           {
            "colorbar": {
             "outlinewidth": 0,
             "ticks": ""
            },
            "colorscale": [
             [
              0,
              "#0d0887"
             ],
             [
              0.1111111111111111,
              "#46039f"
             ],
             [
              0.2222222222222222,
              "#7201a8"
             ],
             [
              0.3333333333333333,
              "#9c179e"
             ],
             [
              0.4444444444444444,
              "#bd3786"
             ],
             [
              0.5555555555555556,
              "#d8576b"
             ],
             [
              0.6666666666666666,
              "#ed7953"
             ],
             [
              0.7777777777777778,
              "#fb9f3a"
             ],
             [
              0.8888888888888888,
              "#fdca26"
             ],
             [
              1,
              "#f0f921"
             ]
            ],
            "type": "heatmapgl"
           }
          ],
          "histogram": [
           {
            "marker": {
             "pattern": {
              "fillmode": "overlay",
              "size": 10,
              "solidity": 0.2
             }
            },
            "type": "histogram"
           }
          ],
          "histogram2d": [
           {
            "colorbar": {
             "outlinewidth": 0,
             "ticks": ""
            },
            "colorscale": [
             [
              0,
              "#0d0887"
             ],
             [
              0.1111111111111111,
              "#46039f"
             ],
             [
              0.2222222222222222,
              "#7201a8"
             ],
             [
              0.3333333333333333,
              "#9c179e"
             ],
             [
              0.4444444444444444,
              "#bd3786"
             ],
             [
              0.5555555555555556,
              "#d8576b"
             ],
             [
              0.6666666666666666,
              "#ed7953"
             ],
             [
              0.7777777777777778,
              "#fb9f3a"
             ],
             [
              0.8888888888888888,
              "#fdca26"
             ],
             [
              1,
              "#f0f921"
             ]
            ],
            "type": "histogram2d"
           }
          ],
          "histogram2dcontour": [
           {
            "colorbar": {
             "outlinewidth": 0,
             "ticks": ""
            },
            "colorscale": [
             [
              0,
              "#0d0887"
             ],
             [
              0.1111111111111111,
              "#46039f"
             ],
             [
              0.2222222222222222,
              "#7201a8"
             ],
             [
              0.3333333333333333,
              "#9c179e"
             ],
             [
              0.4444444444444444,
              "#bd3786"
             ],
             [
              0.5555555555555556,
              "#d8576b"
             ],
             [
              0.6666666666666666,
              "#ed7953"
             ],
             [
              0.7777777777777778,
              "#fb9f3a"
             ],
             [
              0.8888888888888888,
              "#fdca26"
             ],
             [
              1,
              "#f0f921"
             ]
            ],
            "type": "histogram2dcontour"
           }
          ],
          "mesh3d": [
           {
            "colorbar": {
             "outlinewidth": 0,
             "ticks": ""
            },
            "type": "mesh3d"
           }
          ],
          "parcoords": [
           {
            "line": {
             "colorbar": {
              "outlinewidth": 0,
              "ticks": ""
             }
            },
            "type": "parcoords"
           }
          ],
          "pie": [
           {
            "automargin": true,
            "type": "pie"
           }
          ],
          "scatter": [
           {
            "fillpattern": {
             "fillmode": "overlay",
             "size": 10,
             "solidity": 0.2
            },
            "type": "scatter"
           }
          ],
          "scatter3d": [
           {
            "line": {
             "colorbar": {
              "outlinewidth": 0,
              "ticks": ""
             }
            },
            "marker": {
             "colorbar": {
              "outlinewidth": 0,
              "ticks": ""
             }
            },
            "type": "scatter3d"
           }
          ],
          "scattercarpet": [
           {
            "marker": {
             "colorbar": {
              "outlinewidth": 0,
              "ticks": ""
             }
            },
            "type": "scattercarpet"
           }
          ],
          "scattergeo": [
           {
            "marker": {
             "colorbar": {
              "outlinewidth": 0,
              "ticks": ""
             }
            },
            "type": "scattergeo"
           }
          ],
          "scattergl": [
           {
            "marker": {
             "colorbar": {
              "outlinewidth": 0,
              "ticks": ""
             }
            },
            "type": "scattergl"
           }
          ],
          "scattermapbox": [
           {
            "marker": {
             "colorbar": {
              "outlinewidth": 0,
              "ticks": ""
             }
            },
            "type": "scattermapbox"
           }
          ],
          "scatterpolar": [
           {
            "marker": {
             "colorbar": {
              "outlinewidth": 0,
              "ticks": ""
             }
            },
            "type": "scatterpolar"
           }
          ],
          "scatterpolargl": [
           {
            "marker": {
             "colorbar": {
              "outlinewidth": 0,
              "ticks": ""
             }
            },
            "type": "scatterpolargl"
           }
          ],
          "scatterternary": [
           {
            "marker": {
             "colorbar": {
              "outlinewidth": 0,
              "ticks": ""
             }
            },
            "type": "scatterternary"
           }
          ],
          "surface": [
           {
            "colorbar": {
             "outlinewidth": 0,
             "ticks": ""
            },
            "colorscale": [
             [
              0,
              "#0d0887"
             ],
             [
              0.1111111111111111,
              "#46039f"
             ],
             [
              0.2222222222222222,
              "#7201a8"
             ],
             [
              0.3333333333333333,
              "#9c179e"
             ],
             [
              0.4444444444444444,
              "#bd3786"
             ],
             [
              0.5555555555555556,
              "#d8576b"
             ],
             [
              0.6666666666666666,
              "#ed7953"
             ],
             [
              0.7777777777777778,
              "#fb9f3a"
             ],
             [
              0.8888888888888888,
              "#fdca26"
             ],
             [
              1,
              "#f0f921"
             ]
            ],
            "type": "surface"
           }
          ],
          "table": [
           {
            "cells": {
             "fill": {
              "color": "#EBF0F8"
             },
             "line": {
              "color": "white"
             }
            },
            "header": {
             "fill": {
              "color": "#C8D4E3"
             },
             "line": {
              "color": "white"
             }
            },
            "type": "table"
           }
          ]
         },
         "layout": {
          "annotationdefaults": {
           "arrowcolor": "#2a3f5f",
           "arrowhead": 0,
           "arrowwidth": 1
          },
          "autotypenumbers": "strict",
          "coloraxis": {
           "colorbar": {
            "outlinewidth": 0,
            "ticks": ""
           }
          },
          "colorscale": {
           "diverging": [
            [
             0,
             "#8e0152"
            ],
            [
             0.1,
             "#c51b7d"
            ],
            [
             0.2,
             "#de77ae"
            ],
            [
             0.3,
             "#f1b6da"
            ],
            [
             0.4,
             "#fde0ef"
            ],
            [
             0.5,
             "#f7f7f7"
            ],
            [
             0.6,
             "#e6f5d0"
            ],
            [
             0.7,
             "#b8e186"
            ],
            [
             0.8,
             "#7fbc41"
            ],
            [
             0.9,
             "#4d9221"
            ],
            [
             1,
             "#276419"
            ]
           ],
           "sequential": [
            [
             0,
             "#0d0887"
            ],
            [
             0.1111111111111111,
             "#46039f"
            ],
            [
             0.2222222222222222,
             "#7201a8"
            ],
            [
             0.3333333333333333,
             "#9c179e"
            ],
            [
             0.4444444444444444,
             "#bd3786"
            ],
            [
             0.5555555555555556,
             "#d8576b"
            ],
            [
             0.6666666666666666,
             "#ed7953"
            ],
            [
             0.7777777777777778,
             "#fb9f3a"
            ],
            [
             0.8888888888888888,
             "#fdca26"
            ],
            [
             1,
             "#f0f921"
            ]
           ],
           "sequentialminus": [
            [
             0,
             "#0d0887"
            ],
            [
             0.1111111111111111,
             "#46039f"
            ],
            [
             0.2222222222222222,
             "#7201a8"
            ],
            [
             0.3333333333333333,
             "#9c179e"
            ],
            [
             0.4444444444444444,
             "#bd3786"
            ],
            [
             0.5555555555555556,
             "#d8576b"
            ],
            [
             0.6666666666666666,
             "#ed7953"
            ],
            [
             0.7777777777777778,
             "#fb9f3a"
            ],
            [
             0.8888888888888888,
             "#fdca26"
            ],
            [
             1,
             "#f0f921"
            ]
           ]
          },
          "colorway": [
           "#636efa",
           "#EF553B",
           "#00cc96",
           "#ab63fa",
           "#FFA15A",
           "#19d3f3",
           "#FF6692",
           "#B6E880",
           "#FF97FF",
           "#FECB52"
          ],
          "font": {
           "color": "#2a3f5f"
          },
          "geo": {
           "bgcolor": "white",
           "lakecolor": "white",
           "landcolor": "#E5ECF6",
           "showlakes": true,
           "showland": true,
           "subunitcolor": "white"
          },
          "hoverlabel": {
           "align": "left"
          },
          "hovermode": "closest",
          "mapbox": {
           "style": "light"
          },
          "paper_bgcolor": "white",
          "plot_bgcolor": "#E5ECF6",
          "polar": {
           "angularaxis": {
            "gridcolor": "white",
            "linecolor": "white",
            "ticks": ""
           },
           "bgcolor": "#E5ECF6",
           "radialaxis": {
            "gridcolor": "white",
            "linecolor": "white",
            "ticks": ""
           }
          },
          "scene": {
           "xaxis": {
            "backgroundcolor": "#E5ECF6",
            "gridcolor": "white",
            "gridwidth": 2,
            "linecolor": "white",
            "showbackground": true,
            "ticks": "",
            "zerolinecolor": "white"
           },
           "yaxis": {
            "backgroundcolor": "#E5ECF6",
            "gridcolor": "white",
            "gridwidth": 2,
            "linecolor": "white",
            "showbackground": true,
            "ticks": "",
            "zerolinecolor": "white"
           },
           "zaxis": {
            "backgroundcolor": "#E5ECF6",
            "gridcolor": "white",
            "gridwidth": 2,
            "linecolor": "white",
            "showbackground": true,
            "ticks": "",
            "zerolinecolor": "white"
           }
          },
          "shapedefaults": {
           "line": {
            "color": "#2a3f5f"
           }
          },
          "ternary": {
           "aaxis": {
            "gridcolor": "white",
            "linecolor": "white",
            "ticks": ""
           },
           "baxis": {
            "gridcolor": "white",
            "linecolor": "white",
            "ticks": ""
           },
           "bgcolor": "#E5ECF6",
           "caxis": {
            "gridcolor": "white",
            "linecolor": "white",
            "ticks": ""
           }
          },
          "title": {
           "x": 0.05
          },
          "xaxis": {
           "automargin": true,
           "gridcolor": "white",
           "linecolor": "white",
           "ticks": "",
           "title": {
            "standoff": 15
           },
           "zerolinecolor": "white",
           "zerolinewidth": 2
          },
          "yaxis": {
           "automargin": true,
           "gridcolor": "white",
           "linecolor": "white",
           "ticks": "",
           "title": {
            "standoff": 15
           },
           "zerolinecolor": "white",
           "zerolinewidth": 2
          }
         }
        },
        "title": {
         "text": "Yearly Outages"
        },
        "xaxis": {
         "anchor": "y",
         "domain": [
          0,
          1
         ],
         "title": {
          "text": "YEAR"
         }
        },
        "yaxis": {
         "anchor": "x",
         "domain": [
          0,
          1
         ],
         "title": {
          "text": "OBS"
         }
        }
       }
      }
     },
     "metadata": {},
     "output_type": "display_data"
    }
   ],
   "source": [
    "# Look at yearly outages\n",
    "yearly = formated_data.groupby('YEAR').count().reset_index()\n",
    "px.scatter(yearly, x='YEAR', y='OBS', title='Yearly Outages')"
   ]
  },
  {
   "cell_type": "markdown",
   "metadata": {},
   "source": [
    "There seem to be some clustering of shorter outage durations"
   ]
  },
  {
   "cell_type": "code",
   "execution_count": 20,
   "metadata": {},
   "outputs": [
    {
     "name": "stderr",
     "output_type": "stream",
     "text": [
      "/var/folders/v7/nxggzv_j5s936v9rvl85gh2w0000gn/T/ipykernel_4381/421583513.py:3: SettingWithCopyWarning:\n",
      "\n",
      "\n",
      "A value is trying to be set on a copy of a slice from a DataFrame.\n",
      "Try using .loc[row_indexer,col_indexer] = value instead\n",
      "\n",
      "See the caveats in the documentation: https://pandas.pydata.org/pandas-docs/stable/user_guide/indexing.html#returning-a-view-versus-a-copy\n",
      "\n"
     ]
    },
    {
     "data": {
      "application/vnd.plotly.v1+json": {
       "config": {
        "plotlyServerURL": "https://plot.ly"
       },
       "data": [
        {
         "alignmentgroup": "True",
         "hovertemplate": "OUTAGE.DURATION=%{x}<br>OBS=%{y}<extra></extra>",
         "legendgroup": "",
         "marker": {
          "color": "#636efa",
          "pattern": {
           "shape": ""
          }
         },
         "name": "",
         "offsetgroup": "",
         "orientation": "v",
         "showlegend": false,
         "textposition": "auto",
         "type": "bar",
         "x": [
          "(-0.049, 0.49]",
          "(0.49, 0.98]",
          "(0.98, 1.47]",
          "(1.47, 1.96]",
          "(1.96, 2.45]",
          "(2.45, 2.94]",
          "(2.94, 3.43]",
          "(3.43, 3.92]",
          "(3.92, 4.41]",
          "(4.41, 4.9]",
          "(4.9, 5.39]",
          "(5.39, 5.88]",
          "(5.88, 6.37]",
          "(6.37, 6.86]",
          "(6.86, 7.35]",
          "(7.35, 7.84]",
          "(7.84, 8.33]",
          "(8.33, 8.82]",
          "(8.82, 9.31]",
          "(9.31, 9.8]",
          "(9.8, 10.29]",
          "(10.29, 10.78]",
          "(10.78, 11.27]",
          "(11.27, 11.76]",
          "(11.76, 12.25]",
          "(12.25, 12.74]",
          "(12.74, 13.23]",
          "(13.23, 13.72]",
          "(13.72, 14.21]",
          "(14.21, 14.7]",
          "(14.7, 15.19]",
          "(15.19, 15.68]",
          "(15.68, 16.17]",
          "(16.17, 16.66]",
          "(16.66, 17.15]",
          "(17.15, 17.64]",
          "(17.64, 18.13]",
          "(18.13, 18.62]",
          "(18.62, 19.11]",
          "(19.11, 19.6]",
          "(19.6, 20.09]",
          "(20.09, 20.58]",
          "(20.58, 21.07]",
          "(21.07, 21.56]",
          "(21.56, 22.05]",
          "(22.05, 22.54]",
          "(22.54, 23.03]",
          "(23.03, 23.52]",
          "(23.52, 24.01]",
          "(24.01, 24.5]",
          "(24.5, 24.99]",
          "(24.99, 25.48]",
          "(25.48, 25.97]",
          "(25.97, 26.46]",
          "(26.46, 26.95]",
          "(26.95, 27.44]",
          "(27.44, 27.93]",
          "(27.93, 28.42]",
          "(28.42, 28.91]",
          "(28.91, 29.4]",
          "(29.4, 29.89]",
          "(29.89, 30.38]",
          "(30.38, 30.87]",
          "(30.87, 31.36]",
          "(31.36, 31.85]",
          "(31.85, 32.34]",
          "(32.34, 32.83]",
          "(32.83, 33.32]",
          "(33.32, 33.81]",
          "(33.81, 34.3]",
          "(34.3, 34.79]",
          "(34.79, 35.28]",
          "(35.28, 35.77]",
          "(35.77, 36.26]",
          "(36.26, 36.75]",
          "(36.75, 37.24]",
          "(37.24, 37.73]",
          "(37.73, 38.22]",
          "(38.22, 38.71]",
          "(38.71, 39.2]",
          "(39.2, 39.69]",
          "(39.69, 40.18]",
          "(40.18, 40.67]",
          "(40.67, 41.16]",
          "(41.16, 41.65]",
          "(41.65, 42.14]",
          "(42.14, 42.63]",
          "(42.63, 43.12]",
          "(43.12, 43.61]",
          "(43.61, 44.1]",
          "(44.1, 44.59]",
          "(44.59, 45.08]",
          "(45.08, 45.57]",
          "(45.57, 46.06]",
          "(46.06, 46.55]",
          "(46.55, 47.04]",
          "(47.04, 47.53]",
          "(47.53, 48.02]",
          "(48.02, 48.51]",
          "(48.51, 49.0]"
         ],
         "xaxis": "x",
         "y": [
          78,
          0,
          97,
          0,
          6,
          0,
          3,
          0,
          2,
          0,
          9,
          0,
          1,
          0,
          2,
          0,
          1,
          0,
          0,
          0,
          2,
          0,
          2,
          0,
          1,
          0,
          4,
          0,
          1,
          0,
          9,
          0,
          0,
          0,
          3,
          0,
          0,
          0,
          2,
          0,
          3,
          0,
          6,
          0,
          0,
          0,
          0,
          0,
          0,
          0,
          0,
          4,
          0,
          2,
          0,
          1,
          0,
          1,
          0,
          0,
          0,
          8,
          0,
          2,
          0,
          4,
          0,
          2,
          0,
          0,
          0,
          2,
          0,
          0,
          0,
          1,
          0,
          1,
          0,
          3,
          0,
          1,
          0,
          0,
          0,
          1,
          0,
          0,
          0,
          3,
          0,
          2,
          0,
          1,
          0,
          4,
          0,
          1,
          0,
          1
         ],
         "yaxis": "y"
        }
       ],
       "layout": {
        "barmode": "relative",
        "legend": {
         "tracegroupgap": 0
        },
        "margin": {
         "t": 60
        },
        "template": {
         "data": {
          "bar": [
           {
            "error_x": {
             "color": "#2a3f5f"
            },
            "error_y": {
             "color": "#2a3f5f"
            },
            "marker": {
             "line": {
              "color": "#E5ECF6",
              "width": 0.5
             },
             "pattern": {
              "fillmode": "overlay",
              "size": 10,
              "solidity": 0.2
             }
            },
            "type": "bar"
           }
          ],
          "barpolar": [
           {
            "marker": {
             "line": {
              "color": "#E5ECF6",
              "width": 0.5
             },
             "pattern": {
              "fillmode": "overlay",
              "size": 10,
              "solidity": 0.2
             }
            },
            "type": "barpolar"
           }
          ],
          "carpet": [
           {
            "aaxis": {
             "endlinecolor": "#2a3f5f",
             "gridcolor": "white",
             "linecolor": "white",
             "minorgridcolor": "white",
             "startlinecolor": "#2a3f5f"
            },
            "baxis": {
             "endlinecolor": "#2a3f5f",
             "gridcolor": "white",
             "linecolor": "white",
             "minorgridcolor": "white",
             "startlinecolor": "#2a3f5f"
            },
            "type": "carpet"
           }
          ],
          "choropleth": [
           {
            "colorbar": {
             "outlinewidth": 0,
             "ticks": ""
            },
            "type": "choropleth"
           }
          ],
          "contour": [
           {
            "colorbar": {
             "outlinewidth": 0,
             "ticks": ""
            },
            "colorscale": [
             [
              0,
              "#0d0887"
             ],
             [
              0.1111111111111111,
              "#46039f"
             ],
             [
              0.2222222222222222,
              "#7201a8"
             ],
             [
              0.3333333333333333,
              "#9c179e"
             ],
             [
              0.4444444444444444,
              "#bd3786"
             ],
             [
              0.5555555555555556,
              "#d8576b"
             ],
             [
              0.6666666666666666,
              "#ed7953"
             ],
             [
              0.7777777777777778,
              "#fb9f3a"
             ],
             [
              0.8888888888888888,
              "#fdca26"
             ],
             [
              1,
              "#f0f921"
             ]
            ],
            "type": "contour"
           }
          ],
          "contourcarpet": [
           {
            "colorbar": {
             "outlinewidth": 0,
             "ticks": ""
            },
            "type": "contourcarpet"
           }
          ],
          "heatmap": [
           {
            "colorbar": {
             "outlinewidth": 0,
             "ticks": ""
            },
            "colorscale": [
             [
              0,
              "#0d0887"
             ],
             [
              0.1111111111111111,
              "#46039f"
             ],
             [
              0.2222222222222222,
              "#7201a8"
             ],
             [
              0.3333333333333333,
              "#9c179e"
             ],
             [
              0.4444444444444444,
              "#bd3786"
             ],
             [
              0.5555555555555556,
              "#d8576b"
             ],
             [
              0.6666666666666666,
              "#ed7953"
             ],
             [
              0.7777777777777778,
              "#fb9f3a"
             ],
             [
              0.8888888888888888,
              "#fdca26"
             ],
             [
              1,
              "#f0f921"
             ]
            ],
            "type": "heatmap"
           }
          ],
          "heatmapgl": [
           {
            "colorbar": {
             "outlinewidth": 0,
             "ticks": ""
            },
            "colorscale": [
             [
              0,
              "#0d0887"
             ],
             [
              0.1111111111111111,
              "#46039f"
             ],
             [
              0.2222222222222222,
              "#7201a8"
             ],
             [
              0.3333333333333333,
              "#9c179e"
             ],
             [
              0.4444444444444444,
              "#bd3786"
             ],
             [
              0.5555555555555556,
              "#d8576b"
             ],
             [
              0.6666666666666666,
              "#ed7953"
             ],
             [
              0.7777777777777778,
              "#fb9f3a"
             ],
             [
              0.8888888888888888,
              "#fdca26"
             ],
             [
              1,
              "#f0f921"
             ]
            ],
            "type": "heatmapgl"
           }
          ],
          "histogram": [
           {
            "marker": {
             "pattern": {
              "fillmode": "overlay",
              "size": 10,
              "solidity": 0.2
             }
            },
            "type": "histogram"
           }
          ],
          "histogram2d": [
           {
            "colorbar": {
             "outlinewidth": 0,
             "ticks": ""
            },
            "colorscale": [
             [
              0,
              "#0d0887"
             ],
             [
              0.1111111111111111,
              "#46039f"
             ],
             [
              0.2222222222222222,
              "#7201a8"
             ],
             [
              0.3333333333333333,
              "#9c179e"
             ],
             [
              0.4444444444444444,
              "#bd3786"
             ],
             [
              0.5555555555555556,
              "#d8576b"
             ],
             [
              0.6666666666666666,
              "#ed7953"
             ],
             [
              0.7777777777777778,
              "#fb9f3a"
             ],
             [
              0.8888888888888888,
              "#fdca26"
             ],
             [
              1,
              "#f0f921"
             ]
            ],
            "type": "histogram2d"
           }
          ],
          "histogram2dcontour": [
           {
            "colorbar": {
             "outlinewidth": 0,
             "ticks": ""
            },
            "colorscale": [
             [
              0,
              "#0d0887"
             ],
             [
              0.1111111111111111,
              "#46039f"
             ],
             [
              0.2222222222222222,
              "#7201a8"
             ],
             [
              0.3333333333333333,
              "#9c179e"
             ],
             [
              0.4444444444444444,
              "#bd3786"
             ],
             [
              0.5555555555555556,
              "#d8576b"
             ],
             [
              0.6666666666666666,
              "#ed7953"
             ],
             [
              0.7777777777777778,
              "#fb9f3a"
             ],
             [
              0.8888888888888888,
              "#fdca26"
             ],
             [
              1,
              "#f0f921"
             ]
            ],
            "type": "histogram2dcontour"
           }
          ],
          "mesh3d": [
           {
            "colorbar": {
             "outlinewidth": 0,
             "ticks": ""
            },
            "type": "mesh3d"
           }
          ],
          "parcoords": [
           {
            "line": {
             "colorbar": {
              "outlinewidth": 0,
              "ticks": ""
             }
            },
            "type": "parcoords"
           }
          ],
          "pie": [
           {
            "automargin": true,
            "type": "pie"
           }
          ],
          "scatter": [
           {
            "fillpattern": {
             "fillmode": "overlay",
             "size": 10,
             "solidity": 0.2
            },
            "type": "scatter"
           }
          ],
          "scatter3d": [
           {
            "line": {
             "colorbar": {
              "outlinewidth": 0,
              "ticks": ""
             }
            },
            "marker": {
             "colorbar": {
              "outlinewidth": 0,
              "ticks": ""
             }
            },
            "type": "scatter3d"
           }
          ],
          "scattercarpet": [
           {
            "marker": {
             "colorbar": {
              "outlinewidth": 0,
              "ticks": ""
             }
            },
            "type": "scattercarpet"
           }
          ],
          "scattergeo": [
           {
            "marker": {
             "colorbar": {
              "outlinewidth": 0,
              "ticks": ""
             }
            },
            "type": "scattergeo"
           }
          ],
          "scattergl": [
           {
            "marker": {
             "colorbar": {
              "outlinewidth": 0,
              "ticks": ""
             }
            },
            "type": "scattergl"
           }
          ],
          "scattermapbox": [
           {
            "marker": {
             "colorbar": {
              "outlinewidth": 0,
              "ticks": ""
             }
            },
            "type": "scattermapbox"
           }
          ],
          "scatterpolar": [
           {
            "marker": {
             "colorbar": {
              "outlinewidth": 0,
              "ticks": ""
             }
            },
            "type": "scatterpolar"
           }
          ],
          "scatterpolargl": [
           {
            "marker": {
             "colorbar": {
              "outlinewidth": 0,
              "ticks": ""
             }
            },
            "type": "scatterpolargl"
           }
          ],
          "scatterternary": [
           {
            "marker": {
             "colorbar": {
              "outlinewidth": 0,
              "ticks": ""
             }
            },
            "type": "scatterternary"
           }
          ],
          "surface": [
           {
            "colorbar": {
             "outlinewidth": 0,
             "ticks": ""
            },
            "colorscale": [
             [
              0,
              "#0d0887"
             ],
             [
              0.1111111111111111,
              "#46039f"
             ],
             [
              0.2222222222222222,
              "#7201a8"
             ],
             [
              0.3333333333333333,
              "#9c179e"
             ],
             [
              0.4444444444444444,
              "#bd3786"
             ],
             [
              0.5555555555555556,
              "#d8576b"
             ],
             [
              0.6666666666666666,
              "#ed7953"
             ],
             [
              0.7777777777777778,
              "#fb9f3a"
             ],
             [
              0.8888888888888888,
              "#fdca26"
             ],
             [
              1,
              "#f0f921"
             ]
            ],
            "type": "surface"
           }
          ],
          "table": [
           {
            "cells": {
             "fill": {
              "color": "#EBF0F8"
             },
             "line": {
              "color": "white"
             }
            },
            "header": {
             "fill": {
              "color": "#C8D4E3"
             },
             "line": {
              "color": "white"
             }
            },
            "type": "table"
           }
          ]
         },
         "layout": {
          "annotationdefaults": {
           "arrowcolor": "#2a3f5f",
           "arrowhead": 0,
           "arrowwidth": 1
          },
          "autotypenumbers": "strict",
          "coloraxis": {
           "colorbar": {
            "outlinewidth": 0,
            "ticks": ""
           }
          },
          "colorscale": {
           "diverging": [
            [
             0,
             "#8e0152"
            ],
            [
             0.1,
             "#c51b7d"
            ],
            [
             0.2,
             "#de77ae"
            ],
            [
             0.3,
             "#f1b6da"
            ],
            [
             0.4,
             "#fde0ef"
            ],
            [
             0.5,
             "#f7f7f7"
            ],
            [
             0.6,
             "#e6f5d0"
            ],
            [
             0.7,
             "#b8e186"
            ],
            [
             0.8,
             "#7fbc41"
            ],
            [
             0.9,
             "#4d9221"
            ],
            [
             1,
             "#276419"
            ]
           ],
           "sequential": [
            [
             0,
             "#0d0887"
            ],
            [
             0.1111111111111111,
             "#46039f"
            ],
            [
             0.2222222222222222,
             "#7201a8"
            ],
            [
             0.3333333333333333,
             "#9c179e"
            ],
            [
             0.4444444444444444,
             "#bd3786"
            ],
            [
             0.5555555555555556,
             "#d8576b"
            ],
            [
             0.6666666666666666,
             "#ed7953"
            ],
            [
             0.7777777777777778,
             "#fb9f3a"
            ],
            [
             0.8888888888888888,
             "#fdca26"
            ],
            [
             1,
             "#f0f921"
            ]
           ],
           "sequentialminus": [
            [
             0,
             "#0d0887"
            ],
            [
             0.1111111111111111,
             "#46039f"
            ],
            [
             0.2222222222222222,
             "#7201a8"
            ],
            [
             0.3333333333333333,
             "#9c179e"
            ],
            [
             0.4444444444444444,
             "#bd3786"
            ],
            [
             0.5555555555555556,
             "#d8576b"
            ],
            [
             0.6666666666666666,
             "#ed7953"
            ],
            [
             0.7777777777777778,
             "#fb9f3a"
            ],
            [
             0.8888888888888888,
             "#fdca26"
            ],
            [
             1,
             "#f0f921"
            ]
           ]
          },
          "colorway": [
           "#636efa",
           "#EF553B",
           "#00cc96",
           "#ab63fa",
           "#FFA15A",
           "#19d3f3",
           "#FF6692",
           "#B6E880",
           "#FF97FF",
           "#FECB52"
          ],
          "font": {
           "color": "#2a3f5f"
          },
          "geo": {
           "bgcolor": "white",
           "lakecolor": "white",
           "landcolor": "#E5ECF6",
           "showlakes": true,
           "showland": true,
           "subunitcolor": "white"
          },
          "hoverlabel": {
           "align": "left"
          },
          "hovermode": "closest",
          "mapbox": {
           "style": "light"
          },
          "paper_bgcolor": "white",
          "plot_bgcolor": "#E5ECF6",
          "polar": {
           "angularaxis": {
            "gridcolor": "white",
            "linecolor": "white",
            "ticks": ""
           },
           "bgcolor": "#E5ECF6",
           "radialaxis": {
            "gridcolor": "white",
            "linecolor": "white",
            "ticks": ""
           }
          },
          "scene": {
           "xaxis": {
            "backgroundcolor": "#E5ECF6",
            "gridcolor": "white",
            "gridwidth": 2,
            "linecolor": "white",
            "showbackground": true,
            "ticks": "",
            "zerolinecolor": "white"
           },
           "yaxis": {
            "backgroundcolor": "#E5ECF6",
            "gridcolor": "white",
            "gridwidth": 2,
            "linecolor": "white",
            "showbackground": true,
            "ticks": "",
            "zerolinecolor": "white"
           },
           "zaxis": {
            "backgroundcolor": "#E5ECF6",
            "gridcolor": "white",
            "gridwidth": 2,
            "linecolor": "white",
            "showbackground": true,
            "ticks": "",
            "zerolinecolor": "white"
           }
          },
          "shapedefaults": {
           "line": {
            "color": "#2a3f5f"
           }
          },
          "ternary": {
           "aaxis": {
            "gridcolor": "white",
            "linecolor": "white",
            "ticks": ""
           },
           "baxis": {
            "gridcolor": "white",
            "linecolor": "white",
            "ticks": ""
           },
           "bgcolor": "#E5ECF6",
           "caxis": {
            "gridcolor": "white",
            "linecolor": "white",
            "ticks": ""
           }
          },
          "title": {
           "x": 0.05
          },
          "xaxis": {
           "automargin": true,
           "gridcolor": "white",
           "linecolor": "white",
           "ticks": "",
           "title": {
            "standoff": 15
           },
           "zerolinecolor": "white",
           "zerolinewidth": 2
          },
          "yaxis": {
           "automargin": true,
           "gridcolor": "white",
           "linecolor": "white",
           "ticks": "",
           "title": {
            "standoff": 15
           },
           "zerolinecolor": "white",
           "zerolinewidth": 2
          }
         }
        },
        "xaxis": {
         "anchor": "y",
         "domain": [
          0,
          1
         ],
         "title": {
          "text": "OUTAGE.DURATION"
         }
        },
        "yaxis": {
         "anchor": "x",
         "domain": [
          0,
          1
         ],
         "title": {
          "text": "OBS"
         }
        }
       }
      }
     },
     "metadata": {},
     "output_type": "display_data"
    }
   ],
   "source": [
    "# Get all of the short outages and make a histogram of them to see the distribution\n",
    "filtered = formated_data[formated_data['OUTAGE.DURATION'] < 50]\n",
    "filtered['OUTAGE.DURATION'] = pd.cut(filtered['OUTAGE.DURATION'].dropna().astype(int), 100)\n",
    "filtered = filtered.groupby('OUTAGE.DURATION').count().reset_index()\n",
    "filtered['OUTAGE.DURATION'] = filtered['OUTAGE.DURATION'].astype(str)\n",
    "px.bar(filtered, x='OUTAGE.DURATION', y='OBS')"
   ]
  },
  {
   "cell_type": "markdown",
   "metadata": {},
   "source": [
    "Lots of these values seem to be 1 or 0. Look at all of these and see what they have in common"
   ]
  },
  {
   "cell_type": "code",
   "execution_count": 21,
   "metadata": {},
   "outputs": [
    {
     "data": {
      "text/html": [
       "<div>\n",
       "<style scoped>\n",
       "    .dataframe tbody tr th:only-of-type {\n",
       "        vertical-align: middle;\n",
       "    }\n",
       "\n",
       "    .dataframe tbody tr th {\n",
       "        vertical-align: top;\n",
       "    }\n",
       "\n",
       "    .dataframe thead th {\n",
       "        text-align: right;\n",
       "    }\n",
       "</style>\n",
       "<table border=\"1\" class=\"dataframe\">\n",
       "  <thead>\n",
       "    <tr style=\"text-align: right;\">\n",
       "      <th>ANOMALY.LEVEL</th>\n",
       "      <th>-1.3</th>\n",
       "      <th>-1.1</th>\n",
       "      <th>-1.0</th>\n",
       "      <th>-0.9</th>\n",
       "      <th>-0.8</th>\n",
       "      <th>-0.7</th>\n",
       "      <th>-0.6</th>\n",
       "      <th>-0.5</th>\n",
       "      <th>-0.4</th>\n",
       "      <th>-0.3</th>\n",
       "      <th>-0.1</th>\n",
       "      <th>0.1</th>\n",
       "      <th>0.3</th>\n",
       "      <th>0.6</th>\n",
       "      <th>0.8</th>\n",
       "      <th>1.6</th>\n",
       "      <th>2.3</th>\n",
       "    </tr>\n",
       "    <tr>\n",
       "      <th>OUTAGE.DURATION</th>\n",
       "      <th></th>\n",
       "      <th></th>\n",
       "      <th></th>\n",
       "      <th></th>\n",
       "      <th></th>\n",
       "      <th></th>\n",
       "      <th></th>\n",
       "      <th></th>\n",
       "      <th></th>\n",
       "      <th></th>\n",
       "      <th></th>\n",
       "      <th></th>\n",
       "      <th></th>\n",
       "      <th></th>\n",
       "      <th></th>\n",
       "      <th></th>\n",
       "      <th></th>\n",
       "    </tr>\n",
       "  </thead>\n",
       "  <tbody>\n",
       "    <tr>\n",
       "      <th>0.0</th>\n",
       "      <td>0.0</td>\n",
       "      <td>1040.0</td>\n",
       "      <td>0.0</td>\n",
       "      <td>1.4</td>\n",
       "      <td>0.0</td>\n",
       "      <td>0.0</td>\n",
       "      <td>0.0</td>\n",
       "      <td>0.000000</td>\n",
       "      <td>0.2</td>\n",
       "      <td>0.000000</td>\n",
       "      <td>0.0</td>\n",
       "      <td>NaN</td>\n",
       "      <td>0.0</td>\n",
       "      <td>NaN</td>\n",
       "      <td>NaN</td>\n",
       "      <td>0.0</td>\n",
       "      <td>NaN</td>\n",
       "    </tr>\n",
       "    <tr>\n",
       "      <th>1.0</th>\n",
       "      <td>NaN</td>\n",
       "      <td>NaN</td>\n",
       "      <td>NaN</td>\n",
       "      <td>NaN</td>\n",
       "      <td>NaN</td>\n",
       "      <td>NaN</td>\n",
       "      <td>NaN</td>\n",
       "      <td>728.333333</td>\n",
       "      <td>157.5</td>\n",
       "      <td>18.333333</td>\n",
       "      <td>NaN</td>\n",
       "      <td>0.0</td>\n",
       "      <td>0.0</td>\n",
       "      <td>12.0</td>\n",
       "      <td>0.0</td>\n",
       "      <td>NaN</td>\n",
       "      <td>0.0</td>\n",
       "    </tr>\n",
       "  </tbody>\n",
       "</table>\n",
       "</div>"
      ],
      "text/plain": [
       "ANOMALY.LEVEL    -1.3    -1.1  -1.0  -0.9  -0.8  -0.7  -0.6        -0.5  \\\n",
       "OUTAGE.DURATION                                                           \n",
       "0.0               0.0  1040.0   0.0   1.4   0.0   0.0   0.0    0.000000   \n",
       "1.0               NaN     NaN   NaN   NaN   NaN   NaN   NaN  728.333333   \n",
       "\n",
       "ANOMALY.LEVEL     -0.4       -0.3  -0.1   0.1   0.3   0.6   0.8   1.6   2.3  \n",
       "OUTAGE.DURATION                                                              \n",
       "0.0                0.2   0.000000   0.0   NaN   0.0   NaN   NaN   0.0   NaN  \n",
       "1.0              157.5  18.333333   NaN   0.0   0.0  12.0   0.0   NaN   0.0  "
      ]
     },
     "execution_count": 21,
     "metadata": {},
     "output_type": "execute_result"
    }
   ],
   "source": [
    "# See if any comminalities can be found in the non zero/1 outages\n",
    "low_durs = formated_data[formated_data['OUTAGE.DURATION'] <= 1]\n",
    "low_durs.pivot_table(index='OUTAGE.DURATION', columns='ANOMALY.LEVEL', values='DEMAND.LOSS.MW')"
   ]
  },
  {
   "cell_type": "markdown",
   "metadata": {},
   "source": [
    "Some of these points dont seem to make any sense - how can an outage lasting 0 minutes cause a peak demand loss of 1040 MW? For most analysis, and prediction, it may make sense to drop these values"
   ]
  },
  {
   "cell_type": "code",
   "execution_count": 22,
   "metadata": {},
   "outputs": [
    {
     "name": "stderr",
     "output_type": "stream",
     "text": [
      "/var/folders/v7/nxggzv_j5s936v9rvl85gh2w0000gn/T/ipykernel_4381/2783385590.py:3: SettingWithCopyWarning:\n",
      "\n",
      "\n",
      "A value is trying to be set on a copy of a slice from a DataFrame.\n",
      "Try using .loc[row_indexer,col_indexer] = value instead\n",
      "\n",
      "See the caveats in the documentation: https://pandas.pydata.org/pandas-docs/stable/user_guide/indexing.html#returning-a-view-versus-a-copy\n",
      "\n"
     ]
    },
    {
     "data": {
      "text/html": [
       "<div>\n",
       "<style scoped>\n",
       "    .dataframe tbody tr th:only-of-type {\n",
       "        vertical-align: middle;\n",
       "    }\n",
       "\n",
       "    .dataframe tbody tr th {\n",
       "        vertical-align: top;\n",
       "    }\n",
       "\n",
       "    .dataframe thead th {\n",
       "        text-align: right;\n",
       "    }\n",
       "</style>\n",
       "<table border=\"1\" class=\"dataframe\">\n",
       "  <thead>\n",
       "    <tr style=\"text-align: right;\">\n",
       "      <th>ANOMALY.LEVEL</th>\n",
       "      <th>-1.6</th>\n",
       "      <th>-1.5</th>\n",
       "      <th>-1.4</th>\n",
       "      <th>-1.3</th>\n",
       "      <th>-1.2</th>\n",
       "      <th>-1.1</th>\n",
       "      <th>-1.0</th>\n",
       "      <th>-0.9</th>\n",
       "      <th>-0.8</th>\n",
       "      <th>-0.7</th>\n",
       "      <th>...</th>\n",
       "      <th>1.0</th>\n",
       "      <th>1.1</th>\n",
       "      <th>1.2</th>\n",
       "      <th>1.3</th>\n",
       "      <th>1.4</th>\n",
       "      <th>1.6</th>\n",
       "      <th>1.7</th>\n",
       "      <th>2.0</th>\n",
       "      <th>2.2</th>\n",
       "      <th>2.3</th>\n",
       "    </tr>\n",
       "    <tr>\n",
       "      <th>OUTAGE.DURATION</th>\n",
       "      <th></th>\n",
       "      <th></th>\n",
       "      <th></th>\n",
       "      <th></th>\n",
       "      <th></th>\n",
       "      <th></th>\n",
       "      <th></th>\n",
       "      <th></th>\n",
       "      <th></th>\n",
       "      <th></th>\n",
       "      <th></th>\n",
       "      <th></th>\n",
       "      <th></th>\n",
       "      <th></th>\n",
       "      <th></th>\n",
       "      <th></th>\n",
       "      <th></th>\n",
       "      <th></th>\n",
       "      <th></th>\n",
       "      <th></th>\n",
       "      <th></th>\n",
       "    </tr>\n",
       "  </thead>\n",
       "  <tbody>\n",
       "    <tr>\n",
       "      <th>(-106.651, 1088.51]</th>\n",
       "      <td>NaN</td>\n",
       "      <td>258.0</td>\n",
       "      <td>211.666667</td>\n",
       "      <td>534.0</td>\n",
       "      <td>280.333333</td>\n",
       "      <td>378.333333</td>\n",
       "      <td>595.75</td>\n",
       "      <td>303.846154</td>\n",
       "      <td>0.0</td>\n",
       "      <td>157.000000</td>\n",
       "      <td>...</td>\n",
       "      <td>189.333333</td>\n",
       "      <td>177.142857</td>\n",
       "      <td>283.0</td>\n",
       "      <td>350.0</td>\n",
       "      <td>NaN</td>\n",
       "      <td>200.0</td>\n",
       "      <td>75.0</td>\n",
       "      <td>4188.5</td>\n",
       "      <td>0.0</td>\n",
       "      <td>96.0</td>\n",
       "    </tr>\n",
       "    <tr>\n",
       "      <th>(1088.51, 2175.02]</th>\n",
       "      <td>NaN</td>\n",
       "      <td>NaN</td>\n",
       "      <td>464.000000</td>\n",
       "      <td>180.0</td>\n",
       "      <td>NaN</td>\n",
       "      <td>NaN</td>\n",
       "      <td>4000.00</td>\n",
       "      <td>300.000000</td>\n",
       "      <td>NaN</td>\n",
       "      <td>475.333333</td>\n",
       "      <td>...</td>\n",
       "      <td>NaN</td>\n",
       "      <td>0.000000</td>\n",
       "      <td>250.0</td>\n",
       "      <td>2650.0</td>\n",
       "      <td>NaN</td>\n",
       "      <td>0.0</td>\n",
       "      <td>NaN</td>\n",
       "      <td>NaN</td>\n",
       "      <td>0.0</td>\n",
       "      <td>0.0</td>\n",
       "    </tr>\n",
       "    <tr>\n",
       "      <th>(2175.02, 3261.53]</th>\n",
       "      <td>NaN</td>\n",
       "      <td>240.0</td>\n",
       "      <td>331.000000</td>\n",
       "      <td>NaN</td>\n",
       "      <td>NaN</td>\n",
       "      <td>NaN</td>\n",
       "      <td>NaN</td>\n",
       "      <td>240.000000</td>\n",
       "      <td>NaN</td>\n",
       "      <td>600.000000</td>\n",
       "      <td>...</td>\n",
       "      <td>NaN</td>\n",
       "      <td>59.500000</td>\n",
       "      <td>NaN</td>\n",
       "      <td>NaN</td>\n",
       "      <td>1200.0</td>\n",
       "      <td>NaN</td>\n",
       "      <td>NaN</td>\n",
       "      <td>NaN</td>\n",
       "      <td>4.0</td>\n",
       "      <td>NaN</td>\n",
       "    </tr>\n",
       "    <tr>\n",
       "      <th>(3261.53, 4348.04]</th>\n",
       "      <td>NaN</td>\n",
       "      <td>NaN</td>\n",
       "      <td>130.000000</td>\n",
       "      <td>79.0</td>\n",
       "      <td>NaN</td>\n",
       "      <td>NaN</td>\n",
       "      <td>176.50</td>\n",
       "      <td>400.000000</td>\n",
       "      <td>NaN</td>\n",
       "      <td>177.500000</td>\n",
       "      <td>...</td>\n",
       "      <td>NaN</td>\n",
       "      <td>NaN</td>\n",
       "      <td>NaN</td>\n",
       "      <td>NaN</td>\n",
       "      <td>NaN</td>\n",
       "      <td>0.0</td>\n",
       "      <td>NaN</td>\n",
       "      <td>NaN</td>\n",
       "      <td>NaN</td>\n",
       "      <td>NaN</td>\n",
       "    </tr>\n",
       "    <tr>\n",
       "      <th>(4348.04, 5434.55]</th>\n",
       "      <td>NaN</td>\n",
       "      <td>NaN</td>\n",
       "      <td>115.500000</td>\n",
       "      <td>NaN</td>\n",
       "      <td>NaN</td>\n",
       "      <td>NaN</td>\n",
       "      <td>91.00</td>\n",
       "      <td>NaN</td>\n",
       "      <td>NaN</td>\n",
       "      <td>200.000000</td>\n",
       "      <td>...</td>\n",
       "      <td>NaN</td>\n",
       "      <td>NaN</td>\n",
       "      <td>270.0</td>\n",
       "      <td>NaN</td>\n",
       "      <td>NaN</td>\n",
       "      <td>NaN</td>\n",
       "      <td>NaN</td>\n",
       "      <td>NaN</td>\n",
       "      <td>NaN</td>\n",
       "      <td>NaN</td>\n",
       "    </tr>\n",
       "    <tr>\n",
       "      <th>(5434.55, 6521.06]</th>\n",
       "      <td>NaN</td>\n",
       "      <td>NaN</td>\n",
       "      <td>NaN</td>\n",
       "      <td>NaN</td>\n",
       "      <td>340.000000</td>\n",
       "      <td>NaN</td>\n",
       "      <td>NaN</td>\n",
       "      <td>540.000000</td>\n",
       "      <td>NaN</td>\n",
       "      <td>637.500000</td>\n",
       "      <td>...</td>\n",
       "      <td>NaN</td>\n",
       "      <td>NaN</td>\n",
       "      <td>NaN</td>\n",
       "      <td>NaN</td>\n",
       "      <td>NaN</td>\n",
       "      <td>NaN</td>\n",
       "      <td>NaN</td>\n",
       "      <td>NaN</td>\n",
       "      <td>NaN</td>\n",
       "      <td>NaN</td>\n",
       "    </tr>\n",
       "    <tr>\n",
       "      <th>(6521.06, 7607.57]</th>\n",
       "      <td>375.0</td>\n",
       "      <td>NaN</td>\n",
       "      <td>NaN</td>\n",
       "      <td>NaN</td>\n",
       "      <td>NaN</td>\n",
       "      <td>NaN</td>\n",
       "      <td>NaN</td>\n",
       "      <td>NaN</td>\n",
       "      <td>NaN</td>\n",
       "      <td>91.000000</td>\n",
       "      <td>...</td>\n",
       "      <td>NaN</td>\n",
       "      <td>180.000000</td>\n",
       "      <td>NaN</td>\n",
       "      <td>NaN</td>\n",
       "      <td>NaN</td>\n",
       "      <td>NaN</td>\n",
       "      <td>NaN</td>\n",
       "      <td>NaN</td>\n",
       "      <td>NaN</td>\n",
       "      <td>NaN</td>\n",
       "    </tr>\n",
       "    <tr>\n",
       "      <th>(7607.57, 8694.08]</th>\n",
       "      <td>NaN</td>\n",
       "      <td>NaN</td>\n",
       "      <td>NaN</td>\n",
       "      <td>NaN</td>\n",
       "      <td>NaN</td>\n",
       "      <td>NaN</td>\n",
       "      <td>NaN</td>\n",
       "      <td>NaN</td>\n",
       "      <td>NaN</td>\n",
       "      <td>800.000000</td>\n",
       "      <td>...</td>\n",
       "      <td>NaN</td>\n",
       "      <td>NaN</td>\n",
       "      <td>NaN</td>\n",
       "      <td>NaN</td>\n",
       "      <td>NaN</td>\n",
       "      <td>NaN</td>\n",
       "      <td>NaN</td>\n",
       "      <td>NaN</td>\n",
       "      <td>NaN</td>\n",
       "      <td>NaN</td>\n",
       "    </tr>\n",
       "    <tr>\n",
       "      <th>(8694.08, 9780.59]</th>\n",
       "      <td>NaN</td>\n",
       "      <td>NaN</td>\n",
       "      <td>NaN</td>\n",
       "      <td>NaN</td>\n",
       "      <td>NaN</td>\n",
       "      <td>NaN</td>\n",
       "      <td>0.00</td>\n",
       "      <td>NaN</td>\n",
       "      <td>NaN</td>\n",
       "      <td>NaN</td>\n",
       "      <td>...</td>\n",
       "      <td>NaN</td>\n",
       "      <td>NaN</td>\n",
       "      <td>NaN</td>\n",
       "      <td>NaN</td>\n",
       "      <td>250.0</td>\n",
       "      <td>NaN</td>\n",
       "      <td>NaN</td>\n",
       "      <td>NaN</td>\n",
       "      <td>NaN</td>\n",
       "      <td>NaN</td>\n",
       "    </tr>\n",
       "    <tr>\n",
       "      <th>(9780.59, 10867.1]</th>\n",
       "      <td>NaN</td>\n",
       "      <td>NaN</td>\n",
       "      <td>NaN</td>\n",
       "      <td>NaN</td>\n",
       "      <td>NaN</td>\n",
       "      <td>NaN</td>\n",
       "      <td>NaN</td>\n",
       "      <td>NaN</td>\n",
       "      <td>NaN</td>\n",
       "      <td>200.000000</td>\n",
       "      <td>...</td>\n",
       "      <td>NaN</td>\n",
       "      <td>NaN</td>\n",
       "      <td>NaN</td>\n",
       "      <td>NaN</td>\n",
       "      <td>NaN</td>\n",
       "      <td>NaN</td>\n",
       "      <td>NaN</td>\n",
       "      <td>NaN</td>\n",
       "      <td>NaN</td>\n",
       "      <td>NaN</td>\n",
       "    </tr>\n",
       "    <tr>\n",
       "      <th>(10867.1, 11953.61]</th>\n",
       "      <td>NaN</td>\n",
       "      <td>NaN</td>\n",
       "      <td>NaN</td>\n",
       "      <td>NaN</td>\n",
       "      <td>NaN</td>\n",
       "      <td>NaN</td>\n",
       "      <td>NaN</td>\n",
       "      <td>125.000000</td>\n",
       "      <td>NaN</td>\n",
       "      <td>240.000000</td>\n",
       "      <td>...</td>\n",
       "      <td>NaN</td>\n",
       "      <td>NaN</td>\n",
       "      <td>NaN</td>\n",
       "      <td>NaN</td>\n",
       "      <td>NaN</td>\n",
       "      <td>NaN</td>\n",
       "      <td>NaN</td>\n",
       "      <td>NaN</td>\n",
       "      <td>NaN</td>\n",
       "      <td>NaN</td>\n",
       "    </tr>\n",
       "    <tr>\n",
       "      <th>(11953.61, 13040.12]</th>\n",
       "      <td>NaN</td>\n",
       "      <td>NaN</td>\n",
       "      <td>NaN</td>\n",
       "      <td>NaN</td>\n",
       "      <td>NaN</td>\n",
       "      <td>NaN</td>\n",
       "      <td>NaN</td>\n",
       "      <td>NaN</td>\n",
       "      <td>NaN</td>\n",
       "      <td>506.000000</td>\n",
       "      <td>...</td>\n",
       "      <td>NaN</td>\n",
       "      <td>NaN</td>\n",
       "      <td>NaN</td>\n",
       "      <td>NaN</td>\n",
       "      <td>NaN</td>\n",
       "      <td>NaN</td>\n",
       "      <td>NaN</td>\n",
       "      <td>NaN</td>\n",
       "      <td>NaN</td>\n",
       "      <td>NaN</td>\n",
       "    </tr>\n",
       "    <tr>\n",
       "      <th>(13040.12, 14126.63]</th>\n",
       "      <td>NaN</td>\n",
       "      <td>NaN</td>\n",
       "      <td>NaN</td>\n",
       "      <td>500.0</td>\n",
       "      <td>NaN</td>\n",
       "      <td>NaN</td>\n",
       "      <td>NaN</td>\n",
       "      <td>NaN</td>\n",
       "      <td>NaN</td>\n",
       "      <td>NaN</td>\n",
       "      <td>...</td>\n",
       "      <td>NaN</td>\n",
       "      <td>NaN</td>\n",
       "      <td>NaN</td>\n",
       "      <td>NaN</td>\n",
       "      <td>NaN</td>\n",
       "      <td>NaN</td>\n",
       "      <td>NaN</td>\n",
       "      <td>NaN</td>\n",
       "      <td>NaN</td>\n",
       "      <td>NaN</td>\n",
       "    </tr>\n",
       "    <tr>\n",
       "      <th>(14126.63, 15213.14]</th>\n",
       "      <td>NaN</td>\n",
       "      <td>NaN</td>\n",
       "      <td>500.000000</td>\n",
       "      <td>NaN</td>\n",
       "      <td>NaN</td>\n",
       "      <td>NaN</td>\n",
       "      <td>NaN</td>\n",
       "      <td>NaN</td>\n",
       "      <td>NaN</td>\n",
       "      <td>348.500000</td>\n",
       "      <td>...</td>\n",
       "      <td>NaN</td>\n",
       "      <td>NaN</td>\n",
       "      <td>NaN</td>\n",
       "      <td>290.0</td>\n",
       "      <td>NaN</td>\n",
       "      <td>NaN</td>\n",
       "      <td>NaN</td>\n",
       "      <td>NaN</td>\n",
       "      <td>NaN</td>\n",
       "      <td>NaN</td>\n",
       "    </tr>\n",
       "    <tr>\n",
       "      <th>(15213.14, 16299.65]</th>\n",
       "      <td>NaN</td>\n",
       "      <td>NaN</td>\n",
       "      <td>NaN</td>\n",
       "      <td>NaN</td>\n",
       "      <td>NaN</td>\n",
       "      <td>NaN</td>\n",
       "      <td>NaN</td>\n",
       "      <td>NaN</td>\n",
       "      <td>NaN</td>\n",
       "      <td>NaN</td>\n",
       "      <td>...</td>\n",
       "      <td>NaN</td>\n",
       "      <td>NaN</td>\n",
       "      <td>NaN</td>\n",
       "      <td>NaN</td>\n",
       "      <td>NaN</td>\n",
       "      <td>NaN</td>\n",
       "      <td>NaN</td>\n",
       "      <td>NaN</td>\n",
       "      <td>NaN</td>\n",
       "      <td>NaN</td>\n",
       "    </tr>\n",
       "    <tr>\n",
       "      <th>(16299.65, 17386.16]</th>\n",
       "      <td>NaN</td>\n",
       "      <td>NaN</td>\n",
       "      <td>NaN</td>\n",
       "      <td>NaN</td>\n",
       "      <td>NaN</td>\n",
       "      <td>NaN</td>\n",
       "      <td>NaN</td>\n",
       "      <td>NaN</td>\n",
       "      <td>NaN</td>\n",
       "      <td>NaN</td>\n",
       "      <td>...</td>\n",
       "      <td>NaN</td>\n",
       "      <td>NaN</td>\n",
       "      <td>NaN</td>\n",
       "      <td>NaN</td>\n",
       "      <td>NaN</td>\n",
       "      <td>NaN</td>\n",
       "      <td>NaN</td>\n",
       "      <td>NaN</td>\n",
       "      <td>NaN</td>\n",
       "      <td>NaN</td>\n",
       "    </tr>\n",
       "    <tr>\n",
       "      <th>(17386.16, 18472.67]</th>\n",
       "      <td>NaN</td>\n",
       "      <td>NaN</td>\n",
       "      <td>300.000000</td>\n",
       "      <td>NaN</td>\n",
       "      <td>NaN</td>\n",
       "      <td>NaN</td>\n",
       "      <td>NaN</td>\n",
       "      <td>NaN</td>\n",
       "      <td>NaN</td>\n",
       "      <td>NaN</td>\n",
       "      <td>...</td>\n",
       "      <td>NaN</td>\n",
       "      <td>NaN</td>\n",
       "      <td>NaN</td>\n",
       "      <td>NaN</td>\n",
       "      <td>NaN</td>\n",
       "      <td>NaN</td>\n",
       "      <td>NaN</td>\n",
       "      <td>NaN</td>\n",
       "      <td>NaN</td>\n",
       "      <td>NaN</td>\n",
       "    </tr>\n",
       "    <tr>\n",
       "      <th>(18472.67, 19559.18]</th>\n",
       "      <td>NaN</td>\n",
       "      <td>NaN</td>\n",
       "      <td>NaN</td>\n",
       "      <td>NaN</td>\n",
       "      <td>NaN</td>\n",
       "      <td>NaN</td>\n",
       "      <td>NaN</td>\n",
       "      <td>NaN</td>\n",
       "      <td>NaN</td>\n",
       "      <td>NaN</td>\n",
       "      <td>...</td>\n",
       "      <td>NaN</td>\n",
       "      <td>NaN</td>\n",
       "      <td>NaN</td>\n",
       "      <td>NaN</td>\n",
       "      <td>NaN</td>\n",
       "      <td>NaN</td>\n",
       "      <td>NaN</td>\n",
       "      <td>NaN</td>\n",
       "      <td>NaN</td>\n",
       "      <td>NaN</td>\n",
       "    </tr>\n",
       "    <tr>\n",
       "      <th>(19559.18, 20645.69]</th>\n",
       "      <td>NaN</td>\n",
       "      <td>NaN</td>\n",
       "      <td>NaN</td>\n",
       "      <td>NaN</td>\n",
       "      <td>NaN</td>\n",
       "      <td>NaN</td>\n",
       "      <td>NaN</td>\n",
       "      <td>NaN</td>\n",
       "      <td>NaN</td>\n",
       "      <td>NaN</td>\n",
       "      <td>...</td>\n",
       "      <td>NaN</td>\n",
       "      <td>NaN</td>\n",
       "      <td>NaN</td>\n",
       "      <td>NaN</td>\n",
       "      <td>NaN</td>\n",
       "      <td>NaN</td>\n",
       "      <td>NaN</td>\n",
       "      <td>NaN</td>\n",
       "      <td>NaN</td>\n",
       "      <td>NaN</td>\n",
       "    </tr>\n",
       "    <tr>\n",
       "      <th>(20645.69, 21732.2]</th>\n",
       "      <td>NaN</td>\n",
       "      <td>NaN</td>\n",
       "      <td>NaN</td>\n",
       "      <td>NaN</td>\n",
       "      <td>NaN</td>\n",
       "      <td>NaN</td>\n",
       "      <td>NaN</td>\n",
       "      <td>NaN</td>\n",
       "      <td>NaN</td>\n",
       "      <td>NaN</td>\n",
       "      <td>...</td>\n",
       "      <td>NaN</td>\n",
       "      <td>NaN</td>\n",
       "      <td>NaN</td>\n",
       "      <td>NaN</td>\n",
       "      <td>NaN</td>\n",
       "      <td>NaN</td>\n",
       "      <td>NaN</td>\n",
       "      <td>NaN</td>\n",
       "      <td>NaN</td>\n",
       "      <td>NaN</td>\n",
       "    </tr>\n",
       "    <tr>\n",
       "      <th>(22818.71, 23905.22]</th>\n",
       "      <td>NaN</td>\n",
       "      <td>NaN</td>\n",
       "      <td>NaN</td>\n",
       "      <td>NaN</td>\n",
       "      <td>NaN</td>\n",
       "      <td>NaN</td>\n",
       "      <td>NaN</td>\n",
       "      <td>NaN</td>\n",
       "      <td>NaN</td>\n",
       "      <td>NaN</td>\n",
       "      <td>...</td>\n",
       "      <td>NaN</td>\n",
       "      <td>NaN</td>\n",
       "      <td>NaN</td>\n",
       "      <td>NaN</td>\n",
       "      <td>NaN</td>\n",
       "      <td>NaN</td>\n",
       "      <td>NaN</td>\n",
       "      <td>NaN</td>\n",
       "      <td>NaN</td>\n",
       "      <td>NaN</td>\n",
       "    </tr>\n",
       "    <tr>\n",
       "      <th>(23905.22, 24991.73]</th>\n",
       "      <td>NaN</td>\n",
       "      <td>NaN</td>\n",
       "      <td>NaN</td>\n",
       "      <td>NaN</td>\n",
       "      <td>NaN</td>\n",
       "      <td>NaN</td>\n",
       "      <td>NaN</td>\n",
       "      <td>NaN</td>\n",
       "      <td>NaN</td>\n",
       "      <td>NaN</td>\n",
       "      <td>...</td>\n",
       "      <td>NaN</td>\n",
       "      <td>NaN</td>\n",
       "      <td>NaN</td>\n",
       "      <td>NaN</td>\n",
       "      <td>NaN</td>\n",
       "      <td>NaN</td>\n",
       "      <td>NaN</td>\n",
       "      <td>NaN</td>\n",
       "      <td>NaN</td>\n",
       "      <td>NaN</td>\n",
       "    </tr>\n",
       "    <tr>\n",
       "      <th>(24991.73, 26078.24]</th>\n",
       "      <td>NaN</td>\n",
       "      <td>NaN</td>\n",
       "      <td>NaN</td>\n",
       "      <td>NaN</td>\n",
       "      <td>NaN</td>\n",
       "      <td>NaN</td>\n",
       "      <td>NaN</td>\n",
       "      <td>NaN</td>\n",
       "      <td>NaN</td>\n",
       "      <td>NaN</td>\n",
       "      <td>...</td>\n",
       "      <td>NaN</td>\n",
       "      <td>NaN</td>\n",
       "      <td>NaN</td>\n",
       "      <td>NaN</td>\n",
       "      <td>NaN</td>\n",
       "      <td>NaN</td>\n",
       "      <td>NaN</td>\n",
       "      <td>NaN</td>\n",
       "      <td>NaN</td>\n",
       "      <td>NaN</td>\n",
       "    </tr>\n",
       "    <tr>\n",
       "      <th>(27164.75, 28251.26]</th>\n",
       "      <td>NaN</td>\n",
       "      <td>NaN</td>\n",
       "      <td>NaN</td>\n",
       "      <td>NaN</td>\n",
       "      <td>NaN</td>\n",
       "      <td>NaN</td>\n",
       "      <td>NaN</td>\n",
       "      <td>NaN</td>\n",
       "      <td>NaN</td>\n",
       "      <td>NaN</td>\n",
       "      <td>...</td>\n",
       "      <td>NaN</td>\n",
       "      <td>NaN</td>\n",
       "      <td>NaN</td>\n",
       "      <td>NaN</td>\n",
       "      <td>NaN</td>\n",
       "      <td>NaN</td>\n",
       "      <td>NaN</td>\n",
       "      <td>NaN</td>\n",
       "      <td>NaN</td>\n",
       "      <td>NaN</td>\n",
       "    </tr>\n",
       "    <tr>\n",
       "      <th>(45635.42, 46721.93]</th>\n",
       "      <td>NaN</td>\n",
       "      <td>NaN</td>\n",
       "      <td>NaN</td>\n",
       "      <td>NaN</td>\n",
       "      <td>NaN</td>\n",
       "      <td>NaN</td>\n",
       "      <td>NaN</td>\n",
       "      <td>NaN</td>\n",
       "      <td>NaN</td>\n",
       "      <td>NaN</td>\n",
       "      <td>...</td>\n",
       "      <td>NaN</td>\n",
       "      <td>NaN</td>\n",
       "      <td>NaN</td>\n",
       "      <td>NaN</td>\n",
       "      <td>NaN</td>\n",
       "      <td>NaN</td>\n",
       "      <td>NaN</td>\n",
       "      <td>NaN</td>\n",
       "      <td>NaN</td>\n",
       "      <td>NaN</td>\n",
       "    </tr>\n",
       "    <tr>\n",
       "      <th>(48894.95, 49981.46]</th>\n",
       "      <td>NaN</td>\n",
       "      <td>NaN</td>\n",
       "      <td>NaN</td>\n",
       "      <td>NaN</td>\n",
       "      <td>NaN</td>\n",
       "      <td>NaN</td>\n",
       "      <td>NaN</td>\n",
       "      <td>NaN</td>\n",
       "      <td>NaN</td>\n",
       "      <td>NaN</td>\n",
       "      <td>...</td>\n",
       "      <td>NaN</td>\n",
       "      <td>NaN</td>\n",
       "      <td>NaN</td>\n",
       "      <td>NaN</td>\n",
       "      <td>NaN</td>\n",
       "      <td>0.0</td>\n",
       "      <td>NaN</td>\n",
       "      <td>NaN</td>\n",
       "      <td>NaN</td>\n",
       "      <td>NaN</td>\n",
       "    </tr>\n",
       "    <tr>\n",
       "      <th>(59760.05, 60846.56]</th>\n",
       "      <td>NaN</td>\n",
       "      <td>NaN</td>\n",
       "      <td>NaN</td>\n",
       "      <td>NaN</td>\n",
       "      <td>NaN</td>\n",
       "      <td>NaN</td>\n",
       "      <td>NaN</td>\n",
       "      <td>NaN</td>\n",
       "      <td>NaN</td>\n",
       "      <td>NaN</td>\n",
       "      <td>...</td>\n",
       "      <td>NaN</td>\n",
       "      <td>NaN</td>\n",
       "      <td>NaN</td>\n",
       "      <td>NaN</td>\n",
       "      <td>NaN</td>\n",
       "      <td>NaN</td>\n",
       "      <td>NaN</td>\n",
       "      <td>NaN</td>\n",
       "      <td>NaN</td>\n",
       "      <td>NaN</td>\n",
       "    </tr>\n",
       "    <tr>\n",
       "      <th>(78230.72, 79317.23]</th>\n",
       "      <td>NaN</td>\n",
       "      <td>NaN</td>\n",
       "      <td>NaN</td>\n",
       "      <td>NaN</td>\n",
       "      <td>NaN</td>\n",
       "      <td>NaN</td>\n",
       "      <td>NaN</td>\n",
       "      <td>NaN</td>\n",
       "      <td>NaN</td>\n",
       "      <td>NaN</td>\n",
       "      <td>...</td>\n",
       "      <td>NaN</td>\n",
       "      <td>NaN</td>\n",
       "      <td>NaN</td>\n",
       "      <td>NaN</td>\n",
       "      <td>NaN</td>\n",
       "      <td>NaN</td>\n",
       "      <td>NaN</td>\n",
       "      <td>NaN</td>\n",
       "      <td>NaN</td>\n",
       "      <td>NaN</td>\n",
       "    </tr>\n",
       "  </tbody>\n",
       "</table>\n",
       "<p>28 rows × 36 columns</p>\n",
       "</div>"
      ],
      "text/plain": [
       "ANOMALY.LEVEL          -1.6   -1.5        -1.4   -1.3        -1.2        -1.1  \\\n",
       "OUTAGE.DURATION                                                                 \n",
       "(-106.651, 1088.51]     NaN  258.0  211.666667  534.0  280.333333  378.333333   \n",
       "(1088.51, 2175.02]      NaN    NaN  464.000000  180.0         NaN         NaN   \n",
       "(2175.02, 3261.53]      NaN  240.0  331.000000    NaN         NaN         NaN   \n",
       "(3261.53, 4348.04]      NaN    NaN  130.000000   79.0         NaN         NaN   \n",
       "(4348.04, 5434.55]      NaN    NaN  115.500000    NaN         NaN         NaN   \n",
       "(5434.55, 6521.06]      NaN    NaN         NaN    NaN  340.000000         NaN   \n",
       "(6521.06, 7607.57]    375.0    NaN         NaN    NaN         NaN         NaN   \n",
       "(7607.57, 8694.08]      NaN    NaN         NaN    NaN         NaN         NaN   \n",
       "(8694.08, 9780.59]      NaN    NaN         NaN    NaN         NaN         NaN   \n",
       "(9780.59, 10867.1]      NaN    NaN         NaN    NaN         NaN         NaN   \n",
       "(10867.1, 11953.61]     NaN    NaN         NaN    NaN         NaN         NaN   \n",
       "(11953.61, 13040.12]    NaN    NaN         NaN    NaN         NaN         NaN   \n",
       "(13040.12, 14126.63]    NaN    NaN         NaN  500.0         NaN         NaN   \n",
       "(14126.63, 15213.14]    NaN    NaN  500.000000    NaN         NaN         NaN   \n",
       "(15213.14, 16299.65]    NaN    NaN         NaN    NaN         NaN         NaN   \n",
       "(16299.65, 17386.16]    NaN    NaN         NaN    NaN         NaN         NaN   \n",
       "(17386.16, 18472.67]    NaN    NaN  300.000000    NaN         NaN         NaN   \n",
       "(18472.67, 19559.18]    NaN    NaN         NaN    NaN         NaN         NaN   \n",
       "(19559.18, 20645.69]    NaN    NaN         NaN    NaN         NaN         NaN   \n",
       "(20645.69, 21732.2]     NaN    NaN         NaN    NaN         NaN         NaN   \n",
       "(22818.71, 23905.22]    NaN    NaN         NaN    NaN         NaN         NaN   \n",
       "(23905.22, 24991.73]    NaN    NaN         NaN    NaN         NaN         NaN   \n",
       "(24991.73, 26078.24]    NaN    NaN         NaN    NaN         NaN         NaN   \n",
       "(27164.75, 28251.26]    NaN    NaN         NaN    NaN         NaN         NaN   \n",
       "(45635.42, 46721.93]    NaN    NaN         NaN    NaN         NaN         NaN   \n",
       "(48894.95, 49981.46]    NaN    NaN         NaN    NaN         NaN         NaN   \n",
       "(59760.05, 60846.56]    NaN    NaN         NaN    NaN         NaN         NaN   \n",
       "(78230.72, 79317.23]    NaN    NaN         NaN    NaN         NaN         NaN   \n",
       "\n",
       "ANOMALY.LEVEL            -1.0        -0.9  -0.8        -0.7  ...         1.0  \\\n",
       "OUTAGE.DURATION                                              ...               \n",
       "(-106.651, 1088.51]    595.75  303.846154   0.0  157.000000  ...  189.333333   \n",
       "(1088.51, 2175.02]    4000.00  300.000000   NaN  475.333333  ...         NaN   \n",
       "(2175.02, 3261.53]        NaN  240.000000   NaN  600.000000  ...         NaN   \n",
       "(3261.53, 4348.04]     176.50  400.000000   NaN  177.500000  ...         NaN   \n",
       "(4348.04, 5434.55]      91.00         NaN   NaN  200.000000  ...         NaN   \n",
       "(5434.55, 6521.06]        NaN  540.000000   NaN  637.500000  ...         NaN   \n",
       "(6521.06, 7607.57]        NaN         NaN   NaN   91.000000  ...         NaN   \n",
       "(7607.57, 8694.08]        NaN         NaN   NaN  800.000000  ...         NaN   \n",
       "(8694.08, 9780.59]       0.00         NaN   NaN         NaN  ...         NaN   \n",
       "(9780.59, 10867.1]        NaN         NaN   NaN  200.000000  ...         NaN   \n",
       "(10867.1, 11953.61]       NaN  125.000000   NaN  240.000000  ...         NaN   \n",
       "(11953.61, 13040.12]      NaN         NaN   NaN  506.000000  ...         NaN   \n",
       "(13040.12, 14126.63]      NaN         NaN   NaN         NaN  ...         NaN   \n",
       "(14126.63, 15213.14]      NaN         NaN   NaN  348.500000  ...         NaN   \n",
       "(15213.14, 16299.65]      NaN         NaN   NaN         NaN  ...         NaN   \n",
       "(16299.65, 17386.16]      NaN         NaN   NaN         NaN  ...         NaN   \n",
       "(17386.16, 18472.67]      NaN         NaN   NaN         NaN  ...         NaN   \n",
       "(18472.67, 19559.18]      NaN         NaN   NaN         NaN  ...         NaN   \n",
       "(19559.18, 20645.69]      NaN         NaN   NaN         NaN  ...         NaN   \n",
       "(20645.69, 21732.2]       NaN         NaN   NaN         NaN  ...         NaN   \n",
       "(22818.71, 23905.22]      NaN         NaN   NaN         NaN  ...         NaN   \n",
       "(23905.22, 24991.73]      NaN         NaN   NaN         NaN  ...         NaN   \n",
       "(24991.73, 26078.24]      NaN         NaN   NaN         NaN  ...         NaN   \n",
       "(27164.75, 28251.26]      NaN         NaN   NaN         NaN  ...         NaN   \n",
       "(45635.42, 46721.93]      NaN         NaN   NaN         NaN  ...         NaN   \n",
       "(48894.95, 49981.46]      NaN         NaN   NaN         NaN  ...         NaN   \n",
       "(59760.05, 60846.56]      NaN         NaN   NaN         NaN  ...         NaN   \n",
       "(78230.72, 79317.23]      NaN         NaN   NaN         NaN  ...         NaN   \n",
       "\n",
       "ANOMALY.LEVEL                1.1    1.2     1.3     1.4    1.6   1.7     2.0  \\\n",
       "OUTAGE.DURATION                                                                \n",
       "(-106.651, 1088.51]   177.142857  283.0   350.0     NaN  200.0  75.0  4188.5   \n",
       "(1088.51, 2175.02]      0.000000  250.0  2650.0     NaN    0.0   NaN     NaN   \n",
       "(2175.02, 3261.53]     59.500000    NaN     NaN  1200.0    NaN   NaN     NaN   \n",
       "(3261.53, 4348.04]           NaN    NaN     NaN     NaN    0.0   NaN     NaN   \n",
       "(4348.04, 5434.55]           NaN  270.0     NaN     NaN    NaN   NaN     NaN   \n",
       "(5434.55, 6521.06]           NaN    NaN     NaN     NaN    NaN   NaN     NaN   \n",
       "(6521.06, 7607.57]    180.000000    NaN     NaN     NaN    NaN   NaN     NaN   \n",
       "(7607.57, 8694.08]           NaN    NaN     NaN     NaN    NaN   NaN     NaN   \n",
       "(8694.08, 9780.59]           NaN    NaN     NaN   250.0    NaN   NaN     NaN   \n",
       "(9780.59, 10867.1]           NaN    NaN     NaN     NaN    NaN   NaN     NaN   \n",
       "(10867.1, 11953.61]          NaN    NaN     NaN     NaN    NaN   NaN     NaN   \n",
       "(11953.61, 13040.12]         NaN    NaN     NaN     NaN    NaN   NaN     NaN   \n",
       "(13040.12, 14126.63]         NaN    NaN     NaN     NaN    NaN   NaN     NaN   \n",
       "(14126.63, 15213.14]         NaN    NaN   290.0     NaN    NaN   NaN     NaN   \n",
       "(15213.14, 16299.65]         NaN    NaN     NaN     NaN    NaN   NaN     NaN   \n",
       "(16299.65, 17386.16]         NaN    NaN     NaN     NaN    NaN   NaN     NaN   \n",
       "(17386.16, 18472.67]         NaN    NaN     NaN     NaN    NaN   NaN     NaN   \n",
       "(18472.67, 19559.18]         NaN    NaN     NaN     NaN    NaN   NaN     NaN   \n",
       "(19559.18, 20645.69]         NaN    NaN     NaN     NaN    NaN   NaN     NaN   \n",
       "(20645.69, 21732.2]          NaN    NaN     NaN     NaN    NaN   NaN     NaN   \n",
       "(22818.71, 23905.22]         NaN    NaN     NaN     NaN    NaN   NaN     NaN   \n",
       "(23905.22, 24991.73]         NaN    NaN     NaN     NaN    NaN   NaN     NaN   \n",
       "(24991.73, 26078.24]         NaN    NaN     NaN     NaN    NaN   NaN     NaN   \n",
       "(27164.75, 28251.26]         NaN    NaN     NaN     NaN    NaN   NaN     NaN   \n",
       "(45635.42, 46721.93]         NaN    NaN     NaN     NaN    NaN   NaN     NaN   \n",
       "(48894.95, 49981.46]         NaN    NaN     NaN     NaN    0.0   NaN     NaN   \n",
       "(59760.05, 60846.56]         NaN    NaN     NaN     NaN    NaN   NaN     NaN   \n",
       "(78230.72, 79317.23]         NaN    NaN     NaN     NaN    NaN   NaN     NaN   \n",
       "\n",
       "ANOMALY.LEVEL          2.2   2.3  \n",
       "OUTAGE.DURATION                   \n",
       "(-106.651, 1088.51]    0.0  96.0  \n",
       "(1088.51, 2175.02]     0.0   0.0  \n",
       "(2175.02, 3261.53]     4.0   NaN  \n",
       "(3261.53, 4348.04]     NaN   NaN  \n",
       "(4348.04, 5434.55]     NaN   NaN  \n",
       "(5434.55, 6521.06]     NaN   NaN  \n",
       "(6521.06, 7607.57]     NaN   NaN  \n",
       "(7607.57, 8694.08]     NaN   NaN  \n",
       "(8694.08, 9780.59]     NaN   NaN  \n",
       "(9780.59, 10867.1]     NaN   NaN  \n",
       "(10867.1, 11953.61]    NaN   NaN  \n",
       "(11953.61, 13040.12]   NaN   NaN  \n",
       "(13040.12, 14126.63]   NaN   NaN  \n",
       "(14126.63, 15213.14]   NaN   NaN  \n",
       "(15213.14, 16299.65]   NaN   NaN  \n",
       "(16299.65, 17386.16]   NaN   NaN  \n",
       "(17386.16, 18472.67]   NaN   NaN  \n",
       "(18472.67, 19559.18]   NaN   NaN  \n",
       "(19559.18, 20645.69]   NaN   NaN  \n",
       "(20645.69, 21732.2]    NaN   NaN  \n",
       "(22818.71, 23905.22]   NaN   NaN  \n",
       "(23905.22, 24991.73]   NaN   NaN  \n",
       "(24991.73, 26078.24]   NaN   NaN  \n",
       "(27164.75, 28251.26]   NaN   NaN  \n",
       "(45635.42, 46721.93]   NaN   NaN  \n",
       "(48894.95, 49981.46]   NaN   NaN  \n",
       "(59760.05, 60846.56]   NaN   NaN  \n",
       "(78230.72, 79317.23]   NaN   NaN  \n",
       "\n",
       "[28 rows x 36 columns]"
      ]
     },
     "execution_count": 22,
     "metadata": {},
     "output_type": "execute_result"
    }
   ],
   "source": [
    "# See if any comminalities can be found in the outages with no length\n",
    "filtered = formated_data[formated_data['OUTAGE.DURATION'] > 1]\n",
    "filtered['OUTAGE.DURATION'] = pd.cut(filtered['OUTAGE.DURATION'].dropna().astype(int), 100)\n",
    "filtered.pivot_table(index='OUTAGE.DURATION', columns='ANOMALY.LEVEL', values='DEMAND.LOSS.MW')"
   ]
  },
  {
   "cell_type": "code",
   "execution_count": 23,
   "metadata": {},
   "outputs": [
    {
     "data": {
      "text/html": [
       "<div>\n",
       "<style scoped>\n",
       "    .dataframe tbody tr th:only-of-type {\n",
       "        vertical-align: middle;\n",
       "    }\n",
       "\n",
       "    .dataframe tbody tr th {\n",
       "        vertical-align: top;\n",
       "    }\n",
       "\n",
       "    .dataframe thead th {\n",
       "        text-align: right;\n",
       "    }\n",
       "</style>\n",
       "<table border=\"1\" class=\"dataframe\">\n",
       "  <thead>\n",
       "    <tr style=\"text-align: right;\">\n",
       "      <th>NERC.REGION</th>\n",
       "      <th>ECAR</th>\n",
       "      <th>FRCC</th>\n",
       "      <th>FRCC, SERC</th>\n",
       "      <th>HECO</th>\n",
       "      <th>HI</th>\n",
       "      <th>MRO</th>\n",
       "      <th>NPCC</th>\n",
       "      <th>PR</th>\n",
       "      <th>RFC</th>\n",
       "      <th>SERC</th>\n",
       "      <th>SPP</th>\n",
       "      <th>TRE</th>\n",
       "      <th>WECC</th>\n",
       "    </tr>\n",
       "    <tr>\n",
       "      <th>OUTAGE.DURATION</th>\n",
       "      <th></th>\n",
       "      <th></th>\n",
       "      <th></th>\n",
       "      <th></th>\n",
       "      <th></th>\n",
       "      <th></th>\n",
       "      <th></th>\n",
       "      <th></th>\n",
       "      <th></th>\n",
       "      <th></th>\n",
       "      <th></th>\n",
       "      <th></th>\n",
       "      <th></th>\n",
       "    </tr>\n",
       "  </thead>\n",
       "  <tbody>\n",
       "    <tr>\n",
       "      <th>0.0</th>\n",
       "      <td>NaN</td>\n",
       "      <td>NaN</td>\n",
       "      <td>NaN</td>\n",
       "      <td>NaN</td>\n",
       "      <td>NaN</td>\n",
       "      <td>9.28</td>\n",
       "      <td>14.726154</td>\n",
       "      <td>NaN</td>\n",
       "      <td>10.987187</td>\n",
       "      <td>9.150000</td>\n",
       "      <td>9.56</td>\n",
       "      <td>8.56</td>\n",
       "      <td>7.220769</td>\n",
       "    </tr>\n",
       "    <tr>\n",
       "      <th>1.0</th>\n",
       "      <td>NaN</td>\n",
       "      <td>NaN</td>\n",
       "      <td>NaN</td>\n",
       "      <td>NaN</td>\n",
       "      <td>NaN</td>\n",
       "      <td>9.28</td>\n",
       "      <td>15.001538</td>\n",
       "      <td>NaN</td>\n",
       "      <td>10.768421</td>\n",
       "      <td>9.431667</td>\n",
       "      <td>NaN</td>\n",
       "      <td>9.04</td>\n",
       "      <td>9.304444</td>\n",
       "    </tr>\n",
       "    <tr>\n",
       "      <th>2.0</th>\n",
       "      <td>NaN</td>\n",
       "      <td>NaN</td>\n",
       "      <td>NaN</td>\n",
       "      <td>NaN</td>\n",
       "      <td>NaN</td>\n",
       "      <td>NaN</td>\n",
       "      <td>NaN</td>\n",
       "      <td>NaN</td>\n",
       "      <td>11.310000</td>\n",
       "      <td>8.800000</td>\n",
       "      <td>NaN</td>\n",
       "      <td>NaN</td>\n",
       "      <td>8.837500</td>\n",
       "    </tr>\n",
       "    <tr>\n",
       "      <th>3.0</th>\n",
       "      <td>NaN</td>\n",
       "      <td>NaN</td>\n",
       "      <td>NaN</td>\n",
       "      <td>NaN</td>\n",
       "      <td>NaN</td>\n",
       "      <td>NaN</td>\n",
       "      <td>NaN</td>\n",
       "      <td>NaN</td>\n",
       "      <td>8.880000</td>\n",
       "      <td>NaN</td>\n",
       "      <td>6.77</td>\n",
       "      <td>NaN</td>\n",
       "      <td>13.320000</td>\n",
       "    </tr>\n",
       "    <tr>\n",
       "      <th>4.0</th>\n",
       "      <td>NaN</td>\n",
       "      <td>NaN</td>\n",
       "      <td>NaN</td>\n",
       "      <td>NaN</td>\n",
       "      <td>NaN</td>\n",
       "      <td>6.20</td>\n",
       "      <td>NaN</td>\n",
       "      <td>NaN</td>\n",
       "      <td>NaN</td>\n",
       "      <td>NaN</td>\n",
       "      <td>NaN</td>\n",
       "      <td>NaN</td>\n",
       "      <td>8.350000</td>\n",
       "    </tr>\n",
       "    <tr>\n",
       "      <th>...</th>\n",
       "      <td>...</td>\n",
       "      <td>...</td>\n",
       "      <td>...</td>\n",
       "      <td>...</td>\n",
       "      <td>...</td>\n",
       "      <td>...</td>\n",
       "      <td>...</td>\n",
       "      <td>...</td>\n",
       "      <td>...</td>\n",
       "      <td>...</td>\n",
       "      <td>...</td>\n",
       "      <td>...</td>\n",
       "      <td>...</td>\n",
       "    </tr>\n",
       "    <tr>\n",
       "      <th>49320.0</th>\n",
       "      <td>NaN</td>\n",
       "      <td>NaN</td>\n",
       "      <td>NaN</td>\n",
       "      <td>NaN</td>\n",
       "      <td>NaN</td>\n",
       "      <td>NaN</td>\n",
       "      <td>NaN</td>\n",
       "      <td>NaN</td>\n",
       "      <td>NaN</td>\n",
       "      <td>NaN</td>\n",
       "      <td>NaN</td>\n",
       "      <td>NaN</td>\n",
       "      <td>7.910000</td>\n",
       "    </tr>\n",
       "    <tr>\n",
       "      <th>49427.0</th>\n",
       "      <td>NaN</td>\n",
       "      <td>NaN</td>\n",
       "      <td>NaN</td>\n",
       "      <td>NaN</td>\n",
       "      <td>NaN</td>\n",
       "      <td>NaN</td>\n",
       "      <td>NaN</td>\n",
       "      <td>NaN</td>\n",
       "      <td>NaN</td>\n",
       "      <td>NaN</td>\n",
       "      <td>NaN</td>\n",
       "      <td>NaN</td>\n",
       "      <td>14.340000</td>\n",
       "    </tr>\n",
       "    <tr>\n",
       "      <th>60480.0</th>\n",
       "      <td>NaN</td>\n",
       "      <td>NaN</td>\n",
       "      <td>NaN</td>\n",
       "      <td>NaN</td>\n",
       "      <td>NaN</td>\n",
       "      <td>NaN</td>\n",
       "      <td>17.810000</td>\n",
       "      <td>NaN</td>\n",
       "      <td>NaN</td>\n",
       "      <td>NaN</td>\n",
       "      <td>NaN</td>\n",
       "      <td>NaN</td>\n",
       "      <td>NaN</td>\n",
       "    </tr>\n",
       "    <tr>\n",
       "      <th>78377.0</th>\n",
       "      <td>NaN</td>\n",
       "      <td>NaN</td>\n",
       "      <td>NaN</td>\n",
       "      <td>NaN</td>\n",
       "      <td>NaN</td>\n",
       "      <td>NaN</td>\n",
       "      <td>NaN</td>\n",
       "      <td>NaN</td>\n",
       "      <td>8.840000</td>\n",
       "      <td>NaN</td>\n",
       "      <td>NaN</td>\n",
       "      <td>NaN</td>\n",
       "      <td>NaN</td>\n",
       "    </tr>\n",
       "    <tr>\n",
       "      <th>108653.0</th>\n",
       "      <td>NaN</td>\n",
       "      <td>NaN</td>\n",
       "      <td>NaN</td>\n",
       "      <td>NaN</td>\n",
       "      <td>NaN</td>\n",
       "      <td>NaN</td>\n",
       "      <td>NaN</td>\n",
       "      <td>NaN</td>\n",
       "      <td>10.280000</td>\n",
       "      <td>NaN</td>\n",
       "      <td>NaN</td>\n",
       "      <td>NaN</td>\n",
       "      <td>NaN</td>\n",
       "    </tr>\n",
       "  </tbody>\n",
       "</table>\n",
       "<p>847 rows × 13 columns</p>\n",
       "</div>"
      ],
      "text/plain": [
       "NERC.REGION      ECAR  FRCC  FRCC, SERC  HECO  HI   MRO       NPCC  PR  \\\n",
       "OUTAGE.DURATION                                                          \n",
       "0.0               NaN   NaN         NaN   NaN NaN  9.28  14.726154 NaN   \n",
       "1.0               NaN   NaN         NaN   NaN NaN  9.28  15.001538 NaN   \n",
       "2.0               NaN   NaN         NaN   NaN NaN   NaN        NaN NaN   \n",
       "3.0               NaN   NaN         NaN   NaN NaN   NaN        NaN NaN   \n",
       "4.0               NaN   NaN         NaN   NaN NaN  6.20        NaN NaN   \n",
       "...               ...   ...         ...   ...  ..   ...        ...  ..   \n",
       "49320.0           NaN   NaN         NaN   NaN NaN   NaN        NaN NaN   \n",
       "49427.0           NaN   NaN         NaN   NaN NaN   NaN        NaN NaN   \n",
       "60480.0           NaN   NaN         NaN   NaN NaN   NaN  17.810000 NaN   \n",
       "78377.0           NaN   NaN         NaN   NaN NaN   NaN        NaN NaN   \n",
       "108653.0          NaN   NaN         NaN   NaN NaN   NaN        NaN NaN   \n",
       "\n",
       "NERC.REGION            RFC      SERC   SPP   TRE       WECC  \n",
       "OUTAGE.DURATION                                              \n",
       "0.0              10.987187  9.150000  9.56  8.56   7.220769  \n",
       "1.0              10.768421  9.431667   NaN  9.04   9.304444  \n",
       "2.0              11.310000  8.800000   NaN   NaN   8.837500  \n",
       "3.0               8.880000       NaN  6.77   NaN  13.320000  \n",
       "4.0                    NaN       NaN   NaN   NaN   8.350000  \n",
       "...                    ...       ...   ...   ...        ...  \n",
       "49320.0                NaN       NaN   NaN   NaN   7.910000  \n",
       "49427.0                NaN       NaN   NaN   NaN  14.340000  \n",
       "60480.0                NaN       NaN   NaN   NaN        NaN  \n",
       "78377.0           8.840000       NaN   NaN   NaN        NaN  \n",
       "108653.0         10.280000       NaN   NaN   NaN        NaN  \n",
       "\n",
       "[847 rows x 13 columns]"
      ]
     },
     "execution_count": 23,
     "metadata": {},
     "output_type": "execute_result"
    }
   ],
   "source": [
    "pivoter = formated_data.copy()\n",
    "pivoter['OUTAGE.DURATION'] = pd.qcut(formated_data['OUTAGE.DURATION'], 10, labels=False)\n",
    "pivot2 = formated_data.pivot_table(index='OUTAGE.DURATION', columns='NERC.REGION', values='TOTAL.PRICE', aggfunc='mean')\n",
    "pivot2"
   ]
  },
  {
   "cell_type": "markdown",
   "metadata": {},
   "source": [
    "## Step 3: Assessment of Missingness"
   ]
  },
  {
   "cell_type": "markdown",
   "metadata": {},
   "source": [
    "To get a sense of missingess, make a dataframe with all the datapoints containing a missing value"
   ]
  },
  {
   "cell_type": "code",
   "execution_count": 24,
   "metadata": {
    "ExecuteTime": {
     "end_time": "2019-10-31T23:36:28.662099Z",
     "start_time": "2019-10-31T23:36:28.660016Z"
    }
   },
   "outputs": [],
   "source": [
    "def missing_points(df: pd.DataFrame):\n",
    "    hasna = np.repeat(False, df.shape[0])\n",
    "    for col in df.columns:\n",
    "        hasna = (hasna | df[col].isna())\n",
    "    return df.loc[hasna]\n",
    "\n",
    "# Define a function that returns the columns with any missing values\n",
    "missing_all = missing_points(formated_data)"
   ]
  },
  {
   "cell_type": "markdown",
   "metadata": {},
   "source": [
    "Since the hurricane name column only applies to very few data points, and is therefore nan for most (MD), drop that one to see which datapoints might contain some form of unintentional missingess"
   ]
  },
  {
   "cell_type": "code",
   "execution_count": 25,
   "metadata": {},
   "outputs": [
    {
     "data": {
      "text/plain": [
       "1039"
      ]
     },
     "execution_count": 25,
     "metadata": {},
     "output_type": "execute_result"
    }
   ],
   "source": [
    "no_hur_missing = missing_points(formated_data.drop(columns=['HURRICANE.NAMES']))\n",
    "no_hur_missing.shape[0]"
   ]
  },
  {
   "cell_type": "markdown",
   "metadata": {},
   "source": [
    "Find all of the columns that contain any missing data"
   ]
  },
  {
   "cell_type": "code",
   "execution_count": 26,
   "metadata": {},
   "outputs": [
    {
     "data": {
      "text/plain": [
       "Index(['MONTH', 'CLIMATE.REGION', 'ANOMALY.LEVEL', 'CLIMATE.CATEGORY',\n",
       "       'OUTAGE.START.DATE', 'OUTAGE.START.TIME', 'OUTAGE.RESTORATION.DATE',\n",
       "       'OUTAGE.RESTORATION.TIME', 'CAUSE.CATEGORY.DETAIL', 'HURRICANE.NAMES',\n",
       "       'OUTAGE.DURATION', 'DEMAND.LOSS.MW', 'CUSTOMERS.AFFECTED', 'RES.PRICE',\n",
       "       'COM.PRICE', 'IND.PRICE', 'TOTAL.PRICE', 'RES.SALES', 'COM.SALES',\n",
       "       'IND.SALES', 'TOTAL.SALES', 'RES.PERCEN', 'COM.PERCEN', 'IND.PERCEN',\n",
       "       'POPDEN_UC', 'POPDEN_RURAL', 'outageStart', 'outageEnd'],\n",
       "      dtype='object', name=4)"
      ]
     },
     "execution_count": 26,
     "metadata": {},
     "output_type": "execute_result"
    }
   ],
   "source": [
    "hasna = np.repeat(False, formated_data.shape[1])\n",
    "index = 0\n",
    "for col in formated_data.columns: # Check for missing values in each column\n",
    "    if np.any(formated_data[col].isna()):\n",
    "        hasna[index] = True\n",
    "    index += 1\n",
    "has_missing = formated_data.loc[:, hasna]\n",
    "has_missing.columns"
   ]
  },
  {
   "cell_type": "code",
   "execution_count": 27,
   "metadata": {},
   "outputs": [
    {
     "data": {
      "text/plain": [
       "Index(['OBS', 'YEAR', 'U.S._STATE', 'POSTAL.CODE', 'NERC.REGION',\n",
       "       'CAUSE.CATEGORY', 'RES.CUSTOMERS', 'COM.CUSTOMERS', 'IND.CUSTOMERS',\n",
       "       'TOTAL.CUSTOMERS', 'RES.CUST.PCT', 'COM.CUST.PCT', 'IND.CUST.PCT',\n",
       "       'PC.REALGSP.STATE', 'PC.REALGSP.USA', 'PC.REALGSP.REL',\n",
       "       'PC.REALGSP.CHANGE', 'UTIL.REALGSP', 'TOTAL.REALGSP', 'UTIL.CONTRI',\n",
       "       'PI.UTIL.OFUSA', 'POPULATION', 'POPPCT_URBAN', 'POPPCT_UC',\n",
       "       'POPDEN_URBAN', 'AREAPCT_URBAN', 'AREAPCT_UC', 'PCT_LAND',\n",
       "       'PCT_WATER_TOT', 'PCT_WATER_INLAND', 'UTIL_REL_PERCEN', 'REALGSP'],\n",
       "      dtype='object', name=4)"
      ]
     },
     "execution_count": 27,
     "metadata": {},
     "output_type": "execute_result"
    }
   ],
   "source": [
    "nomissing = formated_data.loc[:, ~hasna] # also check the inverse\n",
    "nomissing.columns"
   ]
  },
  {
   "cell_type": "markdown",
   "metadata": {},
   "source": [
    "Perhaps there is some kind of correlation with the states and the missing values, if some states store data differently"
   ]
  },
  {
   "cell_type": "code",
   "execution_count": 28,
   "metadata": {},
   "outputs": [
    {
     "name": "stderr",
     "output_type": "stream",
     "text": [
      "/Users/martinhawks/miniconda3/envs/dsc80/lib/python3.8/site-packages/pandas/core/indexing.py:1667: SettingWithCopyWarning:\n",
      "\n",
      "\n",
      "A value is trying to be set on a copy of a slice from a DataFrame.\n",
      "Try using .loc[row_indexer,col_indexer] = value instead\n",
      "\n",
      "See the caveats in the documentation: https://pandas.pydata.org/pandas-docs/stable/user_guide/indexing.html#returning-a-view-versus-a-copy\n",
      "\n"
     ]
    },
    {
     "data": {
      "text/html": [
       "<div>\n",
       "<style scoped>\n",
       "    .dataframe tbody tr th:only-of-type {\n",
       "        vertical-align: middle;\n",
       "    }\n",
       "\n",
       "    .dataframe tbody tr th {\n",
       "        vertical-align: top;\n",
       "    }\n",
       "\n",
       "    .dataframe thead th {\n",
       "        text-align: right;\n",
       "    }\n",
       "</style>\n",
       "<table border=\"1\" class=\"dataframe\">\n",
       "  <thead>\n",
       "    <tr style=\"text-align: right;\">\n",
       "      <th>4</th>\n",
       "      <th>DEMAND.LOSS.MW</th>\n",
       "      <th>Missing</th>\n",
       "    </tr>\n",
       "    <tr>\n",
       "      <th>POSTAL.CODE</th>\n",
       "      <th></th>\n",
       "      <th></th>\n",
       "    </tr>\n",
       "  </thead>\n",
       "  <tbody>\n",
       "    <tr>\n",
       "      <th>AK</th>\n",
       "      <td>35.0</td>\n",
       "      <td>0</td>\n",
       "    </tr>\n",
       "    <tr>\n",
       "      <th>AL</th>\n",
       "      <td>583.0</td>\n",
       "      <td>4</td>\n",
       "    </tr>\n",
       "    <tr>\n",
       "      <th>AR</th>\n",
       "      <td>1499.0</td>\n",
       "      <td>15</td>\n",
       "    </tr>\n",
       "    <tr>\n",
       "      <th>AZ</th>\n",
       "      <td>12457.0</td>\n",
       "      <td>18</td>\n",
       "    </tr>\n",
       "    <tr>\n",
       "      <th>CA</th>\n",
       "      <td>105480.0</td>\n",
       "      <td>52</td>\n",
       "    </tr>\n",
       "    <tr>\n",
       "      <th>CO</th>\n",
       "      <td>1701.0</td>\n",
       "      <td>4</td>\n",
       "    </tr>\n",
       "    <tr>\n",
       "      <th>CT</th>\n",
       "      <td>255.0</td>\n",
       "      <td>11</td>\n",
       "    </tr>\n",
       "    <tr>\n",
       "      <th>DC</th>\n",
       "      <td>3840.0</td>\n",
       "      <td>7</td>\n",
       "    </tr>\n",
       "    <tr>\n",
       "      <th>DE</th>\n",
       "      <td>95.0</td>\n",
       "      <td>18</td>\n",
       "    </tr>\n",
       "    <tr>\n",
       "      <th>FL</th>\n",
       "      <td>32183.0</td>\n",
       "      <td>5</td>\n",
       "    </tr>\n",
       "    <tr>\n",
       "      <th>GA</th>\n",
       "      <td>7916.0</td>\n",
       "      <td>1</td>\n",
       "    </tr>\n",
       "    <tr>\n",
       "      <th>HI</th>\n",
       "      <td>2680.0</td>\n",
       "      <td>0</td>\n",
       "    </tr>\n",
       "    <tr>\n",
       "      <th>IA</th>\n",
       "      <td>1350.0</td>\n",
       "      <td>4</td>\n",
       "    </tr>\n",
       "    <tr>\n",
       "      <th>ID</th>\n",
       "      <td>932.0</td>\n",
       "      <td>1</td>\n",
       "    </tr>\n",
       "    <tr>\n",
       "      <th>IL</th>\n",
       "      <td>1928.0</td>\n",
       "      <td>37</td>\n",
       "    </tr>\n",
       "    <tr>\n",
       "      <th>IN</th>\n",
       "      <td>6332.0</td>\n",
       "      <td>22</td>\n",
       "    </tr>\n",
       "    <tr>\n",
       "      <th>KS</th>\n",
       "      <td>1250.0</td>\n",
       "      <td>4</td>\n",
       "    </tr>\n",
       "    <tr>\n",
       "      <th>KY</th>\n",
       "      <td>1035.0</td>\n",
       "      <td>8</td>\n",
       "    </tr>\n",
       "    <tr>\n",
       "      <th>LA</th>\n",
       "      <td>3816.0</td>\n",
       "      <td>23</td>\n",
       "    </tr>\n",
       "    <tr>\n",
       "      <th>MA</th>\n",
       "      <td>23922.0</td>\n",
       "      <td>8</td>\n",
       "    </tr>\n",
       "    <tr>\n",
       "      <th>MD</th>\n",
       "      <td>11440.0</td>\n",
       "      <td>26</td>\n",
       "    </tr>\n",
       "    <tr>\n",
       "      <th>ME</th>\n",
       "      <td>305.0</td>\n",
       "      <td>11</td>\n",
       "    </tr>\n",
       "    <tr>\n",
       "      <th>MI</th>\n",
       "      <td>35524.0</td>\n",
       "      <td>44</td>\n",
       "    </tr>\n",
       "    <tr>\n",
       "      <th>MN</th>\n",
       "      <td>345.0</td>\n",
       "      <td>10</td>\n",
       "    </tr>\n",
       "    <tr>\n",
       "      <th>MO</th>\n",
       "      <td>1721.0</td>\n",
       "      <td>6</td>\n",
       "    </tr>\n",
       "    <tr>\n",
       "      <th>MS</th>\n",
       "      <td>30.0</td>\n",
       "      <td>2</td>\n",
       "    </tr>\n",
       "    <tr>\n",
       "      <th>MT</th>\n",
       "      <td>0.0</td>\n",
       "      <td>3</td>\n",
       "    </tr>\n",
       "    <tr>\n",
       "      <th>NC</th>\n",
       "      <td>24688.0</td>\n",
       "      <td>13</td>\n",
       "    </tr>\n",
       "    <tr>\n",
       "      <th>ND</th>\n",
       "      <td>1805.0</td>\n",
       "      <td>0</td>\n",
       "    </tr>\n",
       "    <tr>\n",
       "      <th>NE</th>\n",
       "      <td>1543.0</td>\n",
       "      <td>0</td>\n",
       "    </tr>\n",
       "    <tr>\n",
       "      <th>NH</th>\n",
       "      <td>0.0</td>\n",
       "      <td>5</td>\n",
       "    </tr>\n",
       "    <tr>\n",
       "      <th>NJ</th>\n",
       "      <td>2521.0</td>\n",
       "      <td>17</td>\n",
       "    </tr>\n",
       "    <tr>\n",
       "      <th>NM</th>\n",
       "      <td>1040.0</td>\n",
       "      <td>5</td>\n",
       "    </tr>\n",
       "    <tr>\n",
       "      <th>NV</th>\n",
       "      <td>56.0</td>\n",
       "      <td>3</td>\n",
       "    </tr>\n",
       "    <tr>\n",
       "      <th>NY</th>\n",
       "      <td>43627.0</td>\n",
       "      <td>37</td>\n",
       "    </tr>\n",
       "    <tr>\n",
       "      <th>OH</th>\n",
       "      <td>23261.0</td>\n",
       "      <td>21</td>\n",
       "    </tr>\n",
       "    <tr>\n",
       "      <th>OK</th>\n",
       "      <td>1785.0</td>\n",
       "      <td>14</td>\n",
       "    </tr>\n",
       "    <tr>\n",
       "      <th>OR</th>\n",
       "      <td>604.0</td>\n",
       "      <td>17</td>\n",
       "    </tr>\n",
       "    <tr>\n",
       "      <th>PA</th>\n",
       "      <td>4280.0</td>\n",
       "      <td>38</td>\n",
       "    </tr>\n",
       "    <tr>\n",
       "      <th>SC</th>\n",
       "      <td>11898.0</td>\n",
       "      <td>1</td>\n",
       "    </tr>\n",
       "    <tr>\n",
       "      <th>SD</th>\n",
       "      <td>457.0</td>\n",
       "      <td>0</td>\n",
       "    </tr>\n",
       "    <tr>\n",
       "      <th>TN</th>\n",
       "      <td>4630.0</td>\n",
       "      <td>21</td>\n",
       "    </tr>\n",
       "    <tr>\n",
       "      <th>TX</th>\n",
       "      <td>33125.0</td>\n",
       "      <td>67</td>\n",
       "    </tr>\n",
       "    <tr>\n",
       "      <th>UT</th>\n",
       "      <td>3907.0</td>\n",
       "      <td>20</td>\n",
       "    </tr>\n",
       "    <tr>\n",
       "      <th>VA</th>\n",
       "      <td>15639.0</td>\n",
       "      <td>7</td>\n",
       "    </tr>\n",
       "    <tr>\n",
       "      <th>VT</th>\n",
       "      <td>0.0</td>\n",
       "      <td>4</td>\n",
       "    </tr>\n",
       "    <tr>\n",
       "      <th>WA</th>\n",
       "      <td>8782.0</td>\n",
       "      <td>56</td>\n",
       "    </tr>\n",
       "    <tr>\n",
       "      <th>WI</th>\n",
       "      <td>1449.0</td>\n",
       "      <td>11</td>\n",
       "    </tr>\n",
       "    <tr>\n",
       "      <th>WV</th>\n",
       "      <td>724.0</td>\n",
       "      <td>2</td>\n",
       "    </tr>\n",
       "    <tr>\n",
       "      <th>WY</th>\n",
       "      <td>107.0</td>\n",
       "      <td>2</td>\n",
       "    </tr>\n",
       "  </tbody>\n",
       "</table>\n",
       "</div>"
      ],
      "text/plain": [
       "4            DEMAND.LOSS.MW  Missing\n",
       "POSTAL.CODE                         \n",
       "AK                     35.0        0\n",
       "AL                    583.0        4\n",
       "AR                   1499.0       15\n",
       "AZ                  12457.0       18\n",
       "CA                 105480.0       52\n",
       "CO                   1701.0        4\n",
       "CT                    255.0       11\n",
       "DC                   3840.0        7\n",
       "DE                     95.0       18\n",
       "FL                  32183.0        5\n",
       "GA                   7916.0        1\n",
       "HI                   2680.0        0\n",
       "IA                   1350.0        4\n",
       "ID                    932.0        1\n",
       "IL                   1928.0       37\n",
       "IN                   6332.0       22\n",
       "KS                   1250.0        4\n",
       "KY                   1035.0        8\n",
       "LA                   3816.0       23\n",
       "MA                  23922.0        8\n",
       "MD                  11440.0       26\n",
       "ME                    305.0       11\n",
       "MI                  35524.0       44\n",
       "MN                    345.0       10\n",
       "MO                   1721.0        6\n",
       "MS                     30.0        2\n",
       "MT                      0.0        3\n",
       "NC                  24688.0       13\n",
       "ND                   1805.0        0\n",
       "NE                   1543.0        0\n",
       "NH                      0.0        5\n",
       "NJ                   2521.0       17\n",
       "NM                   1040.0        5\n",
       "NV                     56.0        3\n",
       "NY                  43627.0       37\n",
       "OH                  23261.0       21\n",
       "OK                   1785.0       14\n",
       "OR                    604.0       17\n",
       "PA                   4280.0       38\n",
       "SC                  11898.0        1\n",
       "SD                    457.0        0\n",
       "TN                   4630.0       21\n",
       "TX                  33125.0       67\n",
       "UT                   3907.0       20\n",
       "VA                  15639.0        7\n",
       "VT                      0.0        4\n",
       "WA                   8782.0       56\n",
       "WI                   1449.0       11\n",
       "WV                    724.0        2\n",
       "WY                    107.0        2"
      ]
     },
     "execution_count": 28,
     "metadata": {},
     "output_type": "execute_result"
    }
   ],
   "source": [
    "# make a table of the missing values by state\n",
    "formated_data['DEMAND.LOSS.MW'].isna()\n",
    "formated_data['POSTAL.CODE']\n",
    "postal_loss = formated_data[['POSTAL.CODE', 'DEMAND.LOSS.MW']]\n",
    "postal_loss.loc[:, 'Missing'] = postal_loss['DEMAND.LOSS.MW'].isna()\n",
    "postal_loss = postal_loss.groupby('POSTAL.CODE').sum()\n",
    "postal_loss"
   ]
  },
  {
   "cell_type": "markdown",
   "metadata": {},
   "source": [
    "Is there perhaps an association between the wealth of the state and the quality of the data? This could be a potential source of bias in the data - if the data is missing in states with lower GDP, the data might have a bias when predicting on certain states."
   ]
  },
  {
   "cell_type": "code",
   "execution_count": 29,
   "metadata": {},
   "outputs": [
    {
     "data": {
      "application/vnd.plotly.v1+json": {
       "config": {
        "plotlyServerURL": "https://plot.ly"
       },
       "data": [
        {
         "hovertemplate": "TOTAL.REALGSP=%{x}<br>Missing_prop=%{y}<extra></extra>",
         "legendgroup": "",
         "marker": {
          "color": "#636efa",
          "symbol": "circle"
         },
         "mode": "markers",
         "name": "",
         "orientation": "v",
         "showlegend": false,
         "type": "scatter",
         "x": [
          36046,
          164484.5,
          104800.4,
          246157.4642857143,
          1983824.9857142856,
          260726,
          228478.5,
          101747.1,
          57398.68292682927,
          742119.7333333333,
          412615.64705882355,
          66583.6,
          147701.25,
          55947.444444444445,
          655010.8260869565,
          280322.3953488372,
          129275,
          161828.46153846153,
          211392.75,
          404807.77777777775,
          308493.5344827586,
          50464.21052631579,
          406114.22105263156,
          278526,
          253123.82352941178,
          94217.25,
          38502,
          409648.95,
          33467.5,
          85339.5,
          63069.142857142855,
          493592.4,
          81428.25,
          121733.57142857143,
          1182959.4225352113,
          505881.1395348837,
          157959.625,
          192935.57692307694,
          588183.6842105263,
          161923.375,
          36504,
          270282.0294117647,
          1251471.598425197,
          125277.43902439025,
          408021.2702702703,
          26933.777777777777,
          369812.07216494845,
          261877.75,
          66403.75,
          36078.166666666664
         ],
         "xaxis": "x",
         "y": [
          0,
          0.6666666666666666,
          0.6,
          0.6428571428571429,
          0.24761904761904763,
          0.26666666666666666,
          0.6111111111111112,
          0.7,
          0.43902439024390244,
          0.1111111111111111,
          0.058823529411764705,
          0,
          0.5,
          0.1111111111111111,
          0.8043478260869565,
          0.5116279069767442,
          0.4444444444444444,
          0.6153846153846154,
          0.575,
          0.4444444444444444,
          0.4482758620689655,
          0.5789473684210527,
          0.4631578947368421,
          0.6666666666666666,
          0.35294117647058826,
          0.5,
          1,
          0.325,
          0,
          0,
          0.35714285714285715,
          0.4857142857142857,
          0.625,
          0.42857142857142855,
          0.5211267605633803,
          0.4883720930232558,
          0.5833333333333334,
          0.6538461538461539,
          0.6666666666666666,
          0.125,
          0,
          0.6176470588235294,
          0.5275590551181102,
          0.4878048780487805,
          0.1891891891891892,
          0.4444444444444444,
          0.5773195876288659,
          0.55,
          0.5,
          0.3333333333333333
         ],
         "yaxis": "y"
        }
       ],
       "layout": {
        "legend": {
         "tracegroupgap": 0
        },
        "template": {
         "data": {
          "bar": [
           {
            "error_x": {
             "color": "#2a3f5f"
            },
            "error_y": {
             "color": "#2a3f5f"
            },
            "marker": {
             "line": {
              "color": "#E5ECF6",
              "width": 0.5
             },
             "pattern": {
              "fillmode": "overlay",
              "size": 10,
              "solidity": 0.2
             }
            },
            "type": "bar"
           }
          ],
          "barpolar": [
           {
            "marker": {
             "line": {
              "color": "#E5ECF6",
              "width": 0.5
             },
             "pattern": {
              "fillmode": "overlay",
              "size": 10,
              "solidity": 0.2
             }
            },
            "type": "barpolar"
           }
          ],
          "carpet": [
           {
            "aaxis": {
             "endlinecolor": "#2a3f5f",
             "gridcolor": "white",
             "linecolor": "white",
             "minorgridcolor": "white",
             "startlinecolor": "#2a3f5f"
            },
            "baxis": {
             "endlinecolor": "#2a3f5f",
             "gridcolor": "white",
             "linecolor": "white",
             "minorgridcolor": "white",
             "startlinecolor": "#2a3f5f"
            },
            "type": "carpet"
           }
          ],
          "choropleth": [
           {
            "colorbar": {
             "outlinewidth": 0,
             "ticks": ""
            },
            "type": "choropleth"
           }
          ],
          "contour": [
           {
            "colorbar": {
             "outlinewidth": 0,
             "ticks": ""
            },
            "colorscale": [
             [
              0,
              "#0d0887"
             ],
             [
              0.1111111111111111,
              "#46039f"
             ],
             [
              0.2222222222222222,
              "#7201a8"
             ],
             [
              0.3333333333333333,
              "#9c179e"
             ],
             [
              0.4444444444444444,
              "#bd3786"
             ],
             [
              0.5555555555555556,
              "#d8576b"
             ],
             [
              0.6666666666666666,
              "#ed7953"
             ],
             [
              0.7777777777777778,
              "#fb9f3a"
             ],
             [
              0.8888888888888888,
              "#fdca26"
             ],
             [
              1,
              "#f0f921"
             ]
            ],
            "type": "contour"
           }
          ],
          "contourcarpet": [
           {
            "colorbar": {
             "outlinewidth": 0,
             "ticks": ""
            },
            "type": "contourcarpet"
           }
          ],
          "heatmap": [
           {
            "colorbar": {
             "outlinewidth": 0,
             "ticks": ""
            },
            "colorscale": [
             [
              0,
              "#0d0887"
             ],
             [
              0.1111111111111111,
              "#46039f"
             ],
             [
              0.2222222222222222,
              "#7201a8"
             ],
             [
              0.3333333333333333,
              "#9c179e"
             ],
             [
              0.4444444444444444,
              "#bd3786"
             ],
             [
              0.5555555555555556,
              "#d8576b"
             ],
             [
              0.6666666666666666,
              "#ed7953"
             ],
             [
              0.7777777777777778,
              "#fb9f3a"
             ],
             [
              0.8888888888888888,
              "#fdca26"
             ],
             [
              1,
              "#f0f921"
             ]
            ],
            "type": "heatmap"
           }
          ],
          "heatmapgl": [
           {
            "colorbar": {
             "outlinewidth": 0,
             "ticks": ""
            },
            "colorscale": [
             [
              0,
              "#0d0887"
             ],
             [
              0.1111111111111111,
              "#46039f"
             ],
             [
              0.2222222222222222,
              "#7201a8"
             ],
             [
              0.3333333333333333,
              "#9c179e"
             ],
             [
              0.4444444444444444,
              "#bd3786"
             ],
             [
              0.5555555555555556,
              "#d8576b"
             ],
             [
              0.6666666666666666,
              "#ed7953"
             ],
             [
              0.7777777777777778,
              "#fb9f3a"
             ],
             [
              0.8888888888888888,
              "#fdca26"
             ],
             [
              1,
              "#f0f921"
             ]
            ],
            "type": "heatmapgl"
           }
          ],
          "histogram": [
           {
            "marker": {
             "pattern": {
              "fillmode": "overlay",
              "size": 10,
              "solidity": 0.2
             }
            },
            "type": "histogram"
           }
          ],
          "histogram2d": [
           {
            "colorbar": {
             "outlinewidth": 0,
             "ticks": ""
            },
            "colorscale": [
             [
              0,
              "#0d0887"
             ],
             [
              0.1111111111111111,
              "#46039f"
             ],
             [
              0.2222222222222222,
              "#7201a8"
             ],
             [
              0.3333333333333333,
              "#9c179e"
             ],
             [
              0.4444444444444444,
              "#bd3786"
             ],
             [
              0.5555555555555556,
              "#d8576b"
             ],
             [
              0.6666666666666666,
              "#ed7953"
             ],
             [
              0.7777777777777778,
              "#fb9f3a"
             ],
             [
              0.8888888888888888,
              "#fdca26"
             ],
             [
              1,
              "#f0f921"
             ]
            ],
            "type": "histogram2d"
           }
          ],
          "histogram2dcontour": [
           {
            "colorbar": {
             "outlinewidth": 0,
             "ticks": ""
            },
            "colorscale": [
             [
              0,
              "#0d0887"
             ],
             [
              0.1111111111111111,
              "#46039f"
             ],
             [
              0.2222222222222222,
              "#7201a8"
             ],
             [
              0.3333333333333333,
              "#9c179e"
             ],
             [
              0.4444444444444444,
              "#bd3786"
             ],
             [
              0.5555555555555556,
              "#d8576b"
             ],
             [
              0.6666666666666666,
              "#ed7953"
             ],
             [
              0.7777777777777778,
              "#fb9f3a"
             ],
             [
              0.8888888888888888,
              "#fdca26"
             ],
             [
              1,
              "#f0f921"
             ]
            ],
            "type": "histogram2dcontour"
           }
          ],
          "mesh3d": [
           {
            "colorbar": {
             "outlinewidth": 0,
             "ticks": ""
            },
            "type": "mesh3d"
           }
          ],
          "parcoords": [
           {
            "line": {
             "colorbar": {
              "outlinewidth": 0,
              "ticks": ""
             }
            },
            "type": "parcoords"
           }
          ],
          "pie": [
           {
            "automargin": true,
            "type": "pie"
           }
          ],
          "scatter": [
           {
            "fillpattern": {
             "fillmode": "overlay",
             "size": 10,
             "solidity": 0.2
            },
            "type": "scatter"
           }
          ],
          "scatter3d": [
           {
            "line": {
             "colorbar": {
              "outlinewidth": 0,
              "ticks": ""
             }
            },
            "marker": {
             "colorbar": {
              "outlinewidth": 0,
              "ticks": ""
             }
            },
            "type": "scatter3d"
           }
          ],
          "scattercarpet": [
           {
            "marker": {
             "colorbar": {
              "outlinewidth": 0,
              "ticks": ""
             }
            },
            "type": "scattercarpet"
           }
          ],
          "scattergeo": [
           {
            "marker": {
             "colorbar": {
              "outlinewidth": 0,
              "ticks": ""
             }
            },
            "type": "scattergeo"
           }
          ],
          "scattergl": [
           {
            "marker": {
             "colorbar": {
              "outlinewidth": 0,
              "ticks": ""
             }
            },
            "type": "scattergl"
           }
          ],
          "scattermapbox": [
           {
            "marker": {
             "colorbar": {
              "outlinewidth": 0,
              "ticks": ""
             }
            },
            "type": "scattermapbox"
           }
          ],
          "scatterpolar": [
           {
            "marker": {
             "colorbar": {
              "outlinewidth": 0,
              "ticks": ""
             }
            },
            "type": "scatterpolar"
           }
          ],
          "scatterpolargl": [
           {
            "marker": {
             "colorbar": {
              "outlinewidth": 0,
              "ticks": ""
             }
            },
            "type": "scatterpolargl"
           }
          ],
          "scatterternary": [
           {
            "marker": {
             "colorbar": {
              "outlinewidth": 0,
              "ticks": ""
             }
            },
            "type": "scatterternary"
           }
          ],
          "surface": [
           {
            "colorbar": {
             "outlinewidth": 0,
             "ticks": ""
            },
            "colorscale": [
             [
              0,
              "#0d0887"
             ],
             [
              0.1111111111111111,
              "#46039f"
             ],
             [
              0.2222222222222222,
              "#7201a8"
             ],
             [
              0.3333333333333333,
              "#9c179e"
             ],
             [
              0.4444444444444444,
              "#bd3786"
             ],
             [
              0.5555555555555556,
              "#d8576b"
             ],
             [
              0.6666666666666666,
              "#ed7953"
             ],
             [
              0.7777777777777778,
              "#fb9f3a"
             ],
             [
              0.8888888888888888,
              "#fdca26"
             ],
             [
              1,
              "#f0f921"
             ]
            ],
            "type": "surface"
           }
          ],
          "table": [
           {
            "cells": {
             "fill": {
              "color": "#EBF0F8"
             },
             "line": {
              "color": "white"
             }
            },
            "header": {
             "fill": {
              "color": "#C8D4E3"
             },
             "line": {
              "color": "white"
             }
            },
            "type": "table"
           }
          ]
         },
         "layout": {
          "annotationdefaults": {
           "arrowcolor": "#2a3f5f",
           "arrowhead": 0,
           "arrowwidth": 1
          },
          "autotypenumbers": "strict",
          "coloraxis": {
           "colorbar": {
            "outlinewidth": 0,
            "ticks": ""
           }
          },
          "colorscale": {
           "diverging": [
            [
             0,
             "#8e0152"
            ],
            [
             0.1,
             "#c51b7d"
            ],
            [
             0.2,
             "#de77ae"
            ],
            [
             0.3,
             "#f1b6da"
            ],
            [
             0.4,
             "#fde0ef"
            ],
            [
             0.5,
             "#f7f7f7"
            ],
            [
             0.6,
             "#e6f5d0"
            ],
            [
             0.7,
             "#b8e186"
            ],
            [
             0.8,
             "#7fbc41"
            ],
            [
             0.9,
             "#4d9221"
            ],
            [
             1,
             "#276419"
            ]
           ],
           "sequential": [
            [
             0,
             "#0d0887"
            ],
            [
             0.1111111111111111,
             "#46039f"
            ],
            [
             0.2222222222222222,
             "#7201a8"
            ],
            [
             0.3333333333333333,
             "#9c179e"
            ],
            [
             0.4444444444444444,
             "#bd3786"
            ],
            [
             0.5555555555555556,
             "#d8576b"
            ],
            [
             0.6666666666666666,
             "#ed7953"
            ],
            [
             0.7777777777777778,
             "#fb9f3a"
            ],
            [
             0.8888888888888888,
             "#fdca26"
            ],
            [
             1,
             "#f0f921"
            ]
           ],
           "sequentialminus": [
            [
             0,
             "#0d0887"
            ],
            [
             0.1111111111111111,
             "#46039f"
            ],
            [
             0.2222222222222222,
             "#7201a8"
            ],
            [
             0.3333333333333333,
             "#9c179e"
            ],
            [
             0.4444444444444444,
             "#bd3786"
            ],
            [
             0.5555555555555556,
             "#d8576b"
            ],
            [
             0.6666666666666666,
             "#ed7953"
            ],
            [
             0.7777777777777778,
             "#fb9f3a"
            ],
            [
             0.8888888888888888,
             "#fdca26"
            ],
            [
             1,
             "#f0f921"
            ]
           ]
          },
          "colorway": [
           "#636efa",
           "#EF553B",
           "#00cc96",
           "#ab63fa",
           "#FFA15A",
           "#19d3f3",
           "#FF6692",
           "#B6E880",
           "#FF97FF",
           "#FECB52"
          ],
          "font": {
           "color": "#2a3f5f"
          },
          "geo": {
           "bgcolor": "white",
           "lakecolor": "white",
           "landcolor": "#E5ECF6",
           "showlakes": true,
           "showland": true,
           "subunitcolor": "white"
          },
          "hoverlabel": {
           "align": "left"
          },
          "hovermode": "closest",
          "mapbox": {
           "style": "light"
          },
          "paper_bgcolor": "white",
          "plot_bgcolor": "#E5ECF6",
          "polar": {
           "angularaxis": {
            "gridcolor": "white",
            "linecolor": "white",
            "ticks": ""
           },
           "bgcolor": "#E5ECF6",
           "radialaxis": {
            "gridcolor": "white",
            "linecolor": "white",
            "ticks": ""
           }
          },
          "scene": {
           "xaxis": {
            "backgroundcolor": "#E5ECF6",
            "gridcolor": "white",
            "gridwidth": 2,
            "linecolor": "white",
            "showbackground": true,
            "ticks": "",
            "zerolinecolor": "white"
           },
           "yaxis": {
            "backgroundcolor": "#E5ECF6",
            "gridcolor": "white",
            "gridwidth": 2,
            "linecolor": "white",
            "showbackground": true,
            "ticks": "",
            "zerolinecolor": "white"
           },
           "zaxis": {
            "backgroundcolor": "#E5ECF6",
            "gridcolor": "white",
            "gridwidth": 2,
            "linecolor": "white",
            "showbackground": true,
            "ticks": "",
            "zerolinecolor": "white"
           }
          },
          "shapedefaults": {
           "line": {
            "color": "#2a3f5f"
           }
          },
          "ternary": {
           "aaxis": {
            "gridcolor": "white",
            "linecolor": "white",
            "ticks": ""
           },
           "baxis": {
            "gridcolor": "white",
            "linecolor": "white",
            "ticks": ""
           },
           "bgcolor": "#E5ECF6",
           "caxis": {
            "gridcolor": "white",
            "linecolor": "white",
            "ticks": ""
           }
          },
          "title": {
           "x": 0.05
          },
          "xaxis": {
           "automargin": true,
           "gridcolor": "white",
           "linecolor": "white",
           "ticks": "",
           "title": {
            "standoff": 15
           },
           "zerolinecolor": "white",
           "zerolinewidth": 2
          },
          "yaxis": {
           "automargin": true,
           "gridcolor": "white",
           "linecolor": "white",
           "ticks": "",
           "title": {
            "standoff": 15
           },
           "zerolinecolor": "white",
           "zerolinewidth": 2
          }
         }
        },
        "title": {
         "text": "Missing Demand Loss by Real GSP"
        },
        "xaxis": {
         "anchor": "y",
         "domain": [
          0,
          1
         ],
         "title": {
          "text": "TOTAL.REALGSP"
         }
        },
        "yaxis": {
         "anchor": "x",
         "domain": [
          0,
          1
         ],
         "title": {
          "text": "Missing_prop"
         }
        }
       }
      }
     },
     "metadata": {},
     "output_type": "display_data"
    }
   ],
   "source": [
    "\n",
    "# Merge the 'postal_loss' DataFrame with the mean of 'TOTAL.REALGSP' grouped by 'POSTAL.CODE'\n",
    "gsp_postal_missing = postal_loss.merge(formated_data.groupby('POSTAL.CODE')['TOTAL.REALGSP'].mean(), left_index=True, right_index=True)\n",
    "\n",
    "# Add a new column 'Totals' to 'gsp_postal_missing' DataFrame, which represents the count of observations per 'POSTAL.CODE'\n",
    "gsp_postal_missing['Totals'] = formated_data.groupby('POSTAL.CODE').count()['OBS']\n",
    "\n",
    "# Calculate the proportion of missing values per 'POSTAL.CODE' and store it in the 'Missing_prop' column of 'gsp_postal_missing' DataFrame\n",
    "gsp_postal_missing['Missing_prop'] = gsp_postal_missing['Missing'] / gsp_postal_missing['Totals']\n",
    "\n",
    "# Create a scatter plot using the 'px.scatter' function from the Plotly Express library\n",
    "# The x-axis represents the mean of 'TOTAL.REALGSP' per 'POSTAL.CODE'\n",
    "# The y-axis represents the proportion of missing values per 'POSTAL.CODE'\n",
    "# The title of the plot is set to 'Missing Demand Loss by Real GSP'\n",
    "px.scatter(gsp_postal_missing, x='TOTAL.REALGSP', y='Missing_prop', title='Missing Demand Loss by Real GSP')"
   ]
  },
  {
   "cell_type": "markdown",
   "metadata": {},
   "source": [
    "Perhaps a weak correlation? Run a test to see if the correlation is significant."
   ]
  },
  {
   "cell_type": "code",
   "execution_count": 30,
   "metadata": {},
   "outputs": [
    {
     "data": {
      "text/plain": [
       "PearsonRResult(statistic=0.01487506360937882, pvalue=0.9183377304861762)"
      ]
     },
     "execution_count": 30,
     "metadata": {},
     "output_type": "execute_result"
    }
   ],
   "source": [
    "stats.pearsonr(gsp_postal_missing['TOTAL.REALGSP'], gsp_postal_missing['Missing_prop'])"
   ]
  },
  {
   "cell_type": "markdown",
   "metadata": {},
   "source": [
    "Clearly, there is no correlation between missingness of the peak demand loss and the total GSP of each state."
   ]
  },
  {
   "cell_type": "markdown",
   "metadata": {},
   "source": [
    "test against NERC region as well"
   ]
  },
  {
   "cell_type": "code",
   "execution_count": 31,
   "metadata": {},
   "outputs": [
    {
     "data": {
      "text/html": [
       "<div>\n",
       "<style scoped>\n",
       "    .dataframe tbody tr th:only-of-type {\n",
       "        vertical-align: middle;\n",
       "    }\n",
       "\n",
       "    .dataframe tbody tr th {\n",
       "        vertical-align: top;\n",
       "    }\n",
       "\n",
       "    .dataframe thead th {\n",
       "        text-align: right;\n",
       "    }\n",
       "</style>\n",
       "<table border=\"1\" class=\"dataframe\">\n",
       "  <thead>\n",
       "    <tr style=\"text-align: right;\">\n",
       "      <th></th>\n",
       "      <th>Missing_prop</th>\n",
       "      <th>OBS_x</th>\n",
       "    </tr>\n",
       "    <tr>\n",
       "      <th>NERC.REGION</th>\n",
       "      <th></th>\n",
       "      <th></th>\n",
       "    </tr>\n",
       "  </thead>\n",
       "  <tbody>\n",
       "    <tr>\n",
       "      <th>ASCC</th>\n",
       "      <td>0.000000</td>\n",
       "      <td>1534</td>\n",
       "    </tr>\n",
       "    <tr>\n",
       "      <th>ECAR</th>\n",
       "      <td>0.088235</td>\n",
       "      <td>14024</td>\n",
       "    </tr>\n",
       "    <tr>\n",
       "      <th>FRCC</th>\n",
       "      <td>0.090909</td>\n",
       "      <td>45540</td>\n",
       "    </tr>\n",
       "    <tr>\n",
       "      <th>FRCC, SERC</th>\n",
       "      <td>1.000000</td>\n",
       "      <td>1047</td>\n",
       "    </tr>\n",
       "    <tr>\n",
       "      <th>HECO</th>\n",
       "      <td>0.000000</td>\n",
       "      <td>4557</td>\n",
       "    </tr>\n",
       "    <tr>\n",
       "      <th>HI</th>\n",
       "      <td>0.000000</td>\n",
       "      <td>1516</td>\n",
       "    </tr>\n",
       "    <tr>\n",
       "      <th>MRO</th>\n",
       "      <td>0.565217</td>\n",
       "      <td>19137</td>\n",
       "    </tr>\n",
       "    <tr>\n",
       "      <th>NPCC</th>\n",
       "      <td>0.513333</td>\n",
       "      <td>180347</td>\n",
       "    </tr>\n",
       "    <tr>\n",
       "      <th>PR</th>\n",
       "      <td>0.000000</td>\n",
       "      <td>1517</td>\n",
       "    </tr>\n",
       "    <tr>\n",
       "      <th>RFC</th>\n",
       "      <td>0.548926</td>\n",
       "      <td>222443</td>\n",
       "    </tr>\n",
       "    <tr>\n",
       "      <th>SERC</th>\n",
       "      <td>0.400000</td>\n",
       "      <td>163380</td>\n",
       "    </tr>\n",
       "    <tr>\n",
       "      <th>SPP</th>\n",
       "      <td>0.641791</td>\n",
       "      <td>78424</td>\n",
       "    </tr>\n",
       "    <tr>\n",
       "      <th>TRE</th>\n",
       "      <td>0.549550</td>\n",
       "      <td>25821</td>\n",
       "    </tr>\n",
       "    <tr>\n",
       "      <th>WECC</th>\n",
       "      <td>0.394678</td>\n",
       "      <td>418058</td>\n",
       "    </tr>\n",
       "  </tbody>\n",
       "</table>\n",
       "</div>"
      ],
      "text/plain": [
       "             Missing_prop   OBS_x\n",
       "NERC.REGION                      \n",
       "ASCC             0.000000    1534\n",
       "ECAR             0.088235   14024\n",
       "FRCC             0.090909   45540\n",
       "FRCC, SERC       1.000000    1047\n",
       "HECO             0.000000    4557\n",
       "HI               0.000000    1516\n",
       "MRO              0.565217   19137\n",
       "NPCC             0.513333  180347\n",
       "PR               0.000000    1517\n",
       "RFC              0.548926  222443\n",
       "SERC             0.400000  163380\n",
       "SPP              0.641791   78424\n",
       "TRE              0.549550   25821\n",
       "WECC             0.394678  418058"
      ]
     },
     "execution_count": 31,
     "metadata": {},
     "output_type": "execute_result"
    }
   ],
   "source": [
    "# Create a copy of the 'formated_data' DataFrame\n",
    "missing_nerc = formated_data.copy()\n",
    "\n",
    "# Calculate the missing values per NERC region\n",
    "missing_nerc.loc[:, 'NERC'] = missing_nerc['DEMAND.LOSS.MW'].isna()\n",
    "missing_nerc = missing_nerc.groupby('NERC.REGION').sum()\n",
    "\n",
    "# Calculate the proportion of missing values per NERC region\n",
    "missing_nerc['Missing_prop'] = missing_nerc['NERC'] / formated_data.groupby('NERC.REGION').count()['OBS']\n",
    "\n",
    "# Merge the missing values DataFrame with the count of observations per NERC region\n",
    "missing_nerc = missing_nerc.merge(formated_data.groupby('NERC.REGION')['OBS'].count(), left_index=True, right_index=True)\n",
    "\n",
    "# Select the columns 'Missing_prop' and 'OBS_x' for display\n",
    "missing_nerc[['Missing_prop', 'OBS_x']]"
   ]
  },
  {
   "cell_type": "markdown",
   "metadata": {},
   "source": [
    "This is much more interesting - some regions have no missing data, while others have a lot. This seems a lot more like a correlation. Also, there seems to be a data point which exists in two regions - why might this be?"
   ]
  },
  {
   "cell_type": "code",
   "execution_count": 32,
   "metadata": {},
   "outputs": [
    {
     "name": "stderr",
     "output_type": "stream",
     "text": [
      "/var/folders/v7/nxggzv_j5s936v9rvl85gh2w0000gn/T/ipykernel_4381/1158676869.py:8: SettingWithCopyWarning:\n",
      "\n",
      "\n",
      "A value is trying to be set on a copy of a slice from a DataFrame.\n",
      "Try using .loc[row_indexer,col_indexer] = value instead\n",
      "\n",
      "See the caveats in the documentation: https://pandas.pydata.org/pandas-docs/stable/user_guide/indexing.html#returning-a-view-versus-a-copy\n",
      "\n"
     ]
    },
    {
     "data": {
      "text/plain": [
       "0.0"
      ]
     },
     "execution_count": 32,
     "metadata": {},
     "output_type": "execute_result"
    }
   ],
   "source": [
    "def tvd(s1, s2):  # Total Variation Distance function\n",
    "    return np.abs(s1 - s2).sum() / 2\n",
    "\n",
    "test = formated_data[['DEMAND.LOSS.MW', 'NERC.REGION', 'OBS']]\n",
    "N = 10_000\n",
    "tvds = np.repeat(0.0, N)\n",
    "for i in range(N):  # Shuffle the missing values and calculate the TVD for each iteration\n",
    "    test['Shuffled'] = np.random.permutation(test['DEMAND.LOSS.MW'].isna())\n",
    "    grouped = test.groupby('NERC.REGION').sum()\n",
    "    grouped.loc[:, 'Missing_prop'] = grouped['Shuffled'] / test.groupby('NERC.REGION').count()['OBS']\n",
    "    grouped.loc[:, 'non_missing_prop'] = 1 - grouped['Missing_prop']\n",
    "    tvds[i] = tvd(grouped['Missing_prop'], grouped['non_missing_prop'])\n",
    "\n",
    "obs = tvd(missing_nerc['Missing_prop'], 1 - missing_nerc['Missing_prop'])\n",
    "p = np.mean(tvds >= obs)  # Calculate the p-value\n",
    "p"
   ]
  },
  {
   "cell_type": "markdown",
   "metadata": {},
   "source": [
    "Given this P value, it would seem that the missingess of the Peak loss column is very much MAR dependent on the region that the outage occured in. Keep note, as this could be a source of bias in the data."
   ]
  },
  {
   "cell_type": "markdown",
   "metadata": {},
   "source": [
    "## Step 4: Hypothesis Testing"
   ]
  },
  {
   "cell_type": "markdown",
   "metadata": {},
   "source": [
    "Analysis of outages caused by weather events vs. outages caused by non-weather events. We wonder if the development of better technologies and more stable systems have made weather a smaller problem for power outages  \n",
    "$H_0$: There is no correlation betweeen time and the preportion of weather related power outages  \n",
    "$H_1$: Weather related outages have decreased over time"
   ]
  },
  {
   "cell_type": "code",
   "execution_count": 33,
   "metadata": {
    "ExecuteTime": {
     "end_time": "2019-10-31T23:36:28.666489Z",
     "start_time": "2019-10-31T23:36:28.664381Z"
    }
   },
   "outputs": [
    {
     "data": {
      "application/vnd.plotly.v1+json": {
       "config": {
        "plotlyServerURL": "https://plot.ly"
       },
       "data": [
        {
         "hovertemplate": "YEAR=%{x}<br>OBS=%{y}<extra></extra>",
         "legendgroup": "",
         "marker": {
          "color": "#636efa",
          "symbol": "circle"
         },
         "mode": "markers",
         "name": "",
         "orientation": "v",
         "showlegend": false,
         "type": "scatter",
         "x": [
          2000,
          2001,
          2002,
          2003,
          2004,
          2005,
          2006,
          2007,
          2008,
          2009,
          2010,
          2011,
          2012,
          2013,
          2014,
          2015,
          2016
         ],
         "xaxis": "x",
         "y": [
          0.5,
          0.06666666666666667,
          0.7647058823529411,
          0.6521739130434783,
          0.7887323943661971,
          0.8545454545454545,
          0.8059701492537313,
          0.7142857142857143,
          0.6846846846846847,
          0.5769230769230769,
          0.5849056603773585,
          0.39776951672862454,
          0.3735632183908046,
          0.3202614379084967,
          0.4017857142857143,
          0.40336134453781514,
          0.2033898305084746
         ],
         "yaxis": "y"
        }
       ],
       "layout": {
        "legend": {
         "tracegroupgap": 0
        },
        "template": {
         "data": {
          "bar": [
           {
            "error_x": {
             "color": "#2a3f5f"
            },
            "error_y": {
             "color": "#2a3f5f"
            },
            "marker": {
             "line": {
              "color": "#E5ECF6",
              "width": 0.5
             },
             "pattern": {
              "fillmode": "overlay",
              "size": 10,
              "solidity": 0.2
             }
            },
            "type": "bar"
           }
          ],
          "barpolar": [
           {
            "marker": {
             "line": {
              "color": "#E5ECF6",
              "width": 0.5
             },
             "pattern": {
              "fillmode": "overlay",
              "size": 10,
              "solidity": 0.2
             }
            },
            "type": "barpolar"
           }
          ],
          "carpet": [
           {
            "aaxis": {
             "endlinecolor": "#2a3f5f",
             "gridcolor": "white",
             "linecolor": "white",
             "minorgridcolor": "white",
             "startlinecolor": "#2a3f5f"
            },
            "baxis": {
             "endlinecolor": "#2a3f5f",
             "gridcolor": "white",
             "linecolor": "white",
             "minorgridcolor": "white",
             "startlinecolor": "#2a3f5f"
            },
            "type": "carpet"
           }
          ],
          "choropleth": [
           {
            "colorbar": {
             "outlinewidth": 0,
             "ticks": ""
            },
            "type": "choropleth"
           }
          ],
          "contour": [
           {
            "colorbar": {
             "outlinewidth": 0,
             "ticks": ""
            },
            "colorscale": [
             [
              0,
              "#0d0887"
             ],
             [
              0.1111111111111111,
              "#46039f"
             ],
             [
              0.2222222222222222,
              "#7201a8"
             ],
             [
              0.3333333333333333,
              "#9c179e"
             ],
             [
              0.4444444444444444,
              "#bd3786"
             ],
             [
              0.5555555555555556,
              "#d8576b"
             ],
             [
              0.6666666666666666,
              "#ed7953"
             ],
             [
              0.7777777777777778,
              "#fb9f3a"
             ],
             [
              0.8888888888888888,
              "#fdca26"
             ],
             [
              1,
              "#f0f921"
             ]
            ],
            "type": "contour"
           }
          ],
          "contourcarpet": [
           {
            "colorbar": {
             "outlinewidth": 0,
             "ticks": ""
            },
            "type": "contourcarpet"
           }
          ],
          "heatmap": [
           {
            "colorbar": {
             "outlinewidth": 0,
             "ticks": ""
            },
            "colorscale": [
             [
              0,
              "#0d0887"
             ],
             [
              0.1111111111111111,
              "#46039f"
             ],
             [
              0.2222222222222222,
              "#7201a8"
             ],
             [
              0.3333333333333333,
              "#9c179e"
             ],
             [
              0.4444444444444444,
              "#bd3786"
             ],
             [
              0.5555555555555556,
              "#d8576b"
             ],
             [
              0.6666666666666666,
              "#ed7953"
             ],
             [
              0.7777777777777778,
              "#fb9f3a"
             ],
             [
              0.8888888888888888,
              "#fdca26"
             ],
             [
              1,
              "#f0f921"
             ]
            ],
            "type": "heatmap"
           }
          ],
          "heatmapgl": [
           {
            "colorbar": {
             "outlinewidth": 0,
             "ticks": ""
            },
            "colorscale": [
             [
              0,
              "#0d0887"
             ],
             [
              0.1111111111111111,
              "#46039f"
             ],
             [
              0.2222222222222222,
              "#7201a8"
             ],
             [
              0.3333333333333333,
              "#9c179e"
             ],
             [
              0.4444444444444444,
              "#bd3786"
             ],
             [
              0.5555555555555556,
              "#d8576b"
             ],
             [
              0.6666666666666666,
              "#ed7953"
             ],
             [
              0.7777777777777778,
              "#fb9f3a"
             ],
             [
              0.8888888888888888,
              "#fdca26"
             ],
             [
              1,
              "#f0f921"
             ]
            ],
            "type": "heatmapgl"
           }
          ],
          "histogram": [
           {
            "marker": {
             "pattern": {
              "fillmode": "overlay",
              "size": 10,
              "solidity": 0.2
             }
            },
            "type": "histogram"
           }
          ],
          "histogram2d": [
           {
            "colorbar": {
             "outlinewidth": 0,
             "ticks": ""
            },
            "colorscale": [
             [
              0,
              "#0d0887"
             ],
             [
              0.1111111111111111,
              "#46039f"
             ],
             [
              0.2222222222222222,
              "#7201a8"
             ],
             [
              0.3333333333333333,
              "#9c179e"
             ],
             [
              0.4444444444444444,
              "#bd3786"
             ],
             [
              0.5555555555555556,
              "#d8576b"
             ],
             [
              0.6666666666666666,
              "#ed7953"
             ],
             [
              0.7777777777777778,
              "#fb9f3a"
             ],
             [
              0.8888888888888888,
              "#fdca26"
             ],
             [
              1,
              "#f0f921"
             ]
            ],
            "type": "histogram2d"
           }
          ],
          "histogram2dcontour": [
           {
            "colorbar": {
             "outlinewidth": 0,
             "ticks": ""
            },
            "colorscale": [
             [
              0,
              "#0d0887"
             ],
             [
              0.1111111111111111,
              "#46039f"
             ],
             [
              0.2222222222222222,
              "#7201a8"
             ],
             [
              0.3333333333333333,
              "#9c179e"
             ],
             [
              0.4444444444444444,
              "#bd3786"
             ],
             [
              0.5555555555555556,
              "#d8576b"
             ],
             [
              0.6666666666666666,
              "#ed7953"
             ],
             [
              0.7777777777777778,
              "#fb9f3a"
             ],
             [
              0.8888888888888888,
              "#fdca26"
             ],
             [
              1,
              "#f0f921"
             ]
            ],
            "type": "histogram2dcontour"
           }
          ],
          "mesh3d": [
           {
            "colorbar": {
             "outlinewidth": 0,
             "ticks": ""
            },
            "type": "mesh3d"
           }
          ],
          "parcoords": [
           {
            "line": {
             "colorbar": {
              "outlinewidth": 0,
              "ticks": ""
             }
            },
            "type": "parcoords"
           }
          ],
          "pie": [
           {
            "automargin": true,
            "type": "pie"
           }
          ],
          "scatter": [
           {
            "fillpattern": {
             "fillmode": "overlay",
             "size": 10,
             "solidity": 0.2
            },
            "type": "scatter"
           }
          ],
          "scatter3d": [
           {
            "line": {
             "colorbar": {
              "outlinewidth": 0,
              "ticks": ""
             }
            },
            "marker": {
             "colorbar": {
              "outlinewidth": 0,
              "ticks": ""
             }
            },
            "type": "scatter3d"
           }
          ],
          "scattercarpet": [
           {
            "marker": {
             "colorbar": {
              "outlinewidth": 0,
              "ticks": ""
             }
            },
            "type": "scattercarpet"
           }
          ],
          "scattergeo": [
           {
            "marker": {
             "colorbar": {
              "outlinewidth": 0,
              "ticks": ""
             }
            },
            "type": "scattergeo"
           }
          ],
          "scattergl": [
           {
            "marker": {
             "colorbar": {
              "outlinewidth": 0,
              "ticks": ""
             }
            },
            "type": "scattergl"
           }
          ],
          "scattermapbox": [
           {
            "marker": {
             "colorbar": {
              "outlinewidth": 0,
              "ticks": ""
             }
            },
            "type": "scattermapbox"
           }
          ],
          "scatterpolar": [
           {
            "marker": {
             "colorbar": {
              "outlinewidth": 0,
              "ticks": ""
             }
            },
            "type": "scatterpolar"
           }
          ],
          "scatterpolargl": [
           {
            "marker": {
             "colorbar": {
              "outlinewidth": 0,
              "ticks": ""
             }
            },
            "type": "scatterpolargl"
           }
          ],
          "scatterternary": [
           {
            "marker": {
             "colorbar": {
              "outlinewidth": 0,
              "ticks": ""
             }
            },
            "type": "scatterternary"
           }
          ],
          "surface": [
           {
            "colorbar": {
             "outlinewidth": 0,
             "ticks": ""
            },
            "colorscale": [
             [
              0,
              "#0d0887"
             ],
             [
              0.1111111111111111,
              "#46039f"
             ],
             [
              0.2222222222222222,
              "#7201a8"
             ],
             [
              0.3333333333333333,
              "#9c179e"
             ],
             [
              0.4444444444444444,
              "#bd3786"
             ],
             [
              0.5555555555555556,
              "#d8576b"
             ],
             [
              0.6666666666666666,
              "#ed7953"
             ],
             [
              0.7777777777777778,
              "#fb9f3a"
             ],
             [
              0.8888888888888888,
              "#fdca26"
             ],
             [
              1,
              "#f0f921"
             ]
            ],
            "type": "surface"
           }
          ],
          "table": [
           {
            "cells": {
             "fill": {
              "color": "#EBF0F8"
             },
             "line": {
              "color": "white"
             }
            },
            "header": {
             "fill": {
              "color": "#C8D4E3"
             },
             "line": {
              "color": "white"
             }
            },
            "type": "table"
           }
          ]
         },
         "layout": {
          "annotationdefaults": {
           "arrowcolor": "#2a3f5f",
           "arrowhead": 0,
           "arrowwidth": 1
          },
          "autotypenumbers": "strict",
          "coloraxis": {
           "colorbar": {
            "outlinewidth": 0,
            "ticks": ""
           }
          },
          "colorscale": {
           "diverging": [
            [
             0,
             "#8e0152"
            ],
            [
             0.1,
             "#c51b7d"
            ],
            [
             0.2,
             "#de77ae"
            ],
            [
             0.3,
             "#f1b6da"
            ],
            [
             0.4,
             "#fde0ef"
            ],
            [
             0.5,
             "#f7f7f7"
            ],
            [
             0.6,
             "#e6f5d0"
            ],
            [
             0.7,
             "#b8e186"
            ],
            [
             0.8,
             "#7fbc41"
            ],
            [
             0.9,
             "#4d9221"
            ],
            [
             1,
             "#276419"
            ]
           ],
           "sequential": [
            [
             0,
             "#0d0887"
            ],
            [
             0.1111111111111111,
             "#46039f"
            ],
            [
             0.2222222222222222,
             "#7201a8"
            ],
            [
             0.3333333333333333,
             "#9c179e"
            ],
            [
             0.4444444444444444,
             "#bd3786"
            ],
            [
             0.5555555555555556,
             "#d8576b"
            ],
            [
             0.6666666666666666,
             "#ed7953"
            ],
            [
             0.7777777777777778,
             "#fb9f3a"
            ],
            [
             0.8888888888888888,
             "#fdca26"
            ],
            [
             1,
             "#f0f921"
            ]
           ],
           "sequentialminus": [
            [
             0,
             "#0d0887"
            ],
            [
             0.1111111111111111,
             "#46039f"
            ],
            [
             0.2222222222222222,
             "#7201a8"
            ],
            [
             0.3333333333333333,
             "#9c179e"
            ],
            [
             0.4444444444444444,
             "#bd3786"
            ],
            [
             0.5555555555555556,
             "#d8576b"
            ],
            [
             0.6666666666666666,
             "#ed7953"
            ],
            [
             0.7777777777777778,
             "#fb9f3a"
            ],
            [
             0.8888888888888888,
             "#fdca26"
            ],
            [
             1,
             "#f0f921"
            ]
           ]
          },
          "colorway": [
           "#636efa",
           "#EF553B",
           "#00cc96",
           "#ab63fa",
           "#FFA15A",
           "#19d3f3",
           "#FF6692",
           "#B6E880",
           "#FF97FF",
           "#FECB52"
          ],
          "font": {
           "color": "#2a3f5f"
          },
          "geo": {
           "bgcolor": "white",
           "lakecolor": "white",
           "landcolor": "#E5ECF6",
           "showlakes": true,
           "showland": true,
           "subunitcolor": "white"
          },
          "hoverlabel": {
           "align": "left"
          },
          "hovermode": "closest",
          "mapbox": {
           "style": "light"
          },
          "paper_bgcolor": "white",
          "plot_bgcolor": "#E5ECF6",
          "polar": {
           "angularaxis": {
            "gridcolor": "white",
            "linecolor": "white",
            "ticks": ""
           },
           "bgcolor": "#E5ECF6",
           "radialaxis": {
            "gridcolor": "white",
            "linecolor": "white",
            "ticks": ""
           }
          },
          "scene": {
           "xaxis": {
            "backgroundcolor": "#E5ECF6",
            "gridcolor": "white",
            "gridwidth": 2,
            "linecolor": "white",
            "showbackground": true,
            "ticks": "",
            "zerolinecolor": "white"
           },
           "yaxis": {
            "backgroundcolor": "#E5ECF6",
            "gridcolor": "white",
            "gridwidth": 2,
            "linecolor": "white",
            "showbackground": true,
            "ticks": "",
            "zerolinecolor": "white"
           },
           "zaxis": {
            "backgroundcolor": "#E5ECF6",
            "gridcolor": "white",
            "gridwidth": 2,
            "linecolor": "white",
            "showbackground": true,
            "ticks": "",
            "zerolinecolor": "white"
           }
          },
          "shapedefaults": {
           "line": {
            "color": "#2a3f5f"
           }
          },
          "ternary": {
           "aaxis": {
            "gridcolor": "white",
            "linecolor": "white",
            "ticks": ""
           },
           "baxis": {
            "gridcolor": "white",
            "linecolor": "white",
            "ticks": ""
           },
           "bgcolor": "#E5ECF6",
           "caxis": {
            "gridcolor": "white",
            "linecolor": "white",
            "ticks": ""
           }
          },
          "title": {
           "x": 0.05
          },
          "xaxis": {
           "automargin": true,
           "gridcolor": "white",
           "linecolor": "white",
           "ticks": "",
           "title": {
            "standoff": 15
           },
           "zerolinecolor": "white",
           "zerolinewidth": 2
          },
          "yaxis": {
           "automargin": true,
           "gridcolor": "white",
           "linecolor": "white",
           "ticks": "",
           "title": {
            "standoff": 15
           },
           "zerolinecolor": "white",
           "zerolinewidth": 2
          }
         }
        },
        "title": {
         "text": "Severe Weather Outages by Year"
        },
        "xaxis": {
         "anchor": "y",
         "domain": [
          0,
          1
         ],
         "title": {
          "text": "YEAR"
         }
        },
        "yaxis": {
         "anchor": "x",
         "domain": [
          0,
          1
         ],
         "title": {
          "text": "OBS"
         }
        }
       }
      }
     },
     "metadata": {},
     "output_type": "display_data"
    }
   ],
   "source": [
    "# make series with normalized values for weather outages\n",
    "weather = (formated_data[formated_data['CAUSE.CATEGORY'] == 'severe weather'].groupby('YEAR').count().sort_values('OBS', ascending=False) / formated_data.groupby('YEAR').count())\n",
    "px.scatter(weather, x=weather.index, y='OBS', title='Severe Weather Outages by Year')"
   ]
  },
  {
   "cell_type": "code",
   "execution_count": 34,
   "metadata": {},
   "outputs": [
    {
     "data": {
      "text/plain": [
       "(PearsonRResult(statistic=-0.40759750516416526, pvalue=0.10437683084481637),\n",
       " PearsonRResult(statistic=-0.7561000778006577, pvalue=0.0007019393734256857))"
      ]
     },
     "execution_count": 34,
     "metadata": {},
     "output_type": "execute_result"
    }
   ],
   "source": [
    "no_drop = stats.pearsonr(weather.index, weather['OBS'])\n",
    "weather.drop(2001, inplace=True)\n",
    "drop = stats.pearsonr(weather.index, weather['OBS'])\n",
    "no_drop, drop"
   ]
  },
  {
   "cell_type": "markdown",
   "metadata": {},
   "source": [
    "Since we cannot just drop a data point without any justification, we will fail to reject our null hypothesis, however, the 2001 outlier is still interesting."
   ]
  },
  {
   "cell_type": "code",
   "execution_count": 68,
   "metadata": {},
   "outputs": [
    {
     "data": {
      "application/vnd.plotly.v1+json": {
       "config": {
        "plotlyServerURL": "https://plot.ly"
       },
       "data": [
        {
         "alignmentgroup": "True",
         "hovertemplate": "CAUSE.CATEGORY=%{x}<br>OBS=%{y}<extra></extra>",
         "legendgroup": "",
         "marker": {
          "color": "#636efa",
          "pattern": {
           "shape": ""
          }
         },
         "name": "",
         "offsetgroup": "",
         "orientation": "v",
         "showlegend": false,
         "textposition": "auto",
         "type": "bar",
         "x": [
          "equipment failure",
          "public appeal",
          "severe weather",
          "system operability disruption"
         ],
         "xaxis": "x",
         "y": [
          1,
          3,
          1,
          10
         ],
         "yaxis": "y"
        }
       ],
       "layout": {
        "barmode": "relative",
        "legend": {
         "tracegroupgap": 0
        },
        "template": {
         "data": {
          "bar": [
           {
            "error_x": {
             "color": "#2a3f5f"
            },
            "error_y": {
             "color": "#2a3f5f"
            },
            "marker": {
             "line": {
              "color": "#E5ECF6",
              "width": 0.5
             },
             "pattern": {
              "fillmode": "overlay",
              "size": 10,
              "solidity": 0.2
             }
            },
            "type": "bar"
           }
          ],
          "barpolar": [
           {
            "marker": {
             "line": {
              "color": "#E5ECF6",
              "width": 0.5
             },
             "pattern": {
              "fillmode": "overlay",
              "size": 10,
              "solidity": 0.2
             }
            },
            "type": "barpolar"
           }
          ],
          "carpet": [
           {
            "aaxis": {
             "endlinecolor": "#2a3f5f",
             "gridcolor": "white",
             "linecolor": "white",
             "minorgridcolor": "white",
             "startlinecolor": "#2a3f5f"
            },
            "baxis": {
             "endlinecolor": "#2a3f5f",
             "gridcolor": "white",
             "linecolor": "white",
             "minorgridcolor": "white",
             "startlinecolor": "#2a3f5f"
            },
            "type": "carpet"
           }
          ],
          "choropleth": [
           {
            "colorbar": {
             "outlinewidth": 0,
             "ticks": ""
            },
            "type": "choropleth"
           }
          ],
          "contour": [
           {
            "colorbar": {
             "outlinewidth": 0,
             "ticks": ""
            },
            "colorscale": [
             [
              0,
              "#0d0887"
             ],
             [
              0.1111111111111111,
              "#46039f"
             ],
             [
              0.2222222222222222,
              "#7201a8"
             ],
             [
              0.3333333333333333,
              "#9c179e"
             ],
             [
              0.4444444444444444,
              "#bd3786"
             ],
             [
              0.5555555555555556,
              "#d8576b"
             ],
             [
              0.6666666666666666,
              "#ed7953"
             ],
             [
              0.7777777777777778,
              "#fb9f3a"
             ],
             [
              0.8888888888888888,
              "#fdca26"
             ],
             [
              1,
              "#f0f921"
             ]
            ],
            "type": "contour"
           }
          ],
          "contourcarpet": [
           {
            "colorbar": {
             "outlinewidth": 0,
             "ticks": ""
            },
            "type": "contourcarpet"
           }
          ],
          "heatmap": [
           {
            "colorbar": {
             "outlinewidth": 0,
             "ticks": ""
            },
            "colorscale": [
             [
              0,
              "#0d0887"
             ],
             [
              0.1111111111111111,
              "#46039f"
             ],
             [
              0.2222222222222222,
              "#7201a8"
             ],
             [
              0.3333333333333333,
              "#9c179e"
             ],
             [
              0.4444444444444444,
              "#bd3786"
             ],
             [
              0.5555555555555556,
              "#d8576b"
             ],
             [
              0.6666666666666666,
              "#ed7953"
             ],
             [
              0.7777777777777778,
              "#fb9f3a"
             ],
             [
              0.8888888888888888,
              "#fdca26"
             ],
             [
              1,
              "#f0f921"
             ]
            ],
            "type": "heatmap"
           }
          ],
          "heatmapgl": [
           {
            "colorbar": {
             "outlinewidth": 0,
             "ticks": ""
            },
            "colorscale": [
             [
              0,
              "#0d0887"
             ],
             [
              0.1111111111111111,
              "#46039f"
             ],
             [
              0.2222222222222222,
              "#7201a8"
             ],
             [
              0.3333333333333333,
              "#9c179e"
             ],
             [
              0.4444444444444444,
              "#bd3786"
             ],
             [
              0.5555555555555556,
              "#d8576b"
             ],
             [
              0.6666666666666666,
              "#ed7953"
             ],
             [
              0.7777777777777778,
              "#fb9f3a"
             ],
             [
              0.8888888888888888,
              "#fdca26"
             ],
             [
              1,
              "#f0f921"
             ]
            ],
            "type": "heatmapgl"
           }
          ],
          "histogram": [
           {
            "marker": {
             "pattern": {
              "fillmode": "overlay",
              "size": 10,
              "solidity": 0.2
             }
            },
            "type": "histogram"
           }
          ],
          "histogram2d": [
           {
            "colorbar": {
             "outlinewidth": 0,
             "ticks": ""
            },
            "colorscale": [
             [
              0,
              "#0d0887"
             ],
             [
              0.1111111111111111,
              "#46039f"
             ],
             [
              0.2222222222222222,
              "#7201a8"
             ],
             [
              0.3333333333333333,
              "#9c179e"
             ],
             [
              0.4444444444444444,
              "#bd3786"
             ],
             [
              0.5555555555555556,
              "#d8576b"
             ],
             [
              0.6666666666666666,
              "#ed7953"
             ],
             [
              0.7777777777777778,
              "#fb9f3a"
             ],
             [
              0.8888888888888888,
              "#fdca26"
             ],
             [
              1,
              "#f0f921"
             ]
            ],
            "type": "histogram2d"
           }
          ],
          "histogram2dcontour": [
           {
            "colorbar": {
             "outlinewidth": 0,
             "ticks": ""
            },
            "colorscale": [
             [
              0,
              "#0d0887"
             ],
             [
              0.1111111111111111,
              "#46039f"
             ],
             [
              0.2222222222222222,
              "#7201a8"
             ],
             [
              0.3333333333333333,
              "#9c179e"
             ],
             [
              0.4444444444444444,
              "#bd3786"
             ],
             [
              0.5555555555555556,
              "#d8576b"
             ],
             [
              0.6666666666666666,
              "#ed7953"
             ],
             [
              0.7777777777777778,
              "#fb9f3a"
             ],
             [
              0.8888888888888888,
              "#fdca26"
             ],
             [
              1,
              "#f0f921"
             ]
            ],
            "type": "histogram2dcontour"
           }
          ],
          "mesh3d": [
           {
            "colorbar": {
             "outlinewidth": 0,
             "ticks": ""
            },
            "type": "mesh3d"
           }
          ],
          "parcoords": [
           {
            "line": {
             "colorbar": {
              "outlinewidth": 0,
              "ticks": ""
             }
            },
            "type": "parcoords"
           }
          ],
          "pie": [
           {
            "automargin": true,
            "type": "pie"
           }
          ],
          "scatter": [
           {
            "fillpattern": {
             "fillmode": "overlay",
             "size": 10,
             "solidity": 0.2
            },
            "type": "scatter"
           }
          ],
          "scatter3d": [
           {
            "line": {
             "colorbar": {
              "outlinewidth": 0,
              "ticks": ""
             }
            },
            "marker": {
             "colorbar": {
              "outlinewidth": 0,
              "ticks": ""
             }
            },
            "type": "scatter3d"
           }
          ],
          "scattercarpet": [
           {
            "marker": {
             "colorbar": {
              "outlinewidth": 0,
              "ticks": ""
             }
            },
            "type": "scattercarpet"
           }
          ],
          "scattergeo": [
           {
            "marker": {
             "colorbar": {
              "outlinewidth": 0,
              "ticks": ""
             }
            },
            "type": "scattergeo"
           }
          ],
          "scattergl": [
           {
            "marker": {
             "colorbar": {
              "outlinewidth": 0,
              "ticks": ""
             }
            },
            "type": "scattergl"
           }
          ],
          "scattermapbox": [
           {
            "marker": {
             "colorbar": {
              "outlinewidth": 0,
              "ticks": ""
             }
            },
            "type": "scattermapbox"
           }
          ],
          "scatterpolar": [
           {
            "marker": {
             "colorbar": {
              "outlinewidth": 0,
              "ticks": ""
             }
            },
            "type": "scatterpolar"
           }
          ],
          "scatterpolargl": [
           {
            "marker": {
             "colorbar": {
              "outlinewidth": 0,
              "ticks": ""
             }
            },
            "type": "scatterpolargl"
           }
          ],
          "scatterternary": [
           {
            "marker": {
             "colorbar": {
              "outlinewidth": 0,
              "ticks": ""
             }
            },
            "type": "scatterternary"
           }
          ],
          "surface": [
           {
            "colorbar": {
             "outlinewidth": 0,
             "ticks": ""
            },
            "colorscale": [
             [
              0,
              "#0d0887"
             ],
             [
              0.1111111111111111,
              "#46039f"
             ],
             [
              0.2222222222222222,
              "#7201a8"
             ],
             [
              0.3333333333333333,
              "#9c179e"
             ],
             [
              0.4444444444444444,
              "#bd3786"
             ],
             [
              0.5555555555555556,
              "#d8576b"
             ],
             [
              0.6666666666666666,
              "#ed7953"
             ],
             [
              0.7777777777777778,
              "#fb9f3a"
             ],
             [
              0.8888888888888888,
              "#fdca26"
             ],
             [
              1,
              "#f0f921"
             ]
            ],
            "type": "surface"
           }
          ],
          "table": [
           {
            "cells": {
             "fill": {
              "color": "#EBF0F8"
             },
             "line": {
              "color": "white"
             }
            },
            "header": {
             "fill": {
              "color": "#C8D4E3"
             },
             "line": {
              "color": "white"
             }
            },
            "type": "table"
           }
          ]
         },
         "layout": {
          "annotationdefaults": {
           "arrowcolor": "#2a3f5f",
           "arrowhead": 0,
           "arrowwidth": 1
          },
          "autotypenumbers": "strict",
          "coloraxis": {
           "colorbar": {
            "outlinewidth": 0,
            "ticks": ""
           }
          },
          "colorscale": {
           "diverging": [
            [
             0,
             "#8e0152"
            ],
            [
             0.1,
             "#c51b7d"
            ],
            [
             0.2,
             "#de77ae"
            ],
            [
             0.3,
             "#f1b6da"
            ],
            [
             0.4,
             "#fde0ef"
            ],
            [
             0.5,
             "#f7f7f7"
            ],
            [
             0.6,
             "#e6f5d0"
            ],
            [
             0.7,
             "#b8e186"
            ],
            [
             0.8,
             "#7fbc41"
            ],
            [
             0.9,
             "#4d9221"
            ],
            [
             1,
             "#276419"
            ]
           ],
           "sequential": [
            [
             0,
             "#0d0887"
            ],
            [
             0.1111111111111111,
             "#46039f"
            ],
            [
             0.2222222222222222,
             "#7201a8"
            ],
            [
             0.3333333333333333,
             "#9c179e"
            ],
            [
             0.4444444444444444,
             "#bd3786"
            ],
            [
             0.5555555555555556,
             "#d8576b"
            ],
            [
             0.6666666666666666,
             "#ed7953"
            ],
            [
             0.7777777777777778,
             "#fb9f3a"
            ],
            [
             0.8888888888888888,
             "#fdca26"
            ],
            [
             1,
             "#f0f921"
            ]
           ],
           "sequentialminus": [
            [
             0,
             "#0d0887"
            ],
            [
             0.1111111111111111,
             "#46039f"
            ],
            [
             0.2222222222222222,
             "#7201a8"
            ],
            [
             0.3333333333333333,
             "#9c179e"
            ],
            [
             0.4444444444444444,
             "#bd3786"
            ],
            [
             0.5555555555555556,
             "#d8576b"
            ],
            [
             0.6666666666666666,
             "#ed7953"
            ],
            [
             0.7777777777777778,
             "#fb9f3a"
            ],
            [
             0.8888888888888888,
             "#fdca26"
            ],
            [
             1,
             "#f0f921"
            ]
           ]
          },
          "colorway": [
           "#636efa",
           "#EF553B",
           "#00cc96",
           "#ab63fa",
           "#FFA15A",
           "#19d3f3",
           "#FF6692",
           "#B6E880",
           "#FF97FF",
           "#FECB52"
          ],
          "font": {
           "color": "#2a3f5f"
          },
          "geo": {
           "bgcolor": "white",
           "lakecolor": "white",
           "landcolor": "#E5ECF6",
           "showlakes": true,
           "showland": true,
           "subunitcolor": "white"
          },
          "hoverlabel": {
           "align": "left"
          },
          "hovermode": "closest",
          "mapbox": {
           "style": "light"
          },
          "paper_bgcolor": "white",
          "plot_bgcolor": "#E5ECF6",
          "polar": {
           "angularaxis": {
            "gridcolor": "white",
            "linecolor": "white",
            "ticks": ""
           },
           "bgcolor": "#E5ECF6",
           "radialaxis": {
            "gridcolor": "white",
            "linecolor": "white",
            "ticks": ""
           }
          },
          "scene": {
           "xaxis": {
            "backgroundcolor": "#E5ECF6",
            "gridcolor": "white",
            "gridwidth": 2,
            "linecolor": "white",
            "showbackground": true,
            "ticks": "",
            "zerolinecolor": "white"
           },
           "yaxis": {
            "backgroundcolor": "#E5ECF6",
            "gridcolor": "white",
            "gridwidth": 2,
            "linecolor": "white",
            "showbackground": true,
            "ticks": "",
            "zerolinecolor": "white"
           },
           "zaxis": {
            "backgroundcolor": "#E5ECF6",
            "gridcolor": "white",
            "gridwidth": 2,
            "linecolor": "white",
            "showbackground": true,
            "ticks": "",
            "zerolinecolor": "white"
           }
          },
          "shapedefaults": {
           "line": {
            "color": "#2a3f5f"
           }
          },
          "ternary": {
           "aaxis": {
            "gridcolor": "white",
            "linecolor": "white",
            "ticks": ""
           },
           "baxis": {
            "gridcolor": "white",
            "linecolor": "white",
            "ticks": ""
           },
           "bgcolor": "#E5ECF6",
           "caxis": {
            "gridcolor": "white",
            "linecolor": "white",
            "ticks": ""
           }
          },
          "title": {
           "x": 0.05
          },
          "xaxis": {
           "automargin": true,
           "gridcolor": "white",
           "linecolor": "white",
           "ticks": "",
           "title": {
            "standoff": 15
           },
           "zerolinecolor": "white",
           "zerolinewidth": 2
          },
          "yaxis": {
           "automargin": true,
           "gridcolor": "white",
           "linecolor": "white",
           "ticks": "",
           "title": {
            "standoff": 15
           },
           "zerolinecolor": "white",
           "zerolinewidth": 2
          }
         }
        },
        "title": {
         "text": "2001 Outages by Cause Category"
        },
        "xaxis": {
         "anchor": "y",
         "domain": [
          0,
          1
         ],
         "title": {
          "text": "CAUSE.CATEGORY"
         }
        },
        "yaxis": {
         "anchor": "x",
         "domain": [
          0,
          1
         ],
         "title": {
          "text": "OBS"
         }
        }
       }
      }
     },
     "metadata": {},
     "output_type": "display_data"
    }
   ],
   "source": [
    "two001 = formated_data[formated_data['YEAR'] == 2001]\n",
    "hypo_fig = px.bar(two001.groupby('CAUSE.CATEGORY').count().reset_index(), x='CAUSE.CATEGORY', y='OBS', title='2001 Outages by Cause Category')\n",
    "hypo_fig.show()"
   ]
  },
  {
   "cell_type": "markdown",
   "metadata": {},
   "source": [
    "Dropping the 2001 data point has a massive effect on the r value and the p value of the r correlation. the r value becomes very strongly negetive from weakly negative. The p value becomes well below the 0.05 threshold from 0.5. We already found that there are a lot of system Operability disrutions in this year, why might that value be so high?"
   ]
  },
  {
   "cell_type": "markdown",
   "metadata": {},
   "source": [
    "Correlation between peak demand loss and total cost of electricity in the area - It would be interesting to see if grids that had more income where able to prevent or midigate outages so avoid inconvinienceing people using the grid"
   ]
  },
  {
   "cell_type": "markdown",
   "metadata": {},
   "source": [
    "$H_1$: Higher costs of electricity will result in lower peak demand loss during an outage  \n",
    "$H_0$: Peak demand loss is completely independent of the cost of electricity in a region"
   ]
  },
  {
   "cell_type": "code",
   "execution_count": 35,
   "metadata": {},
   "outputs": [
    {
     "data": {
      "application/vnd.plotly.v1+json": {
       "config": {
        "plotlyServerURL": "https://plot.ly"
       },
       "data": [
        {
         "hovertemplate": "TOTAL.PRICE=%{x}<br>DEMAND.LOSS.MW=%{y}<extra></extra>",
         "legendgroup": "",
         "marker": {
          "color": "#636efa",
          "symbol": "circle"
         },
         "mode": "markers",
         "name": "",
         "orientation": "v",
         "showlegend": false,
         "type": "scatter",
         "x": [
          10.43,
          7.36,
          9.03,
          9.28,
          8.7,
          9.59,
          8.91,
          8.91,
          8.91,
          9.02,
          9.93,
          8.91,
          8.91,
          8.87,
          8.91,
          9.16,
          7.5,
          11.1,
          6.96,
          10.79,
          7.69,
          10.17,
          6.65,
          10.98,
          11.1,
          8.02,
          8,
          10.36,
          7.54,
          6.52,
          11.04,
          7.18,
          6.52,
          10.36,
          10.56,
          8.6,
          8.38,
          7.47,
          7.47,
          7.22,
          7.01,
          10.21,
          9.9,
          6.62,
          6.74,
          9.54,
          6.96,
          7.62,
          6.67,
          10.59,
          8.84,
          10.56,
          9.54,
          7.18,
          8.19,
          9.8,
          9.14,
          10.27,
          6.62,
          11.05,
          9.14,
          10.51,
          6.62,
          11.09,
          8.46,
          6.52,
          10.5,
          7.47,
          6.96,
          9.89,
          7.22,
          8.65,
          6.98,
          10.51,
          10.36,
          11.04,
          8.38,
          11.24,
          8.84,
          8.94,
          8.87,
          7.76,
          10.06,
          9.34,
          8.38,
          10.41,
          9.62,
          9.62,
          10.06,
          10.13,
          7.26,
          10.1,
          11.33,
          8.94,
          8.97,
          8.38,
          10.3,
          7.62,
          11.9,
          9.85,
          7.74,
          10.41,
          12.22,
          8.27,
          9.85,
          7.27,
          8.78,
          9.85,
          10.22,
          9.28,
          10.13,
          5.91,
          8.94,
          10.06,
          8.71,
          7.52,
          10.06,
          8.84,
          8.59,
          9.28,
          7.9,
          9.74,
          8.7,
          10.02,
          9.62,
          7.27,
          9.62,
          8.51,
          10.06,
          9.28,
          11.33,
          8.55,
          10.06,
          10.02,
          9.63,
          7.86,
          8.51,
          5.8,
          8.79,
          6.89,
          7.58,
          7.03,
          8.74,
          8.74,
          8.16,
          7.91,
          5.57,
          6.69,
          7.94,
          7.03,
          6.8,
          8.27,
          7.94,
          7.28,
          7.03,
          7.59,
          7.58,
          9.75,
          9.91,
          8.81,
          9.61,
          9.03,
          7.31,
          7.56,
          7.53,
          6.54,
          8.56,
          6.47,
          7.61,
          9.25,
          6.97,
          7.42,
          7.17,
          7.08,
          6.89,
          5.96,
          6.61,
          7.06,
          7.52,
          7.79,
          6.43,
          6.94,
          6.7,
          7.74,
          7.09,
          6.55,
          6.94,
          7.57,
          7.08,
          6.89,
          6.49,
          6.86,
          6.89,
          6.4,
          6.74,
          5.89,
          7.45,
          6.4,
          6.74,
          6.17,
          6.74,
          6.61,
          6.4,
          7.29,
          5.72,
          7.42,
          10.5,
          11.1,
          7.78,
          7.93,
          9.44,
          9.33,
          8.75,
          7.96,
          7.78,
          11.4,
          6.3,
          8.66,
          7.02,
          8.66,
          11.31,
          11.31,
          11.47,
          5.83,
          10.88,
          11.42,
          11.31,
          7.14,
          10.91,
          12.11,
          11.27,
          11.27,
          12.63,
          5.83,
          11.31,
          7.28,
          11.4,
          12.14,
          13.21,
          10.46,
          11.31,
          11.31,
          7.28,
          10.18,
          13.27,
          12.05,
          11.4,
          10.15,
          10.33,
          9.84,
          10.42,
          10.52,
          10.42,
          8.37,
          10.82,
          9.35,
          9.35,
          9.35,
          9.63,
          9.39,
          10.33,
          10.22,
          7.88,
          10.79,
          10.22,
          6.42,
          7.95,
          6.55,
          6.46,
          6.55,
          7.61,
          8.53,
          8.2,
          8.14,
          8.7,
          8.53,
          7.7,
          6.58,
          7.18,
          6.95,
          5.99,
          6.58,
          9.71,
          6.58,
          8.28,
          7.58,
          7.77,
          6.58,
          7.49,
          8.26,
          6.95,
          6.87,
          6.87,
          9.57,
          9.97,
          8.9,
          8.54,
          7.78,
          7.31,
          9.22,
          8.57,
          6.71,
          7.04,
          8.9,
          9.47,
          8.54,
          9.67,
          8.57,
          8.54,
          8.86,
          9.67,
          9.57,
          6.19,
          7.47,
          7.46,
          8.94,
          8.71,
          9.68,
          8.97,
          9.17,
          7.46,
          6.79,
          8.93,
          6.7,
          8.29,
          6.98,
          8.97,
          7.21,
          7.28,
          8.93,
          9.32,
          9.47,
          9.31,
          9.13,
          7.21,
          9.32,
          14.21,
          14.64,
          12.79,
          13.52,
          13.57,
          13.52,
          13.69,
          14.26,
          15.2,
          14.26,
          10.42,
          16.35,
          13.57,
          13.52,
          14.26,
          15.2,
          13.91,
          6.53,
          9.8,
          9.68,
          5.6,
          6.09,
          5.6,
          9.8,
          8.23,
          8.77,
          8.86,
          7.26,
          7.95,
          7.97,
          6.75,
          8.82,
          11.73,
          11.72,
          12.03,
          8.78,
          7.65,
          6.35,
          6.35,
          8.01,
          6.32,
          8.56,
          9.88,
          5.42,
          12.25,
          10.78,
          11.5,
          11.45,
          11.34,
          11.66,
          10.66,
          11.6,
          10.96,
          11.2,
          10.66,
          11.45,
          11.45,
          10.66,
          10.66,
          10.96,
          11.05,
          11.13,
          10.66,
          11.27,
          11.66,
          10.78,
          6.56,
          7.46,
          6.56,
          7.24,
          12.51,
          15.98,
          13.8,
          13.8,
          11.62,
          16.43,
          14.76,
          17.81,
          15.65,
          15.24,
          15.49,
          15.09,
          17.98,
          13.42,
          15.49,
          17.11,
          15.92,
          15.65,
          14.91,
          13.8,
          13.42,
          11.9,
          11.62,
          15.93,
          16.94,
          15.81,
          17.98,
          15.62,
          15.69,
          15.62,
          15.09,
          11.93,
          15.92,
          17.81,
          11.07,
          7.16,
          6.95,
          8.4,
          7.41,
          7.48,
          10.2,
          10.46,
          10.46,
          8.39,
          6.86,
          9.35,
          7.92,
          8.46,
          8.39,
          6.86,
          7.48,
          10.16,
          8.86,
          8.89,
          10.11,
          9.89,
          7.29,
          8.93,
          10.11,
          8.07,
          8.07,
          8.18,
          8.49,
          8.09,
          8.86,
          8.07,
          10.11,
          11.72,
          8.2,
          8.89,
          10.16,
          8.2,
          8.18,
          8.93,
          10.11,
          10.11,
          8.2,
          10.22,
          8.2,
          10.68,
          8.2,
          8.2,
          8.93,
          8.2,
          8.18,
          8.86,
          8.18,
          8.2,
          10.54,
          10.56,
          7.87,
          12.01,
          12.31,
          15.7,
          13.65,
          12.98,
          15.17,
          13.16,
          15.66,
          12.29,
          12.7,
          13.62,
          12.98,
          14.32,
          17.45,
          17.4,
          14.32,
          13.99,
          12.21,
          11.36,
          11.55,
          12.18,
          13.32,
          12.14,
          12.24,
          10.98,
          12.14,
          11.55,
          11.48,
          13.67,
          12.29,
          12.16,
          13.65,
          16.2,
          16.2,
          12.69,
          12.98,
          14.02,
          12.84,
          13.23,
          14.64,
          9.89,
          12.31,
          10.85,
          12.29,
          14.02,
          13.27,
          12.67,
          14.53,
          12.03,
          15.17,
          17.4,
          12.21,
          12.21,
          12.66,
          11.41,
          12.7,
          15.84,
          11.74,
          12.09,
          11.91,
          11.55,
          8.71,
          11.83,
          9.82,
          13.09,
          11.26,
          13.62,
          12.17,
          15.78,
          12.17,
          12.18,
          12.29,
          11.17,
          11.48,
          10.08,
          12.37,
          11.64,
          13.29,
          11.26,
          13.23,
          17.4,
          12.24,
          14.48,
          12.16,
          11.14,
          12.21,
          13.23,
          14.39,
          13.62,
          14.13,
          11.91,
          12.48,
          11.15,
          15.17,
          12.17,
          11.94,
          12.67,
          14.34,
          15.7,
          13.84,
          15.2,
          13.16,
          14.28,
          13.96,
          12.39,
          13.91,
          14.32,
          13.96,
          9.89,
          13.32,
          12.24,
          13.62,
          11.91,
          12.17,
          17.4,
          11.91,
          13.09,
          12.67,
          10.86,
          12.61,
          14.39,
          9.82,
          9.82,
          12.61,
          12.61,
          11.08,
          11.64,
          12.61,
          11.64,
          14.47,
          11.74,
          11.41,
          13.65,
          8.71,
          11.94,
          14.13,
          12.61,
          14.48,
          14.84,
          12.39,
          15.78,
          12.19,
          15,
          12.48,
          11.55,
          12.46,
          10.91,
          12.39,
          12.39,
          13.62,
          11.98,
          11.26,
          12.48,
          6.77,
          7.64,
          7.11,
          7.11,
          7.95,
          7.82,
          8.17,
          7.46,
          6.85,
          7.95,
          7.69,
          9.3,
          9.46,
          8.85,
          6.76,
          6.1,
          8.96,
          8.66,
          8.44,
          8.71,
          9.03,
          8.58,
          7.43,
          8.99,
          9.41,
          8.94,
          8.97,
          8.94,
          7.69,
          7.08,
          8.77,
          6,
          7.17,
          6.6,
          7.55,
          7.17,
          6.57,
          9.15,
          9.41,
          8.47,
          7.2,
          6.2,
          5.78,
          6.28,
          6.83,
          6.48,
          7.47,
          9.34,
          6.35,
          8.71,
          14.46,
          14.78,
          14.04,
          13.77,
          14.12,
          6.26,
          6.81,
          6.11,
          6.83,
          9.5,
          10.51,
          8.06,
          9.55,
          7.15,
          8.34,
          6.39,
          9.91,
          9.44,
          9.91,
          6.83,
          10.51,
          16.34,
          16.35,
          17.85,
          15.5,
          16.11,
          17.5,
          14.82,
          7.2,
          4.7,
          8.52,
          6.77,
          8.09,
          8.52,
          8.43,
          8.42,
          7.45,
          7.01,
          14.42,
          14.04,
          13.33,
          11.15,
          11.38,
          16.75,
          10.72,
          14.52,
          14.51,
          13.05,
          15.53,
          12.57,
          12.83,
          11.88,
          13.46,
          11.42,
          12.82,
          14.07,
          14.17,
          14.31,
          14.65,
          14.02,
          14.96,
          14.96,
          14.96,
          14.62,
          14.17,
          8.6,
          8.46,
          8.5,
          8.25,
          9.61,
          9.47,
          8.83,
          10.19,
          9.13,
          9.86,
          7.96,
          9.8,
          9.5,
          8.85,
          9.93,
          6.25,
          9.93,
          5.88,
          25.78,
          31.29,
          20.54,
          21.45,
          20.54,
          6.12,
          5.13,
          6.54,
          4.94,
          8.05,
          7.56,
          7.67,
          7.67
         ],
         "xaxis": "x",
         "y": [
          250,
          75,
          20,
          0,
          0,
          926,
          100,
          300,
          300,
          1,
          494,
          300,
          359,
          860,
          140,
          850,
          10,
          15,
          150,
          0,
          600,
          30,
          0,
          424,
          220,
          24,
          700,
          250,
          366,
          82,
          8881,
          11000,
          300,
          585,
          50,
          75,
          50,
          55,
          1826,
          212,
          82,
          262,
          0,
          200,
          310,
          240,
          60,
          100,
          240,
          340,
          378,
          371,
          210,
          1007,
          320,
          125,
          500,
          218,
          630,
          400,
          100,
          540,
          303,
          350,
          500,
          75,
          0,
          1000,
          700,
          75,
          408,
          150,
          190,
          400,
          0,
          254,
          500,
          254,
          350,
          400,
          12,
          150,
          380,
          0,
          265,
          399,
          485,
          0,
          1000,
          260,
          212,
          179,
          8087,
          399,
          0,
          294,
          1084,
          476,
          153,
          491,
          0,
          350,
          703,
          1231,
          221,
          300,
          220,
          544,
          339,
          473,
          1950,
          400,
          4000,
          108,
          920,
          100,
          260,
          117,
          0,
          0,
          350,
          176,
          0,
          51,
          0,
          300,
          0,
          328,
          40,
          0,
          650,
          1900,
          219,
          250,
          746,
          85,
          672,
          600,
          0,
          47,
          50,
          57,
          38,
          535,
          49,
          0,
          545,
          1000,
          1024,
          425,
          50,
          0,
          200,
          41,
          650,
          500,
          506,
          217,
          366,
          30,
          0,
          0,
          350,
          127,
          200,
          200,
          300,
          371,
          80,
          300,
          184,
          250,
          275,
          0,
          0,
          150,
          180,
          1600,
          200,
          115,
          260,
          0,
          0,
          0,
          0,
          244,
          0,
          0,
          0,
          0,
          100,
          420,
          0,
          0,
          750,
          175,
          0,
          0,
          360,
          150,
          280,
          50,
          0,
          630,
          300,
          1200,
          5299,
          455,
          1000,
          138,
          2,
          960,
          3963,
          200,
          440,
          354,
          300,
          300,
          270,
          500,
          0,
          0,
          0,
          400,
          0,
          0,
          0,
          2000,
          335,
          0,
          1,
          1,
          800,
          375,
          0,
          625,
          0,
          0,
          60,
          160,
          0,
          0,
          1500,
          400,
          480,
          1114,
          1465,
          15,
          630,
          105,
          156,
          0,
          389,
          750,
          200,
          72,
          600,
          546,
          130,
          90,
          150,
          0,
          250,
          110,
          0,
          342,
          2,
          600,
          70,
          21,
          0,
          0,
          0,
          6,
          461,
          0,
          0,
          0,
          306,
          0,
          2818,
          0,
          0,
          0,
          0,
          0,
          0,
          0,
          316,
          0,
          0,
          392,
          177,
          0,
          0,
          420,
          1000,
          380,
          11000,
          500,
          168,
          250,
          7000,
          0,
          400,
          469,
          0,
          168,
          430,
          7,
          206,
          0,
          475,
          215,
          70,
          40,
          300,
          48,
          3,
          400,
          300,
          500,
          2,
          1000,
          300,
          180,
          40,
          600,
          400,
          200,
          250,
          0,
          1000,
          14435,
          1655,
          1500,
          0,
          198,
          400,
          125,
          55,
          0,
          438,
          0,
          320,
          0,
          80,
          215,
          0,
          0,
          0,
          500,
          100,
          450,
          4545,
          700,
          450,
          600,
          300,
          4853,
          12,
          210,
          0,
          32,
          0,
          0,
          350,
          0,
          140,
          700,
          3000,
          400,
          266,
          300,
          200,
          10,
          135,
          200,
          0,
          210,
          95,
          0,
          0,
          0,
          0,
          0,
          0,
          0,
          0,
          0,
          0,
          0,
          0,
          0,
          0,
          0,
          0,
          0,
          0,
          0,
          0,
          0,
          400,
          0,
          750,
          200,
          225,
          650,
          82,
          0,
          100,
          675,
          200,
          300,
          0,
          50,
          108,
          675,
          400,
          11202,
          0,
          675,
          460,
          0,
          250,
          150,
          22934,
          180,
          100,
          500,
          417,
          0,
          200,
          353,
          300,
          600,
          676,
          30,
          460,
          675,
          200,
          350,
          150,
          300,
          32,
          33,
          200,
          400,
          40,
          700,
          300,
          225,
          103,
          163,
          350,
          150,
          120,
          0,
          0,
          0,
          3200,
          0,
          51,
          280,
          500,
          0,
          0,
          1400,
          250,
          283,
          0,
          0,
          318,
          55,
          6000,
          0,
          180,
          350,
          250,
          148,
          120,
          140,
          1800,
          297,
          2100,
          113,
          1250,
          1100,
          10000,
          125,
          1300,
          0,
          65,
          125,
          206,
          150,
          27,
          483,
          133,
          41788,
          4000,
          0,
          695,
          197,
          685,
          2578,
          240,
          119,
          13850,
          595,
          150,
          360,
          31,
          180,
          0,
          630,
          300,
          324,
          30,
          420,
          150,
          300,
          220,
          10,
          140,
          3,
          2650,
          308,
          160,
          5,
          5,
          0,
          80,
          55,
          300,
          90,
          115,
          400,
          300,
          120,
          300,
          150,
          120,
          360,
          7,
          300,
          200,
          0,
          91,
          91,
          318,
          240,
          864,
          240,
          130,
          270,
          15,
          500,
          500,
          1000,
          400,
          500,
          220,
          240,
          464,
          0,
          22,
          324,
          290,
          300,
          103,
          100,
          0,
          110,
          3,
          160,
          180,
          160,
          140,
          24,
          480,
          136,
          400,
          350,
          522,
          160,
          1,
          295,
          250,
          800,
          414,
          512,
          56,
          250,
          0,
          88,
          200,
          5,
          206,
          15,
          0,
          20,
          3,
          526,
          10,
          700,
          300,
          150,
          208,
          150,
          9,
          30,
          91,
          16,
          390,
          662,
          280,
          522,
          225,
          300,
          700,
          451,
          170,
          5,
          240,
          1,
          3900,
          200,
          220,
          611,
          300,
          180,
          300,
          199,
          29,
          0,
          22,
          200,
          150,
          136,
          211,
          0,
          1,
          126,
          75,
          214,
          0,
          110,
          150,
          430,
          4,
          600,
          22,
          50,
          45,
          84,
          0,
          40,
          650,
          4,
          900,
          150,
          0,
          293,
          120,
          300,
          240,
          188,
          600,
          520,
          250,
          790,
          72,
          950,
          5000,
          350,
          475,
          210,
          850,
          170,
          400,
          63,
          300,
          120,
          100,
          335,
          250,
          900,
          600,
          65,
          650,
          428,
          400,
          101,
          0,
          0,
          6,
          0,
          1040,
          0,
          0,
          0,
          0,
          0,
          0,
          10,
          83,
          150,
          2200,
          729,
          312,
          75,
          620,
          363,
          100,
          100,
          221,
          290,
          1246,
          854,
          563,
          0,
          0,
          130,
          75,
          0,
          50,
          0,
          0,
          500,
          92,
          30,
          75,
          300,
          500,
          0,
          280,
          8,
          51,
          0,
          0,
          340,
          22700,
          200,
          630,
          0,
          1,
          0,
          0,
          0,
          0,
          75,
          50,
          0,
          0,
          180,
          0,
          0,
          0,
          0,
          0,
          0,
          0,
          0,
          0,
          0,
          0,
          56,
          0,
          123,
          0,
          150,
          580,
          0,
          300,
          428,
          120,
          0,
          0,
          0,
          500,
          0,
          200,
          1060,
          220,
          110,
          120,
          1170,
          0,
          157,
          0,
          0,
          0,
          155,
          84,
          373
         ],
         "yaxis": "y"
        }
       ],
       "layout": {
        "legend": {
         "tracegroupgap": 0
        },
        "template": {
         "data": {
          "bar": [
           {
            "error_x": {
             "color": "#2a3f5f"
            },
            "error_y": {
             "color": "#2a3f5f"
            },
            "marker": {
             "line": {
              "color": "#E5ECF6",
              "width": 0.5
             },
             "pattern": {
              "fillmode": "overlay",
              "size": 10,
              "solidity": 0.2
             }
            },
            "type": "bar"
           }
          ],
          "barpolar": [
           {
            "marker": {
             "line": {
              "color": "#E5ECF6",
              "width": 0.5
             },
             "pattern": {
              "fillmode": "overlay",
              "size": 10,
              "solidity": 0.2
             }
            },
            "type": "barpolar"
           }
          ],
          "carpet": [
           {
            "aaxis": {
             "endlinecolor": "#2a3f5f",
             "gridcolor": "white",
             "linecolor": "white",
             "minorgridcolor": "white",
             "startlinecolor": "#2a3f5f"
            },
            "baxis": {
             "endlinecolor": "#2a3f5f",
             "gridcolor": "white",
             "linecolor": "white",
             "minorgridcolor": "white",
             "startlinecolor": "#2a3f5f"
            },
            "type": "carpet"
           }
          ],
          "choropleth": [
           {
            "colorbar": {
             "outlinewidth": 0,
             "ticks": ""
            },
            "type": "choropleth"
           }
          ],
          "contour": [
           {
            "colorbar": {
             "outlinewidth": 0,
             "ticks": ""
            },
            "colorscale": [
             [
              0,
              "#0d0887"
             ],
             [
              0.1111111111111111,
              "#46039f"
             ],
             [
              0.2222222222222222,
              "#7201a8"
             ],
             [
              0.3333333333333333,
              "#9c179e"
             ],
             [
              0.4444444444444444,
              "#bd3786"
             ],
             [
              0.5555555555555556,
              "#d8576b"
             ],
             [
              0.6666666666666666,
              "#ed7953"
             ],
             [
              0.7777777777777778,
              "#fb9f3a"
             ],
             [
              0.8888888888888888,
              "#fdca26"
             ],
             [
              1,
              "#f0f921"
             ]
            ],
            "type": "contour"
           }
          ],
          "contourcarpet": [
           {
            "colorbar": {
             "outlinewidth": 0,
             "ticks": ""
            },
            "type": "contourcarpet"
           }
          ],
          "heatmap": [
           {
            "colorbar": {
             "outlinewidth": 0,
             "ticks": ""
            },
            "colorscale": [
             [
              0,
              "#0d0887"
             ],
             [
              0.1111111111111111,
              "#46039f"
             ],
             [
              0.2222222222222222,
              "#7201a8"
             ],
             [
              0.3333333333333333,
              "#9c179e"
             ],
             [
              0.4444444444444444,
              "#bd3786"
             ],
             [
              0.5555555555555556,
              "#d8576b"
             ],
             [
              0.6666666666666666,
              "#ed7953"
             ],
             [
              0.7777777777777778,
              "#fb9f3a"
             ],
             [
              0.8888888888888888,
              "#fdca26"
             ],
             [
              1,
              "#f0f921"
             ]
            ],
            "type": "heatmap"
           }
          ],
          "heatmapgl": [
           {
            "colorbar": {
             "outlinewidth": 0,
             "ticks": ""
            },
            "colorscale": [
             [
              0,
              "#0d0887"
             ],
             [
              0.1111111111111111,
              "#46039f"
             ],
             [
              0.2222222222222222,
              "#7201a8"
             ],
             [
              0.3333333333333333,
              "#9c179e"
             ],
             [
              0.4444444444444444,
              "#bd3786"
             ],
             [
              0.5555555555555556,
              "#d8576b"
             ],
             [
              0.6666666666666666,
              "#ed7953"
             ],
             [
              0.7777777777777778,
              "#fb9f3a"
             ],
             [
              0.8888888888888888,
              "#fdca26"
             ],
             [
              1,
              "#f0f921"
             ]
            ],
            "type": "heatmapgl"
           }
          ],
          "histogram": [
           {
            "marker": {
             "pattern": {
              "fillmode": "overlay",
              "size": 10,
              "solidity": 0.2
             }
            },
            "type": "histogram"
           }
          ],
          "histogram2d": [
           {
            "colorbar": {
             "outlinewidth": 0,
             "ticks": ""
            },
            "colorscale": [
             [
              0,
              "#0d0887"
             ],
             [
              0.1111111111111111,
              "#46039f"
             ],
             [
              0.2222222222222222,
              "#7201a8"
             ],
             [
              0.3333333333333333,
              "#9c179e"
             ],
             [
              0.4444444444444444,
              "#bd3786"
             ],
             [
              0.5555555555555556,
              "#d8576b"
             ],
             [
              0.6666666666666666,
              "#ed7953"
             ],
             [
              0.7777777777777778,
              "#fb9f3a"
             ],
             [
              0.8888888888888888,
              "#fdca26"
             ],
             [
              1,
              "#f0f921"
             ]
            ],
            "type": "histogram2d"
           }
          ],
          "histogram2dcontour": [
           {
            "colorbar": {
             "outlinewidth": 0,
             "ticks": ""
            },
            "colorscale": [
             [
              0,
              "#0d0887"
             ],
             [
              0.1111111111111111,
              "#46039f"
             ],
             [
              0.2222222222222222,
              "#7201a8"
             ],
             [
              0.3333333333333333,
              "#9c179e"
             ],
             [
              0.4444444444444444,
              "#bd3786"
             ],
             [
              0.5555555555555556,
              "#d8576b"
             ],
             [
              0.6666666666666666,
              "#ed7953"
             ],
             [
              0.7777777777777778,
              "#fb9f3a"
             ],
             [
              0.8888888888888888,
              "#fdca26"
             ],
             [
              1,
              "#f0f921"
             ]
            ],
            "type": "histogram2dcontour"
           }
          ],
          "mesh3d": [
           {
            "colorbar": {
             "outlinewidth": 0,
             "ticks": ""
            },
            "type": "mesh3d"
           }
          ],
          "parcoords": [
           {
            "line": {
             "colorbar": {
              "outlinewidth": 0,
              "ticks": ""
             }
            },
            "type": "parcoords"
           }
          ],
          "pie": [
           {
            "automargin": true,
            "type": "pie"
           }
          ],
          "scatter": [
           {
            "fillpattern": {
             "fillmode": "overlay",
             "size": 10,
             "solidity": 0.2
            },
            "type": "scatter"
           }
          ],
          "scatter3d": [
           {
            "line": {
             "colorbar": {
              "outlinewidth": 0,
              "ticks": ""
             }
            },
            "marker": {
             "colorbar": {
              "outlinewidth": 0,
              "ticks": ""
             }
            },
            "type": "scatter3d"
           }
          ],
          "scattercarpet": [
           {
            "marker": {
             "colorbar": {
              "outlinewidth": 0,
              "ticks": ""
             }
            },
            "type": "scattercarpet"
           }
          ],
          "scattergeo": [
           {
            "marker": {
             "colorbar": {
              "outlinewidth": 0,
              "ticks": ""
             }
            },
            "type": "scattergeo"
           }
          ],
          "scattergl": [
           {
            "marker": {
             "colorbar": {
              "outlinewidth": 0,
              "ticks": ""
             }
            },
            "type": "scattergl"
           }
          ],
          "scattermapbox": [
           {
            "marker": {
             "colorbar": {
              "outlinewidth": 0,
              "ticks": ""
             }
            },
            "type": "scattermapbox"
           }
          ],
          "scatterpolar": [
           {
            "marker": {
             "colorbar": {
              "outlinewidth": 0,
              "ticks": ""
             }
            },
            "type": "scatterpolar"
           }
          ],
          "scatterpolargl": [
           {
            "marker": {
             "colorbar": {
              "outlinewidth": 0,
              "ticks": ""
             }
            },
            "type": "scatterpolargl"
           }
          ],
          "scatterternary": [
           {
            "marker": {
             "colorbar": {
              "outlinewidth": 0,
              "ticks": ""
             }
            },
            "type": "scatterternary"
           }
          ],
          "surface": [
           {
            "colorbar": {
             "outlinewidth": 0,
             "ticks": ""
            },
            "colorscale": [
             [
              0,
              "#0d0887"
             ],
             [
              0.1111111111111111,
              "#46039f"
             ],
             [
              0.2222222222222222,
              "#7201a8"
             ],
             [
              0.3333333333333333,
              "#9c179e"
             ],
             [
              0.4444444444444444,
              "#bd3786"
             ],
             [
              0.5555555555555556,
              "#d8576b"
             ],
             [
              0.6666666666666666,
              "#ed7953"
             ],
             [
              0.7777777777777778,
              "#fb9f3a"
             ],
             [
              0.8888888888888888,
              "#fdca26"
             ],
             [
              1,
              "#f0f921"
             ]
            ],
            "type": "surface"
           }
          ],
          "table": [
           {
            "cells": {
             "fill": {
              "color": "#EBF0F8"
             },
             "line": {
              "color": "white"
             }
            },
            "header": {
             "fill": {
              "color": "#C8D4E3"
             },
             "line": {
              "color": "white"
             }
            },
            "type": "table"
           }
          ]
         },
         "layout": {
          "annotationdefaults": {
           "arrowcolor": "#2a3f5f",
           "arrowhead": 0,
           "arrowwidth": 1
          },
          "autotypenumbers": "strict",
          "coloraxis": {
           "colorbar": {
            "outlinewidth": 0,
            "ticks": ""
           }
          },
          "colorscale": {
           "diverging": [
            [
             0,
             "#8e0152"
            ],
            [
             0.1,
             "#c51b7d"
            ],
            [
             0.2,
             "#de77ae"
            ],
            [
             0.3,
             "#f1b6da"
            ],
            [
             0.4,
             "#fde0ef"
            ],
            [
             0.5,
             "#f7f7f7"
            ],
            [
             0.6,
             "#e6f5d0"
            ],
            [
             0.7,
             "#b8e186"
            ],
            [
             0.8,
             "#7fbc41"
            ],
            [
             0.9,
             "#4d9221"
            ],
            [
             1,
             "#276419"
            ]
           ],
           "sequential": [
            [
             0,
             "#0d0887"
            ],
            [
             0.1111111111111111,
             "#46039f"
            ],
            [
             0.2222222222222222,
             "#7201a8"
            ],
            [
             0.3333333333333333,
             "#9c179e"
            ],
            [
             0.4444444444444444,
             "#bd3786"
            ],
            [
             0.5555555555555556,
             "#d8576b"
            ],
            [
             0.6666666666666666,
             "#ed7953"
            ],
            [
             0.7777777777777778,
             "#fb9f3a"
            ],
            [
             0.8888888888888888,
             "#fdca26"
            ],
            [
             1,
             "#f0f921"
            ]
           ],
           "sequentialminus": [
            [
             0,
             "#0d0887"
            ],
            [
             0.1111111111111111,
             "#46039f"
            ],
            [
             0.2222222222222222,
             "#7201a8"
            ],
            [
             0.3333333333333333,
             "#9c179e"
            ],
            [
             0.4444444444444444,
             "#bd3786"
            ],
            [
             0.5555555555555556,
             "#d8576b"
            ],
            [
             0.6666666666666666,
             "#ed7953"
            ],
            [
             0.7777777777777778,
             "#fb9f3a"
            ],
            [
             0.8888888888888888,
             "#fdca26"
            ],
            [
             1,
             "#f0f921"
            ]
           ]
          },
          "colorway": [
           "#636efa",
           "#EF553B",
           "#00cc96",
           "#ab63fa",
           "#FFA15A",
           "#19d3f3",
           "#FF6692",
           "#B6E880",
           "#FF97FF",
           "#FECB52"
          ],
          "font": {
           "color": "#2a3f5f"
          },
          "geo": {
           "bgcolor": "white",
           "lakecolor": "white",
           "landcolor": "#E5ECF6",
           "showlakes": true,
           "showland": true,
           "subunitcolor": "white"
          },
          "hoverlabel": {
           "align": "left"
          },
          "hovermode": "closest",
          "mapbox": {
           "style": "light"
          },
          "paper_bgcolor": "white",
          "plot_bgcolor": "#E5ECF6",
          "polar": {
           "angularaxis": {
            "gridcolor": "white",
            "linecolor": "white",
            "ticks": ""
           },
           "bgcolor": "#E5ECF6",
           "radialaxis": {
            "gridcolor": "white",
            "linecolor": "white",
            "ticks": ""
           }
          },
          "scene": {
           "xaxis": {
            "backgroundcolor": "#E5ECF6",
            "gridcolor": "white",
            "gridwidth": 2,
            "linecolor": "white",
            "showbackground": true,
            "ticks": "",
            "zerolinecolor": "white"
           },
           "yaxis": {
            "backgroundcolor": "#E5ECF6",
            "gridcolor": "white",
            "gridwidth": 2,
            "linecolor": "white",
            "showbackground": true,
            "ticks": "",
            "zerolinecolor": "white"
           },
           "zaxis": {
            "backgroundcolor": "#E5ECF6",
            "gridcolor": "white",
            "gridwidth": 2,
            "linecolor": "white",
            "showbackground": true,
            "ticks": "",
            "zerolinecolor": "white"
           }
          },
          "shapedefaults": {
           "line": {
            "color": "#2a3f5f"
           }
          },
          "ternary": {
           "aaxis": {
            "gridcolor": "white",
            "linecolor": "white",
            "ticks": ""
           },
           "baxis": {
            "gridcolor": "white",
            "linecolor": "white",
            "ticks": ""
           },
           "bgcolor": "#E5ECF6",
           "caxis": {
            "gridcolor": "white",
            "linecolor": "white",
            "ticks": ""
           }
          },
          "title": {
           "x": 0.05
          },
          "xaxis": {
           "automargin": true,
           "gridcolor": "white",
           "linecolor": "white",
           "ticks": "",
           "title": {
            "standoff": 15
           },
           "zerolinecolor": "white",
           "zerolinewidth": 2
          },
          "yaxis": {
           "automargin": true,
           "gridcolor": "white",
           "linecolor": "white",
           "ticks": "",
           "title": {
            "standoff": 15
           },
           "zerolinecolor": "white",
           "zerolinewidth": 2
          }
         }
        },
        "title": {
         "text": "Cost vs Demand Loss"
        },
        "xaxis": {
         "anchor": "y",
         "domain": [
          0,
          1
         ],
         "title": {
          "text": "TOTAL.PRICE"
         }
        },
        "yaxis": {
         "anchor": "x",
         "domain": [
          0,
          1
         ],
         "title": {
          "text": "DEMAND.LOSS.MW"
         }
        }
       }
      }
     },
     "metadata": {},
     "output_type": "display_data"
    }
   ],
   "source": [
    "# Start by getting the relevant columns, and dropping nan vals\n",
    "temp_data = formated_data[['TOTAL.PRICE', 'DEMAND.LOSS.MW', 'OUTAGE.DURATION']].dropna()\n",
    "temp_data['OUTAGE.DURATION'] = temp_data['OUTAGE.DURATION'].astype(float)\n",
    "temp_data.loc[:, 'DEMAND.LOSS.MW'] = temp_data['DEMAND.LOSS.MW'].astype(float)\n",
    "px.scatter(temp_data, x='TOTAL.PRICE', y='DEMAND.LOSS.MW', title='Cost vs Demand Loss')"
   ]
  },
  {
   "cell_type": "code",
   "execution_count": 36,
   "metadata": {},
   "outputs": [
    {
     "data": {
      "text/plain": [
       "PearsonRResult(statistic=0.04455305349818451, pvalue=0.20924488838558938)"
      ]
     },
     "execution_count": 36,
     "metadata": {},
     "output_type": "execute_result"
    }
   ],
   "source": [
    "stats.pearsonr(temp_data['TOTAL.PRICE'], temp_data['DEMAND.LOSS.MW'])"
   ]
  },
  {
   "cell_type": "markdown",
   "metadata": {},
   "source": [
    "Again, not enough correlation to reject our null Hypothesis - however, this test may not be entirely accurate, as one issue with the data is how the Peak demand loss values are generated. According to the data documentation, some of these values are not peak demand loss but rather total demand loss, and with no way to tell them apart, we will be unable to preform a more rigorous test."
   ]
  },
  {
   "cell_type": "markdown",
   "metadata": {},
   "source": [
    "## Step 5: Framing a Prediction Problem"
   ]
  },
  {
   "cell_type": "markdown",
   "metadata": {},
   "source": [
    "We will be training a model to predict the outage duration of a power outage, idealy to make a prediction after the power is lost. Thus, features like customers affected will be accesible to the model, but features like peak demand loss will not be, since that feature is dependent on the length of the outage"
   ]
  },
  {
   "cell_type": "code",
   "execution_count": 37,
   "metadata": {},
   "outputs": [
    {
     "data": {
      "application/vnd.plotly.v1+json": {
       "config": {
        "plotlyServerURL": "https://plot.ly"
       },
       "data": [
        {
         "alignmentgroup": "True",
         "hovertemplate": "CAUSE.CATEGORY=%{x}<br>OUTAGE.DURATION=%{y}<extra></extra>",
         "legendgroup": "",
         "marker": {
          "color": "#636efa",
          "pattern": {
           "shape": ""
          }
         },
         "name": "",
         "offsetgroup": "",
         "orientation": "v",
         "showlegend": false,
         "textposition": "auto",
         "type": "bar",
         "x": [
          "equipment failure",
          "fuel supply emergency",
          "intentional attack",
          "islanding",
          "public appeal",
          "severe weather",
          "system operability disruption"
         ],
         "xaxis": "x",
         "y": [
          1816.909090909091,
          13484.026315789473,
          429.9801488833747,
          200.54545454545453,
          1468.4492753623188,
          3883.9852150537636,
          728.869918699187
         ],
         "yaxis": "y"
        }
       ],
       "layout": {
        "barmode": "relative",
        "legend": {
         "tracegroupgap": 0
        },
        "template": {
         "data": {
          "bar": [
           {
            "error_x": {
             "color": "#2a3f5f"
            },
            "error_y": {
             "color": "#2a3f5f"
            },
            "marker": {
             "line": {
              "color": "#E5ECF6",
              "width": 0.5
             },
             "pattern": {
              "fillmode": "overlay",
              "size": 10,
              "solidity": 0.2
             }
            },
            "type": "bar"
           }
          ],
          "barpolar": [
           {
            "marker": {
             "line": {
              "color": "#E5ECF6",
              "width": 0.5
             },
             "pattern": {
              "fillmode": "overlay",
              "size": 10,
              "solidity": 0.2
             }
            },
            "type": "barpolar"
           }
          ],
          "carpet": [
           {
            "aaxis": {
             "endlinecolor": "#2a3f5f",
             "gridcolor": "white",
             "linecolor": "white",
             "minorgridcolor": "white",
             "startlinecolor": "#2a3f5f"
            },
            "baxis": {
             "endlinecolor": "#2a3f5f",
             "gridcolor": "white",
             "linecolor": "white",
             "minorgridcolor": "white",
             "startlinecolor": "#2a3f5f"
            },
            "type": "carpet"
           }
          ],
          "choropleth": [
           {
            "colorbar": {
             "outlinewidth": 0,
             "ticks": ""
            },
            "type": "choropleth"
           }
          ],
          "contour": [
           {
            "colorbar": {
             "outlinewidth": 0,
             "ticks": ""
            },
            "colorscale": [
             [
              0,
              "#0d0887"
             ],
             [
              0.1111111111111111,
              "#46039f"
             ],
             [
              0.2222222222222222,
              "#7201a8"
             ],
             [
              0.3333333333333333,
              "#9c179e"
             ],
             [
              0.4444444444444444,
              "#bd3786"
             ],
             [
              0.5555555555555556,
              "#d8576b"
             ],
             [
              0.6666666666666666,
              "#ed7953"
             ],
             [
              0.7777777777777778,
              "#fb9f3a"
             ],
             [
              0.8888888888888888,
              "#fdca26"
             ],
             [
              1,
              "#f0f921"
             ]
            ],
            "type": "contour"
           }
          ],
          "contourcarpet": [
           {
            "colorbar": {
             "outlinewidth": 0,
             "ticks": ""
            },
            "type": "contourcarpet"
           }
          ],
          "heatmap": [
           {
            "colorbar": {
             "outlinewidth": 0,
             "ticks": ""
            },
            "colorscale": [
             [
              0,
              "#0d0887"
             ],
             [
              0.1111111111111111,
              "#46039f"
             ],
             [
              0.2222222222222222,
              "#7201a8"
             ],
             [
              0.3333333333333333,
              "#9c179e"
             ],
             [
              0.4444444444444444,
              "#bd3786"
             ],
             [
              0.5555555555555556,
              "#d8576b"
             ],
             [
              0.6666666666666666,
              "#ed7953"
             ],
             [
              0.7777777777777778,
              "#fb9f3a"
             ],
             [
              0.8888888888888888,
              "#fdca26"
             ],
             [
              1,
              "#f0f921"
             ]
            ],
            "type": "heatmap"
           }
          ],
          "heatmapgl": [
           {
            "colorbar": {
             "outlinewidth": 0,
             "ticks": ""
            },
            "colorscale": [
             [
              0,
              "#0d0887"
             ],
             [
              0.1111111111111111,
              "#46039f"
             ],
             [
              0.2222222222222222,
              "#7201a8"
             ],
             [
              0.3333333333333333,
              "#9c179e"
             ],
             [
              0.4444444444444444,
              "#bd3786"
             ],
             [
              0.5555555555555556,
              "#d8576b"
             ],
             [
              0.6666666666666666,
              "#ed7953"
             ],
             [
              0.7777777777777778,
              "#fb9f3a"
             ],
             [
              0.8888888888888888,
              "#fdca26"
             ],
             [
              1,
              "#f0f921"
             ]
            ],
            "type": "heatmapgl"
           }
          ],
          "histogram": [
           {
            "marker": {
             "pattern": {
              "fillmode": "overlay",
              "size": 10,
              "solidity": 0.2
             }
            },
            "type": "histogram"
           }
          ],
          "histogram2d": [
           {
            "colorbar": {
             "outlinewidth": 0,
             "ticks": ""
            },
            "colorscale": [
             [
              0,
              "#0d0887"
             ],
             [
              0.1111111111111111,
              "#46039f"
             ],
             [
              0.2222222222222222,
              "#7201a8"
             ],
             [
              0.3333333333333333,
              "#9c179e"
             ],
             [
              0.4444444444444444,
              "#bd3786"
             ],
             [
              0.5555555555555556,
              "#d8576b"
             ],
             [
              0.6666666666666666,
              "#ed7953"
             ],
             [
              0.7777777777777778,
              "#fb9f3a"
             ],
             [
              0.8888888888888888,
              "#fdca26"
             ],
             [
              1,
              "#f0f921"
             ]
            ],
            "type": "histogram2d"
           }
          ],
          "histogram2dcontour": [
           {
            "colorbar": {
             "outlinewidth": 0,
             "ticks": ""
            },
            "colorscale": [
             [
              0,
              "#0d0887"
             ],
             [
              0.1111111111111111,
              "#46039f"
             ],
             [
              0.2222222222222222,
              "#7201a8"
             ],
             [
              0.3333333333333333,
              "#9c179e"
             ],
             [
              0.4444444444444444,
              "#bd3786"
             ],
             [
              0.5555555555555556,
              "#d8576b"
             ],
             [
              0.6666666666666666,
              "#ed7953"
             ],
             [
              0.7777777777777778,
              "#fb9f3a"
             ],
             [
              0.8888888888888888,
              "#fdca26"
             ],
             [
              1,
              "#f0f921"
             ]
            ],
            "type": "histogram2dcontour"
           }
          ],
          "mesh3d": [
           {
            "colorbar": {
             "outlinewidth": 0,
             "ticks": ""
            },
            "type": "mesh3d"
           }
          ],
          "parcoords": [
           {
            "line": {
             "colorbar": {
              "outlinewidth": 0,
              "ticks": ""
             }
            },
            "type": "parcoords"
           }
          ],
          "pie": [
           {
            "automargin": true,
            "type": "pie"
           }
          ],
          "scatter": [
           {
            "fillpattern": {
             "fillmode": "overlay",
             "size": 10,
             "solidity": 0.2
            },
            "type": "scatter"
           }
          ],
          "scatter3d": [
           {
            "line": {
             "colorbar": {
              "outlinewidth": 0,
              "ticks": ""
             }
            },
            "marker": {
             "colorbar": {
              "outlinewidth": 0,
              "ticks": ""
             }
            },
            "type": "scatter3d"
           }
          ],
          "scattercarpet": [
           {
            "marker": {
             "colorbar": {
              "outlinewidth": 0,
              "ticks": ""
             }
            },
            "type": "scattercarpet"
           }
          ],
          "scattergeo": [
           {
            "marker": {
             "colorbar": {
              "outlinewidth": 0,
              "ticks": ""
             }
            },
            "type": "scattergeo"
           }
          ],
          "scattergl": [
           {
            "marker": {
             "colorbar": {
              "outlinewidth": 0,
              "ticks": ""
             }
            },
            "type": "scattergl"
           }
          ],
          "scattermapbox": [
           {
            "marker": {
             "colorbar": {
              "outlinewidth": 0,
              "ticks": ""
             }
            },
            "type": "scattermapbox"
           }
          ],
          "scatterpolar": [
           {
            "marker": {
             "colorbar": {
              "outlinewidth": 0,
              "ticks": ""
             }
            },
            "type": "scatterpolar"
           }
          ],
          "scatterpolargl": [
           {
            "marker": {
             "colorbar": {
              "outlinewidth": 0,
              "ticks": ""
             }
            },
            "type": "scatterpolargl"
           }
          ],
          "scatterternary": [
           {
            "marker": {
             "colorbar": {
              "outlinewidth": 0,
              "ticks": ""
             }
            },
            "type": "scatterternary"
           }
          ],
          "surface": [
           {
            "colorbar": {
             "outlinewidth": 0,
             "ticks": ""
            },
            "colorscale": [
             [
              0,
              "#0d0887"
             ],
             [
              0.1111111111111111,
              "#46039f"
             ],
             [
              0.2222222222222222,
              "#7201a8"
             ],
             [
              0.3333333333333333,
              "#9c179e"
             ],
             [
              0.4444444444444444,
              "#bd3786"
             ],
             [
              0.5555555555555556,
              "#d8576b"
             ],
             [
              0.6666666666666666,
              "#ed7953"
             ],
             [
              0.7777777777777778,
              "#fb9f3a"
             ],
             [
              0.8888888888888888,
              "#fdca26"
             ],
             [
              1,
              "#f0f921"
             ]
            ],
            "type": "surface"
           }
          ],
          "table": [
           {
            "cells": {
             "fill": {
              "color": "#EBF0F8"
             },
             "line": {
              "color": "white"
             }
            },
            "header": {
             "fill": {
              "color": "#C8D4E3"
             },
             "line": {
              "color": "white"
             }
            },
            "type": "table"
           }
          ]
         },
         "layout": {
          "annotationdefaults": {
           "arrowcolor": "#2a3f5f",
           "arrowhead": 0,
           "arrowwidth": 1
          },
          "autotypenumbers": "strict",
          "coloraxis": {
           "colorbar": {
            "outlinewidth": 0,
            "ticks": ""
           }
          },
          "colorscale": {
           "diverging": [
            [
             0,
             "#8e0152"
            ],
            [
             0.1,
             "#c51b7d"
            ],
            [
             0.2,
             "#de77ae"
            ],
            [
             0.3,
             "#f1b6da"
            ],
            [
             0.4,
             "#fde0ef"
            ],
            [
             0.5,
             "#f7f7f7"
            ],
            [
             0.6,
             "#e6f5d0"
            ],
            [
             0.7,
             "#b8e186"
            ],
            [
             0.8,
             "#7fbc41"
            ],
            [
             0.9,
             "#4d9221"
            ],
            [
             1,
             "#276419"
            ]
           ],
           "sequential": [
            [
             0,
             "#0d0887"
            ],
            [
             0.1111111111111111,
             "#46039f"
            ],
            [
             0.2222222222222222,
             "#7201a8"
            ],
            [
             0.3333333333333333,
             "#9c179e"
            ],
            [
             0.4444444444444444,
             "#bd3786"
            ],
            [
             0.5555555555555556,
             "#d8576b"
            ],
            [
             0.6666666666666666,
             "#ed7953"
            ],
            [
             0.7777777777777778,
             "#fb9f3a"
            ],
            [
             0.8888888888888888,
             "#fdca26"
            ],
            [
             1,
             "#f0f921"
            ]
           ],
           "sequentialminus": [
            [
             0,
             "#0d0887"
            ],
            [
             0.1111111111111111,
             "#46039f"
            ],
            [
             0.2222222222222222,
             "#7201a8"
            ],
            [
             0.3333333333333333,
             "#9c179e"
            ],
            [
             0.4444444444444444,
             "#bd3786"
            ],
            [
             0.5555555555555556,
             "#d8576b"
            ],
            [
             0.6666666666666666,
             "#ed7953"
            ],
            [
             0.7777777777777778,
             "#fb9f3a"
            ],
            [
             0.8888888888888888,
             "#fdca26"
            ],
            [
             1,
             "#f0f921"
            ]
           ]
          },
          "colorway": [
           "#636efa",
           "#EF553B",
           "#00cc96",
           "#ab63fa",
           "#FFA15A",
           "#19d3f3",
           "#FF6692",
           "#B6E880",
           "#FF97FF",
           "#FECB52"
          ],
          "font": {
           "color": "#2a3f5f"
          },
          "geo": {
           "bgcolor": "white",
           "lakecolor": "white",
           "landcolor": "#E5ECF6",
           "showlakes": true,
           "showland": true,
           "subunitcolor": "white"
          },
          "hoverlabel": {
           "align": "left"
          },
          "hovermode": "closest",
          "mapbox": {
           "style": "light"
          },
          "paper_bgcolor": "white",
          "plot_bgcolor": "#E5ECF6",
          "polar": {
           "angularaxis": {
            "gridcolor": "white",
            "linecolor": "white",
            "ticks": ""
           },
           "bgcolor": "#E5ECF6",
           "radialaxis": {
            "gridcolor": "white",
            "linecolor": "white",
            "ticks": ""
           }
          },
          "scene": {
           "xaxis": {
            "backgroundcolor": "#E5ECF6",
            "gridcolor": "white",
            "gridwidth": 2,
            "linecolor": "white",
            "showbackground": true,
            "ticks": "",
            "zerolinecolor": "white"
           },
           "yaxis": {
            "backgroundcolor": "#E5ECF6",
            "gridcolor": "white",
            "gridwidth": 2,
            "linecolor": "white",
            "showbackground": true,
            "ticks": "",
            "zerolinecolor": "white"
           },
           "zaxis": {
            "backgroundcolor": "#E5ECF6",
            "gridcolor": "white",
            "gridwidth": 2,
            "linecolor": "white",
            "showbackground": true,
            "ticks": "",
            "zerolinecolor": "white"
           }
          },
          "shapedefaults": {
           "line": {
            "color": "#2a3f5f"
           }
          },
          "ternary": {
           "aaxis": {
            "gridcolor": "white",
            "linecolor": "white",
            "ticks": ""
           },
           "baxis": {
            "gridcolor": "white",
            "linecolor": "white",
            "ticks": ""
           },
           "bgcolor": "#E5ECF6",
           "caxis": {
            "gridcolor": "white",
            "linecolor": "white",
            "ticks": ""
           }
          },
          "title": {
           "x": 0.05
          },
          "xaxis": {
           "automargin": true,
           "gridcolor": "white",
           "linecolor": "white",
           "ticks": "",
           "title": {
            "standoff": 15
           },
           "zerolinecolor": "white",
           "zerolinewidth": 2
          },
          "yaxis": {
           "automargin": true,
           "gridcolor": "white",
           "linecolor": "white",
           "ticks": "",
           "title": {
            "standoff": 15
           },
           "zerolinecolor": "white",
           "zerolinewidth": 2
          }
         }
        },
        "title": {
         "text": "Outages by Cause"
        },
        "xaxis": {
         "anchor": "y",
         "domain": [
          0,
          1
         ],
         "title": {
          "text": "CAUSE.CATEGORY"
         }
        },
        "yaxis": {
         "anchor": "x",
         "domain": [
          0,
          1
         ],
         "title": {
          "text": "OUTAGE.DURATION"
         }
        }
       }
      }
     },
     "metadata": {},
     "output_type": "display_data"
    }
   ],
   "source": [
    "px.bar(formated_data.groupby('CAUSE.CATEGORY').mean().reset_index(), x='CAUSE.CATEGORY', y='OUTAGE.DURATION', title='Outages by Cause')"
   ]
  },
  {
   "cell_type": "markdown",
   "metadata": {},
   "source": [
    "Lots of outliers seem to exist in this dataset, and the way that the price vs affected clusters seem to group looks as though a DesisionTree/RandomForest regressor would be good for making predicitons here"
   ]
  },
  {
   "cell_type": "markdown",
   "metadata": {},
   "source": [
    "It also seems like there are certain causes that cause longer outage times, so oneHotEncoding this information will likely also be a good feature to include in the model"
   ]
  },
  {
   "cell_type": "code",
   "execution_count": 38,
   "metadata": {},
   "outputs": [
    {
     "data": {
      "text/plain": [
       "4\n",
       "TOTAL.PRICE           50\n",
       "CUSTOMERS.AFFECTED     7\n",
       "OUTAGE.DURATION       38\n",
       "Name: fuel supply emergency, dtype: int64"
      ]
     },
     "execution_count": 38,
     "metadata": {},
     "output_type": "execute_result"
    }
   ],
   "source": [
    "peek = formated_data.groupby('CAUSE.CATEGORY').count()\n",
    "look = peek[['TOTAL.PRICE', 'CUSTOMERS.AFFECTED', 'OUTAGE.DURATION']].loc['fuel supply emergency']\n",
    "look"
   ]
  },
  {
   "cell_type": "markdown",
   "metadata": {},
   "source": [
    "Note that the values we want to train on contain mostly nan values for the fuel supply emergency column - find a way to impute this so that there is enough data of this type to train the model on"
   ]
  },
  {
   "cell_type": "markdown",
   "metadata": {},
   "source": [
    "## Step 6: Baseline Model"
   ]
  },
  {
   "cell_type": "markdown",
   "metadata": {},
   "source": [
    "For out Baseline Model, we will start by using a RandomForestRegressor, including the Customers Affected and a OneHotEncoding of the Cause catagory, trained via a gridsearch. For this baseline, we will not try to find perfect parameters, simply look over a couple of spaced ones to find an ideal outcome. Although we are using a RandomForestRegressor, we will be using standard Scaler to scale the data, as we may want to use a different model in the future that requires scaled data."
   ]
  },
  {
   "cell_type": "code",
   "execution_count": 39,
   "metadata": {
    "ExecuteTime": {
     "end_time": "2019-10-31T23:36:28.662099Z",
     "start_time": "2019-10-31T23:36:28.660016Z"
    }
   },
   "outputs": [],
   "source": [
    "from sklearn.ensemble import RandomForestRegressor\n",
    "from sklearn.model_selection import train_test_split\n",
    "from sklearn.pipeline import Pipeline\n",
    "from sklearn.compose import ColumnTransformer\n",
    "from sklearn.preprocessing import OneHotEncoder, StandardScaler\n",
    "from sklearn.model_selection import GridSearchCV\n",
    "from sklearn.experimental import enable_iterative_imputer\n",
    "from sklearn.impute import KNNImputer, SimpleImputer, IterativeImputer\n",
    "# define the training data\n",
    "training_attrs = ['CAUSE.CATEGORY', 'CUSTOMERS.AFFECTED', 'TOTAL.SALES', 'POPDEN_UC', 'PC.REALGSP.CHANGE', 'ANOMALY.LEVEL', 'PCT_WATER_INLAND']"
   ]
  },
  {
   "cell_type": "markdown",
   "metadata": {},
   "source": [
    "# Breakdown of feature selection\n",
    "- Cause: some causes seem to be highly correlated with longer outages, likely because they take longer to fix\n",
    "- Customers Affected: The more customers that are affected by an outage, (in theory) the higher the priority of fixing that outage woul be\n",
    "- Total.Sales: the total amount of power that is put out to the customers would likely imply a larger grid, and probably better infrastructer, making outage response time much better\n",
    "- POPDEN_UC: Population density in urban clusters would correlate to the number of people that are affected, and how large the grid is - like above, larger grid likely means better ability to fix it\n",
    "- PC.REALGSP.CHANGE: the change in states gross product year on year is probably correlated with how well it is able to run it's power grid, and how much money is in the state at a time. If this goes down suddenly, a state is likely less able to handle difficult outages, because there may be some budget cuts\n",
    "- Anomaly level: A measruement of how much of an el nino year it is. If this value is more extreme, the weather may be more severe, and therefore make fixing outaged more difficult\n",
    "- PCT_WATER_INLAND: in theory, this could be usefull in combination with the previous data point, since more water inland probably means more storms and therefore more difficulty fixing power\n"
   ]
  },
  {
   "cell_type": "code",
   "execution_count": 40,
   "metadata": {},
   "outputs": [],
   "source": [
    "no_nans = formated_data.dropna(subset=['OUTAGE.DURATION'])\n",
    "X_train, X_test, y_train, y_test = train_test_split(no_nans, no_nans['OUTAGE.DURATION'], test_size=0.2, random_state=42)"
   ]
  },
  {
   "cell_type": "markdown",
   "metadata": {},
   "source": [
    "One issue with the features here is that many of the missing values seems to be highly correlated with being a fuel supply emergency, which also seems to indicate much higher outage times. Becasue of the missingness, the model likely ownt be able to make use of this as well, so we will impute some missing values so we can still use these data points. To do this, we are using the Itterative Imputer from sklearn - many of these values seem to be somewhat dependent on a category, so we dont want to impute solely on one value accross all nans"
   ]
  },
  {
   "cell_type": "code",
   "execution_count": 41,
   "metadata": {},
   "outputs": [
    {
     "data": {
      "text/plain": [
       "0.21647581945548522"
      ]
     },
     "execution_count": 41,
     "metadata": {},
     "output_type": "execute_result"
    }
   ],
   "source": [
    "trans = ColumnTransformer([  # define the column transformer - one hot encode the cause category and scale the rest\n",
    "    ('cat', OneHotEncoder(handle_unknown='ignore'), ['CAUSE.CATEGORY']),\n",
    "    ('scale', StandardScaler(), [\n",
    "        'CUSTOMERS.AFFECTED', 'TOTAL.SALES', 'POPDEN_UC',\n",
    "        'POPPCT_UC', 'PC.REALGSP.CHANGE', 'PCT_WATER_INLAND',\n",
    "        'ANOMALY.LEVEL'\n",
    "        ])],\n",
    "        remainder='drop'  # drop any columns not specified, since this will be passed all of the columns\n",
    "    )\n",
    "\n",
    "pipe = Pipeline([  # define the pipeline\n",
    "    ('trans', trans),\n",
    "    ('fill_nans', IterativeImputer()),  # fill the nans that might exist\n",
    "    ('model', RandomForestRegressor())\n",
    "])\n",
    "\n",
    "param_grid = {  # define the parameter grid for the grid search - we are not trying a large number, since this is just a baseline\n",
    "    'model__n_estimators': [10, 50, 100],\n",
    "    'model__max_depth': [10, 50, 100]\n",
    "}\n",
    "\n",
    "grid = GridSearchCV(pipe, param_grid, cv=5, scoring='r2')\n",
    "grid.fit(X_train, y_train)\n",
    "grid.score(X_test, y_test)"
   ]
  },
  {
   "cell_type": "markdown",
   "metadata": {},
   "source": [
    "## Step 7: Final Model"
   ]
  },
  {
   "cell_type": "markdown",
   "metadata": {},
   "source": [
    "Likely the biggest issue with our old model is the imputation scheme, as we can preform a probabalistic imputation accross certain columns if we know they are correlated. To do this we will define a custom imputation class. We will hard-code a couple of imputation groups, since we will only be needing this for this model"
   ]
  },
  {
   "cell_type": "code",
   "execution_count": 42,
   "metadata": {},
   "outputs": [],
   "source": [
    "from sklearn.base import BaseEstimator, TransformerMixin\n",
    "from sklearn.impute import SimpleImputer\n",
    "\n",
    "class CustomImputer(BaseEstimator, TransformerMixin):\n",
    "    \"\"\"\n",
    "    CustomImputer is a class that imputes missing values in a pandas DataFrame using a specified strategy.\n",
    "    \n",
    "    Parameters:\n",
    "    -----------\n",
    "    strategy : str, optional\n",
    "        The imputation strategy to use. Default is 'mean'.\n",
    "    \"\"\"\n",
    "    \n",
    "    def __init__(self, strategy='mean'):\n",
    "        self.strategy = strategy\n",
    "        self.imputer = KNNImputer()\n",
    "        self.groups = {\n",
    "            'CUSTOMERS.AFFECTED': 'CAUSE.CATEGORY',\n",
    "            'TOTAL.SALES': 'NERC.REGION',\n",
    "        }\n",
    "        \n",
    "    def _impute(self, ser: pd.Series):\n",
    "        \"\"\"\n",
    "        Imputes missing values in a pandas Series using random sampling from non-missing values.\n",
    "        \n",
    "        Parameters:\n",
    "        -----------\n",
    "        ser : pd.Series\n",
    "            The Series to impute missing values for.\n",
    "        \n",
    "        Returns:\n",
    "        --------\n",
    "        pd.Series\n",
    "            The Series with imputed missing values.\n",
    "        \"\"\"\n",
    "        nans = ser[ser.isna()]\n",
    "        if nans.shape[0] == 0 or nans.shape[0] == ser.shape[0]:\n",
    "            return ser\n",
    "        newvals = np.random.choice(ser.dropna(), nans.shape[0])\n",
    "        ser.loc[nans.index] = newvals\n",
    "        return ser\n",
    "    \n",
    "    def fit(self, X, y=None):\n",
    "        \"\"\"\n",
    "        Fits the imputer to the data.\n",
    "        \n",
    "        Parameters:\n",
    "        -----------\n",
    "        X : pd.DataFrame\n",
    "            The input data.\n",
    "        y : None\n",
    "            Ignored.\n",
    "        \n",
    "        Returns:\n",
    "        --------\n",
    "        self\n",
    "        \"\"\"\n",
    "        return self\n",
    "    \n",
    "    def transform(self, X: pd.DataFrame, y=None):\n",
    "        \"\"\"\n",
    "        Transforms the input data by imputing missing values.\n",
    "        \n",
    "        Parameters:\n",
    "        -----------\n",
    "        X : pd.DataFrame\n",
    "            The input data to transform.\n",
    "        y : None\n",
    "            Ignored.\n",
    "        \n",
    "        Returns:\n",
    "        --------\n",
    "        pd.DataFrame\n",
    "            The transformed data with imputed missing values.\n",
    "        \"\"\"\n",
    "        for val in self.groups:\n",
    "            X.loc[:, val] = X.groupby(self.groups[val])[val].transform(self._impute)\n",
    "        return X"
   ]
  },
  {
   "cell_type": "markdown",
   "metadata": {},
   "source": [
    "Seccondly, we will modify some of the variables we are passing the model. First, since the preportion of water inland isn't really a usefull feature on it's own, we will multiply it with the anomaly level. Finaly, we will add a new feature, called likely_loss, which is the percentage of a states population that was affected multiplied by the total sales, as this proably correlates with the amount of demand lost and therefore the priority of fixing the outage."
   ]
  },
  {
   "cell_type": "code",
   "execution_count": 43,
   "metadata": {},
   "outputs": [],
   "source": [
    "class FeatureMultiplier(BaseEstimator, TransformerMixin):\n",
    "    \"\"\"\n",
    "    A transformer class that multiplies two input features and creates a new feature.\n",
    "\n",
    "    Parameters:\n",
    "    -----------\n",
    "    feature1 : str\n",
    "        The name of the first feature to be multiplied.\n",
    "    feature2 : str\n",
    "        The name of the second feature to be multiplied.\n",
    "    new_feature : str\n",
    "        The name of the new feature to be created.\n",
    "\n",
    "    Methods:\n",
    "    --------\n",
    "    fit(X, y=None)\n",
    "        Fit the transformer to the data.\n",
    "\n",
    "    transform(X)\n",
    "        Transform the data by multiplying the specified features and creating a new feature.\n",
    "\n",
    "    \"\"\"\n",
    "\n",
    "    def __init__(self, feature1, feature2, new_feature):\n",
    "        self.feature1 = feature1\n",
    "        self.feature2 = feature2\n",
    "        self.new_feature = new_feature\n",
    "\n",
    "    def fit(self, X, y=None):\n",
    "        \"\"\"\n",
    "        Fit the transformer to the data.\n",
    "\n",
    "        Parameters:\n",
    "        -----------\n",
    "        X : array-like, shape (n_samples, n_features)\n",
    "            The input data.\n",
    "\n",
    "        y : array-like, shape (n_samples,), optional (default=None)\n",
    "            The target values.\n",
    "\n",
    "        Returns:\n",
    "        --------\n",
    "        self : object\n",
    "            Returns the instance itself.\n",
    "\n",
    "        \"\"\"\n",
    "        return self\n",
    "\n",
    "    def transform(self, X):\n",
    "        \"\"\"\n",
    "        Transform the data by multiplying the specified features and creating a new feature.\n",
    "\n",
    "        Parameters:\n",
    "        -----------\n",
    "        X : array-like, shape (n_samples, n_features)\n",
    "            The input data.\n",
    "\n",
    "        Returns:\n",
    "        --------\n",
    "        X_transformed : array-like, shape (n_samples, n_features + 1)\n",
    "            The transformed data with the new feature added.\n",
    "\n",
    "        \"\"\"\n",
    "        X[self.new_feature] = X[self.feature1] * X[self.feature2]\n",
    "        return X"
   ]
  },
  {
   "cell_type": "code",
   "execution_count": 44,
   "metadata": {},
   "outputs": [],
   "source": [
    "class FeatureDivider(BaseEstimator, TransformerMixin):\n",
    "    \"\"\"\n",
    "    A transformer class that divides two features and creates a new feature.\n",
    "\n",
    "    Parameters:\n",
    "    -----------\n",
    "    feature1 : str\n",
    "        The name of the first feature to be divided.\n",
    "    feature2 : str\n",
    "        The name of the second feature to be divided.\n",
    "    new_feature : str\n",
    "        The name of the new feature to be created.\n",
    "\n",
    "    Methods:\n",
    "    --------\n",
    "    fit(X, y=None)\n",
    "        Fit the transformer on the input data.\n",
    "\n",
    "    transform(X)\n",
    "        Transform the input data by dividing the specified features and creating a new feature.\n",
    "\n",
    "    \"\"\"\n",
    "\n",
    "    def __init__(self, feature1, feature2, new_feature):\n",
    "        self.feature1 = feature1\n",
    "        self.feature2 = feature2\n",
    "        self.new_feature = new_feature\n",
    "\n",
    "    def fit(self, X, y=None):\n",
    "        \"\"\"\n",
    "        Fit the transformer on the input data.\n",
    "\n",
    "        Parameters:\n",
    "        -----------\n",
    "        X : array-like or dataframe\n",
    "            The input data to be transformed.\n",
    "        y : array-like, optional\n",
    "            The target variable. Default is None.\n",
    "\n",
    "        Returns:\n",
    "        --------\n",
    "        self : FeatureDivider\n",
    "            The fitted transformer object.\n",
    "\n",
    "        \"\"\"\n",
    "        return self\n",
    "\n",
    "    def transform(self, X):\n",
    "        \"\"\"\n",
    "        Transform the input data by dividing the specified features and creating a new feature.\n",
    "\n",
    "        Parameters:\n",
    "        -----------\n",
    "        X : array-like or dataframe\n",
    "            The input data to be transformed.\n",
    "\n",
    "        Returns:\n",
    "        --------\n",
    "        X : array-like or dataframe\n",
    "            The transformed data with the new feature added.\n",
    "\n",
    "        \"\"\"\n",
    "        X[self.new_feature] = X[self.feature1] / X[self.feature2]\n",
    "        return X"
   ]
  },
  {
   "cell_type": "code",
   "execution_count": 45,
   "metadata": {},
   "outputs": [],
   "source": [
    "trans = ColumnTransformer([  # define the column transformer - more or less the same as before, but dropping some columns\n",
    "    ('cat', OneHotEncoder(handle_unknown='ignore'), ['CAUSE.CATEGORY']),\n",
    "    ('scale', StandardScaler(), [\n",
    "        'CUSTOMERS.AFFECTED', 'TOTAL.SALES', 'POPDEN_UC',\n",
    "        'POPPCT_UC', 'PC.REALGSP.CHANGE', 'likely_loss',\n",
    "        'weather'\n",
    "        ])],\n",
    "        remainder='drop'\n",
    "    )\n",
    "\n",
    "new_pipe = Pipeline([\n",
    "    ('impute', CustomImputer()), # use the custom imputer first\n",
    "    ('make_weather', FeatureMultiplier('ANOMALY.LEVEL', 'PCT_WATER_INLAND', 'weather')),\n",
    "    ('make_pop', FeatureDivider('CUSTOMERS.AFFECTED', 'POPULATION', 'prop_customers')),\n",
    "    ('make_loss', FeatureMultiplier('prop_customers', 'TOTAL.SALES', 'likely_loss')),  # create new features\n",
    "    ('trans', trans), # transform the data\n",
    "    ('fill_final', KNNImputer()),  # fill the nans\n",
    "    ('model', RandomForestRegressor())\n",
    "])"
   ]
  },
  {
   "cell_type": "markdown",
   "metadata": {},
   "source": [
    "Now we will tune the same hyperparameters as before, since those are the most effective for the RandomForestRegressor. Again, we will tune with only a few patameters, and optimize one getting an idea for how good these are"
   ]
  },
  {
   "cell_type": "code",
   "execution_count": 76,
   "metadata": {},
   "outputs": [
    {
     "data": {
      "text/plain": [
       "0.20367325521121793"
      ]
     },
     "execution_count": 76,
     "metadata": {},
     "output_type": "execute_result"
    }
   ],
   "source": [
    "params = {\n",
    "    'model__n_estimators': [30, 40, 50, 60, 70, 80, 90, 100],\n",
    "    'model__max_depth': [10, 20, 30, 40, 50, 60, 70, 80]\n",
    "}\n",
    "\n",
    "grid = GridSearchCV(new_pipe, params, cv=5, scoring='r2')\n",
    "grid.fit(X_train, y_train)\n",
    "grid.score(X_test, y_test)"
   ]
  },
  {
   "cell_type": "code",
   "execution_count": 71,
   "metadata": {},
   "outputs": [
    {
     "data": {
      "text/plain": [
       "{'model__max_depth': 10, 'model__n_estimators': 70}"
      ]
     },
     "execution_count": 71,
     "metadata": {},
     "output_type": "execute_result"
    }
   ],
   "source": [
    "grid.best_params_"
   ]
  },
  {
   "cell_type": "code",
   "execution_count": 49,
   "metadata": {},
   "outputs": [
    {
     "name": "stderr",
     "output_type": "stream",
     "text": [
      "/Users/martinhawks/miniconda3/envs/dsc80/lib/python3.8/site-packages/pandas/core/indexing.py:1773: SettingWithCopyWarning:\n",
      "\n",
      "\n",
      "A value is trying to be set on a copy of a slice from a DataFrame.\n",
      "Try using .loc[row_indexer,col_indexer] = value instead\n",
      "\n",
      "See the caveats in the documentation: https://pandas.pydata.org/pandas-docs/stable/user_guide/indexing.html#returning-a-view-versus-a-copy\n",
      "\n",
      "/var/folders/v7/nxggzv_j5s936v9rvl85gh2w0000gn/T/ipykernel_4381/1746629757.py:64: SettingWithCopyWarning:\n",
      "\n",
      "\n",
      "A value is trying to be set on a copy of a slice from a DataFrame.\n",
      "Try using .loc[row_indexer,col_indexer] = value instead\n",
      "\n",
      "See the caveats in the documentation: https://pandas.pydata.org/pandas-docs/stable/user_guide/indexing.html#returning-a-view-versus-a-copy\n",
      "\n",
      "/var/folders/v7/nxggzv_j5s936v9rvl85gh2w0000gn/T/ipykernel_4381/3391565793.py:63: SettingWithCopyWarning:\n",
      "\n",
      "\n",
      "A value is trying to be set on a copy of a slice from a DataFrame.\n",
      "Try using .loc[row_indexer,col_indexer] = value instead\n",
      "\n",
      "See the caveats in the documentation: https://pandas.pydata.org/pandas-docs/stable/user_guide/indexing.html#returning-a-view-versus-a-copy\n",
      "\n"
     ]
    },
    {
     "data": {
      "text/html": [
       "<style>#sk-container-id-1 {color: black;background-color: white;}#sk-container-id-1 pre{padding: 0;}#sk-container-id-1 div.sk-toggleable {background-color: white;}#sk-container-id-1 label.sk-toggleable__label {cursor: pointer;display: block;width: 100%;margin-bottom: 0;padding: 0.3em;box-sizing: border-box;text-align: center;}#sk-container-id-1 label.sk-toggleable__label-arrow:before {content: \"▸\";float: left;margin-right: 0.25em;color: #696969;}#sk-container-id-1 label.sk-toggleable__label-arrow:hover:before {color: black;}#sk-container-id-1 div.sk-estimator:hover label.sk-toggleable__label-arrow:before {color: black;}#sk-container-id-1 div.sk-toggleable__content {max-height: 0;max-width: 0;overflow: hidden;text-align: left;background-color: #f0f8ff;}#sk-container-id-1 div.sk-toggleable__content pre {margin: 0.2em;color: black;border-radius: 0.25em;background-color: #f0f8ff;}#sk-container-id-1 input.sk-toggleable__control:checked~div.sk-toggleable__content {max-height: 200px;max-width: 100%;overflow: auto;}#sk-container-id-1 input.sk-toggleable__control:checked~label.sk-toggleable__label-arrow:before {content: \"▾\";}#sk-container-id-1 div.sk-estimator input.sk-toggleable__control:checked~label.sk-toggleable__label {background-color: #d4ebff;}#sk-container-id-1 div.sk-label input.sk-toggleable__control:checked~label.sk-toggleable__label {background-color: #d4ebff;}#sk-container-id-1 input.sk-hidden--visually {border: 0;clip: rect(1px 1px 1px 1px);clip: rect(1px, 1px, 1px, 1px);height: 1px;margin: -1px;overflow: hidden;padding: 0;position: absolute;width: 1px;}#sk-container-id-1 div.sk-estimator {font-family: monospace;background-color: #f0f8ff;border: 1px dotted black;border-radius: 0.25em;box-sizing: border-box;margin-bottom: 0.5em;}#sk-container-id-1 div.sk-estimator:hover {background-color: #d4ebff;}#sk-container-id-1 div.sk-parallel-item::after {content: \"\";width: 100%;border-bottom: 1px solid gray;flex-grow: 1;}#sk-container-id-1 div.sk-label:hover label.sk-toggleable__label {background-color: #d4ebff;}#sk-container-id-1 div.sk-serial::before {content: \"\";position: absolute;border-left: 1px solid gray;box-sizing: border-box;top: 0;bottom: 0;left: 50%;z-index: 0;}#sk-container-id-1 div.sk-serial {display: flex;flex-direction: column;align-items: center;background-color: white;padding-right: 0.2em;padding-left: 0.2em;position: relative;}#sk-container-id-1 div.sk-item {position: relative;z-index: 1;}#sk-container-id-1 div.sk-parallel {display: flex;align-items: stretch;justify-content: center;background-color: white;position: relative;}#sk-container-id-1 div.sk-item::before, #sk-container-id-1 div.sk-parallel-item::before {content: \"\";position: absolute;border-left: 1px solid gray;box-sizing: border-box;top: 0;bottom: 0;left: 50%;z-index: -1;}#sk-container-id-1 div.sk-parallel-item {display: flex;flex-direction: column;z-index: 1;position: relative;background-color: white;}#sk-container-id-1 div.sk-parallel-item:first-child::after {align-self: flex-end;width: 50%;}#sk-container-id-1 div.sk-parallel-item:last-child::after {align-self: flex-start;width: 50%;}#sk-container-id-1 div.sk-parallel-item:only-child::after {width: 0;}#sk-container-id-1 div.sk-dashed-wrapped {border: 1px dashed gray;margin: 0 0.4em 0.5em 0.4em;box-sizing: border-box;padding-bottom: 0.4em;background-color: white;}#sk-container-id-1 div.sk-label label {font-family: monospace;font-weight: bold;display: inline-block;line-height: 1.2em;}#sk-container-id-1 div.sk-label-container {text-align: center;}#sk-container-id-1 div.sk-container {/* jupyter's `normalize.less` sets `[hidden] { display: none; }` but bootstrap.min.css set `[hidden] { display: none !important; }` so we also need the `!important` here to be able to override the default hidden behavior on the sphinx rendered scikit-learn.org. See: https://github.com/scikit-learn/scikit-learn/issues/21755 */display: inline-block !important;position: relative;}#sk-container-id-1 div.sk-text-repr-fallback {display: none;}</style><div id=\"sk-container-id-1\" class=\"sk-top-container\"><div class=\"sk-text-repr-fallback\"><pre>Pipeline(steps=[(&#x27;impute&#x27;, CustomImputer()),\n",
       "                (&#x27;make_weather&#x27;,\n",
       "                 FeatureMultiplier(feature1=&#x27;ANOMALY.LEVEL&#x27;,\n",
       "                                   feature2=&#x27;PCT_WATER_INLAND&#x27;,\n",
       "                                   new_feature=&#x27;weather&#x27;)),\n",
       "                (&#x27;make_pop&#x27;,\n",
       "                 FeatureDivider(feature1=&#x27;CUSTOMERS.AFFECTED&#x27;,\n",
       "                                feature2=&#x27;POPULATION&#x27;,\n",
       "                                new_feature=&#x27;prop_customers&#x27;)),\n",
       "                (&#x27;make_loss&#x27;,\n",
       "                 FeatureMultiplier(feature1=&#x27;prop_customers&#x27;,\n",
       "                                   feature2=&#x27;TOTAL.SALES&#x27;,\n",
       "                                   new_fe...=&#x27;likely_loss&#x27;)),\n",
       "                (&#x27;trans&#x27;,\n",
       "                 ColumnTransformer(transformers=[(&#x27;cat&#x27;,\n",
       "                                                  OneHotEncoder(handle_unknown=&#x27;ignore&#x27;),\n",
       "                                                  [&#x27;CAUSE.CATEGORY&#x27;]),\n",
       "                                                 (&#x27;scale&#x27;, StandardScaler(),\n",
       "                                                  [&#x27;CUSTOMERS.AFFECTED&#x27;,\n",
       "                                                   &#x27;TOTAL.SALES&#x27;, &#x27;POPDEN_UC&#x27;,\n",
       "                                                   &#x27;POPPCT_UC&#x27;,\n",
       "                                                   &#x27;PC.REALGSP.CHANGE&#x27;,\n",
       "                                                   &#x27;likely_loss&#x27;,\n",
       "                                                   &#x27;weather&#x27;])])),\n",
       "                (&#x27;fill_final&#x27;, KNNImputer()),\n",
       "                (&#x27;model&#x27;,\n",
       "                 RandomForestRegressor(max_depth=49, n_estimators=59))])</pre><b>In a Jupyter environment, please rerun this cell to show the HTML representation or trust the notebook. <br />On GitHub, the HTML representation is unable to render, please try loading this page with nbviewer.org.</b></div><div class=\"sk-container\" hidden><div class=\"sk-item sk-dashed-wrapped\"><div class=\"sk-label-container\"><div class=\"sk-label sk-toggleable\"><input class=\"sk-toggleable__control sk-hidden--visually\" id=\"sk-estimator-id-1\" type=\"checkbox\" ><label for=\"sk-estimator-id-1\" class=\"sk-toggleable__label sk-toggleable__label-arrow\">Pipeline</label><div class=\"sk-toggleable__content\"><pre>Pipeline(steps=[(&#x27;impute&#x27;, CustomImputer()),\n",
       "                (&#x27;make_weather&#x27;,\n",
       "                 FeatureMultiplier(feature1=&#x27;ANOMALY.LEVEL&#x27;,\n",
       "                                   feature2=&#x27;PCT_WATER_INLAND&#x27;,\n",
       "                                   new_feature=&#x27;weather&#x27;)),\n",
       "                (&#x27;make_pop&#x27;,\n",
       "                 FeatureDivider(feature1=&#x27;CUSTOMERS.AFFECTED&#x27;,\n",
       "                                feature2=&#x27;POPULATION&#x27;,\n",
       "                                new_feature=&#x27;prop_customers&#x27;)),\n",
       "                (&#x27;make_loss&#x27;,\n",
       "                 FeatureMultiplier(feature1=&#x27;prop_customers&#x27;,\n",
       "                                   feature2=&#x27;TOTAL.SALES&#x27;,\n",
       "                                   new_fe...=&#x27;likely_loss&#x27;)),\n",
       "                (&#x27;trans&#x27;,\n",
       "                 ColumnTransformer(transformers=[(&#x27;cat&#x27;,\n",
       "                                                  OneHotEncoder(handle_unknown=&#x27;ignore&#x27;),\n",
       "                                                  [&#x27;CAUSE.CATEGORY&#x27;]),\n",
       "                                                 (&#x27;scale&#x27;, StandardScaler(),\n",
       "                                                  [&#x27;CUSTOMERS.AFFECTED&#x27;,\n",
       "                                                   &#x27;TOTAL.SALES&#x27;, &#x27;POPDEN_UC&#x27;,\n",
       "                                                   &#x27;POPPCT_UC&#x27;,\n",
       "                                                   &#x27;PC.REALGSP.CHANGE&#x27;,\n",
       "                                                   &#x27;likely_loss&#x27;,\n",
       "                                                   &#x27;weather&#x27;])])),\n",
       "                (&#x27;fill_final&#x27;, KNNImputer()),\n",
       "                (&#x27;model&#x27;,\n",
       "                 RandomForestRegressor(max_depth=49, n_estimators=59))])</pre></div></div></div><div class=\"sk-serial\"><div class=\"sk-item\"><div class=\"sk-estimator sk-toggleable\"><input class=\"sk-toggleable__control sk-hidden--visually\" id=\"sk-estimator-id-2\" type=\"checkbox\" ><label for=\"sk-estimator-id-2\" class=\"sk-toggleable__label sk-toggleable__label-arrow\">CustomImputer</label><div class=\"sk-toggleable__content\"><pre>CustomImputer()</pre></div></div></div><div class=\"sk-item\"><div class=\"sk-estimator sk-toggleable\"><input class=\"sk-toggleable__control sk-hidden--visually\" id=\"sk-estimator-id-3\" type=\"checkbox\" ><label for=\"sk-estimator-id-3\" class=\"sk-toggleable__label sk-toggleable__label-arrow\">FeatureMultiplier</label><div class=\"sk-toggleable__content\"><pre>FeatureMultiplier(feature1=&#x27;ANOMALY.LEVEL&#x27;, feature2=&#x27;PCT_WATER_INLAND&#x27;,\n",
       "                  new_feature=&#x27;weather&#x27;)</pre></div></div></div><div class=\"sk-item\"><div class=\"sk-estimator sk-toggleable\"><input class=\"sk-toggleable__control sk-hidden--visually\" id=\"sk-estimator-id-4\" type=\"checkbox\" ><label for=\"sk-estimator-id-4\" class=\"sk-toggleable__label sk-toggleable__label-arrow\">FeatureDivider</label><div class=\"sk-toggleable__content\"><pre>FeatureDivider(feature1=&#x27;CUSTOMERS.AFFECTED&#x27;, feature2=&#x27;POPULATION&#x27;,\n",
       "               new_feature=&#x27;prop_customers&#x27;)</pre></div></div></div><div class=\"sk-item\"><div class=\"sk-estimator sk-toggleable\"><input class=\"sk-toggleable__control sk-hidden--visually\" id=\"sk-estimator-id-5\" type=\"checkbox\" ><label for=\"sk-estimator-id-5\" class=\"sk-toggleable__label sk-toggleable__label-arrow\">FeatureMultiplier</label><div class=\"sk-toggleable__content\"><pre>FeatureMultiplier(feature1=&#x27;prop_customers&#x27;, feature2=&#x27;TOTAL.SALES&#x27;,\n",
       "                  new_feature=&#x27;likely_loss&#x27;)</pre></div></div></div><div class=\"sk-item sk-dashed-wrapped\"><div class=\"sk-label-container\"><div class=\"sk-label sk-toggleable\"><input class=\"sk-toggleable__control sk-hidden--visually\" id=\"sk-estimator-id-6\" type=\"checkbox\" ><label for=\"sk-estimator-id-6\" class=\"sk-toggleable__label sk-toggleable__label-arrow\">trans: ColumnTransformer</label><div class=\"sk-toggleable__content\"><pre>ColumnTransformer(transformers=[(&#x27;cat&#x27;, OneHotEncoder(handle_unknown=&#x27;ignore&#x27;),\n",
       "                                 [&#x27;CAUSE.CATEGORY&#x27;]),\n",
       "                                (&#x27;scale&#x27;, StandardScaler(),\n",
       "                                 [&#x27;CUSTOMERS.AFFECTED&#x27;, &#x27;TOTAL.SALES&#x27;,\n",
       "                                  &#x27;POPDEN_UC&#x27;, &#x27;POPPCT_UC&#x27;, &#x27;PC.REALGSP.CHANGE&#x27;,\n",
       "                                  &#x27;likely_loss&#x27;, &#x27;weather&#x27;])])</pre></div></div></div><div class=\"sk-parallel\"><div class=\"sk-parallel-item\"><div class=\"sk-item\"><div class=\"sk-label-container\"><div class=\"sk-label sk-toggleable\"><input class=\"sk-toggleable__control sk-hidden--visually\" id=\"sk-estimator-id-7\" type=\"checkbox\" ><label for=\"sk-estimator-id-7\" class=\"sk-toggleable__label sk-toggleable__label-arrow\">cat</label><div class=\"sk-toggleable__content\"><pre>[&#x27;CAUSE.CATEGORY&#x27;]</pre></div></div></div><div class=\"sk-serial\"><div class=\"sk-item\"><div class=\"sk-estimator sk-toggleable\"><input class=\"sk-toggleable__control sk-hidden--visually\" id=\"sk-estimator-id-8\" type=\"checkbox\" ><label for=\"sk-estimator-id-8\" class=\"sk-toggleable__label sk-toggleable__label-arrow\">OneHotEncoder</label><div class=\"sk-toggleable__content\"><pre>OneHotEncoder(handle_unknown=&#x27;ignore&#x27;)</pre></div></div></div></div></div></div><div class=\"sk-parallel-item\"><div class=\"sk-item\"><div class=\"sk-label-container\"><div class=\"sk-label sk-toggleable\"><input class=\"sk-toggleable__control sk-hidden--visually\" id=\"sk-estimator-id-9\" type=\"checkbox\" ><label for=\"sk-estimator-id-9\" class=\"sk-toggleable__label sk-toggleable__label-arrow\">scale</label><div class=\"sk-toggleable__content\"><pre>[&#x27;CUSTOMERS.AFFECTED&#x27;, &#x27;TOTAL.SALES&#x27;, &#x27;POPDEN_UC&#x27;, &#x27;POPPCT_UC&#x27;, &#x27;PC.REALGSP.CHANGE&#x27;, &#x27;likely_loss&#x27;, &#x27;weather&#x27;]</pre></div></div></div><div class=\"sk-serial\"><div class=\"sk-item\"><div class=\"sk-estimator sk-toggleable\"><input class=\"sk-toggleable__control sk-hidden--visually\" id=\"sk-estimator-id-10\" type=\"checkbox\" ><label for=\"sk-estimator-id-10\" class=\"sk-toggleable__label sk-toggleable__label-arrow\">StandardScaler</label><div class=\"sk-toggleable__content\"><pre>StandardScaler()</pre></div></div></div></div></div></div></div></div><div class=\"sk-item\"><div class=\"sk-estimator sk-toggleable\"><input class=\"sk-toggleable__control sk-hidden--visually\" id=\"sk-estimator-id-11\" type=\"checkbox\" ><label for=\"sk-estimator-id-11\" class=\"sk-toggleable__label sk-toggleable__label-arrow\">KNNImputer</label><div class=\"sk-toggleable__content\"><pre>KNNImputer()</pre></div></div></div><div class=\"sk-item\"><div class=\"sk-estimator sk-toggleable\"><input class=\"sk-toggleable__control sk-hidden--visually\" id=\"sk-estimator-id-12\" type=\"checkbox\" ><label for=\"sk-estimator-id-12\" class=\"sk-toggleable__label sk-toggleable__label-arrow\">RandomForestRegressor</label><div class=\"sk-toggleable__content\"><pre>RandomForestRegressor(max_depth=49, n_estimators=59)</pre></div></div></div></div></div></div></div>"
      ],
      "text/plain": [
       "Pipeline(steps=[('impute', CustomImputer()),\n",
       "                ('make_weather',\n",
       "                 FeatureMultiplier(feature1='ANOMALY.LEVEL',\n",
       "                                   feature2='PCT_WATER_INLAND',\n",
       "                                   new_feature='weather')),\n",
       "                ('make_pop',\n",
       "                 FeatureDivider(feature1='CUSTOMERS.AFFECTED',\n",
       "                                feature2='POPULATION',\n",
       "                                new_feature='prop_customers')),\n",
       "                ('make_loss',\n",
       "                 FeatureMultiplier(feature1='prop_customers',\n",
       "                                   feature2='TOTAL.SALES',\n",
       "                                   new_fe...='likely_loss')),\n",
       "                ('trans',\n",
       "                 ColumnTransformer(transformers=[('cat',\n",
       "                                                  OneHotEncoder(handle_unknown='ignore'),\n",
       "                                                  ['CAUSE.CATEGORY']),\n",
       "                                                 ('scale', StandardScaler(),\n",
       "                                                  ['CUSTOMERS.AFFECTED',\n",
       "                                                   'TOTAL.SALES', 'POPDEN_UC',\n",
       "                                                   'POPPCT_UC',\n",
       "                                                   'PC.REALGSP.CHANGE',\n",
       "                                                   'likely_loss',\n",
       "                                                   'weather'])])),\n",
       "                ('fill_final', KNNImputer()),\n",
       "                ('model',\n",
       "                 RandomForestRegressor(max_depth=49, n_estimators=59))])"
      ]
     },
     "execution_count": 49,
     "metadata": {},
     "output_type": "execute_result"
    }
   ],
   "source": [
    "best = grid.best_estimator_\n",
    "best.fit(no_nans, no_nans['OUTAGE.DURATION'])"
   ]
  },
  {
   "cell_type": "markdown",
   "metadata": {},
   "source": [
    "Overall, an improvement, although the model is still not very effective"
   ]
  },
  {
   "cell_type": "markdown",
   "metadata": {},
   "source": [
    "## Step 8: Fairness Analysis"
   ]
  },
  {
   "cell_type": "markdown",
   "metadata": {},
   "source": [
    "For our fairness analysis, we will group by the average wealth of each region, to see if our model is less accurate for poorer regions than it is for wealthier ones. We will again group by the NERC region, since there are many states with too few data points to get an accurate result\n",
    "\n",
    "$H_0$: our model is fair, and does not have higher accuracy for any region  \n",
    "$H_1$ our model is more accurate on wealthier regions than poor ones"
   ]
  },
  {
   "cell_type": "code",
   "execution_count": 50,
   "metadata": {
    "ExecuteTime": {
     "end_time": "2019-10-31T23:36:28.666489Z",
     "start_time": "2019-10-31T23:36:28.664381Z"
    }
   },
   "outputs": [
    {
     "name": "stderr",
     "output_type": "stream",
     "text": [
      "/Users/martinhawks/miniconda3/envs/dsc80/lib/python3.8/site-packages/sklearn/metrics/_regression.py:918: UndefinedMetricWarning:\n",
      "\n",
      "R^2 score is not well-defined with less than two samples.\n",
      "\n",
      "/Users/martinhawks/miniconda3/envs/dsc80/lib/python3.8/site-packages/sklearn/metrics/_regression.py:918: UndefinedMetricWarning:\n",
      "\n",
      "R^2 score is not well-defined with less than two samples.\n",
      "\n",
      "/Users/martinhawks/miniconda3/envs/dsc80/lib/python3.8/site-packages/sklearn/metrics/_regression.py:918: UndefinedMetricWarning:\n",
      "\n",
      "R^2 score is not well-defined with less than two samples.\n",
      "\n"
     ]
    },
    {
     "data": {
      "text/plain": [
       "Power_divergenceResult(statistic=8.142026486729987, pvalue=0.5198992617480465)"
      ]
     },
     "execution_count": 50,
     "metadata": {},
     "output_type": "execute_result"
    }
   ],
   "source": [
    "def scores(df: pd.DataFrame):\n",
    "    return best.score(df, df['OUTAGE.DURATION'])\n",
    "\n",
    "grouped_scores = no_nans.groupby('NERC.REGION').apply(scores).dropna()\n",
    "stats.chisquare(grouped_scores)\n"
   ]
  },
  {
   "cell_type": "markdown",
   "metadata": {},
   "source": [
    "Given the outcome of our test, we will fail to reject the null hypothesis, and determine that our model is reletively fair accross all of the regions"
   ]
  },
  {
   "cell_type": "code",
   "execution_count": 57,
   "metadata": {},
   "outputs": [
    {
     "name": "stdout",
     "output_type": "stream",
     "text": [
      "|   OBS |   YEAR | outageStart         | outageEnd           |\n",
      "|------:|-------:|:--------------------|:--------------------|\n",
      "|     1 |   2011 | 2011-07-01 17:00:00 | 2011-07-03 20:00:00 |\n",
      "|     2 |   2014 | 2014-05-11 18:38:00 | 2014-05-11 18:39:00 |\n",
      "|     3 |   2010 | 2010-10-26 20:00:00 | 2010-10-28 22:00:00 |\n",
      "|     4 |   2012 | 2012-06-19 04:30:00 | 2012-06-20 23:00:00 |\n",
      "|     5 |   2015 | 2015-07-18 02:00:00 | 2015-07-19 07:00:00 |\n"
     ]
    }
   ],
   "source": [
    "print(formated_data[['OBS', 'YEAR', 'outageStart', 'outageEnd', '']].head().to_markdown(index=False))"
   ]
  },
  {
   "cell_type": "code",
   "execution_count": 64,
   "metadata": {},
   "outputs": [],
   "source": [
    "univar = px.bar(capita, x=capita.index, y=capita.values, title='Outages per Capita')\n",
    "univar.update_traces(marker_color='rgb(191,96,109)')\n",
    "univar.write_html('univar.html', include_plotlyjs='cdn')"
   ]
  },
  {
   "cell_type": "code",
   "execution_count": 65,
   "metadata": {},
   "outputs": [],
   "source": [
    "bivar = px.scatter(weather_year, x=weather_year.index, y='OBS', title='Severe Weather Outages by Year')\n",
    "bivar.update_traces(marker_color='rgb(191,96,109)')\n",
    "bivar.write_html('bivar.html', include_plotlyjs='cdn')"
   ]
  },
  {
   "cell_type": "code",
   "execution_count": 79,
   "metadata": {},
   "outputs": [
    {
     "name": "stdout",
     "output_type": "stream",
     "text": [
      "|   ANOMALY.LEVEL |    0.0 |      1.0 |\n",
      "|----------------:|-------:|---------:|\n",
      "|            -1.3 |    0   | nan      |\n",
      "|            -1.1 | 1040   | nan      |\n",
      "|            -1   |    0   | nan      |\n",
      "|            -0.9 |    1.4 | nan      |\n",
      "|            -0.8 |    0   | nan      |\n",
      "|            -0.7 |    0   | nan      |\n",
      "|            -0.6 |    0   | nan      |\n",
      "|            -0.5 |    0   | 728.333  |\n",
      "|            -0.4 |    0.2 | 157.5    |\n",
      "|            -0.3 |    0   |  18.3333 |\n",
      "|            -0.1 |    0   | nan      |\n",
      "|             0.1 |  nan   |   0      |\n",
      "|             0.3 |    0   |   0      |\n",
      "|             0.6 |  nan   |  12      |\n",
      "|             0.8 |  nan   |   0      |\n",
      "|             1.6 |    0   | nan      |\n",
      "|             2.3 |  nan   |   0      |\n"
     ]
    }
   ],
   "source": [
    "print(low_durs.pivot_table(columns='OUTAGE.DURATION', index='ANOMALY.LEVEL', values='DEMAND.LOSS.MW').to_markdown())"
   ]
  },
  {
   "cell_type": "code",
   "execution_count": 66,
   "metadata": {},
   "outputs": [],
   "source": [
    "missing_plt = px.scatter(gsp_postal_missing, x='TOTAL.REALGSP', y='Missing_prop', title='Missing Demand Loss by Real GSP')\n",
    "missing_plt.update_traces(marker_color='rgb(191,96,109)')\n",
    "missing_plt.write_html('missing.html', include_plotlyjs='cdn')"
   ]
  },
  {
   "cell_type": "code",
   "execution_count": 69,
   "metadata": {},
   "outputs": [],
   "source": [
    "hypo_fig.update_traces(marker_color='rgb(191,96,109)')\n",
    "hypo_fig.write_html('hypo.html', include_plotlyjs='cdn')"
   ]
  },
  {
   "cell_type": "code",
   "execution_count": null,
   "metadata": {},
   "outputs": [],
   "source": []
  }
 ],
 "metadata": {
  "kernelspec": {
   "display_name": "Python 3 (ipykernel)",
   "language": "python",
   "name": "python3"
  },
  "language_info": {
   "codemirror_mode": {
    "name": "ipython",
    "version": 3
   },
   "file_extension": ".py",
   "mimetype": "text/x-python",
   "name": "python",
   "nbconvert_exporter": "python",
   "pygments_lexer": "ipython3",
   "version": "3.8.16"
  }
 },
 "nbformat": 4,
 "nbformat_minor": 2
}
